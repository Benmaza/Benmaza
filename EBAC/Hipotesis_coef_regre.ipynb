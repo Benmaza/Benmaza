{
 "cells": [
  {
   "cell_type": "code",
   "execution_count": 1,
   "id": "9d339518",
   "metadata": {},
   "outputs": [],
   "source": [
    "import pandas as pd\n",
    "import numpy as np\n",
    "import warnings\n",
    "warnings.filterwarnings(\"ignore\")"
   ]
  },
  {
   "cell_type": "code",
   "execution_count": 15,
   "id": "fc002dbe",
   "metadata": {},
   "outputs": [
    {
     "name": "stdout",
     "output_type": "stream",
     "text": [
      "[[-1. ]\n",
      " [ 0.5]\n",
      " [ 0.5]\n",
      " [-0. ]\n",
      " [-0. ]]\n"
     ]
    }
   ],
   "source": [
    "import numpy as np\n",
    "\n",
    "np.set_printoptions(suppress=True, precision=4)  # Muestra sin notación científica y con 4 decimales\n",
    "print(residuals)"
   ]
  },
  {
   "cell_type": "markdown",
   "id": "195fb440",
   "metadata": {},
   "source": [
    "Nota: Para este ejemplo asumiremos que los datos de entrenamiento son sobre los que trabajaremos"
   ]
  },
  {
   "cell_type": "code",
   "execution_count": 6,
   "id": "abf32e59",
   "metadata": {},
   "outputs": [
    {
     "data": {
      "text/plain": [
       "array([[3],\n",
       "       [1],\n",
       "       [8],\n",
       "       [3],\n",
       "       [5]])"
      ]
     },
     "execution_count": 6,
     "metadata": {},
     "output_type": "execute_result"
    }
   ],
   "source": [
    "Y = np.array([[3], [1], [8], [3], [5]])\n",
    "Y"
   ]
  },
  {
   "cell_type": "code",
   "execution_count": 7,
   "id": "0072eae3",
   "metadata": {},
   "outputs": [
    {
     "data": {
      "text/plain": [
       "array([[1, 3, 5],\n",
       "       [1, 1, 4],\n",
       "       [1, 5, 6],\n",
       "       [1, 2, 4],\n",
       "       [1, 4, 6]])"
      ]
     },
     "execution_count": 7,
     "metadata": {},
     "output_type": "execute_result"
    }
   ],
   "source": [
    "X = np.array ([[1,3,5], [1,1,4],[1,5,6], [1,2,4], [1,4,6]])\n",
    "X"
   ]
  },
  {
   "cell_type": "code",
   "execution_count": 8,
   "id": "dc0d3285",
   "metadata": {},
   "outputs": [
    {
     "data": {
      "text/plain": [
       "array([[  5,  15,  25],\n",
       "       [ 15,  55,  81],\n",
       "       [ 25,  81, 129]])"
      ]
     },
     "execution_count": 8,
     "metadata": {},
     "output_type": "execute_result"
    }
   ],
   "source": [
    "XT_X = np.matmul(np.matrix.transpose(X), X)\n",
    "XT_X"
   ]
  },
  {
   "cell_type": "code",
   "execution_count": 10,
   "id": "17297355",
   "metadata": {},
   "outputs": [
    {
     "data": {
      "text/plain": [
       "array([[26.7,  4.5, -8. ],\n",
       "       [ 4.5,  1. , -1.5],\n",
       "       [-8. , -1.5,  2.5]])"
      ]
     },
     "execution_count": 10,
     "metadata": {},
     "output_type": "execute_result"
    }
   ],
   "source": [
    "XT_X_inv = np.linalg.inv(XT_X)\n",
    "XT_X_inv"
   ]
  },
  {
   "cell_type": "code",
   "execution_count": 11,
   "id": "606ba101",
   "metadata": {},
   "outputs": [
    {
     "data": {
      "text/plain": [
       "array([[ 20],\n",
       "       [ 76],\n",
       "       [109]])"
      ]
     },
     "execution_count": 11,
     "metadata": {},
     "output_type": "execute_result"
    }
   ],
   "source": [
    "XT_Y = np.matmul(np.matrix.transpose(X), Y)\n",
    "XT_Y"
   ]
  },
  {
   "cell_type": "code",
   "execution_count": 12,
   "id": "f66b9eaf",
   "metadata": {},
   "outputs": [
    {
     "data": {
      "text/plain": [
       "array([[ 4. ],\n",
       "       [ 2.5],\n",
       "       [-1.5]])"
      ]
     },
     "execution_count": 12,
     "metadata": {},
     "output_type": "execute_result"
    }
   ],
   "source": [
    "betas = np.matmul(XT_X_inv, XT_Y)\n",
    "betas"
   ]
  },
  {
   "cell_type": "code",
   "execution_count": null,
   "id": "91de35a5",
   "metadata": {},
   "outputs": [
    {
     "data": {
      "text/plain": [
       "array([[4. ],\n",
       "       [0.5],\n",
       "       [7.5],\n",
       "       [3. ],\n",
       "       [5. ]])"
      ]
     },
     "execution_count": 13,
     "metadata": {},
     "output_type": "execute_result"
    }
   ],
   "source": [
    "# Calculo para los pronosticos para Y de acuerdo a los coeficientes de regresión\n",
    "y_pred = np.matmul(X, betas)\n",
    "y_pred"
   ]
  },
  {
   "cell_type": "code",
   "execution_count": 16,
   "id": "4bf5e103",
   "metadata": {},
   "outputs": [
    {
     "data": {
      "text/plain": [
       "array([[-1. ],\n",
       "       [ 0.5],\n",
       "       [ 0.5],\n",
       "       [-0. ],\n",
       "       [-0. ]])"
      ]
     },
     "execution_count": 16,
     "metadata": {},
     "output_type": "execute_result"
    }
   ],
   "source": [
    "# calculo de los residuos\n",
    "residuals = Y - y_pred\n",
    "residuals"
   ]
  },
  {
   "cell_type": "code",
   "execution_count": 18,
   "id": "f13cbacc",
   "metadata": {},
   "outputs": [
    {
     "data": {
      "text/plain": [
       "1.4999999999999991"
      ]
     },
     "execution_count": 18,
     "metadata": {},
     "output_type": "execute_result"
    }
   ],
   "source": [
    "#calculo de la suma de los residuos al cuadrado\n",
    "RSS = float(np.matmul(np.matrix.transpose(residuals), residuals))\n",
    "RSS"
   ]
  },
  {
   "cell_type": "code",
   "execution_count": 19,
   "id": "8b329046",
   "metadata": {},
   "outputs": [
    {
     "data": {
      "text/plain": [
       "28.0"
      ]
     },
     "execution_count": 19,
     "metadata": {},
     "output_type": "execute_result"
    }
   ],
   "source": [
    "# calculo de la suma de los cuadrados totales\n",
    "TSS = float(np.matmul(np.matrix.transpose(Y - np.mean(Y)), Y - np.mean(Y)))\n",
    "TSS"
   ]
  },
  {
   "cell_type": "code",
   "execution_count": 20,
   "id": "043d332f",
   "metadata": {},
   "outputs": [
    {
     "data": {
      "text/plain": [
       "0.9464285714285715"
      ]
     },
     "execution_count": 20,
     "metadata": {},
     "output_type": "execute_result"
    }
   ],
   "source": [
    "# calculo del coeficiente de determinación R^2\n",
    "R_squared = float(1 - (RSS / TSS))\n",
    "R_squared"
   ]
  },
  {
   "cell_type": "code",
   "execution_count": 22,
   "id": "eec61973",
   "metadata": {},
   "outputs": [
    {
     "data": {
      "text/plain": [
       "0.8928571428571429"
      ]
     },
     "execution_count": 22,
     "metadata": {},
     "output_type": "execute_result"
    }
   ],
   "source": [
    "# calculo de coeficiente de determinación ajustado R^2\n",
    "RsAdj = float(1 - (RSS / (X.shape[0] - X.shape[1])) / (TSS / (X.shape[0] - 1)))\n",
    "RsAdj"
   ]
  },
  {
   "cell_type": "code",
   "execution_count": 26,
   "id": "59b6a5c1",
   "metadata": {},
   "outputs": [
    {
     "data": {
      "text/plain": [
       "0.7499999999999996"
      ]
     },
     "execution_count": 26,
     "metadata": {},
     "output_type": "execute_result"
    }
   ],
   "source": [
    "# calculo de la varianza del error de regresion\n",
    "s_cuad = RSS / (len(Y) - X.shape[1])\n",
    "s_cuad"
   ]
  },
  {
   "cell_type": "code",
   "execution_count": 27,
   "id": "4aef6b43",
   "metadata": {},
   "outputs": [
    {
     "data": {
      "text/plain": [
       "0.8660254037844384"
      ]
     },
     "execution_count": 27,
     "metadata": {},
     "output_type": "execute_result"
    }
   ],
   "source": [
    "#desviación estándar del error de regresión\n",
    "import math\n",
    "s = math.sqrt(s_cuad)\n",
    "s"
   ]
  },
  {
   "cell_type": "code",
   "execution_count": null,
   "id": "299e0f0f",
   "metadata": {},
   "outputs": [
    {
     "data": {
      "text/plain": [
       "[0.893868697538675, 2.8867513459481344, -1.0954451150103264]"
      ]
     },
     "execution_count": 29,
     "metadata": {},
     "output_type": "execute_result"
    }
   ],
   "source": [
    "# calculo de las t´s estadísticas para coeficientes de regresión\n",
    "\n",
    "#crear ciclo para calcular las t's estadísticas\n",
    "result_t = []\n",
    "for i in range(0,X.shape[1]):\n",
    "    t = float(betas[i] / (s * math.sqrt(XT_X_inv[i] [i])))\n",
    "    result_t.append(t)\n",
    "result_t"
   ]
  },
  {
   "cell_type": "markdown",
   "id": "56ff01ea",
   "metadata": {},
   "source": [
    "Criterio 1:"
   ]
  },
  {
   "cell_type": "code",
   "execution_count": 30,
   "id": "a1134f63",
   "metadata": {},
   "outputs": [
    {
     "data": {
      "text/plain": [
       "np.float64(4.302652729696144)"
      ]
     },
     "execution_count": 30,
     "metadata": {},
     "output_type": "execute_result"
    }
   ],
   "source": [
    "# obtener valor critico de t de la tablas\n",
    "import scipy.stats\n",
    "\n",
    "grados_libertad = len(Y) - X.shape[1]\n",
    "t_critico = abs(scipy.stats.t.ppf(q=0.025,df= grados_libertad))# 95% de confianza\n",
    "t_critico"
   ]
  },
  {
   "cell_type": "code",
   "execution_count": 33,
   "id": "cb5c107c",
   "metadata": {},
   "outputs": [
    {
     "name": "stdout",
     "output_type": "stream",
     "text": [
      "Beta 1 no es significativo\n",
      "Beta 2 no es significativo\n",
      "Beta 3 no es significativo\n"
     ]
    }
   ],
   "source": [
    "for i in range(0, X.shape[1]):\n",
    "    if abs(result_t[i]) > t_critico:\n",
    "        print(f\"Beta {i+1} es significativo\") # aqui se rechaza la hipótesis nula\n",
    "    else:\n",
    "        print(f\"Beta {i+1} no es significativo\") # aqui no se rechaza la hipótesis nula"
   ]
  },
  {
   "cell_type": "markdown",
   "id": "d30f2a83",
   "metadata": {},
   "source": [
    "Criterio 2"
   ]
  },
  {
   "cell_type": "code",
   "execution_count": 34,
   "id": "55088ebe",
   "metadata": {},
   "outputs": [
    {
     "name": "stdout",
     "output_type": "stream",
     "text": [
      "Valor p de Beta 0 : 0.4657159826085253\n",
      "Valor p de Beta 1 : 0.10197348986612516\n",
      "Valor p de Beta 2 : 0.38762756430420753\n"
     ]
    }
   ],
   "source": [
    "# calculo de valores de p para las t's estadísticas\n",
    "\n",
    "for i  in range(0, X.shape[1]):\n",
    "    print(\"Valor p de Beta\", i,\":\", scipy.stats.t.sf(abs(result_t[i]), df=grados_libertad) * 2)  # multiplicamos por 2 para obtener el valor p de dos colas"
   ]
  },
  {
   "cell_type": "markdown",
   "id": "a8c63d5c",
   "metadata": {},
   "source": [
    "Si manejamos un nivel alfa del 5%, en niguno de los casos el valor p es menor al 5%, por lo que no podemos rechazar H0"
   ]
  },
  {
   "cell_type": "markdown",
   "id": "b0df85aa",
   "metadata": {},
   "source": [
    "Criterio 3"
   ]
  },
  {
   "cell_type": "code",
   "execution_count": 35,
   "id": "833a0b48",
   "metadata": {},
   "outputs": [
    {
     "name": "stdout",
     "output_type": "stream",
     "text": [
      "El valor de Beta 0 se encuentra entre: -15.25407049846963 y 23.254070498469808\n",
      "El valor de Beta 1 se encuentra entre: -1.226206567579316 y 6.226206567579329\n",
      "El valor de Beta 2 se encuentra entre: -7.39164989291438 y 4.391649892914396\n"
     ]
    }
   ],
   "source": [
    "# calculo de intervalos de confianza del 95% para el verdadero valor de los coeficientes de regresión\n",
    "\n",
    "for i in range(0, X.shape[1]):\n",
    "    print(\"El valor de Beta\", i, \"se encuentra entre:\", float(betas[i]) - t_critico * s * math.sqrt(XT_X_inv[i][i]),\n",
    "          \"y\", float(betas[i]) + t_critico * s * math.sqrt(XT_X_inv[i][i]))"
   ]
  },
  {
   "cell_type": "markdown",
   "id": "6e3f904d",
   "metadata": {},
   "source": [
    "Conclusion: Ninguna de las variables regresoras (independientes) es significativamente diferente de cero"
   ]
  },
  {
   "cell_type": "code",
   "execution_count": 37,
   "id": "481092e3",
   "metadata": {},
   "outputs": [
    {
     "name": "stdout",
     "output_type": "stream",
     "text": [
      "                            OLS Regression Results                            \n",
      "==============================================================================\n",
      "Dep. Variable:                      y   R-squared:                       0.946\n",
      "Model:                            OLS   Adj. R-squared:                  0.893\n",
      "Method:                 Least Squares   F-statistic:                     17.67\n",
      "Date:                Mon, 23 Jun 2025   Prob (F-statistic):             0.0536\n",
      "Time:                        18:15:25   Log-Likelihood:                -4.0848\n",
      "No. Observations:                   5   AIC:                             14.17\n",
      "Df Residuals:                       2   BIC:                             13.00\n",
      "Df Model:                           2                                         \n",
      "Covariance Type:            nonrobust                                         \n",
      "==============================================================================\n",
      "                 coef    std err          t      P>|t|      [0.025      0.975]\n",
      "------------------------------------------------------------------------------\n",
      "const          4.0000      4.475      0.894      0.466     -15.254      23.254\n",
      "x1             2.5000      0.866      2.887      0.102      -1.226       6.226\n",
      "x2            -1.5000      1.369     -1.095      0.388      -7.392       4.392\n",
      "==============================================================================\n",
      "Omnibus:                          nan   Durbin-Watson:                   1.667\n",
      "Prob(Omnibus):                    nan   Jarque-Bera (JB):                0.747\n",
      "Skew:                          -0.913   Prob(JB):                        0.688\n",
      "Kurtosis:                       2.500   Cond. No.                         74.5\n",
      "==============================================================================\n",
      "\n",
      "Notes:\n",
      "[1] Standard Errors assume that the covariance matrix of the errors is correctly specified.\n"
     ]
    },
    {
     "name": "stderr",
     "output_type": "stream",
     "text": [
      "d:\\Github\\Benmaza-1\\Benmaza\\Lib\\site-packages\\statsmodels\\stats\\stattools.py:74: ValueWarning: omni_normtest is not valid with less than 8 observations; 5 samples were given.\n",
      "  warn(\"omni_normtest is not valid with less than 8 observations; %i \"\n"
     ]
    }
   ],
   "source": [
    "# Comparación de resultados contra reporte automatizado de statsmodels\n",
    "import statsmodels.api as sm\n",
    "\n",
    "regresor =sm.OLS(Y, X).fit()\n",
    "print(regresor.summary())"
   ]
  },
  {
   "cell_type": "code",
   "execution_count": 40,
   "id": "eff1ac16",
   "metadata": {},
   "outputs": [
    {
     "data": {
      "application/vnd.microsoft.datawrangler.viewer.v0+json": {
       "columns": [
        {
         "name": "index",
         "rawType": "int64",
         "type": "integer"
        },
        {
         "name": "1",
         "rawType": "float64",
         "type": "float"
        },
        {
         "name": "2",
         "rawType": "float64",
         "type": "float"
        }
       ],
       "ref": "392fd90b-92f1-4e90-b27e-7ab1f908327a",
       "rows": [
        [
         "1",
         "1.0",
         "0.9486832980505138"
        ],
        [
         "2",
         "0.9486832980505138",
         "1.0"
        ]
       ],
       "shape": {
        "columns": 2,
        "rows": 2
       }
      },
      "text/html": [
       "<div>\n",
       "<style scoped>\n",
       "    .dataframe tbody tr th:only-of-type {\n",
       "        vertical-align: middle;\n",
       "    }\n",
       "\n",
       "    .dataframe tbody tr th {\n",
       "        vertical-align: top;\n",
       "    }\n",
       "\n",
       "    .dataframe thead th {\n",
       "        text-align: right;\n",
       "    }\n",
       "</style>\n",
       "<table border=\"1\" class=\"dataframe\">\n",
       "  <thead>\n",
       "    <tr style=\"text-align: right;\">\n",
       "      <th></th>\n",
       "      <th>1</th>\n",
       "      <th>2</th>\n",
       "    </tr>\n",
       "  </thead>\n",
       "  <tbody>\n",
       "    <tr>\n",
       "      <th>1</th>\n",
       "      <td>1.000000</td>\n",
       "      <td>0.948683</td>\n",
       "    </tr>\n",
       "    <tr>\n",
       "      <th>2</th>\n",
       "      <td>0.948683</td>\n",
       "      <td>1.000000</td>\n",
       "    </tr>\n",
       "  </tbody>\n",
       "</table>\n",
       "</div>"
      ],
      "text/plain": [
       "          1         2\n",
       "1  1.000000  0.948683\n",
       "2  0.948683  1.000000"
      ]
     },
     "execution_count": 40,
     "metadata": {},
     "output_type": "execute_result"
    }
   ],
   "source": [
    "# variable para realizar dataframe y realizar correlacion\n",
    "\n",
    "data =pd.DataFrame(X)\n",
    "data2 = data.iloc[:,1:3]\n",
    "data2.corr()"
   ]
  },
  {
   "cell_type": "code",
   "execution_count": null,
   "id": "d1ca1d07",
   "metadata": {},
   "outputs": [
    {
     "data": {
      "text/plain": [
       "array([[1, 3],\n",
       "       [1, 1],\n",
       "       [1, 5],\n",
       "       [1, 2],\n",
       "       [1, 4]])"
      ]
     },
     "execution_count": 41,
     "metadata": {},
     "output_type": "execute_result"
    }
   ],
   "source": [
    "# Eliminación de una columna de la matriz X\n",
    "X_nueva = np.delete(X, 2, 1) \n",
    "X_nueva"
   ]
  },
  {
   "cell_type": "code",
   "execution_count": 42,
   "id": "ce963d34",
   "metadata": {},
   "outputs": [
    {
     "name": "stdout",
     "output_type": "stream",
     "text": [
      "                            OLS Regression Results                            \n",
      "==============================================================================\n",
      "Dep. Variable:                      y   R-squared:                       0.914\n",
      "Model:                            OLS   Adj. R-squared:                  0.886\n",
      "Method:                 Least Squares   F-statistic:                     32.00\n",
      "Date:              lun., 23 jun. 2025   Prob (F-statistic):             0.0109\n",
      "Time:                        18:31:24   Log-Likelihood:                -5.2598\n",
      "No. Observations:                   5   AIC:                             14.52\n",
      "Df Residuals:                       3   BIC:                             13.74\n",
      "Df Model:                           1                                         \n",
      "Covariance Type:            nonrobust                                         \n",
      "==============================================================================\n",
      "                 coef    std err          t      P>|t|      [0.025      0.975]\n",
      "------------------------------------------------------------------------------\n",
      "const         -0.8000      0.938     -0.853      0.456      -3.785       2.185\n",
      "x1             1.6000      0.283      5.657      0.011       0.700       2.500\n",
      "==============================================================================\n",
      "Omnibus:                          nan   Durbin-Watson:                   1.367\n",
      "Prob(Omnibus):                    nan   Jarque-Bera (JB):                0.570\n",
      "Skew:                          -0.289   Prob(JB):                        0.752\n",
      "Kurtosis:                       1.450   Cond. No.                         8.37\n",
      "==============================================================================\n",
      "\n",
      "Notes:\n",
      "[1] Standard Errors assume that the covariance matrix of the errors is correctly specified.\n"
     ]
    },
    {
     "name": "stderr",
     "output_type": "stream",
     "text": [
      "d:\\Github\\Benmaza-1\\Benmaza\\Lib\\site-packages\\statsmodels\\stats\\stattools.py:74: ValueWarning: omni_normtest is not valid with less than 8 observations; 5 samples were given.\n",
      "  warn(\"omni_normtest is not valid with less than 8 observations; %i \"\n"
     ]
    }
   ],
   "source": [
    "regresor = sm.OLS(Y, X_nueva).fit()\n",
    "print(regresor.summary())"
   ]
  },
  {
   "cell_type": "code",
   "execution_count": null,
   "id": "f8a15cd7",
   "metadata": {},
   "outputs": [],
   "source": [
    "i"
   ]
  }
 ],
 "metadata": {
  "kernelspec": {
   "display_name": "Benmaza",
   "language": "python",
   "name": "python3"
  },
  "language_info": {
   "codemirror_mode": {
    "name": "ipython",
    "version": 3
   },
   "file_extension": ".py",
   "mimetype": "text/x-python",
   "name": "python",
   "nbconvert_exporter": "python",
   "pygments_lexer": "ipython3",
   "version": "3.13.0"
  }
 },
 "nbformat": 4,
 "nbformat_minor": 5
}
