{
 "cells": [
  {
   "cell_type": "code",
   "execution_count": 1,
   "metadata": {},
   "outputs": [
    {
     "name": "stdout",
     "output_type": "stream",
     "text": [
      "[1, 8, 27, 64, 125]\n"
     ]
    }
   ],
   "source": [
    "org_list = [1, 2, 3, 4, 5]\n",
    "fin_list=[]\n",
    "\n",
    "for num in org_list:\n",
    "    fin_list.append(num**3)\n",
    "    \n",
    "print(fin_list)"
   ]
  },
  {
   "cell_type": "code",
   "execution_count": 2,
   "metadata": {},
   "outputs": [
    {
     "name": "stdout",
     "output_type": "stream",
     "text": [
      "[1, 8, 27, 64, 125]\n"
     ]
    }
   ],
   "source": [
    "# mismo ejemplo exponencial usando map()\n",
    "\n",
    "def cube(num):\n",
    "    return num**3\n",
    "\n",
    "fin_list = (list(map(cube, org_list)))\n",
    "print(fin_list)"
   ]
  },
  {
   "cell_type": "code",
   "execution_count": 3,
   "metadata": {},
   "outputs": [
    {
     "name": "stdout",
     "output_type": "stream",
     "text": [
      "[[4, 5, 6]]\n"
     ]
    }
   ],
   "source": [
    "org_list= [\"Hola\", \"Mundo\", \"Python\"]\n",
    "fin_list=[list(map(len, org_list))] # map() devuelve un objeto map, por eso se necesita convertirlo a lista\n",
    "print(fin_list)"
   ]
  },
  {
   "cell_type": "code",
   "execution_count": 6,
   "metadata": {},
   "outputs": [
    {
     "name": "stdout",
     "output_type": "stream",
     "text": [
      "[10, 100, 1000, 10000]\n"
     ]
    }
   ],
   "source": [
    "base = [10,10,10,10]\n",
    "power = [1,2,3,4,]\n",
    "\n",
    "result = list(map(pow, base, power))\n",
    "print(result)"
   ]
  },
  {
   "cell_type": "code",
   "execution_count": 9,
   "metadata": {},
   "outputs": [
    {
     "name": "stdout",
     "output_type": "stream",
     "text": [
      "[1, 8, 27, 64, 125]\n"
     ]
    }
   ],
   "source": [
    "# ejemplo con lambda\n",
    "# se reduce el código a una sola línea\n",
    "\n",
    "org_list = [1,2,3,4,5]\n",
    "print (list(map(lambda num: num**3, org_list)))"
   ]
  },
  {
   "cell_type": "code",
   "execution_count": 12,
   "metadata": {},
   "outputs": [
    {
     "name": "stdout",
     "output_type": "stream",
     "text": [
      "[2, 4, 6, 8, 10]\n",
      "[2, 4, 6, 8, 10]\n"
     ]
    }
   ],
   "source": [
    "def adition(a,b):\n",
    "    return a+b\n",
    "\n",
    "numbers1 = [1,2,3,4,5]\n",
    "result = list(map(lambda a,b: a+b, numbers1, numbers1))\n",
    "print(result)\n",
    "\n",
    "#se puede reducir aún más el código\n",
    "numbers1 = [1,2,3,4,5]\n",
    "print(list(map(lambda a,b: a+b, numbers1, numbers1)))\n",
    "      "
   ]
  },
  {
   "cell_type": "code",
   "execution_count": 14,
   "metadata": {},
   "outputs": [
    {
     "name": "stdout",
     "output_type": "stream",
     "text": [
      "[5, 7, 9]\n"
     ]
    }
   ],
   "source": [
    "#ejemplo para sumar dos listas\n",
    "numbers1 = [1,2,3]\n",
    "numbers2 = [4,5,6]\n",
    "print(list(map(lambda a,b: a+b, numbers1, numbers2)))\n",
    "      "
   ]
  },
  {
   "cell_type": "code",
   "execution_count": 15,
   "metadata": {},
   "outputs": [
    {
     "name": "stdout",
     "output_type": "stream",
     "text": [
      "[['s', 'a', 't'], ['b', 'a', 't'], ['c', 'a', 't'], ['m', 'a', 't']]\n"
     ]
    }
   ],
   "source": [
    "# ejemplo de caracteres en una lista\n",
    "# imprime una lista desglosada por caracteres\n",
    "\n",
    "l=('sat', 'bat', 'cat', 'mat')\n",
    "print(list(map(list, l)))\n"
   ]
  }
 ],
 "metadata": {
  "kernelspec": {
   "display_name": "Python 3",
   "language": "python",
   "name": "python3"
  },
  "language_info": {
   "codemirror_mode": {
    "name": "ipython",
    "version": 3
   },
   "file_extension": ".py",
   "mimetype": "text/x-python",
   "name": "python",
   "nbconvert_exporter": "python",
   "pygments_lexer": "ipython3",
   "version": "3.12.2"
  }
 },
 "nbformat": 4,
 "nbformat_minor": 2
}
