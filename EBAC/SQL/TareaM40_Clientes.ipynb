{
 "cells": [
  {
   "cell_type": "code",
   "execution_count": 10,
   "metadata": {},
   "outputs": [],
   "source": [
    "import sqlite3\n",
    "import pandas as pd"
   ]
  },
  {
   "cell_type": "code",
   "execution_count": 16,
   "metadata": {},
   "outputs": [
    {
     "data": {
      "text/plain": [
       "<sqlite3.Connection at 0x233c6ebe7a0>"
      ]
     },
     "execution_count": 16,
     "metadata": {},
     "output_type": "execute_result"
    }
   ],
   "source": [
    "conn = sqlite3.connect('Clientes.db')\n",
    "conn"
   ]
  },
  {
   "cell_type": "code",
   "execution_count": 17,
   "metadata": {},
   "outputs": [],
   "source": [
    "conn.cursor()\n",
    "cur = conn.cursor()"
   ]
  },
  {
   "cell_type": "code",
   "execution_count": null,
   "metadata": {},
   "outputs": [
    {
     "data": {
      "text/plain": [
       "<sqlite3.Cursor at 0x233c5ed0940>"
      ]
     },
     "execution_count": 9,
     "metadata": {},
     "output_type": "execute_result"
    }
   ],
   "source": [
    "# Crear la tabla de clientes\n",
    "cur.execute(\"\"\"\n",
    "            CREATE TABLE clientes (\n",
    "                CustomerID INTEGER PRIMARY KEY AUTOINCREMENT,\n",
    "                CustomerName TEXT NOT NULL,\n",
    "                ContactName TEXT,\n",
    "                Address TEXT,\n",
    "                City TEXT,\n",
    "                PostalCode TEXT,\n",
    "                Country TEXT\n",
    "            );\n",
    "\"\"\")"
   ]
  },
  {
   "cell_type": "code",
   "execution_count": 11,
   "metadata": {},
   "outputs": [
    {
     "data": {
      "text/html": [
       "<div>\n",
       "<style scoped>\n",
       "    .dataframe tbody tr th:only-of-type {\n",
       "        vertical-align: middle;\n",
       "    }\n",
       "\n",
       "    .dataframe tbody tr th {\n",
       "        vertical-align: top;\n",
       "    }\n",
       "\n",
       "    .dataframe thead th {\n",
       "        text-align: right;\n",
       "    }\n",
       "</style>\n",
       "<table border=\"1\" class=\"dataframe\">\n",
       "  <thead>\n",
       "    <tr style=\"text-align: right;\">\n",
       "      <th></th>\n",
       "      <th>CustomerID</th>\n",
       "      <th>CustomerName</th>\n",
       "      <th>ContactName</th>\n",
       "      <th>Address</th>\n",
       "      <th>City</th>\n",
       "      <th>PostalCode</th>\n",
       "      <th>Country</th>\n",
       "      <th>PurchaseUSD</th>\n",
       "    </tr>\n",
       "  </thead>\n",
       "  <tbody>\n",
       "    <tr>\n",
       "      <th>0</th>\n",
       "      <td>1</td>\n",
       "      <td>Alfreds Futterkiste</td>\n",
       "      <td>Maria Anders</td>\n",
       "      <td>Obere Str. 57</td>\n",
       "      <td>Berlin</td>\n",
       "      <td>12209</td>\n",
       "      <td>Germany</td>\n",
       "      <td>14861</td>\n",
       "    </tr>\n",
       "    <tr>\n",
       "      <th>1</th>\n",
       "      <td>2</td>\n",
       "      <td>Ana Trujillo Emparedados y helados</td>\n",
       "      <td>Ana Trujillo</td>\n",
       "      <td>Avda. de la Constituci?n 2222</td>\n",
       "      <td>M?xico D.F.</td>\n",
       "      <td>5021</td>\n",
       "      <td>Mexico</td>\n",
       "      <td>9900</td>\n",
       "    </tr>\n",
       "    <tr>\n",
       "      <th>2</th>\n",
       "      <td>3</td>\n",
       "      <td>Antonio Moreno Taquer?a</td>\n",
       "      <td>Antonio Moreno</td>\n",
       "      <td>Mataderos 2312</td>\n",
       "      <td>M?xico D.F.</td>\n",
       "      <td>5023</td>\n",
       "      <td>Mexico</td>\n",
       "      <td>7735</td>\n",
       "    </tr>\n",
       "    <tr>\n",
       "      <th>3</th>\n",
       "      <td>4</td>\n",
       "      <td>Around the Horn</td>\n",
       "      <td>Thomas Hardy</td>\n",
       "      <td>120 Hanover Sq.</td>\n",
       "      <td>London</td>\n",
       "      <td>WA1 1DP</td>\n",
       "      <td>UK</td>\n",
       "      <td>10295</td>\n",
       "    </tr>\n",
       "    <tr>\n",
       "      <th>4</th>\n",
       "      <td>5</td>\n",
       "      <td>Berglunds snabbk?p</td>\n",
       "      <td>Christina Berglund</td>\n",
       "      <td>Berguvsv?gen 8</td>\n",
       "      <td>Lule?</td>\n",
       "      <td>S-958 22</td>\n",
       "      <td>Sweden</td>\n",
       "      <td>6755</td>\n",
       "    </tr>\n",
       "  </tbody>\n",
       "</table>\n",
       "</div>"
      ],
      "text/plain": [
       "   CustomerID                        CustomerName         ContactName  \\\n",
       "0           1                 Alfreds Futterkiste        Maria Anders   \n",
       "1           2  Ana Trujillo Emparedados y helados        Ana Trujillo   \n",
       "2           3             Antonio Moreno Taquer?a      Antonio Moreno   \n",
       "3           4                     Around the Horn        Thomas Hardy   \n",
       "4           5                  Berglunds snabbk?p  Christina Berglund   \n",
       "\n",
       "                         Address         City PostalCode  Country  PurchaseUSD  \n",
       "0                  Obere Str. 57       Berlin      12209  Germany        14861  \n",
       "1  Avda. de la Constituci?n 2222  M?xico D.F.       5021   Mexico         9900  \n",
       "2                 Mataderos 2312  M?xico D.F.       5023   Mexico         7735  \n",
       "3                120 Hanover Sq.       London    WA1 1DP       UK        10295  \n",
       "4                 Berguvsv?gen 8        Lule?   S-958 22   Sweden         6755  "
      ]
     },
     "execution_count": 11,
     "metadata": {},
     "output_type": "execute_result"
    }
   ],
   "source": [
    "# Leer el archivo Csv\n",
    "df = pd.read_csv('datos_clientes.csv')\n",
    "df.head()"
   ]
  },
  {
   "cell_type": "code",
   "execution_count": 12,
   "metadata": {},
   "outputs": [],
   "source": [
    "# Insertar los datos en la tabla de clientes\n",
    "for index, row in df.iterrows():\n",
    "    cur.execute(\"\"\"\n",
    "                INSERT INTO clientes (CustomerName, ContactName, Address, City, PostalCode, Country) \n",
    "                VALUES (?, ?, ?, ?, ?, ?)\"\"\",\n",
    "                (row['CustomerName'], row['ContactName'], row['Address'], row['City'], row['PostalCode'], row['Country']))\n",
    "# Realizar commit\n",
    "conn.commit()              \n"
   ]
  },
  {
   "cell_type": "code",
   "execution_count": 18,
   "metadata": {},
   "outputs": [
    {
     "name": "stdout",
     "output_type": "stream",
     "text": [
      "(1, 'Alfreds Futterkiste', 'Maria Anders', 'Obere Str. 57', 'Berlin', '12209', 'Germany')\n",
      "(2, 'Ana Trujillo Emparedados y helados', 'Ana Trujillo', 'Avda. de la Constituci?n 2222', 'M?xico D.F.', '5021', 'Mexico')\n",
      "(3, 'Antonio Moreno Taquer?a', 'Antonio Moreno', 'Mataderos 2312', 'M?xico D.F.', '5023', 'Mexico')\n",
      "(4, 'Around the Horn', 'Thomas Hardy', '120 Hanover Sq.', 'London', 'WA1 1DP', 'UK')\n",
      "(5, 'Berglunds snabbk?p', 'Christina Berglund', 'Berguvsv?gen 8', 'Lule?', 'S-958 22', 'Sweden')\n",
      "(6, 'Blauer See Delikatessen', 'Hanna Moos', 'Forsterstr. 57', 'Mannheim', '68306', 'Germany')\n",
      "(7, 'Blondel p?re et fils', 'Fr?d?rique Citeaux', '24, place Kl?ber', 'Strasbourg', '67000', 'France')\n",
      "(8, 'B?lido Comidas preparadas', 'Mart?n Sommer', 'C/ Araquil, 67', 'Madrid', '28023', 'Spain')\n",
      "(9, \"Bon app'\", 'Laurence Lebihans', '12, rue des Bouchers', 'Marseille', '13008', 'France')\n",
      "(10, 'Bottom-Dollar Marketse', 'Elizabeth Lincoln', '23 Tsawassen Blvd.', 'Tsawassen', 'T2F 8M4', 'Canada')\n",
      "(11, \"B's Beverages\", 'Victoria Ashworth', 'Fauntleroy Circus', 'London', 'EC2 5NT', 'UK')\n",
      "(12, 'Cactus Comidas para llevar', 'Patricio Simpson', 'Cerrito 333', 'Buenos Aires', '1010', 'Argentina')\n",
      "(13, 'Centro comercial Moctezuma', 'Francisco Chang', 'Sierras de Granada 9993', 'M?xico D.F.', '5022', 'Mexico')\n",
      "(14, 'Chop-suey Chinese', 'Yang Wang', 'Hauptstr. 29', 'Bern', '3012', 'Switzerland')\n",
      "(15, 'Com?rcio Mineiro', 'Pedro Afonso', 'Av. dos Lus?adas, 23', 'S?o Paulo', '05432-043', 'Brazil')\n",
      "(16, 'Consolidated Holdings', 'Elizabeth Brown', 'Berkeley Gardens 12 Brewery', 'London', 'WX1 6LT', 'UK')\n",
      "(17, 'Drachenblut Delikatessend', 'Sven Ottlieb', 'Walserweg 21', 'Aachen', '52066', 'Germany')\n",
      "(18, 'Du monde entier', 'Janine Labrune', '67, rue des Cinquante Otages', 'Nantes', '44000', 'France')\n",
      "(19, 'Eastern Connection', 'Ann Devon', '35 King George', 'London', 'WX3 6FW', 'UK')\n",
      "(20, 'Ernst Handel', 'Roland Mendel', 'Kirchgasse 6', 'Graz', '8010', 'Austria')\n",
      "(21, 'Familia Arquibaldo', 'Aria Cruz', 'Rua Or?s, 92', 'S?o Paulo', '05442-030', 'Brazil')\n",
      "(22, 'FISSA Fabrica Inter. Salchichas S.A.', 'Diego Roel', 'C/ Moralzarzal, 86', 'Madrid', '28034', 'Spain')\n",
      "(23, 'Folies gourmandes', 'Martine Ranc?', '184, chauss?e de Tournai', 'Lille', '59000', 'France')\n",
      "(24, 'Folk och f? HB', 'Maria Larsson', '?kergatan 24', 'Br?cke', 'S-844 67', 'Sweden')\n",
      "(25, 'Frankenversand', 'Peter Franken', 'Berliner Platz 43', 'M?nchen', '80805', 'Germany')\n",
      "(26, 'France restauration', 'Carine Schmitt', '54, rue Royale', 'Nantes', '44000', 'France')\n",
      "(27, 'Franchi S.p.A.', 'Paolo Accorti', 'Via Monte Bianco 34', 'Torino', '10100', 'Italy')\n",
      "(28, 'Furia Bacalhau e Frutos do Mar', 'Lino Rodriguez', 'Jardim das rosas n. 32', 'Lisboa', '1675', 'Portugal')\n",
      "(29, 'Galer?a del gastr?nomo', 'Eduardo Saavedra', 'Rambla de Catalu?a, 23', 'Barcelona', '8022', 'Spain')\n",
      "(30, 'Godos Cocina T?pica', 'Jos? Pedro Freyre', 'C/ Romero, 33', 'Sevilla', '41101', 'Spain')\n",
      "(31, 'Gourmet Lanchonetes', 'Andr? Fonseca', 'Av. Brasil, 442', 'Campinas', '04876-786', 'Brazil')\n",
      "(32, 'Great Lakes Food Market', 'Howard Snyder', '2732 Baker Blvd.', 'Eugene', '97403', 'USA')\n",
      "(33, 'GROSELLA-Restaurante', 'Manuel Pereira', '5? Ave. Los Palos Grandes', 'Caracas', '1081', 'Venezuela')\n",
      "(34, 'Hanari Carnes', 'Mario Pontes', 'Rua do Pa?o, 67', 'Rio de Janeiro', '05454-876', 'Brazil')\n",
      "(35, 'HILARI?N-Abastos', 'Carlos Hern?ndez', 'Carrera 22 con Ave. Carlos Soublette #8-35', 'San Crist?bal', '5022', 'Venezuela')\n",
      "(36, 'Hungry Coyote Import Store', 'Yoshi Latimer', 'City Center Plaza 516 Main St.', 'Elgin', '97827', 'USA')\n",
      "(37, 'Hungry Owl All-Night Grocers', 'Patricia McKenna', '8 Johnstown Road', 'Cork', None, 'Ireland')\n",
      "(38, 'Island Trading', 'Helen Bennett', 'Garden House Crowther Way', 'Cowes', 'PO31 7PJ', 'UK')\n",
      "(39, 'K?niglich Essen', 'Philip Cramer', 'Maubelstr. 90', 'Brandenburg', '14776', 'Germany')\n",
      "(40, \"La corne d'abondance\", 'Daniel Tonini', \"67, avenue de l'Europe\", 'Versailles', '78000', 'France')\n",
      "(41, \"La maison d'Asie\", 'Annette Roulet', '1 rue Alsace-Lorraine', 'Toulouse', '31000', 'France')\n",
      "(42, 'Laughing Bacchus Wine Cellars', 'Yoshi Tannamuri', '1900 Oak St.', 'Vancouver', 'V3F 2K1', 'Canada')\n",
      "(43, 'Lazy K Kountry Store', 'John Steel', '12 Orchestra Terrace', 'Walla Walla', '99362', 'USA')\n",
      "(44, 'Lehmanns Marktstand', 'Renate Messner', 'Magazinweg 7', 'Frankfurt a.M.', '60528', 'Germany')\n",
      "(45, \"Let's Stop N Shop\", 'Jaime Yorres', '87 Polk St. Suite 5', 'San Francisco', '94117', 'USA')\n",
      "(46, 'LILA-Supermercado', 'Carlos Gonz?lez', 'Carrera 52 con Ave. Bol?var #65-98 Llano Largo', 'Barquisimeto', '3508', 'Venezuela')\n",
      "(47, 'LINO-Delicateses', 'Felipe Izquierdo', 'Ave. 5 de Mayo Porlamar', 'I. de Margarita', '4980', 'Venezuela')\n",
      "(48, 'Lonesome Pine Restaurant', 'Fran Wilson', '89 Chiaroscuro Rd.', 'Portland', '97219', 'USA')\n",
      "(49, 'Magazzini Alimentari Riuniti', 'Giovanni Rovelli', 'Via Ludovico il Moro 22', 'Bergamo', '24100', 'Italy')\n",
      "(50, 'Maison Dewey', 'Catherine Dewey', 'Rue Joseph-Bens 532', 'Bruxelles', 'B-1180', 'Belgium')\n",
      "(51, 'M?re Paillarde', 'Jean Fresni?re', '43 rue St. Laurent', 'Montr?al', 'H1J 1C3', 'Canada')\n",
      "(52, 'Morgenstern Gesundkost', 'Alexander Feuer', 'Heerstr. 22', 'Leipzig', '4179', 'Germany')\n",
      "(53, 'North/South', 'Simon Crowther', 'South House 300 Queensbridge', 'London', 'SW7 1RZ', 'UK')\n",
      "(54, 'Oc?ano Atl?ntico Ltda.', 'Yvonne Moncada', 'Ing. Gustavo Moncada 8585 Piso 20-A', 'Buenos Aires', '1010', 'Argentina')\n",
      "(55, 'Old World Delicatessen', 'Rene Phillips', '2743 Bering St.', 'Anchorage', '99508', 'USA')\n",
      "(56, 'Ottilies K?seladen', 'Henriette Pfalzheim', 'Mehrheimerstr. 369', 'K?ln', '50739', 'Germany')\n",
      "(57, 'Paris sp?cialit?s', 'Marie Bertrand', '265, boulevard Charonne', 'Paris', '75012', 'France')\n",
      "(58, 'Pericles Comidas cl?sicas', 'Guillermo Fern?ndez', 'Calle Dr. Jorge Cash 321', 'M?xico D.F.', '5033', 'Mexico')\n",
      "(59, 'Piccolo und mehr', 'Georg Pipps', 'Geislweg 14', 'Salzburg', '5020', 'Austria')\n",
      "(60, 'Princesa Isabel Vinhoss', 'Isabel de Castro', 'Estrada da sa?de n. 58', 'Lisboa', '1756', 'Portugal')\n",
      "(61, 'Que Del?cia', 'Bernardo Batista', 'Rua da Panificadora, 12', 'Rio de Janeiro', '02389-673', 'Brazil')\n",
      "(62, 'Queen Cozinha', 'L?cia Carvalho', 'Alameda dos Can?rios, 891', 'S?o Paulo', '05487-020', 'Brazil')\n",
      "(63, 'QUICK-Stop', 'Horst Kloss', 'Taucherstra?e 10', 'Cunewalde', '1307', 'Germany')\n",
      "(64, 'Rancho grande', 'Sergio Guti?rrez', 'Av. del Libertador 900', 'Buenos Aires', '1010', 'Argentina')\n",
      "(65, 'Rattlesnake Canyon Grocery', 'Paula Wilson', '2817 Milton Dr.', 'Albuquerque', '87110', 'USA')\n",
      "(66, 'Reggiani Caseifici', 'Maurizio Moroni', 'Strada Provinciale 124', 'Reggio Emilia', '42100', 'Italy')\n",
      "(67, 'Ricardo Adocicados', 'Janete Limeira', 'Av. Copacabana, 267', 'Rio de Janeiro', '02389-890', 'Brazil')\n",
      "(68, 'Richter Supermarkt', 'Michael Holz', 'Grenzacherweg 237', 'Gen?ve', '1203', 'Switzerland')\n",
      "(69, 'Romero y tomillo', 'Alejandra Camino', 'Gran V?a, 1', 'Madrid', '28001', 'Spain')\n",
      "(70, 'Sant? Gourmet', 'Jonas Bergulfsen', 'Erling Skakkes gate 78', 'Stavern', '4110', 'Norway')\n",
      "(71, 'Save-a-lot Markets', 'Jose Pavarotti', '187 Suffolk Ln.', 'Boise', '83720', 'USA')\n",
      "(72, 'Seven Seas Imports', 'Hari Kumar', '90 Wadhurst Rd.', 'London', 'OX15 4NB', 'UK')\n",
      "(73, 'Simons bistro', 'Jytte Petersen', 'Vinb?ltet 34', 'K?benhavn', '1734', 'Denmark')\n",
      "(74, 'Sp?cialit?s du monde', 'Dominique Perrier', '25, rue Lauriston', 'Paris', '75016', 'France')\n",
      "(75, 'Split Rail Beer & Ale', 'Art Braunschweiger', 'P.O. Box 555', 'Lander', '82520', 'USA')\n",
      "(76, 'Supr?mes d?lices', 'Pascale Cartrain', 'Boulevard Tirou, 255', 'Charleroi', 'B-6000', 'Belgium')\n",
      "(77, 'The Big Cheese', 'Liz Nixon', '89 Jefferson Way Suite 2', 'Portland', '97201', 'USA')\n",
      "(78, 'The Cracker Box', 'Liu Wong', '55 Grizzly Peak Rd.', 'Butte', '59801', 'USA')\n",
      "(79, 'Toms Spezialit?ten', 'Karin Josephs', 'Luisenstr. 48', 'M?nster', '44087', 'Germany')\n",
      "(80, 'Tortuga Restaurante', 'Miguel Angel Paolino', 'Avda. Azteca 123', 'M?xico D.F.', '5033', 'Mexico')\n",
      "(81, 'Tradi??o Hipermercados', 'Anabela Domingues', 'Av. In?s de Castro, 414', 'S?o Paulo', '05634-030', 'Brazil')\n",
      "(82, \"Trail's Head Gourmet Provisioners\", 'Helvetius Nagy', '722 DaVinci Blvd.', 'Kirkland', '98034', 'USA')\n",
      "(83, 'Vaffeljernet', 'Palle Ibsen', 'Smagsl?get 45', '?rhus', '8200', 'Denmark')\n",
      "(84, 'Victuailles en stock', 'Mary Saveley', '2, rue du Commerce', 'Lyon', '69004', 'France')\n",
      "(85, 'Vins et alcools Chevalier', 'Paul Henriot', \"59 rue de l'Abbaye\", 'Reims', '51100', 'France')\n",
      "(86, 'Die Wandernde Kuh', 'Rita M?ller', 'Adenauerallee 900', 'Stuttgart', '70563', 'Germany')\n",
      "(87, 'Wartian Herkku', 'Pirkko Koskitalo', 'Torikatu 38', 'Oulu', '90110', 'Finland')\n",
      "(88, 'Wellington Importadora', 'Paula Parente', 'Rua do Mercado, 12', 'Resende', '08737-363', 'Brazil')\n",
      "(89, 'White Clover Markets', 'Karl Jablonski', '305 - 14th Ave. S. Suite 3B', 'Seattle', '98128', 'USA')\n",
      "(90, 'Wilman Kala', 'Matti Karttunen', 'Keskuskatu 45', 'Helsinki', '21240', 'Finland')\n",
      "(91, 'Wolski', 'Zbyszek', 'ul. Filtrowa 68', 'Walla', '01-012', 'Poland')\n"
     ]
    }
   ],
   "source": [
    "# Consultar los datos de la tabla de clientes\n",
    "cur.execute(\"SELECT * FROM clientes\")\n",
    "# Mostrar los datos\n",
    "rows = cur.fetchall()\n",
    "for row in rows:\n",
    "    print(row)"
   ]
  },
  {
   "cell_type": "code",
   "execution_count": 15,
   "metadata": {},
   "outputs": [],
   "source": [
    "# Cerrar la conexión\n",
    "conn.close()"
   ]
  },
  {
   "cell_type": "code",
   "execution_count": 19,
   "metadata": {},
   "outputs": [
    {
     "data": {
      "text/plain": [
       "[(1,\n",
       "  'Alfreds Futterkiste',\n",
       "  'Maria Anders',\n",
       "  'Obere Str. 57',\n",
       "  'Berlin',\n",
       "  '12209',\n",
       "  'Germany'),\n",
       " (2,\n",
       "  'Ana Trujillo Emparedados y helados',\n",
       "  'Ana Trujillo',\n",
       "  'Avda. de la Constituci?n 2222',\n",
       "  'M?xico D.F.',\n",
       "  '5021',\n",
       "  'Mexico'),\n",
       " (3,\n",
       "  'Antonio Moreno Taquer?a',\n",
       "  'Antonio Moreno',\n",
       "  'Mataderos 2312',\n",
       "  'M?xico D.F.',\n",
       "  '5023',\n",
       "  'Mexico'),\n",
       " (4,\n",
       "  'Around the Horn',\n",
       "  'Thomas Hardy',\n",
       "  '120 Hanover Sq.',\n",
       "  'London',\n",
       "  'WA1 1DP',\n",
       "  'UK'),\n",
       " (5,\n",
       "  'Berglunds snabbk?p',\n",
       "  'Christina Berglund',\n",
       "  'Berguvsv?gen 8',\n",
       "  'Lule?',\n",
       "  'S-958 22',\n",
       "  'Sweden')]"
      ]
     },
     "execution_count": 19,
     "metadata": {},
     "output_type": "execute_result"
    }
   ],
   "source": [
    "# Consultar los 5 primeros clientes de la base de datos\n",
    "conn.execute(\"SELECT * FROM clientes LIMIT 5;\").fetchall()"
   ]
  },
  {
   "cell_type": "code",
   "execution_count": 20,
   "metadata": {},
   "outputs": [],
   "source": [
    "# Vaciar la informacion en un archivo\n",
    "_file = open('operaciones.sql', 'w')\n",
    "for line in conn.iterdump():\n",
    "    _file.write(f'{line}\\n')\n",
    "_file.close()"
   ]
  }
 ],
 "metadata": {
  "kernelspec": {
   "display_name": "Benmaza",
   "language": "python",
   "name": "python3"
  },
  "language_info": {
   "codemirror_mode": {
    "name": "ipython",
    "version": 3
   },
   "file_extension": ".py",
   "mimetype": "text/x-python",
   "name": "python",
   "nbconvert_exporter": "python",
   "pygments_lexer": "ipython3",
   "version": "3.13.2"
  }
 },
 "nbformat": 4,
 "nbformat_minor": 2
}
