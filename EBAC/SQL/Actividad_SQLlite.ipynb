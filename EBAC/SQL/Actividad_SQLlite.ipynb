{
 "cells": [
  {
   "cell_type": "code",
   "execution_count": 1,
   "metadata": {},
   "outputs": [],
   "source": [
    "import sqlite3"
   ]
  },
  {
   "cell_type": "code",
   "execution_count": 2,
   "metadata": {},
   "outputs": [
    {
     "data": {
      "text/plain": [
       "module"
      ]
     },
     "execution_count": 2,
     "metadata": {},
     "output_type": "execute_result"
    }
   ],
   "source": [
    "type (sqlite3)"
   ]
  },
  {
   "cell_type": "code",
   "execution_count": 2,
   "metadata": {},
   "outputs": [],
   "source": [
    "# Create a connection to the database\n",
    "\n",
    "conn = sqlite3.connect('first.db')"
   ]
  },
  {
   "cell_type": "code",
   "execution_count": 3,
   "metadata": {},
   "outputs": [
    {
     "data": {
      "text/plain": [
       "<sqlite3.Connection at 0x27785487e20>"
      ]
     },
     "execution_count": 3,
     "metadata": {},
     "output_type": "execute_result"
    }
   ],
   "source": [
    "# Test the connection\n",
    "conn"
   ]
  },
  {
   "cell_type": "code",
   "execution_count": 4,
   "metadata": {},
   "outputs": [
    {
     "data": {
      "text/plain": [
       "<sqlite3.Cursor at 0x27785687dc0>"
      ]
     },
     "execution_count": 4,
     "metadata": {},
     "output_type": "execute_result"
    }
   ],
   "source": [
    "# Create a cursor object\n",
    "conn.cursor()"
   ]
  },
  {
   "cell_type": "code",
   "execution_count": 5,
   "metadata": {},
   "outputs": [],
   "source": [
    "# \n",
    "cur = conn.cursor()"
   ]
  },
  {
   "cell_type": "code",
   "execution_count": null,
   "metadata": {},
   "outputs": [
    {
     "data": {
      "text/plain": [
       "<sqlite3.Cursor at 0x19e749d2040>"
      ]
     },
     "execution_count": 7,
     "metadata": {},
     "output_type": "execute_result"
    }
   ],
   "source": [
    "# Create a table in the database\n",
    "cur.execute (\"\"\"\n",
    "    CREATE TABLE ice_cream_flavors (\n",
    "        Id INTEGER PRIMARY KEY,\n",
    "        Flavor TEXT,\n",
    "        Rating INTEGER\n",
    "           );\n",
    "\"\"\")"
   ]
  },
  {
   "cell_type": "code",
   "execution_count": 9,
   "metadata": {},
   "outputs": [],
   "source": [
    "# Insert data into the table\n",
    "cur.execute(\"\"\"\n",
    "    INSERT INTO ice_cream_flavors (Flavor, Rating)\n",
    "    VALUES ('Chocolate', 10),\n",
    "           ('Vanilla', 7),\n",
    "           ('Strawberry', 8.2);\n",
    "\"\"\")\n",
    "# Commit the transaction\n",
    "conn.commit()"
   ]
  },
  {
   "cell_type": "code",
   "execution_count": 6,
   "metadata": {},
   "outputs": [
    {
     "data": {
      "text/plain": [
       "<sqlite3.Cursor at 0x27785686e40>"
      ]
     },
     "execution_count": 6,
     "metadata": {},
     "output_type": "execute_result"
    }
   ],
   "source": [
    "# Query the database\n",
    "cur.execute(\"SELECT * FROM ice_cream_flavors\")"
   ]
  },
  {
   "cell_type": "code",
   "execution_count": 7,
   "metadata": {},
   "outputs": [
    {
     "data": {
      "text/plain": [
       "[(2, 'Vanilla', 7),\n",
       " (3, 'Strawberry', 8.2),\n",
       " (4, 'Arcoiris', 9),\n",
       " (5, 'Banana', 7.4),\n",
       " (6, 'Napolinato', 5.4)]"
      ]
     },
     "execution_count": 7,
     "metadata": {},
     "output_type": "execute_result"
    }
   ],
   "source": [
    "# Fetch the results one at a time\n",
    "cur.fetchone()\n",
    "# Fetch the results all at once\n",
    "cur.fetchall()"
   ]
  },
  {
   "cell_type": "code",
   "execution_count": 14,
   "metadata": {},
   "outputs": [
    {
     "name": "stdout",
     "output_type": "stream",
     "text": [
      "(1, 'Chocolate', 10)\n",
      "(2, 'Vanilla', 7)\n",
      "(3, 'Strawberry', 8.2)\n"
     ]
    }
   ],
   "source": [
    "# Fetch the results one at a time using a for loop\n",
    "# one print statement per row\n",
    "cur.execute(\"SELECT * FROM ice_cream_flavors\")\n",
    "for row in cur:\n",
    "    print(row)\n"
   ]
  },
  {
   "cell_type": "code",
   "execution_count": 16,
   "metadata": {},
   "outputs": [
    {
     "data": {
      "text/plain": [
       "[(1, 'Chocolate', 10), (2, 'Vanilla', 7)]"
      ]
     },
     "execution_count": 16,
     "metadata": {},
     "output_type": "execute_result"
    }
   ],
   "source": [
    "# Fetch the results by limiting the number of rows\n",
    "cur.execute(\"SELECT * FROM ice_cream_flavors\")\n",
    "cur.fetchmany(2)"
   ]
  },
  {
   "cell_type": "code",
   "execution_count": null,
   "metadata": {},
   "outputs": [
    {
     "ename": "TypeError",
     "evalue": "'list' object is not callable",
     "output_type": "error",
     "traceback": [
      "\u001b[1;31m---------------------------------------------------------------------------\u001b[0m",
      "\u001b[1;31mTypeError\u001b[0m                                 Traceback (most recent call last)",
      "Cell \u001b[1;32mIn[9], line 4\u001b[0m\n\u001b[0;32m      2\u001b[0m cur\u001b[38;5;241m.\u001b[39mexecute(\u001b[38;5;124m\"\u001b[39m\u001b[38;5;124mSELECT * FROM ice_cream_flavors\u001b[39m\u001b[38;5;124m\"\u001b[39m)\n\u001b[0;32m      3\u001b[0m results \u001b[38;5;241m=\u001b[39m cur\u001b[38;5;241m.\u001b[39mfetchall()\n\u001b[1;32m----> 4\u001b[0m \u001b[43mresults\u001b[49m\u001b[43m(\u001b[49m\u001b[38;5;124;43m'\u001b[39;49m\u001b[38;5;124;43mFlavor\u001b[39;49m\u001b[38;5;124;43m'\u001b[39;49m\u001b[43m)\u001b[49m\n",
      "\u001b[1;31mTypeError\u001b[0m: 'list' object is not callable"
     ]
    }
   ],
   "source": [
    "# Example of null excecution\n",
    "cur.execute(\"SELECT * FROM ice_cream_flavors\")\n",
    "results = cur.fetchall()\n",
    "results('Flavor')"
   ]
  },
  {
   "cell_type": "code",
   "execution_count": 8,
   "metadata": {},
   "outputs": [],
   "source": [
    "cur.row_factory = lambda cursor, row: dict(zip([col[0] for col in cursor.description], row))"
   ]
  },
  {
   "cell_type": "code",
   "execution_count": 9,
   "metadata": {},
   "outputs": [
    {
     "data": {
      "text/plain": [
       "'Chocolate'"
      ]
     },
     "execution_count": 9,
     "metadata": {},
     "output_type": "execute_result"
    }
   ],
   "source": [
    "cur.execute(\"SELECT * FROM ice_cream_flavors\")\n",
    "results = cur.fetchone()\n",
    "results['Flavor']"
   ]
  },
  {
   "cell_type": "code",
   "execution_count": 10,
   "metadata": {},
   "outputs": [
    {
     "data": {
      "text/plain": [
       "10"
      ]
     },
     "execution_count": 10,
     "metadata": {},
     "output_type": "execute_result"
    }
   ],
   "source": [
    "results['Rating']"
   ]
  },
  {
   "cell_type": "code",
   "execution_count": 11,
   "metadata": {},
   "outputs": [
    {
     "data": {
      "text/plain": [
       "[{'Id': 1, 'Flavor': 'Chocolate', 'Rating': 10},\n",
       " {'Id': 2, 'Flavor': 'Vanilla', 'Rating': 7},\n",
       " {'Id': 3, 'Flavor': 'Strawberry', 'Rating': 8.2},\n",
       " {'Id': 4, 'Flavor': 'Arcoiris', 'Rating': 9},\n",
       " {'Id': 5, 'Flavor': 'Banana', 'Rating': 7.4},\n",
       " {'Id': 6, 'Flavor': 'Napolinato', 'Rating': 5.4}]"
      ]
     },
     "execution_count": 11,
     "metadata": {},
     "output_type": "execute_result"
    }
   ],
   "source": [
    "cur.execute(\"SELECT * FROM ice_cream_flavors\")\n",
    "results = cur.fetchall()\n",
    "results"
   ]
  },
  {
   "cell_type": "code",
   "execution_count": 12,
   "metadata": {},
   "outputs": [
    {
     "data": {
      "text/plain": [
       "[<sqlite3.Row at 0x2778570d0f0>,\n",
       " <sqlite3.Row at 0x2778570d1b0>,\n",
       " <sqlite3.Row at 0x2778570f6d0>,\n",
       " <sqlite3.Row at 0x2778570e350>,\n",
       " <sqlite3.Row at 0x2778570f9a0>,\n",
       " <sqlite3.Row at 0x2778570f7f0>]"
      ]
     },
     "execution_count": 12,
     "metadata": {},
     "output_type": "execute_result"
    }
   ],
   "source": [
    "# Alternitive way to fetch the results by limiting the number of rows\n",
    "cur.row_factory = sqlite3.Row\n",
    "cur.execute(\"SELECT * FROM ice_cream_flavors\")\n",
    "results = cur.fetchall()\n",
    "results"
   ]
  },
  {
   "cell_type": "code",
   "execution_count": 13,
   "metadata": {},
   "outputs": [
    {
     "name": "stdout",
     "output_type": "stream",
     "text": [
      "Chocolate\n",
      "10\n"
     ]
    }
   ],
   "source": [
    "first_row = results[0]\n",
    "print(first_row['Flavor'])\n",
    "print(first_row['Rating'])"
   ]
  },
  {
   "cell_type": "code",
   "execution_count": 14,
   "metadata": {},
   "outputs": [
    {
     "name": "stdout",
     "output_type": "stream",
     "text": [
      "Vanilla\n",
      "7\n"
     ]
    }
   ],
   "source": [
    "first_row = results[1]\n",
    "print(first_row['Flavor'])\n",
    "print(first_row['Rating'])"
   ]
  },
  {
   "cell_type": "code",
   "execution_count": 22,
   "metadata": {},
   "outputs": [],
   "source": [
    "# Insert data into the table\n",
    "cur.execute(\"\"\"\n",
    "    INSERT INTO ice_cream_flavors (Flavor, Rating)\n",
    "    VALUES ('Arcoiris', 9),\n",
    "           ('Banana', 7.4),\n",
    "           ('Napolinato', 5.4);\n",
    "\"\"\")\n",
    "# Commit the transaction\n",
    "conn.commit()"
   ]
  },
  {
   "cell_type": "code",
   "execution_count": null,
   "metadata": {},
   "outputs": [],
   "source": [
    "# rollback the transaction before commiting\n",
    "\n",
    "conn.rollback()"
   ]
  },
  {
   "cell_type": "code",
   "execution_count": null,
   "metadata": {},
   "outputs": [],
   "source": [
    "# Insert data into the table using input\n",
    "flavor = input(\"Introduzca un sabor: \")\n",
    "rating = input(\"Introduzca una calificación: \")\n",
    "cur.execute(f\"INSERT INTO ice_cream_flavors (Flavor, Rating) VALUES ('{flavor}', {rating});\")\n",
    "conn.commit()"
   ]
  },
  {
   "cell_type": "code",
   "execution_count": 16,
   "metadata": {},
   "outputs": [],
   "source": [
    "# another way to insert data into the table using input\n",
    "flavor = input(\"Introduzca un sabor: \")\n",
    "rating = input(\"Introduzca una calificación: \")\n",
    "cur.execute(f\"INSERT INTO ice_cream_flavors (Flavor, Rating) VALUES (?,?);\", (flavor, rating))\n",
    "conn.commit()"
   ]
  },
  {
   "cell_type": "code",
   "execution_count": null,
   "metadata": {},
   "outputs": [],
   "source": [
    "# another way to insert data into the table\n",
    "ice_cream_flavors = [\n",
    "    ('Chocochips', 8),\n",
    "    ('Menta',8.9)\n",
    "]"
   ]
  },
  {
   "cell_type": "code",
   "execution_count": 18,
   "metadata": {},
   "outputs": [],
   "source": [
    "cur.executemany(\"INSERT INTO ice_cream_flavors (Flavor, Rating) VALUES (?,?);\",\n",
    "                ice_cream_flavors)\n",
    "conn.commit()"
   ]
  },
  {
   "cell_type": "code",
   "execution_count": 19,
   "metadata": {},
   "outputs": [
    {
     "data": {
      "text/plain": [
       "<sqlite3.Cursor at 0x27785686e40>"
      ]
     },
     "execution_count": 19,
     "metadata": {},
     "output_type": "execute_result"
    }
   ],
   "source": [
    "# Create a table in the database using a script\n",
    "cur.executescript(\"\"\"\n",
    "                  CREATE TABLE IF NOT EXISTS toppings (\n",
    "                    Id INTEGER PRIMARY KEY,\n",
    "                    Name TEXT NOT NULL);\n",
    "                    INSERT INTO toppings (Name) VALUES ('Chocolate Syrup'),\n",
    "                    ('Sprinkles'),\n",
    "                    ('Nuts');\"\"\")"
   ]
  },
  {
   "cell_type": "code",
   "execution_count": 20,
   "metadata": {},
   "outputs": [],
   "source": [
    "conn.commit()"
   ]
  },
  {
   "cell_type": "code",
   "execution_count": 21,
   "metadata": {},
   "outputs": [
    {
     "name": "stdout",
     "output_type": "stream",
     "text": [
      "BEGIN TRANSACTION;\n",
      "CREATE TABLE ice_cream_flavors (\n",
      "        Id INTEGER PRIMARY KEY,\n",
      "        Flavor TEXT,\n",
      "        Rating INTEGER\n",
      "           );\n",
      "INSERT INTO \"ice_cream_flavors\" VALUES(1,'Chocolate',10);\n",
      "INSERT INTO \"ice_cream_flavors\" VALUES(2,'Vanilla',7);\n",
      "INSERT INTO \"ice_cream_flavors\" VALUES(3,'Strawberry',8.2);\n",
      "INSERT INTO \"ice_cream_flavors\" VALUES(4,'Arcoiris',9);\n",
      "INSERT INTO \"ice_cream_flavors\" VALUES(5,'Banana',7.4);\n",
      "INSERT INTO \"ice_cream_flavors\" VALUES(6,'Napolinato',5.4);\n",
      "INSERT INTO \"ice_cream_flavors\" VALUES(7,'cacahuate',7.8);\n",
      "INSERT INTO \"ice_cream_flavors\" VALUES(8,'Cereza',8.5);\n",
      "INSERT INTO \"ice_cream_flavors\" VALUES(9,'Chocochips',8);\n",
      "INSERT INTO \"ice_cream_flavors\" VALUES(10,'Menta',8.9);\n",
      "CREATE TABLE toppings (\n",
      "                    Id INTEGER PRIMARY KEY,\n",
      "                    Name TEXT NOT NULL);\n",
      "INSERT INTO \"toppings\" VALUES(1,'Chocolate Syrup');\n",
      "INSERT INTO \"toppings\" VALUES(2,'Sprinkles');\n",
      "INSERT INTO \"toppings\" VALUES(3,'Nuts');\n",
      "COMMIT;\n"
     ]
    }
   ],
   "source": [
    "# database dump\n",
    "for line in conn.iterdump():\n",
    "    print(line)"
   ]
  },
  {
   "cell_type": "code",
   "execution_count": null,
   "metadata": {},
   "outputs": [],
   "source": [
    "# database dump to a file\n",
    "_file = open('ice_cream_db_bump.sql', 'w')\n",
    "\n",
    "for line in conn.iterdump():\n",
    "    _file.write(f'{line}\\n')\n",
    "_file.close()"
   ]
  },
  {
   "cell_type": "code",
   "execution_count": 23,
   "metadata": {},
   "outputs": [],
   "source": [
    "# database dump to a file using with\n",
    "with open ('ice_cream_db_bump2.sql', 'w') as _file:\n",
    "    for line in conn.iterdump():\n",
    "        _file.write(f'{line}\\n')"
   ]
  },
  {
   "cell_type": "code",
   "execution_count": null,
   "metadata": {},
   "outputs": [],
   "source": [
    "# Another way to insert data into the table using with\n",
    "# Context managers\n",
    "with conn:\n",
    "    conn.execute(\"INSERT INTO ice_cream_flavors (Flavor, Rating) VALUES (?,?);\",\n",
    "                 ('Caramel',5.3))"
   ]
  },
  {
   "cell_type": "code",
   "execution_count": 25,
   "metadata": {},
   "outputs": [
    {
     "data": {
      "text/plain": [
       "[(1, 'Chocolate', 10),\n",
       " (2, 'Vanilla', 7),\n",
       " (3, 'Strawberry', 8.2),\n",
       " (4, 'Arcoiris', 9)]"
      ]
     },
     "execution_count": 25,
     "metadata": {},
     "output_type": "execute_result"
    }
   ],
   "source": [
    "conn.execute(\"SELECT * FROM ice_cream_flavors LIMIT 4;\").fetchall()"
   ]
  },
  {
   "cell_type": "code",
   "execution_count": 26,
   "metadata": {},
   "outputs": [],
   "source": [
    "# Exit the connection\n",
    "conn.close()"
   ]
  }
 ],
 "metadata": {
  "kernelspec": {
   "display_name": "Benmaza",
   "language": "python",
   "name": "python3"
  },
  "language_info": {
   "codemirror_mode": {
    "name": "ipython",
    "version": 3
   },
   "file_extension": ".py",
   "mimetype": "text/x-python",
   "name": "python",
   "nbconvert_exporter": "python",
   "pygments_lexer": "ipython3",
   "version": "3.13.2"
  }
 },
 "nbformat": 4,
 "nbformat_minor": 2
}
