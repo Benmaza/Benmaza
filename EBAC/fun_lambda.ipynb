{
 "cells": [
  {
   "cell_type": "code",
   "execution_count": 1,
   "metadata": {},
   "outputs": [
    {
     "name": "stdout",
     "output_type": "stream",
     "text": [
      "el resultado de la multiplicacion es:  5000\n"
     ]
    }
   ],
   "source": [
    "# prueba simple\n",
    "a = 100\n",
    "b = 50\n",
    "c= a*b\n",
    "print(\"el resultado de la multiplicacion es: \",c)"
   ]
  },
  {
   "cell_type": "code",
   "execution_count": 3,
   "metadata": {},
   "outputs": [
    {
     "data": {
      "text/plain": [
       "6"
      ]
     },
     "execution_count": 3,
     "metadata": {},
     "output_type": "execute_result"
    }
   ],
   "source": [
    "# funcion para sumar uno a un numero\n",
    "def add_one(x):\n",
    "    return x+1\n",
    "\n",
    "add_one(5)"
   ]
  },
  {
   "cell_type": "code",
   "execution_count": 4,
   "metadata": {},
   "outputs": [
    {
     "data": {
      "text/plain": [
       "6"
      ]
     },
     "execution_count": 4,
     "metadata": {},
     "output_type": "execute_result"
    }
   ],
   "source": [
    "# la misma funcion pero con lambda\n",
    "add_one = lambda x: x+1\n",
    "add_one(5)"
   ]
  },
  {
   "cell_type": "code",
   "execution_count": 5,
   "metadata": {},
   "outputs": [
    {
     "name": "stdout",
     "output_type": "stream",
     "text": [
      "6\n"
     ]
    }
   ],
   "source": [
    "# ejemplo de una suma simple\n",
    "x= lambda a,b,c: a+b+c\n",
    "print(x(1,2,3))"
   ]
  },
  {
   "cell_type": "code",
   "execution_count": 6,
   "metadata": {},
   "outputs": [
    {
     "name": "stdout",
     "output_type": "stream",
     "text": [
      "6\n"
     ]
    }
   ],
   "source": [
    "# multiplicacion de dos numeros\n",
    "x= lambda a,b: a*b\n",
    "print(x(2,3))"
   ]
  },
  {
   "cell_type": "code",
   "execution_count": 7,
   "metadata": {},
   "outputs": [
    {
     "name": "stdout",
     "output_type": "stream",
     "text": [
      "22\n"
     ]
    }
   ],
   "source": [
    "# lambda con una funcion dentro de otra funcion\n",
    "def myfunc(n):\n",
    "    return lambda a: a*n\n",
    "\n",
    "mydoubler = myfunc(2)\n",
    "print(mydoubler(11))"
   ]
  },
  {
   "cell_type": "code",
   "execution_count": 8,
   "metadata": {},
   "outputs": [
    {
     "data": {
      "text/plain": [
       "'Full name: Guido Van Rossum'"
      ]
     },
     "execution_count": 8,
     "metadata": {},
     "output_type": "execute_result"
    }
   ],
   "source": [
    "# Ejemplo con strings\n",
    "full_name = lambda first, last: f'Full name: {first.title()} {last.title()}'\n",
    "full_name('guido', 'van rossum')"
   ]
  },
  {
   "cell_type": "code",
   "execution_count": 12,
   "metadata": {},
   "outputs": [
    {
     "data": {
      "text/plain": [
       "50"
      ]
     },
     "execution_count": 12,
     "metadata": {},
     "output_type": "execute_result"
    }
   ],
   "source": [
    "# Lambda con Invocacion Inmediata (IIFE=Immediately Invoked Function Expression)\n",
    "# x elevado al cuadrado\n",
    "(lambda x: x**2)(5)\n",
    "\n",
    "# multiplicacion de dos numeros\n",
    "(lambda x,y: x*y)(5,10)"
   ]
  }
 ],
 "metadata": {
  "kernelspec": {
   "display_name": "Python 3",
   "language": "python",
   "name": "python3"
  },
  "language_info": {
   "codemirror_mode": {
    "name": "ipython",
    "version": 3
   },
   "file_extension": ".py",
   "mimetype": "text/x-python",
   "name": "python",
   "nbconvert_exporter": "python",
   "pygments_lexer": "ipython3",
   "version": "3.12.2"
  }
 },
 "nbformat": 4,
 "nbformat_minor": 2
}
