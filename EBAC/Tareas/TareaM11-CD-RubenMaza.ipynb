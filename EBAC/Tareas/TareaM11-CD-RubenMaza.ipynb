{
 "cells": [
  {
   "cell_type": "markdown",
   "metadata": {},
   "source": [
    "### se cargan librerias para el procesamiento"
   ]
  },
  {
   "cell_type": "code",
   "execution_count": 1,
   "metadata": {},
   "outputs": [],
   "source": [
    "import numpy as np\n",
    "import matplotlib as plt  \n",
    "from functools import reduce"
   ]
  },
  {
   "cell_type": "code",
   "execution_count": 2,
   "metadata": {},
   "outputs": [
    {
     "name": "stdout",
     "output_type": "stream",
     "text": [
      "La raiz cuadrada de 9.0 es: 3.0\n"
     ]
    }
   ],
   "source": [
    "# Función lambda para obtener la raíz cuadrada de un número.\n",
    "\n",
    "num= float (input('Ingrese el número para sacar su raiz cuadrada'))\n",
    "print('La raiz cuadrada de', num, 'es:', (lambda x: x**0.5)(num))\n"
   ]
  },
  {
   "cell_type": "code",
   "execution_count": 3,
   "metadata": {},
   "outputs": [
    {
     "name": "stdout",
     "output_type": "stream",
     "text": [
      "La raiz cuadrada de 9.0 es 3.0\n"
     ]
    }
   ],
   "source": [
    "# funcion para obtener la raiz cuadrada de un número sin lambda \n",
    "\n",
    "num= float(input('Ingrese un número para sacar su raiz cuadrada'))\n",
    "raiz_cuadrada = num**0.5 \n",
    "print(f'La raiz cuadrada de {num} es {raiz_cuadrada}') \n"
   ]
  },
  {
   "cell_type": "code",
   "execution_count": 4,
   "metadata": {},
   "outputs": [
    {
     "name": "stdout",
     "output_type": "stream",
     "text": [
      "Usted ingreso el siguiente Texto:  la caja azul esta arriba\n",
      "['la', 'caja', 'azul', 'esta', 'arriba']\n",
      "\n",
      "Cada palabra consta de [[2, 4, 4, 4, 6]] letras\n",
      "\n",
      "Y la longitud total del Texto es:  20 letras\n"
     ]
    }
   ],
   "source": [
    "# Función map, para obtener el largo de una cadena de palabras. \n",
    "\n",
    "texto = input('Ingrese el Texto para conocer su longitud')\n",
    "print('Usted ingreso el siguiente Texto: ', texto)\n",
    "txt_separado = texto.split()\n",
    "print(txt_separado)\n",
    "contador=[list(map(len, txt_separado))] \n",
    "total=sum(contador[0])    \n",
    "print('\\nCada palabra consta de', contador ,'letras')\n",
    "print('\\nY la longitud total del Texto es: ', total,'letras')"
   ]
  },
  {
   "cell_type": "code",
   "execution_count": 5,
   "metadata": {},
   "outputs": [
    {
     "name": "stdout",
     "output_type": "stream",
     "text": [
      "Usted ingreso el siguiente Texto:  la caja azul esta arriba\n",
      "['la', 'caja', 'azul', 'esta', 'arriba']\n",
      "\n",
      "Cada palabra consta de [2, 4, 4, 4, 6] letras\n",
      "\n",
      "Y la longitud total del Texto es:  20 letras\n"
     ]
    }
   ],
   "source": [
    "# funcion para obtener el largo de una cadena de palabras sin map\n",
    "\n",
    "texto = input('Ingrese el Texto para conocer su longitud')\n",
    "print('Usted ingreso el siguiente Texto: ', texto)\n",
    "txt_separado = texto.split()\n",
    "print(txt_separado)\n",
    "contador = [len(palabra) for palabra in txt_separado]\n",
    "total = sum(contador)\n",
    "print('\\nCada palabra consta de', contador ,'letras')\n",
    "print('\\nY la longitud total del Texto es: ', total,'letras')\n"
   ]
  },
  {
   "cell_type": "code",
   "execution_count": 6,
   "metadata": {},
   "outputs": [
    {
     "name": "stdout",
     "output_type": "stream",
     "text": [
      "1 * 2 = 2\n",
      "2 * 3 = 6\n",
      "6 * 4 = 24\n",
      "El producto total de la lista es: 24\n"
     ]
    }
   ],
   "source": [
    "# Función reduce, que sirva para calcular el producto de una lista \n",
    "\n",
    "def product (a,b):\n",
    "    result = a*b\n",
    "    print(f\"{a} * {b} = {result}\")\n",
    "    return result\n",
    "\n",
    "numbers = [1,2,3,4]\n",
    "total= reduce (product, numbers)\n",
    "print (f\"El producto total de la lista es: {total}\")\n",
    "\n"
   ]
  },
  {
   "cell_type": "code",
   "execution_count": 8,
   "metadata": {},
   "outputs": [
    {
     "name": "stdout",
     "output_type": "stream",
     "text": [
      "1 * 1 = 1\n",
      "2 * 2 = 2\n",
      "6 * 3 = 6\n",
      "24 * 4 = 24\n",
      "El producto total de la lista es: 24\n"
     ]
    }
   ],
   "source": [
    "# funcion que sirva para calcular el producto de una lista \n",
    "\n",
    "lista = [1,2,3,4]\n",
    "total = 1\n",
    "for i in lista:\n",
    "    total *= i\n",
    "    print(f\"{total} * {i} = {total}\")\n",
    "print(f\"El producto total de la lista es: {total}\")\n"
   ]
  },
  {
   "cell_type": "code",
   "execution_count": 3,
   "metadata": {},
   "outputs": [
    {
     "name": "stdout",
     "output_type": "stream",
     "text": [
      "Palabras que contienen mayúsculas: ['Perro', 'Oso', 'Libro']\n",
      "Números en la lista: [20, 15.6, 100]\n"
     ]
    }
   ],
   "source": [
    "# Función filter que sirva para encontrar palabras que contengan mayúsculas o números en un listado \n",
    "\n",
    " # se genera la funcion para identificar las mayusculas\n",
    "def contiene_mayusculas(palabra):\n",
    "    return isinstance(palabra, str) and any(letra.isupper() for letra in palabra)\n",
    "\n",
    "# se genera la funcion para identificar numeros enteros y decimales\n",
    "def es_numero(palabra):  \n",
    "    return isinstance(palabra, (int, float))\n",
    "\n",
    "lista = ['Perro', 'gato', 20, 15.6, 'Oso', 100, 'Libro', 'miel']\n",
    "\n",
    "# se filtra las coincidencias identificadas previamente con las funciones\n",
    "mayusculas = list(filter(contiene_mayusculas, lista))\n",
    "numeros = list(filter(es_numero, lista))\n",
    "\n",
    "print('Palabras que contienen mayúsculas:', mayusculas)\n",
    "print('Números en la lista:', numeros)"
   ]
  },
  {
   "cell_type": "code",
   "execution_count": 8,
   "metadata": {},
   "outputs": [
    {
     "name": "stdout",
     "output_type": "stream",
     "text": [
      "Palabras que contienen mayúsculas: ['Perro', 'Oso', 'Libro']\n",
      "Números en la lista: [20, 15.6, 100]\n"
     ]
    }
   ],
   "source": [
    "# buscar palabras que contengan mayusculas o numeros en un listado sin filter\n",
    "\n",
    "lista = ['Perro', 'gato', 20, 15.6, 'Oso', 100, 'Libro', 'miel']\n",
    "busca_mayusculas = [palabra for palabra in lista if isinstance(palabra, str) and any(letra.isupper() for letra in palabra)]\n",
    "busca_numeros = [palabra for palabra in lista if isinstance(palabra, (int, float))]\n",
    "print('Palabras que contienen mayúsculas:', busca_mayusculas)\n",
    "print('Números en la lista:', busca_numeros)\n"
   ]
  }
 ],
 "metadata": {
  "kernelspec": {
   "display_name": "Python 3",
   "language": "python",
   "name": "python3"
  },
  "language_info": {
   "codemirror_mode": {
    "name": "ipython",
    "version": 3
   },
   "file_extension": ".py",
   "mimetype": "text/x-python",
   "name": "python",
   "nbconvert_exporter": "python",
   "pygments_lexer": "ipython3",
   "version": "3.12.2"
  }
 },
 "nbformat": 4,
 "nbformat_minor": 2
}
