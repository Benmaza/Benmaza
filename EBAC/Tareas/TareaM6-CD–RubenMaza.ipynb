{
 "cells": [
  {
   "cell_type": "markdown",
   "metadata": {},
   "source": [
    "Escriba una clase en Python denominada “Conversion” que permita la conversión de un número romano a un número entero a través de un método llamado “romano_entero”.\n",
    "\n",
    "\n",
    "\n",
    "Por ejemplo, si definimos un objeto de esta clase llamado ”numero”, al invocar:\n",
    "\n",
    "numero.romano_entero(‘MMMCMLXXXVI‘)\n",
    "\n",
    "debemos obtener: 3986"
   ]
  },
  {
   "cell_type": "code",
   "execution_count": 1,
   "metadata": {},
   "outputs": [],
   "source": [
    "# Se crea una clase padre que tiene un diccionario con los valores de los números romanos y Arabigos\n",
    "\n",
    "class Conversion:   # Se crea una clase padre\n",
    "    def __init__(self, romano):\n",
    "        self.romano = romano\n",
    "        self.valores = {'I': 1, 'V': 5, 'X': 10, 'L': 50, 'C': 100, 'D': 500, 'M': 1000}\n",
    "\n",
    "# se crea la clase hija que contiene el método para convertir el número romano a número arábigo\n",
    "\n",
    "class romano_entero(Conversion):    # Se crea una clase hija que hereda de la clase padre\n",
    "    def convertir(self):\n",
    "        arabigo = 0\n",
    "        for i in range(len(self.romano)):   \n",
    "            # Si el valor actual es menor que el siguiente, lo restamos, de lo contrario, lo sumamos\n",
    "            if i+1 < len(self.romano) and self.valores[self.romano[i]] < self.valores[self.romano[i+1]]:\n",
    "                arabigo -= self.valores[self.romano[i]]\n",
    "            else:\n",
    "                arabigo += self.valores[self.romano[i]]\n",
    "        return arabigo"
   ]
  },
  {
   "cell_type": "markdown",
   "metadata": {},
   "source": [
    "### Prueba de acuerdo a solicitud en problema"
   ]
  },
  {
   "cell_type": "code",
   "execution_count": 3,
   "metadata": {},
   "outputs": [
    {
     "name": "stdout",
     "output_type": "stream",
     "text": [
      "3986\n"
     ]
    }
   ],
   "source": [
    "romano = ('MMMCMLXXXVI')\n",
    "numero = romano_entero(romano)\n",
    "print(numero.convertir())"
   ]
  },
  {
   "cell_type": "markdown",
   "metadata": {},
   "source": [
    "### Solicita un numero Romano y devuelve numero en Arabigo o Entero"
   ]
  },
  {
   "cell_type": "code",
   "execution_count": 4,
   "metadata": {},
   "outputs": [
    {
     "name": "stdout",
     "output_type": "stream",
     "text": [
      "usted escribio:  MMXXIV\n",
      "2024\n"
     ]
    }
   ],
   "source": [
    "romano = input(\"Ingresa un número romano: \")\n",
    "print(\"usted escribio: \", romano)\n",
    "numero = romano_entero(romano)\n",
    "print(numero.convertir())"
   ]
  }
 ],
 "metadata": {
  "kernelspec": {
   "display_name": "Python 3",
   "language": "python",
   "name": "python3"
  },
  "language_info": {
   "codemirror_mode": {
    "name": "ipython",
    "version": 3
   },
   "file_extension": ".py",
   "mimetype": "text/x-python",
   "name": "python",
   "nbconvert_exporter": "python",
   "pygments_lexer": "ipython3",
   "version": "3.12.2"
  }
 },
 "nbformat": 4,
 "nbformat_minor": 2
}
