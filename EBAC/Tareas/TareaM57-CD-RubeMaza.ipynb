{
 "cells": [
  {
   "cell_type": "code",
   "execution_count": 1,
   "id": "a1222809",
   "metadata": {},
   "outputs": [],
   "source": [
    "import pandas as pd\n",
    "import plotly.graph_objects as go\n",
    "from plotly.subplots import make_subplots\n",
    "import warnings\n",
    "warnings.filterwarnings('ignore')\n",
    "import dash\n",
    "from dash import dcc, html\n"
   ]
  },
  {
   "cell_type": "code",
   "execution_count": 2,
   "id": "b891a09c",
   "metadata": {},
   "outputs": [
    {
     "data": {
      "application/vnd.microsoft.datawrangler.viewer.v0+json": {
       "columns": [
        {
         "name": "index",
         "rawType": "int64",
         "type": "integer"
        },
        {
         "name": "Region/Country/Area",
         "rawType": "int64",
         "type": "integer"
        },
        {
         "name": "Unnamed: 1",
         "rawType": "object",
         "type": "string"
        },
        {
         "name": "Year",
         "rawType": "int64",
         "type": "integer"
        },
        {
         "name": "Series",
         "rawType": "object",
         "type": "string"
        },
        {
         "name": "Value",
         "rawType": "object",
         "type": "string"
        },
        {
         "name": "Footnotes",
         "rawType": "object",
         "type": "unknown"
        },
        {
         "name": "Source",
         "rawType": "object",
         "type": "string"
        }
       ],
       "ref": "00e125c6-83c0-4bf2-983c-10c0f0f60fa5",
       "rows": [
        [
         "0",
         "1",
         "Total, all countries or areas",
         "1995",
         "Primary energy production (petajoules)",
         "381,716",
         null,
         "United Nations Statistics Division, New York, Energy Statistics Yearbook 2021, last accessed April 2024."
        ],
        [
         "1",
         "1",
         "Total, all countries or areas",
         "2000",
         "Primary energy production (petajoules)",
         "412,282",
         null,
         "United Nations Statistics Division, New York, Energy Statistics Yearbook 2021, last accessed April 2024."
        ],
        [
         "2",
         "1",
         "Total, all countries or areas",
         "2005",
         "Primary energy production (petajoules)",
         "477,690",
         null,
         "United Nations Statistics Division, New York, Energy Statistics Yearbook 2021, last accessed April 2024."
        ],
        [
         "3",
         "1",
         "Total, all countries or areas",
         "2010",
         "Primary energy production (petajoules)",
         "530,871",
         null,
         "United Nations Statistics Division, New York, Energy Statistics Yearbook 2021, last accessed April 2024."
        ],
        [
         "4",
         "1",
         "Total, all countries or areas",
         "2015",
         "Primary energy production (petajoules)",
         "569,646",
         null,
         "United Nations Statistics Division, New York, Energy Statistics Yearbook 2021, last accessed April 2024."
        ],
        [
         "5",
         "1",
         "Total, all countries or areas",
         "2019",
         "Primary energy production (petajoules)",
         "613,709",
         null,
         "United Nations Statistics Division, New York, Energy Statistics Yearbook 2021, last accessed April 2024."
        ],
        [
         "6",
         "1",
         "Total, all countries or areas",
         "2020",
         "Primary energy production (petajoules)",
         "589,086",
         null,
         "United Nations Statistics Division, New York, Energy Statistics Yearbook 2021, last accessed April 2024."
        ],
        [
         "7",
         "1",
         "Total, all countries or areas",
         "2021",
         "Primary energy production (petajoules)",
         "609,909",
         null,
         "United Nations Statistics Division, New York, Energy Statistics Yearbook 2021, last accessed April 2024."
        ],
        [
         "8",
         "1",
         "Total, all countries or areas",
         "1995",
         "Net imports [Imports - Exports - Bunkers] (petajoules)",
         "-8,762",
         null,
         "United Nations Statistics Division, New York, Energy Statistics Yearbook 2021, last accessed April 2024."
        ],
        [
         "9",
         "1",
         "Total, all countries or areas",
         "2000",
         "Net imports [Imports - Exports - Bunkers] (petajoules)",
         "-10,016",
         null,
         "United Nations Statistics Division, New York, Energy Statistics Yearbook 2021, last accessed April 2024."
        ],
        [
         "10",
         "1",
         "Total, all countries or areas",
         "2005",
         "Net imports [Imports - Exports - Bunkers] (petajoules)",
         "-14,205",
         null,
         "United Nations Statistics Division, New York, Energy Statistics Yearbook 2021, last accessed April 2024."
        ],
        [
         "11",
         "1",
         "Total, all countries or areas",
         "2010",
         "Net imports [Imports - Exports - Bunkers] (petajoules)",
         "-13,365",
         null,
         "United Nations Statistics Division, New York, Energy Statistics Yearbook 2021, last accessed April 2024."
        ],
        [
         "12",
         "1",
         "Total, all countries or areas",
         "2015",
         "Net imports [Imports - Exports - Bunkers] (petajoules)",
         "-19,297",
         null,
         "United Nations Statistics Division, New York, Energy Statistics Yearbook 2021, last accessed April 2024."
        ],
        [
         "13",
         "1",
         "Total, all countries or areas",
         "2019",
         "Net imports [Imports - Exports - Bunkers] (petajoules)",
         "-21,031",
         null,
         "United Nations Statistics Division, New York, Energy Statistics Yearbook 2021, last accessed April 2024."
        ],
        [
         "14",
         "1",
         "Total, all countries or areas",
         "2020",
         "Net imports [Imports - Exports - Bunkers] (petajoules)",
         "-18,193",
         null,
         "United Nations Statistics Division, New York, Energy Statistics Yearbook 2021, last accessed April 2024."
        ],
        [
         "15",
         "1",
         "Total, all countries or areas",
         "2021",
         "Net imports [Imports - Exports - Bunkers] (petajoules)",
         "-14,230",
         null,
         "United Nations Statistics Division, New York, Energy Statistics Yearbook 2021, last accessed April 2024."
        ],
        [
         "16",
         "1",
         "Total, all countries or areas",
         "1995",
         "Changes in stocks (petajoules)",
         "299",
         null,
         "United Nations Statistics Division, New York, Energy Statistics Yearbook 2021, last accessed April 2024."
        ],
        [
         "17",
         "1",
         "Total, all countries or areas",
         "2000",
         "Changes in stocks (petajoules)",
         "-2,938",
         null,
         "United Nations Statistics Division, New York, Energy Statistics Yearbook 2021, last accessed April 2024."
        ],
        [
         "18",
         "1",
         "Total, all countries or areas",
         "2005",
         "Changes in stocks (petajoules)",
         "-215",
         null,
         "United Nations Statistics Division, New York, Energy Statistics Yearbook 2021, last accessed April 2024."
        ],
        [
         "19",
         "1",
         "Total, all countries or areas",
         "2010",
         "Changes in stocks (petajoules)",
         "-10",
         null,
         "United Nations Statistics Division, New York, Energy Statistics Yearbook 2021, last accessed April 2024."
        ],
        [
         "20",
         "1",
         "Total, all countries or areas",
         "2015",
         "Changes in stocks (petajoules)",
         "2,408",
         null,
         "United Nations Statistics Division, New York, Energy Statistics Yearbook 2021, last accessed April 2024."
        ],
        [
         "21",
         "1",
         "Total, all countries or areas",
         "2019",
         "Changes in stocks (petajoules)",
         "5,604",
         null,
         "United Nations Statistics Division, New York, Energy Statistics Yearbook 2021, last accessed April 2024."
        ],
        [
         "22",
         "1",
         "Total, all countries or areas",
         "2020",
         "Changes in stocks (petajoules)",
         "3,038",
         null,
         "United Nations Statistics Division, New York, Energy Statistics Yearbook 2021, last accessed April 2024."
        ],
        [
         "23",
         "1",
         "Total, all countries or areas",
         "2021",
         "Changes in stocks (petajoules)",
         "-3,488",
         null,
         "United Nations Statistics Division, New York, Energy Statistics Yearbook 2021, last accessed April 2024."
        ],
        [
         "24",
         "1",
         "Total, all countries or areas",
         "1995",
         "Total supply (petajoules)",
         "372,655",
         null,
         "United Nations Statistics Division, New York, Energy Statistics Yearbook 2021, last accessed April 2024."
        ],
        [
         "25",
         "1",
         "Total, all countries or areas",
         "2000",
         "Total supply (petajoules)",
         "405,205",
         null,
         "United Nations Statistics Division, New York, Energy Statistics Yearbook 2021, last accessed April 2024."
        ],
        [
         "26",
         "1",
         "Total, all countries or areas",
         "2005",
         "Total supply (petajoules)",
         "463,700",
         null,
         "United Nations Statistics Division, New York, Energy Statistics Yearbook 2021, last accessed April 2024."
        ],
        [
         "27",
         "1",
         "Total, all countries or areas",
         "2010",
         "Total supply (petajoules)",
         "517,517",
         null,
         "United Nations Statistics Division, New York, Energy Statistics Yearbook 2021, last accessed April 2024."
        ],
        [
         "28",
         "1",
         "Total, all countries or areas",
         "2015",
         "Total supply (petajoules)",
         "547,941",
         null,
         "United Nations Statistics Division, New York, Energy Statistics Yearbook 2021, last accessed April 2024."
        ],
        [
         "29",
         "1",
         "Total, all countries or areas",
         "2019",
         "Total supply (petajoules)",
         "587,074",
         null,
         "United Nations Statistics Division, New York, Energy Statistics Yearbook 2021, last accessed April 2024."
        ],
        [
         "30",
         "1",
         "Total, all countries or areas",
         "2020",
         "Total supply (petajoules)",
         "567,854",
         null,
         "United Nations Statistics Division, New York, Energy Statistics Yearbook 2021, last accessed April 2024."
        ],
        [
         "31",
         "1",
         "Total, all countries or areas",
         "2021",
         "Total supply (petajoules)",
         "599,167",
         null,
         "United Nations Statistics Division, New York, Energy Statistics Yearbook 2021, last accessed April 2024."
        ],
        [
         "32",
         "1",
         "Total, all countries or areas",
         "1995",
         "Supply per capita (gigajoules)",
         "65",
         null,
         "United Nations Statistics Division, New York, Energy Statistics Yearbook 2021, last accessed April 2024."
        ],
        [
         "33",
         "1",
         "Total, all countries or areas",
         "2000",
         "Supply per capita (gigajoules)",
         "66",
         null,
         "United Nations Statistics Division, New York, Energy Statistics Yearbook 2021, last accessed April 2024."
        ],
        [
         "34",
         "1",
         "Total, all countries or areas",
         "2005",
         "Supply per capita (gigajoules)",
         "71",
         null,
         "United Nations Statistics Division, New York, Energy Statistics Yearbook 2021, last accessed April 2024."
        ],
        [
         "35",
         "1",
         "Total, all countries or areas",
         "2010",
         "Supply per capita (gigajoules)",
         "74",
         null,
         "United Nations Statistics Division, New York, Energy Statistics Yearbook 2021, last accessed April 2024."
        ],
        [
         "36",
         "1",
         "Total, all countries or areas",
         "2015",
         "Supply per capita (gigajoules)",
         "74",
         null,
         "United Nations Statistics Division, New York, Energy Statistics Yearbook 2021, last accessed April 2024."
        ],
        [
         "37",
         "1",
         "Total, all countries or areas",
         "2019",
         "Supply per capita (gigajoules)",
         "76",
         null,
         "United Nations Statistics Division, New York, Energy Statistics Yearbook 2021, last accessed April 2024."
        ],
        [
         "38",
         "1",
         "Total, all countries or areas",
         "2020",
         "Supply per capita (gigajoules)",
         "72",
         null,
         "United Nations Statistics Division, New York, Energy Statistics Yearbook 2021, last accessed April 2024."
        ],
        [
         "39",
         "1",
         "Total, all countries or areas",
         "2021",
         "Supply per capita (gigajoules)",
         "76",
         null,
         "United Nations Statistics Division, New York, Energy Statistics Yearbook 2021, last accessed April 2024."
        ],
        [
         "40",
         "2",
         "Africa",
         "1995",
         "Primary energy production (petajoules)",
         "32,012",
         null,
         "United Nations Statistics Division, New York, Energy Statistics Yearbook 2021, last accessed April 2024."
        ],
        [
         "41",
         "2",
         "Africa",
         "2000",
         "Primary energy production (petajoules)",
         "36,588",
         null,
         "United Nations Statistics Division, New York, Energy Statistics Yearbook 2021, last accessed April 2024."
        ],
        [
         "42",
         "2",
         "Africa",
         "2005",
         "Primary energy production (petajoules)",
         "45,038",
         null,
         "United Nations Statistics Division, New York, Energy Statistics Yearbook 2021, last accessed April 2024."
        ],
        [
         "43",
         "2",
         "Africa",
         "2010",
         "Primary energy production (petajoules)",
         "47,649",
         null,
         "United Nations Statistics Division, New York, Energy Statistics Yearbook 2021, last accessed April 2024."
        ],
        [
         "44",
         "2",
         "Africa",
         "2015",
         "Primary energy production (petajoules)",
         "44,817",
         null,
         "United Nations Statistics Division, New York, Energy Statistics Yearbook 2021, last accessed April 2024."
        ],
        [
         "45",
         "2",
         "Africa",
         "2019",
         "Primary energy production (petajoules)",
         "48,473",
         null,
         "United Nations Statistics Division, New York, Energy Statistics Yearbook 2021, last accessed April 2024."
        ],
        [
         "46",
         "2",
         "Africa",
         "2020",
         "Primary energy production (petajoules)",
         "44,240",
         null,
         "United Nations Statistics Division, New York, Energy Statistics Yearbook 2021, last accessed April 2024."
        ],
        [
         "47",
         "2",
         "Africa",
         "2021",
         "Primary energy production (petajoules)",
         "46,089",
         null,
         "United Nations Statistics Division, New York, Energy Statistics Yearbook 2021, last accessed April 2024."
        ],
        [
         "48",
         "2",
         "Africa",
         "1995",
         "Net imports [Imports - Exports - Bunkers] (petajoules)",
         "-13,024",
         null,
         "United Nations Statistics Division, New York, Energy Statistics Yearbook 2021, last accessed April 2024."
        ],
        [
         "49",
         "2",
         "Africa",
         "2000",
         "Net imports [Imports - Exports - Bunkers] (petajoules)",
         "-15,607",
         null,
         "United Nations Statistics Division, New York, Energy Statistics Yearbook 2021, last accessed April 2024."
        ]
       ],
       "shape": {
        "columns": 7,
        "rows": 8583
       }
      },
      "text/html": [
       "<div>\n",
       "<style scoped>\n",
       "    .dataframe tbody tr th:only-of-type {\n",
       "        vertical-align: middle;\n",
       "    }\n",
       "\n",
       "    .dataframe tbody tr th {\n",
       "        vertical-align: top;\n",
       "    }\n",
       "\n",
       "    .dataframe thead th {\n",
       "        text-align: right;\n",
       "    }\n",
       "</style>\n",
       "<table border=\"1\" class=\"dataframe\">\n",
       "  <thead>\n",
       "    <tr style=\"text-align: right;\">\n",
       "      <th></th>\n",
       "      <th>Region/Country/Area</th>\n",
       "      <th>Unnamed: 1</th>\n",
       "      <th>Year</th>\n",
       "      <th>Series</th>\n",
       "      <th>Value</th>\n",
       "      <th>Footnotes</th>\n",
       "      <th>Source</th>\n",
       "    </tr>\n",
       "  </thead>\n",
       "  <tbody>\n",
       "    <tr>\n",
       "      <th>0</th>\n",
       "      <td>1</td>\n",
       "      <td>Total, all countries or areas</td>\n",
       "      <td>1995</td>\n",
       "      <td>Primary energy production (petajoules)</td>\n",
       "      <td>381,716</td>\n",
       "      <td>NaN</td>\n",
       "      <td>United Nations Statistics Division, New York, ...</td>\n",
       "    </tr>\n",
       "    <tr>\n",
       "      <th>1</th>\n",
       "      <td>1</td>\n",
       "      <td>Total, all countries or areas</td>\n",
       "      <td>2000</td>\n",
       "      <td>Primary energy production (petajoules)</td>\n",
       "      <td>412,282</td>\n",
       "      <td>NaN</td>\n",
       "      <td>United Nations Statistics Division, New York, ...</td>\n",
       "    </tr>\n",
       "    <tr>\n",
       "      <th>2</th>\n",
       "      <td>1</td>\n",
       "      <td>Total, all countries or areas</td>\n",
       "      <td>2005</td>\n",
       "      <td>Primary energy production (petajoules)</td>\n",
       "      <td>477,690</td>\n",
       "      <td>NaN</td>\n",
       "      <td>United Nations Statistics Division, New York, ...</td>\n",
       "    </tr>\n",
       "    <tr>\n",
       "      <th>3</th>\n",
       "      <td>1</td>\n",
       "      <td>Total, all countries or areas</td>\n",
       "      <td>2010</td>\n",
       "      <td>Primary energy production (petajoules)</td>\n",
       "      <td>530,871</td>\n",
       "      <td>NaN</td>\n",
       "      <td>United Nations Statistics Division, New York, ...</td>\n",
       "    </tr>\n",
       "    <tr>\n",
       "      <th>4</th>\n",
       "      <td>1</td>\n",
       "      <td>Total, all countries or areas</td>\n",
       "      <td>2015</td>\n",
       "      <td>Primary energy production (petajoules)</td>\n",
       "      <td>569,646</td>\n",
       "      <td>NaN</td>\n",
       "      <td>United Nations Statistics Division, New York, ...</td>\n",
       "    </tr>\n",
       "    <tr>\n",
       "      <th>...</th>\n",
       "      <td>...</td>\n",
       "      <td>...</td>\n",
       "      <td>...</td>\n",
       "      <td>...</td>\n",
       "      <td>...</td>\n",
       "      <td>...</td>\n",
       "      <td>...</td>\n",
       "    </tr>\n",
       "    <tr>\n",
       "      <th>8578</th>\n",
       "      <td>716</td>\n",
       "      <td>Zimbabwe</td>\n",
       "      <td>2010</td>\n",
       "      <td>Supply per capita (gigajoules)</td>\n",
       "      <td>31</td>\n",
       "      <td>NaN</td>\n",
       "      <td>United Nations Statistics Division, New York, ...</td>\n",
       "    </tr>\n",
       "    <tr>\n",
       "      <th>8579</th>\n",
       "      <td>716</td>\n",
       "      <td>Zimbabwe</td>\n",
       "      <td>2015</td>\n",
       "      <td>Supply per capita (gigajoules)</td>\n",
       "      <td>32</td>\n",
       "      <td>NaN</td>\n",
       "      <td>United Nations Statistics Division, New York, ...</td>\n",
       "    </tr>\n",
       "    <tr>\n",
       "      <th>8580</th>\n",
       "      <td>716</td>\n",
       "      <td>Zimbabwe</td>\n",
       "      <td>2019</td>\n",
       "      <td>Supply per capita (gigajoules)</td>\n",
       "      <td>31</td>\n",
       "      <td>NaN</td>\n",
       "      <td>United Nations Statistics Division, New York, ...</td>\n",
       "    </tr>\n",
       "    <tr>\n",
       "      <th>8581</th>\n",
       "      <td>716</td>\n",
       "      <td>Zimbabwe</td>\n",
       "      <td>2020</td>\n",
       "      <td>Supply per capita (gigajoules)</td>\n",
       "      <td>29</td>\n",
       "      <td>NaN</td>\n",
       "      <td>United Nations Statistics Division, New York, ...</td>\n",
       "    </tr>\n",
       "    <tr>\n",
       "      <th>8582</th>\n",
       "      <td>716</td>\n",
       "      <td>Zimbabwe</td>\n",
       "      <td>2021</td>\n",
       "      <td>Supply per capita (gigajoules)</td>\n",
       "      <td>30</td>\n",
       "      <td>Estimate.</td>\n",
       "      <td>United Nations Statistics Division, New York, ...</td>\n",
       "    </tr>\n",
       "  </tbody>\n",
       "</table>\n",
       "<p>8583 rows × 7 columns</p>\n",
       "</div>"
      ],
      "text/plain": [
       "      Region/Country/Area                     Unnamed: 1  Year  \\\n",
       "0                       1  Total, all countries or areas  1995   \n",
       "1                       1  Total, all countries or areas  2000   \n",
       "2                       1  Total, all countries or areas  2005   \n",
       "3                       1  Total, all countries or areas  2010   \n",
       "4                       1  Total, all countries or areas  2015   \n",
       "...                   ...                            ...   ...   \n",
       "8578                  716                       Zimbabwe  2010   \n",
       "8579                  716                       Zimbabwe  2015   \n",
       "8580                  716                       Zimbabwe  2019   \n",
       "8581                  716                       Zimbabwe  2020   \n",
       "8582                  716                       Zimbabwe  2021   \n",
       "\n",
       "                                      Series    Value  Footnotes  \\\n",
       "0     Primary energy production (petajoules)  381,716        NaN   \n",
       "1     Primary energy production (petajoules)  412,282        NaN   \n",
       "2     Primary energy production (petajoules)  477,690        NaN   \n",
       "3     Primary energy production (petajoules)  530,871        NaN   \n",
       "4     Primary energy production (petajoules)  569,646        NaN   \n",
       "...                                      ...      ...        ...   \n",
       "8578          Supply per capita (gigajoules)       31        NaN   \n",
       "8579          Supply per capita (gigajoules)       32        NaN   \n",
       "8580          Supply per capita (gigajoules)       31        NaN   \n",
       "8581          Supply per capita (gigajoules)       29        NaN   \n",
       "8582          Supply per capita (gigajoules)       30  Estimate.   \n",
       "\n",
       "                                                 Source  \n",
       "0     United Nations Statistics Division, New York, ...  \n",
       "1     United Nations Statistics Division, New York, ...  \n",
       "2     United Nations Statistics Division, New York, ...  \n",
       "3     United Nations Statistics Division, New York, ...  \n",
       "4     United Nations Statistics Division, New York, ...  \n",
       "...                                                 ...  \n",
       "8578  United Nations Statistics Division, New York, ...  \n",
       "8579  United Nations Statistics Division, New York, ...  \n",
       "8580  United Nations Statistics Division, New York, ...  \n",
       "8581  United Nations Statistics Division, New York, ...  \n",
       "8582  United Nations Statistics Division, New York, ...  \n",
       "\n",
       "[8583 rows x 7 columns]"
      ]
     },
     "execution_count": 2,
     "metadata": {},
     "output_type": "execute_result"
    }
   ],
   "source": [
    "data = pd.read_csv('Production_Trade_Energy.csv')\n",
    "data"
   ]
  },
  {
   "cell_type": "code",
   "execution_count": 3,
   "id": "5e4069f6",
   "metadata": {},
   "outputs": [
    {
     "data": {
      "application/vnd.microsoft.datawrangler.viewer.v0+json": {
       "columns": [
        {
         "name": "index",
         "rawType": "int64",
         "type": "integer"
        },
        {
         "name": "Region",
         "rawType": "int64",
         "type": "integer"
        },
        {
         "name": "Country",
         "rawType": "object",
         "type": "string"
        },
        {
         "name": "Year",
         "rawType": "int64",
         "type": "integer"
        },
        {
         "name": "Series",
         "rawType": "object",
         "type": "string"
        },
        {
         "name": "Value",
         "rawType": "float64",
         "type": "float"
        }
       ],
       "ref": "e487808e-5194-48f2-886e-25e837d638b5",
       "rows": [
        [
         "16",
         "1",
         "Total, all countries or areas",
         "1995",
         "Changes in stocks (petajoules)",
         "299.0"
        ],
        [
         "18",
         "1",
         "Total, all countries or areas",
         "2005",
         "Changes in stocks (petajoules)",
         "-215.0"
        ],
        [
         "19",
         "1",
         "Total, all countries or areas",
         "2010",
         "Changes in stocks (petajoules)",
         "-10.0"
        ],
        [
         "32",
         "1",
         "Total, all countries or areas",
         "1995",
         "Supply per capita (gigajoules)",
         "65.0"
        ],
        [
         "33",
         "1",
         "Total, all countries or areas",
         "2000",
         "Supply per capita (gigajoules)",
         "66.0"
        ],
        [
         "34",
         "1",
         "Total, all countries or areas",
         "2005",
         "Supply per capita (gigajoules)",
         "71.0"
        ],
        [
         "35",
         "1",
         "Total, all countries or areas",
         "2010",
         "Supply per capita (gigajoules)",
         "74.0"
        ],
        [
         "36",
         "1",
         "Total, all countries or areas",
         "2015",
         "Supply per capita (gigajoules)",
         "74.0"
        ],
        [
         "37",
         "1",
         "Total, all countries or areas",
         "2019",
         "Supply per capita (gigajoules)",
         "76.0"
        ],
        [
         "38",
         "1",
         "Total, all countries or areas",
         "2020",
         "Supply per capita (gigajoules)",
         "72.0"
        ],
        [
         "39",
         "1",
         "Total, all countries or areas",
         "2021",
         "Supply per capita (gigajoules)",
         "76.0"
        ],
        [
         "56",
         "2",
         "Africa",
         "1995",
         "Changes in stocks (petajoules)",
         "321.0"
        ],
        [
         "57",
         "2",
         "Africa",
         "2000",
         "Changes in stocks (petajoules)",
         "-18.0"
        ],
        [
         "58",
         "2",
         "Africa",
         "2005",
         "Changes in stocks (petajoules)",
         "7.0"
        ],
        [
         "59",
         "2",
         "Africa",
         "2010",
         "Changes in stocks (petajoules)",
         "-38.0"
        ],
        [
         "60",
         "2",
         "Africa",
         "2015",
         "Changes in stocks (petajoules)",
         "-13.0"
        ],
        [
         "61",
         "2",
         "Africa",
         "2019",
         "Changes in stocks (petajoules)",
         "148.0"
        ],
        [
         "62",
         "2",
         "Africa",
         "2020",
         "Changes in stocks (petajoules)",
         "69.0"
        ],
        [
         "63",
         "2",
         "Africa",
         "2021",
         "Changes in stocks (petajoules)",
         "49.0"
        ],
        [
         "72",
         "2",
         "Africa",
         "1995",
         "Supply per capita (gigajoules)",
         "26.0"
        ],
        [
         "73",
         "2",
         "Africa",
         "2000",
         "Supply per capita (gigajoules)",
         "26.0"
        ],
        [
         "74",
         "2",
         "Africa",
         "2005",
         "Supply per capita (gigajoules)",
         "26.0"
        ],
        [
         "75",
         "2",
         "Africa",
         "2010",
         "Supply per capita (gigajoules)",
         "27.0"
        ],
        [
         "76",
         "2",
         "Africa",
         "2015",
         "Supply per capita (gigajoules)",
         "26.0"
        ],
        [
         "77",
         "2",
         "Africa",
         "2019",
         "Supply per capita (gigajoules)",
         "26.0"
        ],
        [
         "78",
         "2",
         "Africa",
         "2020",
         "Supply per capita (gigajoules)",
         "25.0"
        ],
        [
         "79",
         "2",
         "Africa",
         "2021",
         "Supply per capita (gigajoules)",
         "25.0"
        ],
        [
         "96",
         "21",
         "Northern America",
         "1995",
         "Changes in stocks (petajoules)",
         "-912.0"
        ],
        [
         "98",
         "21",
         "Northern America",
         "2005",
         "Changes in stocks (petajoules)",
         "-144.0"
        ],
        [
         "99",
         "21",
         "Northern America",
         "2010",
         "Changes in stocks (petajoules)",
         "-591.0"
        ],
        [
         "101",
         "21",
         "Northern America",
         "2019",
         "Changes in stocks (petajoules)",
         "966.0"
        ],
        [
         "102",
         "21",
         "Northern America",
         "2020",
         "Changes in stocks (petajoules)",
         "587.0"
        ],
        [
         "112",
         "21",
         "Northern America",
         "1995",
         "Supply per capita (gigajoules)",
         "327.0"
        ],
        [
         "113",
         "21",
         "Northern America",
         "2000",
         "Supply per capita (gigajoules)",
         "338.0"
        ],
        [
         "114",
         "21",
         "Northern America",
         "2005",
         "Supply per capita (gigajoules)",
         "330.0"
        ],
        [
         "115",
         "21",
         "Northern America",
         "2010",
         "Supply per capita (gigajoules)",
         "300.0"
        ],
        [
         "116",
         "21",
         "Northern America",
         "2015",
         "Supply per capita (gigajoules)",
         "286.0"
        ],
        [
         "117",
         "21",
         "Northern America",
         "2019",
         "Supply per capita (gigajoules)",
         "283.0"
        ],
        [
         "118",
         "21",
         "Northern America",
         "2020",
         "Supply per capita (gigajoules)",
         "260.0"
        ],
        [
         "119",
         "21",
         "Northern America",
         "2021",
         "Supply per capita (gigajoules)",
         "271.0"
        ],
        [
         "136",
         "419",
         "Latin America & the Caribbean",
         "1995",
         "Changes in stocks (petajoules)",
         "-13.0"
        ],
        [
         "137",
         "419",
         "Latin America & the Caribbean",
         "2000",
         "Changes in stocks (petajoules)",
         "91.0"
        ],
        [
         "138",
         "419",
         "Latin America & the Caribbean",
         "2005",
         "Changes in stocks (petajoules)",
         "-260.0"
        ],
        [
         "139",
         "419",
         "Latin America & the Caribbean",
         "2010",
         "Changes in stocks (petajoules)",
         "-114.0"
        ],
        [
         "140",
         "419",
         "Latin America & the Caribbean",
         "2015",
         "Changes in stocks (petajoules)",
         "-64.0"
        ],
        [
         "141",
         "419",
         "Latin America & the Caribbean",
         "2019",
         "Changes in stocks (petajoules)",
         "-82.0"
        ],
        [
         "143",
         "419",
         "Latin America & the Caribbean",
         "2021",
         "Changes in stocks (petajoules)",
         "-472.0"
        ],
        [
         "152",
         "419",
         "Latin America & the Caribbean",
         "1995",
         "Supply per capita (gigajoules)",
         "46.0"
        ],
        [
         "153",
         "419",
         "Latin America & the Caribbean",
         "2000",
         "Supply per capita (gigajoules)",
         "49.0"
        ],
        [
         "154",
         "419",
         "Latin America & the Caribbean",
         "2005",
         "Supply per capita (gigajoules)",
         "53.0"
        ]
       ],
       "shape": {
        "columns": 5,
        "rows": 7200
       }
      },
      "text/html": [
       "<div>\n",
       "<style scoped>\n",
       "    .dataframe tbody tr th:only-of-type {\n",
       "        vertical-align: middle;\n",
       "    }\n",
       "\n",
       "    .dataframe tbody tr th {\n",
       "        vertical-align: top;\n",
       "    }\n",
       "\n",
       "    .dataframe thead th {\n",
       "        text-align: right;\n",
       "    }\n",
       "</style>\n",
       "<table border=\"1\" class=\"dataframe\">\n",
       "  <thead>\n",
       "    <tr style=\"text-align: right;\">\n",
       "      <th></th>\n",
       "      <th>Region</th>\n",
       "      <th>Country</th>\n",
       "      <th>Year</th>\n",
       "      <th>Series</th>\n",
       "      <th>Value</th>\n",
       "    </tr>\n",
       "  </thead>\n",
       "  <tbody>\n",
       "    <tr>\n",
       "      <th>16</th>\n",
       "      <td>1</td>\n",
       "      <td>Total, all countries or areas</td>\n",
       "      <td>1995</td>\n",
       "      <td>Changes in stocks (petajoules)</td>\n",
       "      <td>299.0</td>\n",
       "    </tr>\n",
       "    <tr>\n",
       "      <th>18</th>\n",
       "      <td>1</td>\n",
       "      <td>Total, all countries or areas</td>\n",
       "      <td>2005</td>\n",
       "      <td>Changes in stocks (petajoules)</td>\n",
       "      <td>-215.0</td>\n",
       "    </tr>\n",
       "    <tr>\n",
       "      <th>19</th>\n",
       "      <td>1</td>\n",
       "      <td>Total, all countries or areas</td>\n",
       "      <td>2010</td>\n",
       "      <td>Changes in stocks (petajoules)</td>\n",
       "      <td>-10.0</td>\n",
       "    </tr>\n",
       "    <tr>\n",
       "      <th>32</th>\n",
       "      <td>1</td>\n",
       "      <td>Total, all countries or areas</td>\n",
       "      <td>1995</td>\n",
       "      <td>Supply per capita (gigajoules)</td>\n",
       "      <td>65.0</td>\n",
       "    </tr>\n",
       "    <tr>\n",
       "      <th>33</th>\n",
       "      <td>1</td>\n",
       "      <td>Total, all countries or areas</td>\n",
       "      <td>2000</td>\n",
       "      <td>Supply per capita (gigajoules)</td>\n",
       "      <td>66.0</td>\n",
       "    </tr>\n",
       "    <tr>\n",
       "      <th>...</th>\n",
       "      <td>...</td>\n",
       "      <td>...</td>\n",
       "      <td>...</td>\n",
       "      <td>...</td>\n",
       "      <td>...</td>\n",
       "    </tr>\n",
       "    <tr>\n",
       "      <th>8578</th>\n",
       "      <td>716</td>\n",
       "      <td>Zimbabwe</td>\n",
       "      <td>2010</td>\n",
       "      <td>Supply per capita (gigajoules)</td>\n",
       "      <td>31.0</td>\n",
       "    </tr>\n",
       "    <tr>\n",
       "      <th>8579</th>\n",
       "      <td>716</td>\n",
       "      <td>Zimbabwe</td>\n",
       "      <td>2015</td>\n",
       "      <td>Supply per capita (gigajoules)</td>\n",
       "      <td>32.0</td>\n",
       "    </tr>\n",
       "    <tr>\n",
       "      <th>8580</th>\n",
       "      <td>716</td>\n",
       "      <td>Zimbabwe</td>\n",
       "      <td>2019</td>\n",
       "      <td>Supply per capita (gigajoules)</td>\n",
       "      <td>31.0</td>\n",
       "    </tr>\n",
       "    <tr>\n",
       "      <th>8581</th>\n",
       "      <td>716</td>\n",
       "      <td>Zimbabwe</td>\n",
       "      <td>2020</td>\n",
       "      <td>Supply per capita (gigajoules)</td>\n",
       "      <td>29.0</td>\n",
       "    </tr>\n",
       "    <tr>\n",
       "      <th>8582</th>\n",
       "      <td>716</td>\n",
       "      <td>Zimbabwe</td>\n",
       "      <td>2021</td>\n",
       "      <td>Supply per capita (gigajoules)</td>\n",
       "      <td>30.0</td>\n",
       "    </tr>\n",
       "  </tbody>\n",
       "</table>\n",
       "<p>7200 rows × 5 columns</p>\n",
       "</div>"
      ],
      "text/plain": [
       "      Region                        Country  Year  \\\n",
       "16         1  Total, all countries or areas  1995   \n",
       "18         1  Total, all countries or areas  2005   \n",
       "19         1  Total, all countries or areas  2010   \n",
       "32         1  Total, all countries or areas  1995   \n",
       "33         1  Total, all countries or areas  2000   \n",
       "...      ...                            ...   ...   \n",
       "8578     716                       Zimbabwe  2010   \n",
       "8579     716                       Zimbabwe  2015   \n",
       "8580     716                       Zimbabwe  2019   \n",
       "8581     716                       Zimbabwe  2020   \n",
       "8582     716                       Zimbabwe  2021   \n",
       "\n",
       "                              Series  Value  \n",
       "16    Changes in stocks (petajoules)  299.0  \n",
       "18    Changes in stocks (petajoules) -215.0  \n",
       "19    Changes in stocks (petajoules)  -10.0  \n",
       "32    Supply per capita (gigajoules)   65.0  \n",
       "33    Supply per capita (gigajoules)   66.0  \n",
       "...                              ...    ...  \n",
       "8578  Supply per capita (gigajoules)   31.0  \n",
       "8579  Supply per capita (gigajoules)   32.0  \n",
       "8580  Supply per capita (gigajoules)   31.0  \n",
       "8581  Supply per capita (gigajoules)   29.0  \n",
       "8582  Supply per capita (gigajoules)   30.0  \n",
       "\n",
       "[7200 rows x 5 columns]"
      ]
     },
     "execution_count": 3,
     "metadata": {},
     "output_type": "execute_result"
    }
   ],
   "source": [
    "# limpieza de datos\n",
    "data = data.drop(columns=['Footnotes', 'Source'], errors='ignore')\n",
    "data = data.rename(columns={'Region/Country/Area': 'Region', 'Unnamed: 1': 'Country'})\n",
    "\n",
    "# Convertir 'Value' a numérico, forzando errores a NaN\n",
    "data['Value'] = pd.to_numeric(data['Value'], errors='coerce')\n",
    "\n",
    "# Opcional: eliminar filas con valores NaN en 'Value'\n",
    "data = data.dropna(subset=['Value'])\n",
    "\n",
    "data"
   ]
  },
  {
   "cell_type": "code",
   "execution_count": 4,
   "id": "0c2846f9",
   "metadata": {},
   "outputs": [
    {
     "name": "stdout",
     "output_type": "stream",
     "text": [
      "['Afghanistan' 'Africa' 'Albania' 'Algeria' 'American Samoa' 'Andorra'\n",
      " 'Angola' 'Anguilla' 'Antigua and Barbuda' 'Argentina' 'Armenia' 'Aruba'\n",
      " 'Asia' 'Australia' 'Austria' 'Azerbaijan' 'Bahamas' 'Bahrain'\n",
      " 'Bangladesh' 'Barbados' 'Belarus' 'Belgium' 'Belize' 'Benin' 'Bermuda'\n",
      " 'Bhutan' 'Bolivia (Plurin. State of)' 'Bonaire, St. Eustatius & Saba'\n",
      " 'Bosnia and Herzegovina' 'Botswana' 'Brazil' 'British Virgin Islands'\n",
      " 'Brunei Darussalam' 'Bulgaria' 'Burkina Faso' 'Burundi' 'Cabo Verde'\n",
      " 'Cambodia' 'Cameroon' 'Canada' 'Cayman Islands'\n",
      " 'Central African Republic' 'Chad' 'Chile' 'China' 'China, Hong Kong SAR'\n",
      " 'China, Macao SAR' 'Colombia' 'Comoros' 'Congo' 'Cook Islands'\n",
      " 'Costa Rica' 'Croatia' 'Cuba' 'Curaçao' 'Cyprus' 'Czechia'\n",
      " 'Côte d’Ivoire' \"Dem. People's Rep. Korea\" 'Dem. Rep. of the Congo'\n",
      " 'Denmark' 'Djibouti' 'Dominica' 'Dominican Republic' 'Ecuador' 'Egypt'\n",
      " 'El Salvador' 'Equatorial Guinea' 'Eritrea' 'Estonia' 'Eswatini'\n",
      " 'Ethiopia' 'Europe' 'Falkland Islands (Malvinas)' 'Faroe Islands' 'Fiji'\n",
      " 'Finland' 'France' 'French Guiana' 'French Polynesia' 'Gabon' 'Gambia'\n",
      " 'Georgia' 'Germany' 'Ghana' 'Gibraltar' 'Greece' 'Greenland' 'Grenada'\n",
      " 'Guadeloupe' 'Guam' 'Guatemala' 'Guernsey' 'Guinea' 'Guinea-Bissau'\n",
      " 'Guyana' 'Haiti' 'Honduras' 'Hungary' 'Iceland' 'India' 'Indonesia'\n",
      " 'Iran (Islamic Republic of)' 'Iraq' 'Ireland' 'Isle of Man' 'Israel'\n",
      " 'Italy' 'Jamaica' 'Japan' 'Jersey' 'Jordan' 'Kazakhstan' 'Kenya'\n",
      " 'Kiribati' 'Kosovo' 'Kuwait' 'Kyrgyzstan' \"Lao People's Dem. Rep.\"\n",
      " 'Latin America & the Caribbean' 'Latvia' 'Lebanon' 'Lesotho' 'Liberia'\n",
      " 'Libya' 'Liechtenstein' 'Lithuania' 'Luxembourg' 'Madagascar' 'Malawi'\n",
      " 'Malaysia' 'Maldives' 'Mali' 'Malta' 'Marshall Islands' 'Martinique'\n",
      " 'Mauritania' 'Mauritius' 'Mayotte' 'Mexico' 'Micronesia (Fed. States of)'\n",
      " 'Mongolia' 'Montenegro' 'Montserrat' 'Morocco' 'Mozambique' 'Myanmar'\n",
      " 'Namibia' 'Nauru' 'Nepal' 'Netherlands (Kingdom of the)'\n",
      " 'Netherlands Antilles [former]' 'New Caledonia' 'New Zealand' 'Nicaragua'\n",
      " 'Niger' 'Nigeria' 'Niue' 'North Macedonia' 'Northern America'\n",
      " 'Northern Mariana Islands' 'Norway' 'Oceania' 'Oman'\n",
      " 'Other non-specified areas' 'Pakistan' 'Palau' 'Panama'\n",
      " 'Papua New Guinea' 'Paraguay' 'Peru' 'Philippines' 'Poland' 'Portugal'\n",
      " 'Puerto Rico' 'Qatar' 'Republic of Korea' 'Republic of Moldova' 'Romania'\n",
      " 'Russian Federation' 'Rwanda' 'Réunion' 'Saint Helena'\n",
      " 'Saint Kitts and Nevis' 'Saint Lucia' 'Saint Pierre and Miquelon'\n",
      " 'Saint Vincent & Grenadines' 'Samoa' 'Sao Tome and Principe'\n",
      " 'Saudi Arabia' 'Senegal' 'Serbia' 'Serbia and Monten. [former]'\n",
      " 'Seychelles' 'Sierra Leone' 'Singapore' 'Sint Maarten (Dutch part)'\n",
      " 'Slovakia' 'Slovenia' 'Solomon Islands' 'Somalia' 'South Africa'\n",
      " 'South Sudan' 'Spain' 'Sri Lanka' 'State of Palestine' 'Sudan'\n",
      " 'Sudan [former]' 'Suriname' 'Sweden' 'Switzerland' 'Syrian Arab Republic'\n",
      " 'Tajikistan' 'Thailand' 'Timor-Leste' 'Togo' 'Tonga'\n",
      " 'Total, all countries or areas' 'Trinidad and Tobago' 'Tunisia'\n",
      " 'Turkmenistan' 'Turks and Caicos Islands' 'Tuvalu' 'Türkiye' 'Uganda'\n",
      " 'Ukraine' 'United Arab Emirates' 'United Kingdom'\n",
      " 'United Rep. of Tanzania' 'United States Virgin Islands'\n",
      " 'United States of America' 'Uruguay' 'Uzbekistan' 'Vanuatu'\n",
      " 'Venezuela (Boliv. Rep. of)' 'Viet Nam' 'Wallis and Futuna Islands'\n",
      " 'Yemen' 'Zambia' 'Zimbabwe']\n"
     ]
    }
   ],
   "source": [
    "paises = data['Country'].unique()\n",
    "paises.sort()\n",
    "print(paises)"
   ]
  },
  {
   "cell_type": "code",
   "execution_count": 5,
   "id": "9f3624a0",
   "metadata": {},
   "outputs": [
    {
     "name": "stdout",
     "output_type": "stream",
     "text": [
      " Israel encontrado con 40 registros\n",
      "\n",
      " Series disponibles para Israel:\n",
      "  - Primary energy production (petajoules): 8 registros\n",
      "  - Net imports [Imports - Exports - Bunkers] (petajoules): 8 registros\n",
      "  - Changes in stocks (petajoules): 8 registros\n",
      "  - Total supply (petajoules): 8 registros\n",
      "  - Supply per capita (gigajoules): 8 registros\n"
     ]
    }
   ],
   "source": [
    "# Solicitar nombre del país\n",
    "pais = input(\"Ingrese el nombre del país (ej: Austria, Mexico, Spain): \")\n",
    "\n",
    "# Filtrar el país\n",
    "pais_data = data[(data['Country'] == pais)]\n",
    "\n",
    "# Verificar que tenga datos\n",
    "if len(pais_data) > 0:\n",
    "    print(f\" {pais} encontrado con {len(pais_data)} registros\")\n",
    "    print(f\"\\n Series disponibles para {pais}:\")\n",
    "    for serie in pais_data['Series'].unique():\n",
    "        count = len(pais_data[pais_data['Series'] == serie])\n",
    "        print(f\"  - {serie}: {count} registros\")\n",
    "else:\n",
    "    print(f\"⚠ '{pais}' no encontrado. Verifica el nombre.\")"
   ]
  },
  {
   "cell_type": "code",
   "execution_count": 6,
   "id": "7953fbd5",
   "metadata": {},
   "outputs": [
    {
     "data": {
      "application/vnd.plotly.v1+json": {
       "config": {
        "plotlyServerURL": "https://plot.ly"
       },
       "data": [
        {
         "mode": "lines+markers",
         "name": "Producción",
         "type": "scatter",
         "x": {
          "bdata": "ywfQB9UH2gffB+MH5AflBw==",
          "dtype": "i2"
         },
         "xaxis": "x",
         "y": {
          "bdata": "AAAAAAAAN0AAAAAAAAA7QAAAAAAAwFVAAAAAAABAZEAAAAAAABBxQAAAAAAAcHVAAAAAAAAIgkAAAAAAAGCGQA==",
          "dtype": "f8"
         },
         "yaxis": "y"
        }
       ],
       "layout": {
        "annotations": [
         {
          "font": {
           "size": 16
          },
          "showarrow": false,
          "text": "Producción de Energía Primaria en Israel",
          "x": 0.5,
          "xanchor": "center",
          "xref": "paper",
          "y": 1,
          "yanchor": "bottom",
          "yref": "paper"
         }
        ],
        "height": 600,
        "template": {
         "data": {
          "bar": [
           {
            "error_x": {
             "color": "#2a3f5f"
            },
            "error_y": {
             "color": "#2a3f5f"
            },
            "marker": {
             "line": {
              "color": "#E5ECF6",
              "width": 0.5
             },
             "pattern": {
              "fillmode": "overlay",
              "size": 10,
              "solidity": 0.2
             }
            },
            "type": "bar"
           }
          ],
          "barpolar": [
           {
            "marker": {
             "line": {
              "color": "#E5ECF6",
              "width": 0.5
             },
             "pattern": {
              "fillmode": "overlay",
              "size": 10,
              "solidity": 0.2
             }
            },
            "type": "barpolar"
           }
          ],
          "carpet": [
           {
            "aaxis": {
             "endlinecolor": "#2a3f5f",
             "gridcolor": "white",
             "linecolor": "white",
             "minorgridcolor": "white",
             "startlinecolor": "#2a3f5f"
            },
            "baxis": {
             "endlinecolor": "#2a3f5f",
             "gridcolor": "white",
             "linecolor": "white",
             "minorgridcolor": "white",
             "startlinecolor": "#2a3f5f"
            },
            "type": "carpet"
           }
          ],
          "choropleth": [
           {
            "colorbar": {
             "outlinewidth": 0,
             "ticks": ""
            },
            "type": "choropleth"
           }
          ],
          "contour": [
           {
            "colorbar": {
             "outlinewidth": 0,
             "ticks": ""
            },
            "colorscale": [
             [
              0,
              "#0d0887"
             ],
             [
              0.1111111111111111,
              "#46039f"
             ],
             [
              0.2222222222222222,
              "#7201a8"
             ],
             [
              0.3333333333333333,
              "#9c179e"
             ],
             [
              0.4444444444444444,
              "#bd3786"
             ],
             [
              0.5555555555555556,
              "#d8576b"
             ],
             [
              0.6666666666666666,
              "#ed7953"
             ],
             [
              0.7777777777777778,
              "#fb9f3a"
             ],
             [
              0.8888888888888888,
              "#fdca26"
             ],
             [
              1,
              "#f0f921"
             ]
            ],
            "type": "contour"
           }
          ],
          "contourcarpet": [
           {
            "colorbar": {
             "outlinewidth": 0,
             "ticks": ""
            },
            "type": "contourcarpet"
           }
          ],
          "heatmap": [
           {
            "colorbar": {
             "outlinewidth": 0,
             "ticks": ""
            },
            "colorscale": [
             [
              0,
              "#0d0887"
             ],
             [
              0.1111111111111111,
              "#46039f"
             ],
             [
              0.2222222222222222,
              "#7201a8"
             ],
             [
              0.3333333333333333,
              "#9c179e"
             ],
             [
              0.4444444444444444,
              "#bd3786"
             ],
             [
              0.5555555555555556,
              "#d8576b"
             ],
             [
              0.6666666666666666,
              "#ed7953"
             ],
             [
              0.7777777777777778,
              "#fb9f3a"
             ],
             [
              0.8888888888888888,
              "#fdca26"
             ],
             [
              1,
              "#f0f921"
             ]
            ],
            "type": "heatmap"
           }
          ],
          "histogram": [
           {
            "marker": {
             "pattern": {
              "fillmode": "overlay",
              "size": 10,
              "solidity": 0.2
             }
            },
            "type": "histogram"
           }
          ],
          "histogram2d": [
           {
            "colorbar": {
             "outlinewidth": 0,
             "ticks": ""
            },
            "colorscale": [
             [
              0,
              "#0d0887"
             ],
             [
              0.1111111111111111,
              "#46039f"
             ],
             [
              0.2222222222222222,
              "#7201a8"
             ],
             [
              0.3333333333333333,
              "#9c179e"
             ],
             [
              0.4444444444444444,
              "#bd3786"
             ],
             [
              0.5555555555555556,
              "#d8576b"
             ],
             [
              0.6666666666666666,
              "#ed7953"
             ],
             [
              0.7777777777777778,
              "#fb9f3a"
             ],
             [
              0.8888888888888888,
              "#fdca26"
             ],
             [
              1,
              "#f0f921"
             ]
            ],
            "type": "histogram2d"
           }
          ],
          "histogram2dcontour": [
           {
            "colorbar": {
             "outlinewidth": 0,
             "ticks": ""
            },
            "colorscale": [
             [
              0,
              "#0d0887"
             ],
             [
              0.1111111111111111,
              "#46039f"
             ],
             [
              0.2222222222222222,
              "#7201a8"
             ],
             [
              0.3333333333333333,
              "#9c179e"
             ],
             [
              0.4444444444444444,
              "#bd3786"
             ],
             [
              0.5555555555555556,
              "#d8576b"
             ],
             [
              0.6666666666666666,
              "#ed7953"
             ],
             [
              0.7777777777777778,
              "#fb9f3a"
             ],
             [
              0.8888888888888888,
              "#fdca26"
             ],
             [
              1,
              "#f0f921"
             ]
            ],
            "type": "histogram2dcontour"
           }
          ],
          "mesh3d": [
           {
            "colorbar": {
             "outlinewidth": 0,
             "ticks": ""
            },
            "type": "mesh3d"
           }
          ],
          "parcoords": [
           {
            "line": {
             "colorbar": {
              "outlinewidth": 0,
              "ticks": ""
             }
            },
            "type": "parcoords"
           }
          ],
          "pie": [
           {
            "automargin": true,
            "type": "pie"
           }
          ],
          "scatter": [
           {
            "fillpattern": {
             "fillmode": "overlay",
             "size": 10,
             "solidity": 0.2
            },
            "type": "scatter"
           }
          ],
          "scatter3d": [
           {
            "line": {
             "colorbar": {
              "outlinewidth": 0,
              "ticks": ""
             }
            },
            "marker": {
             "colorbar": {
              "outlinewidth": 0,
              "ticks": ""
             }
            },
            "type": "scatter3d"
           }
          ],
          "scattercarpet": [
           {
            "marker": {
             "colorbar": {
              "outlinewidth": 0,
              "ticks": ""
             }
            },
            "type": "scattercarpet"
           }
          ],
          "scattergeo": [
           {
            "marker": {
             "colorbar": {
              "outlinewidth": 0,
              "ticks": ""
             }
            },
            "type": "scattergeo"
           }
          ],
          "scattergl": [
           {
            "marker": {
             "colorbar": {
              "outlinewidth": 0,
              "ticks": ""
             }
            },
            "type": "scattergl"
           }
          ],
          "scattermap": [
           {
            "marker": {
             "colorbar": {
              "outlinewidth": 0,
              "ticks": ""
             }
            },
            "type": "scattermap"
           }
          ],
          "scattermapbox": [
           {
            "marker": {
             "colorbar": {
              "outlinewidth": 0,
              "ticks": ""
             }
            },
            "type": "scattermapbox"
           }
          ],
          "scatterpolar": [
           {
            "marker": {
             "colorbar": {
              "outlinewidth": 0,
              "ticks": ""
             }
            },
            "type": "scatterpolar"
           }
          ],
          "scatterpolargl": [
           {
            "marker": {
             "colorbar": {
              "outlinewidth": 0,
              "ticks": ""
             }
            },
            "type": "scatterpolargl"
           }
          ],
          "scatterternary": [
           {
            "marker": {
             "colorbar": {
              "outlinewidth": 0,
              "ticks": ""
             }
            },
            "type": "scatterternary"
           }
          ],
          "surface": [
           {
            "colorbar": {
             "outlinewidth": 0,
             "ticks": ""
            },
            "colorscale": [
             [
              0,
              "#0d0887"
             ],
             [
              0.1111111111111111,
              "#46039f"
             ],
             [
              0.2222222222222222,
              "#7201a8"
             ],
             [
              0.3333333333333333,
              "#9c179e"
             ],
             [
              0.4444444444444444,
              "#bd3786"
             ],
             [
              0.5555555555555556,
              "#d8576b"
             ],
             [
              0.6666666666666666,
              "#ed7953"
             ],
             [
              0.7777777777777778,
              "#fb9f3a"
             ],
             [
              0.8888888888888888,
              "#fdca26"
             ],
             [
              1,
              "#f0f921"
             ]
            ],
            "type": "surface"
           }
          ],
          "table": [
           {
            "cells": {
             "fill": {
              "color": "#EBF0F8"
             },
             "line": {
              "color": "white"
             }
            },
            "header": {
             "fill": {
              "color": "#C8D4E3"
             },
             "line": {
              "color": "white"
             }
            },
            "type": "table"
           }
          ]
         },
         "layout": {
          "annotationdefaults": {
           "arrowcolor": "#2a3f5f",
           "arrowhead": 0,
           "arrowwidth": 1
          },
          "autotypenumbers": "strict",
          "coloraxis": {
           "colorbar": {
            "outlinewidth": 0,
            "ticks": ""
           }
          },
          "colorscale": {
           "diverging": [
            [
             0,
             "#8e0152"
            ],
            [
             0.1,
             "#c51b7d"
            ],
            [
             0.2,
             "#de77ae"
            ],
            [
             0.3,
             "#f1b6da"
            ],
            [
             0.4,
             "#fde0ef"
            ],
            [
             0.5,
             "#f7f7f7"
            ],
            [
             0.6,
             "#e6f5d0"
            ],
            [
             0.7,
             "#b8e186"
            ],
            [
             0.8,
             "#7fbc41"
            ],
            [
             0.9,
             "#4d9221"
            ],
            [
             1,
             "#276419"
            ]
           ],
           "sequential": [
            [
             0,
             "#0d0887"
            ],
            [
             0.1111111111111111,
             "#46039f"
            ],
            [
             0.2222222222222222,
             "#7201a8"
            ],
            [
             0.3333333333333333,
             "#9c179e"
            ],
            [
             0.4444444444444444,
             "#bd3786"
            ],
            [
             0.5555555555555556,
             "#d8576b"
            ],
            [
             0.6666666666666666,
             "#ed7953"
            ],
            [
             0.7777777777777778,
             "#fb9f3a"
            ],
            [
             0.8888888888888888,
             "#fdca26"
            ],
            [
             1,
             "#f0f921"
            ]
           ],
           "sequentialminus": [
            [
             0,
             "#0d0887"
            ],
            [
             0.1111111111111111,
             "#46039f"
            ],
            [
             0.2222222222222222,
             "#7201a8"
            ],
            [
             0.3333333333333333,
             "#9c179e"
            ],
            [
             0.4444444444444444,
             "#bd3786"
            ],
            [
             0.5555555555555556,
             "#d8576b"
            ],
            [
             0.6666666666666666,
             "#ed7953"
            ],
            [
             0.7777777777777778,
             "#fb9f3a"
            ],
            [
             0.8888888888888888,
             "#fdca26"
            ],
            [
             1,
             "#f0f921"
            ]
           ]
          },
          "colorway": [
           "#636efa",
           "#EF553B",
           "#00cc96",
           "#ab63fa",
           "#FFA15A",
           "#19d3f3",
           "#FF6692",
           "#B6E880",
           "#FF97FF",
           "#FECB52"
          ],
          "font": {
           "color": "#2a3f5f"
          },
          "geo": {
           "bgcolor": "white",
           "lakecolor": "white",
           "landcolor": "#E5ECF6",
           "showlakes": true,
           "showland": true,
           "subunitcolor": "white"
          },
          "hoverlabel": {
           "align": "left"
          },
          "hovermode": "closest",
          "mapbox": {
           "style": "light"
          },
          "paper_bgcolor": "white",
          "plot_bgcolor": "#E5ECF6",
          "polar": {
           "angularaxis": {
            "gridcolor": "white",
            "linecolor": "white",
            "ticks": ""
           },
           "bgcolor": "#E5ECF6",
           "radialaxis": {
            "gridcolor": "white",
            "linecolor": "white",
            "ticks": ""
           }
          },
          "scene": {
           "xaxis": {
            "backgroundcolor": "#E5ECF6",
            "gridcolor": "white",
            "gridwidth": 2,
            "linecolor": "white",
            "showbackground": true,
            "ticks": "",
            "zerolinecolor": "white"
           },
           "yaxis": {
            "backgroundcolor": "#E5ECF6",
            "gridcolor": "white",
            "gridwidth": 2,
            "linecolor": "white",
            "showbackground": true,
            "ticks": "",
            "zerolinecolor": "white"
           },
           "zaxis": {
            "backgroundcolor": "#E5ECF6",
            "gridcolor": "white",
            "gridwidth": 2,
            "linecolor": "white",
            "showbackground": true,
            "ticks": "",
            "zerolinecolor": "white"
           }
          },
          "shapedefaults": {
           "line": {
            "color": "#2a3f5f"
           }
          },
          "ternary": {
           "aaxis": {
            "gridcolor": "white",
            "linecolor": "white",
            "ticks": ""
           },
           "baxis": {
            "gridcolor": "white",
            "linecolor": "white",
            "ticks": ""
           },
           "bgcolor": "#E5ECF6",
           "caxis": {
            "gridcolor": "white",
            "linecolor": "white",
            "ticks": ""
           }
          },
          "title": {
           "x": 0.05
          },
          "xaxis": {
           "automargin": true,
           "gridcolor": "white",
           "linecolor": "white",
           "ticks": "",
           "title": {
            "standoff": 15
           },
           "zerolinecolor": "white",
           "zerolinewidth": 2
          },
          "yaxis": {
           "automargin": true,
           "gridcolor": "white",
           "linecolor": "white",
           "ticks": "",
           "title": {
            "standoff": 15
           },
           "zerolinecolor": "white",
           "zerolinewidth": 2
          }
         }
        },
        "title": {
         "text": "Producción de Energía Primaria en Israel"
        },
        "width": 800,
        "xaxis": {
         "anchor": "y",
         "domain": [
          0,
          1
         ],
         "title": {
          "text": "Año"
         }
        },
        "yaxis": {
         "anchor": "x",
         "domain": [
          0,
          1
         ],
         "title": {
          "text": "Petajulios"
         }
        }
       }
      }
     },
     "metadata": {},
     "output_type": "display_data"
    }
   ],
   "source": [
    "# Grafica - Solo producción de energía primaria\n",
    "pais_produccion = pais_data[pais_data['Series'] == 'Primary energy production (petajoules)']\n",
    "\n",
    "fig1 = make_subplots(rows=1, cols=1, subplot_titles=(f\"Producción de Energía Primaria en {pais}\",))\n",
    "fig1.add_trace(go.Scatter(x=pais_produccion['Year'], y=pais_produccion['Value'], \n",
    "                         mode='lines+markers', name='Producción'), row=1, col=1)\n",
    "fig1.update_layout(height=600, width=800, \n",
    "                  title_text=f\"Producción de Energía Primaria en {pais}\",\n",
    "                  xaxis_title=\"Año\",\n",
    "                  yaxis_title=\"Petajulios\")\n",
    "fig1.show()"
   ]
  },
  {
   "cell_type": "code",
   "execution_count": 7,
   "id": "5975678f",
   "metadata": {},
   "outputs": [
    {
     "data": {
      "application/vnd.plotly.v1+json": {
       "config": {
        "plotlyServerURL": "https://plot.ly"
       },
       "data": [
        {
         "mode": "lines+markers",
         "name": "Primary energy production (petajoules)",
         "type": "scatter",
         "x": {
          "bdata": "ywfQB9UH2gffB+MH5AflBw==",
          "dtype": "i2"
         },
         "y": {
          "bdata": "AAAAAAAAN0AAAAAAAAA7QAAAAAAAwFVAAAAAAABAZEAAAAAAABBxQAAAAAAAcHVAAAAAAAAIgkAAAAAAAGCGQA==",
          "dtype": "f8"
         }
        },
        {
         "mode": "lines+markers",
         "name": "Net imports [Imports - Exports - Bunkers] (petajoules)",
         "type": "scatter",
         "x": {
          "bdata": "ywfQB9UH2gffB+MH5AflBw==",
          "dtype": "i2"
         },
         "y": {
          "bdata": "AAAAAACgg0AAAAAAAJiGQAAAAAAAkIVAAAAAAABQiUAAAAAAAICEQAAAAAAAOIJAAAAAAACQd0AAAAAAAIBtQA==",
          "dtype": "f8"
         }
        },
        {
         "mode": "lines+markers",
         "name": "Changes in stocks (petajoules)",
         "type": "scatter",
         "x": {
          "bdata": "ywfQB9UH2gffB+MH5AflBw==",
          "dtype": "i2"
         },
         "y": {
          "bdata": "AAAAAAAA8L8AAAAAAAAxwAAAAAAAABRAAAAAAAAAAAAAAAAAAAAsQAAAAAAAAChAAAAAAAAAGEAAAAAAAAAUwA==",
          "dtype": "f8"
         }
        },
        {
         "mode": "lines+markers",
         "name": "Total supply (petajoules)",
         "type": "scatter",
         "x": {
          "bdata": "ywfQB9UH2gffB+MH5AflBw==",
          "dtype": "i2"
         },
         "y": {
          "bdata": "AAAAAABghEAAAAAAAPiHQAAAAAAAKIhAAAAAAABgjkAAAAAAAJiMQAAAAAAAkIxAAAAAAACgjUAAAAAAANiNQA==",
          "dtype": "f8"
         }
        },
        {
         "mode": "lines+markers",
         "name": "Supply per capita (gigajoules)",
         "type": "scatter",
         "x": {
          "bdata": "ywfQB9UH2gffB+MH5AflBw==",
          "dtype": "i2"
         },
         "y": {
          "bdata": "AAAAAADAXUAAAAAAAEBfQAAAAAAAwFxAAAAAAACgYEAAAAAAAIBcQAAAAAAAgFpAAAAAAAAAW0AAAAAAAMBaQA==",
          "dtype": "f8"
         }
        }
       ],
       "layout": {
        "height": 600,
        "legend": {
         "bordercolor": "Black",
         "borderwidth": 1,
         "orientation": "v"
        },
        "template": {
         "data": {
          "bar": [
           {
            "error_x": {
             "color": "#2a3f5f"
            },
            "error_y": {
             "color": "#2a3f5f"
            },
            "marker": {
             "line": {
              "color": "#E5ECF6",
              "width": 0.5
             },
             "pattern": {
              "fillmode": "overlay",
              "size": 10,
              "solidity": 0.2
             }
            },
            "type": "bar"
           }
          ],
          "barpolar": [
           {
            "marker": {
             "line": {
              "color": "#E5ECF6",
              "width": 0.5
             },
             "pattern": {
              "fillmode": "overlay",
              "size": 10,
              "solidity": 0.2
             }
            },
            "type": "barpolar"
           }
          ],
          "carpet": [
           {
            "aaxis": {
             "endlinecolor": "#2a3f5f",
             "gridcolor": "white",
             "linecolor": "white",
             "minorgridcolor": "white",
             "startlinecolor": "#2a3f5f"
            },
            "baxis": {
             "endlinecolor": "#2a3f5f",
             "gridcolor": "white",
             "linecolor": "white",
             "minorgridcolor": "white",
             "startlinecolor": "#2a3f5f"
            },
            "type": "carpet"
           }
          ],
          "choropleth": [
           {
            "colorbar": {
             "outlinewidth": 0,
             "ticks": ""
            },
            "type": "choropleth"
           }
          ],
          "contour": [
           {
            "colorbar": {
             "outlinewidth": 0,
             "ticks": ""
            },
            "colorscale": [
             [
              0,
              "#0d0887"
             ],
             [
              0.1111111111111111,
              "#46039f"
             ],
             [
              0.2222222222222222,
              "#7201a8"
             ],
             [
              0.3333333333333333,
              "#9c179e"
             ],
             [
              0.4444444444444444,
              "#bd3786"
             ],
             [
              0.5555555555555556,
              "#d8576b"
             ],
             [
              0.6666666666666666,
              "#ed7953"
             ],
             [
              0.7777777777777778,
              "#fb9f3a"
             ],
             [
              0.8888888888888888,
              "#fdca26"
             ],
             [
              1,
              "#f0f921"
             ]
            ],
            "type": "contour"
           }
          ],
          "contourcarpet": [
           {
            "colorbar": {
             "outlinewidth": 0,
             "ticks": ""
            },
            "type": "contourcarpet"
           }
          ],
          "heatmap": [
           {
            "colorbar": {
             "outlinewidth": 0,
             "ticks": ""
            },
            "colorscale": [
             [
              0,
              "#0d0887"
             ],
             [
              0.1111111111111111,
              "#46039f"
             ],
             [
              0.2222222222222222,
              "#7201a8"
             ],
             [
              0.3333333333333333,
              "#9c179e"
             ],
             [
              0.4444444444444444,
              "#bd3786"
             ],
             [
              0.5555555555555556,
              "#d8576b"
             ],
             [
              0.6666666666666666,
              "#ed7953"
             ],
             [
              0.7777777777777778,
              "#fb9f3a"
             ],
             [
              0.8888888888888888,
              "#fdca26"
             ],
             [
              1,
              "#f0f921"
             ]
            ],
            "type": "heatmap"
           }
          ],
          "histogram": [
           {
            "marker": {
             "pattern": {
              "fillmode": "overlay",
              "size": 10,
              "solidity": 0.2
             }
            },
            "type": "histogram"
           }
          ],
          "histogram2d": [
           {
            "colorbar": {
             "outlinewidth": 0,
             "ticks": ""
            },
            "colorscale": [
             [
              0,
              "#0d0887"
             ],
             [
              0.1111111111111111,
              "#46039f"
             ],
             [
              0.2222222222222222,
              "#7201a8"
             ],
             [
              0.3333333333333333,
              "#9c179e"
             ],
             [
              0.4444444444444444,
              "#bd3786"
             ],
             [
              0.5555555555555556,
              "#d8576b"
             ],
             [
              0.6666666666666666,
              "#ed7953"
             ],
             [
              0.7777777777777778,
              "#fb9f3a"
             ],
             [
              0.8888888888888888,
              "#fdca26"
             ],
             [
              1,
              "#f0f921"
             ]
            ],
            "type": "histogram2d"
           }
          ],
          "histogram2dcontour": [
           {
            "colorbar": {
             "outlinewidth": 0,
             "ticks": ""
            },
            "colorscale": [
             [
              0,
              "#0d0887"
             ],
             [
              0.1111111111111111,
              "#46039f"
             ],
             [
              0.2222222222222222,
              "#7201a8"
             ],
             [
              0.3333333333333333,
              "#9c179e"
             ],
             [
              0.4444444444444444,
              "#bd3786"
             ],
             [
              0.5555555555555556,
              "#d8576b"
             ],
             [
              0.6666666666666666,
              "#ed7953"
             ],
             [
              0.7777777777777778,
              "#fb9f3a"
             ],
             [
              0.8888888888888888,
              "#fdca26"
             ],
             [
              1,
              "#f0f921"
             ]
            ],
            "type": "histogram2dcontour"
           }
          ],
          "mesh3d": [
           {
            "colorbar": {
             "outlinewidth": 0,
             "ticks": ""
            },
            "type": "mesh3d"
           }
          ],
          "parcoords": [
           {
            "line": {
             "colorbar": {
              "outlinewidth": 0,
              "ticks": ""
             }
            },
            "type": "parcoords"
           }
          ],
          "pie": [
           {
            "automargin": true,
            "type": "pie"
           }
          ],
          "scatter": [
           {
            "fillpattern": {
             "fillmode": "overlay",
             "size": 10,
             "solidity": 0.2
            },
            "type": "scatter"
           }
          ],
          "scatter3d": [
           {
            "line": {
             "colorbar": {
              "outlinewidth": 0,
              "ticks": ""
             }
            },
            "marker": {
             "colorbar": {
              "outlinewidth": 0,
              "ticks": ""
             }
            },
            "type": "scatter3d"
           }
          ],
          "scattercarpet": [
           {
            "marker": {
             "colorbar": {
              "outlinewidth": 0,
              "ticks": ""
             }
            },
            "type": "scattercarpet"
           }
          ],
          "scattergeo": [
           {
            "marker": {
             "colorbar": {
              "outlinewidth": 0,
              "ticks": ""
             }
            },
            "type": "scattergeo"
           }
          ],
          "scattergl": [
           {
            "marker": {
             "colorbar": {
              "outlinewidth": 0,
              "ticks": ""
             }
            },
            "type": "scattergl"
           }
          ],
          "scattermap": [
           {
            "marker": {
             "colorbar": {
              "outlinewidth": 0,
              "ticks": ""
             }
            },
            "type": "scattermap"
           }
          ],
          "scattermapbox": [
           {
            "marker": {
             "colorbar": {
              "outlinewidth": 0,
              "ticks": ""
             }
            },
            "type": "scattermapbox"
           }
          ],
          "scatterpolar": [
           {
            "marker": {
             "colorbar": {
              "outlinewidth": 0,
              "ticks": ""
             }
            },
            "type": "scatterpolar"
           }
          ],
          "scatterpolargl": [
           {
            "marker": {
             "colorbar": {
              "outlinewidth": 0,
              "ticks": ""
             }
            },
            "type": "scatterpolargl"
           }
          ],
          "scatterternary": [
           {
            "marker": {
             "colorbar": {
              "outlinewidth": 0,
              "ticks": ""
             }
            },
            "type": "scatterternary"
           }
          ],
          "surface": [
           {
            "colorbar": {
             "outlinewidth": 0,
             "ticks": ""
            },
            "colorscale": [
             [
              0,
              "#0d0887"
             ],
             [
              0.1111111111111111,
              "#46039f"
             ],
             [
              0.2222222222222222,
              "#7201a8"
             ],
             [
              0.3333333333333333,
              "#9c179e"
             ],
             [
              0.4444444444444444,
              "#bd3786"
             ],
             [
              0.5555555555555556,
              "#d8576b"
             ],
             [
              0.6666666666666666,
              "#ed7953"
             ],
             [
              0.7777777777777778,
              "#fb9f3a"
             ],
             [
              0.8888888888888888,
              "#fdca26"
             ],
             [
              1,
              "#f0f921"
             ]
            ],
            "type": "surface"
           }
          ],
          "table": [
           {
            "cells": {
             "fill": {
              "color": "#EBF0F8"
             },
             "line": {
              "color": "white"
             }
            },
            "header": {
             "fill": {
              "color": "#C8D4E3"
             },
             "line": {
              "color": "white"
             }
            },
            "type": "table"
           }
          ]
         },
         "layout": {
          "annotationdefaults": {
           "arrowcolor": "#2a3f5f",
           "arrowhead": 0,
           "arrowwidth": 1
          },
          "autotypenumbers": "strict",
          "coloraxis": {
           "colorbar": {
            "outlinewidth": 0,
            "ticks": ""
           }
          },
          "colorscale": {
           "diverging": [
            [
             0,
             "#8e0152"
            ],
            [
             0.1,
             "#c51b7d"
            ],
            [
             0.2,
             "#de77ae"
            ],
            [
             0.3,
             "#f1b6da"
            ],
            [
             0.4,
             "#fde0ef"
            ],
            [
             0.5,
             "#f7f7f7"
            ],
            [
             0.6,
             "#e6f5d0"
            ],
            [
             0.7,
             "#b8e186"
            ],
            [
             0.8,
             "#7fbc41"
            ],
            [
             0.9,
             "#4d9221"
            ],
            [
             1,
             "#276419"
            ]
           ],
           "sequential": [
            [
             0,
             "#0d0887"
            ],
            [
             0.1111111111111111,
             "#46039f"
            ],
            [
             0.2222222222222222,
             "#7201a8"
            ],
            [
             0.3333333333333333,
             "#9c179e"
            ],
            [
             0.4444444444444444,
             "#bd3786"
            ],
            [
             0.5555555555555556,
             "#d8576b"
            ],
            [
             0.6666666666666666,
             "#ed7953"
            ],
            [
             0.7777777777777778,
             "#fb9f3a"
            ],
            [
             0.8888888888888888,
             "#fdca26"
            ],
            [
             1,
             "#f0f921"
            ]
           ],
           "sequentialminus": [
            [
             0,
             "#0d0887"
            ],
            [
             0.1111111111111111,
             "#46039f"
            ],
            [
             0.2222222222222222,
             "#7201a8"
            ],
            [
             0.3333333333333333,
             "#9c179e"
            ],
            [
             0.4444444444444444,
             "#bd3786"
            ],
            [
             0.5555555555555556,
             "#d8576b"
            ],
            [
             0.6666666666666666,
             "#ed7953"
            ],
            [
             0.7777777777777778,
             "#fb9f3a"
            ],
            [
             0.8888888888888888,
             "#fdca26"
            ],
            [
             1,
             "#f0f921"
            ]
           ]
          },
          "colorway": [
           "#636efa",
           "#EF553B",
           "#00cc96",
           "#ab63fa",
           "#FFA15A",
           "#19d3f3",
           "#FF6692",
           "#B6E880",
           "#FF97FF",
           "#FECB52"
          ],
          "font": {
           "color": "#2a3f5f"
          },
          "geo": {
           "bgcolor": "white",
           "lakecolor": "white",
           "landcolor": "#E5ECF6",
           "showlakes": true,
           "showland": true,
           "subunitcolor": "white"
          },
          "hoverlabel": {
           "align": "left"
          },
          "hovermode": "closest",
          "mapbox": {
           "style": "light"
          },
          "paper_bgcolor": "white",
          "plot_bgcolor": "#E5ECF6",
          "polar": {
           "angularaxis": {
            "gridcolor": "white",
            "linecolor": "white",
            "ticks": ""
           },
           "bgcolor": "#E5ECF6",
           "radialaxis": {
            "gridcolor": "white",
            "linecolor": "white",
            "ticks": ""
           }
          },
          "scene": {
           "xaxis": {
            "backgroundcolor": "#E5ECF6",
            "gridcolor": "white",
            "gridwidth": 2,
            "linecolor": "white",
            "showbackground": true,
            "ticks": "",
            "zerolinecolor": "white"
           },
           "yaxis": {
            "backgroundcolor": "#E5ECF6",
            "gridcolor": "white",
            "gridwidth": 2,
            "linecolor": "white",
            "showbackground": true,
            "ticks": "",
            "zerolinecolor": "white"
           },
           "zaxis": {
            "backgroundcolor": "#E5ECF6",
            "gridcolor": "white",
            "gridwidth": 2,
            "linecolor": "white",
            "showbackground": true,
            "ticks": "",
            "zerolinecolor": "white"
           }
          },
          "shapedefaults": {
           "line": {
            "color": "#2a3f5f"
           }
          },
          "ternary": {
           "aaxis": {
            "gridcolor": "white",
            "linecolor": "white",
            "ticks": ""
           },
           "baxis": {
            "gridcolor": "white",
            "linecolor": "white",
            "ticks": ""
           },
           "bgcolor": "#E5ECF6",
           "caxis": {
            "gridcolor": "white",
            "linecolor": "white",
            "ticks": ""
           }
          },
          "title": {
           "x": 0.05
          },
          "xaxis": {
           "automargin": true,
           "gridcolor": "white",
           "linecolor": "white",
           "ticks": "",
           "title": {
            "standoff": 15
           },
           "zerolinecolor": "white",
           "zerolinewidth": 2
          },
          "yaxis": {
           "automargin": true,
           "gridcolor": "white",
           "linecolor": "white",
           "ticks": "",
           "title": {
            "standoff": 15
           },
           "zerolinecolor": "white",
           "zerolinewidth": 2
          }
         }
        },
        "title": {
         "font": {
          "size": 20
         },
         "text": "Energía en Israel (Todas las Series)"
        },
        "width": 1000,
        "xaxis": {
         "title": {
          "text": "Año"
         }
        },
        "yaxis": {
         "title": {
          "text": "Petajulios"
         }
        }
       }
      }
     },
     "metadata": {},
     "output_type": "display_data"
    }
   ],
   "source": [
    "# Grafica comparativa del país\n",
    "fig2 = go.Figure()\n",
    "\n",
    "for serie in pais_data['Series'].unique():\n",
    "    datos_serie = pais_data[pais_data['Series'] == serie]\n",
    "    fig2.add_trace(go.Scatter(x=datos_serie['Year'], y=datos_serie['Value'], \n",
    "                             mode='lines+markers', name=serie))\n",
    "\n",
    "fig2.update_layout(\n",
    "    height=600, \n",
    "    width=1000, \n",
    "    title_text=f\"Energía en {pais} (Todas las Series)\",\n",
    "    title_font_size=20,  # Jerarquía\n",
    "    xaxis_title=\"Año\",\n",
    "    yaxis_title=\"Petajulios\",\n",
    "    legend=dict(\n",
    "        orientation=\"v\",\n",
    "        bordercolor=\"Black\",\n",
    "        borderwidth=1\n",
    "    )    \n",
    ")\n",
    "fig2.show()"
   ]
  },
  {
   "cell_type": "code",
   "execution_count": 8,
   "id": "caf6e3da",
   "metadata": {},
   "outputs": [
    {
     "data": {
      "application/vnd.plotly.v1+json": {
       "config": {
        "plotlyServerURL": "https://plot.ly"
       },
       "data": [
        {
         "name": "Importaciones",
         "type": "bar",
         "x": {
          "bdata": "ywfQB9UH2gffB+MH5AflBw==",
          "dtype": "i2"
         },
         "xaxis": "x",
         "y": {
          "bdata": "AAAAAACgg0AAAAAAAJiGQAAAAAAAkIVAAAAAAABQiUAAAAAAAICEQAAAAAAAOIJAAAAAAACQd0AAAAAAAIBtQA==",
          "dtype": "f8"
         },
         "yaxis": "y"
        }
       ],
       "layout": {
        "annotations": [
         {
          "font": {
           "size": 16
          },
          "showarrow": false,
          "text": "Importación Netas en Israel",
          "x": 0.5,
          "xanchor": "center",
          "xref": "paper",
          "y": 1,
          "yanchor": "bottom",
          "yref": "paper"
         }
        ],
        "height": 600,
        "template": {
         "data": {
          "bar": [
           {
            "error_x": {
             "color": "#2a3f5f"
            },
            "error_y": {
             "color": "#2a3f5f"
            },
            "marker": {
             "line": {
              "color": "#E5ECF6",
              "width": 0.5
             },
             "pattern": {
              "fillmode": "overlay",
              "size": 10,
              "solidity": 0.2
             }
            },
            "type": "bar"
           }
          ],
          "barpolar": [
           {
            "marker": {
             "line": {
              "color": "#E5ECF6",
              "width": 0.5
             },
             "pattern": {
              "fillmode": "overlay",
              "size": 10,
              "solidity": 0.2
             }
            },
            "type": "barpolar"
           }
          ],
          "carpet": [
           {
            "aaxis": {
             "endlinecolor": "#2a3f5f",
             "gridcolor": "white",
             "linecolor": "white",
             "minorgridcolor": "white",
             "startlinecolor": "#2a3f5f"
            },
            "baxis": {
             "endlinecolor": "#2a3f5f",
             "gridcolor": "white",
             "linecolor": "white",
             "minorgridcolor": "white",
             "startlinecolor": "#2a3f5f"
            },
            "type": "carpet"
           }
          ],
          "choropleth": [
           {
            "colorbar": {
             "outlinewidth": 0,
             "ticks": ""
            },
            "type": "choropleth"
           }
          ],
          "contour": [
           {
            "colorbar": {
             "outlinewidth": 0,
             "ticks": ""
            },
            "colorscale": [
             [
              0,
              "#0d0887"
             ],
             [
              0.1111111111111111,
              "#46039f"
             ],
             [
              0.2222222222222222,
              "#7201a8"
             ],
             [
              0.3333333333333333,
              "#9c179e"
             ],
             [
              0.4444444444444444,
              "#bd3786"
             ],
             [
              0.5555555555555556,
              "#d8576b"
             ],
             [
              0.6666666666666666,
              "#ed7953"
             ],
             [
              0.7777777777777778,
              "#fb9f3a"
             ],
             [
              0.8888888888888888,
              "#fdca26"
             ],
             [
              1,
              "#f0f921"
             ]
            ],
            "type": "contour"
           }
          ],
          "contourcarpet": [
           {
            "colorbar": {
             "outlinewidth": 0,
             "ticks": ""
            },
            "type": "contourcarpet"
           }
          ],
          "heatmap": [
           {
            "colorbar": {
             "outlinewidth": 0,
             "ticks": ""
            },
            "colorscale": [
             [
              0,
              "#0d0887"
             ],
             [
              0.1111111111111111,
              "#46039f"
             ],
             [
              0.2222222222222222,
              "#7201a8"
             ],
             [
              0.3333333333333333,
              "#9c179e"
             ],
             [
              0.4444444444444444,
              "#bd3786"
             ],
             [
              0.5555555555555556,
              "#d8576b"
             ],
             [
              0.6666666666666666,
              "#ed7953"
             ],
             [
              0.7777777777777778,
              "#fb9f3a"
             ],
             [
              0.8888888888888888,
              "#fdca26"
             ],
             [
              1,
              "#f0f921"
             ]
            ],
            "type": "heatmap"
           }
          ],
          "histogram": [
           {
            "marker": {
             "pattern": {
              "fillmode": "overlay",
              "size": 10,
              "solidity": 0.2
             }
            },
            "type": "histogram"
           }
          ],
          "histogram2d": [
           {
            "colorbar": {
             "outlinewidth": 0,
             "ticks": ""
            },
            "colorscale": [
             [
              0,
              "#0d0887"
             ],
             [
              0.1111111111111111,
              "#46039f"
             ],
             [
              0.2222222222222222,
              "#7201a8"
             ],
             [
              0.3333333333333333,
              "#9c179e"
             ],
             [
              0.4444444444444444,
              "#bd3786"
             ],
             [
              0.5555555555555556,
              "#d8576b"
             ],
             [
              0.6666666666666666,
              "#ed7953"
             ],
             [
              0.7777777777777778,
              "#fb9f3a"
             ],
             [
              0.8888888888888888,
              "#fdca26"
             ],
             [
              1,
              "#f0f921"
             ]
            ],
            "type": "histogram2d"
           }
          ],
          "histogram2dcontour": [
           {
            "colorbar": {
             "outlinewidth": 0,
             "ticks": ""
            },
            "colorscale": [
             [
              0,
              "#0d0887"
             ],
             [
              0.1111111111111111,
              "#46039f"
             ],
             [
              0.2222222222222222,
              "#7201a8"
             ],
             [
              0.3333333333333333,
              "#9c179e"
             ],
             [
              0.4444444444444444,
              "#bd3786"
             ],
             [
              0.5555555555555556,
              "#d8576b"
             ],
             [
              0.6666666666666666,
              "#ed7953"
             ],
             [
              0.7777777777777778,
              "#fb9f3a"
             ],
             [
              0.8888888888888888,
              "#fdca26"
             ],
             [
              1,
              "#f0f921"
             ]
            ],
            "type": "histogram2dcontour"
           }
          ],
          "mesh3d": [
           {
            "colorbar": {
             "outlinewidth": 0,
             "ticks": ""
            },
            "type": "mesh3d"
           }
          ],
          "parcoords": [
           {
            "line": {
             "colorbar": {
              "outlinewidth": 0,
              "ticks": ""
             }
            },
            "type": "parcoords"
           }
          ],
          "pie": [
           {
            "automargin": true,
            "type": "pie"
           }
          ],
          "scatter": [
           {
            "fillpattern": {
             "fillmode": "overlay",
             "size": 10,
             "solidity": 0.2
            },
            "type": "scatter"
           }
          ],
          "scatter3d": [
           {
            "line": {
             "colorbar": {
              "outlinewidth": 0,
              "ticks": ""
             }
            },
            "marker": {
             "colorbar": {
              "outlinewidth": 0,
              "ticks": ""
             }
            },
            "type": "scatter3d"
           }
          ],
          "scattercarpet": [
           {
            "marker": {
             "colorbar": {
              "outlinewidth": 0,
              "ticks": ""
             }
            },
            "type": "scattercarpet"
           }
          ],
          "scattergeo": [
           {
            "marker": {
             "colorbar": {
              "outlinewidth": 0,
              "ticks": ""
             }
            },
            "type": "scattergeo"
           }
          ],
          "scattergl": [
           {
            "marker": {
             "colorbar": {
              "outlinewidth": 0,
              "ticks": ""
             }
            },
            "type": "scattergl"
           }
          ],
          "scattermap": [
           {
            "marker": {
             "colorbar": {
              "outlinewidth": 0,
              "ticks": ""
             }
            },
            "type": "scattermap"
           }
          ],
          "scattermapbox": [
           {
            "marker": {
             "colorbar": {
              "outlinewidth": 0,
              "ticks": ""
             }
            },
            "type": "scattermapbox"
           }
          ],
          "scatterpolar": [
           {
            "marker": {
             "colorbar": {
              "outlinewidth": 0,
              "ticks": ""
             }
            },
            "type": "scatterpolar"
           }
          ],
          "scatterpolargl": [
           {
            "marker": {
             "colorbar": {
              "outlinewidth": 0,
              "ticks": ""
             }
            },
            "type": "scatterpolargl"
           }
          ],
          "scatterternary": [
           {
            "marker": {
             "colorbar": {
              "outlinewidth": 0,
              "ticks": ""
             }
            },
            "type": "scatterternary"
           }
          ],
          "surface": [
           {
            "colorbar": {
             "outlinewidth": 0,
             "ticks": ""
            },
            "colorscale": [
             [
              0,
              "#0d0887"
             ],
             [
              0.1111111111111111,
              "#46039f"
             ],
             [
              0.2222222222222222,
              "#7201a8"
             ],
             [
              0.3333333333333333,
              "#9c179e"
             ],
             [
              0.4444444444444444,
              "#bd3786"
             ],
             [
              0.5555555555555556,
              "#d8576b"
             ],
             [
              0.6666666666666666,
              "#ed7953"
             ],
             [
              0.7777777777777778,
              "#fb9f3a"
             ],
             [
              0.8888888888888888,
              "#fdca26"
             ],
             [
              1,
              "#f0f921"
             ]
            ],
            "type": "surface"
           }
          ],
          "table": [
           {
            "cells": {
             "fill": {
              "color": "#EBF0F8"
             },
             "line": {
              "color": "white"
             }
            },
            "header": {
             "fill": {
              "color": "#C8D4E3"
             },
             "line": {
              "color": "white"
             }
            },
            "type": "table"
           }
          ]
         },
         "layout": {
          "annotationdefaults": {
           "arrowcolor": "#2a3f5f",
           "arrowhead": 0,
           "arrowwidth": 1
          },
          "autotypenumbers": "strict",
          "coloraxis": {
           "colorbar": {
            "outlinewidth": 0,
            "ticks": ""
           }
          },
          "colorscale": {
           "diverging": [
            [
             0,
             "#8e0152"
            ],
            [
             0.1,
             "#c51b7d"
            ],
            [
             0.2,
             "#de77ae"
            ],
            [
             0.3,
             "#f1b6da"
            ],
            [
             0.4,
             "#fde0ef"
            ],
            [
             0.5,
             "#f7f7f7"
            ],
            [
             0.6,
             "#e6f5d0"
            ],
            [
             0.7,
             "#b8e186"
            ],
            [
             0.8,
             "#7fbc41"
            ],
            [
             0.9,
             "#4d9221"
            ],
            [
             1,
             "#276419"
            ]
           ],
           "sequential": [
            [
             0,
             "#0d0887"
            ],
            [
             0.1111111111111111,
             "#46039f"
            ],
            [
             0.2222222222222222,
             "#7201a8"
            ],
            [
             0.3333333333333333,
             "#9c179e"
            ],
            [
             0.4444444444444444,
             "#bd3786"
            ],
            [
             0.5555555555555556,
             "#d8576b"
            ],
            [
             0.6666666666666666,
             "#ed7953"
            ],
            [
             0.7777777777777778,
             "#fb9f3a"
            ],
            [
             0.8888888888888888,
             "#fdca26"
            ],
            [
             1,
             "#f0f921"
            ]
           ],
           "sequentialminus": [
            [
             0,
             "#0d0887"
            ],
            [
             0.1111111111111111,
             "#46039f"
            ],
            [
             0.2222222222222222,
             "#7201a8"
            ],
            [
             0.3333333333333333,
             "#9c179e"
            ],
            [
             0.4444444444444444,
             "#bd3786"
            ],
            [
             0.5555555555555556,
             "#d8576b"
            ],
            [
             0.6666666666666666,
             "#ed7953"
            ],
            [
             0.7777777777777778,
             "#fb9f3a"
            ],
            [
             0.8888888888888888,
             "#fdca26"
            ],
            [
             1,
             "#f0f921"
            ]
           ]
          },
          "colorway": [
           "#636efa",
           "#EF553B",
           "#00cc96",
           "#ab63fa",
           "#FFA15A",
           "#19d3f3",
           "#FF6692",
           "#B6E880",
           "#FF97FF",
           "#FECB52"
          ],
          "font": {
           "color": "#2a3f5f"
          },
          "geo": {
           "bgcolor": "white",
           "lakecolor": "white",
           "landcolor": "#E5ECF6",
           "showlakes": true,
           "showland": true,
           "subunitcolor": "white"
          },
          "hoverlabel": {
           "align": "left"
          },
          "hovermode": "closest",
          "mapbox": {
           "style": "light"
          },
          "paper_bgcolor": "white",
          "plot_bgcolor": "#E5ECF6",
          "polar": {
           "angularaxis": {
            "gridcolor": "white",
            "linecolor": "white",
            "ticks": ""
           },
           "bgcolor": "#E5ECF6",
           "radialaxis": {
            "gridcolor": "white",
            "linecolor": "white",
            "ticks": ""
           }
          },
          "scene": {
           "xaxis": {
            "backgroundcolor": "#E5ECF6",
            "gridcolor": "white",
            "gridwidth": 2,
            "linecolor": "white",
            "showbackground": true,
            "ticks": "",
            "zerolinecolor": "white"
           },
           "yaxis": {
            "backgroundcolor": "#E5ECF6",
            "gridcolor": "white",
            "gridwidth": 2,
            "linecolor": "white",
            "showbackground": true,
            "ticks": "",
            "zerolinecolor": "white"
           },
           "zaxis": {
            "backgroundcolor": "#E5ECF6",
            "gridcolor": "white",
            "gridwidth": 2,
            "linecolor": "white",
            "showbackground": true,
            "ticks": "",
            "zerolinecolor": "white"
           }
          },
          "shapedefaults": {
           "line": {
            "color": "#2a3f5f"
           }
          },
          "ternary": {
           "aaxis": {
            "gridcolor": "white",
            "linecolor": "white",
            "ticks": ""
           },
           "baxis": {
            "gridcolor": "white",
            "linecolor": "white",
            "ticks": ""
           },
           "bgcolor": "#E5ECF6",
           "caxis": {
            "gridcolor": "white",
            "linecolor": "white",
            "ticks": ""
           }
          },
          "title": {
           "x": 0.05
          },
          "xaxis": {
           "automargin": true,
           "gridcolor": "white",
           "linecolor": "white",
           "ticks": "",
           "title": {
            "standoff": 15
           },
           "zerolinecolor": "white",
           "zerolinewidth": 2
          },
          "yaxis": {
           "automargin": true,
           "gridcolor": "white",
           "linecolor": "white",
           "ticks": "",
           "title": {
            "standoff": 15
           },
           "zerolinecolor": "white",
           "zerolinewidth": 2
          }
         }
        },
        "title": {
         "text": "Importación Netas en Israel"
        },
        "width": 800,
        "xaxis": {
         "anchor": "y",
         "domain": [
          0,
          1
         ],
         "title": {
          "text": "Año"
         }
        },
        "yaxis": {
         "anchor": "x",
         "domain": [
          0,
          1
         ],
         "title": {
          "text": "Petajulios"
         }
        }
       }
      }
     },
     "metadata": {},
     "output_type": "display_data"
    }
   ],
   "source": [
    "# Grafica de Importaciones netas\n",
    "pais_importaciones = pais_data[pais_data['Series'] == 'Net imports [Imports - Exports - Bunkers] (petajoules)']\n",
    "\n",
    "fig3 = make_subplots(rows=1, cols=1, subplot_titles=(f\"Importación Netas en {pais}\",))\n",
    "fig3.add_trace(go.Bar(x=pais_importaciones['Year'], y=pais_importaciones['Value'], \n",
    "                        name='Importaciones'), row=1, col=1)\n",
    "fig3.update_layout(height=600, width=800, \n",
    "                  title_text=f\"Importación Netas en {pais}\",\n",
    "                  xaxis_title=\"Año\",\n",
    "                  yaxis_title=\"Petajulios\")\n",
    "fig3.show()"
   ]
  },
  {
   "cell_type": "code",
   "execution_count": 9,
   "id": "e2a234ca",
   "metadata": {},
   "outputs": [
    {
     "data": {
      "application/vnd.plotly.v1+json": {
       "config": {
        "plotlyServerURL": "https://plot.ly"
       },
       "data": [
        {
         "line": {
          "color": "green",
          "width": 2
         },
         "marker": {
          "size": 8
         },
         "mode": "lines+markers",
         "name": "Producción Primaria",
         "type": "scatter",
         "x": {
          "bdata": "ywfQB9UH2gffB+MH5AflBw==",
          "dtype": "i2"
         },
         "y": {
          "bdata": "AAAAAAAAN0AAAAAAAAA7QAAAAAAAwFVAAAAAAABAZEAAAAAAABBxQAAAAAAAcHVAAAAAAAAIgkAAAAAAAGCGQA==",
          "dtype": "f8"
         }
        },
        {
         "line": {
          "color": "red",
          "width": 2
         },
         "marker": {
          "size": 8
         },
         "mode": "lines+markers",
         "name": "Importaciones Netas",
         "type": "scatter",
         "x": {
          "bdata": "ywfQB9UH2gffB+MH5AflBw==",
          "dtype": "i2"
         },
         "y": {
          "bdata": "AAAAAACgg0AAAAAAAJiGQAAAAAAAkIVAAAAAAABQiUAAAAAAAICEQAAAAAAAOIJAAAAAAACQd0AAAAAAAIBtQA==",
          "dtype": "f8"
         }
        }
       ],
       "layout": {
        "annotations": [
         {
          "showarrow": false,
          "text": "Intersección Julio 2019",
          "x": 2019.5,
          "xanchor": "center",
          "xref": "x",
          "y": 1,
          "yanchor": "bottom",
          "yref": "y domain"
         }
        ],
        "height": 600,
        "hovermode": "x unified",
        "legend": {
         "bordercolor": "Black",
         "borderwidth": 1,
         "orientation": "v",
         "x": 0.99,
         "xanchor": "right",
         "y": 0.99,
         "yanchor": "top"
        },
        "shapes": [
         {
          "line": {
           "color": "black",
           "dash": "dash",
           "width": 1
          },
          "type": "line",
          "x0": 2019.5,
          "x1": 2019.5,
          "xref": "x",
          "y0": 0,
          "y1": 1,
          "yref": "y domain"
         }
        ],
        "template": {
         "data": {
          "bar": [
           {
            "error_x": {
             "color": "#2a3f5f"
            },
            "error_y": {
             "color": "#2a3f5f"
            },
            "marker": {
             "line": {
              "color": "#E5ECF6",
              "width": 0.5
             },
             "pattern": {
              "fillmode": "overlay",
              "size": 10,
              "solidity": 0.2
             }
            },
            "type": "bar"
           }
          ],
          "barpolar": [
           {
            "marker": {
             "line": {
              "color": "#E5ECF6",
              "width": 0.5
             },
             "pattern": {
              "fillmode": "overlay",
              "size": 10,
              "solidity": 0.2
             }
            },
            "type": "barpolar"
           }
          ],
          "carpet": [
           {
            "aaxis": {
             "endlinecolor": "#2a3f5f",
             "gridcolor": "white",
             "linecolor": "white",
             "minorgridcolor": "white",
             "startlinecolor": "#2a3f5f"
            },
            "baxis": {
             "endlinecolor": "#2a3f5f",
             "gridcolor": "white",
             "linecolor": "white",
             "minorgridcolor": "white",
             "startlinecolor": "#2a3f5f"
            },
            "type": "carpet"
           }
          ],
          "choropleth": [
           {
            "colorbar": {
             "outlinewidth": 0,
             "ticks": ""
            },
            "type": "choropleth"
           }
          ],
          "contour": [
           {
            "colorbar": {
             "outlinewidth": 0,
             "ticks": ""
            },
            "colorscale": [
             [
              0,
              "#0d0887"
             ],
             [
              0.1111111111111111,
              "#46039f"
             ],
             [
              0.2222222222222222,
              "#7201a8"
             ],
             [
              0.3333333333333333,
              "#9c179e"
             ],
             [
              0.4444444444444444,
              "#bd3786"
             ],
             [
              0.5555555555555556,
              "#d8576b"
             ],
             [
              0.6666666666666666,
              "#ed7953"
             ],
             [
              0.7777777777777778,
              "#fb9f3a"
             ],
             [
              0.8888888888888888,
              "#fdca26"
             ],
             [
              1,
              "#f0f921"
             ]
            ],
            "type": "contour"
           }
          ],
          "contourcarpet": [
           {
            "colorbar": {
             "outlinewidth": 0,
             "ticks": ""
            },
            "type": "contourcarpet"
           }
          ],
          "heatmap": [
           {
            "colorbar": {
             "outlinewidth": 0,
             "ticks": ""
            },
            "colorscale": [
             [
              0,
              "#0d0887"
             ],
             [
              0.1111111111111111,
              "#46039f"
             ],
             [
              0.2222222222222222,
              "#7201a8"
             ],
             [
              0.3333333333333333,
              "#9c179e"
             ],
             [
              0.4444444444444444,
              "#bd3786"
             ],
             [
              0.5555555555555556,
              "#d8576b"
             ],
             [
              0.6666666666666666,
              "#ed7953"
             ],
             [
              0.7777777777777778,
              "#fb9f3a"
             ],
             [
              0.8888888888888888,
              "#fdca26"
             ],
             [
              1,
              "#f0f921"
             ]
            ],
            "type": "heatmap"
           }
          ],
          "histogram": [
           {
            "marker": {
             "pattern": {
              "fillmode": "overlay",
              "size": 10,
              "solidity": 0.2
             }
            },
            "type": "histogram"
           }
          ],
          "histogram2d": [
           {
            "colorbar": {
             "outlinewidth": 0,
             "ticks": ""
            },
            "colorscale": [
             [
              0,
              "#0d0887"
             ],
             [
              0.1111111111111111,
              "#46039f"
             ],
             [
              0.2222222222222222,
              "#7201a8"
             ],
             [
              0.3333333333333333,
              "#9c179e"
             ],
             [
              0.4444444444444444,
              "#bd3786"
             ],
             [
              0.5555555555555556,
              "#d8576b"
             ],
             [
              0.6666666666666666,
              "#ed7953"
             ],
             [
              0.7777777777777778,
              "#fb9f3a"
             ],
             [
              0.8888888888888888,
              "#fdca26"
             ],
             [
              1,
              "#f0f921"
             ]
            ],
            "type": "histogram2d"
           }
          ],
          "histogram2dcontour": [
           {
            "colorbar": {
             "outlinewidth": 0,
             "ticks": ""
            },
            "colorscale": [
             [
              0,
              "#0d0887"
             ],
             [
              0.1111111111111111,
              "#46039f"
             ],
             [
              0.2222222222222222,
              "#7201a8"
             ],
             [
              0.3333333333333333,
              "#9c179e"
             ],
             [
              0.4444444444444444,
              "#bd3786"
             ],
             [
              0.5555555555555556,
              "#d8576b"
             ],
             [
              0.6666666666666666,
              "#ed7953"
             ],
             [
              0.7777777777777778,
              "#fb9f3a"
             ],
             [
              0.8888888888888888,
              "#fdca26"
             ],
             [
              1,
              "#f0f921"
             ]
            ],
            "type": "histogram2dcontour"
           }
          ],
          "mesh3d": [
           {
            "colorbar": {
             "outlinewidth": 0,
             "ticks": ""
            },
            "type": "mesh3d"
           }
          ],
          "parcoords": [
           {
            "line": {
             "colorbar": {
              "outlinewidth": 0,
              "ticks": ""
             }
            },
            "type": "parcoords"
           }
          ],
          "pie": [
           {
            "automargin": true,
            "type": "pie"
           }
          ],
          "scatter": [
           {
            "fillpattern": {
             "fillmode": "overlay",
             "size": 10,
             "solidity": 0.2
            },
            "type": "scatter"
           }
          ],
          "scatter3d": [
           {
            "line": {
             "colorbar": {
              "outlinewidth": 0,
              "ticks": ""
             }
            },
            "marker": {
             "colorbar": {
              "outlinewidth": 0,
              "ticks": ""
             }
            },
            "type": "scatter3d"
           }
          ],
          "scattercarpet": [
           {
            "marker": {
             "colorbar": {
              "outlinewidth": 0,
              "ticks": ""
             }
            },
            "type": "scattercarpet"
           }
          ],
          "scattergeo": [
           {
            "marker": {
             "colorbar": {
              "outlinewidth": 0,
              "ticks": ""
             }
            },
            "type": "scattergeo"
           }
          ],
          "scattergl": [
           {
            "marker": {
             "colorbar": {
              "outlinewidth": 0,
              "ticks": ""
             }
            },
            "type": "scattergl"
           }
          ],
          "scattermap": [
           {
            "marker": {
             "colorbar": {
              "outlinewidth": 0,
              "ticks": ""
             }
            },
            "type": "scattermap"
           }
          ],
          "scattermapbox": [
           {
            "marker": {
             "colorbar": {
              "outlinewidth": 0,
              "ticks": ""
             }
            },
            "type": "scattermapbox"
           }
          ],
          "scatterpolar": [
           {
            "marker": {
             "colorbar": {
              "outlinewidth": 0,
              "ticks": ""
             }
            },
            "type": "scatterpolar"
           }
          ],
          "scatterpolargl": [
           {
            "marker": {
             "colorbar": {
              "outlinewidth": 0,
              "ticks": ""
             }
            },
            "type": "scatterpolargl"
           }
          ],
          "scatterternary": [
           {
            "marker": {
             "colorbar": {
              "outlinewidth": 0,
              "ticks": ""
             }
            },
            "type": "scatterternary"
           }
          ],
          "surface": [
           {
            "colorbar": {
             "outlinewidth": 0,
             "ticks": ""
            },
            "colorscale": [
             [
              0,
              "#0d0887"
             ],
             [
              0.1111111111111111,
              "#46039f"
             ],
             [
              0.2222222222222222,
              "#7201a8"
             ],
             [
              0.3333333333333333,
              "#9c179e"
             ],
             [
              0.4444444444444444,
              "#bd3786"
             ],
             [
              0.5555555555555556,
              "#d8576b"
             ],
             [
              0.6666666666666666,
              "#ed7953"
             ],
             [
              0.7777777777777778,
              "#fb9f3a"
             ],
             [
              0.8888888888888888,
              "#fdca26"
             ],
             [
              1,
              "#f0f921"
             ]
            ],
            "type": "surface"
           }
          ],
          "table": [
           {
            "cells": {
             "fill": {
              "color": "#EBF0F8"
             },
             "line": {
              "color": "white"
             }
            },
            "header": {
             "fill": {
              "color": "#C8D4E3"
             },
             "line": {
              "color": "white"
             }
            },
            "type": "table"
           }
          ]
         },
         "layout": {
          "annotationdefaults": {
           "arrowcolor": "#2a3f5f",
           "arrowhead": 0,
           "arrowwidth": 1
          },
          "autotypenumbers": "strict",
          "coloraxis": {
           "colorbar": {
            "outlinewidth": 0,
            "ticks": ""
           }
          },
          "colorscale": {
           "diverging": [
            [
             0,
             "#8e0152"
            ],
            [
             0.1,
             "#c51b7d"
            ],
            [
             0.2,
             "#de77ae"
            ],
            [
             0.3,
             "#f1b6da"
            ],
            [
             0.4,
             "#fde0ef"
            ],
            [
             0.5,
             "#f7f7f7"
            ],
            [
             0.6,
             "#e6f5d0"
            ],
            [
             0.7,
             "#b8e186"
            ],
            [
             0.8,
             "#7fbc41"
            ],
            [
             0.9,
             "#4d9221"
            ],
            [
             1,
             "#276419"
            ]
           ],
           "sequential": [
            [
             0,
             "#0d0887"
            ],
            [
             0.1111111111111111,
             "#46039f"
            ],
            [
             0.2222222222222222,
             "#7201a8"
            ],
            [
             0.3333333333333333,
             "#9c179e"
            ],
            [
             0.4444444444444444,
             "#bd3786"
            ],
            [
             0.5555555555555556,
             "#d8576b"
            ],
            [
             0.6666666666666666,
             "#ed7953"
            ],
            [
             0.7777777777777778,
             "#fb9f3a"
            ],
            [
             0.8888888888888888,
             "#fdca26"
            ],
            [
             1,
             "#f0f921"
            ]
           ],
           "sequentialminus": [
            [
             0,
             "#0d0887"
            ],
            [
             0.1111111111111111,
             "#46039f"
            ],
            [
             0.2222222222222222,
             "#7201a8"
            ],
            [
             0.3333333333333333,
             "#9c179e"
            ],
            [
             0.4444444444444444,
             "#bd3786"
            ],
            [
             0.5555555555555556,
             "#d8576b"
            ],
            [
             0.6666666666666666,
             "#ed7953"
            ],
            [
             0.7777777777777778,
             "#fb9f3a"
            ],
            [
             0.8888888888888888,
             "#fdca26"
            ],
            [
             1,
             "#f0f921"
            ]
           ]
          },
          "colorway": [
           "#636efa",
           "#EF553B",
           "#00cc96",
           "#ab63fa",
           "#FFA15A",
           "#19d3f3",
           "#FF6692",
           "#B6E880",
           "#FF97FF",
           "#FECB52"
          ],
          "font": {
           "color": "#2a3f5f"
          },
          "geo": {
           "bgcolor": "white",
           "lakecolor": "white",
           "landcolor": "#E5ECF6",
           "showlakes": true,
           "showland": true,
           "subunitcolor": "white"
          },
          "hoverlabel": {
           "align": "left"
          },
          "hovermode": "closest",
          "mapbox": {
           "style": "light"
          },
          "paper_bgcolor": "white",
          "plot_bgcolor": "#E5ECF6",
          "polar": {
           "angularaxis": {
            "gridcolor": "white",
            "linecolor": "white",
            "ticks": ""
           },
           "bgcolor": "#E5ECF6",
           "radialaxis": {
            "gridcolor": "white",
            "linecolor": "white",
            "ticks": ""
           }
          },
          "scene": {
           "xaxis": {
            "backgroundcolor": "#E5ECF6",
            "gridcolor": "white",
            "gridwidth": 2,
            "linecolor": "white",
            "showbackground": true,
            "ticks": "",
            "zerolinecolor": "white"
           },
           "yaxis": {
            "backgroundcolor": "#E5ECF6",
            "gridcolor": "white",
            "gridwidth": 2,
            "linecolor": "white",
            "showbackground": true,
            "ticks": "",
            "zerolinecolor": "white"
           },
           "zaxis": {
            "backgroundcolor": "#E5ECF6",
            "gridcolor": "white",
            "gridwidth": 2,
            "linecolor": "white",
            "showbackground": true,
            "ticks": "",
            "zerolinecolor": "white"
           }
          },
          "shapedefaults": {
           "line": {
            "color": "#2a3f5f"
           }
          },
          "ternary": {
           "aaxis": {
            "gridcolor": "white",
            "linecolor": "white",
            "ticks": ""
           },
           "baxis": {
            "gridcolor": "white",
            "linecolor": "white",
            "ticks": ""
           },
           "bgcolor": "#E5ECF6",
           "caxis": {
            "gridcolor": "white",
            "linecolor": "white",
            "ticks": ""
           }
          },
          "title": {
           "x": 0.05
          },
          "xaxis": {
           "automargin": true,
           "gridcolor": "white",
           "linecolor": "white",
           "ticks": "",
           "title": {
            "standoff": 15
           },
           "zerolinecolor": "white",
           "zerolinewidth": 2
          },
          "yaxis": {
           "automargin": true,
           "gridcolor": "white",
           "linecolor": "white",
           "ticks": "",
           "title": {
            "standoff": 15
           },
           "zerolinecolor": "white",
           "zerolinewidth": 2
          }
         }
        },
        "title": {
         "font": {
          "size": 20
         },
         "text": "Producción vs Importaciones Netas en Israel"
        },
        "width": 1000,
        "xaxis": {
         "title": {
          "text": "Año"
         }
        },
        "yaxis": {
         "title": {
          "text": "Petajulios"
         }
        }
       }
      }
     },
     "metadata": {},
     "output_type": "display_data"
    }
   ],
   "source": [
    "# Comparación: Producción vs Importaciones Netas\n",
    "pais_produccion = pais_data[pais_data['Series'] == 'Primary energy production (petajoules)']\n",
    "pais_importaciones = pais_data[pais_data['Series'] == 'Net imports [Imports - Exports - Bunkers] (petajoules)']\n",
    "\n",
    "fig4 = go.Figure()\n",
    "\n",
    "# Agregar línea de producción\n",
    "fig4.add_trace(go.Scatter(\n",
    "    x=pais_produccion['Year'], \n",
    "    y=pais_produccion['Value'],\n",
    "    mode='lines+markers',\n",
    "    name='Producción Primaria',\n",
    "    line=dict(color='green', width=2),\n",
    "    marker=dict(size=8)\n",
    "))\n",
    "\n",
    "# Agregar línea de importaciones netas\n",
    "fig4.add_trace(go.Scatter(\n",
    "    x=pais_importaciones['Year'], \n",
    "    y=pais_importaciones['Value'],\n",
    "    mode='lines+markers',\n",
    "    name='Importaciones Netas',\n",
    "    line=dict(color='red', width=2),\n",
    "    marker=dict(size=8)\n",
    "))\n",
    "\n",
    "# Linea vertical en el año interseccion\n",
    "año_interseccion = 2019.5 \n",
    "fig4.add_vline(\n",
    "    x=año_interseccion, \n",
    "    line_dash=\"dash\", \n",
    "    line_color=\"black\",\n",
    "    line_width=1,\n",
    "    annotation_text=f\"Intersección Julio 2019\",  \n",
    "    annotation_position=\"top\"\n",
    ")\n",
    "\n",
    "fig4.update_layout(\n",
    "    height=600,\n",
    "    width=1000,\n",
    "    title_text=f\"Producción vs Importaciones Netas en {pais}\",\n",
    "    title_font_size=20,\n",
    "    xaxis_title=\"Año\",\n",
    "    yaxis_title=\"Petajulios\",\n",
    "    legend=dict(\n",
    "        orientation=\"v\",\n",
    "        yanchor=\"top\",\n",
    "        y=0.99,\n",
    "        xanchor=\"right\",\n",
    "        x=0.99,\n",
    "        bordercolor=\"Black\",\n",
    "        borderwidth=1\n",
    "    ),\n",
    "    hovermode='x unified'\n",
    ")\n",
    "\n",
    "fig4.show()"
   ]
  },
  {
   "cell_type": "code",
   "execution_count": 10,
   "id": "a8b91d6d",
   "metadata": {},
   "outputs": [
    {
     "data": {
      "text/html": [
       "\n",
       "        <iframe\n",
       "            width=\"100%\"\n",
       "            height=\"650\"\n",
       "            src=\"http://127.0.0.1:8050/\"\n",
       "            frameborder=\"0\"\n",
       "            allowfullscreen\n",
       "            \n",
       "        ></iframe>\n",
       "        "
      ],
      "text/plain": [
       "<IPython.lib.display.IFrame at 0x24010681d30>"
      ]
     },
     "metadata": {},
     "output_type": "display_data"
    }
   ],
   "source": [
    "# Dash app\n",
    "app = dash.Dash(__name__)\n",
    "\n",
    "app.layout = html.Div([\n",
    "    html.H1(\"Análisis de Energía\", style={\n",
    "        'textAlign': 'center',\n",
    "        'color': '#2c3e50',\n",
    "        'padding': '20px',\n",
    "        'backgroundColor': '#ecf0f1',\n",
    "        'marginBottom': '30px'\n",
    "    }),\n",
    "    \n",
    "    html.Div([\n",
    "        html.Div([\n",
    "            dcc.Graph(figure=fig1)\n",
    "        ], style={'width': '48%', 'display': 'inline-block', 'padding': '10px'}),\n",
    "        \n",
    "        html.Div([\n",
    "            dcc.Graph(figure=fig2)\n",
    "        ], style={'width': '48%', 'display': 'inline-block', 'padding': '10px'}),\n",
    "    ], style={'display': 'flex', 'justify-content': 'space-between', 'marginBottom': '20px'}),\n",
    "    \n",
    "     html.Div([\n",
    "        html.Div([\n",
    "            dcc.Graph(figure=fig3)\n",
    "        ], style={'width': '48%', 'display': 'inline-block', 'padding': '10px'}),\n",
    "        \n",
    "        html.Div([\n",
    "            dcc.Graph(figure=fig4)\n",
    "        ], style={'width': '48%', 'display': 'inline-block', 'padding': '10px'}),\n",
    "    ], style={'display': 'flex', 'justify-content': 'space-between', 'marginBottom': '20px'}),\n",
    "      \n",
    "    \n",
    "], style={\n",
    "    'fontFamily': 'Arial, sans-serif',\n",
    "    'backgroundColor': '#f5f5f5',\n",
    "    'padding': '20px'\n",
    "})\n",
    "\n",
    "if __name__ == '__main__':\n",
    "    app.run(debug=True, use_reloader=False)"
   ]
  },
  {
   "cell_type": "code",
   "execution_count": 11,
   "id": "cae6d17a",
   "metadata": {},
   "outputs": [
    {
     "name": "stdout",
     "output_type": "stream",
     "text": [
      " produccion_energia guardado como HTML y PNG\n",
      " energia_comparativa guardado como HTML y PNG\n",
      " importaciones_netas guardado como HTML y PNG\n",
      " produccion_vs_importaciones guardado como HTML y PNG\n",
      "\n",
      " Todas las gráficas exportadas exitosamente\n"
     ]
    }
   ],
   "source": [
    "# Exportar Graficas\n",
    "import plotly.io as pio\n",
    "\n",
    "graficas = [\n",
    "    (fig1, 'produccion_energia'),\n",
    "    (fig2, 'energia_comparativa'),\n",
    "    (fig3, 'importaciones_netas'),\n",
    "    (fig4, 'produccion_vs_importaciones')\n",
    "]\n",
    "\n",
    "for fig, nombre in graficas:\n",
    "    # Guardar como HTML\n",
    "    pio.write_html(fig, f'{nombre}.html')\n",
    "    \n",
    "    # Guardar como PNG\n",
    "    pio.write_image(fig, f'{nombre}.png', width=800, height=600, scale=2)\n",
    "    \n",
    "    print(f\" {nombre} guardado como HTML y PNG\")\n",
    "\n",
    "print(\"\\n Todas las gráficas exportadas exitosamente\")"
   ]
  }
 ],
 "metadata": {
  "kernelspec": {
   "display_name": "Python 3",
   "language": "python",
   "name": "python3"
  },
  "language_info": {
   "codemirror_mode": {
    "name": "ipython",
    "version": 3
   },
   "file_extension": ".py",
   "mimetype": "text/x-python",
   "name": "python",
   "nbconvert_exporter": "python",
   "pygments_lexer": "ipython3",
   "version": "3.13.7"
  }
 },
 "nbformat": 4,
 "nbformat_minor": 5
}
