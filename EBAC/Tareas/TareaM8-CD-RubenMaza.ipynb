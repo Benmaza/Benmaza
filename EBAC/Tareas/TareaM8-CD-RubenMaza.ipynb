{
 "cells": [
  {
   "cell_type": "markdown",
   "metadata": {},
   "source": [
    "#### Escribe un programa que mediante indexación en NumPy sea capaz de invertir un arreglo (donde el primer elemento se convierte en el último)"
   ]
  },
  {
   "cell_type": "code",
   "execution_count": 2,
   "metadata": {},
   "outputs": [],
   "source": [
    "# importar libreria\n",
    "import numpy as np"
   ]
  },
  {
   "cell_type": "code",
   "execution_count": 9,
   "metadata": {},
   "outputs": [
    {
     "data": {
      "text/plain": [
       "array([12, 13, 14, 15, 16, 17, 18, 19, 20])"
      ]
     },
     "execution_count": 9,
     "metadata": {},
     "output_type": "execute_result"
    }
   ],
   "source": [
    "# se crea un array del 12 al 20\n",
    "Orden = np.array([12,13,14,15,16,17,18,19,20])\n",
    "Orden"
   ]
  },
  {
   "cell_type": "code",
   "execution_count": 8,
   "metadata": {},
   "outputs": [
    {
     "data": {
      "text/plain": [
       "array([20, 19, 18, 17, 16, 15, 14, 13, 12])"
      ]
     },
     "execution_count": 8,
     "metadata": {},
     "output_type": "execute_result"
    }
   ],
   "source": [
    "# se reordena el array de forma descendente\n",
    "Orden_inver = Orden[::-1]\n",
    "Orden_inver\n"
   ]
  },
  {
   "cell_type": "markdown",
   "metadata": {},
   "source": [
    "#### Escribe un programa con NumPy para convertir valores de grados Fahrenheit a grados centigrados. Los valores se almacenan en un arreglo de salida."
   ]
  },
  {
   "cell_type": "code",
   "execution_count": 11,
   "metadata": {},
   "outputs": [
    {
     "name": "stdout",
     "output_type": "stream",
     "text": [
      "los valores ingresados son:  [ 0.   12.   45.21 34.   99.91 32.  ]\n",
      "\n",
      "los valores convertidos de Celsius a Farenheit\n",
      "son los siguientes:  [ 32.     53.6   113.378  93.2   211.838  89.6  ]\n"
     ]
    }
   ],
   "source": [
    "Celsius = np.array([0.0 ,12.0 ,45.21 ,34.0 ,99.91 ,32.0])  # se crea un array con los valores de Celsius\n",
    "print(\"los valores ingresados son: \",Celsius)\n",
    "conversion = (Celsius * 1.8) + 32  # se realiza la conversion de Celsius a Farenheit\n",
    "Farenheit = conversion # se almacena el resultado de la conversion en una variable\n",
    "print(\"\\nlos valores convertidos de Celsius a Farenheit\")\n",
    "print(\"son los siguientes: \", Farenheit)"
   ]
  },
  {
   "cell_type": "code",
   "execution_count": 12,
   "metadata": {},
   "outputs": [
    {
     "name": "stdout",
     "output_type": "stream",
     "text": [
      "los valores ingresados son:  [ 0.   12.   45.21 34.   99.91 32.  ]\n",
      "\n",
      "los valores convertidos de Celsius a Farenheit\n",
      "son los siguientes:  [ 32.     53.6   113.378  93.2   211.838  89.6  ]\n"
     ]
    }
   ],
   "source": [
    "# usando la formula descrita en el ejercicio\n",
    "\n",
    "Celsius = np.array([0.0 ,12.0 ,45.21 ,34.0 ,99.91 ,32.0])\n",
    "print(\"los valores ingresados son: \",Celsius)\n",
    "conversion = (9*Celsius+(32*5))/5\n",
    "Farenheit = conversion\n",
    "print(\"\\nlos valores convertidos de Celsius a Farenheit\")\n",
    "print(\"son los siguientes: \", Farenheit)"
   ]
  },
  {
   "cell_type": "markdown",
   "metadata": {},
   "source": [
    "#### Escribe un programa con NumPy para encontrar la unión de dos arreglos. La unión debe devolver un arreglo ordenado de valores que están en cualquiera de los dos arreglos de entrada (sin repetición)."
   ]
  },
  {
   "cell_type": "code",
   "execution_count": 23,
   "metadata": {},
   "outputs": [
    {
     "data": {
      "text/plain": [
       "array([10, 20, 30])"
      ]
     },
     "execution_count": 23,
     "metadata": {},
     "output_type": "execute_result"
    }
   ],
   "source": [
    "# Se crean dos arrays con valores numericos\n",
    "array1 = np.array([10,20,30])\n",
    "array2 = np.array([20,10,30])\n",
    "\n",
    "# se realiza la union de los dos arrays, usando la funcion np.union1d\n",
    "# la cual devuelve los valores unicos de los dos arrays de manera ordenada\n",
    "salida = np.union1d(array1,array2)\n",
    "salida"
   ]
  }
 ],
 "metadata": {
  "kernelspec": {
   "display_name": "Python 3",
   "language": "python",
   "name": "python3"
  },
  "language_info": {
   "codemirror_mode": {
    "name": "ipython",
    "version": 3
   },
   "file_extension": ".py",
   "mimetype": "text/x-python",
   "name": "python",
   "nbconvert_exporter": "python",
   "pygments_lexer": "ipython3",
   "version": "3.12.2"
  }
 },
 "nbformat": 4,
 "nbformat_minor": 2
}
