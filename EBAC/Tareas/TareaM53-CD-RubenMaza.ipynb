{
 "cells": [
  {
   "cell_type": "code",
   "execution_count": 17,
   "id": "6473c916",
   "metadata": {},
   "outputs": [],
   "source": [
    "import pandas as pd\n",
    "import numpy as np\n",
    "import warnings\n",
    "warnings.filterwarnings(\"ignore\")\n",
    "import seaborn as sns\n",
    "import matplotlib.pyplot as plt\n",
    "import statsmodels.api as sm"
   ]
  },
  {
   "cell_type": "code",
   "execution_count": 2,
   "id": "d7df4afa",
   "metadata": {},
   "outputs": [
    {
     "data": {
      "application/vnd.microsoft.datawrangler.viewer.v0+json": {
       "columns": [
        {
         "name": "index",
         "rawType": "int64",
         "type": "integer"
        },
        {
         "name": "TV",
         "rawType": "float64",
         "type": "float"
        },
        {
         "name": "Radio",
         "rawType": "float64",
         "type": "float"
        },
        {
         "name": "Newspaper",
         "rawType": "float64",
         "type": "float"
        },
        {
         "name": "Sales",
         "rawType": "float64",
         "type": "float"
        }
       ],
       "ref": "1e2cbfe2-fda0-470f-bb0a-0588f57773e9",
       "rows": [
        [
         "0",
         "230.1",
         "37.8",
         "69.2",
         "22.1"
        ],
        [
         "1",
         "44.5",
         "39.3",
         "45.1",
         "10.4"
        ],
        [
         "2",
         "17.2",
         "45.9",
         "69.3",
         "12.0"
        ],
        [
         "3",
         "151.5",
         "41.3",
         "58.5",
         "16.5"
        ],
        [
         "4",
         "180.8",
         "10.8",
         "58.4",
         "17.9"
        ],
        [
         "5",
         "8.7",
         "48.9",
         "75.0",
         "7.2"
        ],
        [
         "6",
         "57.5",
         "32.8",
         "23.5",
         "11.8"
        ],
        [
         "7",
         "120.2",
         "19.6",
         "11.6",
         "13.2"
        ],
        [
         "8",
         "8.6",
         "2.1",
         "1.0",
         "4.8"
        ],
        [
         "9",
         "199.8",
         "2.6",
         "21.2",
         "15.6"
        ],
        [
         "10",
         "66.1",
         "5.8",
         "24.2",
         "12.6"
        ],
        [
         "11",
         "214.7",
         "24.0",
         "4.0",
         "17.4"
        ],
        [
         "12",
         "23.8",
         "35.1",
         "65.9",
         "9.2"
        ],
        [
         "13",
         "97.5",
         "7.6",
         "7.2",
         "13.7"
        ],
        [
         "14",
         "204.1",
         "32.9",
         "46.0",
         "19.0"
        ],
        [
         "15",
         "195.4",
         "47.7",
         "52.9",
         "22.4"
        ],
        [
         "16",
         "67.8",
         "36.6",
         "114.0",
         "12.5"
        ],
        [
         "17",
         "281.4",
         "39.6",
         "55.8",
         "24.4"
        ],
        [
         "18",
         "69.2",
         "20.5",
         "18.3",
         "11.3"
        ],
        [
         "19",
         "147.3",
         "23.9",
         "19.1",
         "14.6"
        ],
        [
         "20",
         "218.4",
         "27.7",
         "53.4",
         "18.0"
        ],
        [
         "21",
         "237.4",
         "5.1",
         "23.5",
         "17.5"
        ],
        [
         "22",
         "13.2",
         "15.9",
         "49.6",
         "5.6"
        ],
        [
         "23",
         "228.3",
         "16.9",
         "26.2",
         "20.5"
        ],
        [
         "24",
         "62.3",
         "12.6",
         "18.3",
         "9.7"
        ],
        [
         "25",
         "262.9",
         "3.5",
         "19.5",
         "17.0"
        ],
        [
         "26",
         "142.9",
         "29.3",
         "12.6",
         "15.0"
        ],
        [
         "27",
         "240.1",
         "16.7",
         "22.9",
         "20.9"
        ],
        [
         "28",
         "248.8",
         "27.1",
         "22.9",
         "18.9"
        ],
        [
         "29",
         "70.6",
         "16.0",
         "40.8",
         "10.5"
        ],
        [
         "30",
         "292.9",
         "28.3",
         "43.2",
         "21.4"
        ],
        [
         "31",
         "112.9",
         "17.4",
         "38.6",
         "11.9"
        ],
        [
         "32",
         "97.2",
         "1.5",
         "30.0",
         "13.2"
        ],
        [
         "33",
         "265.6",
         "20.0",
         "0.3",
         "17.4"
        ],
        [
         "34",
         "95.7",
         "1.4",
         "7.4",
         "11.9"
        ],
        [
         "35",
         "290.7",
         "4.1",
         "8.5",
         "17.8"
        ],
        [
         "36",
         "266.9",
         "43.8",
         "5.0",
         "25.4"
        ],
        [
         "37",
         "74.7",
         "49.4",
         "45.7",
         "14.7"
        ],
        [
         "38",
         "43.1",
         "26.7",
         "35.1",
         "10.1"
        ],
        [
         "39",
         "228.0",
         "37.7",
         "32.0",
         "21.5"
        ],
        [
         "40",
         "202.5",
         "22.3",
         "31.6",
         "16.6"
        ],
        [
         "41",
         "177.0",
         "33.4",
         "38.7",
         "17.1"
        ],
        [
         "42",
         "293.6",
         "27.7",
         "1.8",
         "20.7"
        ],
        [
         "43",
         "206.9",
         "8.4",
         "26.4",
         "17.9"
        ],
        [
         "44",
         "25.1",
         "25.7",
         "43.3",
         "8.5"
        ],
        [
         "45",
         "175.1",
         "22.5",
         "31.5",
         "16.1"
        ],
        [
         "46",
         "89.7",
         "9.9",
         "35.7",
         "10.6"
        ],
        [
         "47",
         "239.9",
         "41.5",
         "18.5",
         "23.2"
        ],
        [
         "48",
         "227.2",
         "15.8",
         "49.9",
         "19.8"
        ],
        [
         "49",
         "66.9",
         "11.7",
         "36.8",
         "9.7"
        ]
       ],
       "shape": {
        "columns": 4,
        "rows": 200
       }
      },
      "text/html": [
       "<div>\n",
       "<style scoped>\n",
       "    .dataframe tbody tr th:only-of-type {\n",
       "        vertical-align: middle;\n",
       "    }\n",
       "\n",
       "    .dataframe tbody tr th {\n",
       "        vertical-align: top;\n",
       "    }\n",
       "\n",
       "    .dataframe thead th {\n",
       "        text-align: right;\n",
       "    }\n",
       "</style>\n",
       "<table border=\"1\" class=\"dataframe\">\n",
       "  <thead>\n",
       "    <tr style=\"text-align: right;\">\n",
       "      <th></th>\n",
       "      <th>TV</th>\n",
       "      <th>Radio</th>\n",
       "      <th>Newspaper</th>\n",
       "      <th>Sales</th>\n",
       "    </tr>\n",
       "  </thead>\n",
       "  <tbody>\n",
       "    <tr>\n",
       "      <th>0</th>\n",
       "      <td>230.1</td>\n",
       "      <td>37.8</td>\n",
       "      <td>69.2</td>\n",
       "      <td>22.1</td>\n",
       "    </tr>\n",
       "    <tr>\n",
       "      <th>1</th>\n",
       "      <td>44.5</td>\n",
       "      <td>39.3</td>\n",
       "      <td>45.1</td>\n",
       "      <td>10.4</td>\n",
       "    </tr>\n",
       "    <tr>\n",
       "      <th>2</th>\n",
       "      <td>17.2</td>\n",
       "      <td>45.9</td>\n",
       "      <td>69.3</td>\n",
       "      <td>12.0</td>\n",
       "    </tr>\n",
       "    <tr>\n",
       "      <th>3</th>\n",
       "      <td>151.5</td>\n",
       "      <td>41.3</td>\n",
       "      <td>58.5</td>\n",
       "      <td>16.5</td>\n",
       "    </tr>\n",
       "    <tr>\n",
       "      <th>4</th>\n",
       "      <td>180.8</td>\n",
       "      <td>10.8</td>\n",
       "      <td>58.4</td>\n",
       "      <td>17.9</td>\n",
       "    </tr>\n",
       "    <tr>\n",
       "      <th>...</th>\n",
       "      <td>...</td>\n",
       "      <td>...</td>\n",
       "      <td>...</td>\n",
       "      <td>...</td>\n",
       "    </tr>\n",
       "    <tr>\n",
       "      <th>195</th>\n",
       "      <td>38.2</td>\n",
       "      <td>3.7</td>\n",
       "      <td>13.8</td>\n",
       "      <td>7.6</td>\n",
       "    </tr>\n",
       "    <tr>\n",
       "      <th>196</th>\n",
       "      <td>94.2</td>\n",
       "      <td>4.9</td>\n",
       "      <td>8.1</td>\n",
       "      <td>14.0</td>\n",
       "    </tr>\n",
       "    <tr>\n",
       "      <th>197</th>\n",
       "      <td>177.0</td>\n",
       "      <td>9.3</td>\n",
       "      <td>6.4</td>\n",
       "      <td>14.8</td>\n",
       "    </tr>\n",
       "    <tr>\n",
       "      <th>198</th>\n",
       "      <td>283.6</td>\n",
       "      <td>42.0</td>\n",
       "      <td>66.2</td>\n",
       "      <td>25.5</td>\n",
       "    </tr>\n",
       "    <tr>\n",
       "      <th>199</th>\n",
       "      <td>232.1</td>\n",
       "      <td>8.6</td>\n",
       "      <td>8.7</td>\n",
       "      <td>18.4</td>\n",
       "    </tr>\n",
       "  </tbody>\n",
       "</table>\n",
       "<p>200 rows × 4 columns</p>\n",
       "</div>"
      ],
      "text/plain": [
       "        TV  Radio  Newspaper  Sales\n",
       "0    230.1   37.8       69.2   22.1\n",
       "1     44.5   39.3       45.1   10.4\n",
       "2     17.2   45.9       69.3   12.0\n",
       "3    151.5   41.3       58.5   16.5\n",
       "4    180.8   10.8       58.4   17.9\n",
       "..     ...    ...        ...    ...\n",
       "195   38.2    3.7       13.8    7.6\n",
       "196   94.2    4.9        8.1   14.0\n",
       "197  177.0    9.3        6.4   14.8\n",
       "198  283.6   42.0       66.2   25.5\n",
       "199  232.1    8.6        8.7   18.4\n",
       "\n",
       "[200 rows x 4 columns]"
      ]
     },
     "execution_count": 2,
     "metadata": {},
     "output_type": "execute_result"
    }
   ],
   "source": [
    "data = pd.read_csv('advertising.csv')\n",
    "data"
   ]
  },
  {
   "cell_type": "code",
   "execution_count": 3,
   "id": "a7991bab",
   "metadata": {},
   "outputs": [
    {
     "data": {
      "image/png": "[encoded data removed]",
      "text/plain": [
       "<Figure size 800x800 with 2 Axes>"
      ]
     },
     "metadata": {},
     "output_type": "display_data"
    }
   ],
   "source": [
    "# Creando un heatmap para visualizar la correlación entre las variables\n",
    "\n",
    "plt.figure(figsize=(8, 8))\n",
    "sns.heatmap(data.corr(), annot=True, fmt=\".2f\", cmap=\"coolwarm\", square=True, cbar_kws={\"shrink\": .8})\n",
    "plt.title('Heatmap de Correlación entre Medios')\n",
    "plt.show()"
   ]
  },
  {
   "cell_type": "code",
   "execution_count": 18,
   "id": "4029d491",
   "metadata": {},
   "outputs": [],
   "source": [
    "# separando las variables independientes y dependientes\n",
    "X = data[['TV', 'Radio', 'Newspaper']]\n",
    "X= sm.add_constant(X)  # Agregar constante para el intercepto\n",
    "Y = data['Sales']"
   ]
  },
  {
   "cell_type": "code",
   "execution_count": 19,
   "id": "445ab55a",
   "metadata": {},
   "outputs": [],
   "source": [
    "# separando los datos en entrenamiento y prueba tomando el 70% para entrenamiento y 30% para prueba,\n",
    "# y usando una semilla para asegurar la reproducibilidad del resultado.\n",
    "from sklearn.model_selection import train_test_split\n",
    "X_train, X_test, Y_train, Y_test = train_test_split(X, Y, test_size=0.3, random_state=1)"
   ]
  },
  {
   "cell_type": "code",
   "execution_count": 20,
   "id": "3ebaff92",
   "metadata": {},
   "outputs": [
    {
     "name": "stdout",
     "output_type": "stream",
     "text": [
      "                            OLS Regression Results                            \n",
      "==============================================================================\n",
      "Dep. Variable:                  Sales   R-squared:                       0.899\n",
      "Model:                            OLS   Adj. R-squared:                  0.897\n",
      "Method:                 Least Squares   F-statistic:                     405.2\n",
      "Date:              lun., 28 jul. 2025   Prob (F-statistic):           1.36e-67\n",
      "Time:                        14:11:10   Log-Likelihood:                -272.35\n",
      "No. Observations:                 140   AIC:                             552.7\n",
      "Df Residuals:                     136   BIC:                             564.5\n",
      "Df Model:                           3                                         \n",
      "Covariance Type:            nonrobust                                         \n",
      "==============================================================================\n",
      "                 coef    std err          t      P>|t|      [0.025      0.975]\n",
      "------------------------------------------------------------------------------\n",
      "const          4.6614      0.368     12.650      0.000       3.933       5.390\n",
      "TV             0.0550      0.002     32.747      0.000       0.052       0.058\n",
      "Radio          0.1025      0.010      9.801      0.000       0.082       0.123\n",
      "Newspaper     -0.0015      0.007     -0.203      0.839      -0.016       0.013\n",
      "==============================================================================\n",
      "Omnibus:                       15.370   Durbin-Watson:                   2.041\n",
      "Prob(Omnibus):                  0.000   Jarque-Bera (JB):               25.876\n",
      "Skew:                          -0.526   Prob(JB):                     2.41e-06\n",
      "Kurtosis:                       4.824   Cond. No.                         432.\n",
      "==============================================================================\n",
      "\n",
      "Notes:\n",
      "[1] Standard Errors assume that the covariance matrix of the errors is correctly specified.\n"
     ]
    }
   ],
   "source": [
    "X_train_sm = sm.add_constant(X_train)\n",
    "modelo = sm.OLS(Y_train, X_train_sm).fit()\n",
    "print(modelo.summary())"
   ]
  },
  {
   "cell_type": "code",
   "execution_count": 21,
   "id": "35008fd6",
   "metadata": {},
   "outputs": [
    {
     "name": "stdout",
     "output_type": "stream",
     "text": [
      "Error Cuadratico Medio: 2.37\n",
      "R^2 Score: 0.91\n"
     ]
    }
   ],
   "source": [
    "from sklearn.linear_model import LinearRegression\n",
    "from sklearn.metrics import mean_squared_error, r2_score\n",
    "\n",
    "# Entrenando el modelo de regresión lineal\n",
    "modelo_sklearn = LinearRegression().fit(X_train, Y_train)\n",
    "Y_pred = modelo_sklearn.predict(X_test)\n",
    "\n",
    "mse = mean_squared_error(Y_test, Y_pred)\n",
    "r2 = r2_score(Y_test, Y_pred)\n",
    "\n",
    "print(f\"Error Cuadratico Medio: {mse:.2f}\")\n",
    "print(f\"R^2 Score: {r2:.2f}\")"
   ]
  },
  {
   "cell_type": "code",
   "execution_count": 12,
   "id": "32f4ad0f",
   "metadata": {},
   "outputs": [],
   "source": [
    "nuevos_datos = pd.DataFrame({'const': [1],'TV': [100], 'Radio': [50], 'Newspaper': [70]})\n",
    "nuevos_datos_sm = sm.add_constant(nuevos_datos)"
   ]
  },
  {
   "cell_type": "code",
   "execution_count": 22,
   "id": "7c9db359",
   "metadata": {},
   "outputs": [
    {
     "name": "stdout",
     "output_type": "stream",
     "text": [
      "Intervalo de confianza del 90%: \"14.59 --- 15.78\"\n"
     ]
    }
   ],
   "source": [
    "# Obtener predicción e intervalo de confianza\n",
    "pred_result = modelo.get_prediction(nuevos_datos)\n",
    "intervalo = pred_result.conf_int(alpha=0.10)\n",
    "\n",
    "# Extraer los valores mínimo y máximo del intervalo\n",
    "min_val = round(intervalo[0][0], 2)\n",
    "max_val = round(intervalo[0][1], 2)\n",
    "\n",
    "# Mostrar en formato solicitado\n",
    "print(f\"Intervalo de confianza del 90%: \\\"{min_val} --- {max_val}\\\"\")"
   ]
  },
  {
   "cell_type": "code",
   "execution_count": null,
   "id": "2c8060fb",
   "metadata": {},
   "outputs": [
    {
     "name": "stdout",
     "output_type": "stream",
     "text": [
      "Sesgo: -0.53\n",
      "Curtosis: 1.82\n",
      "Durbin-Watson: 2.04\n",
      "White Test p-value: 0.0332\n"
     ]
    }
   ],
   "source": [
    "import scipy.stats as stats\n",
    "import statsmodels.stats.diagnostic as sms\n",
    "\n",
    "residuos = modelo.resid\n",
    "X_sm = modelo.model.exog\n",
    "\n",
    "# Sesgo y curtosis\n",
    "sesgo = stats.skew(residuos)\n",
    "curtosis = stats.kurtosis(residuos)\n",
    "print(f\"Sesgo: {sesgo:.2f}\")\n",
    "print(f\"Curtosis: {curtosis:.2f}\")\n",
    "\n",
    "# Durbin-Watson\n",
    "from statsmodels.stats.stattools import durbin_watson\n",
    "dw = durbin_watson(residuos)\n",
    "print(f\"Durbin-Watson: {dw:.2f}\")\n",
    "\n",
    "# Heterocedasticidad de White\n",
    "white_test = sms.het_white(residuos, X_sm)\n",
    "print(f\"White Test p-value: {white_test[1]:.4f}\")"
   ]
  },
  {
   "cell_type": "code",
   "execution_count": 24,
   "id": "15bb24d8",
   "metadata": {},
   "outputs": [
    {
     "name": "stdout",
     "output_type": "stream",
     "text": [
      "Sesgo (manual): -0.53\n",
      "Curtosis (manual): 4.82\n"
     ]
    }
   ],
   "source": [
    "# Sesgo manual\n",
    "def sesgo_manual(x):\n",
    "    n = len(x)\n",
    "    media = np.mean(x)\n",
    "    std_dev = np.std(x, ddof=0)\n",
    "    return np.sum((x - media)**3) / (n * std_dev**3)\n",
    "\n",
    "# Curtosis manual\n",
    "def curtosis_manual(x):\n",
    "    n = len(x)\n",
    "    media = np.mean(x)\n",
    "    std_dev = np.std(x, ddof=0)\n",
    "    return np.sum((x - media)**4) / (n * std_dev**4)\n",
    "\n",
    "print(f\"Sesgo (manual): {sesgo_manual(residuos):.2f}\")\n",
    "print(f\"Curtosis (manual): {curtosis_manual(residuos):.2f}\")"
   ]
  }
 ],
 "metadata": {
  "kernelspec": {
   "display_name": "Benmaza",
   "language": "python",
   "name": "python3"
  },
  "language_info": {
   "codemirror_mode": {
    "name": "ipython",
    "version": 3
   },
   "file_extension": ".py",
   "mimetype": "text/x-python",
   "name": "python",
   "nbconvert_exporter": "python",
   "pygments_lexer": "ipython3",
   "version": "3.13.5"
  }
 },
 "nbformat": 4,
 "nbformat_minor": 5
}
