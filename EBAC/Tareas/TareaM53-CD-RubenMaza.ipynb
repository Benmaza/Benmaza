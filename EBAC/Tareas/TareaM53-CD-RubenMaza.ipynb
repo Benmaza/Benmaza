{
 "cells": [
  {
   "cell_type": "code",
   "execution_count": 1,
   "id": "6473c916",
   "metadata": {},
   "outputs": [],
   "source": [
    "import pandas as pd\n",
    "import numpy as np\n",
    "import warnings\n",
    "warnings.filterwarnings(\"ignore\")\n",
    "import seaborn as sns\n",
    "import matplotlib.pyplot as plt\n",
    "import statsmodels.api as sm"
   ]
  },
  {
   "cell_type": "code",
   "execution_count": 2,
   "id": "d7df4afa",
   "metadata": {},
   "outputs": [
    {
     "data": {
      "application/vnd.microsoft.datawrangler.viewer.v0+json": {
       "columns": [
        {
         "name": "index",
         "rawType": "int64",
         "type": "integer"
        },
        {
         "name": "TV",
         "rawType": "float64",
         "type": "float"
        },
        {
         "name": "Radio",
         "rawType": "float64",
         "type": "float"
        },
        {
         "name": "Newspaper",
         "rawType": "float64",
         "type": "float"
        },
        {
         "name": "Sales",
         "rawType": "float64",
         "type": "float"
        }
       ],
       "ref": "1584ae97-7363-4217-a804-9914d3497cda",
       "rows": [
        [
         "0",
         "230.1",
         "37.8",
         "69.2",
         "22.1"
        ],
        [
         "1",
         "44.5",
         "39.3",
         "45.1",
         "10.4"
        ],
        [
         "2",
         "17.2",
         "45.9",
         "69.3",
         "12.0"
        ],
        [
         "3",
         "151.5",
         "41.3",
         "58.5",
         "16.5"
        ],
        [
         "4",
         "180.8",
         "10.8",
         "58.4",
         "17.9"
        ],
        [
         "5",
         "8.7",
         "48.9",
         "75.0",
         "7.2"
        ],
        [
         "6",
         "57.5",
         "32.8",
         "23.5",
         "11.8"
        ],
        [
         "7",
         "120.2",
         "19.6",
         "11.6",
         "13.2"
        ],
        [
         "8",
         "8.6",
         "2.1",
         "1.0",
         "4.8"
        ],
        [
         "9",
         "199.8",
         "2.6",
         "21.2",
         "15.6"
        ],
        [
         "10",
         "66.1",
         "5.8",
         "24.2",
         "12.6"
        ],
        [
         "11",
         "214.7",
         "24.0",
         "4.0",
         "17.4"
        ],
        [
         "12",
         "23.8",
         "35.1",
         "65.9",
         "9.2"
        ],
        [
         "13",
         "97.5",
         "7.6",
         "7.2",
         "13.7"
        ],
        [
         "14",
         "204.1",
         "32.9",
         "46.0",
         "19.0"
        ],
        [
         "15",
         "195.4",
         "47.7",
         "52.9",
         "22.4"
        ],
        [
         "16",
         "67.8",
         "36.6",
         "114.0",
         "12.5"
        ],
        [
         "17",
         "281.4",
         "39.6",
         "55.8",
         "24.4"
        ],
        [
         "18",
         "69.2",
         "20.5",
         "18.3",
         "11.3"
        ],
        [
         "19",
         "147.3",
         "23.9",
         "19.1",
         "14.6"
        ],
        [
         "20",
         "218.4",
         "27.7",
         "53.4",
         "18.0"
        ],
        [
         "21",
         "237.4",
         "5.1",
         "23.5",
         "17.5"
        ],
        [
         "22",
         "13.2",
         "15.9",
         "49.6",
         "5.6"
        ],
        [
         "23",
         "228.3",
         "16.9",
         "26.2",
         "20.5"
        ],
        [
         "24",
         "62.3",
         "12.6",
         "18.3",
         "9.7"
        ],
        [
         "25",
         "262.9",
         "3.5",
         "19.5",
         "17.0"
        ],
        [
         "26",
         "142.9",
         "29.3",
         "12.6",
         "15.0"
        ],
        [
         "27",
         "240.1",
         "16.7",
         "22.9",
         "20.9"
        ],
        [
         "28",
         "248.8",
         "27.1",
         "22.9",
         "18.9"
        ],
        [
         "29",
         "70.6",
         "16.0",
         "40.8",
         "10.5"
        ],
        [
         "30",
         "292.9",
         "28.3",
         "43.2",
         "21.4"
        ],
        [
         "31",
         "112.9",
         "17.4",
         "38.6",
         "11.9"
        ],
        [
         "32",
         "97.2",
         "1.5",
         "30.0",
         "13.2"
        ],
        [
         "33",
         "265.6",
         "20.0",
         "0.3",
         "17.4"
        ],
        [
         "34",
         "95.7",
         "1.4",
         "7.4",
         "11.9"
        ],
        [
         "35",
         "290.7",
         "4.1",
         "8.5",
         "17.8"
        ],
        [
         "36",
         "266.9",
         "43.8",
         "5.0",
         "25.4"
        ],
        [
         "37",
         "74.7",
         "49.4",
         "45.7",
         "14.7"
        ],
        [
         "38",
         "43.1",
         "26.7",
         "35.1",
         "10.1"
        ],
        [
         "39",
         "228.0",
         "37.7",
         "32.0",
         "21.5"
        ],
        [
         "40",
         "202.5",
         "22.3",
         "31.6",
         "16.6"
        ],
        [
         "41",
         "177.0",
         "33.4",
         "38.7",
         "17.1"
        ],
        [
         "42",
         "293.6",
         "27.7",
         "1.8",
         "20.7"
        ],
        [
         "43",
         "206.9",
         "8.4",
         "26.4",
         "17.9"
        ],
        [
         "44",
         "25.1",
         "25.7",
         "43.3",
         "8.5"
        ],
        [
         "45",
         "175.1",
         "22.5",
         "31.5",
         "16.1"
        ],
        [
         "46",
         "89.7",
         "9.9",
         "35.7",
         "10.6"
        ],
        [
         "47",
         "239.9",
         "41.5",
         "18.5",
         "23.2"
        ],
        [
         "48",
         "227.2",
         "15.8",
         "49.9",
         "19.8"
        ],
        [
         "49",
         "66.9",
         "11.7",
         "36.8",
         "9.7"
        ]
       ],
       "shape": {
        "columns": 4,
        "rows": 200
       }
      },
      "text/html": [
       "<div>\n",
       "<style scoped>\n",
       "    .dataframe tbody tr th:only-of-type {\n",
       "        vertical-align: middle;\n",
       "    }\n",
       "\n",
       "    .dataframe tbody tr th {\n",
       "        vertical-align: top;\n",
       "    }\n",
       "\n",
       "    .dataframe thead th {\n",
       "        text-align: right;\n",
       "    }\n",
       "</style>\n",
       "<table border=\"1\" class=\"dataframe\">\n",
       "  <thead>\n",
       "    <tr style=\"text-align: right;\">\n",
       "      <th></th>\n",
       "      <th>TV</th>\n",
       "      <th>Radio</th>\n",
       "      <th>Newspaper</th>\n",
       "      <th>Sales</th>\n",
       "    </tr>\n",
       "  </thead>\n",
       "  <tbody>\n",
       "    <tr>\n",
       "      <th>0</th>\n",
       "      <td>230.1</td>\n",
       "      <td>37.8</td>\n",
       "      <td>69.2</td>\n",
       "      <td>22.1</td>\n",
       "    </tr>\n",
       "    <tr>\n",
       "      <th>1</th>\n",
       "      <td>44.5</td>\n",
       "      <td>39.3</td>\n",
       "      <td>45.1</td>\n",
       "      <td>10.4</td>\n",
       "    </tr>\n",
       "    <tr>\n",
       "      <th>2</th>\n",
       "      <td>17.2</td>\n",
       "      <td>45.9</td>\n",
       "      <td>69.3</td>\n",
       "      <td>12.0</td>\n",
       "    </tr>\n",
       "    <tr>\n",
       "      <th>3</th>\n",
       "      <td>151.5</td>\n",
       "      <td>41.3</td>\n",
       "      <td>58.5</td>\n",
       "      <td>16.5</td>\n",
       "    </tr>\n",
       "    <tr>\n",
       "      <th>4</th>\n",
       "      <td>180.8</td>\n",
       "      <td>10.8</td>\n",
       "      <td>58.4</td>\n",
       "      <td>17.9</td>\n",
       "    </tr>\n",
       "    <tr>\n",
       "      <th>...</th>\n",
       "      <td>...</td>\n",
       "      <td>...</td>\n",
       "      <td>...</td>\n",
       "      <td>...</td>\n",
       "    </tr>\n",
       "    <tr>\n",
       "      <th>195</th>\n",
       "      <td>38.2</td>\n",
       "      <td>3.7</td>\n",
       "      <td>13.8</td>\n",
       "      <td>7.6</td>\n",
       "    </tr>\n",
       "    <tr>\n",
       "      <th>196</th>\n",
       "      <td>94.2</td>\n",
       "      <td>4.9</td>\n",
       "      <td>8.1</td>\n",
       "      <td>14.0</td>\n",
       "    </tr>\n",
       "    <tr>\n",
       "      <th>197</th>\n",
       "      <td>177.0</td>\n",
       "      <td>9.3</td>\n",
       "      <td>6.4</td>\n",
       "      <td>14.8</td>\n",
       "    </tr>\n",
       "    <tr>\n",
       "      <th>198</th>\n",
       "      <td>283.6</td>\n",
       "      <td>42.0</td>\n",
       "      <td>66.2</td>\n",
       "      <td>25.5</td>\n",
       "    </tr>\n",
       "    <tr>\n",
       "      <th>199</th>\n",
       "      <td>232.1</td>\n",
       "      <td>8.6</td>\n",
       "      <td>8.7</td>\n",
       "      <td>18.4</td>\n",
       "    </tr>\n",
       "  </tbody>\n",
       "</table>\n",
       "<p>200 rows × 4 columns</p>\n",
       "</div>"
      ],
      "text/plain": [
       "        TV  Radio  Newspaper  Sales\n",
       "0    230.1   37.8       69.2   22.1\n",
       "1     44.5   39.3       45.1   10.4\n",
       "2     17.2   45.9       69.3   12.0\n",
       "3    151.5   41.3       58.5   16.5\n",
       "4    180.8   10.8       58.4   17.9\n",
       "..     ...    ...        ...    ...\n",
       "195   38.2    3.7       13.8    7.6\n",
       "196   94.2    4.9        8.1   14.0\n",
       "197  177.0    9.3        6.4   14.8\n",
       "198  283.6   42.0       66.2   25.5\n",
       "199  232.1    8.6        8.7   18.4\n",
       "\n",
       "[200 rows x 4 columns]"
      ]
     },
     "execution_count": 2,
     "metadata": {},
     "output_type": "execute_result"
    }
   ],
   "source": [
    "data = pd.read_csv('advertising.csv')\n",
    "data"
   ]
  },
  {
   "cell_type": "code",
   "execution_count": 3,
   "id": "a7991bab",
   "metadata": {},
   "outputs": [
    {
     "data": {
      "image/png": "[encoded data removed]",
      "text/plain": [
       "<Figure size 800x800 with 2 Axes>"
      ]
     },
     "metadata": {},
     "output_type": "display_data"
    }
   ],
   "source": [
    "# Creando un heatmap para visualizar la correlación entre las variables\n",
    "\n",
    "plt.figure(figsize=(8, 8))\n",
    "sns.heatmap(data.corr(), annot=True, fmt=\".2f\", cmap=\"coolwarm\", square=True, cbar_kws={\"shrink\": .8})\n",
    "plt.title('Heatmap de Correlación entre Medios')\n",
    "plt.show()"
   ]
  },
  {
   "cell_type": "code",
   "execution_count": 4,
   "id": "4029d491",
   "metadata": {},
   "outputs": [],
   "source": [
    "# separando las variables independientes y dependientes\n",
    "X = data[['TV', 'Radio', 'Newspaper']]\n",
    "X= sm.add_constant(X)  # Agregar constante para el intercepto\n",
    "Y = data['Sales']"
   ]
  },
  {
   "cell_type": "code",
   "execution_count": 5,
   "id": "445ab55a",
   "metadata": {},
   "outputs": [],
   "source": [
    "# separando los datos en entrenamiento y prueba tomando el 70% para entrenamiento y 30% para prueba,\n",
    "# y usando una semilla para asegurar la reproducibilidad del resultado.\n",
    "from sklearn.model_selection import train_test_split\n",
    "X_train, X_test, Y_train, Y_test = train_test_split(X, Y, test_size=0.3, random_state=1)"
   ]
  },
  {
   "cell_type": "code",
   "execution_count": 6,
   "id": "3ebaff92",
   "metadata": {},
   "outputs": [
    {
     "name": "stdout",
     "output_type": "stream",
     "text": [
      "                            OLS Regression Results                            \n",
      "==============================================================================\n",
      "Dep. Variable:                  Sales   R-squared:                       0.899\n",
      "Model:                            OLS   Adj. R-squared:                  0.897\n",
      "Method:                 Least Squares   F-statistic:                     405.2\n",
      "Date:                Mon, 18 Aug 2025   Prob (F-statistic):           1.36e-67\n",
      "Time:                        23:54:28   Log-Likelihood:                -272.35\n",
      "No. Observations:                 140   AIC:                             552.7\n",
      "Df Residuals:                     136   BIC:                             564.5\n",
      "Df Model:                           3                                         \n",
      "Covariance Type:            nonrobust                                         \n",
      "==============================================================================\n",
      "                 coef    std err          t      P>|t|      [0.025      0.975]\n",
      "------------------------------------------------------------------------------\n",
      "const          4.6614      0.368     12.650      0.000       3.933       5.390\n",
      "TV             0.0550      0.002     32.747      0.000       0.052       0.058\n",
      "Radio          0.1025      0.010      9.801      0.000       0.082       0.123\n",
      "Newspaper     -0.0015      0.007     -0.203      0.839      -0.016       0.013\n",
      "==============================================================================\n",
      "Omnibus:                       15.370   Durbin-Watson:                   2.041\n",
      "Prob(Omnibus):                  0.000   Jarque-Bera (JB):               25.876\n",
      "Skew:                          -0.526   Prob(JB):                     2.41e-06\n",
      "Kurtosis:                       4.824   Cond. No.                         432.\n",
      "==============================================================================\n",
      "\n",
      "Notes:\n",
      "[1] Standard Errors assume that the covariance matrix of the errors is correctly specified.\n"
     ]
    }
   ],
   "source": [
    "X_train_sm = sm.add_constant(X_train)\n",
    "modelo = sm.OLS(Y_train, X_train_sm).fit()\n",
    "print(modelo.summary())"
   ]
  },
  {
   "cell_type": "code",
   "execution_count": 7,
   "id": "35008fd6",
   "metadata": {},
   "outputs": [
    {
     "name": "stdout",
     "output_type": "stream",
     "text": [
      "Error Cuadratico Medio: 2.37\n",
      "R^2 Score: 0.91\n"
     ]
    }
   ],
   "source": [
    "from sklearn.linear_model import LinearRegression\n",
    "from sklearn.metrics import mean_squared_error, r2_score\n",
    "\n",
    "# Entrenando el modelo de regresión lineal\n",
    "modelo_sklearn = LinearRegression().fit(X_train, Y_train)\n",
    "Y_pred = modelo_sklearn.predict(X_test)\n",
    "\n",
    "mse = mean_squared_error(Y_test, Y_pred)\n",
    "r2 = r2_score(Y_test, Y_pred)\n",
    "\n",
    "print(f\"Error Cuadratico Medio: {mse:.2f}\")\n",
    "print(f\"R^2 Score: {r2:.2f}\")"
   ]
  },
  {
   "cell_type": "markdown",
   "id": "a3aa9fbf",
   "metadata": {},
   "source": [
    "Predicción"
   ]
  },
  {
   "cell_type": "code",
   "execution_count": 8,
   "id": "32f4ad0f",
   "metadata": {},
   "outputs": [],
   "source": [
    "nuevos_datos = pd.DataFrame({'const': [1],'TV': [100], 'Radio': [50], 'Newspaper': [70]})\n",
    "nuevos_datos_sm = sm.add_constant(nuevos_datos)"
   ]
  },
  {
   "cell_type": "code",
   "execution_count": 9,
   "id": "7c9db359",
   "metadata": {},
   "outputs": [
    {
     "name": "stdout",
     "output_type": "stream",
     "text": [
      "Predicción puntual de ventas: 15.18\n",
      "Intervalo de confianza del 90%: \"14.59 --- 15.78\"\n"
     ]
    }
   ],
   "source": [
    "# Obtener predicción e intervalo de confianza del 90%\n",
    "pred_result = modelo.get_prediction(nuevos_datos_sm)\n",
    "predicted_value = pred_result.predicted_mean[0]\n",
    "intervalo = pred_result.conf_int(alpha=0.10)\n",
    "\n",
    "# Extraer el límite inferior y superior\n",
    "min_val = round(intervalo[0][0], 2)\n",
    "max_val = round(intervalo[0][1], 2)\n",
    "\n",
    "# Mostrar resultado completo\n",
    "print(f\"Predicción puntual de ventas: {round(predicted_value, 2)}\")\n",
    "print(f\"Intervalo de confianza del 90%: \\\"{min_val} --- {max_val}\\\"\")\n"
   ]
  },
  {
   "cell_type": "markdown",
   "id": "04356ffc",
   "metadata": {},
   "source": [
    "Validacion de supuestos de la regresion"
   ]
  },
  {
   "cell_type": "code",
   "execution_count": 10,
   "id": "b72ca53b",
   "metadata": {},
   "outputs": [
    {
     "data": {
      "text/plain": [
       "-0.5262788252488133"
      ]
     },
     "execution_count": 10,
     "metadata": {},
     "output_type": "execute_result"
    }
   ],
   "source": [
    "# Supuesto de normalidad de los residuos\n",
    "\n",
    "import scipy\n",
    "skew = float(scipy.stats.skew(modelo.resid, bias=True))\n",
    "skew"
   ]
  },
  {
   "cell_type": "code",
   "execution_count": 11,
   "id": "0b88de66",
   "metadata": {},
   "outputs": [
    {
     "data": {
      "text/plain": [
       "1.824267653812191"
      ]
     },
     "execution_count": 11,
     "metadata": {},
     "output_type": "execute_result"
    }
   ],
   "source": [
    "kurtosis = float(scipy.stats.kurtosis(modelo.resid, fisher=True))\n",
    "kurtosis"
   ]
  },
  {
   "cell_type": "code",
   "execution_count": 12,
   "id": "87b26d59",
   "metadata": {},
   "outputs": [
    {
     "data": {
      "text/plain": [
       "20.751867979111456"
      ]
     },
     "execution_count": 12,
     "metadata": {},
     "output_type": "execute_result"
    }
   ],
   "source": [
    "JB = (len(Y)/6) * (skew**2 + (kurtosis -3)**2/4)\n",
    "JB"
   ]
  },
  {
   "cell_type": "code",
   "execution_count": 39,
   "id": "eacf406b",
   "metadata": {},
   "outputs": [
    {
     "name": "stdout",
     "output_type": "stream",
     "text": [
      "Test de Jarque-Bera:\n",
      "Estadístico JB: 20.7519\n",
      "Valor crítico χ² (α=0.10, df=2): 4.6052\n"
     ]
    }
   ],
   "source": [
    "# Test de Jarque-Bera para normalidad de residuos\n",
    "Nivel_confianza = 0.90\n",
    "df_JB = 2  # Grados de libertad para Jarque-Bera (sesgo + curtosis)\n",
    "valor_critico_JB = scipy.stats.chi2.ppf(Nivel_confianza, df=df_JB)\n",
    "\n",
    "print(f\"Test de Jarque-Bera:\")\n",
    "print(f\"Estadístico JB: {JB:.4f}\")\n",
    "print(f\"Valor crítico χ² (α=0.10, df={df_JB}): {valor_critico_JB:.4f}\")"
   ]
  },
  {
   "cell_type": "markdown",
   "id": "4166421a",
   "metadata": {},
   "source": [
    "Inexistencia de autocorrelacion entre residuales"
   ]
  },
  {
   "cell_type": "code",
   "execution_count": 14,
   "id": "2affe8d1",
   "metadata": {},
   "outputs": [],
   "source": [
    "from statsmodels.formula.api import ols"
   ]
  },
  {
   "cell_type": "code",
   "execution_count": 15,
   "id": "0193323b",
   "metadata": {},
   "outputs": [
    {
     "data": {
      "application/vnd.microsoft.datawrangler.viewer.v0+json": {
       "columns": [
        {
         "name": "index",
         "rawType": "int64",
         "type": "integer"
        },
        {
         "name": "TV",
         "rawType": "float64",
         "type": "float"
        },
        {
         "name": "Radio",
         "rawType": "float64",
         "type": "float"
        },
        {
         "name": "Newspaper",
         "rawType": "float64",
         "type": "float"
        }
       ],
       "ref": "65a97524-5085-493e-ba2c-8eec83c3b452",
       "rows": [
        [
         "116",
         "139.2",
         "14.3",
         "25.6"
        ],
        [
         "67",
         "139.3",
         "14.5",
         "10.2"
        ],
        [
         "78",
         "5.4",
         "29.9",
         "9.4"
        ],
        [
         "42",
         "293.6",
         "27.7",
         "1.8"
        ],
        [
         "17",
         "281.4",
         "39.6",
         "55.8"
        ],
        [
         "5",
         "8.7",
         "48.9",
         "75.0"
        ],
        [
         "127",
         "80.2",
         "0.0",
         "9.2"
        ],
        [
         "105",
         "137.9",
         "46.4",
         "59.0"
        ],
        [
         "48",
         "227.2",
         "15.8",
         "49.9"
        ],
        [
         "66",
         "31.5",
         "24.6",
         "2.2"
        ],
        [
         "54",
         "262.7",
         "28.8",
         "15.9"
        ],
        [
         "84",
         "213.5",
         "43.0",
         "33.8"
        ],
        [
         "183",
         "287.6",
         "43.0",
         "71.8"
        ],
        [
         "158",
         "11.7",
         "36.9",
         "45.2"
        ],
        [
         "166",
         "17.9",
         "37.6",
         "21.6"
        ],
        [
         "113",
         "209.6",
         "20.6",
         "10.7"
        ],
        [
         "12",
         "23.8",
         "35.1",
         "65.9"
        ],
        [
         "117",
         "76.4",
         "0.8",
         "14.8"
        ],
        [
         "93",
         "250.9",
         "36.5",
         "72.3"
        ],
        [
         "120",
         "141.3",
         "26.8",
         "46.2"
        ],
        [
         "154",
         "187.8",
         "21.1",
         "9.5"
        ],
        [
         "90",
         "134.3",
         "4.9",
         "9.3"
        ],
        [
         "81",
         "239.8",
         "4.1",
         "36.9"
        ],
        [
         "122",
         "224.0",
         "2.4",
         "15.6"
        ],
        [
         "191",
         "75.5",
         "10.8",
         "6.0"
        ],
        [
         "13",
         "97.5",
         "7.6",
         "7.2"
        ],
        [
         "82",
         "75.3",
         "20.3",
         "32.5"
        ],
        [
         "132",
         "8.4",
         "27.2",
         "2.1"
        ],
        [
         "187",
         "191.1",
         "28.7",
         "18.2"
        ],
        [
         "45",
         "175.1",
         "22.5",
         "31.5"
        ],
        [
         "99",
         "135.2",
         "41.7",
         "45.9"
        ],
        [
         "36",
         "266.9",
         "43.8",
         "5.0"
        ],
        [
         "161",
         "85.7",
         "35.8",
         "49.3"
        ],
        [
         "186",
         "139.5",
         "2.1",
         "26.6"
        ],
        [
         "153",
         "171.3",
         "39.7",
         "37.7"
        ],
        [
         "103",
         "187.9",
         "17.2",
         "17.9"
        ],
        [
         "195",
         "38.2",
         "3.7",
         "13.8"
        ],
        [
         "197",
         "177.0",
         "9.3",
         "6.4"
        ],
        [
         "148",
         "38.0",
         "40.3",
         "11.9"
        ],
        [
         "173",
         "168.4",
         "7.1",
         "12.8"
        ],
        [
         "75",
         "16.9",
         "43.7",
         "89.4"
        ],
        [
         "21",
         "237.4",
         "5.1",
         "23.5"
        ],
        [
         "91",
         "28.6",
         "1.5",
         "33.0"
        ],
        [
         "152",
         "197.6",
         "23.3",
         "14.2"
        ],
        [
         "2",
         "17.2",
         "45.9",
         "69.3"
        ],
        [
         "70",
         "199.1",
         "30.6",
         "38.7"
        ],
        [
         "85",
         "193.2",
         "18.4",
         "65.7"
        ],
        [
         "150",
         "280.7",
         "13.9",
         "37.0"
        ],
        [
         "6",
         "57.5",
         "32.8",
         "23.5"
        ],
        [
         "112",
         "175.7",
         "15.4",
         "2.4"
        ]
       ],
       "shape": {
        "columns": 3,
        "rows": 140
       }
      },
      "text/html": [
       "<div>\n",
       "<style scoped>\n",
       "    .dataframe tbody tr th:only-of-type {\n",
       "        vertical-align: middle;\n",
       "    }\n",
       "\n",
       "    .dataframe tbody tr th {\n",
       "        vertical-align: top;\n",
       "    }\n",
       "\n",
       "    .dataframe thead th {\n",
       "        text-align: right;\n",
       "    }\n",
       "</style>\n",
       "<table border=\"1\" class=\"dataframe\">\n",
       "  <thead>\n",
       "    <tr style=\"text-align: right;\">\n",
       "      <th></th>\n",
       "      <th>TV</th>\n",
       "      <th>Radio</th>\n",
       "      <th>Newspaper</th>\n",
       "    </tr>\n",
       "  </thead>\n",
       "  <tbody>\n",
       "    <tr>\n",
       "      <th>116</th>\n",
       "      <td>139.2</td>\n",
       "      <td>14.3</td>\n",
       "      <td>25.6</td>\n",
       "    </tr>\n",
       "    <tr>\n",
       "      <th>67</th>\n",
       "      <td>139.3</td>\n",
       "      <td>14.5</td>\n",
       "      <td>10.2</td>\n",
       "    </tr>\n",
       "    <tr>\n",
       "      <th>78</th>\n",
       "      <td>5.4</td>\n",
       "      <td>29.9</td>\n",
       "      <td>9.4</td>\n",
       "    </tr>\n",
       "    <tr>\n",
       "      <th>42</th>\n",
       "      <td>293.6</td>\n",
       "      <td>27.7</td>\n",
       "      <td>1.8</td>\n",
       "    </tr>\n",
       "    <tr>\n",
       "      <th>17</th>\n",
       "      <td>281.4</td>\n",
       "      <td>39.6</td>\n",
       "      <td>55.8</td>\n",
       "    </tr>\n",
       "    <tr>\n",
       "      <th>...</th>\n",
       "      <td>...</td>\n",
       "      <td>...</td>\n",
       "      <td>...</td>\n",
       "    </tr>\n",
       "    <tr>\n",
       "      <th>133</th>\n",
       "      <td>219.8</td>\n",
       "      <td>33.5</td>\n",
       "      <td>45.1</td>\n",
       "    </tr>\n",
       "    <tr>\n",
       "      <th>137</th>\n",
       "      <td>273.7</td>\n",
       "      <td>28.9</td>\n",
       "      <td>59.7</td>\n",
       "    </tr>\n",
       "    <tr>\n",
       "      <th>72</th>\n",
       "      <td>26.8</td>\n",
       "      <td>33.0</td>\n",
       "      <td>19.3</td>\n",
       "    </tr>\n",
       "    <tr>\n",
       "      <th>140</th>\n",
       "      <td>73.4</td>\n",
       "      <td>17.0</td>\n",
       "      <td>12.9</td>\n",
       "    </tr>\n",
       "    <tr>\n",
       "      <th>37</th>\n",
       "      <td>74.7</td>\n",
       "      <td>49.4</td>\n",
       "      <td>45.7</td>\n",
       "    </tr>\n",
       "  </tbody>\n",
       "</table>\n",
       "<p>140 rows × 3 columns</p>\n",
       "</div>"
      ],
      "text/plain": [
       "        TV  Radio  Newspaper\n",
       "116  139.2   14.3       25.6\n",
       "67   139.3   14.5       10.2\n",
       "78     5.4   29.9        9.4\n",
       "42   293.6   27.7        1.8\n",
       "17   281.4   39.6       55.8\n",
       "..     ...    ...        ...\n",
       "133  219.8   33.5       45.1\n",
       "137  273.7   28.9       59.7\n",
       "72    26.8   33.0       19.3\n",
       "140   73.4   17.0       12.9\n",
       "37    74.7   49.4       45.7\n",
       "\n",
       "[140 rows x 3 columns]"
      ]
     },
     "execution_count": 15,
     "metadata": {},
     "output_type": "execute_result"
    }
   ],
   "source": [
    "y_train_df = pd.DataFrame(Y_train)\n",
    "x_train_df = pd.DataFrame(X_train[['TV', 'Radio', 'Newspaper']], columns=['TV', 'Radio', 'Newspaper'])\n",
    "x_train_df"
   ]
  },
  {
   "cell_type": "code",
   "execution_count": 27,
   "id": "72c0f883",
   "metadata": {},
   "outputs": [
    {
     "data": {
      "application/vnd.microsoft.datawrangler.viewer.v0+json": {
       "columns": [
        {
         "name": "index",
         "rawType": "int64",
         "type": "integer"
        },
        {
         "name": "TV",
         "rawType": "float64",
         "type": "float"
        },
        {
         "name": "Radio",
         "rawType": "float64",
         "type": "float"
        },
        {
         "name": "Newspaper",
         "rawType": "float64",
         "type": "float"
        },
        {
         "name": "Sales",
         "rawType": "float64",
         "type": "float"
        }
       ],
       "ref": "39192d33-30fb-40a2-91ef-3dea664373bd",
       "rows": [
        [
         "116",
         "139.2",
         "14.3",
         "25.6",
         "12.2"
        ],
        [
         "67",
         "139.3",
         "14.5",
         "10.2",
         "13.4"
        ],
        [
         "78",
         "5.4",
         "29.9",
         "9.4",
         "5.3"
        ],
        [
         "42",
         "293.6",
         "27.7",
         "1.8",
         "20.7"
        ],
        [
         "17",
         "281.4",
         "39.6",
         "55.8",
         "24.4"
        ],
        [
         "5",
         "8.7",
         "48.9",
         "75.0",
         "7.2"
        ],
        [
         "127",
         "80.2",
         "0.0",
         "9.2",
         "11.9"
        ],
        [
         "105",
         "137.9",
         "46.4",
         "59.0",
         "15.0"
        ],
        [
         "48",
         "227.2",
         "15.8",
         "49.9",
         "19.8"
        ],
        [
         "66",
         "31.5",
         "24.6",
         "2.2",
         "11.0"
        ],
        [
         "54",
         "262.7",
         "28.8",
         "15.9",
         "20.2"
        ],
        [
         "84",
         "213.5",
         "43.0",
         "33.8",
         "21.7"
        ],
        [
         "183",
         "287.6",
         "43.0",
         "71.8",
         "26.2"
        ],
        [
         "158",
         "11.7",
         "36.9",
         "45.2",
         "7.3"
        ],
        [
         "166",
         "17.9",
         "37.6",
         "21.6",
         "8.0"
        ],
        [
         "113",
         "209.6",
         "20.6",
         "10.7",
         "20.9"
        ],
        [
         "12",
         "23.8",
         "35.1",
         "65.9",
         "9.2"
        ],
        [
         "117",
         "76.4",
         "0.8",
         "14.8",
         "9.4"
        ],
        [
         "93",
         "250.9",
         "36.5",
         "72.3",
         "22.2"
        ],
        [
         "120",
         "141.3",
         "26.8",
         "46.2",
         "15.5"
        ],
        [
         "154",
         "187.8",
         "21.1",
         "9.5",
         "20.6"
        ],
        [
         "90",
         "134.3",
         "4.9",
         "9.3",
         "14.0"
        ],
        [
         "81",
         "239.8",
         "4.1",
         "36.9",
         "17.3"
        ],
        [
         "122",
         "224.0",
         "2.4",
         "15.6",
         "16.6"
        ],
        [
         "191",
         "75.5",
         "10.8",
         "6.0",
         "11.9"
        ],
        [
         "13",
         "97.5",
         "7.6",
         "7.2",
         "13.7"
        ],
        [
         "82",
         "75.3",
         "20.3",
         "32.5",
         "11.3"
        ],
        [
         "132",
         "8.4",
         "27.2",
         "2.1",
         "5.7"
        ],
        [
         "187",
         "191.1",
         "28.7",
         "18.2",
         "17.3"
        ],
        [
         "45",
         "175.1",
         "22.5",
         "31.5",
         "16.1"
        ],
        [
         "99",
         "135.2",
         "41.7",
         "45.9",
         "17.2"
        ],
        [
         "36",
         "266.9",
         "43.8",
         "5.0",
         "25.4"
        ],
        [
         "161",
         "85.7",
         "35.8",
         "49.3",
         "13.3"
        ],
        [
         "186",
         "139.5",
         "2.1",
         "26.6",
         "10.3"
        ],
        [
         "153",
         "171.3",
         "39.7",
         "37.7",
         "16.0"
        ],
        [
         "103",
         "187.9",
         "17.2",
         "17.9",
         "19.7"
        ],
        [
         "195",
         "38.2",
         "3.7",
         "13.8",
         "7.6"
        ],
        [
         "197",
         "177.0",
         "9.3",
         "6.4",
         "14.8"
        ],
        [
         "148",
         "38.0",
         "40.3",
         "11.9",
         "10.9"
        ],
        [
         "173",
         "168.4",
         "7.1",
         "12.8",
         "16.7"
        ],
        [
         "75",
         "16.9",
         "43.7",
         "89.4",
         "8.7"
        ],
        [
         "21",
         "237.4",
         "5.1",
         "23.5",
         "17.5"
        ],
        [
         "91",
         "28.6",
         "1.5",
         "33.0",
         "7.3"
        ],
        [
         "152",
         "197.6",
         "23.3",
         "14.2",
         "16.6"
        ],
        [
         "2",
         "17.2",
         "45.9",
         "69.3",
         "12.0"
        ],
        [
         "70",
         "199.1",
         "30.6",
         "38.7",
         "18.3"
        ],
        [
         "85",
         "193.2",
         "18.4",
         "65.7",
         "20.2"
        ],
        [
         "150",
         "280.7",
         "13.9",
         "37.0",
         "16.1"
        ],
        [
         "6",
         "57.5",
         "32.8",
         "23.5",
         "11.8"
        ],
        [
         "112",
         "175.7",
         "15.4",
         "2.4",
         "17.1"
        ]
       ],
       "shape": {
        "columns": 4,
        "rows": 140
       }
      },
      "text/html": [
       "<div>\n",
       "<style scoped>\n",
       "    .dataframe tbody tr th:only-of-type {\n",
       "        vertical-align: middle;\n",
       "    }\n",
       "\n",
       "    .dataframe tbody tr th {\n",
       "        vertical-align: top;\n",
       "    }\n",
       "\n",
       "    .dataframe thead th {\n",
       "        text-align: right;\n",
       "    }\n",
       "</style>\n",
       "<table border=\"1\" class=\"dataframe\">\n",
       "  <thead>\n",
       "    <tr style=\"text-align: right;\">\n",
       "      <th></th>\n",
       "      <th>TV</th>\n",
       "      <th>Radio</th>\n",
       "      <th>Newspaper</th>\n",
       "      <th>Sales</th>\n",
       "    </tr>\n",
       "  </thead>\n",
       "  <tbody>\n",
       "    <tr>\n",
       "      <th>116</th>\n",
       "      <td>139.2</td>\n",
       "      <td>14.3</td>\n",
       "      <td>25.6</td>\n",
       "      <td>12.2</td>\n",
       "    </tr>\n",
       "    <tr>\n",
       "      <th>67</th>\n",
       "      <td>139.3</td>\n",
       "      <td>14.5</td>\n",
       "      <td>10.2</td>\n",
       "      <td>13.4</td>\n",
       "    </tr>\n",
       "    <tr>\n",
       "      <th>78</th>\n",
       "      <td>5.4</td>\n",
       "      <td>29.9</td>\n",
       "      <td>9.4</td>\n",
       "      <td>5.3</td>\n",
       "    </tr>\n",
       "    <tr>\n",
       "      <th>42</th>\n",
       "      <td>293.6</td>\n",
       "      <td>27.7</td>\n",
       "      <td>1.8</td>\n",
       "      <td>20.7</td>\n",
       "    </tr>\n",
       "    <tr>\n",
       "      <th>17</th>\n",
       "      <td>281.4</td>\n",
       "      <td>39.6</td>\n",
       "      <td>55.8</td>\n",
       "      <td>24.4</td>\n",
       "    </tr>\n",
       "    <tr>\n",
       "      <th>...</th>\n",
       "      <td>...</td>\n",
       "      <td>...</td>\n",
       "      <td>...</td>\n",
       "      <td>...</td>\n",
       "    </tr>\n",
       "    <tr>\n",
       "      <th>133</th>\n",
       "      <td>219.8</td>\n",
       "      <td>33.5</td>\n",
       "      <td>45.1</td>\n",
       "      <td>19.6</td>\n",
       "    </tr>\n",
       "    <tr>\n",
       "      <th>137</th>\n",
       "      <td>273.7</td>\n",
       "      <td>28.9</td>\n",
       "      <td>59.7</td>\n",
       "      <td>20.8</td>\n",
       "    </tr>\n",
       "    <tr>\n",
       "      <th>72</th>\n",
       "      <td>26.8</td>\n",
       "      <td>33.0</td>\n",
       "      <td>19.3</td>\n",
       "      <td>8.8</td>\n",
       "    </tr>\n",
       "    <tr>\n",
       "      <th>140</th>\n",
       "      <td>73.4</td>\n",
       "      <td>17.0</td>\n",
       "      <td>12.9</td>\n",
       "      <td>10.9</td>\n",
       "    </tr>\n",
       "    <tr>\n",
       "      <th>37</th>\n",
       "      <td>74.7</td>\n",
       "      <td>49.4</td>\n",
       "      <td>45.7</td>\n",
       "      <td>14.7</td>\n",
       "    </tr>\n",
       "  </tbody>\n",
       "</table>\n",
       "<p>140 rows × 4 columns</p>\n",
       "</div>"
      ],
      "text/plain": [
       "        TV  Radio  Newspaper  Sales\n",
       "116  139.2   14.3       25.6   12.2\n",
       "67   139.3   14.5       10.2   13.4\n",
       "78     5.4   29.9        9.4    5.3\n",
       "42   293.6   27.7        1.8   20.7\n",
       "17   281.4   39.6       55.8   24.4\n",
       "..     ...    ...        ...    ...\n",
       "133  219.8   33.5       45.1   19.6\n",
       "137  273.7   28.9       59.7   20.8\n",
       "72    26.8   33.0       19.3    8.8\n",
       "140   73.4   17.0       12.9   10.9\n",
       "37    74.7   49.4       45.7   14.7\n",
       "\n",
       "[140 rows x 4 columns]"
      ]
     },
     "execution_count": 27,
     "metadata": {},
     "output_type": "execute_result"
    }
   ],
   "source": [
    "df_train = pd.concat([x_train_df, y_train_df], axis=1)\n",
    "df_train.columns = ['TV', 'Radio', 'Newspaper', 'Sales']\n",
    "df_train"
   ]
  },
  {
   "cell_type": "code",
   "execution_count": 17,
   "id": "dc011f6b",
   "metadata": {},
   "outputs": [
    {
     "name": "stdout",
     "output_type": "stream",
     "text": [
      "Estadístico Durbin-Watson: 2.0408\n"
     ]
    }
   ],
   "source": [
    "# Crear modelo con los datos de entrenamiento para mantener consistencia\n",
    "modelo_ols = ols('Sales ~ TV + Radio + Newspaper', data=df_train).fit()\n",
    "\n",
    "# Calcular Durbin-Watson para detectar autocorrelación\n",
    "from statsmodels.stats.stattools import durbin_watson\n",
    "dw = durbin_watson(modelo_ols.resid)\n",
    "print(f\"Estadístico Durbin-Watson: {dw:.4f}\")"
   ]
  },
  {
   "cell_type": "markdown",
   "id": "6d1e765a",
   "metadata": {},
   "source": [
    "Homocedasticidad "
   ]
  },
  {
   "cell_type": "code",
   "execution_count": null,
   "id": "a9312b3b",
   "metadata": {},
   "outputs": [
    {
     "data": {
      "application/vnd.microsoft.datawrangler.viewer.v0+json": {
       "columns": [
        {
         "name": "index",
         "rawType": "int64",
         "type": "integer"
        },
        {
         "name": "0",
         "rawType": "float64",
         "type": "float"
        }
       ],
       "ref": "782fe8b8-c51b-4924-a13a-1429b7f77025",
       "rows": [
        [
         "116",
         "2.3965533908085423"
        ],
        [
         "67",
         "0.15784281576467488"
        ],
        [
         "78",
         "7.34112955709511"
        ],
        [
         "42",
         "8.721844487384342"
        ],
        [
         "17",
         "0.07813660370066679"
        ],
        [
         "5",
         "8.064777704848984"
        ],
        [
         "127",
         "8.06280256526923"
        ],
        [
         "105",
         "3.6740609281507304"
        ],
        [
         "48",
         "1.1939327823220718"
        ],
        [
         "66",
         "4.355050776659918"
        ],
        [
         "54",
         "3.4023598904520087"
        ],
        [
         "84",
         "0.8722866156474163"
        ],
        [
         "183",
         "1.999284457143282"
        ],
        [
         "158",
         "2.9574313514653188"
        ],
        [
         "166",
         "2.1555859471873706"
        ],
        [
         "113",
         "6.811925687132669"
        ],
        [
         "12",
         "0.07278808414114084"
        ],
        [
         "117",
         "0.22565360197619538"
        ],
        [
         "93",
         "0.010081578446540613"
        ],
        [
         "120",
         "0.1490270778866763"
        ],
        [
         "154",
         "11.94687013031481"
        ],
        [
         "90",
         "2.1332503628662995"
        ],
        [
         "81",
         "0.8479722798548248"
        ],
        [
         "122",
         "0.3712592867439808"
        ],
        [
         "191",
         "3.9449460921274153"
        ],
        [
         "13",
         "8.44194919288977"
        ],
        [
         "82",
         "0.21463452330244226"
        ],
        [
         "132",
         "4.878569676489423"
        ],
        [
         "187",
         "0.6258690274446436"
        ],
        [
         "45",
         "0.2071428571535379"
        ],
        [
         "99",
         "0.7989403252625323"
        ],
        [
         "36",
         "2.4657572877857885"
        ],
        [
         "161",
         "0.10722472093712061"
        ],
        [
         "186",
         "4.894971691197203"
        ],
        [
         "153",
         "4.409441497191018"
        ],
        [
         "103",
         "8.78156691225177"
        ],
        [
         "195",
         "0.2286346693826465"
        ],
        [
         "197",
         "0.2963397042862067"
        ],
        [
         "148",
         "0.001185553958800611"
        ],
        [
         "173",
         "4.2601054941176475"
        ],
        [
         "75",
         "1.52843001128477"
        ],
        [
         "21",
         "0.5062350091110414"
        ],
        [
         "91",
         "0.923224398880872"
        ],
        [
         "152",
         "1.6932478818244585"
        ],
        [
         "2",
         "3.209046082420273"
        ],
        [
         "70",
         "0.15617006148822"
        ],
        [
         "85",
         "9.739216045901115"
        ],
        [
         "150",
         "28.899009426991256"
        ],
        [
         "6",
         "0.41960999329399196"
        ],
        [
         "112",
         "1.4299868642868194"
        ]
       ],
       "shape": {
        "columns": 1,
        "rows": 140
       }
      },
      "text/plain": [
       "116    2.396553\n",
       "67     0.157843\n",
       "78     7.341130\n",
       "42     8.721844\n",
       "17     0.078137\n",
       "         ...   \n",
       "133    0.272288\n",
       "137    3.218621\n",
       "72     0.475858\n",
       "140    0.227125\n",
       "37     0.870775\n",
       "Length: 140, dtype: float64"
      ]
     },
     "execution_count": 22,
     "metadata": {},
     "output_type": "execute_result"
    }
   ],
   "source": [
    "# Homocedasticidad de los residuos\n",
    "\n",
    "Resicuad = modelo.resid**2\n",
    "Resicuad_df = pd.DataFrame(Resicuad, columns=['Residuos_Cuadrados'])\n",
    "Resicuad"
   ]
  },
  {
   "cell_type": "code",
   "execution_count": 29,
   "id": "cb64c249",
   "metadata": {},
   "outputs": [
    {
     "name": "stdout",
     "output_type": "stream",
     "text": [
      "X1 (variables independientes):\n",
      "        TV  Radio  Newspaper\n",
      "116  139.2   14.3       25.6\n",
      "67   139.3   14.5       10.2\n",
      "78     5.4   29.9        9.4\n",
      "42   293.6   27.7        1.8\n",
      "17   281.4   39.6       55.8\n",
      "\n",
      "X1 al cuadrado:\n",
      "     TV_Cuadrado  Radio_Cuadrado  Newspaper_Cuadrado\n",
      "116     19376.64          204.49              655.36\n",
      "67      19404.49          210.25              104.04\n",
      "78         29.16          894.01               88.36\n",
      "42      86200.96          767.29                3.24\n",
      "17      79185.96         1568.16             3113.64\n"
     ]
    },
    {
     "data": {
      "application/vnd.microsoft.datawrangler.viewer.v0+json": {
       "columns": [
        {
         "name": "index",
         "rawType": "int64",
         "type": "integer"
        },
        {
         "name": "TV_Cuadrado",
         "rawType": "float64",
         "type": "float"
        },
        {
         "name": "Radio_Cuadrado",
         "rawType": "float64",
         "type": "float"
        },
        {
         "name": "Newspaper_Cuadrado",
         "rawType": "float64",
         "type": "float"
        }
       ],
       "ref": "74dac457-b29d-4afc-b477-e7408d87d50f",
       "rows": [
        [
         "116",
         "19376.639999999996",
         "204.49",
         "655.3600000000001"
        ],
        [
         "67",
         "19404.49",
         "210.25",
         "104.03999999999999"
        ],
        [
         "78",
         "29.160000000000004",
         "894.0099999999999",
         "88.36000000000001"
        ],
        [
         "42",
         "86200.96",
         "767.29",
         "3.24"
        ],
        [
         "17",
         "79185.95999999999",
         "1568.16",
         "3113.64"
        ],
        [
         "5",
         "75.68999999999998",
         "2391.21",
         "5625.0"
        ],
        [
         "127",
         "6432.040000000001",
         "0.0",
         "84.63999999999999"
        ],
        [
         "105",
         "19016.41",
         "2152.96",
         "3481.0"
        ],
        [
         "48",
         "51619.84",
         "249.64000000000001",
         "2490.0099999999998"
        ],
        [
         "66",
         "992.25",
         "605.1600000000001",
         "4.840000000000001"
        ],
        [
         "54",
         "69011.29",
         "829.44",
         "252.81"
        ],
        [
         "84",
         "45582.25",
         "1849.0",
         "1142.4399999999998"
        ],
        [
         "183",
         "82713.76000000001",
         "1849.0",
         "5155.24"
        ],
        [
         "158",
         "136.89",
         "1361.61",
         "2043.0400000000002"
        ],
        [
         "166",
         "320.40999999999997",
         "1413.7600000000002",
         "466.56000000000006"
        ],
        [
         "113",
         "43932.159999999996",
         "424.36000000000007",
         "114.48999999999998"
        ],
        [
         "12",
         "566.44",
         "1232.01",
         "4342.81"
        ],
        [
         "117",
         "5836.960000000001",
         "0.6400000000000001",
         "219.04000000000002"
        ],
        [
         "93",
         "62950.810000000005",
         "1332.25",
         "5227.29"
        ],
        [
         "120",
         "19965.690000000002",
         "718.24",
         "2134.44"
        ],
        [
         "154",
         "35268.840000000004",
         "445.21000000000004",
         "90.25"
        ],
        [
         "90",
         "18036.49",
         "24.010000000000005",
         "86.49000000000001"
        ],
        [
         "81",
         "57504.04000000001",
         "16.81",
         "1361.61"
        ],
        [
         "122",
         "50176.0",
         "5.76",
         "243.35999999999999"
        ],
        [
         "191",
         "5700.25",
         "116.64000000000001",
         "36.0"
        ],
        [
         "13",
         "9506.25",
         "57.76",
         "51.84"
        ],
        [
         "82",
         "5670.089999999999",
         "412.09000000000003",
         "1056.25"
        ],
        [
         "132",
         "70.56",
         "739.8399999999999",
         "4.41"
        ],
        [
         "187",
         "36519.21",
         "823.6899999999999",
         "331.23999999999995"
        ],
        [
         "45",
         "30660.01",
         "506.25",
         "992.25"
        ],
        [
         "99",
         "18279.039999999997",
         "1738.8900000000003",
         "2106.81"
        ],
        [
         "36",
         "71235.60999999999",
         "1918.4399999999998",
         "25.0"
        ],
        [
         "161",
         "7344.490000000001",
         "1281.6399999999999",
         "2430.49"
        ],
        [
         "186",
         "19460.25",
         "4.41",
         "707.5600000000001"
        ],
        [
         "153",
         "29343.690000000002",
         "1576.0900000000001",
         "1421.2900000000002"
        ],
        [
         "103",
         "35306.41",
         "295.84",
         "320.40999999999997"
        ],
        [
         "195",
         "1459.2400000000002",
         "13.690000000000001",
         "190.44000000000003"
        ],
        [
         "197",
         "31329.0",
         "86.49000000000001",
         "40.96000000000001"
        ],
        [
         "148",
         "1444.0",
         "1624.0899999999997",
         "141.61"
        ],
        [
         "173",
         "28358.56",
         "50.41",
         "163.84000000000003"
        ],
        [
         "75",
         "285.60999999999996",
         "1909.6900000000003",
         "7992.360000000001"
        ],
        [
         "21",
         "56358.76",
         "26.009999999999998",
         "552.25"
        ],
        [
         "91",
         "817.96",
         "2.25",
         "1089.0"
        ],
        [
         "152",
         "39045.759999999995",
         "542.89",
         "201.64"
        ],
        [
         "2",
         "295.84",
         "2106.81",
         "4802.49"
        ],
        [
         "70",
         "39640.81",
         "936.3600000000001",
         "1497.6900000000003"
        ],
        [
         "85",
         "37326.24",
         "338.55999999999995",
         "4316.490000000001"
        ],
        [
         "150",
         "78792.48999999999",
         "193.21",
         "1369.0"
        ],
        [
         "6",
         "3306.25",
         "1075.84",
         "552.25"
        ],
        [
         "112",
         "30870.489999999994",
         "237.16000000000003",
         "5.76"
        ]
       ],
       "shape": {
        "columns": 3,
        "rows": 140
       }
      },
      "text/html": [
       "<div>\n",
       "<style scoped>\n",
       "    .dataframe tbody tr th:only-of-type {\n",
       "        vertical-align: middle;\n",
       "    }\n",
       "\n",
       "    .dataframe tbody tr th {\n",
       "        vertical-align: top;\n",
       "    }\n",
       "\n",
       "    .dataframe thead th {\n",
       "        text-align: right;\n",
       "    }\n",
       "</style>\n",
       "<table border=\"1\" class=\"dataframe\">\n",
       "  <thead>\n",
       "    <tr style=\"text-align: right;\">\n",
       "      <th></th>\n",
       "      <th>TV_Cuadrado</th>\n",
       "      <th>Radio_Cuadrado</th>\n",
       "      <th>Newspaper_Cuadrado</th>\n",
       "    </tr>\n",
       "  </thead>\n",
       "  <tbody>\n",
       "    <tr>\n",
       "      <th>116</th>\n",
       "      <td>19376.64</td>\n",
       "      <td>204.49</td>\n",
       "      <td>655.36</td>\n",
       "    </tr>\n",
       "    <tr>\n",
       "      <th>67</th>\n",
       "      <td>19404.49</td>\n",
       "      <td>210.25</td>\n",
       "      <td>104.04</td>\n",
       "    </tr>\n",
       "    <tr>\n",
       "      <th>78</th>\n",
       "      <td>29.16</td>\n",
       "      <td>894.01</td>\n",
       "      <td>88.36</td>\n",
       "    </tr>\n",
       "    <tr>\n",
       "      <th>42</th>\n",
       "      <td>86200.96</td>\n",
       "      <td>767.29</td>\n",
       "      <td>3.24</td>\n",
       "    </tr>\n",
       "    <tr>\n",
       "      <th>17</th>\n",
       "      <td>79185.96</td>\n",
       "      <td>1568.16</td>\n",
       "      <td>3113.64</td>\n",
       "    </tr>\n",
       "    <tr>\n",
       "      <th>...</th>\n",
       "      <td>...</td>\n",
       "      <td>...</td>\n",
       "      <td>...</td>\n",
       "    </tr>\n",
       "    <tr>\n",
       "      <th>133</th>\n",
       "      <td>48312.04</td>\n",
       "      <td>1122.25</td>\n",
       "      <td>2034.01</td>\n",
       "    </tr>\n",
       "    <tr>\n",
       "      <th>137</th>\n",
       "      <td>74911.69</td>\n",
       "      <td>835.21</td>\n",
       "      <td>3564.09</td>\n",
       "    </tr>\n",
       "    <tr>\n",
       "      <th>72</th>\n",
       "      <td>718.24</td>\n",
       "      <td>1089.00</td>\n",
       "      <td>372.49</td>\n",
       "    </tr>\n",
       "    <tr>\n",
       "      <th>140</th>\n",
       "      <td>5387.56</td>\n",
       "      <td>289.00</td>\n",
       "      <td>166.41</td>\n",
       "    </tr>\n",
       "    <tr>\n",
       "      <th>37</th>\n",
       "      <td>5580.09</td>\n",
       "      <td>2440.36</td>\n",
       "      <td>2088.49</td>\n",
       "    </tr>\n",
       "  </tbody>\n",
       "</table>\n",
       "<p>140 rows × 3 columns</p>\n",
       "</div>"
      ],
      "text/plain": [
       "     TV_Cuadrado  Radio_Cuadrado  Newspaper_Cuadrado\n",
       "116     19376.64          204.49              655.36\n",
       "67      19404.49          210.25              104.04\n",
       "78         29.16          894.01               88.36\n",
       "42      86200.96          767.29                3.24\n",
       "17      79185.96         1568.16             3113.64\n",
       "..           ...             ...                 ...\n",
       "133     48312.04         1122.25             2034.01\n",
       "137     74911.69          835.21             3564.09\n",
       "72        718.24         1089.00              372.49\n",
       "140      5387.56          289.00              166.41\n",
       "37       5580.09         2440.36             2088.49\n",
       "\n",
       "[140 rows x 3 columns]"
      ]
     },
     "execution_count": 29,
     "metadata": {},
     "output_type": "execute_result"
    }
   ],
   "source": [
    "# Generar X1 con las columnas de medios de comunicación\n",
    "X1 = df_train[['TV', 'Radio', 'Newspaper']].copy()\n",
    "print(\"X1 (variables independientes):\")\n",
    "print(X1.head())\n",
    "print()\n",
    "\n",
    "# Calcular los valores al cuadrado\n",
    "X1Cuad = X1**2\n",
    "X1Cuad.columns = ['TV_Cuadrado', 'Radio_Cuadrado', 'Newspaper_Cuadrado']\n",
    "print(\"X1 al cuadrado:\")\n",
    "print(X1Cuad.head())\n",
    "\n",
    "X1Cuad"
   ]
  },
  {
   "cell_type": "code",
   "execution_count": 31,
   "id": "491c61b8",
   "metadata": {},
   "outputs": [
    {
     "data": {
      "application/vnd.microsoft.datawrangler.viewer.v0+json": {
       "columns": [
        {
         "name": "index",
         "rawType": "int64",
         "type": "integer"
        },
        {
         "name": "Residuos_Cuadrados",
         "rawType": "float64",
         "type": "float"
        },
        {
         "name": "TV",
         "rawType": "float64",
         "type": "float"
        },
        {
         "name": "Radio",
         "rawType": "float64",
         "type": "float"
        },
        {
         "name": "Newspaper",
         "rawType": "float64",
         "type": "float"
        },
        {
         "name": "TV_Cuadrado",
         "rawType": "float64",
         "type": "float"
        },
        {
         "name": "Radio_Cuadrado",
         "rawType": "float64",
         "type": "float"
        },
        {
         "name": "Newspaper_Cuadrado",
         "rawType": "float64",
         "type": "float"
        }
       ],
       "ref": "6a6a91eb-c24f-463c-a0fb-33fcdb678332",
       "rows": [
        [
         "116",
         "2.3965533908085423",
         "139.2",
         "14.3",
         "25.6",
         "19376.639999999996",
         "204.49",
         "655.3600000000001"
        ],
        [
         "67",
         "0.15784281576467488",
         "139.3",
         "14.5",
         "10.2",
         "19404.49",
         "210.25",
         "104.03999999999999"
        ],
        [
         "78",
         "7.34112955709511",
         "5.4",
         "29.9",
         "9.4",
         "29.160000000000004",
         "894.0099999999999",
         "88.36000000000001"
        ],
        [
         "42",
         "8.721844487384342",
         "293.6",
         "27.7",
         "1.8",
         "86200.96",
         "767.29",
         "3.24"
        ],
        [
         "17",
         "0.07813660370066679",
         "281.4",
         "39.6",
         "55.8",
         "79185.95999999999",
         "1568.16",
         "3113.64"
        ],
        [
         "5",
         "8.064777704848984",
         "8.7",
         "48.9",
         "75.0",
         "75.68999999999998",
         "2391.21",
         "5625.0"
        ],
        [
         "127",
         "8.06280256526923",
         "80.2",
         "0.0",
         "9.2",
         "6432.040000000001",
         "0.0",
         "84.63999999999999"
        ],
        [
         "105",
         "3.6740609281507304",
         "137.9",
         "46.4",
         "59.0",
         "19016.41",
         "2152.96",
         "3481.0"
        ],
        [
         "48",
         "1.1939327823220718",
         "227.2",
         "15.8",
         "49.9",
         "51619.84",
         "249.64000000000001",
         "2490.0099999999998"
        ],
        [
         "66",
         "4.355050776659918",
         "31.5",
         "24.6",
         "2.2",
         "992.25",
         "605.1600000000001",
         "4.840000000000001"
        ],
        [
         "54",
         "3.4023598904520087",
         "262.7",
         "28.8",
         "15.9",
         "69011.29",
         "829.44",
         "252.81"
        ],
        [
         "84",
         "0.8722866156474163",
         "213.5",
         "43.0",
         "33.8",
         "45582.25",
         "1849.0",
         "1142.4399999999998"
        ],
        [
         "183",
         "1.999284457143282",
         "287.6",
         "43.0",
         "71.8",
         "82713.76000000001",
         "1849.0",
         "5155.24"
        ],
        [
         "158",
         "2.9574313514653188",
         "11.7",
         "36.9",
         "45.2",
         "136.89",
         "1361.61",
         "2043.0400000000002"
        ],
        [
         "166",
         "2.1555859471873706",
         "17.9",
         "37.6",
         "21.6",
         "320.40999999999997",
         "1413.7600000000002",
         "466.56000000000006"
        ],
        [
         "113",
         "6.811925687132669",
         "209.6",
         "20.6",
         "10.7",
         "43932.159999999996",
         "424.36000000000007",
         "114.48999999999998"
        ],
        [
         "12",
         "0.07278808414114084",
         "23.8",
         "35.1",
         "65.9",
         "566.44",
         "1232.01",
         "4342.81"
        ],
        [
         "117",
         "0.22565360197619538",
         "76.4",
         "0.8",
         "14.8",
         "5836.960000000001",
         "0.6400000000000001",
         "219.04000000000002"
        ],
        [
         "93",
         "0.010081578446540613",
         "250.9",
         "36.5",
         "72.3",
         "62950.810000000005",
         "1332.25",
         "5227.29"
        ],
        [
         "120",
         "0.1490270778866763",
         "141.3",
         "26.8",
         "46.2",
         "19965.690000000002",
         "718.24",
         "2134.44"
        ],
        [
         "154",
         "11.94687013031481",
         "187.8",
         "21.1",
         "9.5",
         "35268.840000000004",
         "445.21000000000004",
         "90.25"
        ],
        [
         "90",
         "2.1332503628662995",
         "134.3",
         "4.9",
         "9.3",
         "18036.49",
         "24.010000000000005",
         "86.49000000000001"
        ],
        [
         "81",
         "0.8479722798548248",
         "239.8",
         "4.1",
         "36.9",
         "57504.04000000001",
         "16.81",
         "1361.61"
        ],
        [
         "122",
         "0.3712592867439808",
         "224.0",
         "2.4",
         "15.6",
         "50176.0",
         "5.76",
         "243.35999999999999"
        ],
        [
         "191",
         "3.9449460921274153",
         "75.5",
         "10.8",
         "6.0",
         "5700.25",
         "116.64000000000001",
         "36.0"
        ],
        [
         "13",
         "8.44194919288977",
         "97.5",
         "7.6",
         "7.2",
         "9506.25",
         "57.76",
         "51.84"
        ],
        [
         "82",
         "0.21463452330244226",
         "75.3",
         "20.3",
         "32.5",
         "5670.089999999999",
         "412.09000000000003",
         "1056.25"
        ],
        [
         "132",
         "4.878569676489423",
         "8.4",
         "27.2",
         "2.1",
         "70.56",
         "739.8399999999999",
         "4.41"
        ],
        [
         "187",
         "0.6258690274446436",
         "191.1",
         "28.7",
         "18.2",
         "36519.21",
         "823.6899999999999",
         "331.23999999999995"
        ],
        [
         "45",
         "0.2071428571535379",
         "175.1",
         "22.5",
         "31.5",
         "30660.01",
         "506.25",
         "992.25"
        ],
        [
         "99",
         "0.7989403252625323",
         "135.2",
         "41.7",
         "45.9",
         "18279.039999999997",
         "1738.8900000000003",
         "2106.81"
        ],
        [
         "36",
         "2.4657572877857885",
         "266.9",
         "43.8",
         "5.0",
         "71235.60999999999",
         "1918.4399999999998",
         "25.0"
        ],
        [
         "161",
         "0.10722472093712061",
         "85.7",
         "35.8",
         "49.3",
         "7344.490000000001",
         "1281.6399999999999",
         "2430.49"
        ],
        [
         "186",
         "4.894971691197203",
         "139.5",
         "2.1",
         "26.6",
         "19460.25",
         "4.41",
         "707.5600000000001"
        ],
        [
         "153",
         "4.409441497191018",
         "171.3",
         "39.7",
         "37.7",
         "29343.690000000002",
         "1576.0900000000001",
         "1421.2900000000002"
        ],
        [
         "103",
         "8.78156691225177",
         "187.9",
         "17.2",
         "17.9",
         "35306.41",
         "295.84",
         "320.40999999999997"
        ],
        [
         "195",
         "0.2286346693826465",
         "38.2",
         "3.7",
         "13.8",
         "1459.2400000000002",
         "13.690000000000001",
         "190.44000000000003"
        ],
        [
         "197",
         "0.2963397042862067",
         "177.0",
         "9.3",
         "6.4",
         "31329.0",
         "86.49000000000001",
         "40.96000000000001"
        ],
        [
         "148",
         "0.001185553958800611",
         "38.0",
         "40.3",
         "11.9",
         "1444.0",
         "1624.0899999999997",
         "141.61"
        ],
        [
         "173",
         "4.2601054941176475",
         "168.4",
         "7.1",
         "12.8",
         "28358.56",
         "50.41",
         "163.84000000000003"
        ],
        [
         "75",
         "1.52843001128477",
         "16.9",
         "43.7",
         "89.4",
         "285.60999999999996",
         "1909.6900000000003",
         "7992.360000000001"
        ],
        [
         "21",
         "0.5062350091110414",
         "237.4",
         "5.1",
         "23.5",
         "56358.76",
         "26.009999999999998",
         "552.25"
        ],
        [
         "91",
         "0.923224398880872",
         "28.6",
         "1.5",
         "33.0",
         "817.96",
         "2.25",
         "1089.0"
        ],
        [
         "152",
         "1.6932478818244585",
         "197.6",
         "23.3",
         "14.2",
         "39045.759999999995",
         "542.89",
         "201.64"
        ],
        [
         "2",
         "3.209046082420273",
         "17.2",
         "45.9",
         "69.3",
         "295.84",
         "2106.81",
         "4802.49"
        ],
        [
         "70",
         "0.15617006148822",
         "199.1",
         "30.6",
         "38.7",
         "39640.81",
         "936.3600000000001",
         "1497.6900000000003"
        ],
        [
         "85",
         "9.739216045901115",
         "193.2",
         "18.4",
         "65.7",
         "37326.24",
         "338.55999999999995",
         "4316.490000000001"
        ],
        [
         "150",
         "28.899009426991256",
         "280.7",
         "13.9",
         "37.0",
         "78792.48999999999",
         "193.21",
         "1369.0"
        ],
        [
         "6",
         "0.41960999329399196",
         "57.5",
         "32.8",
         "23.5",
         "3306.25",
         "1075.84",
         "552.25"
        ],
        [
         "112",
         "1.4299868642868194",
         "175.7",
         "15.4",
         "2.4",
         "30870.489999999994",
         "237.16000000000003",
         "5.76"
        ]
       ],
       "shape": {
        "columns": 7,
        "rows": 140
       }
      },
      "text/html": [
       "<div>\n",
       "<style scoped>\n",
       "    .dataframe tbody tr th:only-of-type {\n",
       "        vertical-align: middle;\n",
       "    }\n",
       "\n",
       "    .dataframe tbody tr th {\n",
       "        vertical-align: top;\n",
       "    }\n",
       "\n",
       "    .dataframe thead th {\n",
       "        text-align: right;\n",
       "    }\n",
       "</style>\n",
       "<table border=\"1\" class=\"dataframe\">\n",
       "  <thead>\n",
       "    <tr style=\"text-align: right;\">\n",
       "      <th></th>\n",
       "      <th>Residuos_Cuadrados</th>\n",
       "      <th>TV</th>\n",
       "      <th>Radio</th>\n",
       "      <th>Newspaper</th>\n",
       "      <th>TV_Cuadrado</th>\n",
       "      <th>Radio_Cuadrado</th>\n",
       "      <th>Newspaper_Cuadrado</th>\n",
       "    </tr>\n",
       "  </thead>\n",
       "  <tbody>\n",
       "    <tr>\n",
       "      <th>116</th>\n",
       "      <td>2.396553</td>\n",
       "      <td>139.2</td>\n",
       "      <td>14.3</td>\n",
       "      <td>25.6</td>\n",
       "      <td>19376.64</td>\n",
       "      <td>204.49</td>\n",
       "      <td>655.36</td>\n",
       "    </tr>\n",
       "    <tr>\n",
       "      <th>67</th>\n",
       "      <td>0.157843</td>\n",
       "      <td>139.3</td>\n",
       "      <td>14.5</td>\n",
       "      <td>10.2</td>\n",
       "      <td>19404.49</td>\n",
       "      <td>210.25</td>\n",
       "      <td>104.04</td>\n",
       "    </tr>\n",
       "    <tr>\n",
       "      <th>78</th>\n",
       "      <td>7.341130</td>\n",
       "      <td>5.4</td>\n",
       "      <td>29.9</td>\n",
       "      <td>9.4</td>\n",
       "      <td>29.16</td>\n",
       "      <td>894.01</td>\n",
       "      <td>88.36</td>\n",
       "    </tr>\n",
       "    <tr>\n",
       "      <th>42</th>\n",
       "      <td>8.721844</td>\n",
       "      <td>293.6</td>\n",
       "      <td>27.7</td>\n",
       "      <td>1.8</td>\n",
       "      <td>86200.96</td>\n",
       "      <td>767.29</td>\n",
       "      <td>3.24</td>\n",
       "    </tr>\n",
       "    <tr>\n",
       "      <th>17</th>\n",
       "      <td>0.078137</td>\n",
       "      <td>281.4</td>\n",
       "      <td>39.6</td>\n",
       "      <td>55.8</td>\n",
       "      <td>79185.96</td>\n",
       "      <td>1568.16</td>\n",
       "      <td>3113.64</td>\n",
       "    </tr>\n",
       "    <tr>\n",
       "      <th>...</th>\n",
       "      <td>...</td>\n",
       "      <td>...</td>\n",
       "      <td>...</td>\n",
       "      <td>...</td>\n",
       "      <td>...</td>\n",
       "      <td>...</td>\n",
       "      <td>...</td>\n",
       "    </tr>\n",
       "    <tr>\n",
       "      <th>133</th>\n",
       "      <td>0.272288</td>\n",
       "      <td>219.8</td>\n",
       "      <td>33.5</td>\n",
       "      <td>45.1</td>\n",
       "      <td>48312.04</td>\n",
       "      <td>1122.25</td>\n",
       "      <td>2034.01</td>\n",
       "    </tr>\n",
       "    <tr>\n",
       "      <th>137</th>\n",
       "      <td>3.218621</td>\n",
       "      <td>273.7</td>\n",
       "      <td>28.9</td>\n",
       "      <td>59.7</td>\n",
       "      <td>74911.69</td>\n",
       "      <td>835.21</td>\n",
       "      <td>3564.09</td>\n",
       "    </tr>\n",
       "    <tr>\n",
       "      <th>72</th>\n",
       "      <td>0.475858</td>\n",
       "      <td>26.8</td>\n",
       "      <td>33.0</td>\n",
       "      <td>19.3</td>\n",
       "      <td>718.24</td>\n",
       "      <td>1089.00</td>\n",
       "      <td>372.49</td>\n",
       "    </tr>\n",
       "    <tr>\n",
       "      <th>140</th>\n",
       "      <td>0.227125</td>\n",
       "      <td>73.4</td>\n",
       "      <td>17.0</td>\n",
       "      <td>12.9</td>\n",
       "      <td>5387.56</td>\n",
       "      <td>289.00</td>\n",
       "      <td>166.41</td>\n",
       "    </tr>\n",
       "    <tr>\n",
       "      <th>37</th>\n",
       "      <td>0.870775</td>\n",
       "      <td>74.7</td>\n",
       "      <td>49.4</td>\n",
       "      <td>45.7</td>\n",
       "      <td>5580.09</td>\n",
       "      <td>2440.36</td>\n",
       "      <td>2088.49</td>\n",
       "    </tr>\n",
       "  </tbody>\n",
       "</table>\n",
       "<p>140 rows × 7 columns</p>\n",
       "</div>"
      ],
      "text/plain": [
       "     Residuos_Cuadrados     TV  Radio  Newspaper  TV_Cuadrado  Radio_Cuadrado  \\\n",
       "116            2.396553  139.2   14.3       25.6     19376.64          204.49   \n",
       "67             0.157843  139.3   14.5       10.2     19404.49          210.25   \n",
       "78             7.341130    5.4   29.9        9.4        29.16          894.01   \n",
       "42             8.721844  293.6   27.7        1.8     86200.96          767.29   \n",
       "17             0.078137  281.4   39.6       55.8     79185.96         1568.16   \n",
       "..                  ...    ...    ...        ...          ...             ...   \n",
       "133            0.272288  219.8   33.5       45.1     48312.04         1122.25   \n",
       "137            3.218621  273.7   28.9       59.7     74911.69          835.21   \n",
       "72             0.475858   26.8   33.0       19.3       718.24         1089.00   \n",
       "140            0.227125   73.4   17.0       12.9      5387.56          289.00   \n",
       "37             0.870775   74.7   49.4       45.7      5580.09         2440.36   \n",
       "\n",
       "     Newspaper_Cuadrado  \n",
       "116              655.36  \n",
       "67               104.04  \n",
       "78                88.36  \n",
       "42                 3.24  \n",
       "17              3113.64  \n",
       "..                  ...  \n",
       "133             2034.01  \n",
       "137             3564.09  \n",
       "72               372.49  \n",
       "140              166.41  \n",
       "37              2088.49  \n",
       "\n",
       "[140 rows x 7 columns]"
      ]
     },
     "execution_count": 31,
     "metadata": {},
     "output_type": "execute_result"
    }
   ],
   "source": [
    "df_aux =pd.concat([Resicuad_df, X1, X1Cuad], axis=1)\n",
    "df_aux.columns = ['Residuos_Cuadrados', 'TV', 'Radio', 'Newspaper', 'TV_Cuadrado', 'Radio_Cuadrado', 'Newspaper_Cuadrado']\n",
    "df_aux"
   ]
  },
  {
   "cell_type": "code",
   "execution_count": 32,
   "id": "9750150f",
   "metadata": {},
   "outputs": [
    {
     "data": {
      "text/plain": [
       "np.float64(0.09260540518458005)"
      ]
     },
     "execution_count": 32,
     "metadata": {},
     "output_type": "execute_result"
    }
   ],
   "source": [
    "model_aux = ols('Residuos_Cuadrados ~ TV + Radio + Newspaper + TV_Cuadrado + Radio_Cuadrado + Newspaper_Cuadrado', data=df_aux).fit()\n",
    "RsgAux = model_aux.rsquared\n",
    "RsgAux"
   ]
  },
  {
   "cell_type": "code",
   "execution_count": 41,
   "id": "39edfe4f",
   "metadata": {},
   "outputs": [
    {
     "name": "stdout",
     "output_type": "stream",
     "text": [
      "Estadístico de White: 12.9648\n",
      "R² auxiliar: 0.0926\n"
     ]
    }
   ],
   "source": [
    "Estadistico = len(Y_train) * RsgAux\n",
    "print(f\"Estadístico de White: {Estadistico:.4f}\")\n",
    "print(f\"R² auxiliar: {RsgAux:.4f}\")"
   ]
  },
  {
   "cell_type": "code",
   "execution_count": 42,
   "id": "f281bc54",
   "metadata": {},
   "outputs": [
    {
     "name": "stdout",
     "output_type": "stream",
     "text": [
      "Valor crítico χ² (α=0.10, df=6): 10.6446\n",
      "\n",
      "Estadístico calculado: 12.9648\n",
      "Valor crítico: 10.6446\n"
     ]
    }
   ],
   "source": [
    "df_white = 6\n",
    "\n",
    "Nivel_confianza = 0.90\n",
    "valor_critico = scipy.stats.chi2.ppf(Nivel_confianza, df=df_white)\n",
    "print(f\"Valor crítico χ² (α=0.10, df={df_white}): {valor_critico:.4f}\")\n",
    "print()\n",
    "print(f\"Estadístico calculado: {Estadistico:.4f}\")\n",
    "print(f\"Valor crítico: {valor_critico:.4f}\")"
   ]
  },
  {
   "cell_type": "code",
   "execution_count": 18,
   "id": "2c8060fb",
   "metadata": {},
   "outputs": [
    {
     "name": "stdout",
     "output_type": "stream",
     "text": [
      "Sesgo: -0.53\n",
      "Curtosis: 1.82\n",
      "Durbin-Watson: 2.04\n",
      "White Test p-value: 0.0332\n"
     ]
    }
   ],
   "source": [
    "import scipy.stats as stats\n",
    "import statsmodels.stats.diagnostic as sms\n",
    "\n",
    "residuos = modelo.resid\n",
    "X_sm = modelo.model.exog\n",
    "\n",
    "# Sesgo y curtosis\n",
    "sesgo = stats.skew(residuos)\n",
    "curtosis = stats.kurtosis(residuos)\n",
    "print(f\"Sesgo: {sesgo:.2f}\")\n",
    "print(f\"Curtosis: {curtosis:.2f}\")\n",
    "\n",
    "# Durbin-Watson\n",
    "from statsmodels.stats.stattools import durbin_watson\n",
    "dw = durbin_watson(residuos)\n",
    "print(f\"Durbin-Watson: {dw:.2f}\")\n",
    "\n",
    "# Heterocedasticidad de White\n",
    "white_test = sms.het_white(residuos, X_sm)\n",
    "print(f\"White Test p-value: {white_test[1]:.4f}\")"
   ]
  },
  {
   "cell_type": "code",
   "execution_count": 19,
   "id": "1afb556f",
   "metadata": {},
   "outputs": [
    {
     "data": {
      "image/png": "[encoded data removed]",
      "text/plain": [
       "<Figure size 640x480 with 1 Axes>"
      ]
     },
     "metadata": {},
     "output_type": "display_data"
    }
   ],
   "source": [
    "import matplotlib.pyplot as plt\n",
    "import seaborn as sns\n",
    "\n",
    "# Histograma + KDE (curva de densidad)\n",
    "sns.histplot(residuos, kde=True, bins=30, color='steelblue')\n",
    "plt.title(f'Distribución de los residuos | Curtosis = {curtosis:.2f}')\n",
    "plt.xlabel('Residuo')\n",
    "plt.ylabel('Frecuencia')\n",
    "plt.grid(True)\n",
    "plt.tight_layout()\n",
    "plt.show()"
   ]
  }
 ],
 "metadata": {
  "kernelspec": {
   "display_name": "Benmaza",
   "language": "python",
   "name": "python3"
  },
  "language_info": {
   "codemirror_mode": {
    "name": "ipython",
    "version": 3
   },
   "file_extension": ".py",
   "mimetype": "text/x-python",
   "name": "python",
   "nbconvert_exporter": "python",
   "pygments_lexer": "ipython3",
   "version": "3.13.0"
  }
 },
 "nbformat": 4,
 "nbformat_minor": 5
}
