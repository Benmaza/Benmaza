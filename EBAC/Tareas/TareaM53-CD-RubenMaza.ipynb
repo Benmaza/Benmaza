{
 "cells": [
  {
   "cell_type": "code",
   "execution_count": 4,
   "id": "6473c916",
   "metadata": {},
   "outputs": [],
   "source": [
    "import pandas as pd\n",
    "import numpy as np\n",
    "import warnings\n",
    "warnings.filterwarnings(\"ignore\")"
   ]
  },
  {
   "cell_type": "code",
   "execution_count": 5,
   "id": "d7df4afa",
   "metadata": {},
   "outputs": [
    {
     "data": {
      "application/vnd.microsoft.datawrangler.viewer.v0+json": {
       "columns": [
        {
         "name": "index",
         "rawType": "int64",
         "type": "integer"
        },
        {
         "name": "TV",
         "rawType": "float64",
         "type": "float"
        },
        {
         "name": "Radio",
         "rawType": "float64",
         "type": "float"
        },
        {
         "name": "Newspaper",
         "rawType": "float64",
         "type": "float"
        },
        {
         "name": "Sales",
         "rawType": "float64",
         "type": "float"
        }
       ],
       "ref": "0eb2cc06-72aa-4cb1-8ab0-fe0cbeff4f93",
       "rows": [
        [
         "0",
         "230.1",
         "37.8",
         "69.2",
         "22.1"
        ],
        [
         "1",
         "44.5",
         "39.3",
         "45.1",
         "10.4"
        ],
        [
         "2",
         "17.2",
         "45.9",
         "69.3",
         "12.0"
        ],
        [
         "3",
         "151.5",
         "41.3",
         "58.5",
         "16.5"
        ],
        [
         "4",
         "180.8",
         "10.8",
         "58.4",
         "17.9"
        ],
        [
         "5",
         "8.7",
         "48.9",
         "75.0",
         "7.2"
        ],
        [
         "6",
         "57.5",
         "32.8",
         "23.5",
         "11.8"
        ],
        [
         "7",
         "120.2",
         "19.6",
         "11.6",
         "13.2"
        ],
        [
         "8",
         "8.6",
         "2.1",
         "1.0",
         "4.8"
        ],
        [
         "9",
         "199.8",
         "2.6",
         "21.2",
         "15.6"
        ],
        [
         "10",
         "66.1",
         "5.8",
         "24.2",
         "12.6"
        ],
        [
         "11",
         "214.7",
         "24.0",
         "4.0",
         "17.4"
        ],
        [
         "12",
         "23.8",
         "35.1",
         "65.9",
         "9.2"
        ],
        [
         "13",
         "97.5",
         "7.6",
         "7.2",
         "13.7"
        ],
        [
         "14",
         "204.1",
         "32.9",
         "46.0",
         "19.0"
        ],
        [
         "15",
         "195.4",
         "47.7",
         "52.9",
         "22.4"
        ],
        [
         "16",
         "67.8",
         "36.6",
         "114.0",
         "12.5"
        ],
        [
         "17",
         "281.4",
         "39.6",
         "55.8",
         "24.4"
        ],
        [
         "18",
         "69.2",
         "20.5",
         "18.3",
         "11.3"
        ],
        [
         "19",
         "147.3",
         "23.9",
         "19.1",
         "14.6"
        ],
        [
         "20",
         "218.4",
         "27.7",
         "53.4",
         "18.0"
        ],
        [
         "21",
         "237.4",
         "5.1",
         "23.5",
         "17.5"
        ],
        [
         "22",
         "13.2",
         "15.9",
         "49.6",
         "5.6"
        ],
        [
         "23",
         "228.3",
         "16.9",
         "26.2",
         "20.5"
        ],
        [
         "24",
         "62.3",
         "12.6",
         "18.3",
         "9.7"
        ],
        [
         "25",
         "262.9",
         "3.5",
         "19.5",
         "17.0"
        ],
        [
         "26",
         "142.9",
         "29.3",
         "12.6",
         "15.0"
        ],
        [
         "27",
         "240.1",
         "16.7",
         "22.9",
         "20.9"
        ],
        [
         "28",
         "248.8",
         "27.1",
         "22.9",
         "18.9"
        ],
        [
         "29",
         "70.6",
         "16.0",
         "40.8",
         "10.5"
        ],
        [
         "30",
         "292.9",
         "28.3",
         "43.2",
         "21.4"
        ],
        [
         "31",
         "112.9",
         "17.4",
         "38.6",
         "11.9"
        ],
        [
         "32",
         "97.2",
         "1.5",
         "30.0",
         "13.2"
        ],
        [
         "33",
         "265.6",
         "20.0",
         "0.3",
         "17.4"
        ],
        [
         "34",
         "95.7",
         "1.4",
         "7.4",
         "11.9"
        ],
        [
         "35",
         "290.7",
         "4.1",
         "8.5",
         "17.8"
        ],
        [
         "36",
         "266.9",
         "43.8",
         "5.0",
         "25.4"
        ],
        [
         "37",
         "74.7",
         "49.4",
         "45.7",
         "14.7"
        ],
        [
         "38",
         "43.1",
         "26.7",
         "35.1",
         "10.1"
        ],
        [
         "39",
         "228.0",
         "37.7",
         "32.0",
         "21.5"
        ],
        [
         "40",
         "202.5",
         "22.3",
         "31.6",
         "16.6"
        ],
        [
         "41",
         "177.0",
         "33.4",
         "38.7",
         "17.1"
        ],
        [
         "42",
         "293.6",
         "27.7",
         "1.8",
         "20.7"
        ],
        [
         "43",
         "206.9",
         "8.4",
         "26.4",
         "17.9"
        ],
        [
         "44",
         "25.1",
         "25.7",
         "43.3",
         "8.5"
        ],
        [
         "45",
         "175.1",
         "22.5",
         "31.5",
         "16.1"
        ],
        [
         "46",
         "89.7",
         "9.9",
         "35.7",
         "10.6"
        ],
        [
         "47",
         "239.9",
         "41.5",
         "18.5",
         "23.2"
        ],
        [
         "48",
         "227.2",
         "15.8",
         "49.9",
         "19.8"
        ],
        [
         "49",
         "66.9",
         "11.7",
         "36.8",
         "9.7"
        ]
       ],
       "shape": {
        "columns": 4,
        "rows": 200
       }
      },
      "text/html": [
       "<div>\n",
       "<style scoped>\n",
       "    .dataframe tbody tr th:only-of-type {\n",
       "        vertical-align: middle;\n",
       "    }\n",
       "\n",
       "    .dataframe tbody tr th {\n",
       "        vertical-align: top;\n",
       "    }\n",
       "\n",
       "    .dataframe thead th {\n",
       "        text-align: right;\n",
       "    }\n",
       "</style>\n",
       "<table border=\"1\" class=\"dataframe\">\n",
       "  <thead>\n",
       "    <tr style=\"text-align: right;\">\n",
       "      <th></th>\n",
       "      <th>TV</th>\n",
       "      <th>Radio</th>\n",
       "      <th>Newspaper</th>\n",
       "      <th>Sales</th>\n",
       "    </tr>\n",
       "  </thead>\n",
       "  <tbody>\n",
       "    <tr>\n",
       "      <th>0</th>\n",
       "      <td>230.1</td>\n",
       "      <td>37.8</td>\n",
       "      <td>69.2</td>\n",
       "      <td>22.1</td>\n",
       "    </tr>\n",
       "    <tr>\n",
       "      <th>1</th>\n",
       "      <td>44.5</td>\n",
       "      <td>39.3</td>\n",
       "      <td>45.1</td>\n",
       "      <td>10.4</td>\n",
       "    </tr>\n",
       "    <tr>\n",
       "      <th>2</th>\n",
       "      <td>17.2</td>\n",
       "      <td>45.9</td>\n",
       "      <td>69.3</td>\n",
       "      <td>12.0</td>\n",
       "    </tr>\n",
       "    <tr>\n",
       "      <th>3</th>\n",
       "      <td>151.5</td>\n",
       "      <td>41.3</td>\n",
       "      <td>58.5</td>\n",
       "      <td>16.5</td>\n",
       "    </tr>\n",
       "    <tr>\n",
       "      <th>4</th>\n",
       "      <td>180.8</td>\n",
       "      <td>10.8</td>\n",
       "      <td>58.4</td>\n",
       "      <td>17.9</td>\n",
       "    </tr>\n",
       "    <tr>\n",
       "      <th>...</th>\n",
       "      <td>...</td>\n",
       "      <td>...</td>\n",
       "      <td>...</td>\n",
       "      <td>...</td>\n",
       "    </tr>\n",
       "    <tr>\n",
       "      <th>195</th>\n",
       "      <td>38.2</td>\n",
       "      <td>3.7</td>\n",
       "      <td>13.8</td>\n",
       "      <td>7.6</td>\n",
       "    </tr>\n",
       "    <tr>\n",
       "      <th>196</th>\n",
       "      <td>94.2</td>\n",
       "      <td>4.9</td>\n",
       "      <td>8.1</td>\n",
       "      <td>14.0</td>\n",
       "    </tr>\n",
       "    <tr>\n",
       "      <th>197</th>\n",
       "      <td>177.0</td>\n",
       "      <td>9.3</td>\n",
       "      <td>6.4</td>\n",
       "      <td>14.8</td>\n",
       "    </tr>\n",
       "    <tr>\n",
       "      <th>198</th>\n",
       "      <td>283.6</td>\n",
       "      <td>42.0</td>\n",
       "      <td>66.2</td>\n",
       "      <td>25.5</td>\n",
       "    </tr>\n",
       "    <tr>\n",
       "      <th>199</th>\n",
       "      <td>232.1</td>\n",
       "      <td>8.6</td>\n",
       "      <td>8.7</td>\n",
       "      <td>18.4</td>\n",
       "    </tr>\n",
       "  </tbody>\n",
       "</table>\n",
       "<p>200 rows × 4 columns</p>\n",
       "</div>"
      ],
      "text/plain": [
       "        TV  Radio  Newspaper  Sales\n",
       "0    230.1   37.8       69.2   22.1\n",
       "1     44.5   39.3       45.1   10.4\n",
       "2     17.2   45.9       69.3   12.0\n",
       "3    151.5   41.3       58.5   16.5\n",
       "4    180.8   10.8       58.4   17.9\n",
       "..     ...    ...        ...    ...\n",
       "195   38.2    3.7       13.8    7.6\n",
       "196   94.2    4.9        8.1   14.0\n",
       "197  177.0    9.3        6.4   14.8\n",
       "198  283.6   42.0       66.2   25.5\n",
       "199  232.1    8.6        8.7   18.4\n",
       "\n",
       "[200 rows x 4 columns]"
      ]
     },
     "execution_count": 5,
     "metadata": {},
     "output_type": "execute_result"
    }
   ],
   "source": [
    "data = pd.read_csv('advertising.csv')\n",
    "data"
   ]
  },
  {
   "cell_type": "code",
   "execution_count": 7,
   "id": "4029d491",
   "metadata": {},
   "outputs": [],
   "source": [
    "# separando las variables independientes y dependientes\n",
    "X = data[['TV', 'Radio', 'Newspaper']]\n",
    "Y = data['Sales']\n",
    "\n",
    "# normalizando los datos\n",
    "\n",
    "from sklearn.preprocessing import StandardScaler\n",
    "scalerX = StandardScaler()\n",
    "X = scalerX.fit_transform(X)\n",
    "scalerY = StandardScaler()\n",
    "Y = scalerY.fit_transform(Y.values.reshape(-1, 1))"
   ]
  },
  {
   "cell_type": "code",
   "execution_count": null,
   "id": "445ab55a",
   "metadata": {},
   "outputs": [],
   "source": [
    "# separando los datos en entrenamiento y prueba tomando el 70% para entrenamiento y 30% para prueba,\n",
    "# y usando una semilla para asegurar la reproducibilidad del resultado.\n",
    "\n",
    "from sklearn.model_selection import train_test_split\n",
    "X_train, X_test, Y_train, Y_test = train_test_split(X, Y, test_size=0.3, random_state=1)"
   ]
  },
  {
   "cell_type": "code",
   "execution_count": 9,
   "id": "35008fd6",
   "metadata": {},
   "outputs": [],
   "source": [
    "# entrenando el modelo de regresión lineal\n",
    "from sklearn.linear_model import LinearRegression\n",
    "model = LinearRegression()\n",
    "model.fit(X_train, Y_train)\n",
    "Y_pred = model.predict(X_test)"
   ]
  },
  {
   "cell_type": "code",
   "execution_count": 12,
   "id": "04526f95",
   "metadata": {},
   "outputs": [
    {
     "name": "stdout",
     "output_type": "stream",
     "text": [
      "Error Cuadratico Medio: 0.08533717852895008\n",
      "R^2 Score: 0.9071151423684273\n"
     ]
    }
   ],
   "source": [
    "from sklearn.metrics import mean_squared_error, r2_score\n",
    "mse = mean_squared_error(Y_test, Y_pred)\n",
    "r2 = r2_score(Y_test, Y_pred)\n",
    "\n",
    "print(f\"Error Cuadratico Medio: {mse}\")\n",
    "print(f\"R^2 Score: {r2}\")"
   ]
  },
  {
   "cell_type": "code",
   "execution_count": 13,
   "id": "1e225b6e",
   "metadata": {},
   "outputs": [],
   "source": [
    "import statsmodels.api as sm\n",
    "# Agregar constante para el intercepto\n",
    "X_train_sm = sm.add_constant(X_train)\n",
    "# Ajustar el modelo\n",
    "model_sm = sm.OLS(Y_train, X_train_sm).fit()"
   ]
  },
  {
   "cell_type": "code",
   "execution_count": null,
   "id": "545ffbd9",
   "metadata": {},
   "outputs": [],
   "source": []
  }
 ],
 "metadata": {
  "kernelspec": {
   "display_name": "Benmaza",
   "language": "python",
   "name": "python3"
  },
  "language_info": {
   "codemirror_mode": {
    "name": "ipython",
    "version": 3
   },
   "file_extension": ".py",
   "mimetype": "text/x-python",
   "name": "python",
   "nbconvert_exporter": "python",
   "pygments_lexer": "ipython3",
   "version": "3.13.5"
  }
 },
 "nbformat": 4,
 "nbformat_minor": 5
}
