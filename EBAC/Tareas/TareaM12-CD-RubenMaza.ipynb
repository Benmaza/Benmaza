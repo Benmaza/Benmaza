{
 "cells": [
  {
   "cell_type": "code",
   "execution_count": 1,
   "metadata": {},
   "outputs": [
    {
     "name": "stdout",
     "output_type": "stream",
     "text": [
      "La media de la altura de los hombres es: 173.09 Cm\n",
      "La media de la altura de las mujeres es: 160.94 Cm\n",
      "\n",
      "La altura mínima de los hombres es: 160.13 Cm\n",
      "La altura mínima de las mujeres es: 150.91 Cm\n",
      "\n",
      "La altura máxima de los hombres es: 183.78 Cm\n",
      "La altura máxima de las mujeres es: 170.36 Cm\n"
     ]
    }
   ],
   "source": [
    "import csv\n",
    "from statistics import mean\n",
    "\n",
    "# Leer el archivo CSV y extraer los datos de las columnas 'Male Height in Cm' y 'Female Height in Cm'\n",
    "with open('Height of Male and Female by Country 2022.csv', 'r') as f:\n",
    "    reader = csv.DictReader(f)\n",
    "    altura_hombres = []\n",
    "    altura_mujeres = []\n",
    "    for row in reader:\n",
    "        altura_hombres.append(float(row['Male Height in Cm']))\n",
    "        altura_mujeres.append(float(row['Female Height in Cm']))\n",
    "\n",
    "# Calcular la media, minima y maxima de la altura de los hombres y las mujeres\n",
    "mean_altura_hombres = mean(altura_hombres)\n",
    "mean_altura_mujeres = mean(altura_mujeres)\n",
    "minimum_altura_hombres = min(altura_hombres)\n",
    "minimum_altura_mujeres = min(altura_mujeres)\n",
    "maximum_altura_hombres = max(altura_hombres)\n",
    "maximum_altura_mujeres = max(altura_mujeres)\n",
    "\n",
    "print(\"La media de la altura de los hombres es:\", round(mean_altura_hombres, 2),\"Cm\")\n",
    "print(\"La media de la altura de las mujeres es:\", round(mean_altura_mujeres, 2),\"Cm\")\n",
    "print(\"\\nLa altura mínima de los hombres es:\", round(minimum_altura_hombres, 2), \"Cm\")\n",
    "print(\"La altura mínima de las mujeres es:\", round(minimum_altura_mujeres, 2), \"Cm\")\n",
    "print(\"\\nLa altura máxima de los hombres es:\", round(maximum_altura_hombres, 2), \"Cm\")\n",
    "print(\"La altura máxima de las mujeres es:\", round(maximum_altura_mujeres, 2), \"Cm\")"
   ]
  },
  {
   "cell_type": "code",
   "execution_count": 14,
   "metadata": {},
   "outputs": [
    {
     "name": "stdout",
     "output_type": "stream",
     "text": [
      "El país con la altura mínima de los hombres es: Timor-Leste con una altura de 160.13 Cm\n",
      "El país con la altura máxima de los hombres es: Netherlands con una altura de 183.78 Cm\n",
      "\n",
      "El país con la altura mínima de las mujeres es: Guatemala con una altura de 150.91 Cm\n",
      "El país con la altura máxima de las mujeres es: Netherlands con una altura de 170.36 Cm\n"
     ]
    }
   ],
   "source": [
    "# localizar el pais con la altura media mas alta de los hombres y las mujeres\n",
    "\n",
    "# Leer el archivo CSV y extraer los datos de las columnas 'Male Height in Cm', 'Female Height in Cm' y 'Country'\n",
    "with open('Height of Male and Female by Country 2022.csv', 'r') as f:\n",
    "    reader = csv.DictReader(f)\n",
    "    data = [(row['Country Name'], float(row['Male Height in Cm']), float(row['Female Height in Cm'])) for row in reader]\n",
    "\n",
    "# Encontrar el país con la altura mínima y máxima para hombres y mujeres\n",
    "# x[1] es la altura de los hombres,  y x[0] es el nombre del país\n",
    "country_min_height_male = min(data, key=lambda x: x[1])[0] \n",
    "country_max_height_male = max(data, key=lambda x: x[1])[0]\n",
    "country_min_height_female = min(data, key=lambda x: x[2])[0] \n",
    "country_max_height_female = max(data, key=lambda x: x[2])[0]\n",
    "\n",
    "#imprimir los resultados\n",
    "\n",
    "print(\"El país con la altura mínima de los hombres es:\", country_min_height_male, \"con una altura de\", minimum_altura_hombres, \"Cm\")\n",
    "print(\"El país con la altura máxima de los hombres es:\", country_max_height_male, \"con una altura de\", maximum_altura_hombres, \"Cm\")\n",
    "print(\"\\nEl país con la altura mínima de las mujeres es:\", country_min_height_female, \"con una altura de\", minimum_altura_mujeres, \"Cm\")\n",
    "print(\"El país con la altura máxima de las mujeres es:\", country_max_height_female, \"con una altura de\", maximum_altura_mujeres, \"Cm\")"
   ]
  }
 ],
 "metadata": {
  "kernelspec": {
   "display_name": "Python 3",
   "language": "python",
   "name": "python3"
  },
  "language_info": {
   "codemirror_mode": {
    "name": "ipython",
    "version": 3
   },
   "file_extension": ".py",
   "mimetype": "text/x-python",
   "name": "python",
   "nbconvert_exporter": "python",
   "pygments_lexer": "ipython3",
   "version": "3.12.2"
  }
 },
 "nbformat": 4,
 "nbformat_minor": 2
}
