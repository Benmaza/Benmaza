{
 "cells": [
  {
   "cell_type": "code",
   "execution_count": 1,
   "metadata": {},
   "outputs": [],
   "source": [
    "# Cargando librerias\n",
    "import pandas as pd\n",
    "from sklearn.model_selection import train_test_split\n",
    "from sklearn.linear_model import LogisticRegression\n",
    "from sklearn.metrics import classification_report\n",
    "from sklearn.metrics import confusion_matrix\n",
    "from sklearn import preprocessing\n",
    "from sklearn import metrics\n",
    "from sklearn.metrics import roc_auc_score\n",
    "from sklearn.metrics import roc_curve\n",
    "from sklearn.metrics import confusion_matrix\n",
    "from sklearn.ensemble import AdaBoostClassifier\n",
    "from sklearn.svm import SVC\n",
    "import numpy as np\n",
    "import warnings\n",
    "warnings.filterwarnings(\"ignore\")"
   ]
  },
  {
   "cell_type": "code",
   "execution_count": 2,
   "metadata": {},
   "outputs": [],
   "source": [
    "# Cargando la base de datos y preparando los datos\n",
    "\n",
    "Medic = pd.read_csv('drugs.csv')\n",
    "feature_cols = ['Age','Sex','BP','Cholesterol','Na_to_K']\n",
    "X = Medic[feature_cols].values\n",
    "y = Medic['Drug']\n",
    "\n",
    "# Preprocesando de los datos\n",
    "\n",
    "Pre_sex = preprocessing.LabelEncoder()\n",
    "Pre_sex.fit(['F','M'])\n",
    "X[:,1] = Pre_sex.transform(X[:,1])\n",
    "\n",
    "Pre_BP = preprocessing.LabelEncoder()\n",
    "Pre_BP.fit([ 'LOW', 'NORMAL', 'HIGH'])\n",
    "X[:,2] = Pre_BP.transform(X[:,2])\n",
    "\n",
    "Pre_Chol = preprocessing.LabelEncoder()\n",
    "Pre_Chol.fit([ 'NORMAL', 'HIGH'])\n",
    "X[:,3] = Pre_Chol.transform(X[:,3])"
   ]
  },
  {
   "cell_type": "code",
   "execution_count": 3,
   "metadata": {},
   "outputs": [],
   "source": [
    "# Dividiendo los datos en entrenamiento y prueba\n",
    "\n",
    "X_train, X_test, y_train, y_test = train_test_split(X, y, test_size=0.3, random_state=2)"
   ]
  },
  {
   "cell_type": "markdown",
   "metadata": {},
   "source": [
    "## Regresión Logistica con Solver (sag)"
   ]
  },
  {
   "cell_type": "code",
   "execution_count": 4,
   "metadata": {},
   "outputs": [
    {
     "name": "stdout",
     "output_type": "stream",
     "text": [
      "Solver: sag\n",
      "Intercept: [ 0.20135587 -0.06384131  0.11243866  0.23446518 -0.48441841]\n",
      "Coeficientes: [[-0.02080272  0.05051055 -0.58211018  0.06412518  0.08355418]\n",
      " [ 0.07367651 -0.03337174 -0.57374091 -0.01446503 -0.31045123]\n",
      " [-0.00947944  0.00902356  0.14922589 -0.32007975  0.01997255]\n",
      " [ 0.00702338  0.08065681  1.30286496  0.43349476 -0.0983278 ]\n",
      " [-0.05041773 -0.10681919 -0.29623975 -0.16307516  0.30525231]]\n",
      "----------------------------------------------\n",
      "Score: 0.700\n",
      "----------------------------------------------\n",
      "Reporte de clasificacion\n",
      "              precision    recall  f1-score   support\n",
      "\n",
      "       drugA       1.00      0.12      0.22         8\n",
      "       drugB       0.33      0.25      0.29         4\n",
      "       drugC       0.00      0.00      0.00         3\n",
      "       drugX       0.67      0.83      0.74        12\n",
      "       drugY       0.73      0.91      0.81        33\n",
      "\n",
      "    accuracy                           0.70        60\n",
      "   macro avg       0.55      0.42      0.41        60\n",
      "weighted avg       0.69      0.70      0.64        60\n",
      "\n"
     ]
    }
   ],
   "source": [
    "# Entrenando el modelo de regresion logistica\n",
    "\n",
    "model = LogisticRegression(solver='sag')\n",
    "clf = model.fit(X_train,y_train)\n",
    "\n",
    "# Prediciendo los valores de la base de prueba y evaluando el modelo\n",
    "\n",
    "print('Solver: sag')\n",
    "y_pred = model.predict(X_test)\n",
    "print(\"Intercept:\", clf.intercept_)\n",
    "print(\"Coeficientes:\", clf.coef_)\n",
    "score = model.score(X_test, y_test)\n",
    "print('----------------------------------------------')\n",
    "print(f\"Score: {score:.3f}\")\n",
    "print('----------------------------------------------')\n",
    "\n",
    "# Reporte de clasificacion\n",
    "print('Reporte de clasificacion')\n",
    "print(classification_report(y_test, y_pred))\n"
   ]
  },
  {
   "cell_type": "markdown",
   "metadata": {},
   "source": [
    "## Regresion logistica solver (newton-cg)"
   ]
  },
  {
   "cell_type": "code",
   "execution_count": 5,
   "metadata": {},
   "outputs": [
    {
     "name": "stdout",
     "output_type": "stream",
     "text": [
      "Solver: newton-cg\n",
      "Intercept: [ 13.35126554   1.43358367   9.55857434   4.82513882 -29.16856237]\n",
      "Coeficientes: [[-8.23226275e-02 -2.21995689e-02 -2.15690081e+00 -3.95403677e-01\n",
      "  -6.07842083e-01]\n",
      " [ 1.13621911e-01 -2.00036047e-01 -1.74277709e+00  8.93596966e-02\n",
      "  -4.49711452e-01]\n",
      " [-2.97960766e-02 -2.08427817e-02  6.08625547e-01 -1.57707814e+00\n",
      "  -5.42759872e-01]\n",
      " [-9.05639410e-04 -3.12538147e-02  3.06776774e+00  1.53442567e+00\n",
      "  -4.98086464e-01]\n",
      " [-5.97567624e-04  2.74332212e-01  2.23284615e-01  3.48696450e-01\n",
      "   2.09839987e+00]]\n",
      "----------------------------------------------\n",
      "Score: 0.983\n",
      "----------------------------------------------\n",
      "Reporte de clasificacion\n",
      "              precision    recall  f1-score   support\n",
      "\n",
      "       drugA       1.00      1.00      1.00         8\n",
      "       drugB       0.80      1.00      0.89         4\n",
      "       drugC       1.00      0.67      0.80         3\n",
      "       drugX       1.00      1.00      1.00        12\n",
      "       drugY       1.00      1.00      1.00        33\n",
      "\n",
      "    accuracy                           0.98        60\n",
      "   macro avg       0.96      0.93      0.94        60\n",
      "weighted avg       0.99      0.98      0.98        60\n",
      "\n"
     ]
    }
   ],
   "source": [
    "model = LogisticRegression(solver='newton-cg')\n",
    "clf = model.fit(X_train,y_train)\n",
    "\n",
    "# Prediciendo los valores de la base de prueba y evaluando el modelo\n",
    "\n",
    "print('Solver: newton-cg')\n",
    "y_pred = model.predict(X_test)\n",
    "print(\"Intercept:\", clf.intercept_)\n",
    "print(\"Coeficientes:\", clf.coef_)\n",
    "score = model.score(X_test, y_test)\n",
    "print('----------------------------------------------')\n",
    "print(f\"Score: {score:.3f}\")\n",
    "print('----------------------------------------------')\n",
    "\n",
    "# Reporte de clasificacion\n",
    "print('Reporte de clasificacion')\n",
    "print(classification_report(y_test, y_pred))"
   ]
  },
  {
   "cell_type": "code",
   "execution_count": 10,
   "metadata": {},
   "outputs": [
    {
     "data": {
      "text/plain": [
       "array([2.46164539e-03, 3.96262583e-04, 4.99939382e-04, 5.35858412e-03,\n",
       "       6.00935711e-01])"
      ]
     },
     "execution_count": 10,
     "metadata": {},
     "output_type": "execute_result"
    }
   ],
   "source": [
    "y_pred_proba = model.predict_proba(X_test)[::,1]\n",
    "y_pred_proba[0:5]"
   ]
  },
  {
   "cell_type": "code",
   "execution_count": 21,
   "metadata": {},
   "outputs": [
    {
     "data": {
      "image/png": "[encoded data removed]",
      "text/plain": [
       "<Figure size 640x480 with 1 Axes>"
      ]
     },
     "metadata": {},
     "output_type": "display_data"
    }
   ],
   "source": [
    "# Modelando la curva ROC\n",
    "\n",
    "from sklearn.preprocessing import label_binarize\n",
    "from sklearn.metrics import roc_curve, auc\n",
    "import matplotlib.pyplot as plt\n",
    "from itertools import cycle\n",
    "\n",
    "# Binarizacion para cada clase\n",
    "classes = ['drugA', 'drugB', 'drugC', 'drugX', 'drugY']\n",
    "y_test_bin = label_binarize(y_test, classes=classes)\n",
    "n_classes = y_test_bin.shape[1]\n",
    "\n",
    "# Tu modelo predictivo\n",
    "y_score = model.predict_proba(X_test)\n",
    "\n",
    "# Calculo y clasificacion de la curva para cada clase\n",
    "# se crean los vectores fpr, tpr y roc_auc como diccionarios\n",
    "fpr = dict()\n",
    "tpr = dict()\n",
    "roc_auc = dict()\n",
    "\n",
    "# se itera sobre cada clase para calcular la curva\n",
    "for i in range(n_classes):\n",
    "    fpr[i], tpr[i], _ = roc_curve(y_test_bin[:, i], y_score[:, i])\n",
    "    roc_auc[i] = auc(fpr[i], tpr[i])\n",
    "\n",
    "# se da formato a la grafica\n",
    "# y se realiza un ciclo para graficar cada clase\n",
    "\n",
    "colors = cycle(['aqua', 'darkorange', 'cornflowerblue', 'red', 'green'])\n",
    "for i, color in zip(range(n_classes), colors):\n",
    "    plt.plot(fpr[i], tpr[i], color=color, lw=2,\n",
    "             label=' {0} (área = {1:0.2f})'\n",
    "             ''.format(classes[i], roc_auc[i]))\n",
    "\n",
    "# se grafica la curva ROC para cada clase\n",
    "\n",
    "plt.plot([0, 1], [0, 1], 'k--')\n",
    "plt.xlim([0.0, 1.0])\n",
    "plt.ylim([0.0, 1.05])\n",
    "plt.xlabel('Tasa de Falsos Positivos')\n",
    "plt.ylabel('Tasa de Verdaderos Positivos')\n",
    "plt.title('Curva ROC Multi-clase')\n",
    "plt.legend(loc=\"lower right\")\n",
    "plt.show()\n"
   ]
  },
  {
   "cell_type": "markdown",
   "metadata": {},
   "source": [
    "## Regresion logistica solver (liblinear)"
   ]
  },
  {
   "cell_type": "code",
   "execution_count": 6,
   "metadata": {},
   "outputs": [
    {
     "name": "stdout",
     "output_type": "stream",
     "text": [
      "Solver: liblinear\n",
      "Intercept: [ 1.98611174 -0.58928316  0.79908234  0.15358171 -4.02603849]\n",
      "Coeficientes: [[-2.15619178e-02  8.38977393e-02 -2.14014092e+00 -1.13011510e-01\n",
      "  -1.64309675e-01]\n",
      " [ 1.02750711e-01 -3.75132900e-01 -2.46262928e+00 -1.86018275e-01\n",
      "  -4.43413944e-01]\n",
      " [-1.16026470e-02 -3.39795202e-02  1.36549295e-03 -1.86218693e+00\n",
      "  -1.50409241e-01]\n",
      " [ 1.18465291e-02 -1.72540082e-01  3.06488127e+00  1.99217088e+00\n",
      "  -4.46330803e-01]\n",
      " [-3.86389133e-02 -8.75973129e-02 -6.29563130e-01 -4.17421002e-01\n",
      "   4.25284321e-01]]\n",
      "----------------------------------------------\n",
      "Score: 0.783\n",
      "----------------------------------------------\n",
      "Reporte de clasificacion\n",
      "              precision    recall  f1-score   support\n",
      "\n",
      "       drugA       1.00      0.38      0.55         8\n",
      "       drugB       0.50      0.50      0.50         4\n",
      "       drugC       0.00      0.00      0.00         3\n",
      "       drugX       0.75      1.00      0.86        12\n",
      "       drugY       0.81      0.91      0.86        33\n",
      "\n",
      "    accuracy                           0.78        60\n",
      "   macro avg       0.61      0.56      0.55        60\n",
      "weighted avg       0.76      0.78      0.75        60\n",
      "\n"
     ]
    }
   ],
   "source": [
    "model = LogisticRegression(solver='liblinear')\n",
    "clf = model.fit(X_train,y_train)\n",
    "\n",
    "# Prediciendo los valores de la base de prueba y evaluando el modelo\n",
    "\n",
    "print('Solver: liblinear')\n",
    "y_pred = model.predict(X_test)\n",
    "print(\"Intercept:\", clf.intercept_)\n",
    "print(\"Coeficientes:\", clf.coef_)\n",
    "score = model.score(X_test, y_test)\n",
    "print('----------------------------------------------')\n",
    "print(f\"Score: {score:.3f}\")\n",
    "print('----------------------------------------------')\n",
    "\n",
    "# Reporte de clasificacion\n",
    "print('Reporte de clasificacion')\n",
    "print(classification_report(y_test, y_pred))"
   ]
  },
  {
   "cell_type": "markdown",
   "metadata": {},
   "source": [
    "## Regresion logistica solver (saga)"
   ]
  },
  {
   "cell_type": "code",
   "execution_count": 7,
   "metadata": {},
   "outputs": [
    {
     "name": "stdout",
     "output_type": "stream",
     "text": [
      "Solver: saga\n",
      "Intercept: [ 0.10085848 -0.0428946   0.05522788  0.14801567 -0.26120743]\n",
      "Coeficientes: [[-0.01928551  0.02892019 -0.34236178  0.03747898  0.06974867]\n",
      " [ 0.06868283 -0.01639886 -0.35664306 -0.01285575 -0.30486264]\n",
      " [-0.0084911   0.00400591  0.07081166 -0.1759041   0.01369364]\n",
      " [ 0.01007212  0.05276275  0.85809463  0.24862418 -0.05801756]\n",
      " [-0.05097833 -0.06928999 -0.22990145 -0.09734331  0.27943789]]\n",
      "----------------------------------------------\n",
      "Score: 0.683\n",
      "----------------------------------------------\n",
      "Reporte de clasificacion\n",
      "              precision    recall  f1-score   support\n",
      "\n",
      "       drugA       0.00      0.00      0.00         8\n",
      "       drugB       0.33      0.25      0.29         4\n",
      "       drugC       0.00      0.00      0.00         3\n",
      "       drugX       0.62      0.83      0.71        12\n",
      "       drugY       0.73      0.91      0.81        33\n",
      "\n",
      "    accuracy                           0.68        60\n",
      "   macro avg       0.34      0.40      0.36        60\n",
      "weighted avg       0.55      0.68      0.61        60\n",
      "\n"
     ]
    }
   ],
   "source": [
    "model = LogisticRegression(solver='saga')\n",
    "clf = model.fit(X_train,y_train)\n",
    "\n",
    "# Prediciendo los valores de la base de prueba y evaluando el modelo\n",
    "\n",
    "print('Solver: saga')\n",
    "y_pred = model.predict(X_test)\n",
    "print(\"Intercept:\", clf.intercept_)\n",
    "print(\"Coeficientes:\", clf.coef_)\n",
    "score = model.score(X_test, y_test)\n",
    "print('----------------------------------------------')\n",
    "print(f\"Score: {score:.3f}\")\n",
    "print('----------------------------------------------')\n",
    "\n",
    "# Reporte de clasificacion\n",
    "print('Reporte de clasificacion')\n",
    "print(classification_report(y_test, y_pred))"
   ]
  },
  {
   "cell_type": "markdown",
   "metadata": {},
   "source": [
    "## Regresion logistica solver (lbfgs)"
   ]
  },
  {
   "cell_type": "code",
   "execution_count": 8,
   "metadata": {},
   "outputs": [
    {
     "name": "stdout",
     "output_type": "stream",
     "text": [
      "Solver: lbfgs\n",
      "Intercept: [ 1.44187536 -0.3175355   1.01250377  0.84713908 -2.9839827 ]\n",
      "Coeficientes: [[-0.02082791  0.15120825 -2.48063437 -0.05200362  0.07093504]\n",
      " [ 0.10109292 -0.30875847 -2.31103454 -0.09854676 -0.30125485]\n",
      " [-0.02715937  0.14117973  1.12672251 -1.6631665   0.0312872 ]\n",
      " [-0.01175344  0.04665861  3.35306364  2.37196743 -0.27390755]\n",
      " [-0.0413522  -0.03028812  0.31188276 -0.55825055  0.47294015]]\n",
      "----------------------------------------------\n",
      "Score: 0.850\n",
      "----------------------------------------------\n",
      "Reporte de clasificacion\n",
      "              precision    recall  f1-score   support\n",
      "\n",
      "       drugA       0.71      0.62      0.67         8\n",
      "       drugB       0.50      0.50      0.50         4\n",
      "       drugC       1.00      0.67      0.80         3\n",
      "       drugX       0.80      1.00      0.89        12\n",
      "       drugY       0.94      0.91      0.92        33\n",
      "\n",
      "    accuracy                           0.85        60\n",
      "   macro avg       0.79      0.74      0.76        60\n",
      "weighted avg       0.85      0.85      0.85        60\n",
      "\n"
     ]
    }
   ],
   "source": [
    "model = LogisticRegression(solver='lbfgs')\n",
    "clf = model.fit(X_train,y_train)\n",
    "\n",
    "# Prediciendo los valores de la base de prueba y evaluando el modelo\n",
    "\n",
    "y_pred = model.predict(X_test)\n",
    "print('Solver: lbfgs')\n",
    "print(\"Intercept:\", clf.intercept_)\n",
    "print(\"Coeficientes:\", clf.coef_)\n",
    "score = model.score(X_test, y_test)\n",
    "print('----------------------------------------------')\n",
    "print(f\"Score: {score:.3f}\")\n",
    "print('----------------------------------------------')\n",
    "\n",
    "# Reporte de clasificacion\n",
    "print('Reporte de clasificacion')\n",
    "print(classification_report(y_test, y_pred))"
   ]
  }
 ],
 "metadata": {
  "kernelspec": {
   "display_name": "Python 3",
   "language": "python",
   "name": "python3"
  },
  "language_info": {
   "codemirror_mode": {
    "name": "ipython",
    "version": 3
   },
   "file_extension": ".py",
   "mimetype": "text/x-python",
   "name": "python",
   "nbconvert_exporter": "python",
   "pygments_lexer": "ipython3",
   "version": "3.12.7"
  }
 },
 "nbformat": 4,
 "nbformat_minor": 2
}
