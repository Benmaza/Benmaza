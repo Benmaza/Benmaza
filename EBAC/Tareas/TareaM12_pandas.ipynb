{
 "cells": [
  {
   "cell_type": "code",
   "execution_count": 25,
   "metadata": {},
   "outputs": [],
   "source": [
    "# importar librerias necesarias\n",
    "\n",
    "from statistics import mean, median, mode, stdev\n",
    "import numpy as np\n",
    "import pandas as pd\n",
    "import matplotlib.pyplot as plt\n"
   ]
  },
  {
   "cell_type": "code",
   "execution_count": 26,
   "metadata": {},
   "outputs": [
    {
     "name": "stdout",
     "output_type": "stream",
     "text": [
      "     Rank            Country Name  Male Height in Cm  Female Height in Cm  \\\n",
      "0       1             Netherlands             183.78               170.36   \n",
      "1       2              Montenegro             183.30               169.96   \n",
      "2       3                 Estonia             182.79               168.66   \n",
      "3       4  Bosnia and Herzegovina             182.47               167.47   \n",
      "4       5                 Iceland             182.10               168.91   \n",
      "..    ...                     ...                ...                  ...   \n",
      "194   195              Mozambique             164.30               155.42   \n",
      "195   196        Papua New Guinea             163.10               156.89   \n",
      "196   197         Solomon Islands             163.07               156.79   \n",
      "197   198                    Laos             162.78               153.10   \n",
      "198   199             Timor-Leste             160.13               152.71   \n",
      "\n",
      "     Male Height in Ft  Female Height in Ft  \n",
      "0                 6.03                 5.59  \n",
      "1                 6.01                 5.58  \n",
      "2                 6.00                 5.53  \n",
      "3                 5.99                 5.49  \n",
      "4                 5.97                 5.54  \n",
      "..                 ...                  ...  \n",
      "194               5.39                 5.10  \n",
      "195               5.35                 5.15  \n",
      "196               5.35                 5.14  \n",
      "197               5.34                 5.02  \n",
      "198               5.25                 5.01  \n",
      "\n",
      "[199 rows x 6 columns]\n"
     ]
    }
   ],
   "source": [
    "df=pd.read_csv(\"Height of Male and Female by Country 2022.csv\")\n",
    "print(df)"
   ]
  },
  {
   "cell_type": "code",
   "execution_count": 27,
   "metadata": {},
   "outputs": [
    {
     "name": "stdout",
     "output_type": "stream",
     "text": [
      "    Rank                      Country Name  Male Height in Cm  \\\n",
      "0      1                       Netherlands             183.78   \n",
      "1      2                        Montenegro             183.30   \n",
      "2      3                           Estonia             182.79   \n",
      "3      4            Bosnia and Herzegovina             182.47   \n",
      "4      5                           Iceland             182.10   \n",
      "5      6                           Denmark             181.89   \n",
      "6      7                    Czech Republic             181.19   \n",
      "7      8                            Latvia             181.17   \n",
      "8      9                          Slovakia             181.02   \n",
      "9     10                          Slovenia             180.98   \n",
      "10    11                           Ukraine             180.98   \n",
      "11    12                           Croatia             180.76   \n",
      "12    13                            Serbia             180.74   \n",
      "13    14                         Lithuania             180.72   \n",
      "14    15                            Poland             180.69   \n",
      "15    16                           Finland             180.57   \n",
      "16    17                            Norway             180.48   \n",
      "17    18                            Sweden             180.46   \n",
      "18    19                           Germany             180.28   \n",
      "19    20                          Dominica             180.15   \n",
      "20    21                           Bermuda             179.72   \n",
      "21    22                       Puerto Rico             179.48   \n",
      "22    23                            Greece             179.26   \n",
      "23    24                           Belgium             179.09   \n",
      "24    25                           Ireland             179.04   \n",
      "25    26                           Lebanon             178.96   \n",
      "26    27                           Andorra             178.84   \n",
      "27    28               Antigua and Barbuda             178.84   \n",
      "28    29                         Australia             178.77   \n",
      "29    30                            Canada             178.75   \n",
      "30    31                       Switzerland             178.73   \n",
      "31    32                           Grenada             178.70   \n",
      "32    33                           Belarus             178.69   \n",
      "33    34                            France             178.60   \n",
      "34    35                           Austria             178.52   \n",
      "35    36                        Luxembourg             178.46   \n",
      "36    37                      Cook Islands             178.32   \n",
      "37    38                  French Polynesia             178.32   \n",
      "38    39                    United Kingdom             178.21   \n",
      "39    40                           Romania             177.82   \n",
      "40    41                       New Zealand             177.72   \n",
      "41    42  Saint Vincent and the Grenadines             177.49   \n",
      "42    43                              Niue             177.19   \n",
      "43    44                    American Samoa             177.09   \n",
      "44    45                          Barbados             177.03   \n",
      "45    46                           Jamaica             176.97   \n",
      "46    47                     United States             176.94   \n",
      "47    48                           Tunisia             176.85   \n",
      "48    49                            Russia             176.65   \n",
      "49    50                           Hungary             176.59   \n",
      "\n",
      "    Female Height in Cm  Male Height in Ft  Female Height in Ft  \n",
      "0                170.36               6.03                 5.59  \n",
      "1                169.96               6.01                 5.58  \n",
      "2                168.66               6.00                 5.53  \n",
      "3                167.47               5.99                 5.49  \n",
      "4                168.91               5.97                 5.54  \n",
      "5                169.47               5.97                 5.56  \n",
      "6                167.96               5.94                 5.51  \n",
      "7                168.81               5.94                 5.54  \n",
      "8                167.12               5.94                 5.48  \n",
      "9                167.20               5.94                 5.49  \n",
      "10               166.62               5.94                 5.47  \n",
      "11               166.80               5.93                 5.47  \n",
      "12               168.29               5.93                 5.52  \n",
      "13               167.63               5.93                 5.50  \n",
      "14               165.78               5.93                 5.44  \n",
      "15               166.48               5.92                 5.46  \n",
      "16               166.45               5.92                 5.46  \n",
      "17               166.67               5.92                 5.47  \n",
      "18               166.18               5.91                 5.45  \n",
      "19               166.89               5.91                 5.48  \n",
      "20               166.11               5.90                 5.45  \n",
      "21               163.06               5.89                 5.35  \n",
      "22               165.81               5.88                 5.44  \n",
      "23               163.40               5.88                 5.36  \n",
      "24               164.50               5.87                 5.40  \n",
      "25               163.67               5.87                 5.37  \n",
      "26               165.53               5.87                 5.43  \n",
      "27               165.72               5.87                 5.44  \n",
      "28               164.67               5.87                 5.40  \n",
      "29               164.73               5.86                 5.40  \n",
      "30               164.33               5.86                 5.39  \n",
      "31               165.99               5.86                 5.45  \n",
      "32               166.93               5.86                 5.48  \n",
      "33               164.49               5.86                 5.40  \n",
      "34               166.93               5.86                 5.48  \n",
      "35               165.07               5.86                 5.42  \n",
      "36               167.31               5.85                 5.49  \n",
      "37               166.52               5.85                 5.46  \n",
      "38               163.94               5.85                 5.38  \n",
      "39               164.73               5.83                 5.40  \n",
      "40               164.66               5.83                 5.40  \n",
      "41               165.30               5.82                 5.42  \n",
      "42               167.03               5.81                 5.48  \n",
      "43               167.55               5.81                 5.50  \n",
      "44               165.66               5.81                 5.44  \n",
      "45               164.32               5.81                 5.39  \n",
      "46               163.31               5.81                 5.36  \n",
      "47               161.69               5.80                 5.30  \n",
      "48               164.52               5.80                 5.40  \n",
      "49               162.55               5.79                 5.33  \n"
     ]
    }
   ],
   "source": [
    "# Imprime las 50 primeras filas\n",
    "print(df.head(50))"
   ]
  },
  {
   "cell_type": "code",
   "execution_count": 37,
   "metadata": {},
   "outputs": [
    {
     "name": "stdout",
     "output_type": "stream",
     "text": [
      "La media de la altura de los hombres es de: 173.09 Cm\n",
      "La media de la altura de las mujeres es de: 160.94 Cm\n",
      "\n",
      "La altura minima de los hombres es de: 160.13 Cm\n",
      "La altura minima de las mujeres es de: 150.91 Cm\n",
      "\n",
      "La altura maxima de los hombres es de: 183.78 Cm\n",
      "La altura maxima de las mujeres es de: 170.36 Cm\n"
     ]
    }
   ],
   "source": [
    "# calcular la media, minima y maxima de la altura de los hombres y mujeres\n",
    "\n",
    "mean_male_height = round(df['Male Height in Cm'].mean(), 2)\n",
    "mean_female_height = round(df['Female Height in Cm'].mean(), 2)\n",
    "mini_male_height = round(df['Male Height in Cm'].min(), 2)\n",
    "mini_female_height = round(df['Female Height in Cm'].min(), 2)\n",
    "maxi_male_height = round(df['Male Height in Cm'].max(), 2)\n",
    "maxi_female_height = round(df['Female Height in Cm'].max(), 2)\n",
    "\n",
    "print(\"La media de la altura de los hombres es de:\", mean_male_height ,\"Cm\")\n",
    "print(\"La media de la altura de las mujeres es de:\", mean_female_height,\"Cm\")\n",
    "print(\"\\nLa altura minima de los hombres es de:\", mini_male_height,\"Cm\")\n",
    "print(\"La altura minima de las mujeres es de:\", mini_female_height,\"Cm\")\n",
    "print(\"\\nLa altura maxima de los hombres es de:\", maxi_male_height,\"Cm\")\n",
    "print(\"La altura maxima de las mujeres es de:\", maxi_female_height,\"Cm\")\n",
    "\n",
    "        "
   ]
  },
  {
   "cell_type": "code",
   "execution_count": 43,
   "metadata": {},
   "outputs": [],
   "source": [
    "rows =[]\n",
    "for row in df:\n",
    "    rows.append(row)\n",
    "\n",
    "altura_hombres = np.array(rows)"
   ]
  },
  {
   "cell_type": "code",
   "execution_count": 57,
   "metadata": {},
   "outputs": [
    {
     "ename": "TypeError",
     "evalue": "can't convert type 'str_' to numerator/denominator",
     "output_type": "error",
     "traceback": [
      "\u001b[1;31m---------------------------------------------------------------------------\u001b[0m",
      "\u001b[1;31mAttributeError\u001b[0m                            Traceback (most recent call last)",
      "File \u001b[1;32mc:\\Users\\benma\\AppData\\Local\\Programs\\Python\\Python312\\Lib\\statistics.py:327\u001b[0m, in \u001b[0;36m_exact_ratio\u001b[1;34m(x)\u001b[0m\n\u001b[0;32m    325\u001b[0m \u001b[38;5;28;01mtry\u001b[39;00m:\n\u001b[0;32m    326\u001b[0m     \u001b[38;5;66;03m# x may be an Integral ABC.\u001b[39;00m\n\u001b[1;32m--> 327\u001b[0m     \u001b[38;5;28;01mreturn\u001b[39;00m (\u001b[43mx\u001b[49m\u001b[38;5;241;43m.\u001b[39;49m\u001b[43mnumerator\u001b[49m, x\u001b[38;5;241m.\u001b[39mdenominator)\n\u001b[0;32m    328\u001b[0m \u001b[38;5;28;01mexcept\u001b[39;00m \u001b[38;5;167;01mAttributeError\u001b[39;00m:\n",
      "\u001b[1;31mAttributeError\u001b[0m: 'numpy.str_' object has no attribute 'numerator'",
      "\nDuring handling of the above exception, another exception occurred:\n",
      "\u001b[1;31mTypeError\u001b[0m                                 Traceback (most recent call last)",
      "Cell \u001b[1;32mIn[57], line 1\u001b[0m\n\u001b[1;32m----> 1\u001b[0m mean_hombres \u001b[38;5;241m=\u001b[39m \u001b[43mmean\u001b[49m\u001b[43m(\u001b[49m\u001b[43maltura_hombres\u001b[49m\u001b[43m)\u001b[49m\n",
      "File \u001b[1;32mc:\\Users\\benma\\AppData\\Local\\Programs\\Python\\Python312\\Lib\\statistics.py:484\u001b[0m, in \u001b[0;36mmean\u001b[1;34m(data)\u001b[0m\n\u001b[0;32m    468\u001b[0m \u001b[38;5;28;01mdef\u001b[39;00m \u001b[38;5;21mmean\u001b[39m(data):\n\u001b[0;32m    469\u001b[0m \u001b[38;5;250m    \u001b[39m\u001b[38;5;124;03m\"\"\"Return the sample arithmetic mean of data.\u001b[39;00m\n\u001b[0;32m    470\u001b[0m \n\u001b[0;32m    471\u001b[0m \u001b[38;5;124;03m    >>> mean([1, 2, 3, 4, 4])\u001b[39;00m\n\u001b[1;32m   (...)\u001b[0m\n\u001b[0;32m    482\u001b[0m \u001b[38;5;124;03m    If ``data`` is empty, StatisticsError will be raised.\u001b[39;00m\n\u001b[0;32m    483\u001b[0m \u001b[38;5;124;03m    \"\"\"\u001b[39;00m\n\u001b[1;32m--> 484\u001b[0m     T, total, n \u001b[38;5;241m=\u001b[39m \u001b[43m_sum\u001b[49m\u001b[43m(\u001b[49m\u001b[43mdata\u001b[49m\u001b[43m)\u001b[49m\n\u001b[0;32m    485\u001b[0m     \u001b[38;5;28;01mif\u001b[39;00m n \u001b[38;5;241m<\u001b[39m \u001b[38;5;241m1\u001b[39m:\n\u001b[0;32m    486\u001b[0m         \u001b[38;5;28;01mraise\u001b[39;00m StatisticsError(\u001b[38;5;124m'\u001b[39m\u001b[38;5;124mmean requires at least one data point\u001b[39m\u001b[38;5;124m'\u001b[39m)\n",
      "File \u001b[1;32mc:\\Users\\benma\\AppData\\Local\\Programs\\Python\\Python312\\Lib\\statistics.py:193\u001b[0m, in \u001b[0;36m_sum\u001b[1;34m(data)\u001b[0m\n\u001b[0;32m    191\u001b[0m \u001b[38;5;28;01mfor\u001b[39;00m typ, values \u001b[38;5;129;01min\u001b[39;00m groupby(data, \u001b[38;5;28mtype\u001b[39m):\n\u001b[0;32m    192\u001b[0m     types_add(typ)\n\u001b[1;32m--> 193\u001b[0m \u001b[43m    \u001b[49m\u001b[38;5;28;43;01mfor\u001b[39;49;00m\u001b[43m \u001b[49m\u001b[43mn\u001b[49m\u001b[43m,\u001b[49m\u001b[43m \u001b[49m\u001b[43md\u001b[49m\u001b[43m \u001b[49m\u001b[38;5;129;43;01min\u001b[39;49;00m\u001b[43m \u001b[49m\u001b[38;5;28;43mmap\u001b[39;49m\u001b[43m(\u001b[49m\u001b[43m_exact_ratio\u001b[49m\u001b[43m,\u001b[49m\u001b[43m \u001b[49m\u001b[43mvalues\u001b[49m\u001b[43m)\u001b[49m\u001b[43m:\u001b[49m\n\u001b[0;32m    194\u001b[0m \u001b[43m        \u001b[49m\u001b[43mcount\u001b[49m\u001b[43m \u001b[49m\u001b[38;5;241;43m+\u001b[39;49m\u001b[38;5;241;43m=\u001b[39;49m\u001b[43m \u001b[49m\u001b[38;5;241;43m1\u001b[39;49m\n\u001b[0;32m    195\u001b[0m \u001b[43m        \u001b[49m\u001b[43mpartials\u001b[49m\u001b[43m[\u001b[49m\u001b[43md\u001b[49m\u001b[43m]\u001b[49m\u001b[43m \u001b[49m\u001b[38;5;241;43m=\u001b[39;49m\u001b[43m \u001b[49m\u001b[43mpartials_get\u001b[49m\u001b[43m(\u001b[49m\u001b[43md\u001b[49m\u001b[43m,\u001b[49m\u001b[43m \u001b[49m\u001b[38;5;241;43m0\u001b[39;49m\u001b[43m)\u001b[49m\u001b[43m \u001b[49m\u001b[38;5;241;43m+\u001b[39;49m\u001b[43m \u001b[49m\u001b[43mn\u001b[49m\n",
      "File \u001b[1;32mc:\\Users\\benma\\AppData\\Local\\Programs\\Python\\Python312\\Lib\\statistics.py:330\u001b[0m, in \u001b[0;36m_exact_ratio\u001b[1;34m(x)\u001b[0m\n\u001b[0;32m    328\u001b[0m \u001b[38;5;28;01mexcept\u001b[39;00m \u001b[38;5;167;01mAttributeError\u001b[39;00m:\n\u001b[0;32m    329\u001b[0m     msg \u001b[38;5;241m=\u001b[39m \u001b[38;5;124mf\u001b[39m\u001b[38;5;124m\"\u001b[39m\u001b[38;5;124mcan\u001b[39m\u001b[38;5;124m'\u001b[39m\u001b[38;5;124mt convert type \u001b[39m\u001b[38;5;124m'\u001b[39m\u001b[38;5;132;01m{\u001b[39;00m\u001b[38;5;28mtype\u001b[39m(x)\u001b[38;5;241m.\u001b[39m\u001b[38;5;18m__name__\u001b[39m\u001b[38;5;132;01m}\u001b[39;00m\u001b[38;5;124m'\u001b[39m\u001b[38;5;124m to numerator/denominator\u001b[39m\u001b[38;5;124m\"\u001b[39m\n\u001b[1;32m--> 330\u001b[0m     \u001b[38;5;28;01mraise\u001b[39;00m \u001b[38;5;167;01mTypeError\u001b[39;00m(msg)\n",
      "\u001b[1;31mTypeError\u001b[0m: can't convert type 'str_' to numerator/denominator"
     ]
    }
   ],
   "source": []
  }
 ],
 "metadata": {
  "kernelspec": {
   "display_name": "Python 3",
   "language": "python",
   "name": "python3"
  },
  "language_info": {
   "codemirror_mode": {
    "name": "ipython",
    "version": 3
   },
   "file_extension": ".py",
   "mimetype": "text/x-python",
   "name": "python",
   "nbconvert_exporter": "python",
   "pygments_lexer": "ipython3",
   "version": "3.12.2"
  }
 },
 "nbformat": 4,
 "nbformat_minor": 2
}
