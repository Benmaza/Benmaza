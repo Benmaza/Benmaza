{
 "cells": [
  {
   "cell_type": "code",
   "execution_count": 1,
   "metadata": {},
   "outputs": [
    {
     "data": {
      "text/plain": [
       "[10, 6, 50]"
      ]
     },
     "execution_count": 1,
     "metadata": {},
     "output_type": "execute_result"
    }
   ],
   "source": [
    "# ejemplos para ver numeros pares de una lista\n",
    "# y ver si un numero es par o impar\n",
    "\n",
    "numbers = [1,3,10,45,6,50]\n",
    "\n",
    "def extract_even_numbers(numbers):\n",
    "    even_numbers = []\n",
    "    for number in numbers:\n",
    "        if number % 2 == 0:\n",
    "            even_numbers.append(number)\n",
    "    return even_numbers\n",
    "\n",
    "extract_even_numbers(numbers)"
   ]
  },
  {
   "cell_type": "code",
   "execution_count": 7,
   "metadata": {},
   "outputs": [
    {
     "data": {
      "text/plain": [
       "[10, 6, 50]"
      ]
     },
     "execution_count": 7,
     "metadata": {},
     "output_type": "execute_result"
    }
   ],
   "source": [
    "# usando filter\n",
    "\n",
    "def is_even(number):\n",
    "    return number % 2 == 0\n",
    "\n",
    "list(filter(is_even, numbers))\n"
   ]
  },
  {
   "cell_type": "code",
   "execution_count": 6,
   "metadata": {},
   "outputs": [
    {
     "name": "stdout",
     "output_type": "stream",
     "text": [
      "Usando filter con un numero indicado\n",
      "el numero 10 es par? True\n"
     ]
    }
   ],
   "source": [
    "print('Usando filter con un numero indicado')\n",
    "print('el numero 10 es par?',is_even(10))"
   ]
  },
  {
   "cell_type": "code",
   "execution_count": 8,
   "metadata": {},
   "outputs": [
    {
     "name": "stdout",
     "output_type": "stream",
     "text": [
      "Numeros positivos: [4, 6]\n",
      "Numeros negativos: [-3, -1, -34, -39]\n"
     ]
    }
   ],
   "source": [
    "# ejemplo para dar si un numero es positivo o negativo\n",
    "\n",
    "numbers=[-3,-1,-34,-39,4,6]\n",
    "positivos = list(filter(lambda x: x > 0, numbers))\n",
    "negativos = list(filter(lambda x: x < 0, numbers))\n",
    "print('Numeros positivos:',positivos)\n",
    "print('Numeros negativos:',negativos)\n",
    "\n"
   ]
  }
 ],
 "metadata": {
  "kernelspec": {
   "display_name": "Python 3",
   "language": "python",
   "name": "python3"
  },
  "language_info": {
   "codemirror_mode": {
    "name": "ipython",
    "version": 3
   },
   "file_extension": ".py",
   "mimetype": "text/x-python",
   "name": "python",
   "nbconvert_exporter": "python",
   "pygments_lexer": "ipython3",
   "version": "3.12.2"
  }
 },
 "nbformat": 4,
 "nbformat_minor": 2
}
