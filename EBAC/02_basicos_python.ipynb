{
 "cells": [
  {
   "cell_type": "code",
   "execution_count": 2,
   "metadata": {},
   "outputs": [
    {
     "name": "stdout",
     "output_type": "stream",
     "text": [
      "Que tal!\n"
     ]
    }
   ],
   "source": [
    "print('Que tal!')"
   ]
  },
  {
   "cell_type": "code",
   "execution_count": 1,
   "metadata": {},
   "outputs": [
    {
     "name": "stdout",
     "output_type": "stream",
     "text": [
      "2\n"
     ]
    }
   ],
   "source": [
    "# ejemplos de asignaciones\n",
    "X=2\n",
    "print(X)"
   ]
  },
  {
   "cell_type": "code",
   "execution_count": 2,
   "metadata": {},
   "outputs": [
    {
     "name": "stdout",
     "output_type": "stream",
     "text": [
      "4\n"
     ]
    }
   ],
   "source": [
    "# ejemplo de sumas con asignacion\n",
    "X=X+2\n",
    "print(X)"
   ]
  },
  {
   "cell_type": "code",
   "execution_count": 3,
   "metadata": {},
   "outputs": [
    {
     "name": "stdout",
     "output_type": "stream",
     "text": [
      "10.5\n"
     ]
    },
    {
     "data": {
      "text/plain": [
       "float"
      ]
     },
     "execution_count": 3,
     "metadata": {},
     "output_type": "execute_result"
    }
   ],
   "source": [
    "# ejemplo de sumas con asignacion y jerarquia de operaciones con tipos de datos\n",
    "y= 1+2+3*5/2\n",
    "print(y)\n",
    "type(y)"
   ]
  },
  {
   "cell_type": "code",
   "execution_count": 4,
   "metadata": {},
   "outputs": [
    {
     "name": "stdout",
     "output_type": "stream",
     "text": [
      "Hola Ruben\n"
     ]
    }
   ],
   "source": [
    "nombre= input('Ingresa tu nombre: ')\n",
    "print('Hola', nombre)"
   ]
  },
  {
   "cell_type": "code",
   "execution_count": 5,
   "metadata": {},
   "outputs": [
    {
     "name": "stdout",
     "output_type": "stream",
     "text": [
      "Tu edad es 39\n",
      "La suma es 39\n"
     ]
    }
   ],
   "source": [
    "# input siempre devuelve un string\n",
    "edad= input('Ingresa tu edad: ')\n",
    "print('Tu edad es', edad)\n",
    "\n",
    "#input de suma de numeros\n",
    "num1= input('Ingresa un numero: ')\n",
    "num2= input('Ingresa otro numero: ')\n",
    "suma= int(num1) + int(num2)\n",
    "print('La suma es', suma)\n"
   ]
  },
  {
   "cell_type": "code",
   "execution_count": 6,
   "metadata": {},
   "outputs": [
    {
     "name": "stdout",
     "output_type": "stream",
     "text": [
      "José Rubén\n",
      "José\n",
      "Rubén\n",
      "10\n",
      "JOSÉ RUBÉN\n",
      "josé rubén\n"
     ]
    }
   ],
   "source": [
    "# manejando de cadenas de texto\n",
    "nombre1= 'José'\n",
    "nombre2= 'Rubén'\n",
    "name = nombre1 + ' ' + nombre2\n",
    "print(name)\n",
    "\n",
    "# imprimir unos caracteres de una cadena, si es desde inicio se puede omitir el 0\n",
    "print(name[:4])\n",
    "\n",
    "#imprimir la segunda parte de una cadena, si es al final se puede omitir el ultimo caracter\n",
    "print(name[5:])\n",
    "\n",
    "#imprimir la longitud de una cadena\n",
    "print(len(name))\n",
    "\n",
    "#imprimir la cadena en mayusculas y en minusculas\n",
    "print(name.upper())\n",
    "print(name.lower())\n"
   ]
  },
  {
   "cell_type": "code",
   "execution_count": 9,
   "metadata": {},
   "outputs": [
    {
     "name": "stdout",
     "output_type": "stream",
     "text": [
      "Hola\n",
      "José   \n",
      "   José\n",
      "Hola José\n"
     ]
    }
   ],
   "source": [
    "#imprimir la cadena sin espacios al inicio y al final\n",
    "text1= '   Hola   '\n",
    "text2= '   José   '\n",
    "print(text1.strip()) #el strip eliimina espacios al inicio y al final\n",
    "print(text2.lstrip()) #el lstrip elimina espacios al inicio\n",
    "print(text2.rstrip()) #el rstrip elimina espacios al final\n",
    "print (text1.strip() + ' ' + text2.strip()) # texto original con espacios"
   ]
  }
 ],
 "metadata": {
  "kernelspec": {
   "display_name": "Python 3",
   "language": "python",
   "name": "python3"
  },
  "language_info": {
   "codemirror_mode": {
    "name": "ipython",
    "version": 3
   },
   "file_extension": ".py",
   "mimetype": "text/x-python",
   "name": "python",
   "nbconvert_exporter": "python",
   "pygments_lexer": "ipython3",
   "version": "3.11.7"
  }
 },
 "nbformat": 4,
 "nbformat_minor": 2
}
