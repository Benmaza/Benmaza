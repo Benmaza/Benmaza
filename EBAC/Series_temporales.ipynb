{
 "cells": [
  {
   "cell_type": "code",
   "execution_count": 1,
   "id": "969de278",
   "metadata": {},
   "outputs": [
    {
     "name": "stdout",
     "output_type": "stream",
     "text": [
      "Defaulting to user installation because normal site-packages is not writeable\n",
      "Requirement already satisfied: yfinance in c:\\users\\benma\\appdata\\local\\packages\\pythonsoftwarefoundation.python.3.13_qbz5n2kfra8p0\\localcache\\local-packages\\python313\\site-packages (0.2.65)\n",
      "Requirement already satisfied: pandas>=1.3.0 in c:\\users\\benma\\appdata\\local\\packages\\pythonsoftwarefoundation.python.3.13_qbz5n2kfra8p0\\localcache\\local-packages\\python313\\site-packages (from yfinance) (2.3.2)\n",
      "Requirement already satisfied: numpy>=1.16.5 in c:\\users\\benma\\appdata\\local\\packages\\pythonsoftwarefoundation.python.3.13_qbz5n2kfra8p0\\localcache\\local-packages\\python313\\site-packages (from yfinance) (2.3.2)\n",
      "Requirement already satisfied: requests>=2.31 in c:\\users\\benma\\appdata\\local\\packages\\pythonsoftwarefoundation.python.3.13_qbz5n2kfra8p0\\localcache\\local-packages\\python313\\site-packages (from yfinance) (2.32.5)\n",
      "Requirement already satisfied: multitasking>=0.0.7 in c:\\users\\benma\\appdata\\local\\packages\\pythonsoftwarefoundation.python.3.13_qbz5n2kfra8p0\\localcache\\local-packages\\python313\\site-packages (from yfinance) (0.0.12)\n",
      "Requirement already satisfied: platformdirs>=2.0.0 in c:\\users\\benma\\appdata\\local\\packages\\pythonsoftwarefoundation.python.3.13_qbz5n2kfra8p0\\localcache\\local-packages\\python313\\site-packages (from yfinance) (4.3.6)\n",
      "Requirement already satisfied: pytz>=2022.5 in c:\\users\\benma\\appdata\\local\\packages\\pythonsoftwarefoundation.python.3.13_qbz5n2kfra8p0\\localcache\\local-packages\\python313\\site-packages (from yfinance) (2025.2)\n",
      "Requirement already satisfied: frozendict>=2.3.4 in c:\\users\\benma\\appdata\\local\\packages\\pythonsoftwarefoundation.python.3.13_qbz5n2kfra8p0\\localcache\\local-packages\\python313\\site-packages (from yfinance) (2.4.6)\n",
      "Requirement already satisfied: peewee>=3.16.2 in c:\\users\\benma\\appdata\\local\\packages\\pythonsoftwarefoundation.python.3.13_qbz5n2kfra8p0\\localcache\\local-packages\\python313\\site-packages (from yfinance) (3.18.2)\n",
      "Requirement already satisfied: beautifulsoup4>=4.11.1 in c:\\users\\benma\\appdata\\local\\packages\\pythonsoftwarefoundation.python.3.13_qbz5n2kfra8p0\\localcache\\local-packages\\python313\\site-packages (from yfinance) (4.13.4)\n",
      "Requirement already satisfied: curl_cffi>=0.7 in c:\\users\\benma\\appdata\\local\\packages\\pythonsoftwarefoundation.python.3.13_qbz5n2kfra8p0\\localcache\\local-packages\\python313\\site-packages (from yfinance) (0.13.0)\n",
      "Requirement already satisfied: protobuf>=3.19.0 in c:\\users\\benma\\appdata\\local\\packages\\pythonsoftwarefoundation.python.3.13_qbz5n2kfra8p0\\localcache\\local-packages\\python313\\site-packages (from yfinance) (6.32.0)\n",
      "Requirement already satisfied: websockets>=13.0 in c:\\users\\benma\\appdata\\local\\packages\\pythonsoftwarefoundation.python.3.13_qbz5n2kfra8p0\\localcache\\local-packages\\python313\\site-packages (from yfinance) (15.0.1)\n",
      "Requirement already satisfied: soupsieve>1.2 in c:\\users\\benma\\appdata\\local\\packages\\pythonsoftwarefoundation.python.3.13_qbz5n2kfra8p0\\localcache\\local-packages\\python313\\site-packages (from beautifulsoup4>=4.11.1->yfinance) (2.7)\n",
      "Requirement already satisfied: typing-extensions>=4.0.0 in c:\\users\\benma\\appdata\\local\\packages\\pythonsoftwarefoundation.python.3.13_qbz5n2kfra8p0\\localcache\\local-packages\\python313\\site-packages (from beautifulsoup4>=4.11.1->yfinance) (4.14.1)\n",
      "Requirement already satisfied: cffi>=1.12.0 in c:\\users\\benma\\appdata\\local\\packages\\pythonsoftwarefoundation.python.3.13_qbz5n2kfra8p0\\localcache\\local-packages\\python313\\site-packages (from curl_cffi>=0.7->yfinance) (1.17.1)\n",
      "Requirement already satisfied: certifi>=2024.2.2 in c:\\users\\benma\\appdata\\local\\packages\\pythonsoftwarefoundation.python.3.13_qbz5n2kfra8p0\\localcache\\local-packages\\python313\\site-packages (from curl_cffi>=0.7->yfinance) (2025.8.3)\n",
      "Requirement already satisfied: pycparser in c:\\users\\benma\\appdata\\local\\packages\\pythonsoftwarefoundation.python.3.13_qbz5n2kfra8p0\\localcache\\local-packages\\python313\\site-packages (from cffi>=1.12.0->curl_cffi>=0.7->yfinance) (2.22)\n",
      "Requirement already satisfied: python-dateutil>=2.8.2 in c:\\users\\benma\\appdata\\local\\packages\\pythonsoftwarefoundation.python.3.13_qbz5n2kfra8p0\\localcache\\local-packages\\python313\\site-packages (from pandas>=1.3.0->yfinance) (2.9.0.post0)\n",
      "Requirement already satisfied: tzdata>=2022.7 in c:\\users\\benma\\appdata\\local\\packages\\pythonsoftwarefoundation.python.3.13_qbz5n2kfra8p0\\localcache\\local-packages\\python313\\site-packages (from pandas>=1.3.0->yfinance) (2025.2)\n",
      "Requirement already satisfied: six>=1.5 in c:\\users\\benma\\appdata\\local\\packages\\pythonsoftwarefoundation.python.3.13_qbz5n2kfra8p0\\localcache\\local-packages\\python313\\site-packages (from python-dateutil>=2.8.2->pandas>=1.3.0->yfinance) (1.16.0)\n",
      "Requirement already satisfied: charset_normalizer<4,>=2 in c:\\users\\benma\\appdata\\local\\packages\\pythonsoftwarefoundation.python.3.13_qbz5n2kfra8p0\\localcache\\local-packages\\python313\\site-packages (from requests>=2.31->yfinance) (3.4.3)\n",
      "Requirement already satisfied: idna<4,>=2.5 in c:\\users\\benma\\appdata\\local\\packages\\pythonsoftwarefoundation.python.3.13_qbz5n2kfra8p0\\localcache\\local-packages\\python313\\site-packages (from requests>=2.31->yfinance) (3.10)\n",
      "Requirement already satisfied: urllib3<3,>=1.21.1 in c:\\users\\benma\\appdata\\local\\packages\\pythonsoftwarefoundation.python.3.13_qbz5n2kfra8p0\\localcache\\local-packages\\python313\\site-packages (from requests>=2.31->yfinance) (2.5.0)\n",
      "Note: you may need to restart the kernel to use updated packages.\n"
     ]
    }
   ],
   "source": [
    "pip install yfinance"
   ]
  },
  {
   "cell_type": "code",
   "execution_count": 2,
   "id": "ad222edd",
   "metadata": {},
   "outputs": [
    {
     "name": "stdout",
     "output_type": "stream",
     "text": [
      "✅ yfinance ya está disponible\n",
      "✅ matplotlib ya está disponible\n",
      "✅ statsmodels ya está disponible\n",
      "✅ numpy ya está disponible\n",
      "🎉 Todas las librerías importadas correctamente!\n"
     ]
    }
   ],
   "source": [
    "# Instalar librerías si no están disponibles\n",
    "import subprocess\n",
    "import sys\n",
    "\n",
    "def instalar_si_necesario(libreria):\n",
    "    try:\n",
    "        __import__(libreria)\n",
    "        print(f\"✅ {libreria} ya está disponible\")\n",
    "    except ImportError:\n",
    "        print(f\"🔄 Instalando {libreria}...\")\n",
    "        subprocess.check_call([sys.executable, \"-m\", \"pip\", \"install\", libreria])\n",
    "        print(f\"✅ {libreria} instalado correctamente\")\n",
    "\n",
    "# Verificar e instalar librerías necesarias\n",
    "instalar_si_necesario('yfinance')\n",
    "instalar_si_necesario('matplotlib')\n",
    "instalar_si_necesario('statsmodels')\n",
    "instalar_si_necesario('numpy')\n",
    "\n",
    "# Importar todo\n",
    "import yfinance as yf\n",
    "import pandas as pd\n",
    "import warnings\n",
    "import matplotlib.pyplot as plt\n",
    "import statsmodels.api as sm\n",
    "import numpy as np\n",
    "\n",
    "warnings.filterwarnings(\"ignore\")\n",
    "print(\"🎉 Todas las librerías importadas correctamente!\")"
   ]
  },
  {
   "cell_type": "code",
   "execution_count": 3,
   "id": "b3e33f08",
   "metadata": {},
   "outputs": [
    {
     "name": "stderr",
     "output_type": "stream",
     "text": [
      "[*********************100%***********************]  1 of 1 completed\n"
     ]
    }
   ],
   "source": [
    "apple = yf.download(tickers=\"AAPL\",period=\"2y\", interval=\"1mo\", rounding=True)"
   ]
  },
  {
   "cell_type": "code",
   "execution_count": 4,
   "id": "486c9893",
   "metadata": {},
   "outputs": [
    {
     "data": {
      "application/vnd.microsoft.datawrangler.viewer.v0+json": {
       "columns": [
        {
         "name": "Date",
         "rawType": "datetime64[ns]",
         "type": "datetime"
        },
        {
         "name": "('Close', 'AAPL')",
         "rawType": "float64",
         "type": "float"
        },
        {
         "name": "('High', 'AAPL')",
         "rawType": "float64",
         "type": "float"
        },
        {
         "name": "('Low', 'AAPL')",
         "rawType": "float64",
         "type": "float"
        },
        {
         "name": "('Open', 'AAPL')",
         "rawType": "float64",
         "type": "float"
        },
        {
         "name": "('Volume', 'AAPL')",
         "rawType": "int64",
         "type": "integer"
        }
       ],
       "ref": "7d5c08de-2313-4d9d-8fa6-0f57e6eb86ed",
       "rows": [
        [
         "2023-09-01 00:00:00",
         "169.55",
         "188.14",
         "165.99",
         "187.65",
         "1337823000"
        ],
        [
         "2023-10-01 00:00:00",
         "169.11",
         "180.57",
         "164.06",
         "169.56",
         "1172816900"
        ],
        [
         "2023-11-01 00:00:00",
         "188.11",
         "191.06",
         "168.47",
         "169.34",
         "1099651600"
        ],
        [
         "2023-12-01 00:00:00",
         "190.91",
         "197.94",
         "185.88",
         "188.73",
         "1063181200"
        ],
        [
         "2024-01-01 00:00:00",
         "182.85",
         "194.73",
         "178.66",
         "185.58",
         "1187490800"
        ],
        [
         "2024-02-01 00:00:00",
         "179.23",
         "189.45",
         "177.75",
         "182.45",
         "1161553500"
        ],
        [
         "2024-03-01 00:00:00",
         "170.26",
         "179.24",
         "167.29",
         "178.27",
         "1433151800"
        ],
        [
         "2024-04-01 00:00:00",
         "169.12",
         "177.09",
         "162.91",
         "169.97",
         "1246144100"
        ],
        [
         "2024-05-01 00:00:00",
         "190.88",
         "191.62",
         "167.9",
         "168.37",
         "1336511300"
        ],
        [
         "2024-06-01 00:00:00",
         "209.4",
         "218.93",
         "191.04",
         "191.78",
         "1717952100"
        ],
        [
         "2024-07-01 00:00:00",
         "220.8",
         "235.86",
         "210.69",
         "210.86",
         "1153099800"
        ],
        [
         "2024-08-01 00:00:00",
         "227.68",
         "231.57",
         "194.87",
         "223.07",
         "1122667000"
        ],
        [
         "2024-09-01 00:00:00",
         "231.92",
         "232.01",
         "212.93",
         "227.49",
         "1232097700"
        ],
        [
         "2024-10-01 00:00:00",
         "224.86",
         "236.39",
         "220.3",
         "228.46",
         "930736000"
        ],
        [
         "2024-11-01 00:00:00",
         "236.23",
         "236.71",
         "218.69",
         "219.95",
         "891588300"
        ],
        [
         "2024-12-01 00:00:00",
         "249.53",
         "259.18",
         "236.32",
         "236.43",
         "977916100"
        ],
        [
         "2025-01-01 00:00:00",
         "235.17",
         "248.22",
         "218.6",
         "248.05",
         "1200176400"
        ],
        [
         "2025-02-01 00:00:00",
         "240.98",
         "249.12",
         "224.9",
         "229.18",
         "862272300"
        ],
        [
         "2025-03-01 00:00:00",
         "221.59",
         "243.43",
         "207.91",
         "241.2",
         "1115239500"
        ],
        [
         "2025-04-01 00:00:00",
         "211.98",
         "224.64",
         "168.8",
         "219.27",
         "1607318600"
        ],
        [
         "2025-05-01 00:00:00",
         "200.36",
         "214.04",
         "192.78",
         "208.57",
         "1195728200"
        ],
        [
         "2025-06-01 00:00:00",
         "204.94",
         "207.15",
         "194.85",
         "200.05",
         "1100409300"
        ],
        [
         "2025-07-01 00:00:00",
         "207.33",
         "215.98",
         "205.91",
         "206.44",
         "1079935600"
        ],
        [
         "2025-08-01 00:00:00",
         "224.9",
         "235.12",
         "201.5",
         "210.87",
         "1011652868"
        ]
       ],
       "shape": {
        "columns": 5,
        "rows": 24
       }
      },
      "text/html": [
       "<div>\n",
       "<style scoped>\n",
       "    .dataframe tbody tr th:only-of-type {\n",
       "        vertical-align: middle;\n",
       "    }\n",
       "\n",
       "    .dataframe tbody tr th {\n",
       "        vertical-align: top;\n",
       "    }\n",
       "\n",
       "    .dataframe thead tr th {\n",
       "        text-align: left;\n",
       "    }\n",
       "\n",
       "    .dataframe thead tr:last-of-type th {\n",
       "        text-align: right;\n",
       "    }\n",
       "</style>\n",
       "<table border=\"1\" class=\"dataframe\">\n",
       "  <thead>\n",
       "    <tr>\n",
       "      <th>Price</th>\n",
       "      <th>Close</th>\n",
       "      <th>High</th>\n",
       "      <th>Low</th>\n",
       "      <th>Open</th>\n",
       "      <th>Volume</th>\n",
       "    </tr>\n",
       "    <tr>\n",
       "      <th>Ticker</th>\n",
       "      <th>AAPL</th>\n",
       "      <th>AAPL</th>\n",
       "      <th>AAPL</th>\n",
       "      <th>AAPL</th>\n",
       "      <th>AAPL</th>\n",
       "    </tr>\n",
       "    <tr>\n",
       "      <th>Date</th>\n",
       "      <th></th>\n",
       "      <th></th>\n",
       "      <th></th>\n",
       "      <th></th>\n",
       "      <th></th>\n",
       "    </tr>\n",
       "  </thead>\n",
       "  <tbody>\n",
       "    <tr>\n",
       "      <th>2023-09-01</th>\n",
       "      <td>169.55</td>\n",
       "      <td>188.14</td>\n",
       "      <td>165.99</td>\n",
       "      <td>187.65</td>\n",
       "      <td>1337823000</td>\n",
       "    </tr>\n",
       "    <tr>\n",
       "      <th>2023-10-01</th>\n",
       "      <td>169.11</td>\n",
       "      <td>180.57</td>\n",
       "      <td>164.06</td>\n",
       "      <td>169.56</td>\n",
       "      <td>1172816900</td>\n",
       "    </tr>\n",
       "    <tr>\n",
       "      <th>2023-11-01</th>\n",
       "      <td>188.11</td>\n",
       "      <td>191.06</td>\n",
       "      <td>168.47</td>\n",
       "      <td>169.34</td>\n",
       "      <td>1099651600</td>\n",
       "    </tr>\n",
       "    <tr>\n",
       "      <th>2023-12-01</th>\n",
       "      <td>190.91</td>\n",
       "      <td>197.94</td>\n",
       "      <td>185.88</td>\n",
       "      <td>188.73</td>\n",
       "      <td>1063181200</td>\n",
       "    </tr>\n",
       "    <tr>\n",
       "      <th>2024-01-01</th>\n",
       "      <td>182.85</td>\n",
       "      <td>194.73</td>\n",
       "      <td>178.66</td>\n",
       "      <td>185.58</td>\n",
       "      <td>1187490800</td>\n",
       "    </tr>\n",
       "    <tr>\n",
       "      <th>2024-02-01</th>\n",
       "      <td>179.23</td>\n",
       "      <td>189.45</td>\n",
       "      <td>177.75</td>\n",
       "      <td>182.45</td>\n",
       "      <td>1161553500</td>\n",
       "    </tr>\n",
       "    <tr>\n",
       "      <th>2024-03-01</th>\n",
       "      <td>170.26</td>\n",
       "      <td>179.24</td>\n",
       "      <td>167.29</td>\n",
       "      <td>178.27</td>\n",
       "      <td>1433151800</td>\n",
       "    </tr>\n",
       "    <tr>\n",
       "      <th>2024-04-01</th>\n",
       "      <td>169.12</td>\n",
       "      <td>177.09</td>\n",
       "      <td>162.91</td>\n",
       "      <td>169.97</td>\n",
       "      <td>1246144100</td>\n",
       "    </tr>\n",
       "    <tr>\n",
       "      <th>2024-05-01</th>\n",
       "      <td>190.88</td>\n",
       "      <td>191.62</td>\n",
       "      <td>167.90</td>\n",
       "      <td>168.37</td>\n",
       "      <td>1336511300</td>\n",
       "    </tr>\n",
       "    <tr>\n",
       "      <th>2024-06-01</th>\n",
       "      <td>209.40</td>\n",
       "      <td>218.93</td>\n",
       "      <td>191.04</td>\n",
       "      <td>191.78</td>\n",
       "      <td>1717952100</td>\n",
       "    </tr>\n",
       "    <tr>\n",
       "      <th>2024-07-01</th>\n",
       "      <td>220.80</td>\n",
       "      <td>235.86</td>\n",
       "      <td>210.69</td>\n",
       "      <td>210.86</td>\n",
       "      <td>1153099800</td>\n",
       "    </tr>\n",
       "    <tr>\n",
       "      <th>2024-08-01</th>\n",
       "      <td>227.68</td>\n",
       "      <td>231.57</td>\n",
       "      <td>194.87</td>\n",
       "      <td>223.07</td>\n",
       "      <td>1122667000</td>\n",
       "    </tr>\n",
       "    <tr>\n",
       "      <th>2024-09-01</th>\n",
       "      <td>231.92</td>\n",
       "      <td>232.01</td>\n",
       "      <td>212.93</td>\n",
       "      <td>227.49</td>\n",
       "      <td>1232097700</td>\n",
       "    </tr>\n",
       "    <tr>\n",
       "      <th>2024-10-01</th>\n",
       "      <td>224.86</td>\n",
       "      <td>236.39</td>\n",
       "      <td>220.30</td>\n",
       "      <td>228.46</td>\n",
       "      <td>930736000</td>\n",
       "    </tr>\n",
       "    <tr>\n",
       "      <th>2024-11-01</th>\n",
       "      <td>236.23</td>\n",
       "      <td>236.71</td>\n",
       "      <td>218.69</td>\n",
       "      <td>219.95</td>\n",
       "      <td>891588300</td>\n",
       "    </tr>\n",
       "    <tr>\n",
       "      <th>2024-12-01</th>\n",
       "      <td>249.53</td>\n",
       "      <td>259.18</td>\n",
       "      <td>236.32</td>\n",
       "      <td>236.43</td>\n",
       "      <td>977916100</td>\n",
       "    </tr>\n",
       "    <tr>\n",
       "      <th>2025-01-01</th>\n",
       "      <td>235.17</td>\n",
       "      <td>248.22</td>\n",
       "      <td>218.60</td>\n",
       "      <td>248.05</td>\n",
       "      <td>1200176400</td>\n",
       "    </tr>\n",
       "    <tr>\n",
       "      <th>2025-02-01</th>\n",
       "      <td>240.98</td>\n",
       "      <td>249.12</td>\n",
       "      <td>224.90</td>\n",
       "      <td>229.18</td>\n",
       "      <td>862272300</td>\n",
       "    </tr>\n",
       "    <tr>\n",
       "      <th>2025-03-01</th>\n",
       "      <td>221.59</td>\n",
       "      <td>243.43</td>\n",
       "      <td>207.91</td>\n",
       "      <td>241.20</td>\n",
       "      <td>1115239500</td>\n",
       "    </tr>\n",
       "    <tr>\n",
       "      <th>2025-04-01</th>\n",
       "      <td>211.98</td>\n",
       "      <td>224.64</td>\n",
       "      <td>168.80</td>\n",
       "      <td>219.27</td>\n",
       "      <td>1607318600</td>\n",
       "    </tr>\n",
       "    <tr>\n",
       "      <th>2025-05-01</th>\n",
       "      <td>200.36</td>\n",
       "      <td>214.04</td>\n",
       "      <td>192.78</td>\n",
       "      <td>208.57</td>\n",
       "      <td>1195728200</td>\n",
       "    </tr>\n",
       "    <tr>\n",
       "      <th>2025-06-01</th>\n",
       "      <td>204.94</td>\n",
       "      <td>207.15</td>\n",
       "      <td>194.85</td>\n",
       "      <td>200.05</td>\n",
       "      <td>1100409300</td>\n",
       "    </tr>\n",
       "    <tr>\n",
       "      <th>2025-07-01</th>\n",
       "      <td>207.33</td>\n",
       "      <td>215.98</td>\n",
       "      <td>205.91</td>\n",
       "      <td>206.44</td>\n",
       "      <td>1079935600</td>\n",
       "    </tr>\n",
       "    <tr>\n",
       "      <th>2025-08-01</th>\n",
       "      <td>224.90</td>\n",
       "      <td>235.12</td>\n",
       "      <td>201.50</td>\n",
       "      <td>210.87</td>\n",
       "      <td>1011652868</td>\n",
       "    </tr>\n",
       "  </tbody>\n",
       "</table>\n",
       "</div>"
      ],
      "text/plain": [
       "Price        Close    High     Low    Open      Volume\n",
       "Ticker        AAPL    AAPL    AAPL    AAPL        AAPL\n",
       "Date                                                  \n",
       "2023-09-01  169.55  188.14  165.99  187.65  1337823000\n",
       "2023-10-01  169.11  180.57  164.06  169.56  1172816900\n",
       "2023-11-01  188.11  191.06  168.47  169.34  1099651600\n",
       "2023-12-01  190.91  197.94  185.88  188.73  1063181200\n",
       "2024-01-01  182.85  194.73  178.66  185.58  1187490800\n",
       "2024-02-01  179.23  189.45  177.75  182.45  1161553500\n",
       "2024-03-01  170.26  179.24  167.29  178.27  1433151800\n",
       "2024-04-01  169.12  177.09  162.91  169.97  1246144100\n",
       "2024-05-01  190.88  191.62  167.90  168.37  1336511300\n",
       "2024-06-01  209.40  218.93  191.04  191.78  1717952100\n",
       "2024-07-01  220.80  235.86  210.69  210.86  1153099800\n",
       "2024-08-01  227.68  231.57  194.87  223.07  1122667000\n",
       "2024-09-01  231.92  232.01  212.93  227.49  1232097700\n",
       "2024-10-01  224.86  236.39  220.30  228.46   930736000\n",
       "2024-11-01  236.23  236.71  218.69  219.95   891588300\n",
       "2024-12-01  249.53  259.18  236.32  236.43   977916100\n",
       "2025-01-01  235.17  248.22  218.60  248.05  1200176400\n",
       "2025-02-01  240.98  249.12  224.90  229.18   862272300\n",
       "2025-03-01  221.59  243.43  207.91  241.20  1115239500\n",
       "2025-04-01  211.98  224.64  168.80  219.27  1607318600\n",
       "2025-05-01  200.36  214.04  192.78  208.57  1195728200\n",
       "2025-06-01  204.94  207.15  194.85  200.05  1100409300\n",
       "2025-07-01  207.33  215.98  205.91  206.44  1079935600\n",
       "2025-08-01  224.90  235.12  201.50  210.87  1011652868"
      ]
     },
     "execution_count": 4,
     "metadata": {},
     "output_type": "execute_result"
    }
   ],
   "source": [
    "apple"
   ]
  },
  {
   "cell_type": "code",
   "execution_count": 5,
   "id": "c4e66b98",
   "metadata": {},
   "outputs": [
    {
     "name": "stderr",
     "output_type": "stream",
     "text": [
      "[*********************100%***********************]  1 of 1 completed\n"
     ]
    }
   ],
   "source": [
    "# Solución simple: mantener los datos originales y usar copy() para visualización limpia\n",
    "apple = yf.download(tickers=\"AAPL\", period=\"2y\", interval=\"1mo\", rounding=True)"
   ]
  },
  {
   "cell_type": "code",
   "execution_count": 6,
   "id": "c09343a0",
   "metadata": {},
   "outputs": [
    {
     "data": {
      "application/vnd.microsoft.datawrangler.viewer.v0+json": {
       "columns": [
        {
         "name": "Date",
         "rawType": "object",
         "type": "string"
        },
        {
         "name": "('Close', 'AAPL')",
         "rawType": "float64",
         "type": "float"
        },
        {
         "name": "('High', 'AAPL')",
         "rawType": "float64",
         "type": "float"
        },
        {
         "name": "('Low', 'AAPL')",
         "rawType": "float64",
         "type": "float"
        },
        {
         "name": "('Open', 'AAPL')",
         "rawType": "float64",
         "type": "float"
        },
        {
         "name": "('Volume', 'AAPL')",
         "rawType": "int64",
         "type": "integer"
        }
       ],
       "ref": "920321a1-d02d-44e5-ada3-446c2e8e4ccd",
       "rows": [
        [
         "2023-09-01",
         "169.55",
         "188.14",
         "165.99",
         "187.65",
         "1337823000"
        ],
        [
         "2023-10-01",
         "169.11",
         "180.57",
         "164.06",
         "169.56",
         "1172816900"
        ],
        [
         "2023-11-01",
         "188.11",
         "191.06",
         "168.47",
         "169.34",
         "1099651600"
        ],
        [
         "2023-12-01",
         "190.91",
         "197.94",
         "185.88",
         "188.73",
         "1063181200"
        ],
        [
         "2024-01-01",
         "182.85",
         "194.73",
         "178.66",
         "185.58",
         "1187490800"
        ],
        [
         "2024-02-01",
         "179.23",
         "189.45",
         "177.75",
         "182.45",
         "1161553500"
        ],
        [
         "2024-03-01",
         "170.26",
         "179.24",
         "167.29",
         "178.27",
         "1433151800"
        ],
        [
         "2024-04-01",
         "169.12",
         "177.09",
         "162.91",
         "169.97",
         "1246144100"
        ],
        [
         "2024-05-01",
         "190.88",
         "191.62",
         "167.9",
         "168.37",
         "1336511300"
        ],
        [
         "2024-06-01",
         "209.4",
         "218.93",
         "191.04",
         "191.78",
         "1717952100"
        ],
        [
         "2024-07-01",
         "220.8",
         "235.86",
         "210.69",
         "210.86",
         "1153099800"
        ],
        [
         "2024-08-01",
         "227.68",
         "231.57",
         "194.87",
         "223.07",
         "1122667000"
        ],
        [
         "2024-09-01",
         "231.92",
         "232.01",
         "212.93",
         "227.49",
         "1232097700"
        ],
        [
         "2024-10-01",
         "224.86",
         "236.39",
         "220.3",
         "228.46",
         "930736000"
        ],
        [
         "2024-11-01",
         "236.23",
         "236.71",
         "218.69",
         "219.95",
         "891588300"
        ],
        [
         "2024-12-01",
         "249.53",
         "259.18",
         "236.32",
         "236.43",
         "977916100"
        ],
        [
         "2025-01-01",
         "235.17",
         "248.22",
         "218.6",
         "248.05",
         "1200176400"
        ],
        [
         "2025-02-01",
         "240.98",
         "249.12",
         "224.9",
         "229.18",
         "862272300"
        ],
        [
         "2025-03-01",
         "221.59",
         "243.43",
         "207.91",
         "241.2",
         "1115239500"
        ],
        [
         "2025-04-01",
         "211.98",
         "224.64",
         "168.8",
         "219.27",
         "1607318600"
        ],
        [
         "2025-05-01",
         "200.36",
         "214.04",
         "192.78",
         "208.57",
         "1195728200"
        ],
        [
         "2025-06-01",
         "204.94",
         "207.15",
         "194.85",
         "200.05",
         "1100409300"
        ],
        [
         "2025-07-01",
         "207.33",
         "215.98",
         "205.91",
         "206.44",
         "1079935600"
        ],
        [
         "2025-08-01",
         "224.9",
         "235.12",
         "201.5",
         "210.87",
         "1011652868"
        ]
       ],
       "shape": {
        "columns": 5,
        "rows": 24
       }
      },
      "text/html": [
       "<div>\n",
       "<style scoped>\n",
       "    .dataframe tbody tr th:only-of-type {\n",
       "        vertical-align: middle;\n",
       "    }\n",
       "\n",
       "    .dataframe tbody tr th {\n",
       "        vertical-align: top;\n",
       "    }\n",
       "\n",
       "    .dataframe thead tr th {\n",
       "        text-align: left;\n",
       "    }\n",
       "\n",
       "    .dataframe thead tr:last-of-type th {\n",
       "        text-align: right;\n",
       "    }\n",
       "</style>\n",
       "<table border=\"1\" class=\"dataframe\">\n",
       "  <thead>\n",
       "    <tr>\n",
       "      <th>Price</th>\n",
       "      <th>Close</th>\n",
       "      <th>High</th>\n",
       "      <th>Low</th>\n",
       "      <th>Open</th>\n",
       "      <th>Volume</th>\n",
       "    </tr>\n",
       "    <tr>\n",
       "      <th>Ticker</th>\n",
       "      <th>AAPL</th>\n",
       "      <th>AAPL</th>\n",
       "      <th>AAPL</th>\n",
       "      <th>AAPL</th>\n",
       "      <th>AAPL</th>\n",
       "    </tr>\n",
       "    <tr>\n",
       "      <th>Date</th>\n",
       "      <th></th>\n",
       "      <th></th>\n",
       "      <th></th>\n",
       "      <th></th>\n",
       "      <th></th>\n",
       "    </tr>\n",
       "  </thead>\n",
       "  <tbody>\n",
       "    <tr>\n",
       "      <th>2023-09-01</th>\n",
       "      <td>169.55</td>\n",
       "      <td>188.14</td>\n",
       "      <td>165.99</td>\n",
       "      <td>187.65</td>\n",
       "      <td>1337823000</td>\n",
       "    </tr>\n",
       "    <tr>\n",
       "      <th>2023-10-01</th>\n",
       "      <td>169.11</td>\n",
       "      <td>180.57</td>\n",
       "      <td>164.06</td>\n",
       "      <td>169.56</td>\n",
       "      <td>1172816900</td>\n",
       "    </tr>\n",
       "    <tr>\n",
       "      <th>2023-11-01</th>\n",
       "      <td>188.11</td>\n",
       "      <td>191.06</td>\n",
       "      <td>168.47</td>\n",
       "      <td>169.34</td>\n",
       "      <td>1099651600</td>\n",
       "    </tr>\n",
       "    <tr>\n",
       "      <th>2023-12-01</th>\n",
       "      <td>190.91</td>\n",
       "      <td>197.94</td>\n",
       "      <td>185.88</td>\n",
       "      <td>188.73</td>\n",
       "      <td>1063181200</td>\n",
       "    </tr>\n",
       "    <tr>\n",
       "      <th>2024-01-01</th>\n",
       "      <td>182.85</td>\n",
       "      <td>194.73</td>\n",
       "      <td>178.66</td>\n",
       "      <td>185.58</td>\n",
       "      <td>1187490800</td>\n",
       "    </tr>\n",
       "    <tr>\n",
       "      <th>2024-02-01</th>\n",
       "      <td>179.23</td>\n",
       "      <td>189.45</td>\n",
       "      <td>177.75</td>\n",
       "      <td>182.45</td>\n",
       "      <td>1161553500</td>\n",
       "    </tr>\n",
       "    <tr>\n",
       "      <th>2024-03-01</th>\n",
       "      <td>170.26</td>\n",
       "      <td>179.24</td>\n",
       "      <td>167.29</td>\n",
       "      <td>178.27</td>\n",
       "      <td>1433151800</td>\n",
       "    </tr>\n",
       "    <tr>\n",
       "      <th>2024-04-01</th>\n",
       "      <td>169.12</td>\n",
       "      <td>177.09</td>\n",
       "      <td>162.91</td>\n",
       "      <td>169.97</td>\n",
       "      <td>1246144100</td>\n",
       "    </tr>\n",
       "    <tr>\n",
       "      <th>2024-05-01</th>\n",
       "      <td>190.88</td>\n",
       "      <td>191.62</td>\n",
       "      <td>167.90</td>\n",
       "      <td>168.37</td>\n",
       "      <td>1336511300</td>\n",
       "    </tr>\n",
       "    <tr>\n",
       "      <th>2024-06-01</th>\n",
       "      <td>209.40</td>\n",
       "      <td>218.93</td>\n",
       "      <td>191.04</td>\n",
       "      <td>191.78</td>\n",
       "      <td>1717952100</td>\n",
       "    </tr>\n",
       "    <tr>\n",
       "      <th>2024-07-01</th>\n",
       "      <td>220.80</td>\n",
       "      <td>235.86</td>\n",
       "      <td>210.69</td>\n",
       "      <td>210.86</td>\n",
       "      <td>1153099800</td>\n",
       "    </tr>\n",
       "    <tr>\n",
       "      <th>2024-08-01</th>\n",
       "      <td>227.68</td>\n",
       "      <td>231.57</td>\n",
       "      <td>194.87</td>\n",
       "      <td>223.07</td>\n",
       "      <td>1122667000</td>\n",
       "    </tr>\n",
       "    <tr>\n",
       "      <th>2024-09-01</th>\n",
       "      <td>231.92</td>\n",
       "      <td>232.01</td>\n",
       "      <td>212.93</td>\n",
       "      <td>227.49</td>\n",
       "      <td>1232097700</td>\n",
       "    </tr>\n",
       "    <tr>\n",
       "      <th>2024-10-01</th>\n",
       "      <td>224.86</td>\n",
       "      <td>236.39</td>\n",
       "      <td>220.30</td>\n",
       "      <td>228.46</td>\n",
       "      <td>930736000</td>\n",
       "    </tr>\n",
       "    <tr>\n",
       "      <th>2024-11-01</th>\n",
       "      <td>236.23</td>\n",
       "      <td>236.71</td>\n",
       "      <td>218.69</td>\n",
       "      <td>219.95</td>\n",
       "      <td>891588300</td>\n",
       "    </tr>\n",
       "    <tr>\n",
       "      <th>2024-12-01</th>\n",
       "      <td>249.53</td>\n",
       "      <td>259.18</td>\n",
       "      <td>236.32</td>\n",
       "      <td>236.43</td>\n",
       "      <td>977916100</td>\n",
       "    </tr>\n",
       "    <tr>\n",
       "      <th>2025-01-01</th>\n",
       "      <td>235.17</td>\n",
       "      <td>248.22</td>\n",
       "      <td>218.60</td>\n",
       "      <td>248.05</td>\n",
       "      <td>1200176400</td>\n",
       "    </tr>\n",
       "    <tr>\n",
       "      <th>2025-02-01</th>\n",
       "      <td>240.98</td>\n",
       "      <td>249.12</td>\n",
       "      <td>224.90</td>\n",
       "      <td>229.18</td>\n",
       "      <td>862272300</td>\n",
       "    </tr>\n",
       "    <tr>\n",
       "      <th>2025-03-01</th>\n",
       "      <td>221.59</td>\n",
       "      <td>243.43</td>\n",
       "      <td>207.91</td>\n",
       "      <td>241.20</td>\n",
       "      <td>1115239500</td>\n",
       "    </tr>\n",
       "    <tr>\n",
       "      <th>2025-04-01</th>\n",
       "      <td>211.98</td>\n",
       "      <td>224.64</td>\n",
       "      <td>168.80</td>\n",
       "      <td>219.27</td>\n",
       "      <td>1607318600</td>\n",
       "    </tr>\n",
       "    <tr>\n",
       "      <th>2025-05-01</th>\n",
       "      <td>200.36</td>\n",
       "      <td>214.04</td>\n",
       "      <td>192.78</td>\n",
       "      <td>208.57</td>\n",
       "      <td>1195728200</td>\n",
       "    </tr>\n",
       "    <tr>\n",
       "      <th>2025-06-01</th>\n",
       "      <td>204.94</td>\n",
       "      <td>207.15</td>\n",
       "      <td>194.85</td>\n",
       "      <td>200.05</td>\n",
       "      <td>1100409300</td>\n",
       "    </tr>\n",
       "    <tr>\n",
       "      <th>2025-07-01</th>\n",
       "      <td>207.33</td>\n",
       "      <td>215.98</td>\n",
       "      <td>205.91</td>\n",
       "      <td>206.44</td>\n",
       "      <td>1079935600</td>\n",
       "    </tr>\n",
       "    <tr>\n",
       "      <th>2025-08-01</th>\n",
       "      <td>224.90</td>\n",
       "      <td>235.12</td>\n",
       "      <td>201.50</td>\n",
       "      <td>210.87</td>\n",
       "      <td>1011652868</td>\n",
       "    </tr>\n",
       "  </tbody>\n",
       "</table>\n",
       "</div>"
      ],
      "text/plain": [
       "Price        Close    High     Low    Open      Volume\n",
       "Ticker        AAPL    AAPL    AAPL    AAPL        AAPL\n",
       "Date                                                  \n",
       "2023-09-01  169.55  188.14  165.99  187.65  1337823000\n",
       "2023-10-01  169.11  180.57  164.06  169.56  1172816900\n",
       "2023-11-01  188.11  191.06  168.47  169.34  1099651600\n",
       "2023-12-01  190.91  197.94  185.88  188.73  1063181200\n",
       "2024-01-01  182.85  194.73  178.66  185.58  1187490800\n",
       "2024-02-01  179.23  189.45  177.75  182.45  1161553500\n",
       "2024-03-01  170.26  179.24  167.29  178.27  1433151800\n",
       "2024-04-01  169.12  177.09  162.91  169.97  1246144100\n",
       "2024-05-01  190.88  191.62  167.90  168.37  1336511300\n",
       "2024-06-01  209.40  218.93  191.04  191.78  1717952100\n",
       "2024-07-01  220.80  235.86  210.69  210.86  1153099800\n",
       "2024-08-01  227.68  231.57  194.87  223.07  1122667000\n",
       "2024-09-01  231.92  232.01  212.93  227.49  1232097700\n",
       "2024-10-01  224.86  236.39  220.30  228.46   930736000\n",
       "2024-11-01  236.23  236.71  218.69  219.95   891588300\n",
       "2024-12-01  249.53  259.18  236.32  236.43   977916100\n",
       "2025-01-01  235.17  248.22  218.60  248.05  1200176400\n",
       "2025-02-01  240.98  249.12  224.90  229.18   862272300\n",
       "2025-03-01  221.59  243.43  207.91  241.20  1115239500\n",
       "2025-04-01  211.98  224.64  168.80  219.27  1607318600\n",
       "2025-05-01  200.36  214.04  192.78  208.57  1195728200\n",
       "2025-06-01  204.94  207.15  194.85  200.05  1100409300\n",
       "2025-07-01  207.33  215.98  205.91  206.44  1079935600\n",
       "2025-08-01  224.90  235.12  201.50  210.87  1011652868"
      ]
     },
     "execution_count": 6,
     "metadata": {},
     "output_type": "execute_result"
    }
   ],
   "source": [
    "# Función para mostrar DataFrame con fechas limpias\n",
    "def mostrar_fecha_limpia(df):\n",
    "    \"\"\"Función que siempre muestra el DataFrame con fechas en formato YYYY-MM-DD\"\"\"\n",
    "    df_display = df.copy()\n",
    "    if hasattr(df_display.index, 'strftime'):\n",
    "        df_display.index = df_display.index.strftime('%Y-%m-%d')\n",
    "    return df_display\n",
    "\n",
    "# Ahora siempre puedes usar esta función para ver fechas limpias\n",
    "mostrar_fecha_limpia(apple)"
   ]
  },
  {
   "cell_type": "code",
   "execution_count": 7,
   "id": "c7a4dd31",
   "metadata": {},
   "outputs": [
    {
     "data": {
      "application/vnd.microsoft.datawrangler.viewer.v0+json": {
       "columns": [
        {
         "name": "Date",
         "rawType": "datetime64[ns]",
         "type": "datetime"
        },
        {
         "name": "AAPL",
         "rawType": "float64",
         "type": "float"
        }
       ],
       "ref": "494a3613-ff64-48c2-aa91-614e3e3c83fa",
       "rows": [
        [
         "2023-09-01 00:00:00",
         "169.55"
        ],
        [
         "2023-10-01 00:00:00",
         "169.11"
        ],
        [
         "2023-11-01 00:00:00",
         "188.11"
        ],
        [
         "2023-12-01 00:00:00",
         "190.91"
        ],
        [
         "2024-01-01 00:00:00",
         "182.85"
        ],
        [
         "2024-02-01 00:00:00",
         "179.23"
        ],
        [
         "2024-03-01 00:00:00",
         "170.26"
        ],
        [
         "2024-04-01 00:00:00",
         "169.12"
        ],
        [
         "2024-05-01 00:00:00",
         "190.88"
        ],
        [
         "2024-06-01 00:00:00",
         "209.4"
        ],
        [
         "2024-07-01 00:00:00",
         "220.8"
        ],
        [
         "2024-08-01 00:00:00",
         "227.68"
        ],
        [
         "2024-09-01 00:00:00",
         "231.92"
        ],
        [
         "2024-10-01 00:00:00",
         "224.86"
        ],
        [
         "2024-11-01 00:00:00",
         "236.23"
        ],
        [
         "2024-12-01 00:00:00",
         "249.53"
        ],
        [
         "2025-01-01 00:00:00",
         "235.17"
        ],
        [
         "2025-02-01 00:00:00",
         "240.98"
        ],
        [
         "2025-03-01 00:00:00",
         "221.59"
        ],
        [
         "2025-04-01 00:00:00",
         "211.98"
        ],
        [
         "2025-05-01 00:00:00",
         "200.36"
        ],
        [
         "2025-06-01 00:00:00",
         "204.94"
        ],
        [
         "2025-07-01 00:00:00",
         "207.33"
        ],
        [
         "2025-08-01 00:00:00",
         "224.9"
        ]
       ],
       "shape": {
        "columns": 1,
        "rows": 24
       }
      },
      "text/html": [
       "<div>\n",
       "<style scoped>\n",
       "    .dataframe tbody tr th:only-of-type {\n",
       "        vertical-align: middle;\n",
       "    }\n",
       "\n",
       "    .dataframe tbody tr th {\n",
       "        vertical-align: top;\n",
       "    }\n",
       "\n",
       "    .dataframe thead th {\n",
       "        text-align: right;\n",
       "    }\n",
       "</style>\n",
       "<table border=\"1\" class=\"dataframe\">\n",
       "  <thead>\n",
       "    <tr style=\"text-align: right;\">\n",
       "      <th>Ticker</th>\n",
       "      <th>AAPL</th>\n",
       "    </tr>\n",
       "    <tr>\n",
       "      <th>Date</th>\n",
       "      <th></th>\n",
       "    </tr>\n",
       "  </thead>\n",
       "  <tbody>\n",
       "    <tr>\n",
       "      <th>2023-09-01</th>\n",
       "      <td>169.55</td>\n",
       "    </tr>\n",
       "    <tr>\n",
       "      <th>2023-10-01</th>\n",
       "      <td>169.11</td>\n",
       "    </tr>\n",
       "    <tr>\n",
       "      <th>2023-11-01</th>\n",
       "      <td>188.11</td>\n",
       "    </tr>\n",
       "    <tr>\n",
       "      <th>2023-12-01</th>\n",
       "      <td>190.91</td>\n",
       "    </tr>\n",
       "    <tr>\n",
       "      <th>2024-01-01</th>\n",
       "      <td>182.85</td>\n",
       "    </tr>\n",
       "    <tr>\n",
       "      <th>2024-02-01</th>\n",
       "      <td>179.23</td>\n",
       "    </tr>\n",
       "    <tr>\n",
       "      <th>2024-03-01</th>\n",
       "      <td>170.26</td>\n",
       "    </tr>\n",
       "    <tr>\n",
       "      <th>2024-04-01</th>\n",
       "      <td>169.12</td>\n",
       "    </tr>\n",
       "    <tr>\n",
       "      <th>2024-05-01</th>\n",
       "      <td>190.88</td>\n",
       "    </tr>\n",
       "    <tr>\n",
       "      <th>2024-06-01</th>\n",
       "      <td>209.40</td>\n",
       "    </tr>\n",
       "    <tr>\n",
       "      <th>2024-07-01</th>\n",
       "      <td>220.80</td>\n",
       "    </tr>\n",
       "    <tr>\n",
       "      <th>2024-08-01</th>\n",
       "      <td>227.68</td>\n",
       "    </tr>\n",
       "    <tr>\n",
       "      <th>2024-09-01</th>\n",
       "      <td>231.92</td>\n",
       "    </tr>\n",
       "    <tr>\n",
       "      <th>2024-10-01</th>\n",
       "      <td>224.86</td>\n",
       "    </tr>\n",
       "    <tr>\n",
       "      <th>2024-11-01</th>\n",
       "      <td>236.23</td>\n",
       "    </tr>\n",
       "    <tr>\n",
       "      <th>2024-12-01</th>\n",
       "      <td>249.53</td>\n",
       "    </tr>\n",
       "    <tr>\n",
       "      <th>2025-01-01</th>\n",
       "      <td>235.17</td>\n",
       "    </tr>\n",
       "    <tr>\n",
       "      <th>2025-02-01</th>\n",
       "      <td>240.98</td>\n",
       "    </tr>\n",
       "    <tr>\n",
       "      <th>2025-03-01</th>\n",
       "      <td>221.59</td>\n",
       "    </tr>\n",
       "    <tr>\n",
       "      <th>2025-04-01</th>\n",
       "      <td>211.98</td>\n",
       "    </tr>\n",
       "    <tr>\n",
       "      <th>2025-05-01</th>\n",
       "      <td>200.36</td>\n",
       "    </tr>\n",
       "    <tr>\n",
       "      <th>2025-06-01</th>\n",
       "      <td>204.94</td>\n",
       "    </tr>\n",
       "    <tr>\n",
       "      <th>2025-07-01</th>\n",
       "      <td>207.33</td>\n",
       "    </tr>\n",
       "    <tr>\n",
       "      <th>2025-08-01</th>\n",
       "      <td>224.90</td>\n",
       "    </tr>\n",
       "  </tbody>\n",
       "</table>\n",
       "</div>"
      ],
      "text/plain": [
       "Ticker        AAPL\n",
       "Date              \n",
       "2023-09-01  169.55\n",
       "2023-10-01  169.11\n",
       "2023-11-01  188.11\n",
       "2023-12-01  190.91\n",
       "2024-01-01  182.85\n",
       "2024-02-01  179.23\n",
       "2024-03-01  170.26\n",
       "2024-04-01  169.12\n",
       "2024-05-01  190.88\n",
       "2024-06-01  209.40\n",
       "2024-07-01  220.80\n",
       "2024-08-01  227.68\n",
       "2024-09-01  231.92\n",
       "2024-10-01  224.86\n",
       "2024-11-01  236.23\n",
       "2024-12-01  249.53\n",
       "2025-01-01  235.17\n",
       "2025-02-01  240.98\n",
       "2025-03-01  221.59\n",
       "2025-04-01  211.98\n",
       "2025-05-01  200.36\n",
       "2025-06-01  204.94\n",
       "2025-07-01  207.33\n",
       "2025-08-01  224.90"
      ]
     },
     "execution_count": 7,
     "metadata": {},
     "output_type": "execute_result"
    }
   ],
   "source": [
    "apple = apple['Close']\n",
    "apple"
   ]
  },
  {
   "cell_type": "code",
   "execution_count": 8,
   "id": "e60590c7",
   "metadata": {},
   "outputs": [],
   "source": [
    "apple.index = pd.to_datetime(apple.index, format='%Y-%m-%d')\n",
    "apple2024 = apple[apple.index.year == 2024]"
   ]
  },
  {
   "cell_type": "code",
   "execution_count": 9,
   "id": "11be0bda",
   "metadata": {},
   "outputs": [
    {
     "data": {
      "text/plain": [
       "<Axes: xlabel='Date'>"
      ]
     },
     "execution_count": 9,
     "metadata": {},
     "output_type": "execute_result"
    },
    {
     "data": {
      "image/png": "[encoded data removed]",
      "text/plain": [
       "<Figure size 640x480 with 1 Axes>"
      ]
     },
     "metadata": {},
     "output_type": "display_data"
    }
   ],
   "source": [
    "apple2024.plot(grid=True)"
   ]
  },
  {
   "cell_type": "code",
   "execution_count": 10,
   "id": "b433df26",
   "metadata": {},
   "outputs": [
    {
     "data": {
      "application/vnd.microsoft.datawrangler.viewer.v0+json": {
       "columns": [
        {
         "name": "Date",
         "rawType": "datetime64[ns]",
         "type": "datetime"
        },
        {
         "name": "AAPL",
         "rawType": "float64",
         "type": "float"
        }
       ],
       "ref": "02d8679d-38d4-49f9-ac80-f5e9348be9df",
       "rows": [
        [
         "2023-09-01 00:00:00",
         null
        ],
        [
         "2023-10-01 00:00:00",
         "-0.002595104688882355"
        ],
        [
         "2023-11-01 00:00:00",
         "0.11235290639228901"
        ],
        [
         "2023-12-01 00:00:00",
         "0.014884907766732125"
        ],
        [
         "2024-01-01 00:00:00",
         "-0.0422188465769211"
        ],
        [
         "2024-02-01 00:00:00",
         "-0.019797648345638574"
        ],
        [
         "2024-03-01 00:00:00",
         "-0.050047425096245046"
        ],
        [
         "2024-04-01 00:00:00",
         "-0.0066956419593562355"
        ],
        [
         "2024-05-01 00:00:00",
         "0.12866603595080406"
        ],
        [
         "2024-06-01 00:00:00",
         "0.09702430846605203"
        ],
        [
         "2024-07-01 00:00:00",
         "0.05444126074498579"
        ],
        [
         "2024-08-01 00:00:00",
         "0.031159420289855078"
        ],
        [
         "2024-09-01 00:00:00",
         "0.018622628250175577"
        ],
        [
         "2024-10-01 00:00:00",
         "-0.03044153156260765"
        ],
        [
         "2024-11-01 00:00:00",
         "0.05056479587298757"
        ],
        [
         "2024-12-01 00:00:00",
         "0.05630106252381162"
        ],
        [
         "2025-01-01 00:00:00",
         "-0.057548190598324944"
        ],
        [
         "2025-02-01 00:00:00",
         "0.024705532168218802"
        ],
        [
         "2025-03-01 00:00:00",
         "-0.08046310897169884"
        ],
        [
         "2025-04-01 00:00:00",
         "-0.04336838304977664"
        ],
        [
         "2025-05-01 00:00:00",
         "-0.05481649212189821"
        ],
        [
         "2025-06-01 00:00:00",
         "0.022858854062687062"
        ],
        [
         "2025-07-01 00:00:00",
         "0.011661949838977392"
        ],
        [
         "2025-08-01 00:00:00",
         "0.08474412771909523"
        ]
       ],
       "shape": {
        "columns": 1,
        "rows": 24
       }
      },
      "text/html": [
       "<div>\n",
       "<style scoped>\n",
       "    .dataframe tbody tr th:only-of-type {\n",
       "        vertical-align: middle;\n",
       "    }\n",
       "\n",
       "    .dataframe tbody tr th {\n",
       "        vertical-align: top;\n",
       "    }\n",
       "\n",
       "    .dataframe thead th {\n",
       "        text-align: right;\n",
       "    }\n",
       "</style>\n",
       "<table border=\"1\" class=\"dataframe\">\n",
       "  <thead>\n",
       "    <tr style=\"text-align: right;\">\n",
       "      <th>Ticker</th>\n",
       "      <th>AAPL</th>\n",
       "    </tr>\n",
       "    <tr>\n",
       "      <th>Date</th>\n",
       "      <th></th>\n",
       "    </tr>\n",
       "  </thead>\n",
       "  <tbody>\n",
       "    <tr>\n",
       "      <th>2023-09-01</th>\n",
       "      <td>NaN</td>\n",
       "    </tr>\n",
       "    <tr>\n",
       "      <th>2023-10-01</th>\n",
       "      <td>-0.002595</td>\n",
       "    </tr>\n",
       "    <tr>\n",
       "      <th>2023-11-01</th>\n",
       "      <td>0.112353</td>\n",
       "    </tr>\n",
       "    <tr>\n",
       "      <th>2023-12-01</th>\n",
       "      <td>0.014885</td>\n",
       "    </tr>\n",
       "    <tr>\n",
       "      <th>2024-01-01</th>\n",
       "      <td>-0.042219</td>\n",
       "    </tr>\n",
       "    <tr>\n",
       "      <th>2024-02-01</th>\n",
       "      <td>-0.019798</td>\n",
       "    </tr>\n",
       "    <tr>\n",
       "      <th>2024-03-01</th>\n",
       "      <td>-0.050047</td>\n",
       "    </tr>\n",
       "    <tr>\n",
       "      <th>2024-04-01</th>\n",
       "      <td>-0.006696</td>\n",
       "    </tr>\n",
       "    <tr>\n",
       "      <th>2024-05-01</th>\n",
       "      <td>0.128666</td>\n",
       "    </tr>\n",
       "    <tr>\n",
       "      <th>2024-06-01</th>\n",
       "      <td>0.097024</td>\n",
       "    </tr>\n",
       "    <tr>\n",
       "      <th>2024-07-01</th>\n",
       "      <td>0.054441</td>\n",
       "    </tr>\n",
       "    <tr>\n",
       "      <th>2024-08-01</th>\n",
       "      <td>0.031159</td>\n",
       "    </tr>\n",
       "    <tr>\n",
       "      <th>2024-09-01</th>\n",
       "      <td>0.018623</td>\n",
       "    </tr>\n",
       "    <tr>\n",
       "      <th>2024-10-01</th>\n",
       "      <td>-0.030442</td>\n",
       "    </tr>\n",
       "    <tr>\n",
       "      <th>2024-11-01</th>\n",
       "      <td>0.050565</td>\n",
       "    </tr>\n",
       "    <tr>\n",
       "      <th>2024-12-01</th>\n",
       "      <td>0.056301</td>\n",
       "    </tr>\n",
       "    <tr>\n",
       "      <th>2025-01-01</th>\n",
       "      <td>-0.057548</td>\n",
       "    </tr>\n",
       "    <tr>\n",
       "      <th>2025-02-01</th>\n",
       "      <td>0.024706</td>\n",
       "    </tr>\n",
       "    <tr>\n",
       "      <th>2025-03-01</th>\n",
       "      <td>-0.080463</td>\n",
       "    </tr>\n",
       "    <tr>\n",
       "      <th>2025-04-01</th>\n",
       "      <td>-0.043368</td>\n",
       "    </tr>\n",
       "    <tr>\n",
       "      <th>2025-05-01</th>\n",
       "      <td>-0.054816</td>\n",
       "    </tr>\n",
       "    <tr>\n",
       "      <th>2025-06-01</th>\n",
       "      <td>0.022859</td>\n",
       "    </tr>\n",
       "    <tr>\n",
       "      <th>2025-07-01</th>\n",
       "      <td>0.011662</td>\n",
       "    </tr>\n",
       "    <tr>\n",
       "      <th>2025-08-01</th>\n",
       "      <td>0.084744</td>\n",
       "    </tr>\n",
       "  </tbody>\n",
       "</table>\n",
       "</div>"
      ],
      "text/plain": [
       "Ticker          AAPL\n",
       "Date                \n",
       "2023-09-01       NaN\n",
       "2023-10-01 -0.002595\n",
       "2023-11-01  0.112353\n",
       "2023-12-01  0.014885\n",
       "2024-01-01 -0.042219\n",
       "2024-02-01 -0.019798\n",
       "2024-03-01 -0.050047\n",
       "2024-04-01 -0.006696\n",
       "2024-05-01  0.128666\n",
       "2024-06-01  0.097024\n",
       "2024-07-01  0.054441\n",
       "2024-08-01  0.031159\n",
       "2024-09-01  0.018623\n",
       "2024-10-01 -0.030442\n",
       "2024-11-01  0.050565\n",
       "2024-12-01  0.056301\n",
       "2025-01-01 -0.057548\n",
       "2025-02-01  0.024706\n",
       "2025-03-01 -0.080463\n",
       "2025-04-01 -0.043368\n",
       "2025-05-01 -0.054816\n",
       "2025-06-01  0.022859\n",
       "2025-07-01  0.011662\n",
       "2025-08-01  0.084744"
      ]
     },
     "execution_count": 10,
     "metadata": {},
     "output_type": "execute_result"
    }
   ],
   "source": [
    "rendimientos = apple.pct_change()\n",
    "rendimientos"
   ]
  },
  {
   "cell_type": "code",
   "execution_count": 11,
   "id": "149b6815",
   "metadata": {},
   "outputs": [
    {
     "name": "stderr",
     "output_type": "stream",
     "text": [
      "[*********************100%***********************]  2 of 2 completed\n"
     ]
    },
    {
     "data": {
      "application/vnd.microsoft.datawrangler.viewer.v0+json": {
       "columns": [
        {
         "name": "Date",
         "rawType": "datetime64[ns]",
         "type": "datetime"
        },
        {
         "name": "('Close', 'AAPL')",
         "rawType": "float64",
         "type": "float"
        },
        {
         "name": "('Close', 'MSFT')",
         "rawType": "float64",
         "type": "float"
        },
        {
         "name": "('High', 'AAPL')",
         "rawType": "float64",
         "type": "float"
        },
        {
         "name": "('High', 'MSFT')",
         "rawType": "float64",
         "type": "float"
        },
        {
         "name": "('Low', 'AAPL')",
         "rawType": "float64",
         "type": "float"
        },
        {
         "name": "('Low', 'MSFT')",
         "rawType": "float64",
         "type": "float"
        },
        {
         "name": "('Open', 'AAPL')",
         "rawType": "float64",
         "type": "float"
        },
        {
         "name": "('Open', 'MSFT')",
         "rawType": "float64",
         "type": "float"
        },
        {
         "name": "('Volume', 'AAPL')",
         "rawType": "int64",
         "type": "integer"
        },
        {
         "name": "('Volume', 'MSFT')",
         "rawType": "int64",
         "type": "integer"
        }
       ],
       "ref": "8fb2925c-1863-4db1-85f9-c1666a2203c3",
       "rows": [
        [
         "2023-09-01 00:00:00",
         "169.55",
         "311.57",
         "188.14",
         "336.35",
         "165.99",
         "305.36",
         "187.65",
         "326.93",
         "1337823000",
         "416742300"
        ],
        [
         "2023-10-01 00:00:00",
         "169.11",
         "333.64",
         "180.57",
         "341.62",
         "164.06",
         "307.09",
         "169.56",
         "312.1",
         "1172816900",
         "540950200"
        ],
        [
         "2023-11-01 00:00:00",
         "188.11",
         "373.9",
         "191.06",
         "379.22",
         "168.47",
         "335.16",
         "169.34",
         "335.3",
         "1099651600",
         "563894000"
        ],
        [
         "2023-12-01 00:00:00",
         "190.91",
         "371.82",
         "197.94",
         "373.92",
         "185.88",
         "358.83",
         "188.73",
         "372.53",
         "1063181200",
         "522081700"
        ],
        [
         "2024-01-01 00:00:00",
         "182.85",
         "393.12",
         "194.73",
         "410.66",
         "178.66",
         "362.39",
         "185.58",
         "369.66",
         "1187490800",
         "528491200"
        ],
        [
         "2024-02-01 00:00:00",
         "179.23",
         "409.0",
         "189.45",
         "416.1",
         "177.75",
         "392.76",
         "182.45",
         "397.32",
         "1161553500",
         "444091200"
        ],
        [
         "2024-03-01 00:00:00",
         "170.26",
         "416.77",
         "179.24",
         "426.77",
         "167.29",
         "394.65",
         "178.27",
         "407.41",
         "1433151800",
         "426445300"
        ],
        [
         "2024-04-01 00:00:00",
         "169.12",
         "385.67",
         "177.09",
         "425.34",
         "162.91",
         "384.38",
         "169.97",
         "419.97",
         "1246144100",
         "441083800"
        ],
        [
         "2024-05-01 00:00:00",
         "190.88",
         "411.23",
         "191.62",
         "429.53",
         "167.9",
         "386.64",
         "168.37",
         "388.92",
         "1336511300",
         "413780000"
        ],
        [
         "2024-06-01 00:00:00",
         "209.4",
         "443.55",
         "218.93",
         "452.7",
         "191.04",
         "405.81",
         "191.78",
         "412.37",
         "1717952100",
         "341717100"
        ],
        [
         "2024-07-01 00:00:00",
         "220.8",
         "415.17",
         "235.86",
         "464.79",
         "210.69",
         "409.07",
         "210.86",
         "445.25",
         "1153099800",
         "440449200"
        ],
        [
         "2024-08-01 00:00:00",
         "227.68",
         "413.97",
         "231.57",
         "424.21",
         "194.87",
         "382.65",
         "223.07",
         "417.59",
         "1122667000",
         "451919000"
        ],
        [
         "2024-09-01 00:00:00",
         "231.92",
         "427.8",
         "232.01",
         "439.28",
         "212.93",
         "398.47",
         "227.49",
         "415.48",
         "1232097700",
         "376898100"
        ],
        [
         "2024-10-01 00:00:00",
         "224.86",
         "403.99",
         "236.39",
         "435.95",
         "220.3",
         "403.94",
         "228.46",
         "425.96",
         "930736000",
         "440745500"
        ],
        [
         "2024-11-01 00:00:00",
         "236.23",
         "421.0",
         "236.71",
         "426.83",
         "218.69",
         "403.21",
         "219.95",
         "406.63",
         "891588300",
         "442306200"
        ],
        [
         "2024-12-01 00:00:00",
         "249.53",
         "419.89",
         "259.18",
         "454.41",
         "236.32",
         "419.05",
         "236.43",
         "419.96",
         "977916100",
         "439902400"
        ],
        [
         "2025-01-01 00:00:00",
         "235.17",
         "413.47",
         "248.22",
         "446.66",
         "218.6",
         "409.15",
         "248.05",
         "423.9",
         "1200176400",
         "462501200"
        ],
        [
         "2025-02-01 00:00:00",
         "240.98",
         "395.47",
         "249.12",
         "417.7",
         "224.9",
         "385.09",
         "229.18",
         "410.02",
         "862272300",
         "432448900"
        ],
        [
         "2025-03-01 00:00:00",
         "221.59",
         "374.7",
         "243.43",
         "401.41",
         "207.91",
         "366.57",
         "241.2",
         "398.09",
         "1115239500",
         "491786600"
        ],
        [
         "2025-04-01 00:00:00",
         "211.98",
         "394.54",
         "224.64",
         "395.93",
         "168.8",
         "344.16",
         "219.27",
         "373.96",
         "1607318600",
         "563144100"
        ],
        [
         "2025-05-01 00:00:00",
         "200.36",
         "459.52",
         "214.04",
         "461.67",
         "192.78",
         "424.12",
         "208.57",
         "430.32",
         "1195728200",
         "476942400"
        ],
        [
         "2025-06-01 00:00:00",
         "204.94",
         "497.41",
         "207.15",
         "500.76",
         "194.85",
         "456.89",
         "200.05",
         "457.14",
         "1100409300",
         "401255100"
        ],
        [
         "2025-07-01 00:00:00",
         "207.33",
         "533.5",
         "215.98",
         "555.45",
         "205.91",
         "488.7",
         "206.44",
         "496.47",
         "1079935600",
         "396881900"
        ],
        [
         "2025-08-01 00:00:00",
         "224.9",
         "504.24",
         "235.12",
         "538.25",
         "201.5",
         "502.72",
         "210.87",
         "535.0",
         "1011652868",
         "339974295"
        ]
       ],
       "shape": {
        "columns": 10,
        "rows": 24
       }
      },
      "text/html": [
       "<div>\n",
       "<style scoped>\n",
       "    .dataframe tbody tr th:only-of-type {\n",
       "        vertical-align: middle;\n",
       "    }\n",
       "\n",
       "    .dataframe tbody tr th {\n",
       "        vertical-align: top;\n",
       "    }\n",
       "\n",
       "    .dataframe thead tr th {\n",
       "        text-align: left;\n",
       "    }\n",
       "\n",
       "    .dataframe thead tr:last-of-type th {\n",
       "        text-align: right;\n",
       "    }\n",
       "</style>\n",
       "<table border=\"1\" class=\"dataframe\">\n",
       "  <thead>\n",
       "    <tr>\n",
       "      <th>Price</th>\n",
       "      <th colspan=\"2\" halign=\"left\">Close</th>\n",
       "      <th colspan=\"2\" halign=\"left\">High</th>\n",
       "      <th colspan=\"2\" halign=\"left\">Low</th>\n",
       "      <th colspan=\"2\" halign=\"left\">Open</th>\n",
       "      <th colspan=\"2\" halign=\"left\">Volume</th>\n",
       "    </tr>\n",
       "    <tr>\n",
       "      <th>Ticker</th>\n",
       "      <th>AAPL</th>\n",
       "      <th>MSFT</th>\n",
       "      <th>AAPL</th>\n",
       "      <th>MSFT</th>\n",
       "      <th>AAPL</th>\n",
       "      <th>MSFT</th>\n",
       "      <th>AAPL</th>\n",
       "      <th>MSFT</th>\n",
       "      <th>AAPL</th>\n",
       "      <th>MSFT</th>\n",
       "    </tr>\n",
       "    <tr>\n",
       "      <th>Date</th>\n",
       "      <th></th>\n",
       "      <th></th>\n",
       "      <th></th>\n",
       "      <th></th>\n",
       "      <th></th>\n",
       "      <th></th>\n",
       "      <th></th>\n",
       "      <th></th>\n",
       "      <th></th>\n",
       "      <th></th>\n",
       "    </tr>\n",
       "  </thead>\n",
       "  <tbody>\n",
       "    <tr>\n",
       "      <th>2023-09-01</th>\n",
       "      <td>169.55</td>\n",
       "      <td>311.57</td>\n",
       "      <td>188.14</td>\n",
       "      <td>336.35</td>\n",
       "      <td>165.99</td>\n",
       "      <td>305.36</td>\n",
       "      <td>187.65</td>\n",
       "      <td>326.93</td>\n",
       "      <td>1337823000</td>\n",
       "      <td>416742300</td>\n",
       "    </tr>\n",
       "    <tr>\n",
       "      <th>2023-10-01</th>\n",
       "      <td>169.11</td>\n",
       "      <td>333.64</td>\n",
       "      <td>180.57</td>\n",
       "      <td>341.62</td>\n",
       "      <td>164.06</td>\n",
       "      <td>307.09</td>\n",
       "      <td>169.56</td>\n",
       "      <td>312.10</td>\n",
       "      <td>1172816900</td>\n",
       "      <td>540950200</td>\n",
       "    </tr>\n",
       "    <tr>\n",
       "      <th>2023-11-01</th>\n",
       "      <td>188.11</td>\n",
       "      <td>373.90</td>\n",
       "      <td>191.06</td>\n",
       "      <td>379.22</td>\n",
       "      <td>168.47</td>\n",
       "      <td>335.16</td>\n",
       "      <td>169.34</td>\n",
       "      <td>335.30</td>\n",
       "      <td>1099651600</td>\n",
       "      <td>563894000</td>\n",
       "    </tr>\n",
       "    <tr>\n",
       "      <th>2023-12-01</th>\n",
       "      <td>190.91</td>\n",
       "      <td>371.82</td>\n",
       "      <td>197.94</td>\n",
       "      <td>373.92</td>\n",
       "      <td>185.88</td>\n",
       "      <td>358.83</td>\n",
       "      <td>188.73</td>\n",
       "      <td>372.53</td>\n",
       "      <td>1063181200</td>\n",
       "      <td>522081700</td>\n",
       "    </tr>\n",
       "    <tr>\n",
       "      <th>2024-01-01</th>\n",
       "      <td>182.85</td>\n",
       "      <td>393.12</td>\n",
       "      <td>194.73</td>\n",
       "      <td>410.66</td>\n",
       "      <td>178.66</td>\n",
       "      <td>362.39</td>\n",
       "      <td>185.58</td>\n",
       "      <td>369.66</td>\n",
       "      <td>1187490800</td>\n",
       "      <td>528491200</td>\n",
       "    </tr>\n",
       "    <tr>\n",
       "      <th>2024-02-01</th>\n",
       "      <td>179.23</td>\n",
       "      <td>409.00</td>\n",
       "      <td>189.45</td>\n",
       "      <td>416.10</td>\n",
       "      <td>177.75</td>\n",
       "      <td>392.76</td>\n",
       "      <td>182.45</td>\n",
       "      <td>397.32</td>\n",
       "      <td>1161553500</td>\n",
       "      <td>444091200</td>\n",
       "    </tr>\n",
       "    <tr>\n",
       "      <th>2024-03-01</th>\n",
       "      <td>170.26</td>\n",
       "      <td>416.77</td>\n",
       "      <td>179.24</td>\n",
       "      <td>426.77</td>\n",
       "      <td>167.29</td>\n",
       "      <td>394.65</td>\n",
       "      <td>178.27</td>\n",
       "      <td>407.41</td>\n",
       "      <td>1433151800</td>\n",
       "      <td>426445300</td>\n",
       "    </tr>\n",
       "    <tr>\n",
       "      <th>2024-04-01</th>\n",
       "      <td>169.12</td>\n",
       "      <td>385.67</td>\n",
       "      <td>177.09</td>\n",
       "      <td>425.34</td>\n",
       "      <td>162.91</td>\n",
       "      <td>384.38</td>\n",
       "      <td>169.97</td>\n",
       "      <td>419.97</td>\n",
       "      <td>1246144100</td>\n",
       "      <td>441083800</td>\n",
       "    </tr>\n",
       "    <tr>\n",
       "      <th>2024-05-01</th>\n",
       "      <td>190.88</td>\n",
       "      <td>411.23</td>\n",
       "      <td>191.62</td>\n",
       "      <td>429.53</td>\n",
       "      <td>167.90</td>\n",
       "      <td>386.64</td>\n",
       "      <td>168.37</td>\n",
       "      <td>388.92</td>\n",
       "      <td>1336511300</td>\n",
       "      <td>413780000</td>\n",
       "    </tr>\n",
       "    <tr>\n",
       "      <th>2024-06-01</th>\n",
       "      <td>209.40</td>\n",
       "      <td>443.55</td>\n",
       "      <td>218.93</td>\n",
       "      <td>452.70</td>\n",
       "      <td>191.04</td>\n",
       "      <td>405.81</td>\n",
       "      <td>191.78</td>\n",
       "      <td>412.37</td>\n",
       "      <td>1717952100</td>\n",
       "      <td>341717100</td>\n",
       "    </tr>\n",
       "    <tr>\n",
       "      <th>2024-07-01</th>\n",
       "      <td>220.80</td>\n",
       "      <td>415.17</td>\n",
       "      <td>235.86</td>\n",
       "      <td>464.79</td>\n",
       "      <td>210.69</td>\n",
       "      <td>409.07</td>\n",
       "      <td>210.86</td>\n",
       "      <td>445.25</td>\n",
       "      <td>1153099800</td>\n",
       "      <td>440449200</td>\n",
       "    </tr>\n",
       "    <tr>\n",
       "      <th>2024-08-01</th>\n",
       "      <td>227.68</td>\n",
       "      <td>413.97</td>\n",
       "      <td>231.57</td>\n",
       "      <td>424.21</td>\n",
       "      <td>194.87</td>\n",
       "      <td>382.65</td>\n",
       "      <td>223.07</td>\n",
       "      <td>417.59</td>\n",
       "      <td>1122667000</td>\n",
       "      <td>451919000</td>\n",
       "    </tr>\n",
       "    <tr>\n",
       "      <th>2024-09-01</th>\n",
       "      <td>231.92</td>\n",
       "      <td>427.80</td>\n",
       "      <td>232.01</td>\n",
       "      <td>439.28</td>\n",
       "      <td>212.93</td>\n",
       "      <td>398.47</td>\n",
       "      <td>227.49</td>\n",
       "      <td>415.48</td>\n",
       "      <td>1232097700</td>\n",
       "      <td>376898100</td>\n",
       "    </tr>\n",
       "    <tr>\n",
       "      <th>2024-10-01</th>\n",
       "      <td>224.86</td>\n",
       "      <td>403.99</td>\n",
       "      <td>236.39</td>\n",
       "      <td>435.95</td>\n",
       "      <td>220.30</td>\n",
       "      <td>403.94</td>\n",
       "      <td>228.46</td>\n",
       "      <td>425.96</td>\n",
       "      <td>930736000</td>\n",
       "      <td>440745500</td>\n",
       "    </tr>\n",
       "    <tr>\n",
       "      <th>2024-11-01</th>\n",
       "      <td>236.23</td>\n",
       "      <td>421.00</td>\n",
       "      <td>236.71</td>\n",
       "      <td>426.83</td>\n",
       "      <td>218.69</td>\n",
       "      <td>403.21</td>\n",
       "      <td>219.95</td>\n",
       "      <td>406.63</td>\n",
       "      <td>891588300</td>\n",
       "      <td>442306200</td>\n",
       "    </tr>\n",
       "    <tr>\n",
       "      <th>2024-12-01</th>\n",
       "      <td>249.53</td>\n",
       "      <td>419.89</td>\n",
       "      <td>259.18</td>\n",
       "      <td>454.41</td>\n",
       "      <td>236.32</td>\n",
       "      <td>419.05</td>\n",
       "      <td>236.43</td>\n",
       "      <td>419.96</td>\n",
       "      <td>977916100</td>\n",
       "      <td>439902400</td>\n",
       "    </tr>\n",
       "    <tr>\n",
       "      <th>2025-01-01</th>\n",
       "      <td>235.17</td>\n",
       "      <td>413.47</td>\n",
       "      <td>248.22</td>\n",
       "      <td>446.66</td>\n",
       "      <td>218.60</td>\n",
       "      <td>409.15</td>\n",
       "      <td>248.05</td>\n",
       "      <td>423.90</td>\n",
       "      <td>1200176400</td>\n",
       "      <td>462501200</td>\n",
       "    </tr>\n",
       "    <tr>\n",
       "      <th>2025-02-01</th>\n",
       "      <td>240.98</td>\n",
       "      <td>395.47</td>\n",
       "      <td>249.12</td>\n",
       "      <td>417.70</td>\n",
       "      <td>224.90</td>\n",
       "      <td>385.09</td>\n",
       "      <td>229.18</td>\n",
       "      <td>410.02</td>\n",
       "      <td>862272300</td>\n",
       "      <td>432448900</td>\n",
       "    </tr>\n",
       "    <tr>\n",
       "      <th>2025-03-01</th>\n",
       "      <td>221.59</td>\n",
       "      <td>374.70</td>\n",
       "      <td>243.43</td>\n",
       "      <td>401.41</td>\n",
       "      <td>207.91</td>\n",
       "      <td>366.57</td>\n",
       "      <td>241.20</td>\n",
       "      <td>398.09</td>\n",
       "      <td>1115239500</td>\n",
       "      <td>491786600</td>\n",
       "    </tr>\n",
       "    <tr>\n",
       "      <th>2025-04-01</th>\n",
       "      <td>211.98</td>\n",
       "      <td>394.54</td>\n",
       "      <td>224.64</td>\n",
       "      <td>395.93</td>\n",
       "      <td>168.80</td>\n",
       "      <td>344.16</td>\n",
       "      <td>219.27</td>\n",
       "      <td>373.96</td>\n",
       "      <td>1607318600</td>\n",
       "      <td>563144100</td>\n",
       "    </tr>\n",
       "    <tr>\n",
       "      <th>2025-05-01</th>\n",
       "      <td>200.36</td>\n",
       "      <td>459.52</td>\n",
       "      <td>214.04</td>\n",
       "      <td>461.67</td>\n",
       "      <td>192.78</td>\n",
       "      <td>424.12</td>\n",
       "      <td>208.57</td>\n",
       "      <td>430.32</td>\n",
       "      <td>1195728200</td>\n",
       "      <td>476942400</td>\n",
       "    </tr>\n",
       "    <tr>\n",
       "      <th>2025-06-01</th>\n",
       "      <td>204.94</td>\n",
       "      <td>497.41</td>\n",
       "      <td>207.15</td>\n",
       "      <td>500.76</td>\n",
       "      <td>194.85</td>\n",
       "      <td>456.89</td>\n",
       "      <td>200.05</td>\n",
       "      <td>457.14</td>\n",
       "      <td>1100409300</td>\n",
       "      <td>401255100</td>\n",
       "    </tr>\n",
       "    <tr>\n",
       "      <th>2025-07-01</th>\n",
       "      <td>207.33</td>\n",
       "      <td>533.50</td>\n",
       "      <td>215.98</td>\n",
       "      <td>555.45</td>\n",
       "      <td>205.91</td>\n",
       "      <td>488.70</td>\n",
       "      <td>206.44</td>\n",
       "      <td>496.47</td>\n",
       "      <td>1079935600</td>\n",
       "      <td>396881900</td>\n",
       "    </tr>\n",
       "    <tr>\n",
       "      <th>2025-08-01</th>\n",
       "      <td>224.90</td>\n",
       "      <td>504.24</td>\n",
       "      <td>235.12</td>\n",
       "      <td>538.25</td>\n",
       "      <td>201.50</td>\n",
       "      <td>502.72</td>\n",
       "      <td>210.87</td>\n",
       "      <td>535.00</td>\n",
       "      <td>1011652868</td>\n",
       "      <td>339974295</td>\n",
       "    </tr>\n",
       "  </tbody>\n",
       "</table>\n",
       "</div>"
      ],
      "text/plain": [
       "Price        Close            High             Low            Open          \\\n",
       "Ticker        AAPL    MSFT    AAPL    MSFT    AAPL    MSFT    AAPL    MSFT   \n",
       "Date                                                                         \n",
       "2023-09-01  169.55  311.57  188.14  336.35  165.99  305.36  187.65  326.93   \n",
       "2023-10-01  169.11  333.64  180.57  341.62  164.06  307.09  169.56  312.10   \n",
       "2023-11-01  188.11  373.90  191.06  379.22  168.47  335.16  169.34  335.30   \n",
       "2023-12-01  190.91  371.82  197.94  373.92  185.88  358.83  188.73  372.53   \n",
       "2024-01-01  182.85  393.12  194.73  410.66  178.66  362.39  185.58  369.66   \n",
       "2024-02-01  179.23  409.00  189.45  416.10  177.75  392.76  182.45  397.32   \n",
       "2024-03-01  170.26  416.77  179.24  426.77  167.29  394.65  178.27  407.41   \n",
       "2024-04-01  169.12  385.67  177.09  425.34  162.91  384.38  169.97  419.97   \n",
       "2024-05-01  190.88  411.23  191.62  429.53  167.90  386.64  168.37  388.92   \n",
       "2024-06-01  209.40  443.55  218.93  452.70  191.04  405.81  191.78  412.37   \n",
       "2024-07-01  220.80  415.17  235.86  464.79  210.69  409.07  210.86  445.25   \n",
       "2024-08-01  227.68  413.97  231.57  424.21  194.87  382.65  223.07  417.59   \n",
       "2024-09-01  231.92  427.80  232.01  439.28  212.93  398.47  227.49  415.48   \n",
       "2024-10-01  224.86  403.99  236.39  435.95  220.30  403.94  228.46  425.96   \n",
       "2024-11-01  236.23  421.00  236.71  426.83  218.69  403.21  219.95  406.63   \n",
       "2024-12-01  249.53  419.89  259.18  454.41  236.32  419.05  236.43  419.96   \n",
       "2025-01-01  235.17  413.47  248.22  446.66  218.60  409.15  248.05  423.90   \n",
       "2025-02-01  240.98  395.47  249.12  417.70  224.90  385.09  229.18  410.02   \n",
       "2025-03-01  221.59  374.70  243.43  401.41  207.91  366.57  241.20  398.09   \n",
       "2025-04-01  211.98  394.54  224.64  395.93  168.80  344.16  219.27  373.96   \n",
       "2025-05-01  200.36  459.52  214.04  461.67  192.78  424.12  208.57  430.32   \n",
       "2025-06-01  204.94  497.41  207.15  500.76  194.85  456.89  200.05  457.14   \n",
       "2025-07-01  207.33  533.50  215.98  555.45  205.91  488.70  206.44  496.47   \n",
       "2025-08-01  224.90  504.24  235.12  538.25  201.50  502.72  210.87  535.00   \n",
       "\n",
       "Price           Volume             \n",
       "Ticker            AAPL       MSFT  \n",
       "Date                               \n",
       "2023-09-01  1337823000  416742300  \n",
       "2023-10-01  1172816900  540950200  \n",
       "2023-11-01  1099651600  563894000  \n",
       "2023-12-01  1063181200  522081700  \n",
       "2024-01-01  1187490800  528491200  \n",
       "2024-02-01  1161553500  444091200  \n",
       "2024-03-01  1433151800  426445300  \n",
       "2024-04-01  1246144100  441083800  \n",
       "2024-05-01  1336511300  413780000  \n",
       "2024-06-01  1717952100  341717100  \n",
       "2024-07-01  1153099800  440449200  \n",
       "2024-08-01  1122667000  451919000  \n",
       "2024-09-01  1232097700  376898100  \n",
       "2024-10-01   930736000  440745500  \n",
       "2024-11-01   891588300  442306200  \n",
       "2024-12-01   977916100  439902400  \n",
       "2025-01-01  1200176400  462501200  \n",
       "2025-02-01   862272300  432448900  \n",
       "2025-03-01  1115239500  491786600  \n",
       "2025-04-01  1607318600  563144100  \n",
       "2025-05-01  1195728200  476942400  \n",
       "2025-06-01  1100409300  401255100  \n",
       "2025-07-01  1079935600  396881900  \n",
       "2025-08-01  1011652868  339974295  "
      ]
     },
     "execution_count": 11,
     "metadata": {},
     "output_type": "execute_result"
    }
   ],
   "source": [
    "apple_microsoft = yf.download(tickers=\"AAPL MSFT\", period=\"2y\", interval=\"1mo\", rounding=True)\n",
    "apple_microsoft"
   ]
  },
  {
   "cell_type": "code",
   "execution_count": 12,
   "id": "4011f416",
   "metadata": {},
   "outputs": [
    {
     "data": {
      "application/vnd.microsoft.datawrangler.viewer.v0+json": {
       "columns": [
        {
         "name": "Date",
         "rawType": "datetime64[ns]",
         "type": "datetime"
        },
        {
         "name": "AAPL",
         "rawType": "float64",
         "type": "float"
        },
        {
         "name": "MSFT",
         "rawType": "float64",
         "type": "float"
        }
       ],
       "ref": "7a3fa936-9bdf-4985-8ac6-ef5c00109351",
       "rows": [
        [
         "2023-09-01 00:00:00",
         "169.55",
         "311.57"
        ],
        [
         "2023-10-01 00:00:00",
         "169.11",
         "333.64"
        ],
        [
         "2023-11-01 00:00:00",
         "188.11",
         "373.9"
        ],
        [
         "2023-12-01 00:00:00",
         "190.91",
         "371.82"
        ],
        [
         "2024-01-01 00:00:00",
         "182.85",
         "393.12"
        ],
        [
         "2024-02-01 00:00:00",
         "179.23",
         "409.0"
        ],
        [
         "2024-03-01 00:00:00",
         "170.26",
         "416.77"
        ],
        [
         "2024-04-01 00:00:00",
         "169.12",
         "385.67"
        ],
        [
         "2024-05-01 00:00:00",
         "190.88",
         "411.23"
        ],
        [
         "2024-06-01 00:00:00",
         "209.4",
         "443.55"
        ],
        [
         "2024-07-01 00:00:00",
         "220.8",
         "415.17"
        ],
        [
         "2024-08-01 00:00:00",
         "227.68",
         "413.97"
        ],
        [
         "2024-09-01 00:00:00",
         "231.92",
         "427.8"
        ],
        [
         "2024-10-01 00:00:00",
         "224.86",
         "403.99"
        ],
        [
         "2024-11-01 00:00:00",
         "236.23",
         "421.0"
        ],
        [
         "2024-12-01 00:00:00",
         "249.53",
         "419.89"
        ],
        [
         "2025-01-01 00:00:00",
         "235.17",
         "413.47"
        ],
        [
         "2025-02-01 00:00:00",
         "240.98",
         "395.47"
        ],
        [
         "2025-03-01 00:00:00",
         "221.59",
         "374.7"
        ],
        [
         "2025-04-01 00:00:00",
         "211.98",
         "394.54"
        ],
        [
         "2025-05-01 00:00:00",
         "200.36",
         "459.52"
        ],
        [
         "2025-06-01 00:00:00",
         "204.94",
         "497.41"
        ],
        [
         "2025-07-01 00:00:00",
         "207.33",
         "533.5"
        ],
        [
         "2025-08-01 00:00:00",
         "224.9",
         "504.24"
        ]
       ],
       "shape": {
        "columns": 2,
        "rows": 24
       }
      },
      "text/html": [
       "<div>\n",
       "<style scoped>\n",
       "    .dataframe tbody tr th:only-of-type {\n",
       "        vertical-align: middle;\n",
       "    }\n",
       "\n",
       "    .dataframe tbody tr th {\n",
       "        vertical-align: top;\n",
       "    }\n",
       "\n",
       "    .dataframe thead th {\n",
       "        text-align: right;\n",
       "    }\n",
       "</style>\n",
       "<table border=\"1\" class=\"dataframe\">\n",
       "  <thead>\n",
       "    <tr style=\"text-align: right;\">\n",
       "      <th>Ticker</th>\n",
       "      <th>AAPL</th>\n",
       "      <th>MSFT</th>\n",
       "    </tr>\n",
       "    <tr>\n",
       "      <th>Date</th>\n",
       "      <th></th>\n",
       "      <th></th>\n",
       "    </tr>\n",
       "  </thead>\n",
       "  <tbody>\n",
       "    <tr>\n",
       "      <th>2023-09-01</th>\n",
       "      <td>169.55</td>\n",
       "      <td>311.57</td>\n",
       "    </tr>\n",
       "    <tr>\n",
       "      <th>2023-10-01</th>\n",
       "      <td>169.11</td>\n",
       "      <td>333.64</td>\n",
       "    </tr>\n",
       "    <tr>\n",
       "      <th>2023-11-01</th>\n",
       "      <td>188.11</td>\n",
       "      <td>373.90</td>\n",
       "    </tr>\n",
       "    <tr>\n",
       "      <th>2023-12-01</th>\n",
       "      <td>190.91</td>\n",
       "      <td>371.82</td>\n",
       "    </tr>\n",
       "    <tr>\n",
       "      <th>2024-01-01</th>\n",
       "      <td>182.85</td>\n",
       "      <td>393.12</td>\n",
       "    </tr>\n",
       "    <tr>\n",
       "      <th>2024-02-01</th>\n",
       "      <td>179.23</td>\n",
       "      <td>409.00</td>\n",
       "    </tr>\n",
       "    <tr>\n",
       "      <th>2024-03-01</th>\n",
       "      <td>170.26</td>\n",
       "      <td>416.77</td>\n",
       "    </tr>\n",
       "    <tr>\n",
       "      <th>2024-04-01</th>\n",
       "      <td>169.12</td>\n",
       "      <td>385.67</td>\n",
       "    </tr>\n",
       "    <tr>\n",
       "      <th>2024-05-01</th>\n",
       "      <td>190.88</td>\n",
       "      <td>411.23</td>\n",
       "    </tr>\n",
       "    <tr>\n",
       "      <th>2024-06-01</th>\n",
       "      <td>209.40</td>\n",
       "      <td>443.55</td>\n",
       "    </tr>\n",
       "    <tr>\n",
       "      <th>2024-07-01</th>\n",
       "      <td>220.80</td>\n",
       "      <td>415.17</td>\n",
       "    </tr>\n",
       "    <tr>\n",
       "      <th>2024-08-01</th>\n",
       "      <td>227.68</td>\n",
       "      <td>413.97</td>\n",
       "    </tr>\n",
       "    <tr>\n",
       "      <th>2024-09-01</th>\n",
       "      <td>231.92</td>\n",
       "      <td>427.80</td>\n",
       "    </tr>\n",
       "    <tr>\n",
       "      <th>2024-10-01</th>\n",
       "      <td>224.86</td>\n",
       "      <td>403.99</td>\n",
       "    </tr>\n",
       "    <tr>\n",
       "      <th>2024-11-01</th>\n",
       "      <td>236.23</td>\n",
       "      <td>421.00</td>\n",
       "    </tr>\n",
       "    <tr>\n",
       "      <th>2024-12-01</th>\n",
       "      <td>249.53</td>\n",
       "      <td>419.89</td>\n",
       "    </tr>\n",
       "    <tr>\n",
       "      <th>2025-01-01</th>\n",
       "      <td>235.17</td>\n",
       "      <td>413.47</td>\n",
       "    </tr>\n",
       "    <tr>\n",
       "      <th>2025-02-01</th>\n",
       "      <td>240.98</td>\n",
       "      <td>395.47</td>\n",
       "    </tr>\n",
       "    <tr>\n",
       "      <th>2025-03-01</th>\n",
       "      <td>221.59</td>\n",
       "      <td>374.70</td>\n",
       "    </tr>\n",
       "    <tr>\n",
       "      <th>2025-04-01</th>\n",
       "      <td>211.98</td>\n",
       "      <td>394.54</td>\n",
       "    </tr>\n",
       "    <tr>\n",
       "      <th>2025-05-01</th>\n",
       "      <td>200.36</td>\n",
       "      <td>459.52</td>\n",
       "    </tr>\n",
       "    <tr>\n",
       "      <th>2025-06-01</th>\n",
       "      <td>204.94</td>\n",
       "      <td>497.41</td>\n",
       "    </tr>\n",
       "    <tr>\n",
       "      <th>2025-07-01</th>\n",
       "      <td>207.33</td>\n",
       "      <td>533.50</td>\n",
       "    </tr>\n",
       "    <tr>\n",
       "      <th>2025-08-01</th>\n",
       "      <td>224.90</td>\n",
       "      <td>504.24</td>\n",
       "    </tr>\n",
       "  </tbody>\n",
       "</table>\n",
       "</div>"
      ],
      "text/plain": [
       "Ticker        AAPL    MSFT\n",
       "Date                      \n",
       "2023-09-01  169.55  311.57\n",
       "2023-10-01  169.11  333.64\n",
       "2023-11-01  188.11  373.90\n",
       "2023-12-01  190.91  371.82\n",
       "2024-01-01  182.85  393.12\n",
       "2024-02-01  179.23  409.00\n",
       "2024-03-01  170.26  416.77\n",
       "2024-04-01  169.12  385.67\n",
       "2024-05-01  190.88  411.23\n",
       "2024-06-01  209.40  443.55\n",
       "2024-07-01  220.80  415.17\n",
       "2024-08-01  227.68  413.97\n",
       "2024-09-01  231.92  427.80\n",
       "2024-10-01  224.86  403.99\n",
       "2024-11-01  236.23  421.00\n",
       "2024-12-01  249.53  419.89\n",
       "2025-01-01  235.17  413.47\n",
       "2025-02-01  240.98  395.47\n",
       "2025-03-01  221.59  374.70\n",
       "2025-04-01  211.98  394.54\n",
       "2025-05-01  200.36  459.52\n",
       "2025-06-01  204.94  497.41\n",
       "2025-07-01  207.33  533.50\n",
       "2025-08-01  224.90  504.24"
      ]
     },
     "execution_count": 12,
     "metadata": {},
     "output_type": "execute_result"
    }
   ],
   "source": [
    "apple_microsoft = apple_microsoft['Close']\n",
    "apple_microsoft"
   ]
  },
  {
   "cell_type": "code",
   "execution_count": 13,
   "id": "293449a9",
   "metadata": {},
   "outputs": [
    {
     "data": {
      "image/png": "[encoded data removed]",
      "text/plain": [
       "<Figure size 640x480 with 1 Axes>"
      ]
     },
     "metadata": {},
     "output_type": "display_data"
    }
   ],
   "source": [
    "apple_microsoft['AAPL'].plot(grid=True, label='Apple')\n",
    "apple_microsoft['MSFT'].plot(grid=True, label='Microsoft')\n",
    "plt.legend()\n",
    "plt.title('Comparación de precios de cierre: Apple vs Microsoft')\n",
    "plt.show()"
   ]
  },
  {
   "cell_type": "code",
   "execution_count": 14,
   "id": "c25af4c4",
   "metadata": {},
   "outputs": [
    {
     "data": {
      "application/vnd.microsoft.datawrangler.viewer.v0+json": {
       "columns": [
        {
         "name": "Date",
         "rawType": "datetime64[ns]",
         "type": "datetime"
        },
        {
         "name": "AAPL",
         "rawType": "float64",
         "type": "float"
        },
        {
         "name": "MSFT",
         "rawType": "float64",
         "type": "float"
        }
       ],
       "ref": "0abd9490-342e-4502-a76f-bb065f809404",
       "rows": [
        [
         "2023-09-01 00:00:00",
         null,
         null
        ],
        [
         "2023-10-01 00:00:00",
         "-0.002595104688882355",
         "0.07083480437782841"
        ],
        [
         "2023-11-01 00:00:00",
         "0.11235290639228901",
         "0.12066898453422858"
        ],
        [
         "2023-12-01 00:00:00",
         "0.014884907766732125",
         "-0.005562984755282163"
        ],
        [
         "2024-01-01 00:00:00",
         "-0.0422188465769211",
         "0.0572857834436018"
        ],
        [
         "2024-02-01 00:00:00",
         "-0.019797648345638574",
         "0.040394790394790325"
        ],
        [
         "2024-03-01 00:00:00",
         "-0.050047425096245046",
         "0.018997555012224998"
        ],
        [
         "2024-04-01 00:00:00",
         "-0.0066956419593562355",
         "-0.07462149386952033"
        ],
        [
         "2024-05-01 00:00:00",
         "0.12866603595080406",
         "0.06627427593538515"
        ],
        [
         "2024-06-01 00:00:00",
         "0.09702430846605203",
         "0.0785934878291954"
        ],
        [
         "2024-07-01 00:00:00",
         "0.05444126074498579",
         "-0.06398376733175515"
        ],
        [
         "2024-08-01 00:00:00",
         "0.031159420289855078",
         "-0.0028903822530529366"
        ],
        [
         "2024-09-01 00:00:00",
         "0.018622628250175577",
         "0.03340821798681071"
        ],
        [
         "2024-10-01 00:00:00",
         "-0.03044153156260765",
         "-0.055656848994857455"
        ],
        [
         "2024-11-01 00:00:00",
         "0.05056479587298757",
         "0.042105002599074126"
        ],
        [
         "2024-12-01 00:00:00",
         "0.05630106252381162",
         "-0.0026365795724465624"
        ],
        [
         "2025-01-01 00:00:00",
         "-0.057548190598324944",
         "-0.01528971873585927"
        ],
        [
         "2025-02-01 00:00:00",
         "0.024705532168218802",
         "-0.043533992792705645"
        ],
        [
         "2025-03-01 00:00:00",
         "-0.08046310897169884",
         "-0.05251978658305312"
        ],
        [
         "2025-04-01 00:00:00",
         "-0.04336838304977664",
         "0.0529490258873766"
        ],
        [
         "2025-05-01 00:00:00",
         "-0.05481649212189821",
         "0.16469812946722762"
        ],
        [
         "2025-06-01 00:00:00",
         "0.022858854062687062",
         "0.08245560584958223"
        ],
        [
         "2025-07-01 00:00:00",
         "0.011661949838977392",
         "0.07255583924730091"
        ],
        [
         "2025-08-01 00:00:00",
         "0.08474412771909523",
         "-0.05484536082474223"
        ]
       ],
       "shape": {
        "columns": 2,
        "rows": 24
       }
      },
      "text/html": [
       "<div>\n",
       "<style scoped>\n",
       "    .dataframe tbody tr th:only-of-type {\n",
       "        vertical-align: middle;\n",
       "    }\n",
       "\n",
       "    .dataframe tbody tr th {\n",
       "        vertical-align: top;\n",
       "    }\n",
       "\n",
       "    .dataframe thead th {\n",
       "        text-align: right;\n",
       "    }\n",
       "</style>\n",
       "<table border=\"1\" class=\"dataframe\">\n",
       "  <thead>\n",
       "    <tr style=\"text-align: right;\">\n",
       "      <th>Ticker</th>\n",
       "      <th>AAPL</th>\n",
       "      <th>MSFT</th>\n",
       "    </tr>\n",
       "    <tr>\n",
       "      <th>Date</th>\n",
       "      <th></th>\n",
       "      <th></th>\n",
       "    </tr>\n",
       "  </thead>\n",
       "  <tbody>\n",
       "    <tr>\n",
       "      <th>2023-09-01</th>\n",
       "      <td>NaN</td>\n",
       "      <td>NaN</td>\n",
       "    </tr>\n",
       "    <tr>\n",
       "      <th>2023-10-01</th>\n",
       "      <td>-0.002595</td>\n",
       "      <td>0.070835</td>\n",
       "    </tr>\n",
       "    <tr>\n",
       "      <th>2023-11-01</th>\n",
       "      <td>0.112353</td>\n",
       "      <td>0.120669</td>\n",
       "    </tr>\n",
       "    <tr>\n",
       "      <th>2023-12-01</th>\n",
       "      <td>0.014885</td>\n",
       "      <td>-0.005563</td>\n",
       "    </tr>\n",
       "    <tr>\n",
       "      <th>2024-01-01</th>\n",
       "      <td>-0.042219</td>\n",
       "      <td>0.057286</td>\n",
       "    </tr>\n",
       "    <tr>\n",
       "      <th>2024-02-01</th>\n",
       "      <td>-0.019798</td>\n",
       "      <td>0.040395</td>\n",
       "    </tr>\n",
       "    <tr>\n",
       "      <th>2024-03-01</th>\n",
       "      <td>-0.050047</td>\n",
       "      <td>0.018998</td>\n",
       "    </tr>\n",
       "    <tr>\n",
       "      <th>2024-04-01</th>\n",
       "      <td>-0.006696</td>\n",
       "      <td>-0.074621</td>\n",
       "    </tr>\n",
       "    <tr>\n",
       "      <th>2024-05-01</th>\n",
       "      <td>0.128666</td>\n",
       "      <td>0.066274</td>\n",
       "    </tr>\n",
       "    <tr>\n",
       "      <th>2024-06-01</th>\n",
       "      <td>0.097024</td>\n",
       "      <td>0.078593</td>\n",
       "    </tr>\n",
       "    <tr>\n",
       "      <th>2024-07-01</th>\n",
       "      <td>0.054441</td>\n",
       "      <td>-0.063984</td>\n",
       "    </tr>\n",
       "    <tr>\n",
       "      <th>2024-08-01</th>\n",
       "      <td>0.031159</td>\n",
       "      <td>-0.002890</td>\n",
       "    </tr>\n",
       "    <tr>\n",
       "      <th>2024-09-01</th>\n",
       "      <td>0.018623</td>\n",
       "      <td>0.033408</td>\n",
       "    </tr>\n",
       "    <tr>\n",
       "      <th>2024-10-01</th>\n",
       "      <td>-0.030442</td>\n",
       "      <td>-0.055657</td>\n",
       "    </tr>\n",
       "    <tr>\n",
       "      <th>2024-11-01</th>\n",
       "      <td>0.050565</td>\n",
       "      <td>0.042105</td>\n",
       "    </tr>\n",
       "    <tr>\n",
       "      <th>2024-12-01</th>\n",
       "      <td>0.056301</td>\n",
       "      <td>-0.002637</td>\n",
       "    </tr>\n",
       "    <tr>\n",
       "      <th>2025-01-01</th>\n",
       "      <td>-0.057548</td>\n",
       "      <td>-0.015290</td>\n",
       "    </tr>\n",
       "    <tr>\n",
       "      <th>2025-02-01</th>\n",
       "      <td>0.024706</td>\n",
       "      <td>-0.043534</td>\n",
       "    </tr>\n",
       "    <tr>\n",
       "      <th>2025-03-01</th>\n",
       "      <td>-0.080463</td>\n",
       "      <td>-0.052520</td>\n",
       "    </tr>\n",
       "    <tr>\n",
       "      <th>2025-04-01</th>\n",
       "      <td>-0.043368</td>\n",
       "      <td>0.052949</td>\n",
       "    </tr>\n",
       "    <tr>\n",
       "      <th>2025-05-01</th>\n",
       "      <td>-0.054816</td>\n",
       "      <td>0.164698</td>\n",
       "    </tr>\n",
       "    <tr>\n",
       "      <th>2025-06-01</th>\n",
       "      <td>0.022859</td>\n",
       "      <td>0.082456</td>\n",
       "    </tr>\n",
       "    <tr>\n",
       "      <th>2025-07-01</th>\n",
       "      <td>0.011662</td>\n",
       "      <td>0.072556</td>\n",
       "    </tr>\n",
       "    <tr>\n",
       "      <th>2025-08-01</th>\n",
       "      <td>0.084744</td>\n",
       "      <td>-0.054845</td>\n",
       "    </tr>\n",
       "  </tbody>\n",
       "</table>\n",
       "</div>"
      ],
      "text/plain": [
       "Ticker          AAPL      MSFT\n",
       "Date                          \n",
       "2023-09-01       NaN       NaN\n",
       "2023-10-01 -0.002595  0.070835\n",
       "2023-11-01  0.112353  0.120669\n",
       "2023-12-01  0.014885 -0.005563\n",
       "2024-01-01 -0.042219  0.057286\n",
       "2024-02-01 -0.019798  0.040395\n",
       "2024-03-01 -0.050047  0.018998\n",
       "2024-04-01 -0.006696 -0.074621\n",
       "2024-05-01  0.128666  0.066274\n",
       "2024-06-01  0.097024  0.078593\n",
       "2024-07-01  0.054441 -0.063984\n",
       "2024-08-01  0.031159 -0.002890\n",
       "2024-09-01  0.018623  0.033408\n",
       "2024-10-01 -0.030442 -0.055657\n",
       "2024-11-01  0.050565  0.042105\n",
       "2024-12-01  0.056301 -0.002637\n",
       "2025-01-01 -0.057548 -0.015290\n",
       "2025-02-01  0.024706 -0.043534\n",
       "2025-03-01 -0.080463 -0.052520\n",
       "2025-04-01 -0.043368  0.052949\n",
       "2025-05-01 -0.054816  0.164698\n",
       "2025-06-01  0.022859  0.082456\n",
       "2025-07-01  0.011662  0.072556\n",
       "2025-08-01  0.084744 -0.054845"
      ]
     },
     "execution_count": 14,
     "metadata": {},
     "output_type": "execute_result"
    }
   ],
   "source": [
    "rend_apple_micro = apple_microsoft.pct_change()\n",
    "rend_apple_micro"
   ]
  },
  {
   "cell_type": "code",
   "execution_count": 15,
   "id": "5c3fd468",
   "metadata": {},
   "outputs": [
    {
     "data": {
      "application/vnd.microsoft.datawrangler.viewer.v0+json": {
       "columns": [
        {
         "name": "Date",
         "rawType": "datetime64[ns]",
         "type": "datetime"
        },
        {
         "name": "AAPL",
         "rawType": "float64",
         "type": "float"
        },
        {
         "name": "MSFT",
         "rawType": "float64",
         "type": "float"
        }
       ],
       "ref": "43a2b8b4-646c-44d8-a87f-a5389c52f377",
       "rows": [
        [
         "2023-10-01 00:00:00",
         "-0.002595104688882355",
         "0.07083480437782841"
        ],
        [
         "2023-11-01 00:00:00",
         "0.11235290639228901",
         "0.12066898453422858"
        ],
        [
         "2023-12-01 00:00:00",
         "0.014884907766732125",
         "-0.005562984755282163"
        ],
        [
         "2024-01-01 00:00:00",
         "-0.0422188465769211",
         "0.0572857834436018"
        ],
        [
         "2024-02-01 00:00:00",
         "-0.019797648345638574",
         "0.040394790394790325"
        ],
        [
         "2024-03-01 00:00:00",
         "-0.050047425096245046",
         "0.018997555012224998"
        ],
        [
         "2024-04-01 00:00:00",
         "-0.0066956419593562355",
         "-0.07462149386952033"
        ],
        [
         "2024-05-01 00:00:00",
         "0.12866603595080406",
         "0.06627427593538515"
        ],
        [
         "2024-06-01 00:00:00",
         "0.09702430846605203",
         "0.0785934878291954"
        ],
        [
         "2024-07-01 00:00:00",
         "0.05444126074498579",
         "-0.06398376733175515"
        ],
        [
         "2024-08-01 00:00:00",
         "0.031159420289855078",
         "-0.0028903822530529366"
        ],
        [
         "2024-09-01 00:00:00",
         "0.018622628250175577",
         "0.03340821798681071"
        ],
        [
         "2024-10-01 00:00:00",
         "-0.03044153156260765",
         "-0.055656848994857455"
        ],
        [
         "2024-11-01 00:00:00",
         "0.05056479587298757",
         "0.042105002599074126"
        ],
        [
         "2024-12-01 00:00:00",
         "0.05630106252381162",
         "-0.0026365795724465624"
        ],
        [
         "2025-01-01 00:00:00",
         "-0.057548190598324944",
         "-0.01528971873585927"
        ],
        [
         "2025-02-01 00:00:00",
         "0.024705532168218802",
         "-0.043533992792705645"
        ],
        [
         "2025-03-01 00:00:00",
         "-0.08046310897169884",
         "-0.05251978658305312"
        ],
        [
         "2025-04-01 00:00:00",
         "-0.04336838304977664",
         "0.0529490258873766"
        ],
        [
         "2025-05-01 00:00:00",
         "-0.05481649212189821",
         "0.16469812946722762"
        ],
        [
         "2025-06-01 00:00:00",
         "0.022858854062687062",
         "0.08245560584958223"
        ],
        [
         "2025-07-01 00:00:00",
         "0.011661949838977392",
         "0.07255583924730091"
        ],
        [
         "2025-08-01 00:00:00",
         "0.08474412771909523",
         "-0.05484536082474223"
        ]
       ],
       "shape": {
        "columns": 2,
        "rows": 23
       }
      },
      "text/html": [
       "<div>\n",
       "<style scoped>\n",
       "    .dataframe tbody tr th:only-of-type {\n",
       "        vertical-align: middle;\n",
       "    }\n",
       "\n",
       "    .dataframe tbody tr th {\n",
       "        vertical-align: top;\n",
       "    }\n",
       "\n",
       "    .dataframe thead th {\n",
       "        text-align: right;\n",
       "    }\n",
       "</style>\n",
       "<table border=\"1\" class=\"dataframe\">\n",
       "  <thead>\n",
       "    <tr style=\"text-align: right;\">\n",
       "      <th>Ticker</th>\n",
       "      <th>AAPL</th>\n",
       "      <th>MSFT</th>\n",
       "    </tr>\n",
       "    <tr>\n",
       "      <th>Date</th>\n",
       "      <th></th>\n",
       "      <th></th>\n",
       "    </tr>\n",
       "  </thead>\n",
       "  <tbody>\n",
       "    <tr>\n",
       "      <th>2023-10-01</th>\n",
       "      <td>-0.002595</td>\n",
       "      <td>0.070835</td>\n",
       "    </tr>\n",
       "    <tr>\n",
       "      <th>2023-11-01</th>\n",
       "      <td>0.112353</td>\n",
       "      <td>0.120669</td>\n",
       "    </tr>\n",
       "    <tr>\n",
       "      <th>2023-12-01</th>\n",
       "      <td>0.014885</td>\n",
       "      <td>-0.005563</td>\n",
       "    </tr>\n",
       "    <tr>\n",
       "      <th>2024-01-01</th>\n",
       "      <td>-0.042219</td>\n",
       "      <td>0.057286</td>\n",
       "    </tr>\n",
       "    <tr>\n",
       "      <th>2024-02-01</th>\n",
       "      <td>-0.019798</td>\n",
       "      <td>0.040395</td>\n",
       "    </tr>\n",
       "    <tr>\n",
       "      <th>2024-03-01</th>\n",
       "      <td>-0.050047</td>\n",
       "      <td>0.018998</td>\n",
       "    </tr>\n",
       "    <tr>\n",
       "      <th>2024-04-01</th>\n",
       "      <td>-0.006696</td>\n",
       "      <td>-0.074621</td>\n",
       "    </tr>\n",
       "    <tr>\n",
       "      <th>2024-05-01</th>\n",
       "      <td>0.128666</td>\n",
       "      <td>0.066274</td>\n",
       "    </tr>\n",
       "    <tr>\n",
       "      <th>2024-06-01</th>\n",
       "      <td>0.097024</td>\n",
       "      <td>0.078593</td>\n",
       "    </tr>\n",
       "    <tr>\n",
       "      <th>2024-07-01</th>\n",
       "      <td>0.054441</td>\n",
       "      <td>-0.063984</td>\n",
       "    </tr>\n",
       "    <tr>\n",
       "      <th>2024-08-01</th>\n",
       "      <td>0.031159</td>\n",
       "      <td>-0.002890</td>\n",
       "    </tr>\n",
       "    <tr>\n",
       "      <th>2024-09-01</th>\n",
       "      <td>0.018623</td>\n",
       "      <td>0.033408</td>\n",
       "    </tr>\n",
       "    <tr>\n",
       "      <th>2024-10-01</th>\n",
       "      <td>-0.030442</td>\n",
       "      <td>-0.055657</td>\n",
       "    </tr>\n",
       "    <tr>\n",
       "      <th>2024-11-01</th>\n",
       "      <td>0.050565</td>\n",
       "      <td>0.042105</td>\n",
       "    </tr>\n",
       "    <tr>\n",
       "      <th>2024-12-01</th>\n",
       "      <td>0.056301</td>\n",
       "      <td>-0.002637</td>\n",
       "    </tr>\n",
       "    <tr>\n",
       "      <th>2025-01-01</th>\n",
       "      <td>-0.057548</td>\n",
       "      <td>-0.015290</td>\n",
       "    </tr>\n",
       "    <tr>\n",
       "      <th>2025-02-01</th>\n",
       "      <td>0.024706</td>\n",
       "      <td>-0.043534</td>\n",
       "    </tr>\n",
       "    <tr>\n",
       "      <th>2025-03-01</th>\n",
       "      <td>-0.080463</td>\n",
       "      <td>-0.052520</td>\n",
       "    </tr>\n",
       "    <tr>\n",
       "      <th>2025-04-01</th>\n",
       "      <td>-0.043368</td>\n",
       "      <td>0.052949</td>\n",
       "    </tr>\n",
       "    <tr>\n",
       "      <th>2025-05-01</th>\n",
       "      <td>-0.054816</td>\n",
       "      <td>0.164698</td>\n",
       "    </tr>\n",
       "    <tr>\n",
       "      <th>2025-06-01</th>\n",
       "      <td>0.022859</td>\n",
       "      <td>0.082456</td>\n",
       "    </tr>\n",
       "    <tr>\n",
       "      <th>2025-07-01</th>\n",
       "      <td>0.011662</td>\n",
       "      <td>0.072556</td>\n",
       "    </tr>\n",
       "    <tr>\n",
       "      <th>2025-08-01</th>\n",
       "      <td>0.084744</td>\n",
       "      <td>-0.054845</td>\n",
       "    </tr>\n",
       "  </tbody>\n",
       "</table>\n",
       "</div>"
      ],
      "text/plain": [
       "Ticker          AAPL      MSFT\n",
       "Date                          \n",
       "2023-10-01 -0.002595  0.070835\n",
       "2023-11-01  0.112353  0.120669\n",
       "2023-12-01  0.014885 -0.005563\n",
       "2024-01-01 -0.042219  0.057286\n",
       "2024-02-01 -0.019798  0.040395\n",
       "2024-03-01 -0.050047  0.018998\n",
       "2024-04-01 -0.006696 -0.074621\n",
       "2024-05-01  0.128666  0.066274\n",
       "2024-06-01  0.097024  0.078593\n",
       "2024-07-01  0.054441 -0.063984\n",
       "2024-08-01  0.031159 -0.002890\n",
       "2024-09-01  0.018623  0.033408\n",
       "2024-10-01 -0.030442 -0.055657\n",
       "2024-11-01  0.050565  0.042105\n",
       "2024-12-01  0.056301 -0.002637\n",
       "2025-01-01 -0.057548 -0.015290\n",
       "2025-02-01  0.024706 -0.043534\n",
       "2025-03-01 -0.080463 -0.052520\n",
       "2025-04-01 -0.043368  0.052949\n",
       "2025-05-01 -0.054816  0.164698\n",
       "2025-06-01  0.022859  0.082456\n",
       "2025-07-01  0.011662  0.072556\n",
       "2025-08-01  0.084744 -0.054845"
      ]
     },
     "execution_count": 15,
     "metadata": {},
     "output_type": "execute_result"
    }
   ],
   "source": [
    "rend_apple_micro.dropna(inplace=True)\n",
    "rend_apple_micro"
   ]
  },
  {
   "cell_type": "code",
   "execution_count": 16,
   "id": "204546f0",
   "metadata": {},
   "outputs": [
    {
     "name": "stdout",
     "output_type": "stream",
     "text": [
      "Correlacion entre Apple y Microsoft: 0.12304671224428176\n"
     ]
    }
   ],
   "source": [
    "corr = rend_apple_micro['AAPL'].corr(rend_apple_micro['MSFT'])\n",
    "print('Correlacion entre Apple y Microsoft:', corr)"
   ]
  },
  {
   "cell_type": "code",
   "execution_count": 17,
   "id": "445cfef4",
   "metadata": {},
   "outputs": [
    {
     "data": {
      "image/png": "[encoded data removed]",
      "text/plain": [
       "<Figure size 640x480 with 1 Axes>"
      ]
     },
     "metadata": {},
     "output_type": "display_data"
    }
   ],
   "source": [
    "plt.scatter(rend_apple_micro['AAPL'], rend_apple_micro['MSFT'])\n",
    "plt.title('Rendimientos de Apple vs Microsoft')\n",
    "plt.xlabel('Rendimiento Apple')\n",
    "plt.ylabel('Rendimiento Microsoft')\n",
    "plt.grid()\n",
    "plt.show()"
   ]
  },
  {
   "cell_type": "code",
   "execution_count": 18,
   "id": "5a49cc75",
   "metadata": {},
   "outputs": [
    {
     "data": {
      "application/vnd.microsoft.datawrangler.viewer.v0+json": {
       "columns": [
        {
         "name": "Date",
         "rawType": "datetime64[ns]",
         "type": "datetime"
        },
        {
         "name": "const",
         "rawType": "float64",
         "type": "float"
        },
        {
         "name": "AAPL",
         "rawType": "float64",
         "type": "float"
        },
        {
         "name": "MSFT",
         "rawType": "float64",
         "type": "float"
        }
       ],
       "ref": "5402a410-b8b1-4a11-a75e-e4f5fee3eb64",
       "rows": [
        [
         "2023-10-01 00:00:00",
         "1.0",
         "-0.002595104688882355",
         "0.07083480437782841"
        ],
        [
         "2023-11-01 00:00:00",
         "1.0",
         "0.11235290639228901",
         "0.12066898453422858"
        ],
        [
         "2023-12-01 00:00:00",
         "1.0",
         "0.014884907766732125",
         "-0.005562984755282163"
        ],
        [
         "2024-01-01 00:00:00",
         "1.0",
         "-0.0422188465769211",
         "0.0572857834436018"
        ],
        [
         "2024-02-01 00:00:00",
         "1.0",
         "-0.019797648345638574",
         "0.040394790394790325"
        ],
        [
         "2024-03-01 00:00:00",
         "1.0",
         "-0.050047425096245046",
         "0.018997555012224998"
        ],
        [
         "2024-04-01 00:00:00",
         "1.0",
         "-0.0066956419593562355",
         "-0.07462149386952033"
        ],
        [
         "2024-05-01 00:00:00",
         "1.0",
         "0.12866603595080406",
         "0.06627427593538515"
        ],
        [
         "2024-06-01 00:00:00",
         "1.0",
         "0.09702430846605203",
         "0.0785934878291954"
        ],
        [
         "2024-07-01 00:00:00",
         "1.0",
         "0.05444126074498579",
         "-0.06398376733175515"
        ],
        [
         "2024-08-01 00:00:00",
         "1.0",
         "0.031159420289855078",
         "-0.0028903822530529366"
        ],
        [
         "2024-09-01 00:00:00",
         "1.0",
         "0.018622628250175577",
         "0.03340821798681071"
        ],
        [
         "2024-10-01 00:00:00",
         "1.0",
         "-0.03044153156260765",
         "-0.055656848994857455"
        ],
        [
         "2024-11-01 00:00:00",
         "1.0",
         "0.05056479587298757",
         "0.042105002599074126"
        ],
        [
         "2024-12-01 00:00:00",
         "1.0",
         "0.05630106252381162",
         "-0.0026365795724465624"
        ],
        [
         "2025-01-01 00:00:00",
         "1.0",
         "-0.057548190598324944",
         "-0.01528971873585927"
        ],
        [
         "2025-02-01 00:00:00",
         "1.0",
         "0.024705532168218802",
         "-0.043533992792705645"
        ],
        [
         "2025-03-01 00:00:00",
         "1.0",
         "-0.08046310897169884",
         "-0.05251978658305312"
        ],
        [
         "2025-04-01 00:00:00",
         "1.0",
         "-0.04336838304977664",
         "0.0529490258873766"
        ],
        [
         "2025-05-01 00:00:00",
         "1.0",
         "-0.05481649212189821",
         "0.16469812946722762"
        ],
        [
         "2025-06-01 00:00:00",
         "1.0",
         "0.022858854062687062",
         "0.08245560584958223"
        ],
        [
         "2025-07-01 00:00:00",
         "1.0",
         "0.011661949838977392",
         "0.07255583924730091"
        ],
        [
         "2025-08-01 00:00:00",
         "1.0",
         "0.08474412771909523",
         "-0.05484536082474223"
        ]
       ],
       "shape": {
        "columns": 3,
        "rows": 23
       }
      },
      "text/html": [
       "<div>\n",
       "<style scoped>\n",
       "    .dataframe tbody tr th:only-of-type {\n",
       "        vertical-align: middle;\n",
       "    }\n",
       "\n",
       "    .dataframe tbody tr th {\n",
       "        vertical-align: top;\n",
       "    }\n",
       "\n",
       "    .dataframe thead th {\n",
       "        text-align: right;\n",
       "    }\n",
       "</style>\n",
       "<table border=\"1\" class=\"dataframe\">\n",
       "  <thead>\n",
       "    <tr style=\"text-align: right;\">\n",
       "      <th></th>\n",
       "      <th>const</th>\n",
       "      <th>AAPL</th>\n",
       "      <th>MSFT</th>\n",
       "    </tr>\n",
       "    <tr>\n",
       "      <th>Date</th>\n",
       "      <th></th>\n",
       "      <th></th>\n",
       "      <th></th>\n",
       "    </tr>\n",
       "  </thead>\n",
       "  <tbody>\n",
       "    <tr>\n",
       "      <th>2023-10-01</th>\n",
       "      <td>1.0</td>\n",
       "      <td>-0.002595</td>\n",
       "      <td>0.070835</td>\n",
       "    </tr>\n",
       "    <tr>\n",
       "      <th>2023-11-01</th>\n",
       "      <td>1.0</td>\n",
       "      <td>0.112353</td>\n",
       "      <td>0.120669</td>\n",
       "    </tr>\n",
       "    <tr>\n",
       "      <th>2023-12-01</th>\n",
       "      <td>1.0</td>\n",
       "      <td>0.014885</td>\n",
       "      <td>-0.005563</td>\n",
       "    </tr>\n",
       "    <tr>\n",
       "      <th>2024-01-01</th>\n",
       "      <td>1.0</td>\n",
       "      <td>-0.042219</td>\n",
       "      <td>0.057286</td>\n",
       "    </tr>\n",
       "    <tr>\n",
       "      <th>2024-02-01</th>\n",
       "      <td>1.0</td>\n",
       "      <td>-0.019798</td>\n",
       "      <td>0.040395</td>\n",
       "    </tr>\n",
       "    <tr>\n",
       "      <th>2024-03-01</th>\n",
       "      <td>1.0</td>\n",
       "      <td>-0.050047</td>\n",
       "      <td>0.018998</td>\n",
       "    </tr>\n",
       "    <tr>\n",
       "      <th>2024-04-01</th>\n",
       "      <td>1.0</td>\n",
       "      <td>-0.006696</td>\n",
       "      <td>-0.074621</td>\n",
       "    </tr>\n",
       "    <tr>\n",
       "      <th>2024-05-01</th>\n",
       "      <td>1.0</td>\n",
       "      <td>0.128666</td>\n",
       "      <td>0.066274</td>\n",
       "    </tr>\n",
       "    <tr>\n",
       "      <th>2024-06-01</th>\n",
       "      <td>1.0</td>\n",
       "      <td>0.097024</td>\n",
       "      <td>0.078593</td>\n",
       "    </tr>\n",
       "    <tr>\n",
       "      <th>2024-07-01</th>\n",
       "      <td>1.0</td>\n",
       "      <td>0.054441</td>\n",
       "      <td>-0.063984</td>\n",
       "    </tr>\n",
       "    <tr>\n",
       "      <th>2024-08-01</th>\n",
       "      <td>1.0</td>\n",
       "      <td>0.031159</td>\n",
       "      <td>-0.002890</td>\n",
       "    </tr>\n",
       "    <tr>\n",
       "      <th>2024-09-01</th>\n",
       "      <td>1.0</td>\n",
       "      <td>0.018623</td>\n",
       "      <td>0.033408</td>\n",
       "    </tr>\n",
       "    <tr>\n",
       "      <th>2024-10-01</th>\n",
       "      <td>1.0</td>\n",
       "      <td>-0.030442</td>\n",
       "      <td>-0.055657</td>\n",
       "    </tr>\n",
       "    <tr>\n",
       "      <th>2024-11-01</th>\n",
       "      <td>1.0</td>\n",
       "      <td>0.050565</td>\n",
       "      <td>0.042105</td>\n",
       "    </tr>\n",
       "    <tr>\n",
       "      <th>2024-12-01</th>\n",
       "      <td>1.0</td>\n",
       "      <td>0.056301</td>\n",
       "      <td>-0.002637</td>\n",
       "    </tr>\n",
       "    <tr>\n",
       "      <th>2025-01-01</th>\n",
       "      <td>1.0</td>\n",
       "      <td>-0.057548</td>\n",
       "      <td>-0.015290</td>\n",
       "    </tr>\n",
       "    <tr>\n",
       "      <th>2025-02-01</th>\n",
       "      <td>1.0</td>\n",
       "      <td>0.024706</td>\n",
       "      <td>-0.043534</td>\n",
       "    </tr>\n",
       "    <tr>\n",
       "      <th>2025-03-01</th>\n",
       "      <td>1.0</td>\n",
       "      <td>-0.080463</td>\n",
       "      <td>-0.052520</td>\n",
       "    </tr>\n",
       "    <tr>\n",
       "      <th>2025-04-01</th>\n",
       "      <td>1.0</td>\n",
       "      <td>-0.043368</td>\n",
       "      <td>0.052949</td>\n",
       "    </tr>\n",
       "    <tr>\n",
       "      <th>2025-05-01</th>\n",
       "      <td>1.0</td>\n",
       "      <td>-0.054816</td>\n",
       "      <td>0.164698</td>\n",
       "    </tr>\n",
       "    <tr>\n",
       "      <th>2025-06-01</th>\n",
       "      <td>1.0</td>\n",
       "      <td>0.022859</td>\n",
       "      <td>0.082456</td>\n",
       "    </tr>\n",
       "    <tr>\n",
       "      <th>2025-07-01</th>\n",
       "      <td>1.0</td>\n",
       "      <td>0.011662</td>\n",
       "      <td>0.072556</td>\n",
       "    </tr>\n",
       "    <tr>\n",
       "      <th>2025-08-01</th>\n",
       "      <td>1.0</td>\n",
       "      <td>0.084744</td>\n",
       "      <td>-0.054845</td>\n",
       "    </tr>\n",
       "  </tbody>\n",
       "</table>\n",
       "</div>"
      ],
      "text/plain": [
       "            const      AAPL      MSFT\n",
       "Date                                 \n",
       "2023-10-01    1.0 -0.002595  0.070835\n",
       "2023-11-01    1.0  0.112353  0.120669\n",
       "2023-12-01    1.0  0.014885 -0.005563\n",
       "2024-01-01    1.0 -0.042219  0.057286\n",
       "2024-02-01    1.0 -0.019798  0.040395\n",
       "2024-03-01    1.0 -0.050047  0.018998\n",
       "2024-04-01    1.0 -0.006696 -0.074621\n",
       "2024-05-01    1.0  0.128666  0.066274\n",
       "2024-06-01    1.0  0.097024  0.078593\n",
       "2024-07-01    1.0  0.054441 -0.063984\n",
       "2024-08-01    1.0  0.031159 -0.002890\n",
       "2024-09-01    1.0  0.018623  0.033408\n",
       "2024-10-01    1.0 -0.030442 -0.055657\n",
       "2024-11-01    1.0  0.050565  0.042105\n",
       "2024-12-01    1.0  0.056301 -0.002637\n",
       "2025-01-01    1.0 -0.057548 -0.015290\n",
       "2025-02-01    1.0  0.024706 -0.043534\n",
       "2025-03-01    1.0 -0.080463 -0.052520\n",
       "2025-04-01    1.0 -0.043368  0.052949\n",
       "2025-05-01    1.0 -0.054816  0.164698\n",
       "2025-06-01    1.0  0.022859  0.082456\n",
       "2025-07-01    1.0  0.011662  0.072556\n",
       "2025-08-01    1.0  0.084744 -0.054845"
      ]
     },
     "execution_count": 18,
     "metadata": {},
     "output_type": "execute_result"
    }
   ],
   "source": [
    "import statsmodels.api as sm\n",
    "rend_apple_micro = sm.add_constant(rend_apple_micro)\n",
    "rend_apple_micro"
   ]
  },
  {
   "cell_type": "code",
   "execution_count": 19,
   "id": "c9c94f51",
   "metadata": {},
   "outputs": [
    {
     "data": {
      "text/html": [
       "<table class=\"simpletable\">\n",
       "<caption>OLS Regression Results</caption>\n",
       "<tr>\n",
       "  <th>Dep. Variable:</th>          <td>AAPL</td>       <th>  R-squared:         </th> <td>   0.015</td>\n",
       "</tr>\n",
       "<tr>\n",
       "  <th>Model:</th>                   <td>OLS</td>       <th>  Adj. R-squared:    </th> <td>  -0.032</td>\n",
       "</tr>\n",
       "<tr>\n",
       "  <th>Method:</th>             <td>Least Squares</td>  <th>  F-statistic:       </th> <td>  0.3228</td>\n",
       "</tr>\n",
       "<tr>\n",
       "  <th>Date:</th>             <td>Thu, 21 Aug 2025</td> <th>  Prob (F-statistic):</th>  <td> 0.576</td> \n",
       "</tr>\n",
       "<tr>\n",
       "  <th>Time:</th>                 <td>20:46:23</td>     <th>  Log-Likelihood:    </th> <td>  33.673</td>\n",
       "</tr>\n",
       "<tr>\n",
       "  <th>No. Observations:</th>      <td>    23</td>      <th>  AIC:               </th> <td>  -63.35</td>\n",
       "</tr>\n",
       "<tr>\n",
       "  <th>Df Residuals:</th>          <td>    21</td>      <th>  BIC:               </th> <td>  -61.08</td>\n",
       "</tr>\n",
       "<tr>\n",
       "  <th>Df Model:</th>              <td>     1</td>      <th>                     </th>     <td> </td>   \n",
       "</tr>\n",
       "<tr>\n",
       "  <th>Covariance Type:</th>      <td>nonrobust</td>    <th>                     </th>     <td> </td>   \n",
       "</tr>\n",
       "</table>\n",
       "<table class=\"simpletable\">\n",
       "<tr>\n",
       "    <td></td>       <th>coef</th>     <th>std err</th>      <th>t</th>      <th>P>|t|</th>  <th>[0.025</th>    <th>0.975]</th>  \n",
       "</tr>\n",
       "<tr>\n",
       "  <th>const</th> <td>    0.0113</td> <td>    0.013</td> <td>    0.871</td> <td> 0.394</td> <td>   -0.016</td> <td>    0.038</td>\n",
       "</tr>\n",
       "<tr>\n",
       "  <th>MSFT</th>  <td>    0.1117</td> <td>    0.197</td> <td>    0.568</td> <td> 0.576</td> <td>   -0.297</td> <td>    0.520</td>\n",
       "</tr>\n",
       "</table>\n",
       "<table class=\"simpletable\">\n",
       "<tr>\n",
       "  <th>Omnibus:</th>       <td> 1.503</td> <th>  Durbin-Watson:     </th> <td>   1.366</td>\n",
       "</tr>\n",
       "<tr>\n",
       "  <th>Prob(Omnibus):</th> <td> 0.472</td> <th>  Jarque-Bera (JB):  </th> <td>   1.040</td>\n",
       "</tr>\n",
       "<tr>\n",
       "  <th>Skew:</th>          <td> 0.221</td> <th>  Prob(JB):          </th> <td>   0.594</td>\n",
       "</tr>\n",
       "<tr>\n",
       "  <th>Kurtosis:</th>      <td> 2.057</td> <th>  Cond. No.          </th> <td>    16.1</td>\n",
       "</tr>\n",
       "</table><br/><br/>Notes:<br/>[1] Standard Errors assume that the covariance matrix of the errors is correctly specified."
      ],
      "text/latex": [
       "\\begin{center}\n",
       "\\begin{tabular}{lclc}\n",
       "\\toprule\n",
       "\\textbf{Dep. Variable:}    &       AAPL       & \\textbf{  R-squared:         } &     0.015   \\\\\n",
       "\\textbf{Model:}            &       OLS        & \\textbf{  Adj. R-squared:    } &    -0.032   \\\\\n",
       "\\textbf{Method:}           &  Least Squares   & \\textbf{  F-statistic:       } &    0.3228   \\\\\n",
       "\\textbf{Date:}             & Thu, 21 Aug 2025 & \\textbf{  Prob (F-statistic):} &    0.576    \\\\\n",
       "\\textbf{Time:}             &     20:46:23     & \\textbf{  Log-Likelihood:    } &    33.673   \\\\\n",
       "\\textbf{No. Observations:} &          23      & \\textbf{  AIC:               } &    -63.35   \\\\\n",
       "\\textbf{Df Residuals:}     &          21      & \\textbf{  BIC:               } &    -61.08   \\\\\n",
       "\\textbf{Df Model:}         &           1      & \\textbf{                     } &             \\\\\n",
       "\\textbf{Covariance Type:}  &    nonrobust     & \\textbf{                     } &             \\\\\n",
       "\\bottomrule\n",
       "\\end{tabular}\n",
       "\\begin{tabular}{lcccccc}\n",
       "               & \\textbf{coef} & \\textbf{std err} & \\textbf{t} & \\textbf{P$> |$t$|$} & \\textbf{[0.025} & \\textbf{0.975]}  \\\\\n",
       "\\midrule\n",
       "\\textbf{const} &       0.0113  &        0.013     &     0.871  &         0.394        &       -0.016    &        0.038     \\\\\n",
       "\\textbf{MSFT}  &       0.1117  &        0.197     &     0.568  &         0.576        &       -0.297    &        0.520     \\\\\n",
       "\\bottomrule\n",
       "\\end{tabular}\n",
       "\\begin{tabular}{lclc}\n",
       "\\textbf{Omnibus:}       &  1.503 & \\textbf{  Durbin-Watson:     } &    1.366  \\\\\n",
       "\\textbf{Prob(Omnibus):} &  0.472 & \\textbf{  Jarque-Bera (JB):  } &    1.040  \\\\\n",
       "\\textbf{Skew:}          &  0.221 & \\textbf{  Prob(JB):          } &    0.594  \\\\\n",
       "\\textbf{Kurtosis:}      &  2.057 & \\textbf{  Cond. No.          } &     16.1  \\\\\n",
       "\\bottomrule\n",
       "\\end{tabular}\n",
       "%\\caption{OLS Regression Results}\n",
       "\\end{center}\n",
       "\n",
       "Notes: \\newline\n",
       " [1] Standard Errors assume that the covariance matrix of the errors is correctly specified."
      ],
      "text/plain": [
       "<class 'statsmodels.iolib.summary.Summary'>\n",
       "\"\"\"\n",
       "                            OLS Regression Results                            \n",
       "==============================================================================\n",
       "Dep. Variable:                   AAPL   R-squared:                       0.015\n",
       "Model:                            OLS   Adj. R-squared:                 -0.032\n",
       "Method:                 Least Squares   F-statistic:                    0.3228\n",
       "Date:                Thu, 21 Aug 2025   Prob (F-statistic):              0.576\n",
       "Time:                        20:46:23   Log-Likelihood:                 33.673\n",
       "No. Observations:                  23   AIC:                            -63.35\n",
       "Df Residuals:                      21   BIC:                            -61.08\n",
       "Df Model:                           1                                         \n",
       "Covariance Type:            nonrobust                                         \n",
       "==============================================================================\n",
       "                 coef    std err          t      P>|t|      [0.025      0.975]\n",
       "------------------------------------------------------------------------------\n",
       "const          0.0113      0.013      0.871      0.394      -0.016       0.038\n",
       "MSFT           0.1117      0.197      0.568      0.576      -0.297       0.520\n",
       "==============================================================================\n",
       "Omnibus:                        1.503   Durbin-Watson:                   1.366\n",
       "Prob(Omnibus):                  0.472   Jarque-Bera (JB):                1.040\n",
       "Skew:                           0.221   Prob(JB):                        0.594\n",
       "Kurtosis:                       2.057   Cond. No.                         16.1\n",
       "==============================================================================\n",
       "\n",
       "Notes:\n",
       "[1] Standard Errors assume that the covariance matrix of the errors is correctly specified.\n",
       "\"\"\""
      ]
     },
     "execution_count": 19,
     "metadata": {},
     "output_type": "execute_result"
    }
   ],
   "source": [
    "regresion = sm.OLS(rend_apple_micro['AAPL'], rend_apple_micro[['const', 'MSFT']]).fit()\n",
    "regresion.summary()"
   ]
  },
  {
   "cell_type": "code",
   "execution_count": 20,
   "id": "dcc8c6f2",
   "metadata": {},
   "outputs": [
    {
     "data": {
      "text/plain": [
       "<bound method Series.autocorr of Date\n",
       "2023-09-01    169.55\n",
       "2023-10-01    169.11\n",
       "2023-11-01    188.11\n",
       "2023-12-01    190.91\n",
       "2024-01-01    182.85\n",
       "2024-02-01    179.23\n",
       "2024-03-01    170.26\n",
       "2024-04-01    169.12\n",
       "2024-05-01    190.88\n",
       "2024-06-01    209.40\n",
       "2024-07-01    220.80\n",
       "2024-08-01    227.68\n",
       "2024-09-01    231.92\n",
       "2024-10-01    224.86\n",
       "2024-11-01    236.23\n",
       "2024-12-01    249.53\n",
       "2025-01-01    235.17\n",
       "2025-02-01    240.98\n",
       "2025-03-01    221.59\n",
       "2025-04-01    211.98\n",
       "2025-05-01    200.36\n",
       "2025-06-01    204.94\n",
       "2025-07-01    207.33\n",
       "2025-08-01    224.90\n",
       "Name: AAPL, dtype: float64>"
      ]
     },
     "execution_count": 20,
     "metadata": {},
     "output_type": "execute_result"
    }
   ],
   "source": [
    "# calculo del indice de autocorrelacion\n",
    "# apple es una Serie (Close), no necesita ['AAPL']\n",
    "autocorrelacion = apple['AAPL'].autocorr\n",
    "autocorrelacion"
   ]
  },
  {
   "cell_type": "code",
   "execution_count": 21,
   "id": "8d259f95",
   "metadata": {},
   "outputs": [
    {
     "name": "stderr",
     "output_type": "stream",
     "text": [
      "[*********************100%***********************]  1 of 1 completed\n"
     ]
    },
    {
     "data": {
      "application/vnd.microsoft.datawrangler.viewer.v0+json": {
       "columns": [
        {
         "name": "Date",
         "rawType": "datetime64[ns]",
         "type": "datetime"
        },
        {
         "name": "AAPL",
         "rawType": "float64",
         "type": "float"
        }
       ],
       "ref": "3b88c544-b9e7-4daf-8f97-431663d622f0",
       "rows": [
        [
         "2023-08-22 00:00:00",
         "175.51"
        ],
        [
         "2023-08-23 00:00:00",
         "179.36"
        ],
        [
         "2023-08-24 00:00:00",
         "174.67"
        ],
        [
         "2023-08-25 00:00:00",
         "176.88"
        ],
        [
         "2023-08-28 00:00:00",
         "178.44"
        ],
        [
         "2023-08-29 00:00:00",
         "182.33"
        ],
        [
         "2023-08-30 00:00:00",
         "185.83"
        ],
        [
         "2023-08-31 00:00:00",
         "186.05"
        ],
        [
         "2023-09-01 00:00:00",
         "187.62"
        ],
        [
         "2023-09-05 00:00:00",
         "187.86"
        ],
        [
         "2023-09-06 00:00:00",
         "181.14"
        ],
        [
         "2023-09-07 00:00:00",
         "175.84"
        ],
        [
         "2023-09-08 00:00:00",
         "176.45"
        ],
        [
         "2023-09-11 00:00:00",
         "177.62"
        ],
        [
         "2023-09-12 00:00:00",
         "174.59"
        ],
        [
         "2023-09-13 00:00:00",
         "172.52"
        ],
        [
         "2023-09-14 00:00:00",
         "174.04"
        ],
        [
         "2023-09-15 00:00:00",
         "173.31"
        ],
        [
         "2023-09-18 00:00:00",
         "176.24"
        ],
        [
         "2023-09-19 00:00:00",
         "177.33"
        ],
        [
         "2023-09-20 00:00:00",
         "173.79"
        ],
        [
         "2023-09-21 00:00:00",
         "172.24"
        ],
        [
         "2023-09-22 00:00:00",
         "173.09"
        ],
        [
         "2023-09-25 00:00:00",
         "174.37"
        ],
        [
         "2023-09-26 00:00:00",
         "170.29"
        ],
        [
         "2023-09-27 00:00:00",
         "168.78"
        ],
        [
         "2023-09-28 00:00:00",
         "169.03"
        ],
        [
         "2023-09-29 00:00:00",
         "169.55"
        ],
        [
         "2023-10-02 00:00:00",
         "172.06"
        ],
        [
         "2023-10-03 00:00:00",
         "170.73"
        ],
        [
         "2023-10-04 00:00:00",
         "171.98"
        ],
        [
         "2023-10-05 00:00:00",
         "173.21"
        ],
        [
         "2023-10-06 00:00:00",
         "175.77"
        ],
        [
         "2023-10-09 00:00:00",
         "177.25"
        ],
        [
         "2023-10-10 00:00:00",
         "176.66"
        ],
        [
         "2023-10-11 00:00:00",
         "178.06"
        ],
        [
         "2023-10-12 00:00:00",
         "178.96"
        ],
        [
         "2023-10-13 00:00:00",
         "177.12"
        ],
        [
         "2023-10-16 00:00:00",
         "176.99"
        ],
        [
         "2023-10-17 00:00:00",
         "175.43"
        ],
        [
         "2023-10-18 00:00:00",
         "174.13"
        ],
        [
         "2023-10-19 00:00:00",
         "173.76"
        ],
        [
         "2023-10-20 00:00:00",
         "171.2"
        ],
        [
         "2023-10-23 00:00:00",
         "171.32"
        ],
        [
         "2023-10-24 00:00:00",
         "171.76"
        ],
        [
         "2023-10-25 00:00:00",
         "169.44"
        ],
        [
         "2023-10-26 00:00:00",
         "165.27"
        ],
        [
         "2023-10-27 00:00:00",
         "166.59"
        ],
        [
         "2023-10-30 00:00:00",
         "168.64"
        ],
        [
         "2023-10-31 00:00:00",
         "169.11"
        ]
       ],
       "shape": {
        "columns": 1,
        "rows": 502
       }
      },
      "text/html": [
       "<div>\n",
       "<style scoped>\n",
       "    .dataframe tbody tr th:only-of-type {\n",
       "        vertical-align: middle;\n",
       "    }\n",
       "\n",
       "    .dataframe tbody tr th {\n",
       "        vertical-align: top;\n",
       "    }\n",
       "\n",
       "    .dataframe thead th {\n",
       "        text-align: right;\n",
       "    }\n",
       "</style>\n",
       "<table border=\"1\" class=\"dataframe\">\n",
       "  <thead>\n",
       "    <tr style=\"text-align: right;\">\n",
       "      <th>Ticker</th>\n",
       "      <th>AAPL</th>\n",
       "    </tr>\n",
       "    <tr>\n",
       "      <th>Date</th>\n",
       "      <th></th>\n",
       "    </tr>\n",
       "  </thead>\n",
       "  <tbody>\n",
       "    <tr>\n",
       "      <th>2023-08-22</th>\n",
       "      <td>175.51</td>\n",
       "    </tr>\n",
       "    <tr>\n",
       "      <th>2023-08-23</th>\n",
       "      <td>179.36</td>\n",
       "    </tr>\n",
       "    <tr>\n",
       "      <th>2023-08-24</th>\n",
       "      <td>174.67</td>\n",
       "    </tr>\n",
       "    <tr>\n",
       "      <th>2023-08-25</th>\n",
       "      <td>176.88</td>\n",
       "    </tr>\n",
       "    <tr>\n",
       "      <th>2023-08-28</th>\n",
       "      <td>178.44</td>\n",
       "    </tr>\n",
       "    <tr>\n",
       "      <th>...</th>\n",
       "      <td>...</td>\n",
       "    </tr>\n",
       "    <tr>\n",
       "      <th>2025-08-15</th>\n",
       "      <td>231.59</td>\n",
       "    </tr>\n",
       "    <tr>\n",
       "      <th>2025-08-18</th>\n",
       "      <td>230.89</td>\n",
       "    </tr>\n",
       "    <tr>\n",
       "      <th>2025-08-19</th>\n",
       "      <td>230.56</td>\n",
       "    </tr>\n",
       "    <tr>\n",
       "      <th>2025-08-20</th>\n",
       "      <td>226.01</td>\n",
       "    </tr>\n",
       "    <tr>\n",
       "      <th>2025-08-21</th>\n",
       "      <td>224.90</td>\n",
       "    </tr>\n",
       "  </tbody>\n",
       "</table>\n",
       "<p>502 rows × 1 columns</p>\n",
       "</div>"
      ],
      "text/plain": [
       "Ticker        AAPL\n",
       "Date              \n",
       "2023-08-22  175.51\n",
       "2023-08-23  179.36\n",
       "2023-08-24  174.67\n",
       "2023-08-25  176.88\n",
       "2023-08-28  178.44\n",
       "...            ...\n",
       "2025-08-15  231.59\n",
       "2025-08-18  230.89\n",
       "2025-08-19  230.56\n",
       "2025-08-20  226.01\n",
       "2025-08-21  224.90\n",
       "\n",
       "[502 rows x 1 columns]"
      ]
     },
     "execution_count": 21,
     "metadata": {},
     "output_type": "execute_result"
    }
   ],
   "source": [
    "# Periodos 1d, 5d, 1m, 3m, 6m, 1y, 2y, 5y, 10y, max\n",
    "# Intervalos 1m, 2m, 5m, 15m, 30m, 60m, 90m, 1d, 1wk, 1mo, 3mo\n",
    "\n",
    "apple = yf.download(tickers=\"AAPL\", period=\"2y\", interval=\"1d\", rounding=True)\n",
    "apple = apple['Close']\n",
    "apple"
   ]
  },
  {
   "cell_type": "code",
   "execution_count": 22,
   "id": "96e3b37b",
   "metadata": {},
   "outputs": [
    {
     "name": "stdout",
     "output_type": "stream",
     "text": [
      "Autocorrelación: 0.988966283631348\n"
     ]
    }
   ],
   "source": [
    "# Calcular autocorrelación (apple debe ser una Serie)\n",
    "# Si apple es DataFrame, tomamos la columna Close\n",
    "if isinstance(apple, pd.DataFrame):\n",
    "    apple_serie = apple['Close'] if 'Close' in apple.columns else apple.iloc[:, 0]\n",
    "else:\n",
    "    apple_serie = apple\n",
    "\n",
    "autocorrelacion = apple_serie.autocorr()\n",
    "print(f\"Autocorrelación: {autocorrelacion}\")"
   ]
  },
  {
   "cell_type": "code",
   "execution_count": 23,
   "id": "73dac399",
   "metadata": {},
   "outputs": [
    {
     "name": "stdout",
     "output_type": "stream",
     "text": [
      "Tipo de apple_dif: <class 'pandas.core.frame.DataFrame'>\n"
     ]
    },
    {
     "data": {
      "application/vnd.microsoft.datawrangler.viewer.v0+json": {
       "columns": [
        {
         "name": "Date",
         "rawType": "datetime64[ns]",
         "type": "datetime"
        },
        {
         "name": "AAPL",
         "rawType": "float64",
         "type": "float"
        }
       ],
       "ref": "137e3608-bc50-4e5a-8a3e-cccc83cb5153",
       "rows": [
        [
         "2023-08-22 00:00:00",
         null
        ],
        [
         "2023-08-23 00:00:00",
         "3.8500000000000227"
        ],
        [
         "2023-08-24 00:00:00",
         "-4.690000000000026"
        ],
        [
         "2023-08-25 00:00:00",
         "2.210000000000008"
        ],
        [
         "2023-08-28 00:00:00",
         "1.5600000000000023"
        ],
        [
         "2023-08-29 00:00:00",
         "3.890000000000015"
        ],
        [
         "2023-08-30 00:00:00",
         "3.5"
        ],
        [
         "2023-08-31 00:00:00",
         "0.21999999999999886"
        ],
        [
         "2023-09-01 00:00:00",
         "1.5699999999999932"
        ],
        [
         "2023-09-05 00:00:00",
         "0.2400000000000091"
        ],
        [
         "2023-09-06 00:00:00",
         "-6.720000000000027"
        ],
        [
         "2023-09-07 00:00:00",
         "-5.299999999999983"
        ],
        [
         "2023-09-08 00:00:00",
         "0.6099999999999852"
        ],
        [
         "2023-09-11 00:00:00",
         "1.170000000000016"
        ],
        [
         "2023-09-12 00:00:00",
         "-3.030000000000001"
        ],
        [
         "2023-09-13 00:00:00",
         "-2.069999999999993"
        ],
        [
         "2023-09-14 00:00:00",
         "1.5199999999999818"
        ],
        [
         "2023-09-15 00:00:00",
         "-0.7299999999999898"
        ],
        [
         "2023-09-18 00:00:00",
         "2.930000000000007"
        ],
        [
         "2023-09-19 00:00:00",
         "1.0900000000000034"
        ],
        [
         "2023-09-20 00:00:00",
         "-3.5400000000000205"
        ],
        [
         "2023-09-21 00:00:00",
         "-1.549999999999983"
        ],
        [
         "2023-09-22 00:00:00",
         "0.8499999999999943"
        ],
        [
         "2023-09-25 00:00:00",
         "1.2800000000000011"
        ],
        [
         "2023-09-26 00:00:00",
         "-4.0800000000000125"
        ],
        [
         "2023-09-27 00:00:00",
         "-1.509999999999991"
        ],
        [
         "2023-09-28 00:00:00",
         "0.25"
        ],
        [
         "2023-09-29 00:00:00",
         "0.5200000000000102"
        ],
        [
         "2023-10-02 00:00:00",
         "2.509999999999991"
        ],
        [
         "2023-10-03 00:00:00",
         "-1.3300000000000125"
        ],
        [
         "2023-10-04 00:00:00",
         "1.25"
        ],
        [
         "2023-10-05 00:00:00",
         "1.2300000000000182"
        ],
        [
         "2023-10-06 00:00:00",
         "2.5600000000000023"
        ],
        [
         "2023-10-09 00:00:00",
         "1.4799999999999898"
        ],
        [
         "2023-10-10 00:00:00",
         "-0.5900000000000034"
        ],
        [
         "2023-10-11 00:00:00",
         "1.4000000000000057"
        ],
        [
         "2023-10-12 00:00:00",
         "0.9000000000000057"
        ],
        [
         "2023-10-13 00:00:00",
         "-1.8400000000000034"
        ],
        [
         "2023-10-16 00:00:00",
         "-0.12999999999999545"
        ],
        [
         "2023-10-17 00:00:00",
         "-1.5600000000000023"
        ],
        [
         "2023-10-18 00:00:00",
         "-1.3000000000000114"
        ],
        [
         "2023-10-19 00:00:00",
         "-0.37000000000000455"
        ],
        [
         "2023-10-20 00:00:00",
         "-2.5600000000000023"
        ],
        [
         "2023-10-23 00:00:00",
         "0.12000000000000455"
        ],
        [
         "2023-10-24 00:00:00",
         "0.4399999999999977"
        ],
        [
         "2023-10-25 00:00:00",
         "-2.319999999999993"
        ],
        [
         "2023-10-26 00:00:00",
         "-4.1699999999999875"
        ],
        [
         "2023-10-27 00:00:00",
         "1.3199999999999932"
        ],
        [
         "2023-10-30 00:00:00",
         "2.049999999999983"
        ],
        [
         "2023-10-31 00:00:00",
         "0.4700000000000273"
        ]
       ],
       "shape": {
        "columns": 1,
        "rows": 502
       }
      },
      "text/html": [
       "<div>\n",
       "<style scoped>\n",
       "    .dataframe tbody tr th:only-of-type {\n",
       "        vertical-align: middle;\n",
       "    }\n",
       "\n",
       "    .dataframe tbody tr th {\n",
       "        vertical-align: top;\n",
       "    }\n",
       "\n",
       "    .dataframe thead th {\n",
       "        text-align: right;\n",
       "    }\n",
       "</style>\n",
       "<table border=\"1\" class=\"dataframe\">\n",
       "  <thead>\n",
       "    <tr style=\"text-align: right;\">\n",
       "      <th>Ticker</th>\n",
       "      <th>AAPL</th>\n",
       "    </tr>\n",
       "    <tr>\n",
       "      <th>Date</th>\n",
       "      <th></th>\n",
       "    </tr>\n",
       "  </thead>\n",
       "  <tbody>\n",
       "    <tr>\n",
       "      <th>2023-08-22</th>\n",
       "      <td>NaN</td>\n",
       "    </tr>\n",
       "    <tr>\n",
       "      <th>2023-08-23</th>\n",
       "      <td>3.85</td>\n",
       "    </tr>\n",
       "    <tr>\n",
       "      <th>2023-08-24</th>\n",
       "      <td>-4.69</td>\n",
       "    </tr>\n",
       "    <tr>\n",
       "      <th>2023-08-25</th>\n",
       "      <td>2.21</td>\n",
       "    </tr>\n",
       "    <tr>\n",
       "      <th>2023-08-28</th>\n",
       "      <td>1.56</td>\n",
       "    </tr>\n",
       "    <tr>\n",
       "      <th>...</th>\n",
       "      <td>...</td>\n",
       "    </tr>\n",
       "    <tr>\n",
       "      <th>2025-08-15</th>\n",
       "      <td>-1.19</td>\n",
       "    </tr>\n",
       "    <tr>\n",
       "      <th>2025-08-18</th>\n",
       "      <td>-0.70</td>\n",
       "    </tr>\n",
       "    <tr>\n",
       "      <th>2025-08-19</th>\n",
       "      <td>-0.33</td>\n",
       "    </tr>\n",
       "    <tr>\n",
       "      <th>2025-08-20</th>\n",
       "      <td>-4.55</td>\n",
       "    </tr>\n",
       "    <tr>\n",
       "      <th>2025-08-21</th>\n",
       "      <td>-1.11</td>\n",
       "    </tr>\n",
       "  </tbody>\n",
       "</table>\n",
       "<p>502 rows × 1 columns</p>\n",
       "</div>"
      ],
      "text/plain": [
       "Ticker      AAPL\n",
       "Date            \n",
       "2023-08-22   NaN\n",
       "2023-08-23  3.85\n",
       "2023-08-24 -4.69\n",
       "2023-08-25  2.21\n",
       "2023-08-28  1.56\n",
       "...          ...\n",
       "2025-08-15 -1.19\n",
       "2025-08-18 -0.70\n",
       "2025-08-19 -0.33\n",
       "2025-08-20 -4.55\n",
       "2025-08-21 -1.11\n",
       "\n",
       "[502 rows x 1 columns]"
      ]
     },
     "execution_count": 23,
     "metadata": {},
     "output_type": "execute_result"
    }
   ],
   "source": [
    "# Usar la Serie apple_close para calcular diferencias\n",
    "apple_dif = apple.diff()\n",
    "print(f\"Tipo de apple_dif: {type(apple_dif)}\")\n",
    "apple_dif"
   ]
  },
  {
   "cell_type": "code",
   "execution_count": 24,
   "id": "190ef996",
   "metadata": {},
   "outputs": [
    {
     "data": {
      "text/plain": [
       "np.float64(0.06338833844807037)"
      ]
     },
     "execution_count": 24,
     "metadata": {},
     "output_type": "execute_result"
    }
   ],
   "source": [
    "# Crear explícitamente una Serie para autocorrelación\n",
    "# Si apple_dif es DataFrame, convertir a Serie\n",
    "if isinstance(apple_dif, pd.DataFrame):\n",
    "    apple_dif_serie = apple_dif['Close'] if 'Close' in apple_dif.columns else apple_dif.iloc[:, 0]\n",
    "else:\n",
    "    apple_dif_serie = apple_dif\n",
    "\n",
    "autocorrelacion_dif = apple_dif_serie.autocorr()\n",
    "autocorrelacion_dif"
   ]
  },
  {
   "cell_type": "code",
   "execution_count": 25,
   "id": "321f866a",
   "metadata": {},
   "outputs": [],
   "source": [
    "# Generacion de la funcion de autocorrelacion\n",
    "from statsmodels.tsa.stattools import acf\n",
    "from statsmodels.graphics.tsaplots import plot_acf"
   ]
  },
  {
   "cell_type": "code",
   "execution_count": 26,
   "id": "298a6962",
   "metadata": {},
   "outputs": [
    {
     "name": "stdout",
     "output_type": "stream",
     "text": [
      "Array de autocorrelación: [1.         0.98675728 0.97242128 0.95504962 0.93955618 0.92535847\n",
      " 0.9132627  0.90180373 0.89211784 0.8832285  0.87386392 0.86592209\n",
      " 0.85789513 0.85087619 0.84276879 0.83509864 0.82595929 0.81876448\n",
      " 0.81163872 0.80366265 0.79583398 0.78596609 0.77653964 0.76617756\n",
      " 0.75611688 0.74662996 0.73814056 0.72864756]\n"
     ]
    }
   ],
   "source": [
    "acf_array = acf(apple)\n",
    "print(f\"Array de autocorrelación: {acf_array}\")"
   ]
  },
  {
   "cell_type": "code",
   "execution_count": 27,
   "id": "39c4adc8",
   "metadata": {},
   "outputs": [
    {
     "data": {
      "image/png": "[encoded data removed]",
      "text/plain": [
       "<Figure size 640x480 with 1 Axes>"
      ]
     },
     "metadata": {},
     "output_type": "display_data"
    }
   ],
   "source": [
    "plot_acf(apple, alpha=0.05)\n",
    "plt.show()"
   ]
  },
  {
   "cell_type": "code",
   "execution_count": 28,
   "id": "9277a073",
   "metadata": {},
   "outputs": [
    {
     "name": "stdout",
     "output_type": "stream",
     "text": [
      "Array de autocorrelación de rendimientos: [ 1.          0.25362044  0.05724255 -0.17196619 -0.33382594 -0.24300134\n",
      "  0.21017704  0.04053975 -0.12671897 -0.0864679  -0.27855912 -0.20167176\n",
      "  0.12621605  0.2032034 ]\n"
     ]
    }
   ],
   "source": [
    "rendimientos = rendimientos.dropna()\n",
    "acf_rendimientos = acf(rendimientos)\n",
    "print(f\"Array de autocorrelación de rendimientos: {acf_rendimientos}\")"
   ]
  },
  {
   "cell_type": "code",
   "execution_count": 29,
   "id": "ee5f5793",
   "metadata": {},
   "outputs": [
    {
     "data": {
      "image/png": "[encoded data removed]",
      "text/plain": [
       "<Figure size 640x480 with 1 Axes>"
      ]
     },
     "metadata": {},
     "output_type": "display_data"
    }
   ],
   "source": [
    "plot_acf(rendimientos, alpha=0.05, lags=20)\n",
    "plt.show()"
   ]
  },
  {
   "cell_type": "code",
   "execution_count": 30,
   "id": "3ed72281",
   "metadata": {},
   "outputs": [],
   "source": [
    "# prueba de caminata aleatoria\n",
    "# H0: se tiene un proceso de caminata aleatoria\n",
    "# H1: No se tiene un proceso de caminata aleatoria\n",
    "\n",
    "from statsmodels.tsa.stattools import adfuller\n",
    "import numpy as np\n",
    "\n",
    "# Generacion de 500 pasos aleatorios\n",
    "np.random.seed(1)\n",
    "pasos = np.random.normal(loc=0.001, scale=0.01, size=500)+1"
   ]
  },
  {
   "cell_type": "code",
   "execution_count": 31,
   "id": "58b1c931",
   "metadata": {},
   "outputs": [],
   "source": [
    "pasos[0]=1\n",
    "P = 100 + np.cumprod(pasos)"
   ]
  },
  {
   "cell_type": "code",
   "execution_count": 32,
   "id": "604977da",
   "metadata": {},
   "outputs": [
    {
     "data": {
      "image/png": "[encoded data removed]",
      "text/plain": [
       "<Figure size 640x480 with 1 Axes>"
      ]
     },
     "metadata": {},
     "output_type": "display_data"
    }
   ],
   "source": [
    "# Graficar\n",
    "\n",
    "plt.plot(P)\n",
    "plt.title('Caminata Aleatoria')\n",
    "plt.show()"
   ]
  },
  {
   "cell_type": "code",
   "execution_count": null,
   "id": "eefa089e",
   "metadata": {},
   "outputs": [
    {
     "name": "stdout",
     "output_type": "stream",
     "text": [
      "El Valor de la prueba ADF es: 0.9404090932977585\n"
     ]
    }
   ],
   "source": [
    "resultado = adfuller(P)\n",
    "print(f\"El Valor de la prueba p es: {resultado[1]}\")"
   ]
  },
  {
   "cell_type": "code",
   "execution_count": 34,
   "id": "a9466e7d",
   "metadata": {},
   "outputs": [
    {
     "name": "stdout",
     "output_type": "stream",
     "text": [
      "El Valor de la prueba ADF es: 0.33302215812948843\n"
     ]
    }
   ],
   "source": [
    "# prueba Dickey-Fuller para los precios de Apple\n",
    "\n",
    "resultado = adfuller(apple)\n",
    "print(f\"El Valor de la prueba ADF es: {resultado[1]}\")"
   ]
  },
  {
   "cell_type": "code",
   "execution_count": 35,
   "id": "4ba9c45c",
   "metadata": {},
   "outputs": [
    {
     "data": {
      "image/png": "[encoded data removed]",
      "text/plain": [
       "<Figure size 1000x600 with 1 Axes>"
      ]
     },
     "metadata": {},
     "output_type": "display_data"
    }
   ],
   "source": [
    "# Graficacion de la media movil para apple\n",
    "rolling_apple = apple.rolling(30).mean()\n",
    "plt.figure(figsize=(10, 6))\n",
    "plt.plot(apple.index, apple.values, label='Precio Apple', color='blue', linewidth=1.5)\n",
    "plt.plot(rolling_apple.index, rolling_apple.values, label='Media Móvil 30 días', color='orange', linewidth=2)\n",
    "plt.title('Media Móvil de 30 días para Apple', fontsize=14)\n",
    "plt.xlabel('Fecha', fontsize=12)\n",
    "plt.legend()\n",
    "plt.grid(True, alpha=0.3)\n",
    "plt.tight_layout()\n",
    "plt.show()"
   ]
  },
  {
   "cell_type": "code",
   "execution_count": 36,
   "id": "2a44179b",
   "metadata": {},
   "outputs": [
    {
     "data": {
      "image/png": "[encoded data removed]",
      "text/plain": [
       "<Figure size 1000x600 with 1 Axes>"
      ]
     },
     "metadata": {},
     "output_type": "display_data"
    }
   ],
   "source": [
    "# descomposicion de la serie de tiempo\n",
    "\n",
    "apple.plot(figsize=(10, 6)).grid()"
   ]
  },
  {
   "cell_type": "code",
   "execution_count": 37,
   "id": "67b30222",
   "metadata": {},
   "outputs": [
    {
     "name": "stderr",
     "output_type": "stream",
     "text": [
      "[*********************100%***********************]  1 of 1 completed\n"
     ]
    }
   ],
   "source": [
    "apple = yf.download(tickers=\"AAPL\", period=\"3y\", interval=\"1d\", rounding=True)\n",
    "apple = apple['Close']\n",
    "decom_apple = sm.tsa.seasonal_decompose(apple, model='additive', period=30)"
   ]
  },
  {
   "cell_type": "code",
   "execution_count": 38,
   "id": "5a6a7c87",
   "metadata": {},
   "outputs": [
    {
     "data": {
      "image/png": "[encoded data removed]",
      "text/plain": [
       "<Figure size 640x480 with 4 Axes>"
      ]
     },
     "metadata": {},
     "output_type": "display_data"
    }
   ],
   "source": [
    "figure = decom_apple.plot()\n",
    "plt.grid()\n",
    "plt.show()"
   ]
  },
  {
   "cell_type": "markdown",
   "id": "5629dc51",
   "metadata": {},
   "source": [
    "Prediccion simple mediante promedios moviles"
   ]
  },
  {
   "cell_type": "code",
   "execution_count": 39,
   "id": "abea483c",
   "metadata": {},
   "outputs": [
    {
     "data": {
      "text/plain": [
       "(753, 1)"
      ]
     },
     "execution_count": 39,
     "metadata": {},
     "output_type": "execute_result"
    }
   ],
   "source": [
    "apple.shape"
   ]
  },
  {
   "cell_type": "code",
   "execution_count": 40,
   "id": "1488adef",
   "metadata": {},
   "outputs": [
    {
     "data": {
      "text/plain": [
       "601"
      ]
     },
     "execution_count": 40,
     "metadata": {},
     "output_type": "execute_result"
    }
   ],
   "source": [
    "len_train = int(752 * 0.8)\n",
    "len_train"
   ]
  },
  {
   "cell_type": "code",
   "execution_count": 41,
   "id": "b6a0c058",
   "metadata": {},
   "outputs": [],
   "source": [
    "train = apple[0:len_train]\n",
    "test = apple[len_train:]"
   ]
  },
  {
   "cell_type": "code",
   "execution_count": 42,
   "id": "9ce5fd7e",
   "metadata": {},
   "outputs": [
    {
     "name": "stdout",
     "output_type": "stream",
     "text": [
      "601\n",
      "152\n"
     ]
    }
   ],
   "source": [
    "print (len(train))\n",
    "print (len(test))"
   ]
  },
  {
   "cell_type": "code",
   "execution_count": 43,
   "id": "ee98318d",
   "metadata": {},
   "outputs": [],
   "source": [
    "y_pred = apple.copy()\n",
    "y_pred = pd.DataFrame(y_pred)"
   ]
  },
  {
   "cell_type": "code",
   "execution_count": 44,
   "id": "60e6ff53",
   "metadata": {},
   "outputs": [
    {
     "name": "stdout",
     "output_type": "stream",
     "text": [
      "Ticker        AAPL  pronostico\n",
      "Date                          \n",
      "2022-08-22  164.97         NaN\n",
      "2022-08-23  164.63         NaN\n",
      "2022-08-24  164.93         NaN\n",
      "2022-08-25  167.39         NaN\n",
      "2022-08-26  161.08         NaN\n",
      "2022-08-29  158.87         NaN\n",
      "2022-08-30  156.44         NaN\n",
      "2022-08-31  154.78         NaN\n",
      "2022-09-01  155.51         NaN\n",
      "2022-09-02  153.39         NaN\n",
      "2022-09-06  152.13         NaN\n",
      "2022-09-07  153.54         NaN\n",
      "2022-09-08  152.06         NaN\n",
      "2022-09-09  154.92         NaN\n",
      "2022-09-12  160.89         NaN\n",
      "2022-09-13  151.45         NaN\n",
      "2022-09-14  152.90         NaN\n",
      "2022-09-15  150.00         NaN\n",
      "2022-09-16  148.36         NaN\n",
      "2022-09-19  152.08         NaN\n",
      "2022-09-20  154.46         NaN\n",
      "2022-09-21  151.33         NaN\n",
      "2022-09-22  150.37         NaN\n",
      "2022-09-23  148.09         NaN\n",
      "2022-09-26  148.43         NaN\n",
      "2022-09-27  149.40         NaN\n",
      "2022-09-28  147.51         NaN\n",
      "2022-09-29  140.27         NaN\n",
      "2022-09-30  136.05         NaN\n",
      "2022-10-03  140.24  153.215667\n",
      "2022-10-04  143.83  152.511000\n",
      "Valores NaN: 29\n"
     ]
    }
   ],
   "source": [
    "y_pred['pronostico'] = apple.rolling(30).mean()\n",
    "print(y_pred.head(31))\n",
    "print(f\"Valores NaN: {y_pred['pronostico'].isna().sum()}\")"
   ]
  },
  {
   "cell_type": "code",
   "execution_count": 45,
   "id": "e39439f8",
   "metadata": {},
   "outputs": [
    {
     "name": "stdout",
     "output_type": "stream",
     "text": [
      "Valores no nulos: 723\n",
      "Valores NaN: 30\n"
     ]
    },
    {
     "data": {
      "application/vnd.microsoft.datawrangler.viewer.v0+json": {
       "columns": [
        {
         "name": "Date",
         "rawType": "datetime64[ns]",
         "type": "datetime"
        },
        {
         "name": "pronostico",
         "rawType": "float64",
         "type": "float"
        }
       ],
       "ref": "e3c58683-4cc7-4bd5-8302-9667b66a6658",
       "rows": [
        [
         "2022-08-22 00:00:00",
         null
        ],
        [
         "2022-08-23 00:00:00",
         null
        ],
        [
         "2022-08-24 00:00:00",
         null
        ],
        [
         "2022-08-25 00:00:00",
         null
        ],
        [
         "2022-08-26 00:00:00",
         null
        ],
        [
         "2022-08-29 00:00:00",
         null
        ],
        [
         "2022-08-30 00:00:00",
         null
        ],
        [
         "2022-08-31 00:00:00",
         null
        ],
        [
         "2022-09-01 00:00:00",
         null
        ],
        [
         "2022-09-02 00:00:00",
         null
        ],
        [
         "2022-09-06 00:00:00",
         null
        ],
        [
         "2022-09-07 00:00:00",
         null
        ],
        [
         "2022-09-08 00:00:00",
         null
        ],
        [
         "2022-09-09 00:00:00",
         null
        ],
        [
         "2022-09-12 00:00:00",
         null
        ],
        [
         "2022-09-13 00:00:00",
         null
        ],
        [
         "2022-09-14 00:00:00",
         null
        ],
        [
         "2022-09-15 00:00:00",
         null
        ],
        [
         "2022-09-16 00:00:00",
         null
        ],
        [
         "2022-09-19 00:00:00",
         null
        ],
        [
         "2022-09-20 00:00:00",
         null
        ],
        [
         "2022-09-21 00:00:00",
         null
        ],
        [
         "2022-09-22 00:00:00",
         null
        ],
        [
         "2022-09-23 00:00:00",
         null
        ],
        [
         "2022-09-26 00:00:00",
         null
        ],
        [
         "2022-09-27 00:00:00",
         null
        ],
        [
         "2022-09-28 00:00:00",
         null
        ],
        [
         "2022-09-29 00:00:00",
         null
        ],
        [
         "2022-09-30 00:00:00",
         null
        ],
        [
         "2022-10-03 00:00:00",
         null
        ],
        [
         "2022-10-04 00:00:00",
         "153.21566666666666"
        ],
        [
         "2022-10-05 00:00:00",
         "152.51100000000002"
        ],
        [
         "2022-10-06 00:00:00",
         "151.8273333333333"
        ],
        [
         "2022-10-07 00:00:00",
         "151.102"
        ],
        [
         "2022-10-10 00:00:00",
         "150.11933333333334"
        ],
        [
         "2022-10-11 00:00:00",
         "149.358"
        ],
        [
         "2022-10-12 00:00:00",
         "148.62299999999996"
        ],
        [
         "2022-10-13 00:00:00",
         "147.94799999999995"
        ],
        [
         "2022-10-14 00:00:00",
         "147.48099999999997"
        ],
        [
         "2022-10-17 00:00:00",
         "146.8383333333333"
        ]
       ],
       "shape": {
        "columns": 1,
        "rows": 40
       }
      },
      "text/html": [
       "<div>\n",
       "<style scoped>\n",
       "    .dataframe tbody tr th:only-of-type {\n",
       "        vertical-align: middle;\n",
       "    }\n",
       "\n",
       "    .dataframe tbody tr th {\n",
       "        vertical-align: top;\n",
       "    }\n",
       "\n",
       "    .dataframe thead th {\n",
       "        text-align: right;\n",
       "    }\n",
       "</style>\n",
       "<table border=\"1\" class=\"dataframe\">\n",
       "  <thead>\n",
       "    <tr style=\"text-align: right;\">\n",
       "      <th></th>\n",
       "      <th>pronostico</th>\n",
       "    </tr>\n",
       "    <tr>\n",
       "      <th>Date</th>\n",
       "      <th></th>\n",
       "    </tr>\n",
       "  </thead>\n",
       "  <tbody>\n",
       "    <tr>\n",
       "      <th>2022-08-22</th>\n",
       "      <td>NaN</td>\n",
       "    </tr>\n",
       "    <tr>\n",
       "      <th>2022-08-23</th>\n",
       "      <td>NaN</td>\n",
       "    </tr>\n",
       "    <tr>\n",
       "      <th>2022-08-24</th>\n",
       "      <td>NaN</td>\n",
       "    </tr>\n",
       "    <tr>\n",
       "      <th>2022-08-25</th>\n",
       "      <td>NaN</td>\n",
       "    </tr>\n",
       "    <tr>\n",
       "      <th>2022-08-26</th>\n",
       "      <td>NaN</td>\n",
       "    </tr>\n",
       "    <tr>\n",
       "      <th>2022-08-29</th>\n",
       "      <td>NaN</td>\n",
       "    </tr>\n",
       "    <tr>\n",
       "      <th>2022-08-30</th>\n",
       "      <td>NaN</td>\n",
       "    </tr>\n",
       "    <tr>\n",
       "      <th>2022-08-31</th>\n",
       "      <td>NaN</td>\n",
       "    </tr>\n",
       "    <tr>\n",
       "      <th>2022-09-01</th>\n",
       "      <td>NaN</td>\n",
       "    </tr>\n",
       "    <tr>\n",
       "      <th>2022-09-02</th>\n",
       "      <td>NaN</td>\n",
       "    </tr>\n",
       "    <tr>\n",
       "      <th>2022-09-06</th>\n",
       "      <td>NaN</td>\n",
       "    </tr>\n",
       "    <tr>\n",
       "      <th>2022-09-07</th>\n",
       "      <td>NaN</td>\n",
       "    </tr>\n",
       "    <tr>\n",
       "      <th>2022-09-08</th>\n",
       "      <td>NaN</td>\n",
       "    </tr>\n",
       "    <tr>\n",
       "      <th>2022-09-09</th>\n",
       "      <td>NaN</td>\n",
       "    </tr>\n",
       "    <tr>\n",
       "      <th>2022-09-12</th>\n",
       "      <td>NaN</td>\n",
       "    </tr>\n",
       "    <tr>\n",
       "      <th>2022-09-13</th>\n",
       "      <td>NaN</td>\n",
       "    </tr>\n",
       "    <tr>\n",
       "      <th>2022-09-14</th>\n",
       "      <td>NaN</td>\n",
       "    </tr>\n",
       "    <tr>\n",
       "      <th>2022-09-15</th>\n",
       "      <td>NaN</td>\n",
       "    </tr>\n",
       "    <tr>\n",
       "      <th>2022-09-16</th>\n",
       "      <td>NaN</td>\n",
       "    </tr>\n",
       "    <tr>\n",
       "      <th>2022-09-19</th>\n",
       "      <td>NaN</td>\n",
       "    </tr>\n",
       "    <tr>\n",
       "      <th>2022-09-20</th>\n",
       "      <td>NaN</td>\n",
       "    </tr>\n",
       "    <tr>\n",
       "      <th>2022-09-21</th>\n",
       "      <td>NaN</td>\n",
       "    </tr>\n",
       "    <tr>\n",
       "      <th>2022-09-22</th>\n",
       "      <td>NaN</td>\n",
       "    </tr>\n",
       "    <tr>\n",
       "      <th>2022-09-23</th>\n",
       "      <td>NaN</td>\n",
       "    </tr>\n",
       "    <tr>\n",
       "      <th>2022-09-26</th>\n",
       "      <td>NaN</td>\n",
       "    </tr>\n",
       "    <tr>\n",
       "      <th>2022-09-27</th>\n",
       "      <td>NaN</td>\n",
       "    </tr>\n",
       "    <tr>\n",
       "      <th>2022-09-28</th>\n",
       "      <td>NaN</td>\n",
       "    </tr>\n",
       "    <tr>\n",
       "      <th>2022-09-29</th>\n",
       "      <td>NaN</td>\n",
       "    </tr>\n",
       "    <tr>\n",
       "      <th>2022-09-30</th>\n",
       "      <td>NaN</td>\n",
       "    </tr>\n",
       "    <tr>\n",
       "      <th>2022-10-03</th>\n",
       "      <td>NaN</td>\n",
       "    </tr>\n",
       "    <tr>\n",
       "      <th>2022-10-04</th>\n",
       "      <td>153.215667</td>\n",
       "    </tr>\n",
       "    <tr>\n",
       "      <th>2022-10-05</th>\n",
       "      <td>152.511000</td>\n",
       "    </tr>\n",
       "    <tr>\n",
       "      <th>2022-10-06</th>\n",
       "      <td>151.827333</td>\n",
       "    </tr>\n",
       "    <tr>\n",
       "      <th>2022-10-07</th>\n",
       "      <td>151.102000</td>\n",
       "    </tr>\n",
       "    <tr>\n",
       "      <th>2022-10-10</th>\n",
       "      <td>150.119333</td>\n",
       "    </tr>\n",
       "    <tr>\n",
       "      <th>2022-10-11</th>\n",
       "      <td>149.358000</td>\n",
       "    </tr>\n",
       "    <tr>\n",
       "      <th>2022-10-12</th>\n",
       "      <td>148.623000</td>\n",
       "    </tr>\n",
       "    <tr>\n",
       "      <th>2022-10-13</th>\n",
       "      <td>147.948000</td>\n",
       "    </tr>\n",
       "    <tr>\n",
       "      <th>2022-10-14</th>\n",
       "      <td>147.481000</td>\n",
       "    </tr>\n",
       "    <tr>\n",
       "      <th>2022-10-17</th>\n",
       "      <td>146.838333</td>\n",
       "    </tr>\n",
       "  </tbody>\n",
       "</table>\n",
       "</div>"
      ],
      "text/plain": [
       "            pronostico\n",
       "Date                  \n",
       "2022-08-22         NaN\n",
       "2022-08-23         NaN\n",
       "2022-08-24         NaN\n",
       "2022-08-25         NaN\n",
       "2022-08-26         NaN\n",
       "2022-08-29         NaN\n",
       "2022-08-30         NaN\n",
       "2022-08-31         NaN\n",
       "2022-09-01         NaN\n",
       "2022-09-02         NaN\n",
       "2022-09-06         NaN\n",
       "2022-09-07         NaN\n",
       "2022-09-08         NaN\n",
       "2022-09-09         NaN\n",
       "2022-09-12         NaN\n",
       "2022-09-13         NaN\n",
       "2022-09-14         NaN\n",
       "2022-09-15         NaN\n",
       "2022-09-16         NaN\n",
       "2022-09-19         NaN\n",
       "2022-09-20         NaN\n",
       "2022-09-21         NaN\n",
       "2022-09-22         NaN\n",
       "2022-09-23         NaN\n",
       "2022-09-26         NaN\n",
       "2022-09-27         NaN\n",
       "2022-09-28         NaN\n",
       "2022-09-29         NaN\n",
       "2022-09-30         NaN\n",
       "2022-10-03         NaN\n",
       "2022-10-04  153.215667\n",
       "2022-10-05  152.511000\n",
       "2022-10-06  151.827333\n",
       "2022-10-07  151.102000\n",
       "2022-10-10  150.119333\n",
       "2022-10-11  149.358000\n",
       "2022-10-12  148.623000\n",
       "2022-10-13  147.948000\n",
       "2022-10-14  147.481000\n",
       "2022-10-17  146.838333"
      ]
     },
     "execution_count": 45,
     "metadata": {},
     "output_type": "execute_result"
    }
   ],
   "source": [
    "# Crear modelo de predicción usando media móvil de 30 días\n",
    "y_pred_m = pd.DataFrame(index=apple.index)\n",
    "y_pred_m['pronostico'] = np.nan\n",
    "\n",
    "# Calcular predicciones usando media móvil de los últimos 30 días\n",
    "for i in range(30, len(apple)):\n",
    "    # Para cada punto, usar la media de los 30 días anteriores como predicción\n",
    "    y_pred_m['pronostico'].iloc[i] = apple.iloc[i-30:i].mean()\n",
    "\n",
    "print(f\"Valores no nulos: {y_pred_m['pronostico'].count()}\")\n",
    "print(f\"Valores NaN: {y_pred_m['pronostico'].isna().sum()}\")\n",
    "y_pred_m.head(40)  # Mostrar primeros 40 para ver el patrón"
   ]
  },
  {
   "cell_type": "code",
   "execution_count": 46,
   "id": "9a0e31e3",
   "metadata": {},
   "outputs": [
    {
     "name": "stdout",
     "output_type": "stream",
     "text": [
      "Período de test: desde índice 601\n",
      "Fechas del test: desde 2025-01-14 00:00:00 hasta 2025-08-21 00:00:00\n"
     ]
    },
    {
     "data": {
      "application/vnd.microsoft.datawrangler.viewer.v0+json": {
       "columns": [
        {
         "name": "Date",
         "rawType": "datetime64[ns]",
         "type": "datetime"
        },
        {
         "name": "pronostico",
         "rawType": "float64",
         "type": "float"
        }
       ],
       "ref": "c3f67e5d-90ee-4315-820f-8d30f854c91a",
       "rows": [
        [
         "2025-01-14 00:00:00",
         "245.67433333333335"
        ],
        [
         "2025-01-15 00:00:00",
         "245.61933333333337"
        ],
        [
         "2025-01-16 00:00:00",
         "245.63733333333332"
        ],
        [
         "2025-01-17 00:00:00",
         "245.261"
        ],
        [
         "2025-01-21 00:00:00",
         "244.84033333333335"
        ],
        [
         "2025-01-22 00:00:00",
         "244.16366666666667"
        ],
        [
         "2025-01-23 00:00:00",
         "243.5256666666667"
        ],
        [
         "2025-01-24 00:00:00",
         "242.88866666666667"
        ],
        [
         "2025-01-27 00:00:00",
         "242.09233333333333"
        ],
        [
         "2025-01-28 00:00:00",
         "241.49766666666667"
        ],
        [
         "2025-01-29 00:00:00",
         "241.22433333333336"
        ],
        [
         "2025-01-30 00:00:00",
         "240.93866666666665"
        ],
        [
         "2025-01-31 00:00:00",
         "240.58866666666665"
        ],
        [
         "2025-02-03 00:00:00",
         "240.08933333333334"
        ],
        [
         "2025-02-04 00:00:00",
         "239.24333333333334"
        ],
        [
         "2025-02-05 00:00:00",
         "238.737"
        ],
        [
         "2025-02-06 00:00:00",
         "238.16166666666666"
        ],
        [
         "2025-02-07 00:00:00",
         "237.4553333333333"
        ],
        [
         "2025-02-10 00:00:00",
         "236.53699999999992"
        ],
        [
         "2025-02-11 00:00:00",
         "235.5303333333333"
        ],
        [
         "2025-02-12 00:00:00",
         "234.66199999999995"
        ],
        [
         "2025-02-13 00:00:00",
         "234.04866666666663"
        ],
        [
         "2025-02-14 00:00:00",
         "233.70299999999997"
        ],
        [
         "2025-02-18 00:00:00",
         "233.5186666666667"
        ],
        [
         "2025-02-19 00:00:00",
         "233.54800000000003"
        ],
        [
         "2025-02-20 00:00:00",
         "233.60700000000003"
        ],
        [
         "2025-02-21 00:00:00",
         "233.64366666666666"
        ],
        [
         "2025-02-24 00:00:00",
         "233.76366666666664"
        ],
        [
         "2025-02-25 00:00:00",
         "233.91899999999998"
        ],
        [
         "2025-02-26 00:00:00",
         "234.26666666666668"
        ],
        [
         "2025-02-27 00:00:00",
         "234.47333333333336"
        ],
        [
         "2025-02-28 00:00:00",
         "234.61566666666667"
        ],
        [
         "2025-03-03 00:00:00",
         "234.75633333333334"
        ],
        [
         "2025-03-04 00:00:00",
         "235.0896666666667"
        ],
        [
         "2025-03-05 00:00:00",
         "235.2956666666667"
        ],
        [
         "2025-03-06 00:00:00",
         "235.73933333333335"
        ],
        [
         "2025-03-07 00:00:00",
         "236.13000000000002"
        ],
        [
         "2025-03-10 00:00:00",
         "236.65066666666664"
        ],
        [
         "2025-03-11 00:00:00",
         "236.815"
        ],
        [
         "2025-03-12 00:00:00",
         "236.52333333333334"
        ],
        [
         "2025-03-13 00:00:00",
         "235.82433333333333"
        ],
        [
         "2025-03-14 00:00:00",
         "234.84633333333332"
        ],
        [
         "2025-03-17 00:00:00",
         "234.05366666666666"
        ],
        [
         "2025-03-18 00:00:00",
         "233.33066666666667"
        ],
        [
         "2025-03-19 00:00:00",
         "232.82966666666664"
        ],
        [
         "2025-03-20 00:00:00",
         "232.254"
        ],
        [
         "2025-03-21 00:00:00",
         "231.65166666666664"
        ],
        [
         "2025-03-24 00:00:00",
         "231.16299999999998"
        ],
        [
         "2025-03-25 00:00:00",
         "230.94199999999995"
        ],
        [
         "2025-03-26 00:00:00",
         "230.81233333333333"
        ]
       ],
       "shape": {
        "columns": 1,
        "rows": 152
       }
      },
      "text/plain": [
       "Date\n",
       "2025-01-14    245.674333\n",
       "2025-01-15    245.619333\n",
       "2025-01-16    245.637333\n",
       "2025-01-17    245.261000\n",
       "2025-01-21    244.840333\n",
       "                 ...    \n",
       "2025-08-15    213.863333\n",
       "2025-08-18    214.472667\n",
       "2025-08-19    215.178667\n",
       "2025-08-20    215.871667\n",
       "2025-08-21    216.375333\n",
       "Name: pronostico, Length: 152, dtype: float64"
      ]
     },
     "execution_count": 46,
     "metadata": {},
     "output_type": "execute_result"
    }
   ],
   "source": [
    "# Filtrar las predicciones para el período de test (desde len_train en adelante)\n",
    "y_pred_m_test = y_pred_m['pronostico'][len_train:]\n",
    "print(f\"Período de test: desde índice {len_train}\")\n",
    "print(f\"Fechas del test: desde {apple.index[len_train]} hasta {apple.index[-1]}\")\n",
    "y_pred_m_test"
   ]
  },
  {
   "cell_type": "code",
   "execution_count": 47,
   "id": "4894e04b",
   "metadata": {},
   "outputs": [
    {
     "data": {
      "image/png": "[encoded data removed]",
      "text/plain": [
       "<Figure size 2000x500 with 1 Axes>"
      ]
     },
     "metadata": {},
     "output_type": "display_data"
    }
   ],
   "source": [
    "plt.figure(figsize=(20,5))\n",
    "plt.grid()\n",
    "plt.plot(train, label='Train', color='blue')\n",
    "plt.plot(test, label='Test', color='green')\n",
    "plt.plot(y_pred_m_test, label='Predicción', color='red')\n",
    "plt.title('Predicción de precios de Apple')\n",
    "plt.legend(loc='best')\n",
    "plt.show()"
   ]
  },
  {
   "cell_type": "code",
   "execution_count": 48,
   "id": "1dd48eb4",
   "metadata": {},
   "outputs": [
    {
     "data": {
      "application/vnd.microsoft.datawrangler.viewer.v0+json": {
       "columns": [
        {
         "name": "Date",
         "rawType": "datetime64[ns]",
         "type": "datetime"
        },
        {
         "name": "AAPL",
         "rawType": "float64",
         "type": "float"
        }
       ],
       "ref": "17cc707a-13d5-443d-930f-1ca9c1183bc3",
       "rows": [
        [
         "2025-01-14 00:00:00",
         "232.45"
        ],
        [
         "2025-01-15 00:00:00",
         "237.03"
        ],
        [
         "2025-01-16 00:00:00",
         "227.45"
        ],
        [
         "2025-01-17 00:00:00",
         "229.17"
        ],
        [
         "2025-01-21 00:00:00",
         "221.85"
        ],
        [
         "2025-01-22 00:00:00",
         "223.04"
        ],
        [
         "2025-01-23 00:00:00",
         "222.87"
        ],
        [
         "2025-01-24 00:00:00",
         "221.99"
        ],
        [
         "2025-01-27 00:00:00",
         "229.05"
        ],
        [
         "2025-01-28 00:00:00",
         "237.42"
        ],
        [
         "2025-01-29 00:00:00",
         "238.51"
        ],
        [
         "2025-01-30 00:00:00",
         "236.75"
        ],
        [
         "2025-01-31 00:00:00",
         "235.17"
        ],
        [
         "2025-02-03 00:00:00",
         "227.2"
        ],
        [
         "2025-02-04 00:00:00",
         "231.98"
        ],
        [
         "2025-02-05 00:00:00",
         "231.65"
        ],
        [
         "2025-02-06 00:00:00",
         "232.4"
        ],
        [
         "2025-02-07 00:00:00",
         "226.82"
        ],
        [
         "2025-02-10 00:00:00",
         "227.09"
        ],
        [
         "2025-02-11 00:00:00",
         "232.05"
        ],
        [
         "2025-02-12 00:00:00",
         "236.29"
        ],
        [
         "2025-02-13 00:00:00",
         "240.94"
        ],
        [
         "2025-02-14 00:00:00",
         "244.0"
        ],
        [
         "2025-02-18 00:00:00",
         "243.87"
        ],
        [
         "2025-02-19 00:00:00",
         "244.27"
        ],
        [
         "2025-02-20 00:00:00",
         "245.23"
        ],
        [
         "2025-02-21 00:00:00",
         "244.95"
        ],
        [
         "2025-02-24 00:00:00",
         "246.5"
        ],
        [
         "2025-02-25 00:00:00",
         "246.44"
        ],
        [
         "2025-02-26 00:00:00",
         "239.77"
        ],
        [
         "2025-02-27 00:00:00",
         "236.72"
        ],
        [
         "2025-02-28 00:00:00",
         "241.25"
        ],
        [
         "2025-03-03 00:00:00",
         "237.45"
        ],
        [
         "2025-03-04 00:00:00",
         "235.35"
        ],
        [
         "2025-03-05 00:00:00",
         "235.16"
        ],
        [
         "2025-03-06 00:00:00",
         "234.76"
        ],
        [
         "2025-03-07 00:00:00",
         "238.49"
        ],
        [
         "2025-03-10 00:00:00",
         "226.92"
        ],
        [
         "2025-03-11 00:00:00",
         "220.3"
        ],
        [
         "2025-03-12 00:00:00",
         "216.45"
        ],
        [
         "2025-03-13 00:00:00",
         "209.17"
        ],
        [
         "2025-03-14 00:00:00",
         "212.97"
        ],
        [
         "2025-03-17 00:00:00",
         "213.48"
        ],
        [
         "2025-03-18 00:00:00",
         "212.17"
        ],
        [
         "2025-03-19 00:00:00",
         "214.71"
        ],
        [
         "2025-03-20 00:00:00",
         "213.58"
        ],
        [
         "2025-03-21 00:00:00",
         "217.74"
        ],
        [
         "2025-03-24 00:00:00",
         "220.19"
        ],
        [
         "2025-03-25 00:00:00",
         "223.2"
        ],
        [
         "2025-03-26 00:00:00",
         "220.99"
        ]
       ],
       "shape": {
        "columns": 1,
        "rows": 152
       }
      },
      "text/html": [
       "<div>\n",
       "<style scoped>\n",
       "    .dataframe tbody tr th:only-of-type {\n",
       "        vertical-align: middle;\n",
       "    }\n",
       "\n",
       "    .dataframe tbody tr th {\n",
       "        vertical-align: top;\n",
       "    }\n",
       "\n",
       "    .dataframe thead th {\n",
       "        text-align: right;\n",
       "    }\n",
       "</style>\n",
       "<table border=\"1\" class=\"dataframe\">\n",
       "  <thead>\n",
       "    <tr style=\"text-align: right;\">\n",
       "      <th>Ticker</th>\n",
       "      <th>AAPL</th>\n",
       "    </tr>\n",
       "    <tr>\n",
       "      <th>Date</th>\n",
       "      <th></th>\n",
       "    </tr>\n",
       "  </thead>\n",
       "  <tbody>\n",
       "    <tr>\n",
       "      <th>2025-01-14</th>\n",
       "      <td>232.45</td>\n",
       "    </tr>\n",
       "    <tr>\n",
       "      <th>2025-01-15</th>\n",
       "      <td>237.03</td>\n",
       "    </tr>\n",
       "    <tr>\n",
       "      <th>2025-01-16</th>\n",
       "      <td>227.45</td>\n",
       "    </tr>\n",
       "    <tr>\n",
       "      <th>2025-01-17</th>\n",
       "      <td>229.17</td>\n",
       "    </tr>\n",
       "    <tr>\n",
       "      <th>2025-01-21</th>\n",
       "      <td>221.85</td>\n",
       "    </tr>\n",
       "    <tr>\n",
       "      <th>...</th>\n",
       "      <td>...</td>\n",
       "    </tr>\n",
       "    <tr>\n",
       "      <th>2025-08-15</th>\n",
       "      <td>231.59</td>\n",
       "    </tr>\n",
       "    <tr>\n",
       "      <th>2025-08-18</th>\n",
       "      <td>230.89</td>\n",
       "    </tr>\n",
       "    <tr>\n",
       "      <th>2025-08-19</th>\n",
       "      <td>230.56</td>\n",
       "    </tr>\n",
       "    <tr>\n",
       "      <th>2025-08-20</th>\n",
       "      <td>226.01</td>\n",
       "    </tr>\n",
       "    <tr>\n",
       "      <th>2025-08-21</th>\n",
       "      <td>224.90</td>\n",
       "    </tr>\n",
       "  </tbody>\n",
       "</table>\n",
       "<p>152 rows × 1 columns</p>\n",
       "</div>"
      ],
      "text/plain": [
       "Ticker        AAPL\n",
       "Date              \n",
       "2025-01-14  232.45\n",
       "2025-01-15  237.03\n",
       "2025-01-16  227.45\n",
       "2025-01-17  229.17\n",
       "2025-01-21  221.85\n",
       "...            ...\n",
       "2025-08-15  231.59\n",
       "2025-08-18  230.89\n",
       "2025-08-19  230.56\n",
       "2025-08-20  226.01\n",
       "2025-08-21  224.90\n",
       "\n",
       "[152 rows x 1 columns]"
      ]
     },
     "execution_count": 48,
     "metadata": {},
     "output_type": "execute_result"
    }
   ],
   "source": [
    "test = pd.DataFrame(test)\n",
    "test"
   ]
  },
  {
   "cell_type": "code",
   "execution_count": 49,
   "id": "8bf9463d",
   "metadata": {},
   "outputs": [
    {
     "data": {
      "application/vnd.microsoft.datawrangler.viewer.v0+json": {
       "columns": [
        {
         "name": "Date",
         "rawType": "datetime64[ns]",
         "type": "datetime"
        },
        {
         "name": "Observado",
         "rawType": "float64",
         "type": "float"
        },
        {
         "name": "Pronosticado",
         "rawType": "float64",
         "type": "float"
        }
       ],
       "ref": "21b3961b-2793-43b6-b581-acd47b93eca4",
       "rows": [
        [
         "2025-01-14 00:00:00",
         "232.45",
         "245.67433333333335"
        ],
        [
         "2025-01-15 00:00:00",
         "237.03",
         "245.61933333333337"
        ],
        [
         "2025-01-16 00:00:00",
         "227.45",
         "245.63733333333332"
        ],
        [
         "2025-01-17 00:00:00",
         "229.17",
         "245.261"
        ],
        [
         "2025-01-21 00:00:00",
         "221.85",
         "244.84033333333335"
        ],
        [
         "2025-01-22 00:00:00",
         "223.04",
         "244.16366666666667"
        ],
        [
         "2025-01-23 00:00:00",
         "222.87",
         "243.5256666666667"
        ],
        [
         "2025-01-24 00:00:00",
         "221.99",
         "242.88866666666667"
        ],
        [
         "2025-01-27 00:00:00",
         "229.05",
         "242.09233333333333"
        ],
        [
         "2025-01-28 00:00:00",
         "237.42",
         "241.49766666666667"
        ],
        [
         "2025-01-29 00:00:00",
         "238.51",
         "241.22433333333336"
        ],
        [
         "2025-01-30 00:00:00",
         "236.75",
         "240.93866666666665"
        ],
        [
         "2025-01-31 00:00:00",
         "235.17",
         "240.58866666666665"
        ],
        [
         "2025-02-03 00:00:00",
         "227.2",
         "240.08933333333334"
        ],
        [
         "2025-02-04 00:00:00",
         "231.98",
         "239.24333333333334"
        ],
        [
         "2025-02-05 00:00:00",
         "231.65",
         "238.737"
        ],
        [
         "2025-02-06 00:00:00",
         "232.4",
         "238.16166666666666"
        ],
        [
         "2025-02-07 00:00:00",
         "226.82",
         "237.4553333333333"
        ],
        [
         "2025-02-10 00:00:00",
         "227.09",
         "236.53699999999992"
        ],
        [
         "2025-02-11 00:00:00",
         "232.05",
         "235.5303333333333"
        ],
        [
         "2025-02-12 00:00:00",
         "236.29",
         "234.66199999999995"
        ],
        [
         "2025-02-13 00:00:00",
         "240.94",
         "234.04866666666663"
        ],
        [
         "2025-02-14 00:00:00",
         "244.0",
         "233.70299999999997"
        ],
        [
         "2025-02-18 00:00:00",
         "243.87",
         "233.5186666666667"
        ],
        [
         "2025-02-19 00:00:00",
         "244.27",
         "233.54800000000003"
        ],
        [
         "2025-02-20 00:00:00",
         "245.23",
         "233.60700000000003"
        ],
        [
         "2025-02-21 00:00:00",
         "244.95",
         "233.64366666666666"
        ],
        [
         "2025-02-24 00:00:00",
         "246.5",
         "233.76366666666664"
        ],
        [
         "2025-02-25 00:00:00",
         "246.44",
         "233.91899999999998"
        ],
        [
         "2025-02-26 00:00:00",
         "239.77",
         "234.26666666666668"
        ],
        [
         "2025-02-27 00:00:00",
         "236.72",
         "234.47333333333336"
        ],
        [
         "2025-02-28 00:00:00",
         "241.25",
         "234.61566666666667"
        ],
        [
         "2025-03-03 00:00:00",
         "237.45",
         "234.75633333333334"
        ],
        [
         "2025-03-04 00:00:00",
         "235.35",
         "235.0896666666667"
        ],
        [
         "2025-03-05 00:00:00",
         "235.16",
         "235.2956666666667"
        ],
        [
         "2025-03-06 00:00:00",
         "234.76",
         "235.73933333333335"
        ],
        [
         "2025-03-07 00:00:00",
         "238.49",
         "236.13000000000002"
        ],
        [
         "2025-03-10 00:00:00",
         "226.92",
         "236.65066666666664"
        ],
        [
         "2025-03-11 00:00:00",
         "220.3",
         "236.815"
        ],
        [
         "2025-03-12 00:00:00",
         "216.45",
         "236.52333333333334"
        ],
        [
         "2025-03-13 00:00:00",
         "209.17",
         "235.82433333333333"
        ],
        [
         "2025-03-14 00:00:00",
         "212.97",
         "234.84633333333332"
        ],
        [
         "2025-03-17 00:00:00",
         "213.48",
         "234.05366666666666"
        ],
        [
         "2025-03-18 00:00:00",
         "212.17",
         "233.33066666666667"
        ],
        [
         "2025-03-19 00:00:00",
         "214.71",
         "232.82966666666664"
        ],
        [
         "2025-03-20 00:00:00",
         "213.58",
         "232.254"
        ],
        [
         "2025-03-21 00:00:00",
         "217.74",
         "231.65166666666664"
        ],
        [
         "2025-03-24 00:00:00",
         "220.19",
         "231.16299999999998"
        ],
        [
         "2025-03-25 00:00:00",
         "223.2",
         "230.94199999999995"
        ],
        [
         "2025-03-26 00:00:00",
         "220.99",
         "230.81233333333333"
        ]
       ],
       "shape": {
        "columns": 2,
        "rows": 152
       }
      },
      "text/html": [
       "<div>\n",
       "<style scoped>\n",
       "    .dataframe tbody tr th:only-of-type {\n",
       "        vertical-align: middle;\n",
       "    }\n",
       "\n",
       "    .dataframe tbody tr th {\n",
       "        vertical-align: top;\n",
       "    }\n",
       "\n",
       "    .dataframe thead th {\n",
       "        text-align: right;\n",
       "    }\n",
       "</style>\n",
       "<table border=\"1\" class=\"dataframe\">\n",
       "  <thead>\n",
       "    <tr style=\"text-align: right;\">\n",
       "      <th></th>\n",
       "      <th>Observado</th>\n",
       "      <th>Pronosticado</th>\n",
       "    </tr>\n",
       "    <tr>\n",
       "      <th>Date</th>\n",
       "      <th></th>\n",
       "      <th></th>\n",
       "    </tr>\n",
       "  </thead>\n",
       "  <tbody>\n",
       "    <tr>\n",
       "      <th>2025-01-14</th>\n",
       "      <td>232.45</td>\n",
       "      <td>245.674333</td>\n",
       "    </tr>\n",
       "    <tr>\n",
       "      <th>2025-01-15</th>\n",
       "      <td>237.03</td>\n",
       "      <td>245.619333</td>\n",
       "    </tr>\n",
       "    <tr>\n",
       "      <th>2025-01-16</th>\n",
       "      <td>227.45</td>\n",
       "      <td>245.637333</td>\n",
       "    </tr>\n",
       "    <tr>\n",
       "      <th>2025-01-17</th>\n",
       "      <td>229.17</td>\n",
       "      <td>245.261000</td>\n",
       "    </tr>\n",
       "    <tr>\n",
       "      <th>2025-01-21</th>\n",
       "      <td>221.85</td>\n",
       "      <td>244.840333</td>\n",
       "    </tr>\n",
       "    <tr>\n",
       "      <th>...</th>\n",
       "      <td>...</td>\n",
       "      <td>...</td>\n",
       "    </tr>\n",
       "    <tr>\n",
       "      <th>2025-08-15</th>\n",
       "      <td>231.59</td>\n",
       "      <td>213.863333</td>\n",
       "    </tr>\n",
       "    <tr>\n",
       "      <th>2025-08-18</th>\n",
       "      <td>230.89</td>\n",
       "      <td>214.472667</td>\n",
       "    </tr>\n",
       "    <tr>\n",
       "      <th>2025-08-19</th>\n",
       "      <td>230.56</td>\n",
       "      <td>215.178667</td>\n",
       "    </tr>\n",
       "    <tr>\n",
       "      <th>2025-08-20</th>\n",
       "      <td>226.01</td>\n",
       "      <td>215.871667</td>\n",
       "    </tr>\n",
       "    <tr>\n",
       "      <th>2025-08-21</th>\n",
       "      <td>224.90</td>\n",
       "      <td>216.375333</td>\n",
       "    </tr>\n",
       "  </tbody>\n",
       "</table>\n",
       "<p>152 rows × 2 columns</p>\n",
       "</div>"
      ],
      "text/plain": [
       "            Observado  Pronosticado\n",
       "Date                               \n",
       "2025-01-14     232.45    245.674333\n",
       "2025-01-15     237.03    245.619333\n",
       "2025-01-16     227.45    245.637333\n",
       "2025-01-17     229.17    245.261000\n",
       "2025-01-21     221.85    244.840333\n",
       "...               ...           ...\n",
       "2025-08-15     231.59    213.863333\n",
       "2025-08-18     230.89    214.472667\n",
       "2025-08-19     230.56    215.178667\n",
       "2025-08-20     226.01    215.871667\n",
       "2025-08-21     224.90    216.375333\n",
       "\n",
       "[152 rows x 2 columns]"
      ]
     },
     "execution_count": 49,
     "metadata": {},
     "output_type": "execute_result"
    }
   ],
   "source": [
    "frames = [test, y_pred_m]\n",
    "result = pd.concat(frames, axis=1, join='inner')\n",
    "result.columns = ['Observado', 'Pronosticado']\n",
    "result"
   ]
  },
  {
   "cell_type": "code",
   "execution_count": 50,
   "id": "9c085b9f",
   "metadata": {},
   "outputs": [],
   "source": [
    "from sklearn.metrics import mean_squared_error"
   ]
  },
  {
   "cell_type": "code",
   "execution_count": 65,
   "id": "26c35596",
   "metadata": {},
   "outputs": [
    {
     "name": "stdout",
     "output_type": "stream",
     "text": [
      "📈 MÉTRICAS DEL MODELO:\n",
      "==============================\n",
      "📊 RMSE: 12.4279\n",
      "📊 MAPE: 4.52%\n",
      "==============================\n"
     ]
    }
   ],
   "source": [
    "# 📊 CÁLCULO DE RMSE Y MAPE\n",
    "from sklearn.metrics import mean_squared_error\n",
    "\n",
    "# Asegurar que ambos sean Series o arrays 1D para el cálculo de métricas\n",
    "if isinstance(test, pd.DataFrame):\n",
    "    test_values = test.iloc[:, 0]\n",
    "else:\n",
    "    test_values = test\n",
    "\n",
    "pred_values = y_pred_m_test\n",
    "\n",
    "# Calcular RMSE y MAPE\n",
    "rmse = np.sqrt(mean_squared_error(test_values, pred_values))\n",
    "mape = np.mean(np.abs((test_values - pred_values) / test_values)) * 100\n",
    "\n",
    "print(\"📈 MÉTRICAS DEL MODELO:\")\n",
    "print(\"=\" * 30)\n",
    "print(f\"📊 RMSE: {rmse:.4f}\")\n",
    "print(f\"📊 MAPE: {mape:.2f}%\")\n",
    "print(\"=\" * 30)"
   ]
  },
  {
   "cell_type": "code",
   "execution_count": 66,
   "id": "7e4275ca",
   "metadata": {},
   "outputs": [
    {
     "data": {
      "application/vnd.microsoft.datawrangler.viewer.v0+json": {
       "columns": [
        {
         "name": "Date",
         "rawType": "datetime64[ns]",
         "type": "datetime"
        },
        {
         "name": "pronostico",
         "rawType": "float64",
         "type": "float"
        }
       ],
       "ref": "bcdc7dd8-60ac-408f-af41-e7ff616fb0dd",
       "rows": [
        [
         "2025-08-22 00:00:00",
         "217.36100000000002"
        ]
       ],
       "shape": {
        "columns": 1,
        "rows": 1
       }
      },
      "text/plain": [
       "Date\n",
       "2025-08-22    217.361\n",
       "Name: pronostico, dtype: float64"
      ]
     },
     "execution_count": 66,
     "metadata": {},
     "output_type": "execute_result"
    }
   ],
   "source": [
    "# pronostico para el siguiente dia\n",
    "\n",
    "y_pred.tail(1)['pronostico']"
   ]
  }
 ],
 "metadata": {
  "kernelspec": {
   "display_name": "Python 3",
   "language": "python",
   "name": "python3"
  },
  "language_info": {
   "codemirror_mode": {
    "name": "ipython",
    "version": 3
   },
   "file_extension": ".py",
   "mimetype": "text/x-python",
   "name": "python",
   "nbconvert_exporter": "python",
   "pygments_lexer": "ipython3",
   "version": "3.13.7"
  }
 },
 "nbformat": 4,
 "nbformat_minor": 5
}
