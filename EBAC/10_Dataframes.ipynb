{
 "cells": [
  {
   "cell_type": "code",
   "execution_count": 3,
   "metadata": {},
   "outputs": [
    {
     "data": {
      "text/plain": [
       "array([['Bella', 'Labrador', 'Café', '56', '24', '2013-07-01'],\n",
       "       ['Charlie', 'Poodle', 'Negro', '43', '24', '2016-09-16'],\n",
       "       ['Lucy', 'chow chow', 'Café', '46', '24', '2014-08-25'],\n",
       "       ['Cooper', 'Schnauzer', 'Gris', '49', '17', '2011-12-11'],\n",
       "       ['Bernie', 'San Bernando', 'Blanco', '77', '74', '2018-02-27'],\n",
       "       ['Max', 'Chow chow', 'Blanco', '45', '28', '2019-03-27'],\n",
       "       ['Reed', 'Schnauzer', 'Negro', '45', '15', '2017-09-18']],\n",
       "      dtype='<U12')"
      ]
     },
     "execution_count": 3,
     "metadata": {},
     "output_type": "execute_result"
    }
   ],
   "source": [
    "perros=np.array([['Bella','Labrador','Café',56,24,'2013-07-01'],\n",
    "                 ['Charlie','Poodle','Negro',43,24,'2016-09-16'],\n",
    "                 ['Lucy','chow chow','Café',46,24,'2014-08-25'],\n",
    "                 ['Cooper','Schnauzer','Gris',49,17,'2011-12-11'],\n",
    "                 ['Bernie','San Bernando','Blanco',77,74,'2018-02-27'],\n",
    "                 ['Max','Chow chow','Blanco',45,28,'2019-03-27'],\n",
    "                 ['Reed','Schnauzer','Negro',45,15,'2017-09-18']])\n",
    "perros"
   ]
  },
  {
   "cell_type": "code",
   "execution_count": 2,
   "metadata": {},
   "outputs": [],
   "source": [
    "import numpy as np\n",
    "import pandas as pd"
   ]
  },
  {
   "cell_type": "code",
   "execution_count": 5,
   "metadata": {},
   "outputs": [
    {
     "data": {
      "text/html": [
       "<div>\n",
       "<style scoped>\n",
       "    .dataframe tbody tr th:only-of-type {\n",
       "        vertical-align: middle;\n",
       "    }\n",
       "\n",
       "    .dataframe tbody tr th {\n",
       "        vertical-align: top;\n",
       "    }\n",
       "\n",
       "    .dataframe thead th {\n",
       "        text-align: right;\n",
       "    }\n",
       "</style>\n",
       "<table border=\"1\" class=\"dataframe\">\n",
       "  <thead>\n",
       "    <tr style=\"text-align: right;\">\n",
       "      <th></th>\n",
       "      <th>Nombre</th>\n",
       "      <th>Raza</th>\n",
       "      <th>Color</th>\n",
       "      <th>Altura_cm</th>\n",
       "      <th>Peso_kg</th>\n",
       "      <th>Fecha_nac</th>\n",
       "    </tr>\n",
       "  </thead>\n",
       "  <tbody>\n",
       "    <tr>\n",
       "      <th>0</th>\n",
       "      <td>Bella</td>\n",
       "      <td>Labrador</td>\n",
       "      <td>Café</td>\n",
       "      <td>56</td>\n",
       "      <td>24</td>\n",
       "      <td>2013-07-01</td>\n",
       "    </tr>\n",
       "    <tr>\n",
       "      <th>1</th>\n",
       "      <td>Charlie</td>\n",
       "      <td>Poodle</td>\n",
       "      <td>Negro</td>\n",
       "      <td>43</td>\n",
       "      <td>24</td>\n",
       "      <td>2016-09-16</td>\n",
       "    </tr>\n",
       "    <tr>\n",
       "      <th>2</th>\n",
       "      <td>Lucy</td>\n",
       "      <td>chow chow</td>\n",
       "      <td>Café</td>\n",
       "      <td>46</td>\n",
       "      <td>24</td>\n",
       "      <td>2014-08-25</td>\n",
       "    </tr>\n",
       "    <tr>\n",
       "      <th>3</th>\n",
       "      <td>Cooper</td>\n",
       "      <td>Schnauzer</td>\n",
       "      <td>Gris</td>\n",
       "      <td>49</td>\n",
       "      <td>17</td>\n",
       "      <td>2011-12-11</td>\n",
       "    </tr>\n",
       "    <tr>\n",
       "      <th>4</th>\n",
       "      <td>Bernie</td>\n",
       "      <td>San Bernando</td>\n",
       "      <td>Blanco</td>\n",
       "      <td>77</td>\n",
       "      <td>74</td>\n",
       "      <td>2018-02-27</td>\n",
       "    </tr>\n",
       "    <tr>\n",
       "      <th>5</th>\n",
       "      <td>Max</td>\n",
       "      <td>Chow chow</td>\n",
       "      <td>Blanco</td>\n",
       "      <td>45</td>\n",
       "      <td>28</td>\n",
       "      <td>2019-03-27</td>\n",
       "    </tr>\n",
       "    <tr>\n",
       "      <th>6</th>\n",
       "      <td>Reed</td>\n",
       "      <td>Schnauzer</td>\n",
       "      <td>Negro</td>\n",
       "      <td>45</td>\n",
       "      <td>15</td>\n",
       "      <td>2017-09-18</td>\n",
       "    </tr>\n",
       "  </tbody>\n",
       "</table>\n",
       "</div>"
      ],
      "text/plain": [
       "    Nombre          Raza   Color  Altura_cm  Peso_kg   Fecha_nac\n",
       "0    Bella      Labrador    Café         56       24  2013-07-01\n",
       "1  Charlie        Poodle   Negro         43       24  2016-09-16\n",
       "2     Lucy     chow chow    Café         46       24  2014-08-25\n",
       "3   Cooper     Schnauzer    Gris         49       17  2011-12-11\n",
       "4   Bernie  San Bernando  Blanco         77       74  2018-02-27\n",
       "5      Max     Chow chow  Blanco         45       28  2019-03-27\n",
       "6     Reed     Schnauzer   Negro         45       15  2017-09-18"
      ]
     },
     "execution_count": 5,
     "metadata": {},
     "output_type": "execute_result"
    }
   ],
   "source": [
    "df=pd.DataFrame(data=perros, columns=['Nombre','Raza','Color','Altura_cm','Peso_kg','Fecha_nac'])\n",
    "df['Altura_cm']=df['Altura_cm'].astype(int)\n",
    "df['Peso_kg']=df['Peso_kg'].astype(int)\n",
    "df"
   ]
  },
  {
   "cell_type": "code",
   "execution_count": 8,
   "metadata": {},
   "outputs": [
    {
     "data": {
      "text/plain": [
       "'2011-12-11'"
      ]
     },
     "execution_count": 8,
     "metadata": {},
     "output_type": "execute_result"
    }
   ],
   "source": [
    "# calculo de la media\n",
    "df['Peso_kg'].mean()"
   ]
  },
  {
   "cell_type": "code",
   "execution_count": 9,
   "metadata": {},
   "outputs": [
    {
     "data": {
      "text/plain": [
       "'2011-12-11'"
      ]
     },
     "execution_count": 9,
     "metadata": {},
     "output_type": "execute_result"
    }
   ],
   "source": [
    "df['Fecha_nac'].min()"
   ]
  },
  {
   "cell_type": "code",
   "execution_count": 10,
   "metadata": {},
   "outputs": [
    {
     "data": {
      "text/plain": [
       "54.60000000000001"
      ]
     },
     "execution_count": 10,
     "metadata": {},
     "output_type": "execute_result"
    }
   ],
   "source": [
    "# Funcion de agregacion estaditica\n",
    "def percentil80(columna):\n",
    "    return columna.quantile(0.80)\n",
    "\n",
    "df['Altura_cm'].agg(percentil80)"
   ]
  },
  {
   "cell_type": "code",
   "execution_count": 11,
   "metadata": {},
   "outputs": [
    {
     "data": {
      "text/plain": [
       "Altura_cm    54.6\n",
       "Peso_kg      27.2\n",
       "dtype: float64"
      ]
     },
     "execution_count": 11,
     "metadata": {},
     "output_type": "execute_result"
    }
   ],
   "source": [
    "df[['Altura_cm','Peso_kg']].agg(percentil80)"
   ]
  },
  {
   "cell_type": "code",
   "execution_count": 13,
   "metadata": {},
   "outputs": [
    {
     "data": {
      "text/plain": [
       "percentil80    54.6\n",
       "percentil90    64.4\n",
       "Name: Altura_cm, dtype: float64"
      ]
     },
     "execution_count": 13,
     "metadata": {},
     "output_type": "execute_result"
    }
   ],
   "source": [
    "def percentil90(columna):\n",
    "    return columna.quantile(0.90)\n",
    "\n",
    "df['Altura_cm'].agg([percentil80,percentil90])"
   ]
  },
  {
   "cell_type": "code",
   "execution_count": 14,
   "metadata": {},
   "outputs": [
    {
     "data": {
      "text/plain": [
       "0    56\n",
       "1    43\n",
       "2    46\n",
       "3    49\n",
       "4    77\n",
       "5    45\n",
       "6    45\n",
       "Name: Altura_cm, dtype: int32"
      ]
     },
     "execution_count": 14,
     "metadata": {},
     "output_type": "execute_result"
    }
   ],
   "source": [
    "df['Altura_cm']"
   ]
  },
  {
   "cell_type": "code",
   "execution_count": 16,
   "metadata": {},
   "outputs": [
    {
     "data": {
      "text/plain": [
       "0     56\n",
       "1     99\n",
       "2    145\n",
       "3    194\n",
       "4    271\n",
       "5    316\n",
       "6    361\n",
       "Name: Altura_cm, dtype: int32"
      ]
     },
     "execution_count": 16,
     "metadata": {},
     "output_type": "execute_result"
    }
   ],
   "source": [
    "df['Altura_cm'].cumsum()"
   ]
  },
  {
   "cell_type": "code",
   "execution_count": 17,
   "metadata": {},
   "outputs": [
    {
     "data": {
      "text/plain": [
       "0    56\n",
       "1    43\n",
       "2    43\n",
       "3    43\n",
       "4    43\n",
       "5    43\n",
       "6    43\n",
       "Name: Altura_cm, dtype: int32"
      ]
     },
     "execution_count": 17,
     "metadata": {},
     "output_type": "execute_result"
    }
   ],
   "source": [
    "df['Altura_cm'].cummin()"
   ]
  },
  {
   "cell_type": "code",
   "execution_count": 18,
   "metadata": {},
   "outputs": [
    {
     "data": {
      "text/plain": [
       "Raza\n",
       "Schnauzer       2\n",
       "Labrador        1\n",
       "Poodle          1\n",
       "chow chow       1\n",
       "San Bernando    1\n",
       "Chow chow       1\n",
       "Name: count, dtype: int64"
      ]
     },
     "execution_count": 18,
     "metadata": {},
     "output_type": "execute_result"
    }
   ],
   "source": [
    "df['Raza'].value_counts()"
   ]
  },
  {
   "cell_type": "code",
   "execution_count": 19,
   "metadata": {},
   "outputs": [
    {
     "data": {
      "text/plain": [
       "Raza\n",
       "Schnauzer       0.285714\n",
       "Labrador        0.142857\n",
       "Poodle          0.142857\n",
       "chow chow       0.142857\n",
       "San Bernando    0.142857\n",
       "Chow chow       0.142857\n",
       "Name: proportion, dtype: float64"
      ]
     },
     "execution_count": 19,
     "metadata": {},
     "output_type": "execute_result"
    }
   ],
   "source": [
    "df['Raza'].value_counts(normalize=True)"
   ]
  },
  {
   "cell_type": "code",
   "execution_count": 20,
   "metadata": {},
   "outputs": [
    {
     "data": {
      "text/plain": [
       "Color\n",
       "Blanco    51.0\n",
       "Café      24.0\n",
       "Gris      17.0\n",
       "Negro     19.5\n",
       "Name: Peso_kg, dtype: float64"
      ]
     },
     "execution_count": 20,
     "metadata": {},
     "output_type": "execute_result"
    }
   ],
   "source": [
    "# resumir por grupo: mejor opcion\n",
    "df.groupby('Color')['Peso_kg'].mean()"
   ]
  },
  {
   "cell_type": "code",
   "execution_count": 21,
   "metadata": {},
   "outputs": [
    {
     "name": "stderr",
     "output_type": "stream",
     "text": [
      "C:\\Users\\benma\\AppData\\Local\\Temp\\ipykernel_5932\\3345005457.py:3: FutureWarning: The provided callable <built-in function min> is currently using SeriesGroupBy.min. In a future version of pandas, the provided callable will be used directly. To keep current behavior pass the string \"min\" instead.\n",
      "  df.groupby('Color')['Peso_kg'].agg([min,max,sum])\n",
      "C:\\Users\\benma\\AppData\\Local\\Temp\\ipykernel_5932\\3345005457.py:3: FutureWarning: The provided callable <built-in function max> is currently using SeriesGroupBy.max. In a future version of pandas, the provided callable will be used directly. To keep current behavior pass the string \"max\" instead.\n",
      "  df.groupby('Color')['Peso_kg'].agg([min,max,sum])\n",
      "C:\\Users\\benma\\AppData\\Local\\Temp\\ipykernel_5932\\3345005457.py:3: FutureWarning: The provided callable <built-in function sum> is currently using SeriesGroupBy.sum. In a future version of pandas, the provided callable will be used directly. To keep current behavior pass the string \"sum\" instead.\n",
      "  df.groupby('Color')['Peso_kg'].agg([min,max,sum])\n"
     ]
    },
    {
     "data": {
      "text/html": [
       "<div>\n",
       "<style scoped>\n",
       "    .dataframe tbody tr th:only-of-type {\n",
       "        vertical-align: middle;\n",
       "    }\n",
       "\n",
       "    .dataframe tbody tr th {\n",
       "        vertical-align: top;\n",
       "    }\n",
       "\n",
       "    .dataframe thead th {\n",
       "        text-align: right;\n",
       "    }\n",
       "</style>\n",
       "<table border=\"1\" class=\"dataframe\">\n",
       "  <thead>\n",
       "    <tr style=\"text-align: right;\">\n",
       "      <th></th>\n",
       "      <th>min</th>\n",
       "      <th>max</th>\n",
       "      <th>sum</th>\n",
       "    </tr>\n",
       "    <tr>\n",
       "      <th>Color</th>\n",
       "      <th></th>\n",
       "      <th></th>\n",
       "      <th></th>\n",
       "    </tr>\n",
       "  </thead>\n",
       "  <tbody>\n",
       "    <tr>\n",
       "      <th>Blanco</th>\n",
       "      <td>28</td>\n",
       "      <td>74</td>\n",
       "      <td>102</td>\n",
       "    </tr>\n",
       "    <tr>\n",
       "      <th>Café</th>\n",
       "      <td>24</td>\n",
       "      <td>24</td>\n",
       "      <td>48</td>\n",
       "    </tr>\n",
       "    <tr>\n",
       "      <th>Gris</th>\n",
       "      <td>17</td>\n",
       "      <td>17</td>\n",
       "      <td>17</td>\n",
       "    </tr>\n",
       "    <tr>\n",
       "      <th>Negro</th>\n",
       "      <td>15</td>\n",
       "      <td>24</td>\n",
       "      <td>39</td>\n",
       "    </tr>\n",
       "  </tbody>\n",
       "</table>\n",
       "</div>"
      ],
      "text/plain": [
       "        min  max  sum\n",
       "Color                \n",
       "Blanco   28   74  102\n",
       "Café     24   24   48\n",
       "Gris     17   17   17\n",
       "Negro    15   24   39"
      ]
     },
     "execution_count": 21,
     "metadata": {},
     "output_type": "execute_result"
    }
   ],
   "source": [
    "# resumen colores y peso\n",
    "\n",
    "df.groupby('Color')['Peso_kg'].agg([min,max,sum])\n"
   ]
  },
  {
   "cell_type": "code",
   "execution_count": 22,
   "metadata": {},
   "outputs": [
    {
     "data": {
      "text/plain": [
       "Color   Raza        \n",
       "Blanco  Chow chow       28.0\n",
       "        San Bernando    74.0\n",
       "Café    Labrador        24.0\n",
       "        chow chow       24.0\n",
       "Gris    Schnauzer       17.0\n",
       "Negro   Poodle          24.0\n",
       "        Schnauzer       15.0\n",
       "Name: Peso_kg, dtype: float64"
      ]
     },
     "execution_count": 22,
     "metadata": {},
     "output_type": "execute_result"
    }
   ],
   "source": [
    "df.groupby(['Color','Raza'])['Peso_kg'].mean()"
   ]
  },
  {
   "cell_type": "code",
   "execution_count": 25,
   "metadata": {},
   "outputs": [
    {
     "data": {
      "text/html": [
       "<div>\n",
       "<style scoped>\n",
       "    .dataframe tbody tr th:only-of-type {\n",
       "        vertical-align: middle;\n",
       "    }\n",
       "\n",
       "    .dataframe tbody tr th {\n",
       "        vertical-align: top;\n",
       "    }\n",
       "\n",
       "    .dataframe thead th {\n",
       "        text-align: right;\n",
       "    }\n",
       "</style>\n",
       "<table border=\"1\" class=\"dataframe\">\n",
       "  <thead>\n",
       "    <tr style=\"text-align: right;\">\n",
       "      <th>Raza</th>\n",
       "      <th>Chow chow</th>\n",
       "      <th>Labrador</th>\n",
       "      <th>Poodle</th>\n",
       "      <th>San Bernando</th>\n",
       "      <th>Schnauzer</th>\n",
       "      <th>chow chow</th>\n",
       "    </tr>\n",
       "    <tr>\n",
       "      <th>Color</th>\n",
       "      <th></th>\n",
       "      <th></th>\n",
       "      <th></th>\n",
       "      <th></th>\n",
       "      <th></th>\n",
       "      <th></th>\n",
       "    </tr>\n",
       "  </thead>\n",
       "  <tbody>\n",
       "    <tr>\n",
       "      <th>Blanco</th>\n",
       "      <td>28.0</td>\n",
       "      <td>-</td>\n",
       "      <td>-</td>\n",
       "      <td>74.0</td>\n",
       "      <td>-</td>\n",
       "      <td>-</td>\n",
       "    </tr>\n",
       "    <tr>\n",
       "      <th>Café</th>\n",
       "      <td>-</td>\n",
       "      <td>24.0</td>\n",
       "      <td>-</td>\n",
       "      <td>-</td>\n",
       "      <td>-</td>\n",
       "      <td>24.0</td>\n",
       "    </tr>\n",
       "    <tr>\n",
       "      <th>Gris</th>\n",
       "      <td>-</td>\n",
       "      <td>-</td>\n",
       "      <td>-</td>\n",
       "      <td>-</td>\n",
       "      <td>17.0</td>\n",
       "      <td>-</td>\n",
       "    </tr>\n",
       "    <tr>\n",
       "      <th>Negro</th>\n",
       "      <td>-</td>\n",
       "      <td>-</td>\n",
       "      <td>24.0</td>\n",
       "      <td>-</td>\n",
       "      <td>15.0</td>\n",
       "      <td>-</td>\n",
       "    </tr>\n",
       "  </tbody>\n",
       "</table>\n",
       "</div>"
      ],
      "text/plain": [
       "Raza   Chow chow Labrador Poodle San Bernando Schnauzer chow chow\n",
       "Color                                                            \n",
       "Blanco      28.0        -      -         74.0         -         -\n",
       "Café           -     24.0      -            -         -      24.0\n",
       "Gris           -        -      -            -      17.0         -\n",
       "Negro          -        -   24.0            -      15.0         -"
      ]
     },
     "execution_count": 25,
     "metadata": {},
     "output_type": "execute_result"
    }
   ],
   "source": [
    "# uso de tablas pivote\n",
    "df.pivot_table(values='Peso_kg',index='Color',columns='Raza',fill_value= \"-\")"
   ]
  },
  {
   "cell_type": "code",
   "execution_count": 26,
   "metadata": {},
   "outputs": [
    {
     "name": "stderr",
     "output_type": "stream",
     "text": [
      "C:\\Users\\benma\\AppData\\Local\\Temp\\ipykernel_5932\\2945376484.py:1: FutureWarning: The provided callable <function mean at 0x000001B25963EC00> is currently using DataFrameGroupBy.mean. In a future version of pandas, the provided callable will be used directly. To keep current behavior pass the string \"mean\" instead.\n",
      "  df.pivot_table(values='Peso_kg',index='Color',columns='Raza',fill_value= \"-\",margins=True,aggfunc=np.mean)\n",
      "C:\\Users\\benma\\AppData\\Local\\Temp\\ipykernel_5932\\2945376484.py:1: FutureWarning: The provided callable <function mean at 0x000001B25963EC00> is currently using DataFrameGroupBy.mean. In a future version of pandas, the provided callable will be used directly. To keep current behavior pass the string \"mean\" instead.\n",
      "  df.pivot_table(values='Peso_kg',index='Color',columns='Raza',fill_value= \"-\",margins=True,aggfunc=np.mean)\n",
      "C:\\Users\\benma\\AppData\\Local\\Temp\\ipykernel_5932\\2945376484.py:1: FutureWarning: The provided callable <function mean at 0x000001B25963EC00> is currently using DataFrameGroupBy.mean. In a future version of pandas, the provided callable will be used directly. To keep current behavior pass the string \"mean\" instead.\n",
      "  df.pivot_table(values='Peso_kg',index='Color',columns='Raza',fill_value= \"-\",margins=True,aggfunc=np.mean)\n"
     ]
    },
    {
     "data": {
      "text/html": [
       "<div>\n",
       "<style scoped>\n",
       "    .dataframe tbody tr th:only-of-type {\n",
       "        vertical-align: middle;\n",
       "    }\n",
       "\n",
       "    .dataframe tbody tr th {\n",
       "        vertical-align: top;\n",
       "    }\n",
       "\n",
       "    .dataframe thead th {\n",
       "        text-align: right;\n",
       "    }\n",
       "</style>\n",
       "<table border=\"1\" class=\"dataframe\">\n",
       "  <thead>\n",
       "    <tr style=\"text-align: right;\">\n",
       "      <th>Raza</th>\n",
       "      <th>Chow chow</th>\n",
       "      <th>Labrador</th>\n",
       "      <th>Poodle</th>\n",
       "      <th>San Bernando</th>\n",
       "      <th>Schnauzer</th>\n",
       "      <th>chow chow</th>\n",
       "      <th>All</th>\n",
       "    </tr>\n",
       "    <tr>\n",
       "      <th>Color</th>\n",
       "      <th></th>\n",
       "      <th></th>\n",
       "      <th></th>\n",
       "      <th></th>\n",
       "      <th></th>\n",
       "      <th></th>\n",
       "      <th></th>\n",
       "    </tr>\n",
       "  </thead>\n",
       "  <tbody>\n",
       "    <tr>\n",
       "      <th>Blanco</th>\n",
       "      <td>28.0</td>\n",
       "      <td>-</td>\n",
       "      <td>-</td>\n",
       "      <td>74.0</td>\n",
       "      <td>-</td>\n",
       "      <td>-</td>\n",
       "      <td>51.0</td>\n",
       "    </tr>\n",
       "    <tr>\n",
       "      <th>Café</th>\n",
       "      <td>-</td>\n",
       "      <td>24.0</td>\n",
       "      <td>-</td>\n",
       "      <td>-</td>\n",
       "      <td>-</td>\n",
       "      <td>24.0</td>\n",
       "      <td>24.0</td>\n",
       "    </tr>\n",
       "    <tr>\n",
       "      <th>Gris</th>\n",
       "      <td>-</td>\n",
       "      <td>-</td>\n",
       "      <td>-</td>\n",
       "      <td>-</td>\n",
       "      <td>17.0</td>\n",
       "      <td>-</td>\n",
       "      <td>17.0</td>\n",
       "    </tr>\n",
       "    <tr>\n",
       "      <th>Negro</th>\n",
       "      <td>-</td>\n",
       "      <td>-</td>\n",
       "      <td>24.0</td>\n",
       "      <td>-</td>\n",
       "      <td>15.0</td>\n",
       "      <td>-</td>\n",
       "      <td>19.5</td>\n",
       "    </tr>\n",
       "    <tr>\n",
       "      <th>All</th>\n",
       "      <td>28.0</td>\n",
       "      <td>24.0</td>\n",
       "      <td>24.0</td>\n",
       "      <td>74.0</td>\n",
       "      <td>16.0</td>\n",
       "      <td>24.0</td>\n",
       "      <td>29.428571</td>\n",
       "    </tr>\n",
       "  </tbody>\n",
       "</table>\n",
       "</div>"
      ],
      "text/plain": [
       "Raza   Chow chow Labrador Poodle San Bernando Schnauzer chow chow        All\n",
       "Color                                                                       \n",
       "Blanco      28.0        -      -         74.0         -         -       51.0\n",
       "Café           -     24.0      -            -         -      24.0       24.0\n",
       "Gris           -        -      -            -      17.0         -       17.0\n",
       "Negro          -        -   24.0            -      15.0         -       19.5\n",
       "All         28.0     24.0   24.0         74.0      16.0      24.0  29.428571"
      ]
     },
     "execution_count": 26,
     "metadata": {},
     "output_type": "execute_result"
    }
   ],
   "source": [
    "df.pivot_table(values='Peso_kg',index='Color',columns='Raza',fill_value= \"-\",margins=True,aggfunc=np.mean)"
   ]
  }
 ],
 "metadata": {
  "kernelspec": {
   "display_name": "Python 3",
   "language": "python",
   "name": "python3"
  },
  "language_info": {
   "codemirror_mode": {
    "name": "ipython",
    "version": 3
   },
   "file_extension": ".py",
   "mimetype": "text/x-python",
   "name": "python",
   "nbconvert_exporter": "python",
   "pygments_lexer": "ipython3",
   "version": "3.12.2"
  }
 },
 "nbformat": 4,
 "nbformat_minor": 2
}
