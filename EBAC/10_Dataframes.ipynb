{
 "cells": [
  {
   "cell_type": "code",
   "execution_count": 40,
   "metadata": {},
   "outputs": [],
   "source": [
    "import numpy as np\n",
    "import pandas as pd"
   ]
  },
  {
   "cell_type": "code",
   "execution_count": 41,
   "metadata": {},
   "outputs": [
    {
     "data": {
      "text/plain": [
       "array([['Bella', 'Labrador', 'Café', '56', '24', '2013-07-01'],\n",
       "       ['Charlie', 'Poodle', 'Negro', '43', '24', '2016-09-16'],\n",
       "       ['Lucy', 'Chow chow', 'Café', '46', '24', '2014-08-25'],\n",
       "       ['Cooper', 'Schnauzer', 'Gris', '49', '17', '2011-12-11'],\n",
       "       ['Bernie', 'San Bernando', 'Blanco', '77', '74', '2018-02-27'],\n",
       "       ['Max', 'Chow chow', 'Blanco', '45', '28', '2019-03-27'],\n",
       "       ['Reed', 'Schnauzer', 'Negro', '45', '15', '2017-09-18']],\n",
       "      dtype='<U12')"
      ]
     },
     "execution_count": 41,
     "metadata": {},
     "output_type": "execute_result"
    }
   ],
   "source": [
    "perros=np.array([['Bella','Labrador','Café',56,24,'2013-07-01'],\n",
    "                 ['Charlie','Poodle','Negro',43,24,'2016-09-16'],\n",
    "                 ['Lucy','Chow chow','Café',46,24,'2014-08-25'],\n",
    "                 ['Cooper','Schnauzer','Gris',49,17,'2011-12-11'],\n",
    "                 ['Bernie','San Bernando','Blanco',77,74,'2018-02-27'],\n",
    "                 ['Max','Chow chow','Blanco',45,28,'2019-03-27'],\n",
    "                 ['Reed','Schnauzer','Negro',45,15,'2017-09-18']])\n",
    "perros"
   ]
  },
  {
   "cell_type": "code",
   "execution_count": 42,
   "metadata": {},
   "outputs": [
    {
     "data": {
      "text/html": [
       "<div>\n",
       "<style scoped>\n",
       "    .dataframe tbody tr th:only-of-type {\n",
       "        vertical-align: middle;\n",
       "    }\n",
       "\n",
       "    .dataframe tbody tr th {\n",
       "        vertical-align: top;\n",
       "    }\n",
       "\n",
       "    .dataframe thead th {\n",
       "        text-align: right;\n",
       "    }\n",
       "</style>\n",
       "<table border=\"1\" class=\"dataframe\">\n",
       "  <thead>\n",
       "    <tr style=\"text-align: right;\">\n",
       "      <th></th>\n",
       "      <th>Nombre</th>\n",
       "      <th>Raza</th>\n",
       "      <th>Color</th>\n",
       "      <th>Altura_cm</th>\n",
       "      <th>Peso_kg</th>\n",
       "      <th>Fecha_nac</th>\n",
       "    </tr>\n",
       "  </thead>\n",
       "  <tbody>\n",
       "    <tr>\n",
       "      <th>0</th>\n",
       "      <td>Bella</td>\n",
       "      <td>Labrador</td>\n",
       "      <td>Café</td>\n",
       "      <td>56</td>\n",
       "      <td>24</td>\n",
       "      <td>2013-07-01</td>\n",
       "    </tr>\n",
       "    <tr>\n",
       "      <th>1</th>\n",
       "      <td>Charlie</td>\n",
       "      <td>Poodle</td>\n",
       "      <td>Negro</td>\n",
       "      <td>43</td>\n",
       "      <td>24</td>\n",
       "      <td>2016-09-16</td>\n",
       "    </tr>\n",
       "    <tr>\n",
       "      <th>2</th>\n",
       "      <td>Lucy</td>\n",
       "      <td>Chow chow</td>\n",
       "      <td>Café</td>\n",
       "      <td>46</td>\n",
       "      <td>24</td>\n",
       "      <td>2014-08-25</td>\n",
       "    </tr>\n",
       "    <tr>\n",
       "      <th>3</th>\n",
       "      <td>Cooper</td>\n",
       "      <td>Schnauzer</td>\n",
       "      <td>Gris</td>\n",
       "      <td>49</td>\n",
       "      <td>17</td>\n",
       "      <td>2011-12-11</td>\n",
       "    </tr>\n",
       "    <tr>\n",
       "      <th>4</th>\n",
       "      <td>Bernie</td>\n",
       "      <td>San Bernando</td>\n",
       "      <td>Blanco</td>\n",
       "      <td>77</td>\n",
       "      <td>74</td>\n",
       "      <td>2018-02-27</td>\n",
       "    </tr>\n",
       "    <tr>\n",
       "      <th>5</th>\n",
       "      <td>Max</td>\n",
       "      <td>Chow chow</td>\n",
       "      <td>Blanco</td>\n",
       "      <td>45</td>\n",
       "      <td>28</td>\n",
       "      <td>2019-03-27</td>\n",
       "    </tr>\n",
       "    <tr>\n",
       "      <th>6</th>\n",
       "      <td>Reed</td>\n",
       "      <td>Schnauzer</td>\n",
       "      <td>Negro</td>\n",
       "      <td>45</td>\n",
       "      <td>15</td>\n",
       "      <td>2017-09-18</td>\n",
       "    </tr>\n",
       "  </tbody>\n",
       "</table>\n",
       "</div>"
      ],
      "text/plain": [
       "    Nombre          Raza   Color  Altura_cm  Peso_kg   Fecha_nac\n",
       "0    Bella      Labrador    Café         56       24  2013-07-01\n",
       "1  Charlie        Poodle   Negro         43       24  2016-09-16\n",
       "2     Lucy     Chow chow    Café         46       24  2014-08-25\n",
       "3   Cooper     Schnauzer    Gris         49       17  2011-12-11\n",
       "4   Bernie  San Bernando  Blanco         77       74  2018-02-27\n",
       "5      Max     Chow chow  Blanco         45       28  2019-03-27\n",
       "6     Reed     Schnauzer   Negro         45       15  2017-09-18"
      ]
     },
     "execution_count": 42,
     "metadata": {},
     "output_type": "execute_result"
    }
   ],
   "source": [
    "df=pd.DataFrame(data=perros, columns=['Nombre','Raza','Color','Altura_cm','Peso_kg','Fecha_nac'])\n",
    "df['Altura_cm']=df['Altura_cm'].astype(int)\n",
    "df['Peso_kg']=df['Peso_kg'].astype(int)\n",
    "df"
   ]
  },
  {
   "cell_type": "code",
   "execution_count": 43,
   "metadata": {},
   "outputs": [
    {
     "data": {
      "text/plain": [
       "29.428571428571427"
      ]
     },
     "execution_count": 43,
     "metadata": {},
     "output_type": "execute_result"
    }
   ],
   "source": [
    "# calculo de la media\n",
    "df['Peso_kg'].mean()"
   ]
  },
  {
   "cell_type": "code",
   "execution_count": 44,
   "metadata": {},
   "outputs": [
    {
     "data": {
      "text/plain": [
       "'2011-12-11'"
      ]
     },
     "execution_count": 44,
     "metadata": {},
     "output_type": "execute_result"
    }
   ],
   "source": [
    "df['Fecha_nac'].min()"
   ]
  },
  {
   "cell_type": "code",
   "execution_count": 45,
   "metadata": {},
   "outputs": [
    {
     "data": {
      "text/plain": [
       "54.60000000000001"
      ]
     },
     "execution_count": 45,
     "metadata": {},
     "output_type": "execute_result"
    }
   ],
   "source": [
    "# Funcion de agregacion estaditica\n",
    "def percentil80(columna):\n",
    "    return columna.quantile(0.80)\n",
    "\n",
    "df['Altura_cm'].agg(percentil80)"
   ]
  },
  {
   "cell_type": "code",
   "execution_count": 46,
   "metadata": {},
   "outputs": [
    {
     "data": {
      "text/plain": [
       "Altura_cm    54.6\n",
       "Peso_kg      27.2\n",
       "dtype: float64"
      ]
     },
     "execution_count": 46,
     "metadata": {},
     "output_type": "execute_result"
    }
   ],
   "source": [
    "df[['Altura_cm','Peso_kg']].agg(percentil80)"
   ]
  },
  {
   "cell_type": "code",
   "execution_count": 47,
   "metadata": {},
   "outputs": [
    {
     "data": {
      "text/plain": [
       "percentil80    54.6\n",
       "percentil90    64.4\n",
       "Name: Altura_cm, dtype: float64"
      ]
     },
     "execution_count": 47,
     "metadata": {},
     "output_type": "execute_result"
    }
   ],
   "source": [
    "def percentil90(columna):\n",
    "    return columna.quantile(0.90)\n",
    "\n",
    "df['Altura_cm'].agg([percentil80,percentil90])"
   ]
  },
  {
   "cell_type": "code",
   "execution_count": 48,
   "metadata": {},
   "outputs": [
    {
     "data": {
      "text/plain": [
       "0    56\n",
       "1    43\n",
       "2    46\n",
       "3    49\n",
       "4    77\n",
       "5    45\n",
       "6    45\n",
       "Name: Altura_cm, dtype: int32"
      ]
     },
     "execution_count": 48,
     "metadata": {},
     "output_type": "execute_result"
    }
   ],
   "source": [
    "df['Altura_cm']"
   ]
  },
  {
   "cell_type": "code",
   "execution_count": 49,
   "metadata": {},
   "outputs": [
    {
     "data": {
      "text/plain": [
       "0     56\n",
       "1     99\n",
       "2    145\n",
       "3    194\n",
       "4    271\n",
       "5    316\n",
       "6    361\n",
       "Name: Altura_cm, dtype: int32"
      ]
     },
     "execution_count": 49,
     "metadata": {},
     "output_type": "execute_result"
    }
   ],
   "source": [
    "df['Altura_cm'].cumsum()"
   ]
  },
  {
   "cell_type": "code",
   "execution_count": 50,
   "metadata": {},
   "outputs": [
    {
     "data": {
      "text/plain": [
       "0    56\n",
       "1    43\n",
       "2    43\n",
       "3    43\n",
       "4    43\n",
       "5    43\n",
       "6    43\n",
       "Name: Altura_cm, dtype: int32"
      ]
     },
     "execution_count": 50,
     "metadata": {},
     "output_type": "execute_result"
    }
   ],
   "source": [
    "df['Altura_cm'].cummin()"
   ]
  },
  {
   "cell_type": "code",
   "execution_count": 51,
   "metadata": {},
   "outputs": [
    {
     "data": {
      "text/plain": [
       "Raza\n",
       "Chow chow       2\n",
       "Schnauzer       2\n",
       "Labrador        1\n",
       "Poodle          1\n",
       "San Bernando    1\n",
       "Name: count, dtype: int64"
      ]
     },
     "execution_count": 51,
     "metadata": {},
     "output_type": "execute_result"
    }
   ],
   "source": [
    "df['Raza'].value_counts()"
   ]
  },
  {
   "cell_type": "code",
   "execution_count": 52,
   "metadata": {},
   "outputs": [
    {
     "data": {
      "text/plain": [
       "Raza\n",
       "Chow chow       0.285714\n",
       "Schnauzer       0.285714\n",
       "Labrador        0.142857\n",
       "Poodle          0.142857\n",
       "San Bernando    0.142857\n",
       "Name: proportion, dtype: float64"
      ]
     },
     "execution_count": 52,
     "metadata": {},
     "output_type": "execute_result"
    }
   ],
   "source": [
    "df['Raza'].value_counts(normalize=True)"
   ]
  },
  {
   "cell_type": "code",
   "execution_count": 53,
   "metadata": {},
   "outputs": [
    {
     "data": {
      "text/plain": [
       "Color\n",
       "Blanco    51.0\n",
       "Café      24.0\n",
       "Gris      17.0\n",
       "Negro     19.5\n",
       "Name: Peso_kg, dtype: float64"
      ]
     },
     "execution_count": 53,
     "metadata": {},
     "output_type": "execute_result"
    }
   ],
   "source": [
    "# resumir por grupo: mejor opcion\n",
    "df.groupby('Color')['Peso_kg'].mean()"
   ]
  },
  {
   "cell_type": "code",
   "execution_count": 54,
   "metadata": {},
   "outputs": [
    {
     "name": "stderr",
     "output_type": "stream",
     "text": [
      "C:\\Users\\benma\\AppData\\Local\\Temp\\ipykernel_5684\\3345005457.py:3: FutureWarning: The provided callable <built-in function min> is currently using SeriesGroupBy.min. In a future version of pandas, the provided callable will be used directly. To keep current behavior pass the string \"min\" instead.\n",
      "  df.groupby('Color')['Peso_kg'].agg([min,max,sum])\n",
      "C:\\Users\\benma\\AppData\\Local\\Temp\\ipykernel_5684\\3345005457.py:3: FutureWarning: The provided callable <built-in function max> is currently using SeriesGroupBy.max. In a future version of pandas, the provided callable will be used directly. To keep current behavior pass the string \"max\" instead.\n",
      "  df.groupby('Color')['Peso_kg'].agg([min,max,sum])\n",
      "C:\\Users\\benma\\AppData\\Local\\Temp\\ipykernel_5684\\3345005457.py:3: FutureWarning: The provided callable <built-in function sum> is currently using SeriesGroupBy.sum. In a future version of pandas, the provided callable will be used directly. To keep current behavior pass the string \"sum\" instead.\n",
      "  df.groupby('Color')['Peso_kg'].agg([min,max,sum])\n"
     ]
    },
    {
     "data": {
      "text/html": [
       "<div>\n",
       "<style scoped>\n",
       "    .dataframe tbody tr th:only-of-type {\n",
       "        vertical-align: middle;\n",
       "    }\n",
       "\n",
       "    .dataframe tbody tr th {\n",
       "        vertical-align: top;\n",
       "    }\n",
       "\n",
       "    .dataframe thead th {\n",
       "        text-align: right;\n",
       "    }\n",
       "</style>\n",
       "<table border=\"1\" class=\"dataframe\">\n",
       "  <thead>\n",
       "    <tr style=\"text-align: right;\">\n",
       "      <th></th>\n",
       "      <th>min</th>\n",
       "      <th>max</th>\n",
       "      <th>sum</th>\n",
       "    </tr>\n",
       "    <tr>\n",
       "      <th>Color</th>\n",
       "      <th></th>\n",
       "      <th></th>\n",
       "      <th></th>\n",
       "    </tr>\n",
       "  </thead>\n",
       "  <tbody>\n",
       "    <tr>\n",
       "      <th>Blanco</th>\n",
       "      <td>28</td>\n",
       "      <td>74</td>\n",
       "      <td>102</td>\n",
       "    </tr>\n",
       "    <tr>\n",
       "      <th>Café</th>\n",
       "      <td>24</td>\n",
       "      <td>24</td>\n",
       "      <td>48</td>\n",
       "    </tr>\n",
       "    <tr>\n",
       "      <th>Gris</th>\n",
       "      <td>17</td>\n",
       "      <td>17</td>\n",
       "      <td>17</td>\n",
       "    </tr>\n",
       "    <tr>\n",
       "      <th>Negro</th>\n",
       "      <td>15</td>\n",
       "      <td>24</td>\n",
       "      <td>39</td>\n",
       "    </tr>\n",
       "  </tbody>\n",
       "</table>\n",
       "</div>"
      ],
      "text/plain": [
       "        min  max  sum\n",
       "Color                \n",
       "Blanco   28   74  102\n",
       "Café     24   24   48\n",
       "Gris     17   17   17\n",
       "Negro    15   24   39"
      ]
     },
     "execution_count": 54,
     "metadata": {},
     "output_type": "execute_result"
    }
   ],
   "source": [
    "# resumen colores y peso\n",
    "\n",
    "df.groupby('Color')['Peso_kg'].agg([min,max,sum])\n"
   ]
  },
  {
   "cell_type": "code",
   "execution_count": 55,
   "metadata": {},
   "outputs": [
    {
     "data": {
      "text/plain": [
       "Color   Raza        \n",
       "Blanco  Chow chow       28.0\n",
       "        San Bernando    74.0\n",
       "Café    Chow chow       24.0\n",
       "        Labrador        24.0\n",
       "Gris    Schnauzer       17.0\n",
       "Negro   Poodle          24.0\n",
       "        Schnauzer       15.0\n",
       "Name: Peso_kg, dtype: float64"
      ]
     },
     "execution_count": 55,
     "metadata": {},
     "output_type": "execute_result"
    }
   ],
   "source": [
    "df.groupby(['Color','Raza'])['Peso_kg'].mean()"
   ]
  },
  {
   "cell_type": "code",
   "execution_count": 56,
   "metadata": {},
   "outputs": [
    {
     "data": {
      "text/html": [
       "<div>\n",
       "<style scoped>\n",
       "    .dataframe tbody tr th:only-of-type {\n",
       "        vertical-align: middle;\n",
       "    }\n",
       "\n",
       "    .dataframe tbody tr th {\n",
       "        vertical-align: top;\n",
       "    }\n",
       "\n",
       "    .dataframe thead th {\n",
       "        text-align: right;\n",
       "    }\n",
       "</style>\n",
       "<table border=\"1\" class=\"dataframe\">\n",
       "  <thead>\n",
       "    <tr style=\"text-align: right;\">\n",
       "      <th>Raza</th>\n",
       "      <th>Chow chow</th>\n",
       "      <th>Labrador</th>\n",
       "      <th>Poodle</th>\n",
       "      <th>San Bernando</th>\n",
       "      <th>Schnauzer</th>\n",
       "    </tr>\n",
       "    <tr>\n",
       "      <th>Color</th>\n",
       "      <th></th>\n",
       "      <th></th>\n",
       "      <th></th>\n",
       "      <th></th>\n",
       "      <th></th>\n",
       "    </tr>\n",
       "  </thead>\n",
       "  <tbody>\n",
       "    <tr>\n",
       "      <th>Blanco</th>\n",
       "      <td>28.0</td>\n",
       "      <td>-</td>\n",
       "      <td>-</td>\n",
       "      <td>74.0</td>\n",
       "      <td>-</td>\n",
       "    </tr>\n",
       "    <tr>\n",
       "      <th>Café</th>\n",
       "      <td>24.0</td>\n",
       "      <td>24.0</td>\n",
       "      <td>-</td>\n",
       "      <td>-</td>\n",
       "      <td>-</td>\n",
       "    </tr>\n",
       "    <tr>\n",
       "      <th>Gris</th>\n",
       "      <td>-</td>\n",
       "      <td>-</td>\n",
       "      <td>-</td>\n",
       "      <td>-</td>\n",
       "      <td>17.0</td>\n",
       "    </tr>\n",
       "    <tr>\n",
       "      <th>Negro</th>\n",
       "      <td>-</td>\n",
       "      <td>-</td>\n",
       "      <td>24.0</td>\n",
       "      <td>-</td>\n",
       "      <td>15.0</td>\n",
       "    </tr>\n",
       "  </tbody>\n",
       "</table>\n",
       "</div>"
      ],
      "text/plain": [
       "Raza   Chow chow Labrador Poodle San Bernando Schnauzer\n",
       "Color                                                  \n",
       "Blanco      28.0        -      -         74.0         -\n",
       "Café        24.0     24.0      -            -         -\n",
       "Gris           -        -      -            -      17.0\n",
       "Negro          -        -   24.0            -      15.0"
      ]
     },
     "execution_count": 56,
     "metadata": {},
     "output_type": "execute_result"
    }
   ],
   "source": [
    "# uso de tablas pivote\n",
    "df.pivot_table(values='Peso_kg',index='Color',columns='Raza',fill_value= \"-\")"
   ]
  },
  {
   "cell_type": "code",
   "execution_count": 57,
   "metadata": {},
   "outputs": [
    {
     "name": "stderr",
     "output_type": "stream",
     "text": [
      "C:\\Users\\benma\\AppData\\Local\\Temp\\ipykernel_5684\\2945376484.py:1: FutureWarning: The provided callable <function mean at 0x000002618C0AA340> is currently using DataFrameGroupBy.mean. In a future version of pandas, the provided callable will be used directly. To keep current behavior pass the string \"mean\" instead.\n",
      "  df.pivot_table(values='Peso_kg',index='Color',columns='Raza',fill_value= \"-\",margins=True,aggfunc=np.mean)\n",
      "C:\\Users\\benma\\AppData\\Local\\Temp\\ipykernel_5684\\2945376484.py:1: FutureWarning: The provided callable <function mean at 0x000002618C0AA340> is currently using DataFrameGroupBy.mean. In a future version of pandas, the provided callable will be used directly. To keep current behavior pass the string \"mean\" instead.\n",
      "  df.pivot_table(values='Peso_kg',index='Color',columns='Raza',fill_value= \"-\",margins=True,aggfunc=np.mean)\n",
      "C:\\Users\\benma\\AppData\\Local\\Temp\\ipykernel_5684\\2945376484.py:1: FutureWarning: The provided callable <function mean at 0x000002618C0AA340> is currently using DataFrameGroupBy.mean. In a future version of pandas, the provided callable will be used directly. To keep current behavior pass the string \"mean\" instead.\n",
      "  df.pivot_table(values='Peso_kg',index='Color',columns='Raza',fill_value= \"-\",margins=True,aggfunc=np.mean)\n"
     ]
    },
    {
     "data": {
      "text/html": [
       "<div>\n",
       "<style scoped>\n",
       "    .dataframe tbody tr th:only-of-type {\n",
       "        vertical-align: middle;\n",
       "    }\n",
       "\n",
       "    .dataframe tbody tr th {\n",
       "        vertical-align: top;\n",
       "    }\n",
       "\n",
       "    .dataframe thead th {\n",
       "        text-align: right;\n",
       "    }\n",
       "</style>\n",
       "<table border=\"1\" class=\"dataframe\">\n",
       "  <thead>\n",
       "    <tr style=\"text-align: right;\">\n",
       "      <th>Raza</th>\n",
       "      <th>Chow chow</th>\n",
       "      <th>Labrador</th>\n",
       "      <th>Poodle</th>\n",
       "      <th>San Bernando</th>\n",
       "      <th>Schnauzer</th>\n",
       "      <th>All</th>\n",
       "    </tr>\n",
       "    <tr>\n",
       "      <th>Color</th>\n",
       "      <th></th>\n",
       "      <th></th>\n",
       "      <th></th>\n",
       "      <th></th>\n",
       "      <th></th>\n",
       "      <th></th>\n",
       "    </tr>\n",
       "  </thead>\n",
       "  <tbody>\n",
       "    <tr>\n",
       "      <th>Blanco</th>\n",
       "      <td>28.0</td>\n",
       "      <td>-</td>\n",
       "      <td>-</td>\n",
       "      <td>74.0</td>\n",
       "      <td>-</td>\n",
       "      <td>51.0</td>\n",
       "    </tr>\n",
       "    <tr>\n",
       "      <th>Café</th>\n",
       "      <td>24.0</td>\n",
       "      <td>24.0</td>\n",
       "      <td>-</td>\n",
       "      <td>-</td>\n",
       "      <td>-</td>\n",
       "      <td>24.0</td>\n",
       "    </tr>\n",
       "    <tr>\n",
       "      <th>Gris</th>\n",
       "      <td>-</td>\n",
       "      <td>-</td>\n",
       "      <td>-</td>\n",
       "      <td>-</td>\n",
       "      <td>17.0</td>\n",
       "      <td>17.0</td>\n",
       "    </tr>\n",
       "    <tr>\n",
       "      <th>Negro</th>\n",
       "      <td>-</td>\n",
       "      <td>-</td>\n",
       "      <td>24.0</td>\n",
       "      <td>-</td>\n",
       "      <td>15.0</td>\n",
       "      <td>19.5</td>\n",
       "    </tr>\n",
       "    <tr>\n",
       "      <th>All</th>\n",
       "      <td>26.0</td>\n",
       "      <td>24.0</td>\n",
       "      <td>24.0</td>\n",
       "      <td>74.0</td>\n",
       "      <td>16.0</td>\n",
       "      <td>29.428571</td>\n",
       "    </tr>\n",
       "  </tbody>\n",
       "</table>\n",
       "</div>"
      ],
      "text/plain": [
       "Raza   Chow chow Labrador Poodle San Bernando Schnauzer        All\n",
       "Color                                                             \n",
       "Blanco      28.0        -      -         74.0         -       51.0\n",
       "Café        24.0     24.0      -            -         -       24.0\n",
       "Gris           -        -      -            -      17.0       17.0\n",
       "Negro          -        -   24.0            -      15.0       19.5\n",
       "All         26.0     24.0   24.0         74.0      16.0  29.428571"
      ]
     },
     "execution_count": 57,
     "metadata": {},
     "output_type": "execute_result"
    }
   ],
   "source": [
    "df.pivot_table(values='Peso_kg',index='Color',columns='Raza',fill_value= \"-\",margins=True,aggfunc=np.mean)"
   ]
  },
  {
   "cell_type": "code",
   "execution_count": 58,
   "metadata": {},
   "outputs": [
    {
     "data": {
      "text/plain": [
       "Index(['Nombre', 'Raza', 'Color', 'Altura_cm', 'Peso_kg', 'Fecha_nac'], dtype='object')"
      ]
     },
     "execution_count": 58,
     "metadata": {},
     "output_type": "execute_result"
    }
   ],
   "source": [
    "df.columns"
   ]
  },
  {
   "cell_type": "code",
   "execution_count": 59,
   "metadata": {},
   "outputs": [
    {
     "data": {
      "text/plain": [
       "RangeIndex(start=0, stop=7, step=1)"
      ]
     },
     "execution_count": 59,
     "metadata": {},
     "output_type": "execute_result"
    }
   ],
   "source": [
    "df.index"
   ]
  },
  {
   "cell_type": "code",
   "execution_count": 60,
   "metadata": {},
   "outputs": [
    {
     "data": {
      "text/html": [
       "<div>\n",
       "<style scoped>\n",
       "    .dataframe tbody tr th:only-of-type {\n",
       "        vertical-align: middle;\n",
       "    }\n",
       "\n",
       "    .dataframe tbody tr th {\n",
       "        vertical-align: top;\n",
       "    }\n",
       "\n",
       "    .dataframe thead th {\n",
       "        text-align: right;\n",
       "    }\n",
       "</style>\n",
       "<table border=\"1\" class=\"dataframe\">\n",
       "  <thead>\n",
       "    <tr style=\"text-align: right;\">\n",
       "      <th></th>\n",
       "      <th>Raza</th>\n",
       "      <th>Color</th>\n",
       "      <th>Altura_cm</th>\n",
       "      <th>Peso_kg</th>\n",
       "      <th>Fecha_nac</th>\n",
       "    </tr>\n",
       "    <tr>\n",
       "      <th>Nombre</th>\n",
       "      <th></th>\n",
       "      <th></th>\n",
       "      <th></th>\n",
       "      <th></th>\n",
       "      <th></th>\n",
       "    </tr>\n",
       "  </thead>\n",
       "  <tbody>\n",
       "    <tr>\n",
       "      <th>Bella</th>\n",
       "      <td>Labrador</td>\n",
       "      <td>Café</td>\n",
       "      <td>56</td>\n",
       "      <td>24</td>\n",
       "      <td>2013-07-01</td>\n",
       "    </tr>\n",
       "    <tr>\n",
       "      <th>Charlie</th>\n",
       "      <td>Poodle</td>\n",
       "      <td>Negro</td>\n",
       "      <td>43</td>\n",
       "      <td>24</td>\n",
       "      <td>2016-09-16</td>\n",
       "    </tr>\n",
       "    <tr>\n",
       "      <th>Lucy</th>\n",
       "      <td>Chow chow</td>\n",
       "      <td>Café</td>\n",
       "      <td>46</td>\n",
       "      <td>24</td>\n",
       "      <td>2014-08-25</td>\n",
       "    </tr>\n",
       "    <tr>\n",
       "      <th>Cooper</th>\n",
       "      <td>Schnauzer</td>\n",
       "      <td>Gris</td>\n",
       "      <td>49</td>\n",
       "      <td>17</td>\n",
       "      <td>2011-12-11</td>\n",
       "    </tr>\n",
       "    <tr>\n",
       "      <th>Bernie</th>\n",
       "      <td>San Bernando</td>\n",
       "      <td>Blanco</td>\n",
       "      <td>77</td>\n",
       "      <td>74</td>\n",
       "      <td>2018-02-27</td>\n",
       "    </tr>\n",
       "    <tr>\n",
       "      <th>Max</th>\n",
       "      <td>Chow chow</td>\n",
       "      <td>Blanco</td>\n",
       "      <td>45</td>\n",
       "      <td>28</td>\n",
       "      <td>2019-03-27</td>\n",
       "    </tr>\n",
       "    <tr>\n",
       "      <th>Reed</th>\n",
       "      <td>Schnauzer</td>\n",
       "      <td>Negro</td>\n",
       "      <td>45</td>\n",
       "      <td>15</td>\n",
       "      <td>2017-09-18</td>\n",
       "    </tr>\n",
       "  </tbody>\n",
       "</table>\n",
       "</div>"
      ],
      "text/plain": [
       "                 Raza   Color  Altura_cm  Peso_kg   Fecha_nac\n",
       "Nombre                                                       \n",
       "Bella        Labrador    Café         56       24  2013-07-01\n",
       "Charlie        Poodle   Negro         43       24  2016-09-16\n",
       "Lucy        Chow chow    Café         46       24  2014-08-25\n",
       "Cooper      Schnauzer    Gris         49       17  2011-12-11\n",
       "Bernie   San Bernando  Blanco         77       74  2018-02-27\n",
       "Max         Chow chow  Blanco         45       28  2019-03-27\n",
       "Reed        Schnauzer   Negro         45       15  2017-09-18"
      ]
     },
     "execution_count": 60,
     "metadata": {},
     "output_type": "execute_result"
    }
   ],
   "source": [
    "df_index=df.set_index('Nombre')\n",
    "df_index"
   ]
  },
  {
   "cell_type": "code",
   "execution_count": 61,
   "metadata": {},
   "outputs": [
    {
     "data": {
      "text/html": [
       "<div>\n",
       "<style scoped>\n",
       "    .dataframe tbody tr th:only-of-type {\n",
       "        vertical-align: middle;\n",
       "    }\n",
       "\n",
       "    .dataframe tbody tr th {\n",
       "        vertical-align: top;\n",
       "    }\n",
       "\n",
       "    .dataframe thead th {\n",
       "        text-align: right;\n",
       "    }\n",
       "</style>\n",
       "<table border=\"1\" class=\"dataframe\">\n",
       "  <thead>\n",
       "    <tr style=\"text-align: right;\">\n",
       "      <th></th>\n",
       "      <th>Nombre</th>\n",
       "      <th>Raza</th>\n",
       "      <th>Color</th>\n",
       "      <th>Altura_cm</th>\n",
       "      <th>Peso_kg</th>\n",
       "      <th>Fecha_nac</th>\n",
       "    </tr>\n",
       "  </thead>\n",
       "  <tbody>\n",
       "    <tr>\n",
       "      <th>0</th>\n",
       "      <td>Bella</td>\n",
       "      <td>Labrador</td>\n",
       "      <td>Café</td>\n",
       "      <td>56</td>\n",
       "      <td>24</td>\n",
       "      <td>2013-07-01</td>\n",
       "    </tr>\n",
       "    <tr>\n",
       "      <th>1</th>\n",
       "      <td>Charlie</td>\n",
       "      <td>Poodle</td>\n",
       "      <td>Negro</td>\n",
       "      <td>43</td>\n",
       "      <td>24</td>\n",
       "      <td>2016-09-16</td>\n",
       "    </tr>\n",
       "    <tr>\n",
       "      <th>2</th>\n",
       "      <td>Lucy</td>\n",
       "      <td>Chow chow</td>\n",
       "      <td>Café</td>\n",
       "      <td>46</td>\n",
       "      <td>24</td>\n",
       "      <td>2014-08-25</td>\n",
       "    </tr>\n",
       "    <tr>\n",
       "      <th>3</th>\n",
       "      <td>Cooper</td>\n",
       "      <td>Schnauzer</td>\n",
       "      <td>Gris</td>\n",
       "      <td>49</td>\n",
       "      <td>17</td>\n",
       "      <td>2011-12-11</td>\n",
       "    </tr>\n",
       "    <tr>\n",
       "      <th>4</th>\n",
       "      <td>Bernie</td>\n",
       "      <td>San Bernando</td>\n",
       "      <td>Blanco</td>\n",
       "      <td>77</td>\n",
       "      <td>74</td>\n",
       "      <td>2018-02-27</td>\n",
       "    </tr>\n",
       "    <tr>\n",
       "      <th>5</th>\n",
       "      <td>Max</td>\n",
       "      <td>Chow chow</td>\n",
       "      <td>Blanco</td>\n",
       "      <td>45</td>\n",
       "      <td>28</td>\n",
       "      <td>2019-03-27</td>\n",
       "    </tr>\n",
       "    <tr>\n",
       "      <th>6</th>\n",
       "      <td>Reed</td>\n",
       "      <td>Schnauzer</td>\n",
       "      <td>Negro</td>\n",
       "      <td>45</td>\n",
       "      <td>15</td>\n",
       "      <td>2017-09-18</td>\n",
       "    </tr>\n",
       "  </tbody>\n",
       "</table>\n",
       "</div>"
      ],
      "text/plain": [
       "    Nombre          Raza   Color  Altura_cm  Peso_kg   Fecha_nac\n",
       "0    Bella      Labrador    Café         56       24  2013-07-01\n",
       "1  Charlie        Poodle   Negro         43       24  2016-09-16\n",
       "2     Lucy     Chow chow    Café         46       24  2014-08-25\n",
       "3   Cooper     Schnauzer    Gris         49       17  2011-12-11\n",
       "4   Bernie  San Bernando  Blanco         77       74  2018-02-27\n",
       "5      Max     Chow chow  Blanco         45       28  2019-03-27\n",
       "6     Reed     Schnauzer   Negro         45       15  2017-09-18"
      ]
     },
     "execution_count": 61,
     "metadata": {},
     "output_type": "execute_result"
    }
   ],
   "source": [
    "df_ind=df_index.reset_index()\n",
    "df_ind"
   ]
  },
  {
   "cell_type": "code",
   "execution_count": 62,
   "metadata": {},
   "outputs": [
    {
     "data": {
      "text/html": [
       "<div>\n",
       "<style scoped>\n",
       "    .dataframe tbody tr th:only-of-type {\n",
       "        vertical-align: middle;\n",
       "    }\n",
       "\n",
       "    .dataframe tbody tr th {\n",
       "        vertical-align: top;\n",
       "    }\n",
       "\n",
       "    .dataframe thead th {\n",
       "        text-align: right;\n",
       "    }\n",
       "</style>\n",
       "<table border=\"1\" class=\"dataframe\">\n",
       "  <thead>\n",
       "    <tr style=\"text-align: right;\">\n",
       "      <th></th>\n",
       "      <th>Raza</th>\n",
       "      <th>Color</th>\n",
       "      <th>Altura_cm</th>\n",
       "      <th>Peso_kg</th>\n",
       "      <th>Fecha_nac</th>\n",
       "    </tr>\n",
       "  </thead>\n",
       "  <tbody>\n",
       "    <tr>\n",
       "      <th>0</th>\n",
       "      <td>Labrador</td>\n",
       "      <td>Café</td>\n",
       "      <td>56</td>\n",
       "      <td>24</td>\n",
       "      <td>2013-07-01</td>\n",
       "    </tr>\n",
       "    <tr>\n",
       "      <th>1</th>\n",
       "      <td>Poodle</td>\n",
       "      <td>Negro</td>\n",
       "      <td>43</td>\n",
       "      <td>24</td>\n",
       "      <td>2016-09-16</td>\n",
       "    </tr>\n",
       "    <tr>\n",
       "      <th>2</th>\n",
       "      <td>Chow chow</td>\n",
       "      <td>Café</td>\n",
       "      <td>46</td>\n",
       "      <td>24</td>\n",
       "      <td>2014-08-25</td>\n",
       "    </tr>\n",
       "    <tr>\n",
       "      <th>3</th>\n",
       "      <td>Schnauzer</td>\n",
       "      <td>Gris</td>\n",
       "      <td>49</td>\n",
       "      <td>17</td>\n",
       "      <td>2011-12-11</td>\n",
       "    </tr>\n",
       "    <tr>\n",
       "      <th>4</th>\n",
       "      <td>San Bernando</td>\n",
       "      <td>Blanco</td>\n",
       "      <td>77</td>\n",
       "      <td>74</td>\n",
       "      <td>2018-02-27</td>\n",
       "    </tr>\n",
       "    <tr>\n",
       "      <th>5</th>\n",
       "      <td>Chow chow</td>\n",
       "      <td>Blanco</td>\n",
       "      <td>45</td>\n",
       "      <td>28</td>\n",
       "      <td>2019-03-27</td>\n",
       "    </tr>\n",
       "    <tr>\n",
       "      <th>6</th>\n",
       "      <td>Schnauzer</td>\n",
       "      <td>Negro</td>\n",
       "      <td>45</td>\n",
       "      <td>15</td>\n",
       "      <td>2017-09-18</td>\n",
       "    </tr>\n",
       "  </tbody>\n",
       "</table>\n",
       "</div>"
      ],
      "text/plain": [
       "           Raza   Color  Altura_cm  Peso_kg   Fecha_nac\n",
       "0      Labrador    Café         56       24  2013-07-01\n",
       "1        Poodle   Negro         43       24  2016-09-16\n",
       "2     Chow chow    Café         46       24  2014-08-25\n",
       "3     Schnauzer    Gris         49       17  2011-12-11\n",
       "4  San Bernando  Blanco         77       74  2018-02-27\n",
       "5     Chow chow  Blanco         45       28  2019-03-27\n",
       "6     Schnauzer   Negro         45       15  2017-09-18"
      ]
     },
     "execution_count": 62,
     "metadata": {},
     "output_type": "execute_result"
    }
   ],
   "source": [
    "# eliminar un indice y su columna\n",
    "df_ind = df.set_index(\"Nombre\")\n",
    "df_ind = df_ind.reset_index(drop=True)\n",
    "df_ind"
   ]
  },
  {
   "cell_type": "code",
   "execution_count": 63,
   "metadata": {},
   "outputs": [
    {
     "data": {
      "text/html": [
       "<div>\n",
       "<style scoped>\n",
       "    .dataframe tbody tr th:only-of-type {\n",
       "        vertical-align: middle;\n",
       "    }\n",
       "\n",
       "    .dataframe tbody tr th {\n",
       "        vertical-align: top;\n",
       "    }\n",
       "\n",
       "    .dataframe thead th {\n",
       "        text-align: right;\n",
       "    }\n",
       "</style>\n",
       "<table border=\"1\" class=\"dataframe\">\n",
       "  <thead>\n",
       "    <tr style=\"text-align: right;\">\n",
       "      <th></th>\n",
       "      <th>Nombre</th>\n",
       "      <th>Raza</th>\n",
       "      <th>Color</th>\n",
       "      <th>Altura_cm</th>\n",
       "      <th>Peso_kg</th>\n",
       "      <th>Fecha_nac</th>\n",
       "    </tr>\n",
       "  </thead>\n",
       "  <tbody>\n",
       "    <tr>\n",
       "      <th>0</th>\n",
       "      <td>Bella</td>\n",
       "      <td>Labrador</td>\n",
       "      <td>Café</td>\n",
       "      <td>56</td>\n",
       "      <td>24</td>\n",
       "      <td>2013-07-01</td>\n",
       "    </tr>\n",
       "    <tr>\n",
       "      <th>1</th>\n",
       "      <td>Charlie</td>\n",
       "      <td>Poodle</td>\n",
       "      <td>Negro</td>\n",
       "      <td>43</td>\n",
       "      <td>24</td>\n",
       "      <td>2016-09-16</td>\n",
       "    </tr>\n",
       "  </tbody>\n",
       "</table>\n",
       "</div>"
      ],
      "text/plain": [
       "    Nombre      Raza  Color  Altura_cm  Peso_kg   Fecha_nac\n",
       "0    Bella  Labrador   Café         56       24  2013-07-01\n",
       "1  Charlie    Poodle  Negro         43       24  2016-09-16"
      ]
     },
     "execution_count": 63,
     "metadata": {},
     "output_type": "execute_result"
    }
   ],
   "source": [
    "# buscar valores por indice opcion 1\n",
    "# busqueda de nombre en base original\n",
    "df[df['Nombre'].isin(['Bella','Charlie'])]"
   ]
  },
  {
   "cell_type": "code",
   "execution_count": 64,
   "metadata": {},
   "outputs": [
    {
     "data": {
      "text/html": [
       "<div>\n",
       "<style scoped>\n",
       "    .dataframe tbody tr th:only-of-type {\n",
       "        vertical-align: middle;\n",
       "    }\n",
       "\n",
       "    .dataframe tbody tr th {\n",
       "        vertical-align: top;\n",
       "    }\n",
       "\n",
       "    .dataframe thead th {\n",
       "        text-align: right;\n",
       "    }\n",
       "</style>\n",
       "<table border=\"1\" class=\"dataframe\">\n",
       "  <thead>\n",
       "    <tr style=\"text-align: right;\">\n",
       "      <th></th>\n",
       "      <th>Raza</th>\n",
       "      <th>Color</th>\n",
       "      <th>Altura_cm</th>\n",
       "      <th>Peso_kg</th>\n",
       "      <th>Fecha_nac</th>\n",
       "    </tr>\n",
       "    <tr>\n",
       "      <th>Nombre</th>\n",
       "      <th></th>\n",
       "      <th></th>\n",
       "      <th></th>\n",
       "      <th></th>\n",
       "      <th></th>\n",
       "    </tr>\n",
       "  </thead>\n",
       "  <tbody>\n",
       "    <tr>\n",
       "      <th>Bella</th>\n",
       "      <td>Labrador</td>\n",
       "      <td>Café</td>\n",
       "      <td>56</td>\n",
       "      <td>24</td>\n",
       "      <td>2013-07-01</td>\n",
       "    </tr>\n",
       "    <tr>\n",
       "      <th>Charlie</th>\n",
       "      <td>Poodle</td>\n",
       "      <td>Negro</td>\n",
       "      <td>43</td>\n",
       "      <td>24</td>\n",
       "      <td>2016-09-16</td>\n",
       "    </tr>\n",
       "  </tbody>\n",
       "</table>\n",
       "</div>"
      ],
      "text/plain": [
       "             Raza  Color  Altura_cm  Peso_kg   Fecha_nac\n",
       "Nombre                                                  \n",
       "Bella    Labrador   Café         56       24  2013-07-01\n",
       "Charlie    Poodle  Negro         43       24  2016-09-16"
      ]
     },
     "execution_count": 64,
     "metadata": {},
     "output_type": "execute_result"
    }
   ],
   "source": [
    "# buscar valores por indice opcion 2\n",
    "df_ind=df.set_index('Nombre')\n",
    "df_ind.loc[['Bella','Charlie']]"
   ]
  },
  {
   "cell_type": "code",
   "execution_count": 65,
   "metadata": {},
   "outputs": [
    {
     "data": {
      "text/html": [
       "<div>\n",
       "<style scoped>\n",
       "    .dataframe tbody tr th:only-of-type {\n",
       "        vertical-align: middle;\n",
       "    }\n",
       "\n",
       "    .dataframe tbody tr th {\n",
       "        vertical-align: top;\n",
       "    }\n",
       "\n",
       "    .dataframe thead th {\n",
       "        text-align: right;\n",
       "    }\n",
       "</style>\n",
       "<table border=\"1\" class=\"dataframe\">\n",
       "  <thead>\n",
       "    <tr style=\"text-align: right;\">\n",
       "      <th></th>\n",
       "      <th></th>\n",
       "      <th>Nombre</th>\n",
       "      <th>Altura_cm</th>\n",
       "      <th>Peso_kg</th>\n",
       "      <th>Fecha_nac</th>\n",
       "    </tr>\n",
       "    <tr>\n",
       "      <th>Raza</th>\n",
       "      <th>Color</th>\n",
       "      <th></th>\n",
       "      <th></th>\n",
       "      <th></th>\n",
       "      <th></th>\n",
       "    </tr>\n",
       "  </thead>\n",
       "  <tbody>\n",
       "    <tr>\n",
       "      <th>Labrador</th>\n",
       "      <th>Café</th>\n",
       "      <td>Bella</td>\n",
       "      <td>56</td>\n",
       "      <td>24</td>\n",
       "      <td>2013-07-01</td>\n",
       "    </tr>\n",
       "    <tr>\n",
       "      <th>Poodle</th>\n",
       "      <th>Negro</th>\n",
       "      <td>Charlie</td>\n",
       "      <td>43</td>\n",
       "      <td>24</td>\n",
       "      <td>2016-09-16</td>\n",
       "    </tr>\n",
       "    <tr>\n",
       "      <th>Chow chow</th>\n",
       "      <th>Café</th>\n",
       "      <td>Lucy</td>\n",
       "      <td>46</td>\n",
       "      <td>24</td>\n",
       "      <td>2014-08-25</td>\n",
       "    </tr>\n",
       "    <tr>\n",
       "      <th>Schnauzer</th>\n",
       "      <th>Gris</th>\n",
       "      <td>Cooper</td>\n",
       "      <td>49</td>\n",
       "      <td>17</td>\n",
       "      <td>2011-12-11</td>\n",
       "    </tr>\n",
       "    <tr>\n",
       "      <th>San Bernando</th>\n",
       "      <th>Blanco</th>\n",
       "      <td>Bernie</td>\n",
       "      <td>77</td>\n",
       "      <td>74</td>\n",
       "      <td>2018-02-27</td>\n",
       "    </tr>\n",
       "    <tr>\n",
       "      <th>Chow chow</th>\n",
       "      <th>Blanco</th>\n",
       "      <td>Max</td>\n",
       "      <td>45</td>\n",
       "      <td>28</td>\n",
       "      <td>2019-03-27</td>\n",
       "    </tr>\n",
       "    <tr>\n",
       "      <th>Schnauzer</th>\n",
       "      <th>Negro</th>\n",
       "      <td>Reed</td>\n",
       "      <td>45</td>\n",
       "      <td>15</td>\n",
       "      <td>2017-09-18</td>\n",
       "    </tr>\n",
       "  </tbody>\n",
       "</table>\n",
       "</div>"
      ],
      "text/plain": [
       "                      Nombre  Altura_cm  Peso_kg   Fecha_nac\n",
       "Raza         Color                                          \n",
       "Labrador     Café      Bella         56       24  2013-07-01\n",
       "Poodle       Negro   Charlie         43       24  2016-09-16\n",
       "Chow chow    Café       Lucy         46       24  2014-08-25\n",
       "Schnauzer    Gris     Cooper         49       17  2011-12-11\n",
       "San Bernando Blanco   Bernie         77       74  2018-02-27\n",
       "Chow chow    Blanco      Max         45       28  2019-03-27\n",
       "Schnauzer    Negro      Reed         45       15  2017-09-18"
      ]
     },
     "execution_count": 65,
     "metadata": {},
     "output_type": "execute_result"
    }
   ],
   "source": [
    "df_ind2=df.set_index(['Raza','Color'])\n",
    "df_ind2"
   ]
  },
  {
   "cell_type": "code",
   "execution_count": 66,
   "metadata": {},
   "outputs": [
    {
     "data": {
      "text/html": [
       "<div>\n",
       "<style scoped>\n",
       "    .dataframe tbody tr th:only-of-type {\n",
       "        vertical-align: middle;\n",
       "    }\n",
       "\n",
       "    .dataframe tbody tr th {\n",
       "        vertical-align: top;\n",
       "    }\n",
       "\n",
       "    .dataframe thead th {\n",
       "        text-align: right;\n",
       "    }\n",
       "</style>\n",
       "<table border=\"1\" class=\"dataframe\">\n",
       "  <thead>\n",
       "    <tr style=\"text-align: right;\">\n",
       "      <th></th>\n",
       "      <th></th>\n",
       "      <th>Nombre</th>\n",
       "      <th>Altura_cm</th>\n",
       "      <th>Peso_kg</th>\n",
       "      <th>Fecha_nac</th>\n",
       "    </tr>\n",
       "    <tr>\n",
       "      <th>Raza</th>\n",
       "      <th>Color</th>\n",
       "      <th></th>\n",
       "      <th></th>\n",
       "      <th></th>\n",
       "      <th></th>\n",
       "    </tr>\n",
       "  </thead>\n",
       "  <tbody>\n",
       "    <tr>\n",
       "      <th rowspan=\"2\" valign=\"top\">Chow chow</th>\n",
       "      <th>Café</th>\n",
       "      <td>Lucy</td>\n",
       "      <td>46</td>\n",
       "      <td>24</td>\n",
       "      <td>2014-08-25</td>\n",
       "    </tr>\n",
       "    <tr>\n",
       "      <th>Blanco</th>\n",
       "      <td>Max</td>\n",
       "      <td>45</td>\n",
       "      <td>28</td>\n",
       "      <td>2019-03-27</td>\n",
       "    </tr>\n",
       "    <tr>\n",
       "      <th>Poodle</th>\n",
       "      <th>Negro</th>\n",
       "      <td>Charlie</td>\n",
       "      <td>43</td>\n",
       "      <td>24</td>\n",
       "      <td>2016-09-16</td>\n",
       "    </tr>\n",
       "  </tbody>\n",
       "</table>\n",
       "</div>"
      ],
      "text/plain": [
       "                   Nombre  Altura_cm  Peso_kg   Fecha_nac\n",
       "Raza      Color                                          \n",
       "Chow chow Café       Lucy         46       24  2014-08-25\n",
       "          Blanco      Max         45       28  2019-03-27\n",
       "Poodle    Negro   Charlie         43       24  2016-09-16"
      ]
     },
     "execution_count": 66,
     "metadata": {},
     "output_type": "execute_result"
    }
   ],
   "source": [
    "df_ind2.loc[['Chow chow','Poodle']]"
   ]
  },
  {
   "cell_type": "code",
   "execution_count": 70,
   "metadata": {},
   "outputs": [
    {
     "data": {
      "text/html": [
       "<div>\n",
       "<style scoped>\n",
       "    .dataframe tbody tr th:only-of-type {\n",
       "        vertical-align: middle;\n",
       "    }\n",
       "\n",
       "    .dataframe tbody tr th {\n",
       "        vertical-align: top;\n",
       "    }\n",
       "\n",
       "    .dataframe thead th {\n",
       "        text-align: right;\n",
       "    }\n",
       "</style>\n",
       "<table border=\"1\" class=\"dataframe\">\n",
       "  <thead>\n",
       "    <tr style=\"text-align: right;\">\n",
       "      <th></th>\n",
       "      <th></th>\n",
       "      <th>Nombre</th>\n",
       "      <th>Altura_cm</th>\n",
       "      <th>Peso_kg</th>\n",
       "      <th>Fecha_nac</th>\n",
       "    </tr>\n",
       "    <tr>\n",
       "      <th>Raza</th>\n",
       "      <th>Color</th>\n",
       "      <th></th>\n",
       "      <th></th>\n",
       "      <th></th>\n",
       "      <th></th>\n",
       "    </tr>\n",
       "  </thead>\n",
       "  <tbody>\n",
       "    <tr>\n",
       "      <th>Schnauzer</th>\n",
       "      <th>Gris</th>\n",
       "      <td>Cooper</td>\n",
       "      <td>49</td>\n",
       "      <td>17</td>\n",
       "      <td>2011-12-11</td>\n",
       "    </tr>\n",
       "    <tr>\n",
       "      <th>Poodle</th>\n",
       "      <th>Negro</th>\n",
       "      <td>Charlie</td>\n",
       "      <td>43</td>\n",
       "      <td>24</td>\n",
       "      <td>2016-09-16</td>\n",
       "    </tr>\n",
       "  </tbody>\n",
       "</table>\n",
       "</div>"
      ],
      "text/plain": [
       "                  Nombre  Altura_cm  Peso_kg   Fecha_nac\n",
       "Raza      Color                                         \n",
       "Schnauzer Gris    Cooper         49       17  2011-12-11\n",
       "Poodle    Negro  Charlie         43       24  2016-09-16"
      ]
     },
     "execution_count": 70,
     "metadata": {},
     "output_type": "execute_result"
    }
   ],
   "source": [
    "# consultando por caracteristicas (tuplas)\n",
    "df_ind2.loc[[('Schnauzer','Gris'), ('Poodle','Negro')]]"
   ]
  },
  {
   "cell_type": "code",
   "execution_count": 71,
   "metadata": {},
   "outputs": [
    {
     "data": {
      "text/html": [
       "<div>\n",
       "<style scoped>\n",
       "    .dataframe tbody tr th:only-of-type {\n",
       "        vertical-align: middle;\n",
       "    }\n",
       "\n",
       "    .dataframe tbody tr th {\n",
       "        vertical-align: top;\n",
       "    }\n",
       "\n",
       "    .dataframe thead th {\n",
       "        text-align: right;\n",
       "    }\n",
       "</style>\n",
       "<table border=\"1\" class=\"dataframe\">\n",
       "  <thead>\n",
       "    <tr style=\"text-align: right;\">\n",
       "      <th></th>\n",
       "      <th></th>\n",
       "      <th>Nombre</th>\n",
       "      <th>Altura_cm</th>\n",
       "      <th>Peso_kg</th>\n",
       "      <th>Fecha_nac</th>\n",
       "    </tr>\n",
       "    <tr>\n",
       "      <th>Raza</th>\n",
       "      <th>Color</th>\n",
       "      <th></th>\n",
       "      <th></th>\n",
       "      <th></th>\n",
       "      <th></th>\n",
       "    </tr>\n",
       "  </thead>\n",
       "  <tbody>\n",
       "    <tr>\n",
       "      <th rowspan=\"2\" valign=\"top\">Chow chow</th>\n",
       "      <th>Blanco</th>\n",
       "      <td>Max</td>\n",
       "      <td>45</td>\n",
       "      <td>28</td>\n",
       "      <td>2019-03-27</td>\n",
       "    </tr>\n",
       "    <tr>\n",
       "      <th>Café</th>\n",
       "      <td>Lucy</td>\n",
       "      <td>46</td>\n",
       "      <td>24</td>\n",
       "      <td>2014-08-25</td>\n",
       "    </tr>\n",
       "    <tr>\n",
       "      <th>Labrador</th>\n",
       "      <th>Café</th>\n",
       "      <td>Bella</td>\n",
       "      <td>56</td>\n",
       "      <td>24</td>\n",
       "      <td>2013-07-01</td>\n",
       "    </tr>\n",
       "    <tr>\n",
       "      <th>Poodle</th>\n",
       "      <th>Negro</th>\n",
       "      <td>Charlie</td>\n",
       "      <td>43</td>\n",
       "      <td>24</td>\n",
       "      <td>2016-09-16</td>\n",
       "    </tr>\n",
       "    <tr>\n",
       "      <th>San Bernando</th>\n",
       "      <th>Blanco</th>\n",
       "      <td>Bernie</td>\n",
       "      <td>77</td>\n",
       "      <td>74</td>\n",
       "      <td>2018-02-27</td>\n",
       "    </tr>\n",
       "    <tr>\n",
       "      <th rowspan=\"2\" valign=\"top\">Schnauzer</th>\n",
       "      <th>Gris</th>\n",
       "      <td>Cooper</td>\n",
       "      <td>49</td>\n",
       "      <td>17</td>\n",
       "      <td>2011-12-11</td>\n",
       "    </tr>\n",
       "    <tr>\n",
       "      <th>Negro</th>\n",
       "      <td>Reed</td>\n",
       "      <td>45</td>\n",
       "      <td>15</td>\n",
       "      <td>2017-09-18</td>\n",
       "    </tr>\n",
       "  </tbody>\n",
       "</table>\n",
       "</div>"
      ],
      "text/plain": [
       "                      Nombre  Altura_cm  Peso_kg   Fecha_nac\n",
       "Raza         Color                                          \n",
       "Chow chow    Blanco      Max         45       28  2019-03-27\n",
       "             Café       Lucy         46       24  2014-08-25\n",
       "Labrador     Café      Bella         56       24  2013-07-01\n",
       "Poodle       Negro   Charlie         43       24  2016-09-16\n",
       "San Bernando Blanco   Bernie         77       74  2018-02-27\n",
       "Schnauzer    Gris     Cooper         49       17  2011-12-11\n",
       "             Negro      Reed         45       15  2017-09-18"
      ]
     },
     "execution_count": 71,
     "metadata": {},
     "output_type": "execute_result"
    }
   ],
   "source": [
    "# Ordenamiento por primer indice de referencia\n",
    "df_ind2.sort_index()"
   ]
  },
  {
   "cell_type": "code",
   "execution_count": 72,
   "metadata": {},
   "outputs": [
    {
     "data": {
      "text/html": [
       "<div>\n",
       "<style scoped>\n",
       "    .dataframe tbody tr th:only-of-type {\n",
       "        vertical-align: middle;\n",
       "    }\n",
       "\n",
       "    .dataframe tbody tr th {\n",
       "        vertical-align: top;\n",
       "    }\n",
       "\n",
       "    .dataframe thead th {\n",
       "        text-align: right;\n",
       "    }\n",
       "</style>\n",
       "<table border=\"1\" class=\"dataframe\">\n",
       "  <thead>\n",
       "    <tr style=\"text-align: right;\">\n",
       "      <th></th>\n",
       "      <th></th>\n",
       "      <th>Nombre</th>\n",
       "      <th>Altura_cm</th>\n",
       "      <th>Peso_kg</th>\n",
       "      <th>Fecha_nac</th>\n",
       "    </tr>\n",
       "    <tr>\n",
       "      <th>Raza</th>\n",
       "      <th>Color</th>\n",
       "      <th></th>\n",
       "      <th></th>\n",
       "      <th></th>\n",
       "      <th></th>\n",
       "    </tr>\n",
       "  </thead>\n",
       "  <tbody>\n",
       "    <tr>\n",
       "      <th>San Bernando</th>\n",
       "      <th>Blanco</th>\n",
       "      <td>Bernie</td>\n",
       "      <td>77</td>\n",
       "      <td>74</td>\n",
       "      <td>2018-02-27</td>\n",
       "    </tr>\n",
       "    <tr>\n",
       "      <th>Chow chow</th>\n",
       "      <th>Blanco</th>\n",
       "      <td>Max</td>\n",
       "      <td>45</td>\n",
       "      <td>28</td>\n",
       "      <td>2019-03-27</td>\n",
       "    </tr>\n",
       "    <tr>\n",
       "      <th>Labrador</th>\n",
       "      <th>Café</th>\n",
       "      <td>Bella</td>\n",
       "      <td>56</td>\n",
       "      <td>24</td>\n",
       "      <td>2013-07-01</td>\n",
       "    </tr>\n",
       "    <tr>\n",
       "      <th>Chow chow</th>\n",
       "      <th>Café</th>\n",
       "      <td>Lucy</td>\n",
       "      <td>46</td>\n",
       "      <td>24</td>\n",
       "      <td>2014-08-25</td>\n",
       "    </tr>\n",
       "    <tr>\n",
       "      <th rowspan=\"2\" valign=\"top\">Schnauzer</th>\n",
       "      <th>Gris</th>\n",
       "      <td>Cooper</td>\n",
       "      <td>49</td>\n",
       "      <td>17</td>\n",
       "      <td>2011-12-11</td>\n",
       "    </tr>\n",
       "    <tr>\n",
       "      <th>Negro</th>\n",
       "      <td>Reed</td>\n",
       "      <td>45</td>\n",
       "      <td>15</td>\n",
       "      <td>2017-09-18</td>\n",
       "    </tr>\n",
       "    <tr>\n",
       "      <th>Poodle</th>\n",
       "      <th>Negro</th>\n",
       "      <td>Charlie</td>\n",
       "      <td>43</td>\n",
       "      <td>24</td>\n",
       "      <td>2016-09-16</td>\n",
       "    </tr>\n",
       "  </tbody>\n",
       "</table>\n",
       "</div>"
      ],
      "text/plain": [
       "                      Nombre  Altura_cm  Peso_kg   Fecha_nac\n",
       "Raza         Color                                          \n",
       "San Bernando Blanco   Bernie         77       74  2018-02-27\n",
       "Chow chow    Blanco      Max         45       28  2019-03-27\n",
       "Labrador     Café      Bella         56       24  2013-07-01\n",
       "Chow chow    Café       Lucy         46       24  2014-08-25\n",
       "Schnauzer    Gris     Cooper         49       17  2011-12-11\n",
       "             Negro      Reed         45       15  2017-09-18\n",
       "Poodle       Negro   Charlie         43       24  2016-09-16"
      ]
     },
     "execution_count": 72,
     "metadata": {},
     "output_type": "execute_result"
    }
   ],
   "source": [
    "df_ind2.sort_index(level=('Color','Raza'), ascending=(True,False))"
   ]
  },
  {
   "cell_type": "code",
   "execution_count": 74,
   "metadata": {},
   "outputs": [
    {
     "data": {
      "text/html": [
       "<div>\n",
       "<style scoped>\n",
       "    .dataframe tbody tr th:only-of-type {\n",
       "        vertical-align: middle;\n",
       "    }\n",
       "\n",
       "    .dataframe tbody tr th {\n",
       "        vertical-align: top;\n",
       "    }\n",
       "\n",
       "    .dataframe thead th {\n",
       "        text-align: right;\n",
       "    }\n",
       "</style>\n",
       "<table border=\"1\" class=\"dataframe\">\n",
       "  <thead>\n",
       "    <tr style=\"text-align: right;\">\n",
       "      <th></th>\n",
       "      <th>Nombre</th>\n",
       "      <th>Raza</th>\n",
       "      <th>Color</th>\n",
       "      <th>Altura_cm</th>\n",
       "      <th>Peso_kg</th>\n",
       "      <th>Fecha_nac</th>\n",
       "    </tr>\n",
       "  </thead>\n",
       "  <tbody>\n",
       "    <tr>\n",
       "      <th>0</th>\n",
       "      <td>Bella</td>\n",
       "      <td>Labrador</td>\n",
       "      <td>Café</td>\n",
       "      <td>56</td>\n",
       "      <td>24</td>\n",
       "      <td>2013-07-01</td>\n",
       "    </tr>\n",
       "    <tr>\n",
       "      <th>1</th>\n",
       "      <td>Charlie</td>\n",
       "      <td>Poodle</td>\n",
       "      <td>Negro</td>\n",
       "      <td>43</td>\n",
       "      <td>24</td>\n",
       "      <td>2016-09-16</td>\n",
       "    </tr>\n",
       "    <tr>\n",
       "      <th>2</th>\n",
       "      <td>Lucy</td>\n",
       "      <td>Chow chow</td>\n",
       "      <td>Café</td>\n",
       "      <td>46</td>\n",
       "      <td>24</td>\n",
       "      <td>2014-08-25</td>\n",
       "    </tr>\n",
       "  </tbody>\n",
       "</table>\n",
       "</div>"
      ],
      "text/plain": [
       "    Nombre       Raza  Color  Altura_cm  Peso_kg   Fecha_nac\n",
       "0    Bella   Labrador   Café         56       24  2013-07-01\n",
       "1  Charlie     Poodle  Negro         43       24  2016-09-16\n",
       "2     Lucy  Chow chow   Café         46       24  2014-08-25"
      ]
     },
     "execution_count": 74,
     "metadata": {},
     "output_type": "execute_result"
    }
   ],
   "source": [
    "df[:3]"
   ]
  },
  {
   "cell_type": "code",
   "execution_count": 75,
   "metadata": {},
   "outputs": [
    {
     "data": {
      "text/html": [
       "<div>\n",
       "<style scoped>\n",
       "    .dataframe tbody tr th:only-of-type {\n",
       "        vertical-align: middle;\n",
       "    }\n",
       "\n",
       "    .dataframe tbody tr th {\n",
       "        vertical-align: top;\n",
       "    }\n",
       "\n",
       "    .dataframe thead th {\n",
       "        text-align: right;\n",
       "    }\n",
       "</style>\n",
       "<table border=\"1\" class=\"dataframe\">\n",
       "  <thead>\n",
       "    <tr style=\"text-align: right;\">\n",
       "      <th></th>\n",
       "      <th>Nombre</th>\n",
       "      <th>Raza</th>\n",
       "      <th>Color</th>\n",
       "      <th>Altura_cm</th>\n",
       "      <th>Peso_kg</th>\n",
       "      <th>Fecha_nac</th>\n",
       "    </tr>\n",
       "  </thead>\n",
       "  <tbody>\n",
       "    <tr>\n",
       "      <th>2</th>\n",
       "      <td>Lucy</td>\n",
       "      <td>Chow chow</td>\n",
       "      <td>Café</td>\n",
       "      <td>46</td>\n",
       "      <td>24</td>\n",
       "      <td>2014-08-25</td>\n",
       "    </tr>\n",
       "    <tr>\n",
       "      <th>3</th>\n",
       "      <td>Cooper</td>\n",
       "      <td>Schnauzer</td>\n",
       "      <td>Gris</td>\n",
       "      <td>49</td>\n",
       "      <td>17</td>\n",
       "      <td>2011-12-11</td>\n",
       "    </tr>\n",
       "    <tr>\n",
       "      <th>4</th>\n",
       "      <td>Bernie</td>\n",
       "      <td>San Bernando</td>\n",
       "      <td>Blanco</td>\n",
       "      <td>77</td>\n",
       "      <td>74</td>\n",
       "      <td>2018-02-27</td>\n",
       "    </tr>\n",
       "  </tbody>\n",
       "</table>\n",
       "</div>"
      ],
      "text/plain": [
       "   Nombre          Raza   Color  Altura_cm  Peso_kg   Fecha_nac\n",
       "2    Lucy     Chow chow    Café         46       24  2014-08-25\n",
       "3  Cooper     Schnauzer    Gris         49       17  2011-12-11\n",
       "4  Bernie  San Bernando  Blanco         77       74  2018-02-27"
      ]
     },
     "execution_count": 75,
     "metadata": {},
     "output_type": "execute_result"
    }
   ],
   "source": [
    "df[2:5]"
   ]
  },
  {
   "cell_type": "code",
   "execution_count": 76,
   "metadata": {},
   "outputs": [
    {
     "data": {
      "text/html": [
       "<div>\n",
       "<style scoped>\n",
       "    .dataframe tbody tr th:only-of-type {\n",
       "        vertical-align: middle;\n",
       "    }\n",
       "\n",
       "    .dataframe tbody tr th {\n",
       "        vertical-align: top;\n",
       "    }\n",
       "\n",
       "    .dataframe thead th {\n",
       "        text-align: right;\n",
       "    }\n",
       "</style>\n",
       "<table border=\"1\" class=\"dataframe\">\n",
       "  <thead>\n",
       "    <tr style=\"text-align: right;\">\n",
       "      <th></th>\n",
       "      <th>Nombre</th>\n",
       "      <th>Raza</th>\n",
       "      <th>Color</th>\n",
       "      <th>Altura_cm</th>\n",
       "      <th>Peso_kg</th>\n",
       "      <th>Fecha_nac</th>\n",
       "    </tr>\n",
       "  </thead>\n",
       "  <tbody>\n",
       "    <tr>\n",
       "      <th>0</th>\n",
       "      <td>Bella</td>\n",
       "      <td>Labrador</td>\n",
       "      <td>Café</td>\n",
       "      <td>56</td>\n",
       "      <td>24</td>\n",
       "      <td>2013-07-01</td>\n",
       "    </tr>\n",
       "    <tr>\n",
       "      <th>1</th>\n",
       "      <td>Charlie</td>\n",
       "      <td>Poodle</td>\n",
       "      <td>Negro</td>\n",
       "      <td>43</td>\n",
       "      <td>24</td>\n",
       "      <td>2016-09-16</td>\n",
       "    </tr>\n",
       "    <tr>\n",
       "      <th>2</th>\n",
       "      <td>Lucy</td>\n",
       "      <td>Chow chow</td>\n",
       "      <td>Café</td>\n",
       "      <td>46</td>\n",
       "      <td>24</td>\n",
       "      <td>2014-08-25</td>\n",
       "    </tr>\n",
       "    <tr>\n",
       "      <th>3</th>\n",
       "      <td>Cooper</td>\n",
       "      <td>Schnauzer</td>\n",
       "      <td>Gris</td>\n",
       "      <td>49</td>\n",
       "      <td>17</td>\n",
       "      <td>2011-12-11</td>\n",
       "    </tr>\n",
       "    <tr>\n",
       "      <th>4</th>\n",
       "      <td>Bernie</td>\n",
       "      <td>San Bernando</td>\n",
       "      <td>Blanco</td>\n",
       "      <td>77</td>\n",
       "      <td>74</td>\n",
       "      <td>2018-02-27</td>\n",
       "    </tr>\n",
       "    <tr>\n",
       "      <th>5</th>\n",
       "      <td>Max</td>\n",
       "      <td>Chow chow</td>\n",
       "      <td>Blanco</td>\n",
       "      <td>45</td>\n",
       "      <td>28</td>\n",
       "      <td>2019-03-27</td>\n",
       "    </tr>\n",
       "    <tr>\n",
       "      <th>6</th>\n",
       "      <td>Reed</td>\n",
       "      <td>Schnauzer</td>\n",
       "      <td>Negro</td>\n",
       "      <td>45</td>\n",
       "      <td>15</td>\n",
       "      <td>2017-09-18</td>\n",
       "    </tr>\n",
       "  </tbody>\n",
       "</table>\n",
       "</div>"
      ],
      "text/plain": [
       "    Nombre          Raza   Color  Altura_cm  Peso_kg   Fecha_nac\n",
       "0    Bella      Labrador    Café         56       24  2013-07-01\n",
       "1  Charlie        Poodle   Negro         43       24  2016-09-16\n",
       "2     Lucy     Chow chow    Café         46       24  2014-08-25\n",
       "3   Cooper     Schnauzer    Gris         49       17  2011-12-11\n",
       "4   Bernie  San Bernando  Blanco         77       74  2018-02-27\n",
       "5      Max     Chow chow  Blanco         45       28  2019-03-27\n",
       "6     Reed     Schnauzer   Negro         45       15  2017-09-18"
      ]
     },
     "execution_count": 76,
     "metadata": {},
     "output_type": "execute_result"
    }
   ],
   "source": [
    "df[:]"
   ]
  },
  {
   "cell_type": "code",
   "execution_count": 77,
   "metadata": {},
   "outputs": [
    {
     "data": {
      "text/html": [
       "<div>\n",
       "<style scoped>\n",
       "    .dataframe tbody tr th:only-of-type {\n",
       "        vertical-align: middle;\n",
       "    }\n",
       "\n",
       "    .dataframe tbody tr th {\n",
       "        vertical-align: top;\n",
       "    }\n",
       "\n",
       "    .dataframe thead th {\n",
       "        text-align: right;\n",
       "    }\n",
       "</style>\n",
       "<table border=\"1\" class=\"dataframe\">\n",
       "  <thead>\n",
       "    <tr style=\"text-align: right;\">\n",
       "      <th></th>\n",
       "      <th></th>\n",
       "      <th>Nombre</th>\n",
       "      <th>Altura_cm</th>\n",
       "      <th>Peso_kg</th>\n",
       "      <th>Fecha_nac</th>\n",
       "    </tr>\n",
       "    <tr>\n",
       "      <th>Raza</th>\n",
       "      <th>Color</th>\n",
       "      <th></th>\n",
       "      <th></th>\n",
       "      <th></th>\n",
       "      <th></th>\n",
       "    </tr>\n",
       "  </thead>\n",
       "  <tbody>\n",
       "    <tr>\n",
       "      <th rowspan=\"2\" valign=\"top\">Chow chow</th>\n",
       "      <th>Blanco</th>\n",
       "      <td>Max</td>\n",
       "      <td>45</td>\n",
       "      <td>28</td>\n",
       "      <td>2019-03-27</td>\n",
       "    </tr>\n",
       "    <tr>\n",
       "      <th>Café</th>\n",
       "      <td>Lucy</td>\n",
       "      <td>46</td>\n",
       "      <td>24</td>\n",
       "      <td>2014-08-25</td>\n",
       "    </tr>\n",
       "    <tr>\n",
       "      <th>Labrador</th>\n",
       "      <th>Café</th>\n",
       "      <td>Bella</td>\n",
       "      <td>56</td>\n",
       "      <td>24</td>\n",
       "      <td>2013-07-01</td>\n",
       "    </tr>\n",
       "    <tr>\n",
       "      <th>Poodle</th>\n",
       "      <th>Negro</th>\n",
       "      <td>Charlie</td>\n",
       "      <td>43</td>\n",
       "      <td>24</td>\n",
       "      <td>2016-09-16</td>\n",
       "    </tr>\n",
       "    <tr>\n",
       "      <th>San Bernando</th>\n",
       "      <th>Blanco</th>\n",
       "      <td>Bernie</td>\n",
       "      <td>77</td>\n",
       "      <td>74</td>\n",
       "      <td>2018-02-27</td>\n",
       "    </tr>\n",
       "    <tr>\n",
       "      <th rowspan=\"2\" valign=\"top\">Schnauzer</th>\n",
       "      <th>Gris</th>\n",
       "      <td>Cooper</td>\n",
       "      <td>49</td>\n",
       "      <td>17</td>\n",
       "      <td>2011-12-11</td>\n",
       "    </tr>\n",
       "    <tr>\n",
       "      <th>Negro</th>\n",
       "      <td>Reed</td>\n",
       "      <td>45</td>\n",
       "      <td>15</td>\n",
       "      <td>2017-09-18</td>\n",
       "    </tr>\n",
       "  </tbody>\n",
       "</table>\n",
       "</div>"
      ],
      "text/plain": [
       "                      Nombre  Altura_cm  Peso_kg   Fecha_nac\n",
       "Raza         Color                                          \n",
       "Chow chow    Blanco      Max         45       28  2019-03-27\n",
       "             Café       Lucy         46       24  2014-08-25\n",
       "Labrador     Café      Bella         56       24  2013-07-01\n",
       "Poodle       Negro   Charlie         43       24  2016-09-16\n",
       "San Bernando Blanco   Bernie         77       74  2018-02-27\n",
       "Schnauzer    Gris     Cooper         49       17  2011-12-11\n",
       "             Negro      Reed         45       15  2017-09-18"
      ]
     },
     "execution_count": 77,
     "metadata": {},
     "output_type": "execute_result"
    }
   ],
   "source": [
    "df_ind2=df_ind2.sort_index(level='Raza', ascending=True)\n",
    "df_ind2"
   ]
  },
  {
   "cell_type": "code",
   "execution_count": 78,
   "metadata": {},
   "outputs": [
    {
     "data": {
      "text/html": [
       "<div>\n",
       "<style scoped>\n",
       "    .dataframe tbody tr th:only-of-type {\n",
       "        vertical-align: middle;\n",
       "    }\n",
       "\n",
       "    .dataframe tbody tr th {\n",
       "        vertical-align: top;\n",
       "    }\n",
       "\n",
       "    .dataframe thead th {\n",
       "        text-align: right;\n",
       "    }\n",
       "</style>\n",
       "<table border=\"1\" class=\"dataframe\">\n",
       "  <thead>\n",
       "    <tr style=\"text-align: right;\">\n",
       "      <th></th>\n",
       "      <th></th>\n",
       "      <th>Nombre</th>\n",
       "      <th>Altura_cm</th>\n",
       "      <th>Peso_kg</th>\n",
       "      <th>Fecha_nac</th>\n",
       "    </tr>\n",
       "    <tr>\n",
       "      <th>Raza</th>\n",
       "      <th>Color</th>\n",
       "      <th></th>\n",
       "      <th></th>\n",
       "      <th></th>\n",
       "      <th></th>\n",
       "    </tr>\n",
       "  </thead>\n",
       "  <tbody>\n",
       "    <tr>\n",
       "      <th rowspan=\"2\" valign=\"top\">Chow chow</th>\n",
       "      <th>Blanco</th>\n",
       "      <td>Max</td>\n",
       "      <td>45</td>\n",
       "      <td>28</td>\n",
       "      <td>2019-03-27</td>\n",
       "    </tr>\n",
       "    <tr>\n",
       "      <th>Café</th>\n",
       "      <td>Lucy</td>\n",
       "      <td>46</td>\n",
       "      <td>24</td>\n",
       "      <td>2014-08-25</td>\n",
       "    </tr>\n",
       "    <tr>\n",
       "      <th>Labrador</th>\n",
       "      <th>Café</th>\n",
       "      <td>Bella</td>\n",
       "      <td>56</td>\n",
       "      <td>24</td>\n",
       "      <td>2013-07-01</td>\n",
       "    </tr>\n",
       "  </tbody>\n",
       "</table>\n",
       "</div>"
      ],
      "text/plain": [
       "                 Nombre  Altura_cm  Peso_kg   Fecha_nac\n",
       "Raza      Color                                        \n",
       "Chow chow Blanco    Max         45       28  2019-03-27\n",
       "          Café     Lucy         46       24  2014-08-25\n",
       "Labrador  Café    Bella         56       24  2013-07-01"
      ]
     },
     "execution_count": 78,
     "metadata": {},
     "output_type": "execute_result"
    }
   ],
   "source": [
    "df_ind2.loc['Chow chow':'Labrador']"
   ]
  },
  {
   "cell_type": "code",
   "execution_count": 79,
   "metadata": {},
   "outputs": [
    {
     "data": {
      "text/html": [
       "<div>\n",
       "<style scoped>\n",
       "    .dataframe tbody tr th:only-of-type {\n",
       "        vertical-align: middle;\n",
       "    }\n",
       "\n",
       "    .dataframe tbody tr th {\n",
       "        vertical-align: top;\n",
       "    }\n",
       "\n",
       "    .dataframe thead th {\n",
       "        text-align: right;\n",
       "    }\n",
       "</style>\n",
       "<table border=\"1\" class=\"dataframe\">\n",
       "  <thead>\n",
       "    <tr style=\"text-align: right;\">\n",
       "      <th>Color</th>\n",
       "      <th>Blanco</th>\n",
       "      <th>Café</th>\n",
       "      <th>Gris</th>\n",
       "      <th>Negro</th>\n",
       "    </tr>\n",
       "    <tr>\n",
       "      <th>Raza</th>\n",
       "      <th></th>\n",
       "      <th></th>\n",
       "      <th></th>\n",
       "      <th></th>\n",
       "    </tr>\n",
       "  </thead>\n",
       "  <tbody>\n",
       "    <tr>\n",
       "      <th>Chow chow</th>\n",
       "      <td>45.0</td>\n",
       "      <td>46.0</td>\n",
       "      <td>NaN</td>\n",
       "      <td>NaN</td>\n",
       "    </tr>\n",
       "    <tr>\n",
       "      <th>Labrador</th>\n",
       "      <td>NaN</td>\n",
       "      <td>56.0</td>\n",
       "      <td>NaN</td>\n",
       "      <td>NaN</td>\n",
       "    </tr>\n",
       "    <tr>\n",
       "      <th>Poodle</th>\n",
       "      <td>NaN</td>\n",
       "      <td>NaN</td>\n",
       "      <td>NaN</td>\n",
       "      <td>43.0</td>\n",
       "    </tr>\n",
       "    <tr>\n",
       "      <th>San Bernando</th>\n",
       "      <td>77.0</td>\n",
       "      <td>NaN</td>\n",
       "      <td>NaN</td>\n",
       "      <td>NaN</td>\n",
       "    </tr>\n",
       "    <tr>\n",
       "      <th>Schnauzer</th>\n",
       "      <td>NaN</td>\n",
       "      <td>NaN</td>\n",
       "      <td>49.0</td>\n",
       "      <td>45.0</td>\n",
       "    </tr>\n",
       "  </tbody>\n",
       "</table>\n",
       "</div>"
      ],
      "text/plain": [
       "Color         Blanco  Café  Gris  Negro\n",
       "Raza                                   \n",
       "Chow chow       45.0  46.0   NaN    NaN\n",
       "Labrador         NaN  56.0   NaN    NaN\n",
       "Poodle           NaN   NaN   NaN   43.0\n",
       "San Bernando    77.0   NaN   NaN    NaN\n",
       "Schnauzer        NaN   NaN  49.0   45.0"
      ]
     },
     "execution_count": 79,
     "metadata": {},
     "output_type": "execute_result"
    }
   ],
   "source": [
    "# creacion de una tabla pivote\n",
    "df_altura_raza_color = df.pivot_table('Altura_cm', index='Raza', columns='Color')\n",
    "df_altura_raza_color"
   ]
  },
  {
   "cell_type": "code",
   "execution_count": 80,
   "metadata": {},
   "outputs": [
    {
     "data": {
      "text/plain": [
       "Color\n",
       "Blanco    61.0\n",
       "Café      51.0\n",
       "Gris      49.0\n",
       "Negro     44.0\n",
       "dtype: float64"
      ]
     },
     "execution_count": 80,
     "metadata": {},
     "output_type": "execute_result"
    }
   ],
   "source": [
    "# calculo promedio de todos los renglones por columna\n",
    "df_altura_raza_color.mean(axis='index')"
   ]
  },
  {
   "cell_type": "code",
   "execution_count": 81,
   "metadata": {},
   "outputs": [
    {
     "data": {
      "text/plain": [
       "Raza\n",
       "Chow chow       45.5\n",
       "Labrador        56.0\n",
       "Poodle          43.0\n",
       "San Bernando    77.0\n",
       "Schnauzer       47.0\n",
       "dtype: float64"
      ]
     },
     "execution_count": 81,
     "metadata": {},
     "output_type": "execute_result"
    }
   ],
   "source": [
    "df_altura_raza_color.mean(axis='columns')"
   ]
  }
 ],
 "metadata": {
  "kernelspec": {
   "display_name": "Python 3",
   "language": "python",
   "name": "python3"
  },
  "language_info": {
   "codemirror_mode": {
    "name": "ipython",
    "version": 3
   },
   "file_extension": ".py",
   "mimetype": "text/x-python",
   "name": "python",
   "nbconvert_exporter": "python",
   "pygments_lexer": "ipython3",
   "version": "3.12.2"
  }
 },
 "nbformat": 4,
 "nbformat_minor": 2
}
