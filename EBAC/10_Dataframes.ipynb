{
 "cells": [
  {
   "cell_type": "code",
   "execution_count": null,
   "metadata": {},
   "outputs": [],
   "source": [
    "perros=np.array([['Bella','Labrador','Café',56,24,'2013-07-01'],\n",
    "                 ['Charlie','Poodle','Negro',43,24,'2016-09-16'],\n",
    "                 ['Lucy','chow chow','Café',46,24,'2014-08-25'],\n",
    "                 ['Cooper','Schnauzer','Gris',49,17,'2011-12-11'],\n",
    "                 ['Bernie','San Bernando','Blanco',77,74,'2018-02-27'],\n",
    "                 ['Max','Chow chow','Blanco',45,28,'2019-03-27'],\n",
    "                 ['Reed','Schnauzer','Negro',45,15,'2017-09-18']])"
   ]
  },
  {
   "cell_type": "code",
   "execution_count": 2,
   "metadata": {},
   "outputs": [],
   "source": [
    "import numpy as np\n",
    "import pandas as pd"
   ]
  },
  {
   "cell_type": "code",
   "execution_count": 1,
   "metadata": {},
   "outputs": [
    {
     "name": "stdout",
     "output_type": "stream",
     "text": [
      "Defaulting to user installation because normal site-packages is not writeable\n",
      "Requirement already satisfied: numpy in c:\\users\\benma\\appdata\\local\\packages\\pythonsoftwarefoundation.python.3.12_qbz5n2kfra8p0\\localcache\\local-packages\\python312\\site-packages (1.26.4)\n",
      "Note: you may need to restart the kernel to use updated packages.\n"
     ]
    }
   ],
   "source": [
    "# instalar paqueteria numpy y pandas\n",
    "%pip install numpy"
   ]
  }
 ],
 "metadata": {
  "kernelspec": {
   "display_name": "Python 3",
   "language": "python",
   "name": "python3"
  },
  "language_info": {
   "codemirror_mode": {
    "name": "ipython",
    "version": 3
   },
   "file_extension": ".py",
   "mimetype": "text/x-python",
   "name": "python",
   "nbconvert_exporter": "python",
   "pygments_lexer": "ipython3",
   "version": "3.12.2"
  }
 },
 "nbformat": 4,
 "nbformat_minor": 2
}
