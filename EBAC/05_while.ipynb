{
 "cells": [
  {
   "cell_type": "code",
   "execution_count": null,
   "metadata": {},
   "outputs": [],
   "source": [
    "# se ejecuta el bucle mientras la condición sea verdadera\n",
    "n=5\n",
    "while n>0:\n",
    "    print(n)\n",
    "    n=n-1\n",
    "print('Fin')"
   ]
  },
  {
   "cell_type": "code",
   "execution_count": null,
   "metadata": {},
   "outputs": [],
   "source": [
    "# Bucle infinito hasta que se escriba algo un especifico\n",
    "while True:\n",
    "    linea = input('Escribe algo: ')\n",
    "    if linea == 'fin':\n",
    "        break\n",
    "    print(linea)\n",
    "print('Proceso Terminado!')"
   ]
  },
  {
   "cell_type": "code",
   "execution_count": 1,
   "metadata": {},
   "outputs": [
    {
     "name": "stdout",
     "output_type": "stream",
     "text": [
      "hola\n",
      "Proceso Terminado!\n"
     ]
    }
   ],
   "source": [
    "while True:\n",
    "    linea = input('Escribe algo: ')\n",
    "    if linea[0] == '#':\n",
    "        continue\n",
    "    if linea == 'fin':\n",
    "        break\n",
    "    print(linea)\n",
    "print('Proceso Terminado!')"
   ]
  },
  {
   "cell_type": "code",
   "execution_count": 2,
   "metadata": {},
   "outputs": [
    {
     "name": "stdout",
     "output_type": "stream",
     "text": [
      "1\n",
      "2\n",
      "3\n",
      "4\n",
      "5\n",
      "6\n",
      "i no es menor que 6\n"
     ]
    }
   ],
   "source": [
    "i=1\n",
    "while i<=6:\n",
    "    print(i)\n",
    "    i+=1\n",
    "else:\n",
    "    print('i no es menor que 6')"
   ]
  },
  {
   "cell_type": "code",
   "execution_count": 3,
   "metadata": {},
   "outputs": [
    {
     "name": "stdout",
     "output_type": "stream",
     "text": [
      "La suma de los primeros 3 números es: 6\n"
     ]
    }
   ],
   "source": [
    "# Bucle para que la suma sea igual que n números y se imprima la suma\n",
    "\n",
    "n= int(input('Ingrese el valor de n: '))\n",
    "suma=0\n",
    "i=1\n",
    "while i<=n:\n",
    "    suma+=i\n",
    "    i+=1\n",
    "print('La suma de los primeros', n, 'números es:', suma)\n"
   ]
  },
  {
   "cell_type": "code",
   "execution_count": 4,
   "metadata": {},
   "outputs": [
    {
     "name": "stdout",
     "output_type": "stream",
     "text": [
      "d\n",
      "c\n",
      "b\n",
      "a\n",
      "[]\n"
     ]
    }
   ],
   "source": [
    "# while para ir borrando los elementos de una lista\n",
    "lista=[\"a\",\"b\",\"c\",\"d\"]\n",
    "while lista:\n",
    "    print(lista.pop(-1))\n",
    "print(lista)"
   ]
  },
  {
   "cell_type": "code",
   "execution_count": 6,
   "metadata": {},
   "outputs": [
    {
     "name": "stdout",
     "output_type": "stream",
     "text": [
      "4\n",
      "3\n",
      "2\n"
     ]
    }
   ],
   "source": [
    "n=5\n",
    "while n>0:\n",
    "    n-=1\n",
    "    if n==1:\n",
    "        break\n",
    "    print(n)"
   ]
  },
  {
   "cell_type": "code",
   "execution_count": 7,
   "metadata": {},
   "outputs": [
    {
     "name": "stdout",
     "output_type": "stream",
     "text": [
      "La lista tiene 5 números pares y 5 números impares\n"
     ]
    }
   ],
   "source": [
    "lista=(1,2,3,4,5,6,7,8,9,10)\n",
    "valores=len(lista)\n",
    "impares=0\n",
    "pares=0\n",
    "\n",
    "contador =1\n",
    "while contador<=valores:\n",
    "    if lista[contador -1] %2==0:\n",
    "        pares+=1\n",
    "    else:\n",
    "        impares+=1\n",
    "    contador+=1\n",
    "print('La lista tiene', pares, 'números pares y', impares, 'números impares')"
   ]
  },
  {
   "cell_type": "code",
   "execution_count": 8,
   "metadata": {},
   "outputs": [
    {
     "name": "stdout",
     "output_type": "stream",
     "text": [
      "1\n",
      "2\n",
      "3\n",
      "5\n",
      "8\n",
      "13\n",
      "21\n",
      "34\n"
     ]
    }
   ],
   "source": [
    "#números de fibonacci modo1\n",
    "x,y=0,1\n",
    "while x+y<50:\n",
    "    x=x+y\n",
    "    print(x)\n",
    "    y=x+y\n",
    "    print(y)"
   ]
  },
  {
   "cell_type": "code",
   "execution_count": 9,
   "metadata": {},
   "outputs": [
    {
     "name": "stdout",
     "output_type": "stream",
     "text": [
      "1\n",
      "1\n",
      "2\n",
      "3\n",
      "5\n",
      "8\n",
      "13\n",
      "21\n",
      "34\n"
     ]
    }
   ],
   "source": [
    "#números de fibonacci modo2\n",
    "x,y=0,1\n",
    "while y<50:\n",
    "    print(y)\n",
    "    x,y=y,x+y"
   ]
  }
 ],
 "metadata": {
  "kernelspec": {
   "display_name": "Python 3",
   "language": "python",
   "name": "python3"
  },
  "language_info": {
   "codemirror_mode": {
    "name": "ipython",
    "version": 3
   },
   "file_extension": ".py",
   "mimetype": "text/x-python",
   "name": "python",
   "nbconvert_exporter": "python",
   "pygments_lexer": "ipython3",
   "version": "3.12.0"
  }
 },
 "nbformat": 4,
 "nbformat_minor": 2
}
