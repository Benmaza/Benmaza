{
 "cells": [
  {
   "cell_type": "code",
   "execution_count": 2,
   "metadata": {},
   "outputs": [
    {
     "name": "stdout",
     "output_type": "stream",
     "text": [
      "{}\n",
      "{'nombre': 'Juan', 'apellido': 'Perez', 'edad': 25}\n",
      "Juan\n"
     ]
    }
   ],
   "source": [
    "#generar un diccionario vacio\n",
    "dic1 = dict()\n",
    "print(dic1)\n",
    "\n",
    "#agregar elementos al diccionario\n",
    "dic1['nombre'] = 'Juan'\n",
    "dic1['apellido'] = 'Perez'\n",
    "dic1['edad'] = 25\n",
    "print(dic1)\n",
    "\n",
    "print(dic1['nombre'])"
   ]
  },
  {
   "cell_type": "code",
   "execution_count": 1,
   "metadata": {},
   "outputs": [
    {
     "name": "stdout",
     "output_type": "stream",
     "text": [
      "{'Juan': 3, 'Pedro': 2, 'Maria': 1}\n"
     ]
    }
   ],
   "source": [
    "#contar cuantas veces se repite una palabra en un texto\n",
    "conteo={}\n",
    "nombres = ['Juan','Pedro','Maria','Juan','Pedro','Juan']\n",
    "\n",
    "#para cada nombre en la lista nombres\n",
    "#checar si el nombre esta en el diccionario \"conteo\"\n",
    "\n",
    "for nombre in nombres:\n",
    "    if nombre not in conteo:\n",
    "        conteo[nombre] = 1\n",
    "    else:\n",
    "        conteo[nombre] += 1\n",
    "print(conteo)"
   ]
  },
  {
   "cell_type": "code",
   "execution_count": 5,
   "metadata": {},
   "outputs": [
    {
     "name": "stdout",
     "output_type": "stream",
     "text": [
      "['El', 'amor', 'es', 'una', 'locura', 'que', 'ni', 'el', 'cura', 'lo', 'cura,', 'porque', 'si', 'el', 'cura', 'lo', 'cura', 'seria', 'una', 'locura', 'del', 'cura.']\n",
      "{'El': 1, 'amor': 1, 'es': 1, 'una': 2, 'locura': 2, 'que': 1, 'ni': 1, 'el': 2, 'cura': 3, 'lo': 2, 'cura,': 1, 'porque': 1, 'si': 1, 'seria': 1, 'del': 1, 'cura.': 1}\n"
     ]
    }
   ],
   "source": [
    "# cargar un archivo de texto\n",
    "archivo = open('trabalenguas.txt')\n",
    "archivo\n",
    "#leer el archivo de texto y separar las palabras\n",
    "for texto in archivo:\n",
    "    palabras = texto.split()\n",
    "print(palabras)\n",
    "\n",
    "#contar cuantas veces se repite una palabra en el texto cargado\n",
    "conteo= dict()\n",
    "for palabra in palabras:\n",
    "    if palabra not in conteo:\n",
    "        conteo[palabra] = 1\n",
    "    else:\n",
    "        conteo[palabra] += 1\n",
    "print(conteo)"
   ]
  },
  {
   "cell_type": "code",
   "execution_count": 10,
   "metadata": {},
   "outputs": [
    {
     "name": "stdout",
     "output_type": "stream",
     "text": [
      "El 1\n",
      "amor 1\n",
      "es 1\n",
      "una 2\n",
      "locura 2\n",
      "que 1\n",
      "ni 1\n",
      "el 2\n",
      "cura 3\n",
      "lo 2\n",
      "cura, 1\n",
      "porque 1\n",
      "si 1\n",
      "seria 1\n",
      "del 1\n",
      "cura. 1\n"
     ]
    }
   ],
   "source": [
    "#contar cuantas veces se repite una palabra en el texto cargado\n",
    "#contando solo elementos que no se repiten\n",
    "conteo= dict()\n",
    "for palabra in palabras:\n",
    "    conteo[palabra] = conteo.get(palabra,0) + 1\n",
    "for k,v in conteo.items(): # despliega v valor y k llave\n",
    "    print(k,v)"
   ]
  }
 ],
 "metadata": {
  "kernelspec": {
   "display_name": "Python 3",
   "language": "python",
   "name": "python3"
  },
  "language_info": {
   "codemirror_mode": {
    "name": "ipython",
    "version": 3
   },
   "file_extension": ".py",
   "mimetype": "text/x-python",
   "name": "python",
   "nbconvert_exporter": "python",
   "pygments_lexer": "ipython3",
   "version": "3.11.7"
  }
 },
 "nbformat": 4,
 "nbformat_minor": 2
}
