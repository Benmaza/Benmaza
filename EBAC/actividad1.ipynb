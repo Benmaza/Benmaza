{
 "cells": [
  {
   "cell_type": "code",
   "execution_count": 3,
   "metadata": {},
   "outputs": [
    {
     "name": "stdout",
     "output_type": "stream",
     "text": [
      "<_io.TextIOWrapper name='ElRamoAzul.txt' mode='r' encoding='cp65001'>\n",
      "Desperté, cubierto de sudor. Del piso de ladrillos rojos, recién regados, subía un vapor caliente. Una mariposa de alas grisáceas revoloteaba encandilada alrededor del foco amarillento. Salté de la hamaca y descalzo atravesé el cuarto, cuidando no pisar algún alacrán salido de su escondrijo a tomar el fresco. Me acerqué al ventanillo y aspiré el aire del campo. Se oía la respiración de la noche, enorme, femenina. Regresé al centro de la habitación, vacié el agua de la jarra en la palangana de peltre y humedecí la toalla. Me froté el torso y las piernas con el trapo empapado, me sequé un poco y, tras de cerciorarme que ningún bicho estaba escondido entre los pliegues de mi ropa, me vestí y calcé. Bajé saltando la escalera pintada de verde. En la puerta del mesón tropecé con el dueño, sujeto tuerto y reticente. Sentado en una sillita de tule, fumaba con el ojo entrecerrado. Con voz ronca me preguntó:\n",
      "\n",
      "-¿Dónde va señor?\n",
      "\n",
      "-A dar una vuelta. Hace mucho calor.\n",
      "\n",
      "-Hum, todo está ya cerrado. Y no hay alumbrado aquí. Más le valiera quedarse.\n",
      "\n",
      "Alcé los hombros, musité “ahora vuelvo” y me metí en lo oscuro. Al principio no veía nada. Caminé a tientas por la calle empedrada. Encendí un cigarrillo. De pronto salió la luna de una nube negra, iluminando un muro blanco, desmoronado a trechos. Me detuve, ciego ante tanta blancura. Sopló un poco de viento. Respiré el aire de los tamarindos. Vibraba la noche, llena de hojas e insectos. Los grillos vivaqueaban entre las hierbas altas. Alcé la cara: arriba también habían establecido campamento las estrellas. Pensé que el universo era un vasto sistema de señales, una conversación entre seres inmensos. Mis actos, el serrucho del grillo, el parpadeo de la estrella, no eran sino pausas y sílabas, frases dispersas de aquel diálogo. ¿Cuál sería esa palabra de la cual yo era una sílaba? ¿Quién dice esa palabra y a quién se la dice? Tiré el cigarrillo sobre la banqueta. Al caer, describió una curva luminosa, arrojando breves chispas, como un cometa minúsculo.\n",
      "\n",
      "Caminé largo rato, despacio. Me sentía libre, seguro entre los labios que en ese momento me pronunciaban con tanta felicidad. La noche era un jardín de ojos. Al cruzar la calle, sentí que alguien se desprendía de una puerta. Me volví, pero no acerté a distinguir nada. Apreté el paso. Unos instantes percibí unos huaraches sobre las piedras calientes. No quise volverme, aunque sentía que la sombra se acercaba cada vez más. Intenté correr. No pude. Me detuve en seco, bruscamente. Antes de que pudiese defenderme, sentí la punta de un cuchillo en mi espalda y una voz dulce:\n",
      "\n",
      "-No se mueva , señor, o se lo entierro.\n",
      "\n",
      "Sin volver la cara pregunte:\n",
      "\n",
      "-¿Qué quieres?\n",
      "\n",
      "-Sus ojos, señor –contestó la voz suave, casi apenada.\n",
      "\n",
      "-¿Mis ojos? ¿Para qué te servirán mis ojos? Mira, aquí tengo un poco de dinero. No es mucho, pero es algo. Te daré todo lo que tengo, si me dejas. No vayas a matarme.\n",
      "\n",
      "-No tenga miedo, señor. No lo mataré. Nada más voy a sacarle los ojos.\n",
      "\n",
      "-Pero, ¿para qué quieres mis ojos?\n",
      "\n",
      "-Es un capricho de mi novia. Quiere un ramito de ojos azules y por aquí hay pocos que los tengan.\n",
      "\n",
      "Mis ojos no te sirven. No son azules, sino amarillos.\n",
      "\n",
      "-Ay, señor no quiera engañarme. Bien sé que los tiene azules.\n",
      "\n",
      "-No se le sacan a un cristiano los ojos así. Te daré otra cosa.\n",
      "\n",
      "-No se haga el remilgoso, me dijo con dureza. Dé la vuelta.\n",
      "\n",
      "Me volví. Era pequeño y frágil. El sombrero de palma le cubría medio rostro. Sostenía con el brazo derecho un machete de campo, que brillaba con la luz de la luna.\n",
      "\n",
      "-Alúmbrese la cara.\n",
      "\n",
      "Encendí y me acerqué la llama al rostro. El resplandor me hizo entrecerrar los ojos. Él apartó mis párpados con mano firme. No podía ver bien. Se alzó sobre las puntas de los pies y me contempló intensamente. La llama me quemaba los dedos. La arrojé. Permaneció un instante silencioso.\n",
      "\n",
      "-¿Ya te convenciste? No los tengo azules.\n",
      "\n",
      "-¡Ah, qué mañoso es usted! –respondió- A ver, encienda otra vez.\n",
      "\n",
      "Froté otro fósforo y lo acerqué a mis ojos. Tirándome de la manga, me ordenó.\n",
      "\n",
      "-Arrodíllese.\n",
      "\n",
      "Me hinqué. Con una mano me cogió por los cabellos, echándome la cabeza hacia atrás. Se inclinó sobre mí, curioso y tenso, mientras el machete descendía lentamente hasta rozar mis párpados. Cerré los ojos.\n",
      "\n",
      "-Ábralos bien –ordenó.\n",
      "\n",
      "Abrí los ojos. La llamita me quemaba las pestañas. Me soltó de improviso.\n",
      "\n",
      "-Pues no son azules, señor. Dispense.\n",
      "\n",
      "Y despareció.\n",
      "\n",
      "Me acodé junto al muro, con la cabeza entre las manos. Luego me incorporé. A tropezones, cayendo y levantándome, corrí durante una hora por el pueblo desierto. Cuando llegué a la plaza, vi al dueño del mesón, sentado aún frente a la puerta.\n",
      "\n",
      "Entré sin decir palabra.\n",
      "\n",
      "Al día siguiente huí de aquel pueblo.\n",
      "\n",
      "FIN\n",
      "\n",
      "\n"
     ]
    }
   ],
   "source": [
    "# Cargar el archivo de texto \"ElRamoAzul.txt\"\n",
    "archivo = open(\"ElRamoAzul.txt\") # abrir el archivo debemos tenerlo en la misma carpeta\n",
    "texto = archivo.read()\n",
    "print(archivo) # mostrar el archio\n",
    "print(texto) # mostrar el texto cargado"
   ]
  },
  {
   "cell_type": "code",
   "execution_count": 4,
   "metadata": {},
   "outputs": [
    {
     "name": "stdout",
     "output_type": "stream",
     "text": [
      "['Desperté,', 'cubierto', 'de', 'sudor.', 'Del', 'piso', 'de', 'ladrillos', 'rojos,', 'recién', 'regados,', 'subía', 'un', 'vapor', 'caliente.', 'Una', 'mariposa', 'de', 'alas', 'grisáceas', 'revoloteaba', 'encandilada', 'alrededor', 'del', 'foco', 'amarillento.', 'Salté', 'de', 'la', 'hamaca', 'y', 'descalzo', 'atravesé', 'el', 'cuarto,', 'cuidando', 'no', 'pisar', 'algún', 'alacrán', 'salido', 'de', 'su', 'escondrijo', 'a', 'tomar', 'el', 'fresco.', 'Me', 'acerqué', 'al', 'ventanillo', 'y', 'aspiré', 'el', 'aire', 'del', 'campo.', 'Se', 'oía', 'la', 'respiración', 'de', 'la', 'noche,', 'enorme,', 'femenina.', 'Regresé', 'al', 'centro', 'de', 'la', 'habitación,', 'vacié', 'el', 'agua', 'de', 'la', 'jarra', 'en', 'la', 'palangana', 'de', 'peltre', 'y', 'humedecí', 'la', 'toalla.', 'Me', 'froté', 'el', 'torso', 'y', 'las', 'piernas', 'con', 'el', 'trapo', 'empapado,', 'me', 'sequé', 'un', 'poco', 'y,', 'tras', 'de', 'cerciorarme', 'que', 'ningún', 'bicho', 'estaba', 'escondido', 'entre', 'los', 'pliegues', 'de', 'mi', 'ropa,', 'me', 'vestí', 'y', 'calcé.', 'Bajé', 'saltando', 'la', 'escalera', 'pintada', 'de', 'verde.', 'En', 'la', 'puerta', 'del', 'mesón', 'tropecé', 'con', 'el', 'dueño,', 'sujeto', 'tuerto', 'y', 'reticente.', 'Sentado', 'en', 'una', 'sillita', 'de', 'tule,', 'fumaba', 'con', 'el', 'ojo', 'entrecerrado.', 'Con', 'voz', 'ronca', 'me', 'preguntó:', '-¿Dónde', 'va', 'señor?', '-A', 'dar', 'una', 'vuelta.', 'Hace', 'mucho', 'calor.', '-Hum,', 'todo', 'está', 'ya', 'cerrado.', 'Y', 'no', 'hay', 'alumbrado', 'aquí.', 'Más', 'le', 'valiera', 'quedarse.', 'Alcé', 'los', 'hombros,', 'musité', '“ahora', 'vuelvo”', 'y', 'me', 'metí', 'en', 'lo', 'oscuro.', 'Al', 'principio', 'no', 'veía', 'nada.', 'Caminé', 'a', 'tientas', 'por', 'la', 'calle', 'empedrada.', 'Encendí', 'un', 'cigarrillo.', 'De', 'pronto', 'salió', 'la', 'luna', 'de', 'una', 'nube', 'negra,', 'iluminando', 'un', 'muro', 'blanco,', 'desmoronado', 'a', 'trechos.', 'Me', 'detuve,', 'ciego', 'ante', 'tanta', 'blancura.', 'Sopló', 'un', 'poco', 'de', 'viento.', 'Respiré', 'el', 'aire', 'de', 'los', 'tamarindos.', 'Vibraba', 'la', 'noche,', 'llena', 'de', 'hojas', 'e', 'insectos.', 'Los', 'grillos', 'vivaqueaban', 'entre', 'las', 'hierbas', 'altas.', 'Alcé', 'la', 'cara:', 'arriba', 'también', 'habían', 'establecido', 'campamento', 'las', 'estrellas.', 'Pensé', 'que', 'el', 'universo', 'era', 'un', 'vasto', 'sistema', 'de', 'señales,', 'una', 'conversación', 'entre', 'seres', 'inmensos.', 'Mis', 'actos,', 'el', 'serrucho', 'del', 'grillo,', 'el', 'parpadeo', 'de', 'la', 'estrella,', 'no', 'eran', 'sino', 'pausas', 'y', 'sílabas,', 'frases', 'dispersas', 'de', 'aquel', 'diálogo.', '¿Cuál', 'sería', 'esa', 'palabra', 'de', 'la', 'cual', 'yo', 'era', 'una', 'sílaba?', '¿Quién', 'dice', 'esa', 'palabra', 'y', 'a', 'quién', 'se', 'la', 'dice?', 'Tiré', 'el', 'cigarrillo', 'sobre', 'la', 'banqueta.', 'Al', 'caer,', 'describió', 'una', 'curva', 'luminosa,', 'arrojando', 'breves', 'chispas,', 'como', 'un', 'cometa', 'minúsculo.', 'Caminé', 'largo', 'rato,', 'despacio.', 'Me', 'sentía', 'libre,', 'seguro', 'entre', 'los', 'labios', 'que', 'en', 'ese', 'momento', 'me', 'pronunciaban', 'con', 'tanta', 'felicidad.', 'La', 'noche', 'era', 'un', 'jardín', 'de', 'ojos.', 'Al', 'cruzar', 'la', 'calle,', 'sentí', 'que', 'alguien', 'se', 'desprendía', 'de', 'una', 'puerta.', 'Me', 'volví,', 'pero', 'no', 'acerté', 'a', 'distinguir', 'nada.', 'Apreté', 'el', 'paso.', 'Unos', 'instantes', 'percibí', 'unos', 'huaraches', 'sobre', 'las', 'piedras', 'calientes.', 'No', 'quise', 'volverme,', 'aunque', 'sentía', 'que', 'la', 'sombra', 'se', 'acercaba', 'cada', 'vez', 'más.', 'Intenté', 'correr.', 'No', 'pude.', 'Me', 'detuve', 'en', 'seco,', 'bruscamente.', 'Antes', 'de', 'que', 'pudiese', 'defenderme,', 'sentí', 'la', 'punta', 'de', 'un', 'cuchillo', 'en', 'mi', 'espalda', 'y', 'una', 'voz', 'dulce:', '-No', 'se', 'mueva', ',', 'señor,', 'o', 'se', 'lo', 'entierro.', 'Sin', 'volver', 'la', 'cara', 'pregunte:', '-¿Qué', 'quieres?', '-Sus', 'ojos,', 'señor', '–contestó', 'la', 'voz', 'suave,', 'casi', 'apenada.', '-¿Mis', 'ojos?', '¿Para', 'qué', 'te', 'servirán', 'mis', 'ojos?', 'Mira,', 'aquí', 'tengo', 'un', 'poco', 'de', 'dinero.', 'No', 'es', 'mucho,', 'pero', 'es', 'algo.', 'Te', 'daré', 'todo', 'lo', 'que', 'tengo,', 'si', 'me', 'dejas.', 'No', 'vayas', 'a', 'matarme.', '-No', 'tenga', 'miedo,', 'señor.', 'No', 'lo', 'mataré.', 'Nada', 'más', 'voy', 'a', 'sacarle', 'los', 'ojos.', '-Pero,', '¿para', 'qué', 'quieres', 'mis', 'ojos?', '-Es', 'un', 'capricho', 'de', 'mi', 'novia.', 'Quiere', 'un', 'ramito', 'de', 'ojos', 'azules', 'y', 'por', 'aquí', 'hay', 'pocos', 'que', 'los', 'tengan.', 'Mis', 'ojos', 'no', 'te', 'sirven.', 'No', 'son', 'azules,', 'sino', 'amarillos.', '-Ay,', 'señor', 'no', 'quiera', 'engañarme.', 'Bien', 'sé', 'que', 'los', 'tiene', 'azules.', '-No', 'se', 'le', 'sacan', 'a', 'un', 'cristiano', 'los', 'ojos', 'así.', 'Te', 'daré', 'otra', 'cosa.', '-No', 'se', 'haga', 'el', 'remilgoso,', 'me', 'dijo', 'con', 'dureza.', 'Dé', 'la', 'vuelta.', 'Me', 'volví.', 'Era', 'pequeño', 'y', 'frágil.', 'El', 'sombrero', 'de', 'palma', 'le', 'cubría', 'medio', 'rostro.', 'Sostenía', 'con', 'el', 'brazo', 'derecho', 'un', 'machete', 'de', 'campo,', 'que', 'brillaba', 'con', 'la', 'luz', 'de', 'la', 'luna.', '-Alúmbrese', 'la', 'cara.', 'Encendí', 'y', 'me', 'acerqué', 'la', 'llama', 'al', 'rostro.', 'El', 'resplandor', 'me', 'hizo', 'entrecerrar', 'los', 'ojos.', 'Él', 'apartó', 'mis', 'párpados', 'con', 'mano', 'firme.', 'No', 'podía', 'ver', 'bien.', 'Se', 'alzó', 'sobre', 'las', 'puntas', 'de', 'los', 'pies', 'y', 'me', 'contempló', 'intensamente.', 'La', 'llama', 'me', 'quemaba', 'los', 'dedos.', 'La', 'arrojé.', 'Permaneció', 'un', 'instante', 'silencioso.', '-¿Ya', 'te', 'convenciste?', 'No', 'los', 'tengo', 'azules.', '-¡Ah,', 'qué', 'mañoso', 'es', 'usted!', '–respondió-', 'A', 'ver,', 'encienda', 'otra', 'vez.', 'Froté', 'otro', 'fósforo', 'y', 'lo', 'acerqué', 'a', 'mis', 'ojos.', 'Tirándome', 'de', 'la', 'manga,', 'me', 'ordenó.', '-Arrodíllese.', 'Me', 'hinqué.', 'Con', 'una', 'mano', 'me', 'cogió', 'por', 'los', 'cabellos,', 'echándome', 'la', 'cabeza', 'hacia', 'atrás.', 'Se', 'inclinó', 'sobre', 'mí,', 'curioso', 'y', 'tenso,', 'mientras', 'el', 'machete', 'descendía', 'lentamente', 'hasta', 'rozar', 'mis', 'párpados.', 'Cerré', 'los', 'ojos.', '-Ábralos', 'bien', '–ordenó.', 'Abrí', 'los', 'ojos.', 'La', 'llamita', 'me', 'quemaba', 'las', 'pestañas.', 'Me', 'soltó', 'de', 'improviso.', '-Pues', 'no', 'son', 'azules,', 'señor.', 'Dispense.', 'Y', 'despareció.', 'Me', 'acodé', 'junto', 'al', 'muro,', 'con', 'la', 'cabeza', 'entre', 'las', 'manos.', 'Luego', 'me', 'incorporé.', 'A', 'tropezones,', 'cayendo', 'y', 'levantándome,', 'corrí', 'durante', 'una', 'hora', 'por', 'el', 'pueblo', 'desierto.', 'Cuando', 'llegué', 'a', 'la', 'plaza,', 'vi', 'al', 'dueño', 'del', 'mesón,', 'sentado', 'aún', 'frente', 'a', 'la', 'puerta.', 'Entré', 'sin', 'decir', 'palabra.', 'Al', 'día', 'siguiente', 'huí', 'de', 'aquel', 'pueblo.', 'FIN']\n"
     ]
    }
   ],
   "source": [
    "# una vez que este cargado el archivo, se separa por palabras\n",
    "palabras = texto.split() # separa palabras\n",
    "print(palabras)"
   ]
  },
  {
   "cell_type": "code",
   "execution_count": 5,
   "metadata": {},
   "outputs": [
    {
     "name": "stdout",
     "output_type": "stream",
     "text": [
      "{',': 1, '-A': 1, '-Alúmbrese': 1, '-Arrodíllese.': 1, '-Ay,': 1, '-Es': 1, '-Hum,': 1, '-No': 4, '-Pero,': 1, '-Pues': 1, '-Sus': 1, '-¡Ah,': 1, '-¿Dónde': 1, '-¿Mis': 1, '-¿Qué': 1, '-¿Ya': 1, '-Ábralos': 1, 'A': 2, 'Abrí': 1, 'Al': 4, 'Alcé': 2, 'Antes': 1, 'Apreté': 1, 'Bajé': 1, 'Bien': 1, 'Caminé': 2, 'Cerré': 1, 'Con': 2, 'Cuando': 1, 'De': 1, 'Del': 1, 'Desperté,': 1, 'Dispense.': 1, 'Dé': 1, 'El': 2, 'En': 1, 'Encendí': 2, 'Entré': 1, 'Era': 1, 'FIN': 1, 'Froté': 1, 'Hace': 1, 'Intenté': 1, 'La': 4, 'Los': 1, 'Luego': 1, 'Me': 10, 'Mira,': 1, 'Mis': 2, 'Más': 1, 'Nada': 1, 'No': 8, 'Pensé': 1, 'Permaneció': 1, 'Quiere': 1, 'Regresé': 1, 'Respiré': 1, 'Salté': 1, 'Se': 3, 'Sentado': 1, 'Sin': 1, 'Sopló': 1, 'Sostenía': 1, 'Te': 2, 'Tirándome': 1, 'Tiré': 1, 'Una': 1, 'Unos': 1, 'Vibraba': 1, 'Y': 2, 'a': 11, 'acercaba': 1, 'acerqué': 3, 'acerté': 1, 'acodé': 1, 'actos,': 1, 'agua': 1, 'aire': 2, 'al': 5, 'alacrán': 1, 'alas': 1, 'algo.': 1, 'alguien': 1, 'algún': 1, 'alrededor': 1, 'altas.': 1, 'alumbrado': 1, 'alzó': 1, 'amarillento.': 1, 'amarillos.': 1, 'ante': 1, 'apartó': 1, 'apenada.': 1, 'aquel': 2, 'aquí': 2, 'aquí.': 1, 'arriba': 1, 'arrojando': 1, 'arrojé.': 1, 'aspiré': 1, 'así.': 1, 'atravesé': 1, 'atrás.': 1, 'aunque': 1, 'azules': 1, 'azules,': 2, 'azules.': 2, 'aún': 1, 'banqueta.': 1, 'bicho': 1, 'bien': 1, 'bien.': 1, 'blanco,': 1, 'blancura.': 1, 'brazo': 1, 'breves': 1, 'brillaba': 1, 'bruscamente.': 1, 'cabellos,': 1, 'cabeza': 2, 'cada': 1, 'caer,': 1, 'calcé.': 1, 'caliente.': 1, 'calientes.': 1, 'calle': 1, 'calle,': 1, 'calor.': 1, 'campamento': 1, 'campo,': 1, 'campo.': 1, 'capricho': 1, 'cara': 1, 'cara.': 1, 'cara:': 1, 'casi': 1, 'cayendo': 1, 'centro': 1, 'cerciorarme': 1, 'cerrado.': 1, 'chispas,': 1, 'ciego': 1, 'cigarrillo': 1, 'cigarrillo.': 1, 'cogió': 1, 'cometa': 1, 'como': 1, 'con': 9, 'contempló': 1, 'convenciste?': 1, 'conversación': 1, 'correr.': 1, 'corrí': 1, 'cosa.': 1, 'cristiano': 1, 'cruzar': 1, 'cual': 1, 'cuarto,': 1, 'cubierto': 1, 'cubría': 1, 'cuchillo': 1, 'cuidando': 1, 'curioso': 1, 'curva': 1, 'dar': 1, 'daré': 2, 'de': 35, 'decir': 1, 'dedos.': 1, 'defenderme,': 1, 'dejas.': 1, 'del': 5, 'derecho': 1, 'descalzo': 1, 'descendía': 1, 'describió': 1, 'desierto.': 1, 'desmoronado': 1, 'despacio.': 1, 'despareció.': 1, 'desprendía': 1, 'detuve': 1, 'detuve,': 1, 'dice': 1, 'dice?': 1, 'dijo': 1, 'dinero.': 1, 'dispersas': 1, 'distinguir': 1, 'diálogo.': 1, 'dueño': 1, 'dueño,': 1, 'dulce:': 1, 'durante': 1, 'dureza.': 1, 'día': 1, 'e': 1, 'echándome': 1, 'el': 18, 'empapado,': 1, 'empedrada.': 1, 'en': 6, 'encandilada': 1, 'encienda': 1, 'engañarme.': 1, 'enorme,': 1, 'entierro.': 1, 'entre': 5, 'entrecerrado.': 1, 'entrecerrar': 1, 'era': 3, 'eran': 1, 'es': 3, 'esa': 2, 'escalera': 1, 'escondido': 1, 'escondrijo': 1, 'ese': 1, 'espalda': 1, 'estaba': 1, 'establecido': 1, 'estrella,': 1, 'estrellas.': 1, 'está': 1, 'felicidad.': 1, 'femenina.': 1, 'firme.': 1, 'foco': 1, 'frases': 1, 'frente': 1, 'fresco.': 1, 'froté': 1, 'frágil.': 1, 'fumaba': 1, 'fósforo': 1, 'grillo,': 1, 'grillos': 1, 'grisáceas': 1, 'habitación,': 1, 'habían': 1, 'hacia': 1, 'haga': 1, 'hamaca': 1, 'hasta': 1, 'hay': 2, 'hierbas': 1, 'hinqué.': 1, 'hizo': 1, 'hojas': 1, 'hombros,': 1, 'hora': 1, 'huaraches': 1, 'humedecí': 1, 'huí': 1, 'iluminando': 1, 'improviso.': 1, 'inclinó': 1, 'incorporé.': 1, 'inmensos.': 1, 'insectos.': 1, 'instante': 1, 'instantes': 1, 'intensamente.': 1, 'jardín': 1, 'jarra': 1, 'junto': 1, 'la': 32, 'labios': 1, 'ladrillos': 1, 'largo': 1, 'las': 7, 'le': 3, 'lentamente': 1, 'levantándome,': 1, 'libre,': 1, 'llama': 2, 'llamita': 1, 'llegué': 1, 'llena': 1, 'lo': 5, 'los': 15, 'luminosa,': 1, 'luna': 1, 'luna.': 1, 'luz': 1, 'machete': 2, 'manga,': 1, 'mano': 2, 'manos.': 1, 'mariposa': 1, 'matarme.': 1, 'mataré.': 1, 'mañoso': 1, 'me': 15, 'medio': 1, 'mesón': 1, 'mesón,': 1, 'metí': 1, 'mi': 3, 'miedo,': 1, 'mientras': 1, 'minúsculo.': 1, 'mis': 5, 'momento': 1, 'mucho': 1, 'mucho,': 1, 'mueva': 1, 'muro': 1, 'muro,': 1, 'musité': 1, 'más': 1, 'más.': 1, 'mí,': 1, 'nada.': 2, 'negra,': 1, 'ningún': 1, 'no': 8, 'noche': 1, 'noche,': 2, 'novia.': 1, 'nube': 1, 'o': 1, 'ojo': 1, 'ojos': 3, 'ojos,': 1, 'ojos.': 6, 'ojos?': 3, 'ordenó.': 1, 'oscuro.': 1, 'otra': 2, 'otro': 1, 'oía': 1, 'palabra': 2, 'palabra.': 1, 'palangana': 1, 'palma': 1, 'parpadeo': 1, 'paso.': 1, 'pausas': 1, 'peltre': 1, 'pequeño': 1, 'percibí': 1, 'pero': 2, 'pestañas.': 1, 'piedras': 1, 'piernas': 1, 'pies': 1, 'pintada': 1, 'pisar': 1, 'piso': 1, 'plaza,': 1, 'pliegues': 1, 'poco': 3, 'pocos': 1, 'podía': 1, 'por': 4, 'pregunte:': 1, 'preguntó:': 1, 'principio': 1, 'pronto': 1, 'pronunciaban': 1, 'pude.': 1, 'pudiese': 1, 'pueblo': 1, 'pueblo.': 1, 'puerta': 1, 'puerta.': 2, 'punta': 1, 'puntas': 1, 'párpados': 1, 'párpados.': 1, 'que': 10, 'quedarse.': 1, 'quemaba': 2, 'quiera': 1, 'quieres': 1, 'quieres?': 1, 'quise': 1, 'quién': 1, 'qué': 3, 'ramito': 1, 'rato,': 1, 'recién': 1, 'regados,': 1, 'remilgoso,': 1, 'respiración': 1, 'resplandor': 1, 'reticente.': 1, 'revoloteaba': 1, 'rojos,': 1, 'ronca': 1, 'ropa,': 1, 'rostro.': 2, 'rozar': 1, 'sacan': 1, 'sacarle': 1, 'salido': 1, 'salió': 1, 'saltando': 1, 'se': 7, 'seco,': 1, 'seguro': 1, 'sentado': 1, 'sentí': 2, 'sentía': 2, 'sequé': 1, 'seres': 1, 'serrucho': 1, 'servirán': 1, 'sería': 1, 'señales,': 1, 'señor': 2, 'señor,': 1, 'señor.': 2, 'señor?': 1, 'si': 1, 'siguiente': 1, 'silencioso.': 1, 'sillita': 1, 'sin': 1, 'sino': 2, 'sirven.': 1, 'sistema': 1, 'sobre': 4, 'soltó': 1, 'sombra': 1, 'sombrero': 1, 'son': 2, 'su': 1, 'suave,': 1, 'subía': 1, 'sudor.': 1, 'sujeto': 1, 'sé': 1, 'sílaba?': 1, 'sílabas,': 1, 'tamarindos.': 1, 'también': 1, 'tanta': 2, 'te': 3, 'tenga': 1, 'tengan.': 1, 'tengo': 2, 'tengo,': 1, 'tenso,': 1, 'tiene': 1, 'tientas': 1, 'toalla.': 1, 'todo': 2, 'tomar': 1, 'torso': 1, 'trapo': 1, 'tras': 1, 'trechos.': 1, 'tropecé': 1, 'tropezones,': 1, 'tuerto': 1, 'tule,': 1, 'un': 15, 'una': 10, 'universo': 1, 'unos': 1, 'usted!': 1, 'va': 1, 'vacié': 1, 'valiera': 1, 'vapor': 1, 'vasto': 1, 'vayas': 1, 'ventanillo': 1, 'ver': 1, 'ver,': 1, 'verde.': 1, 'vestí': 1, 'vez': 1, 'vez.': 1, 'veía': 1, 'vi': 1, 'viento.': 1, 'vivaqueaban': 1, 'volver': 1, 'volverme,': 1, 'volví,': 1, 'volví.': 1, 'voy': 1, 'voz': 3, 'vuelta.': 2, 'vuelvo”': 1, 'y': 17, 'y,': 1, 'ya': 1, 'yo': 1, '¿Cuál': 1, '¿Para': 1, '¿Quién': 1, '¿para': 1, 'Él': 1, '–contestó': 1, '–ordenó.': 1, '–respondió-': 1, '“ahora': 1}\n"
     ]
    }
   ],
   "source": [
    "# una vez generado el listado de palabras, se crea un diccionario\n",
    "# para cuales y cuantas palabras existen en el texto\n",
    "conteo= dict()\n",
    "for palabra in palabras:\n",
    "    if palabra not in conteo:\n",
    "        conteo[palabra] = 1\n",
    "    else:\n",
    "        conteo[palabra] += 1\n",
    "conteo_ordenado = dict(sorted(conteo.items())) # ordenar el diccionario\n",
    "print(conteo_ordenado) # mostrar el diccionario ordenado    "
   ]
  },
  {
   "cell_type": "code",
   "execution_count": 9,
   "metadata": {},
   "outputs": [
    {
     "name": "stdout",
     "output_type": "stream",
     "text": [
      "La palabra no se repite 8 veces en el texto\n"
     ]
    }
   ],
   "source": [
    "# una vez generado el diccionario y ordenado, ahora haremos el codigo\n",
    "# para encontrar una palabra en especifico y mostrar cuantas veces se repite\n",
    "# para este caso seria la palabra \"ojos\"\n",
    "\n",
    "buscar_palabra = \"no\" # palabra a buscar \n",
    "for palabra in conteo_ordenado:\n",
    "    if palabra == buscar_palabra: # se agrega la condicion para buscar la palabra\n",
    "        print(\"La palabra\", buscar_palabra, \"se repite\", conteo_ordenado[palabra], \"veces en el texto\")"
   ]
  }
 ],
 "metadata": {
  "kernelspec": {
   "display_name": "Python 3",
   "language": "python",
   "name": "python3"
  },
  "language_info": {
   "codemirror_mode": {
    "name": "ipython",
    "version": 3
   },
   "file_extension": ".py",
   "mimetype": "text/x-python",
   "name": "python",
   "nbconvert_exporter": "python",
   "pygments_lexer": "ipython3",
   "version": "3.11.7"
  }
 },
 "nbformat": 4,
 "nbformat_minor": 2
}
