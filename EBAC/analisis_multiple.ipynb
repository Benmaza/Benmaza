{
 "cells": [
  {
   "cell_type": "code",
   "execution_count": 27,
   "id": "0747d870",
   "metadata": {},
   "outputs": [],
   "source": [
    "import pandas as pd\n",
    "import numpy as np\n",
    "import warnings\n",
    "warnings.filterwarnings(\"ignore\")"
   ]
  },
  {
   "cell_type": "code",
   "execution_count": 28,
   "id": "6bb5bb82",
   "metadata": {},
   "outputs": [
    {
     "data": {
      "application/vnd.microsoft.datawrangler.viewer.v0+json": {
       "columns": [
        {
         "name": "index",
         "rawType": "int64",
         "type": "integer"
        },
        {
         "name": "model",
         "rawType": "object",
         "type": "string"
        },
        {
         "name": "year",
         "rawType": "int64",
         "type": "integer"
        },
        {
         "name": "price",
         "rawType": "int64",
         "type": "integer"
        },
        {
         "name": "transmission",
         "rawType": "object",
         "type": "string"
        },
        {
         "name": "mileage",
         "rawType": "int64",
         "type": "integer"
        },
        {
         "name": "fuelType",
         "rawType": "object",
         "type": "string"
        },
        {
         "name": "tax",
         "rawType": "int64",
         "type": "integer"
        },
        {
         "name": "mpg",
         "rawType": "float64",
         "type": "float"
        },
        {
         "name": "engineSize",
         "rawType": "float64",
         "type": "float"
        }
       ],
       "ref": "65a31631-1bd3-4596-92d6-9b4a392708e9",
       "rows": [
        [
         "0",
         " T-Roc",
         "2019",
         "25000",
         "Automatic",
         "13904",
         "Diesel",
         "145",
         "49.6",
         "2.0"
        ],
        [
         "1",
         " T-Roc",
         "2019",
         "26883",
         "Automatic",
         "4562",
         "Diesel",
         "145",
         "49.6",
         "2.0"
        ],
        [
         "2",
         " T-Roc",
         "2019",
         "20000",
         "Manual",
         "7414",
         "Diesel",
         "145",
         "50.4",
         "2.0"
        ],
        [
         "3",
         " T-Roc",
         "2019",
         "33492",
         "Automatic",
         "4825",
         "Petrol",
         "145",
         "32.5",
         "2.0"
        ],
        [
         "4",
         " T-Roc",
         "2019",
         "22900",
         "Semi-Auto",
         "6500",
         "Petrol",
         "150",
         "39.8",
         "1.5"
        ],
        [
         "5",
         " T-Roc",
         "2020",
         "31895",
         "Manual",
         "10",
         "Petrol",
         "145",
         "42.2",
         "1.5"
        ],
        [
         "6",
         " T-Roc",
         "2020",
         "27895",
         "Manual",
         "10",
         "Petrol",
         "145",
         "42.2",
         "1.5"
        ],
        [
         "7",
         " T-Roc",
         "2020",
         "39495",
         "Semi-Auto",
         "10",
         "Petrol",
         "145",
         "32.5",
         "2.0"
        ],
        [
         "8",
         " T-Roc",
         "2019",
         "21995",
         "Manual",
         "10",
         "Petrol",
         "145",
         "44.1",
         "1.0"
        ],
        [
         "9",
         " T-Roc",
         "2019",
         "23285",
         "Manual",
         "10",
         "Petrol",
         "145",
         "42.2",
         "1.5"
        ],
        [
         "10",
         " T-Roc",
         "2019",
         "23985",
         "Semi-Auto",
         "10",
         "Petrol",
         "145",
         "39.8",
         "1.5"
        ],
        [
         "11",
         " T-Roc",
         "2019",
         "23585",
         "Manual",
         "10",
         "Petrol",
         "145",
         "42.2",
         "1.5"
        ],
        [
         "12",
         " T-Roc",
         "2020",
         "25785",
         "Semi-Auto",
         "10",
         "Petrol",
         "145",
         "39.8",
         "1.5"
        ],
        [
         "13",
         " T-Roc",
         "2019",
         "23995",
         "Semi-Auto",
         "1069",
         "Petrol",
         "145",
         "39.8",
         "1.5"
        ],
        [
         "14",
         " T-Roc",
         "2018",
         "17495",
         "Manual",
         "21645",
         "Petrol",
         "145",
         "53.3",
         "1.5"
        ],
        [
         "15",
         " T-Roc",
         "2018",
         "21495",
         "Manual",
         "16972",
         "Petrol",
         "145",
         "53.3",
         "1.5"
        ],
        [
         "16",
         " T-Roc",
         "2018",
         "18995",
         "Manual",
         "15100",
         "Petrol",
         "145",
         "44.1",
         "1.0"
        ],
        [
         "17",
         " T-Roc",
         "2018",
         "18995",
         "Manual",
         "1380",
         "Petrol",
         "150",
         "55.4",
         "1.0"
        ],
        [
         "18",
         " T-Roc",
         "2019",
         "33785",
         "Semi-Auto",
         "2500",
         "Petrol",
         "145",
         "32.5",
         "2.0"
        ],
        [
         "19",
         " T-Roc",
         "2020",
         "23790",
         "Semi-Auto",
         "5000",
         "Petrol",
         "145",
         "39.8",
         "1.5"
        ],
        [
         "20",
         " T-Roc",
         "2019",
         "19995",
         "Manual",
         "12300",
         "Petrol",
         "145",
         "42.2",
         "1.5"
        ],
        [
         "21",
         " T-Roc",
         "2020",
         "21690",
         "Manual",
         "2500",
         "Petrol",
         "145",
         "44.1",
         "1.0"
        ],
        [
         "22",
         " T-Roc",
         "2019",
         "23290",
         "Manual",
         "5540",
         "Petrol",
         "145",
         "42.2",
         "1.5"
        ],
        [
         "23",
         " T-Roc",
         "2019",
         "24790",
         "Manual",
         "3500",
         "Petrol",
         "145",
         "42.2",
         "1.5"
        ],
        [
         "24",
         " T-Roc",
         "2018",
         "19995",
         "Manual",
         "16251",
         "Petrol",
         "145",
         "53.3",
         "1.5"
        ],
        [
         "25",
         " T-Roc",
         "2019",
         "20290",
         "Manual",
         "5127",
         "Petrol",
         "145",
         "42.2",
         "1.5"
        ],
        [
         "26",
         " T-Roc",
         "2019",
         "33990",
         "Semi-Auto",
         "3500",
         "Petrol",
         "145",
         "32.5",
         "2.0"
        ],
        [
         "27",
         " T-Roc",
         "2018",
         "17685",
         "Manual",
         "22584",
         "Petrol",
         "145",
         "44.1",
         "1.0"
        ],
        [
         "28",
         " T-Roc",
         "2020",
         "24495",
         "Manual",
         "1955",
         "Diesel",
         "150",
         "50.4",
         "2.0"
        ],
        [
         "29",
         " T-Roc",
         "2018",
         "17995",
         "Manual",
         "10456",
         "Petrol",
         "150",
         "55.4",
         "1.0"
        ],
        [
         "30",
         " T-Roc",
         "2020",
         "28290",
         "Semi-Auto",
         "2500",
         "Petrol",
         "145",
         "39.8",
         "1.5"
        ],
        [
         "31",
         " T-Roc",
         "2018",
         "17495",
         "Manual",
         "6908",
         "Petrol",
         "145",
         "55.4",
         "1.0"
        ],
        [
         "32",
         " T-Roc",
         "2019",
         "22990",
         "Manual",
         "7216",
         "Diesel",
         "145",
         "50.4",
         "1.6"
        ],
        [
         "33",
         " T-Roc",
         "2019",
         "22995",
         "Manual",
         "4003",
         "Diesel",
         "145",
         "46.3",
         "2.0"
        ],
        [
         "34",
         " T-Roc",
         "2019",
         "21498",
         "Manual",
         "5",
         "Diesel",
         "150",
         "50.4",
         "1.6"
        ],
        [
         "35",
         " T-Roc",
         "2018",
         "17995",
         "Manual",
         "14837",
         "Petrol",
         "145",
         "53.3",
         "1.5"
        ],
        [
         "36",
         " T-Roc",
         "2018",
         "17995",
         "Manual",
         "14337",
         "Petrol",
         "145",
         "53.3",
         "1.5"
        ],
        [
         "37",
         " T-Roc",
         "2019",
         "22230",
         "Manual",
         "3392",
         "Diesel",
         "145",
         "50.4",
         "2.0"
        ],
        [
         "38",
         " T-Roc",
         "2018",
         "18695",
         "Manual",
         "6753",
         "Petrol",
         "145",
         "53.3",
         "1.5"
        ],
        [
         "39",
         " T-Roc",
         "2019",
         "25990",
         "Semi-Auto",
         "2423",
         "Diesel",
         "145",
         "49.6",
         "2.0"
        ],
        [
         "40",
         " T-Roc",
         "2018",
         "18695",
         "Manual",
         "6753",
         "Petrol",
         "145",
         "53.3",
         "1.5"
        ],
        [
         "41",
         " T-Roc",
         "2019",
         "23999",
         "Manual",
         "4224",
         "Petrol",
         "145",
         "42.2",
         "1.5"
        ],
        [
         "42",
         " T-Roc",
         "2019",
         "24490",
         "Manual",
         "6144",
         "Diesel",
         "145",
         "50.4",
         "2.0"
        ],
        [
         "43",
         " T-Roc",
         "2019",
         "24490",
         "Manual",
         "5345",
         "Diesel",
         "145",
         "50.4",
         "2.0"
        ],
        [
         "44",
         " T-Roc",
         "2019",
         "25990",
         "Semi-Auto",
         "4233",
         "Diesel",
         "145",
         "49.6",
         "2.0"
        ],
        [
         "45",
         " T-Roc",
         "2018",
         "17995",
         "Manual",
         "14837",
         "Petrol",
         "145",
         "53.3",
         "1.5"
        ],
        [
         "46",
         " T-Roc",
         "2018",
         "17995",
         "Manual",
         "14337",
         "Petrol",
         "145",
         "53.3",
         "1.5"
        ],
        [
         "47",
         " T-Roc",
         "2019",
         "23999",
         "Semi-Auto",
         "5027",
         "Petrol",
         "145",
         "39.8",
         "1.5"
        ],
        [
         "48",
         " T-Roc",
         "2019",
         "22230",
         "Manual",
         "3392",
         "Diesel",
         "145",
         "50.4",
         "2.0"
        ],
        [
         "49",
         " T-Roc",
         "2019",
         "23999",
         "Manual",
         "2520",
         "Petrol",
         "145",
         "42.2",
         "1.5"
        ]
       ],
       "shape": {
        "columns": 9,
        "rows": 15157
       }
      },
      "text/html": [
       "<div>\n",
       "<style scoped>\n",
       "    .dataframe tbody tr th:only-of-type {\n",
       "        vertical-align: middle;\n",
       "    }\n",
       "\n",
       "    .dataframe tbody tr th {\n",
       "        vertical-align: top;\n",
       "    }\n",
       "\n",
       "    .dataframe thead th {\n",
       "        text-align: right;\n",
       "    }\n",
       "</style>\n",
       "<table border=\"1\" class=\"dataframe\">\n",
       "  <thead>\n",
       "    <tr style=\"text-align: right;\">\n",
       "      <th></th>\n",
       "      <th>model</th>\n",
       "      <th>year</th>\n",
       "      <th>price</th>\n",
       "      <th>transmission</th>\n",
       "      <th>mileage</th>\n",
       "      <th>fuelType</th>\n",
       "      <th>tax</th>\n",
       "      <th>mpg</th>\n",
       "      <th>engineSize</th>\n",
       "    </tr>\n",
       "  </thead>\n",
       "  <tbody>\n",
       "    <tr>\n",
       "      <th>0</th>\n",
       "      <td>T-Roc</td>\n",
       "      <td>2019</td>\n",
       "      <td>25000</td>\n",
       "      <td>Automatic</td>\n",
       "      <td>13904</td>\n",
       "      <td>Diesel</td>\n",
       "      <td>145</td>\n",
       "      <td>49.6</td>\n",
       "      <td>2.0</td>\n",
       "    </tr>\n",
       "    <tr>\n",
       "      <th>1</th>\n",
       "      <td>T-Roc</td>\n",
       "      <td>2019</td>\n",
       "      <td>26883</td>\n",
       "      <td>Automatic</td>\n",
       "      <td>4562</td>\n",
       "      <td>Diesel</td>\n",
       "      <td>145</td>\n",
       "      <td>49.6</td>\n",
       "      <td>2.0</td>\n",
       "    </tr>\n",
       "    <tr>\n",
       "      <th>2</th>\n",
       "      <td>T-Roc</td>\n",
       "      <td>2019</td>\n",
       "      <td>20000</td>\n",
       "      <td>Manual</td>\n",
       "      <td>7414</td>\n",
       "      <td>Diesel</td>\n",
       "      <td>145</td>\n",
       "      <td>50.4</td>\n",
       "      <td>2.0</td>\n",
       "    </tr>\n",
       "    <tr>\n",
       "      <th>3</th>\n",
       "      <td>T-Roc</td>\n",
       "      <td>2019</td>\n",
       "      <td>33492</td>\n",
       "      <td>Automatic</td>\n",
       "      <td>4825</td>\n",
       "      <td>Petrol</td>\n",
       "      <td>145</td>\n",
       "      <td>32.5</td>\n",
       "      <td>2.0</td>\n",
       "    </tr>\n",
       "    <tr>\n",
       "      <th>4</th>\n",
       "      <td>T-Roc</td>\n",
       "      <td>2019</td>\n",
       "      <td>22900</td>\n",
       "      <td>Semi-Auto</td>\n",
       "      <td>6500</td>\n",
       "      <td>Petrol</td>\n",
       "      <td>150</td>\n",
       "      <td>39.8</td>\n",
       "      <td>1.5</td>\n",
       "    </tr>\n",
       "    <tr>\n",
       "      <th>...</th>\n",
       "      <td>...</td>\n",
       "      <td>...</td>\n",
       "      <td>...</td>\n",
       "      <td>...</td>\n",
       "      <td>...</td>\n",
       "      <td>...</td>\n",
       "      <td>...</td>\n",
       "      <td>...</td>\n",
       "      <td>...</td>\n",
       "    </tr>\n",
       "    <tr>\n",
       "      <th>15152</th>\n",
       "      <td>Eos</td>\n",
       "      <td>2012</td>\n",
       "      <td>5990</td>\n",
       "      <td>Manual</td>\n",
       "      <td>74000</td>\n",
       "      <td>Diesel</td>\n",
       "      <td>125</td>\n",
       "      <td>58.9</td>\n",
       "      <td>2.0</td>\n",
       "    </tr>\n",
       "    <tr>\n",
       "      <th>15153</th>\n",
       "      <td>Fox</td>\n",
       "      <td>2008</td>\n",
       "      <td>1799</td>\n",
       "      <td>Manual</td>\n",
       "      <td>88102</td>\n",
       "      <td>Petrol</td>\n",
       "      <td>145</td>\n",
       "      <td>46.3</td>\n",
       "      <td>1.2</td>\n",
       "    </tr>\n",
       "    <tr>\n",
       "      <th>15154</th>\n",
       "      <td>Fox</td>\n",
       "      <td>2009</td>\n",
       "      <td>1590</td>\n",
       "      <td>Manual</td>\n",
       "      <td>70000</td>\n",
       "      <td>Petrol</td>\n",
       "      <td>200</td>\n",
       "      <td>42.0</td>\n",
       "      <td>1.4</td>\n",
       "    </tr>\n",
       "    <tr>\n",
       "      <th>15155</th>\n",
       "      <td>Fox</td>\n",
       "      <td>2006</td>\n",
       "      <td>1250</td>\n",
       "      <td>Manual</td>\n",
       "      <td>82704</td>\n",
       "      <td>Petrol</td>\n",
       "      <td>150</td>\n",
       "      <td>46.3</td>\n",
       "      <td>1.2</td>\n",
       "    </tr>\n",
       "    <tr>\n",
       "      <th>15156</th>\n",
       "      <td>Fox</td>\n",
       "      <td>2007</td>\n",
       "      <td>2295</td>\n",
       "      <td>Manual</td>\n",
       "      <td>74000</td>\n",
       "      <td>Petrol</td>\n",
       "      <td>145</td>\n",
       "      <td>46.3</td>\n",
       "      <td>1.2</td>\n",
       "    </tr>\n",
       "  </tbody>\n",
       "</table>\n",
       "<p>15157 rows × 9 columns</p>\n",
       "</div>"
      ],
      "text/plain": [
       "        model  year  price transmission  mileage fuelType  tax   mpg  \\\n",
       "0       T-Roc  2019  25000    Automatic    13904   Diesel  145  49.6   \n",
       "1       T-Roc  2019  26883    Automatic     4562   Diesel  145  49.6   \n",
       "2       T-Roc  2019  20000       Manual     7414   Diesel  145  50.4   \n",
       "3       T-Roc  2019  33492    Automatic     4825   Petrol  145  32.5   \n",
       "4       T-Roc  2019  22900    Semi-Auto     6500   Petrol  150  39.8   \n",
       "...       ...   ...    ...          ...      ...      ...  ...   ...   \n",
       "15152     Eos  2012   5990       Manual    74000   Diesel  125  58.9   \n",
       "15153     Fox  2008   1799       Manual    88102   Petrol  145  46.3   \n",
       "15154     Fox  2009   1590       Manual    70000   Petrol  200  42.0   \n",
       "15155     Fox  2006   1250       Manual    82704   Petrol  150  46.3   \n",
       "15156     Fox  2007   2295       Manual    74000   Petrol  145  46.3   \n",
       "\n",
       "       engineSize  \n",
       "0             2.0  \n",
       "1             2.0  \n",
       "2             2.0  \n",
       "3             2.0  \n",
       "4             1.5  \n",
       "...           ...  \n",
       "15152         2.0  \n",
       "15153         1.2  \n",
       "15154         1.4  \n",
       "15155         1.2  \n",
       "15156         1.2  \n",
       "\n",
       "[15157 rows x 9 columns]"
      ]
     },
     "execution_count": 28,
     "metadata": {},
     "output_type": "execute_result"
    }
   ],
   "source": [
    "data_vw = pd.read_csv(\"vw.csv\")\n",
    "data_vw"
   ]
  },
  {
   "cell_type": "code",
   "execution_count": 29,
   "id": "64d1e61e",
   "metadata": {},
   "outputs": [
    {
     "name": "stdout",
     "output_type": "stream",
     "text": [
      "(15157, 7)\n"
     ]
    },
    {
     "data": {
      "application/vnd.microsoft.datawrangler.viewer.v0+json": {
       "columns": [
        {
         "name": "index",
         "rawType": "int64",
         "type": "integer"
        },
        {
         "name": "Intercepto",
         "rawType": "int64",
         "type": "integer"
        },
        {
         "name": "year",
         "rawType": "int64",
         "type": "integer"
        },
        {
         "name": "mileage",
         "rawType": "int64",
         "type": "integer"
        },
        {
         "name": "tax",
         "rawType": "int64",
         "type": "integer"
        },
        {
         "name": "mpg",
         "rawType": "float64",
         "type": "float"
        },
        {
         "name": "engineSize",
         "rawType": "float64",
         "type": "float"
        },
        {
         "name": "price",
         "rawType": "int64",
         "type": "integer"
        }
       ],
       "ref": "9fa5b70c-f8a8-4871-aef7-69f39674c24e",
       "rows": [
        [
         "0",
         "1",
         "2019",
         "13904",
         "145",
         "49.6",
         "2.0",
         "25000"
        ],
        [
         "1",
         "1",
         "2019",
         "4562",
         "145",
         "49.6",
         "2.0",
         "26883"
        ],
        [
         "2",
         "1",
         "2019",
         "7414",
         "145",
         "50.4",
         "2.0",
         "20000"
        ],
        [
         "3",
         "1",
         "2019",
         "4825",
         "145",
         "32.5",
         "2.0",
         "33492"
        ],
        [
         "4",
         "1",
         "2019",
         "6500",
         "150",
         "39.8",
         "1.5",
         "22900"
        ]
       ],
       "shape": {
        "columns": 7,
        "rows": 5
       }
      },
      "text/html": [
       "<div>\n",
       "<style scoped>\n",
       "    .dataframe tbody tr th:only-of-type {\n",
       "        vertical-align: middle;\n",
       "    }\n",
       "\n",
       "    .dataframe tbody tr th {\n",
       "        vertical-align: top;\n",
       "    }\n",
       "\n",
       "    .dataframe thead th {\n",
       "        text-align: right;\n",
       "    }\n",
       "</style>\n",
       "<table border=\"1\" class=\"dataframe\">\n",
       "  <thead>\n",
       "    <tr style=\"text-align: right;\">\n",
       "      <th></th>\n",
       "      <th>Intercepto</th>\n",
       "      <th>year</th>\n",
       "      <th>mileage</th>\n",
       "      <th>tax</th>\n",
       "      <th>mpg</th>\n",
       "      <th>engineSize</th>\n",
       "      <th>price</th>\n",
       "    </tr>\n",
       "  </thead>\n",
       "  <tbody>\n",
       "    <tr>\n",
       "      <th>0</th>\n",
       "      <td>1</td>\n",
       "      <td>2019</td>\n",
       "      <td>13904</td>\n",
       "      <td>145</td>\n",
       "      <td>49.6</td>\n",
       "      <td>2.0</td>\n",
       "      <td>25000</td>\n",
       "    </tr>\n",
       "    <tr>\n",
       "      <th>1</th>\n",
       "      <td>1</td>\n",
       "      <td>2019</td>\n",
       "      <td>4562</td>\n",
       "      <td>145</td>\n",
       "      <td>49.6</td>\n",
       "      <td>2.0</td>\n",
       "      <td>26883</td>\n",
       "    </tr>\n",
       "    <tr>\n",
       "      <th>2</th>\n",
       "      <td>1</td>\n",
       "      <td>2019</td>\n",
       "      <td>7414</td>\n",
       "      <td>145</td>\n",
       "      <td>50.4</td>\n",
       "      <td>2.0</td>\n",
       "      <td>20000</td>\n",
       "    </tr>\n",
       "    <tr>\n",
       "      <th>3</th>\n",
       "      <td>1</td>\n",
       "      <td>2019</td>\n",
       "      <td>4825</td>\n",
       "      <td>145</td>\n",
       "      <td>32.5</td>\n",
       "      <td>2.0</td>\n",
       "      <td>33492</td>\n",
       "    </tr>\n",
       "    <tr>\n",
       "      <th>4</th>\n",
       "      <td>1</td>\n",
       "      <td>2019</td>\n",
       "      <td>6500</td>\n",
       "      <td>150</td>\n",
       "      <td>39.8</td>\n",
       "      <td>1.5</td>\n",
       "      <td>22900</td>\n",
       "    </tr>\n",
       "  </tbody>\n",
       "</table>\n",
       "</div>"
      ],
      "text/plain": [
       "   Intercepto  year  mileage  tax   mpg  engineSize  price\n",
       "0           1  2019    13904  145  49.6         2.0  25000\n",
       "1           1  2019     4562  145  49.6         2.0  26883\n",
       "2           1  2019     7414  145  50.4         2.0  20000\n",
       "3           1  2019     4825  145  32.5         2.0  33492\n",
       "4           1  2019     6500  150  39.8         1.5  22900"
      ]
     },
     "execution_count": 29,
     "metadata": {},
     "output_type": "execute_result"
    }
   ],
   "source": [
    "data_vw['Intercepto']= 1\n",
    "data_vw = data_vw[['Intercepto', 'year','mileage','tax','mpg','engineSize','price']]\n",
    "print(data_vw.shape)\n",
    "data_vw.head()"
   ]
  },
  {
   "cell_type": "code",
   "execution_count": 30,
   "id": "ca460560",
   "metadata": {},
   "outputs": [],
   "source": [
    "# preparar os dados\n",
    "Xdata = data_vw[['Intercepto', 'year','mileage','tax','mpg','engineSize']].values\n",
    "Ydata = data_vw['price'].values"
   ]
  },
  {
   "cell_type": "code",
   "execution_count": 31,
   "id": "1a328026",
   "metadata": {},
   "outputs": [],
   "source": [
    "# Dividir los datos en entrenamiento y prueba\n",
    "from sklearn.model_selection import train_test_split\n",
    "X_train, X_test, Y_train, Y_test = train_test_split(Xdata, Ydata, test_size=0.3, random_state=1)"
   ]
  },
  {
   "cell_type": "code",
   "execution_count": 32,
   "id": "df0cae35",
   "metadata": {},
   "outputs": [],
   "source": [
    "X = X_train\n",
    "Y = Y_train"
   ]
  },
  {
   "cell_type": "code",
   "execution_count": 33,
   "id": "61efa46f",
   "metadata": {},
   "outputs": [
    {
     "data": {
      "text/plain": [
       "10609"
      ]
     },
     "execution_count": 33,
     "metadata": {},
     "output_type": "execute_result"
    }
   ],
   "source": [
    "# Numero de renglones en matriz X (base de datos de entrenamiento)\n",
    "X.shape[0]"
   ]
  },
  {
   "cell_type": "code",
   "execution_count": 34,
   "id": "a862cb0e",
   "metadata": {},
   "outputs": [
    {
     "data": {
      "text/plain": [
       "6"
      ]
     },
     "execution_count": 34,
     "metadata": {},
     "output_type": "execute_result"
    }
   ],
   "source": [
    "# Numero de columnas en matriz X (base de datos de entrenamiento)\n",
    "X.shape[1]"
   ]
  },
  {
   "cell_type": "code",
   "execution_count": 35,
   "id": "8d43246b",
   "metadata": {},
   "outputs": [],
   "source": [
    "# opcion de formato numerico\n",
    "np.set_printoptions(formatter={'float_kind':'{:,f}'.format})"
   ]
  },
  {
   "cell_type": "code",
   "execution_count": 36,
   "id": "c4471197",
   "metadata": {},
   "outputs": [
    {
     "data": {
      "text/plain": [
       "array([[10,609.000000, 21,401,194.000000, 233,072,420.000000,\n",
       "        1,193,210.000000, 570,957.800000, 16,961.200000],\n",
       "       [21,401,194.000000, 43,171,982,552.000000, 469,825,148,996.000000,\n",
       "        2,407,544,625.000000, 1,151,684,648.600000, 34,215,355.100000],\n",
       "       [233,072,420.000000, 469,825,148,996.000000,\n",
       "        9,876,827,808,602.000000, 21,390,578,815.000000,\n",
       "        13,579,651,181.999996, 383,760,914.600000],\n",
       "       [1,193,210.000000, 2,407,544,625.000000, 21,390,578,815.000000,\n",
       "        176,634,550.000000, 59,476,762.000000, 1,996,151.500000],\n",
       "       [570,957.800000, 1,151,684,648.600000, 13,579,651,181.999996,\n",
       "        59,476,762.000000, 32,738,157.620000, 894,313.710000],\n",
       "       [16,961.200000, 34,215,355.100000, 383,760,914.600000,\n",
       "        1,996,151.500000, 894,313.710000, 29,370.320000]])"
      ]
     },
     "execution_count": 36,
     "metadata": {},
     "output_type": "execute_result"
    }
   ],
   "source": [
    "# Calcular la transpuesta de X\n",
    "XT_X = np.matmul(np.matrix.transpose(X), X)\n",
    "XT_X"
   ]
  },
  {
   "cell_type": "code",
   "execution_count": 37,
   "id": "eff9b956",
   "metadata": {},
   "outputs": [
    {
     "data": {
      "text/plain": [
       "array([[234.232849, -0.116082, -0.000008, 0.000486, 0.000301, 0.026142],\n",
       "       [-0.116082, 0.000058, 0.000000, -0.000000, -0.000000, -0.000013],\n",
       "       [-0.000008, 0.000000, 0.000000, 0.000000, -0.000000, -0.000000],\n",
       "       [0.000486, -0.000000, 0.000000, 0.000000, 0.000000, -0.000001],\n",
       "       [0.000301, -0.000000, -0.000000, 0.000000, 0.000001, 0.000004],\n",
       "       [0.026142, -0.000013, -0.000000, -0.000001, 0.000004, 0.000536]])"
      ]
     },
     "execution_count": 37,
     "metadata": {},
     "output_type": "execute_result"
    }
   ],
   "source": [
    "# Calcular la inversa de XT_X\n",
    "XT_X_inv = np.linalg.inv(XT_X)\n",
    "XT_X_inv"
   ]
  },
  {
   "cell_type": "code",
   "execution_count": 38,
   "id": "395a83ca",
   "metadata": {},
   "outputs": [
    {
     "data": {
      "text/plain": [
       "array([178,787,650.000000, 360,765,026,860.000000,\n",
       "       3,030,266,210,110.000000, 22,654,766,005.000000,\n",
       "       9,057,032,319.599981, 307,851,287.700000])"
      ]
     },
     "execution_count": 38,
     "metadata": {},
     "output_type": "execute_result"
    }
   ],
   "source": [
    "# Calcular la transpuesta de Y\n",
    "XT_Y = np.matmul(np.matrix.transpose(X), Y)\n",
    "XT_Y"
   ]
  },
  {
   "cell_type": "code",
   "execution_count": 39,
   "id": "2934fd11",
   "metadata": {},
   "outputs": [
    {
     "data": {
      "text/plain": [
       "array([-3,014,834.951091, 1,498.128055, -0.081003, 4.531650, -75.638175,\n",
       "       9,321.335395])"
      ]
     },
     "execution_count": 39,
     "metadata": {},
     "output_type": "execute_result"
    }
   ],
   "source": [
    "betas = np.matmul(XT_X_inv, XT_Y)\n",
    "betas"
   ]
  },
  {
   "cell_type": "code",
   "execution_count": 40,
   "id": "09dc927a",
   "metadata": {},
   "outputs": [
    {
     "data": {
      "text/plain": [
       "np.float64(643899084866.5171)"
      ]
     },
     "execution_count": 40,
     "metadata": {},
     "output_type": "execute_result"
    }
   ],
   "source": [
    "# calculo de la suma total de cuadrados (TSS Total Sum of Squares)\n",
    "TSS =np.matmul(np.matrix.transpose(Y), Y) -len(Y) * (Y.mean() ** 2)\n",
    "TSS"
   ]
  },
  {
   "cell_type": "code",
   "execution_count": 41,
   "id": "363e9d75",
   "metadata": {},
   "outputs": [
    {
     "data": {
      "text/plain": [
       "np.float64(485672814928.66455)"
      ]
     },
     "execution_count": 41,
     "metadata": {},
     "output_type": "execute_result"
    }
   ],
   "source": [
    "# calculo del ESS (Suma de Cuadrados Explicada)\n",
    "\n",
    "ESS = np.matmul(np.matmul(np.matrix.transpose(betas), np.matrix.transpose(X)), np.matmul(X, betas)) - len(Y) * (Y.mean() ** 2)\n",
    "ESS"
   ]
  },
  {
   "cell_type": "code",
   "execution_count": 42,
   "id": "ae4cf000",
   "metadata": {},
   "outputs": [
    {
     "data": {
      "text/plain": [
       "np.float64(158226269937.85254)"
      ]
     },
     "execution_count": 42,
     "metadata": {},
     "output_type": "execute_result"
    }
   ],
   "source": [
    "# calculo de RSS (Suma de Cuadrados Residuales)\n",
    "\n",
    "RSS = TSS - ESS\n",
    "RSS"
   ]
  },
  {
   "cell_type": "code",
   "execution_count": 44,
   "id": "b7dad534",
   "metadata": {},
   "outputs": [
    {
     "data": {
      "text/plain": [
       "np.float64(0.7542685280090847)"
      ]
     },
     "execution_count": 44,
     "metadata": {},
     "output_type": "execute_result"
    }
   ],
   "source": [
    "# calculo del coeficiente de determinacion R^2\n",
    "R2 = 1-(RSS / TSS)\n",
    "R2"
   ]
  },
  {
   "cell_type": "code",
   "execution_count": 45,
   "id": "1654ab90",
   "metadata": {},
   "outputs": [
    {
     "data": {
      "text/plain": [
       "np.float64(0.7541526497331293)"
      ]
     },
     "execution_count": 45,
     "metadata": {},
     "output_type": "execute_result"
    }
   ],
   "source": [
    "# calculo del R^2 ajustado\n",
    "R2_Aj = 1 - (RSS / (X.shape[0] - X.shape[1])) / (TSS / (X.shape[0] - 1))\n",
    "R2_Aj"
   ]
  },
  {
   "cell_type": "code",
   "execution_count": 46,
   "id": "866b0438",
   "metadata": {},
   "outputs": [
    {
     "name": "stdout",
     "output_type": "stream",
     "text": [
      "                            OLS Regression Results                            \n",
      "==============================================================================\n",
      "Dep. Variable:                      y   R-squared:                       0.754\n",
      "Model:                            OLS   Adj. R-squared:                  0.754\n",
      "Method:                 Least Squares   F-statistic:                     6509.\n",
      "Date:              jue., 19 jun. 2025   Prob (F-statistic):               0.00\n",
      "Time:                        19:02:33   Log-Likelihood:            -1.0267e+05\n",
      "No. Observations:               10609   AIC:                         2.054e+05\n",
      "Df Residuals:                   10603   BIC:                         2.054e+05\n",
      "Df Model:                           5                                         \n",
      "Covariance Type:            nonrobust                                         \n",
      "==============================================================================\n",
      "                 coef    std err          t      P>|t|      [0.025      0.975]\n",
      "------------------------------------------------------------------------------\n",
      "const      -3.015e+06   5.91e+04    -50.993      0.000   -3.13e+06    -2.9e+06\n",
      "x1          1498.1281     29.300     51.130      0.000    1440.694    1555.562\n",
      "x2            -0.0810      0.003    -28.465      0.000      -0.087      -0.075\n",
      "x3             4.5317      0.737      6.151      0.000       3.088       5.976\n",
      "x4           -75.6382      3.315    -22.817      0.000     -82.136     -69.140\n",
      "x5          9321.3354     89.471    104.183      0.000    9145.956    9496.715\n",
      "==============================================================================\n",
      "Omnibus:                     5223.697   Durbin-Watson:                   1.985\n",
      "Prob(Omnibus):                  0.000   Jarque-Bera (JB):            58424.183\n",
      "Skew:                           2.094   Prob(JB):                         0.00\n",
      "Kurtosis:                      13.706   Cond. No.                     4.82e+07\n",
      "==============================================================================\n",
      "\n",
      "Notes:\n",
      "[1] Standard Errors assume that the covariance matrix of the errors is correctly specified.\n",
      "[2] The condition number is large, 4.82e+07. This might indicate that there are\n",
      "strong multicollinearity or other numerical problems.\n"
     ]
    }
   ],
   "source": [
    "# Reporte automatizado de la regresion en python\n",
    "import statsmodels.api as sm\n",
    "regressor = sm.OLS(Y, X).fit()\n",
    "print(regressor.summary())"
   ]
  },
  {
   "cell_type": "code",
   "execution_count": 47,
   "id": "23f5739d",
   "metadata": {},
   "outputs": [
    {
     "data": {
      "text/plain": [
       "array([15,818.921422, 20,337.998962, 14,114.679339, ..., 13,048.907617,\n",
       "       16,477.740028, 25,371.972593])"
      ]
     },
     "execution_count": 47,
     "metadata": {},
     "output_type": "execute_result"
    }
   ],
   "source": [
    "# Aplicar el modelo a los datos de prueba\n",
    "Y_pred = np.matmul(X_test, betas)\n",
    "Y_pred"
   ]
  },
  {
   "cell_type": "code",
   "execution_count": 48,
   "id": "406edf29",
   "metadata": {},
   "outputs": [
    {
     "data": {
      "text/plain": [
       "array([181.078578, -2,839.998962, 16,884.320661, ..., -3,558.907617,\n",
       "       17.259972, 2,617.027407])"
      ]
     },
     "execution_count": 48,
     "metadata": {},
     "output_type": "execute_result"
    }
   ],
   "source": [
    "# calculo de residuales\n",
    "residuals = Y_test - Y_pred\n",
    "residuals"
   ]
  },
  {
   "cell_type": "code",
   "execution_count": 50,
   "id": "902ee984",
   "metadata": {},
   "outputs": [
    {
     "data": {
      "text/plain": [
       "array([[<Axes: title={'center': 'residuals'}>]], dtype=object)"
      ]
     },
     "execution_count": 50,
     "metadata": {},
     "output_type": "execute_result"
    },
    {
     "data": {
      "image/png": "[encoded data removed]",
      "text/plain": [
       "<Figure size 640x480 with 1 Axes>"
      ]
     },
     "metadata": {},
     "output_type": "display_data"
    }
   ],
   "source": [
    "# Graficar histograma de residuales para base de datos de prueba\n",
    "\n",
    "df = pd.DataFrame(residuals, columns=['residuals'])\n",
    "df.hist()"
   ]
  },
  {
   "cell_type": "code",
   "execution_count": null,
   "id": "bc3cca27",
   "metadata": {},
   "outputs": [
    {
     "name": "stdout",
     "output_type": "stream",
     "text": [
      "Coeficiente R cuadrado: 0.7600191786722389\n"
     ]
    }
   ],
   "source": [
    "from sklearn.metrics import r2_score\n",
    "from sklearn import metrics\n",
    "\n",
    "print('Coeficiente R cuadrado:', r2_score(Y_test, Y_pred))"
   ]
  },
  {
   "cell_type": "code",
   "execution_count": null,
   "id": "c605f9a5",
   "metadata": {},
   "outputs": [],
   "source": []
  }
 ],
 "metadata": {
  "kernelspec": {
   "display_name": "Benmaza",
   "language": "python",
   "name": "python3"
  },
  "language_info": {
   "codemirror_mode": {
    "name": "ipython",
    "version": 3
   },
   "file_extension": ".py",
   "mimetype": "text/x-python",
   "name": "python",
   "nbconvert_exporter": "python",
   "pygments_lexer": "ipython3",
   "version": "3.13.5"
  }
 },
 "nbformat": 4,
 "nbformat_minor": 5
}
