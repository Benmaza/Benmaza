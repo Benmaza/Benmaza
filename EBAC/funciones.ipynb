{
 "cells": [
  {
   "cell_type": "code",
   "execution_count": 1,
   "metadata": {},
   "outputs": [
    {
     "name": "stdout",
     "output_type": "stream",
     "text": [
      "Hola, soy una función\n"
     ]
    }
   ],
   "source": [
    "def saludo():\n",
    "    print(\"Hola!!\")\n",
    "\n",
    "saludo()"
   ]
  },
  {
   "cell_type": "code",
   "execution_count": 2,
   "metadata": {},
   "outputs": [
    {
     "name": "stdout",
     "output_type": "stream",
     "text": [
      "Hola!! Juan\n"
     ]
    }
   ],
   "source": [
    "def saludo(nombre):\n",
    "    print(\"Hola!!\", nombre)\n",
    "    \n",
    "saludo(\"Juan\")"
   ]
  },
  {
   "cell_type": "code",
   "execution_count": 3,
   "metadata": {},
   "outputs": [
    {
     "name": "stdout",
     "output_type": "stream",
     "text": [
      "12.5664\n"
     ]
    }
   ],
   "source": [
    "# Area de un circulo\n",
    "def area_circulo(radio):\n",
    "    area = 3.1416 * radio**2\n",
    "    return area\n",
    "\n",
    "mi_area = area_circulo(2)\n",
    "print(mi_area)"
   ]
  },
  {
   "cell_type": "code",
   "execution_count": 4,
   "metadata": {},
   "outputs": [
    {
     "name": "stdout",
     "output_type": "stream",
     "text": [
      "8\n"
     ]
    }
   ],
   "source": [
    "def producto(x1, x2):\n",
    "    return x1 * x2\n",
    "\n",
    "print(producto(2, 4))"
   ]
  },
  {
   "cell_type": "code",
   "execution_count": 7,
   "metadata": {},
   "outputs": [
    {
     "name": "stdout",
     "output_type": "stream",
     "text": [
      "4\n"
     ]
    }
   ],
   "source": [
    "def suma(a, b = 3):\n",
    "    return a + b\n",
    "\n",
    "resultado = suma(1)\n",
    "print(resultado)"
   ]
  },
  {
   "cell_type": "code",
   "execution_count": 8,
   "metadata": {},
   "outputs": [
    {
     "name": "stdout",
     "output_type": "stream",
     "text": [
      "6\n"
     ]
    }
   ],
   "source": [
    "def duplica(numero):\n",
    "    x = numero * 2\n",
    "    return x\n",
    "print(duplica(3))\n"
   ]
  },
  {
   "cell_type": "code",
   "execution_count": 9,
   "metadata": {},
   "outputs": [
    {
     "name": "stdout",
     "output_type": "stream",
     "text": [
      "manzana\n",
      "fresa\n",
      "pera\n",
      "mango\n"
     ]
    }
   ],
   "source": [
    "def lista_comida(comida):\n",
    "    for x in comida:\n",
    "        print(x)\n",
    "    \n",
    "frutas = ['manzana','fresa','pera','mango']\n",
    "lista_comida(frutas)"
   ]
  },
  {
   "cell_type": "code",
   "execution_count": 11,
   "metadata": {},
   "outputs": [
    {
     "name": "stdout",
     "output_type": "stream",
     "text": [
      "[5, 10, 15, 20, 25, 30, 35, 40, 45, 50]\n"
     ]
    }
   ],
   "source": [
    "def tabla_del(numero):\n",
    "    resultados = []\n",
    "    for i in range(1, 11):\n",
    "        resultados.append(numero * i)\n",
    "    return resultados\n",
    "\n",
    "print(tabla_del(5))"
   ]
  },
  {
   "cell_type": "code",
   "execution_count": 15,
   "metadata": {},
   "outputs": [
    {
     "name": "stdout",
     "output_type": "stream",
     "text": [
      "la palabra es palindromo:  False\n"
     ]
    }
   ],
   "source": [
    "def palindromo(palabra):\n",
    "    izq = 0\n",
    "    der = len(palabra) - 1\n",
    "    while der >= izq:\n",
    "        if palabra[izq] != palabra[der]:\n",
    "            return False\n",
    "        izq += 1\n",
    "        der -= 1\n",
    "    return True\n",
    "\n",
    "palabra = input(\"Ingresa una palabra: \")\n",
    "print(\"la palabra es palindromo: \", palindromo(palabra))"
   ]
  },
  {
   "cell_type": "code",
   "execution_count": 16,
   "metadata": {},
   "outputs": [
    {
     "name": "stdout",
     "output_type": "stream",
     "text": [
      "4\n"
     ]
    }
   ],
   "source": [
    "def cuadrado(x):\n",
    "    return x **2\n",
    "print(cuadrado(2))"
   ]
  },
  {
   "cell_type": "code",
   "execution_count": 18,
   "metadata": {},
   "outputs": [
    {
     "name": "stdout",
     "output_type": "stream",
     "text": [
      "4\n"
     ]
    }
   ],
   "source": [
    "cuadrado = lambda x: x**2\n",
    "print(cuadrado(2))"
   ]
  },
  {
   "cell_type": "code",
   "execution_count": 19,
   "metadata": {},
   "outputs": [
    {
     "name": "stdout",
     "output_type": "stream",
     "text": [
      "5\n"
     ]
    }
   ],
   "source": [
    "suma = lambda x, y: x + y\n",
    "print(suma(2, 3))"
   ]
  },
  {
   "cell_type": "code",
   "execution_count": 20,
   "metadata": {},
   "outputs": [
    {
     "data": {
      "text/plain": [
       "5"
      ]
     },
     "execution_count": 20,
     "metadata": {},
     "output_type": "execute_result"
    }
   ],
   "source": [
    "# Ejemplo de lambda\n",
    "# ecuacion anonima\n",
    "(lambda x,y : x + y)(2,3)"
   ]
  },
  {
   "cell_type": "code",
   "execution_count": 21,
   "metadata": {},
   "outputs": [
    {
     "name": "stdout",
     "output_type": "stream",
     "text": [
      "False\n",
      "True\n"
     ]
    }
   ],
   "source": [
    "inicia_con_a = lambda x: True if x[0] == 'a' else False\n",
    "print(inicia_con_a('hola'))\n",
    "print(inicia_con_a('adios'))"
   ]
  },
  {
   "cell_type": "code",
   "execution_count": 22,
   "metadata": {},
   "outputs": [
    {
     "name": "stdout",
     "output_type": "stream",
     "text": [
      "True\n",
      "True\n"
     ]
    }
   ],
   "source": [
    "inicia_con = lambda texto, x: True if x.startswith(texto) else False\n",
    "print(inicia_con('h', 'hola'))\n",
    "print(inicia_con('p', 'python'))"
   ]
  }
 ],
 "metadata": {
  "kernelspec": {
   "display_name": "Python 3",
   "language": "python",
   "name": "python3"
  },
  "language_info": {
   "codemirror_mode": {
    "name": "ipython",
    "version": 3
   },
   "file_extension": ".py",
   "mimetype": "text/x-python",
   "name": "python",
   "nbconvert_exporter": "python",
   "pygments_lexer": "ipython3",
   "version": "3.12.0"
  }
 },
 "nbformat": 4,
 "nbformat_minor": 2
}
