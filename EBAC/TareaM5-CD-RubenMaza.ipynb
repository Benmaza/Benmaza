{
 "cells": [
  {
   "cell_type": "markdown",
   "metadata": {},
   "source": [
    "### Desarrolle un programa en Python que a través de una función denominada “Invierte_cadena” sea capaz de invertir una cadena de caracteres.\n",
    "\n",
    "### Por ejemplo, si ejecutamos: Invierte_cadena(“123abc”)\n",
    "\n",
    "debemos obtener: “cba321”"
   ]
  },
  {
   "cell_type": "code",
   "execution_count": 23,
   "metadata": {},
   "outputs": [
    {
     "name": "stdout",
     "output_type": "stream",
     "text": [
      "La cadena introducida es:  \n",
      "La cadena invertida es:  \n"
     ]
    }
   ],
   "source": [
    "# Definir una funcion llamada invierte_cadena\n",
    "# que reciba una cadena como parametro y devuelva otra cadena con los caracteres en orden inverso.\n",
    "# va a leer desde el final al principio\n",
    "\n",
    "def invierte_cadena(cadena):\n",
    "    return cadena[::-1]\n",
    "\n",
    "# Asignar a una variable la cadena que se va a introducir\n",
    "# Imprimir la cadena que se introdujo y se llama la funcion invierte_cadena\n",
    "\n",
    "cadena = input(\"Introduce una cadena: \")\n",
    "print (\"La cadena introducida es: \", cadena)\n",
    "print (\"La cadena invertida es: \", invierte_cadena(cadena))\n"
   ]
  },
  {
   "cell_type": "markdown",
   "metadata": {},
   "source": [
    "### Escribe una función en Python llamada “prueba_primo” que tome un número como parámetro y compruebe si el número es primo o no.\n",
    "\n",
    "### Nota: Un número primo es un número natural mayor que 1 y que no tiene divisores positivos más que 1 y él mismo.\n",
    "\n",
    "### Por ejemplo, si ejecutamos: prueba_primo(7)\n",
    "\n",
    "debemos obtener: True"
   ]
  },
  {
   "cell_type": "code",
   "execution_count": 21,
   "metadata": {},
   "outputs": [
    {
     "name": "stdout",
     "output_type": "stream",
     "text": [
      "El número introducido es:  99\n",
      "False\n"
     ]
    }
   ],
   "source": [
    "# Solicita un numero para comprobar si es primo o no\n",
    "# se usa contador para saber si el numero es primo o no\n",
    "# si el contador es igual a 2, el numero es primo\n",
    "# si el contador es diferente a 2, el numero no es primo\n",
    "\n",
    "def es_primo(numero):\n",
    "    contador = 0\n",
    "    for i in range(1, numero+1):\n",
    "        if (numero % i) == 0:\n",
    "            contador += 1\n",
    "    if contador == 2:\n",
    "        return True\n",
    "    else:\n",
    "        return False\n",
    "\n",
    "# Solicitar un numero\n",
    "# Imprimir si el numero es primo o no\n",
    "\n",
    "numero = int(input(\"Introduce un número: \"))\n",
    "print (\"El número introducido es: \", numero)\n",
    "print (es_primo(numero))"
   ]
  }
 ],
 "metadata": {
  "kernelspec": {
   "display_name": "Python 3",
   "language": "python",
   "name": "python3"
  },
  "language_info": {
   "codemirror_mode": {
    "name": "ipython",
    "version": 3
   },
   "file_extension": ".py",
   "mimetype": "text/x-python",
   "name": "python",
   "nbconvert_exporter": "python",
   "pygments_lexer": "ipython3",
   "version": "3.12.0"
  }
 },
 "nbformat": 4,
 "nbformat_minor": 2
}
