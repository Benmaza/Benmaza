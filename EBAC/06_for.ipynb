{
 "cells": [
  {
   "cell_type": "code",
   "execution_count": 1,
   "metadata": {},
   "outputs": [
    {
     "name": "stdout",
     "output_type": "stream",
     "text": [
      "la suma total es : 48\n"
     ]
    }
   ],
   "source": [
    "# suma de los elementos de una lista\n",
    "\n",
    "numeros = (6,5,3,8,4,2,5,4,11)\n",
    "suma=0\n",
    "for i in numeros:\n",
    "    suma = suma + i\n",
    "print(\"la suma total es :\",suma)\n"
   ]
  },
  {
   "cell_type": "code",
   "execution_count": 2,
   "metadata": {},
   "outputs": [
    {
     "name": "stdout",
     "output_type": "stream",
     "text": [
      "la suma total es 48\n"
     ]
    }
   ],
   "source": [
    "# mismo codigo solo con f-string\n",
    "\n",
    "numeros = (6,5,3,8,4,2,5,4,11)\n",
    "suma=0\n",
    "for i in numeros:\n",
    "    suma = suma + i\n",
    "print(f\"la suma total es {suma}\")"
   ]
  },
  {
   "cell_type": "code",
   "execution_count": 1,
   "metadata": {},
   "outputs": [
    {
     "name": "stdout",
     "output_type": "stream",
     "text": [
      "la fruta es manzana\n",
      "la fruta es pera\n",
      "la fruta es mango\n"
     ]
    }
   ],
   "source": [
    "frutas = ['manzana', 'pera', 'mango']\n",
    "for i in frutas:\n",
    "    print(f\"la fruta es {i}\")"
   ]
  },
  {
   "cell_type": "code",
   "execution_count": 3,
   "metadata": {},
   "outputs": [
    {
     "name": "stdout",
     "output_type": "stream",
     "text": [
      "manzana\n",
      "pera\n",
      "mango\n"
     ]
    }
   ],
   "source": [
    "# Dentro de una lista busca una palabra y si la encuentra se detiene\n",
    "\n",
    "frutas = ['manzana', 'pera', 'mango','fresa','kiwi']\n",
    "for fruta in frutas:\n",
    "    print(fruta)\n",
    "    if fruta == 'mango':\n",
    "        break"
   ]
  },
  {
   "cell_type": "code",
   "execution_count": 3,
   "metadata": {},
   "outputs": [
    {
     "name": "stdout",
     "output_type": "stream",
     "text": [
      "5\n",
      "7\n",
      "11\n",
      "13\n",
      "la suma total es 36\n"
     ]
    }
   ],
   "source": [
    "total = 0 \n",
    "for i in 5,7,11,13:\n",
    "    print(i)\n",
    "    total = total + i\n",
    "print(f\"la suma total es {total}\")"
   ]
  },
  {
   "cell_type": "code",
   "execution_count": 4,
   "metadata": {},
   "outputs": [
    {
     "name": "stdout",
     "output_type": "stream",
     "text": [
      "0\n",
      "1\n",
      "2\n",
      "3\n",
      "4\n",
      "5\n",
      "6\n",
      "7\n",
      "8\n",
      "9\n"
     ]
    }
   ],
   "source": [
    "# imprimir los numeros hasta el range\n",
    "for x in range(10):\n",
    "    print(x)"
   ]
  },
  {
   "cell_type": "code",
   "execution_count": 5,
   "metadata": {},
   "outputs": [
    {
     "name": "stdout",
     "output_type": "stream",
     "text": [
      "3\n",
      "4\n",
      "5\n",
      "6\n",
      "7\n",
      "8\n",
      "9\n"
     ]
    }
   ],
   "source": [
    "# imprimir los numeros desde el limite inferior hasta el limite superior\n",
    "for x in range(3,10):\n",
    "    print(x)"
   ]
  },
  {
   "cell_type": "code",
   "execution_count": 6,
   "metadata": {},
   "outputs": [
    {
     "name": "stdout",
     "output_type": "stream",
     "text": [
      "2\n",
      "5\n",
      "8\n"
     ]
    }
   ],
   "source": [
    "# imprimir los numeros desde el limite inferior hasta el limite superior con un salto\n",
    "for x in range(2,10,3):\n",
    "    print(x)"
   ]
  },
  {
   "cell_type": "code",
   "execution_count": 7,
   "metadata": {},
   "outputs": [
    {
     "name": "stdout",
     "output_type": "stream",
     "text": [
      "0\n",
      "1\n",
      "2\n",
      "3\n",
      "4\n",
      "5\n",
      "final del ciclo\n"
     ]
    }
   ],
   "source": [
    "for x in range(6):\n",
    "    print(x)\n",
    "else:\n",
    "    print(\"final del ciclo\")"
   ]
  },
  {
   "cell_type": "code",
   "execution_count": 1,
   "metadata": {},
   "outputs": [
    {
     "name": "stdout",
     "output_type": "stream",
     "text": [
      "el numero mas grande es:   74\n"
     ]
    }
   ],
   "source": [
    "# Dentro de una lista buscar el numero mas grande\n",
    "mas_grande = -1\n",
    "for i in [9,41,12,3,74,15]:\n",
    "    if i > mas_grande:\n",
    "        mas_grande = i\n",
    "print(\"el numero mas grande es:  \", mas_grande)"
   ]
  },
  {
   "cell_type": "code",
   "execution_count": 6,
   "metadata": {},
   "outputs": [
    {
     "name": "stdout",
     "output_type": "stream",
     "text": [
      "0\n",
      "1\n",
      "2\n",
      "3\n",
      "4\n",
      "final del ciclo\n"
     ]
    }
   ],
   "source": [
    "for x in range(5):\n",
    "    if x == 6:\n",
    "        break\n",
    "    print(x)\n",
    "else:\n",
    "    print(\"final del ciclo\")"
   ]
  },
  {
   "cell_type": "code",
   "execution_count": 10,
   "metadata": {},
   "outputs": [
    {
     "name": "stdout",
     "output_type": "stream",
     "text": [
      "Usted está buscando a : Maria\n",
      "Calificación 92\n"
     ]
    }
   ],
   "source": [
    "Nombre = input(\"ingrese su nombre: \")\n",
    "datos = {'José': 85, 'Maria': 92, 'Juan': 75, 'Ana': 98}\n",
    "print('Usted está buscando a :',Nombre)\n",
    "for estudiante in datos:\n",
    "    if estudiante == Nombre:\n",
    "        print('Y su Calificación es: ', datos[estudiante])\n",
    "        break\n",
    "else:\n",
    "    print('No se encontró el nombre')\n",
    "    "
   ]
  },
  {
   "cell_type": "code",
   "execution_count": 11,
   "metadata": {},
   "outputs": [
    {
     "name": "stdout",
     "output_type": "stream",
     "text": [
      "manzana roja\n",
      "manzana dulce\n",
      "manzana madura\n",
      "manzana deliciosa\n",
      "manzana verde\n",
      "pera roja\n",
      "pera dulce\n",
      "pera madura\n",
      "pera deliciosa\n",
      "pera verde\n",
      "mango roja\n",
      "mango dulce\n",
      "mango madura\n",
      "mango deliciosa\n",
      "mango verde\n",
      "fresa roja\n",
      "fresa dulce\n",
      "fresa madura\n",
      "fresa deliciosa\n",
      "fresa verde\n",
      "kiwi roja\n",
      "kiwi dulce\n",
      "kiwi madura\n",
      "kiwi deliciosa\n",
      "kiwi verde\n"
     ]
    }
   ],
   "source": [
    "# Combina todos los elementos de dos listas\n",
    "frutas = ['manzana', 'pera', 'mango','fresa','kiwi']\n",
    "adjetivos = ['roja', 'dulce', 'madura', 'deliciosa', 'verde']\n",
    "\n",
    "for fruta in frutas:\n",
    "    for tipo in adjetivos:\n",
    "        print(fruta, tipo)"
   ]
  },
  {
   "cell_type": "code",
   "execution_count": 12,
   "metadata": {},
   "outputs": [
    {
     "name": "stdout",
     "output_type": "stream",
     "text": [
      "50\n",
      "40\n",
      "30\n",
      "20\n",
      "10\n"
     ]
    }
   ],
   "source": [
    "lista = [10,20,30,40,50]\n",
    "for numero in reversed (lista):\n",
    "    print(numero)\n"
   ]
  },
  {
   "cell_type": "code",
   "execution_count": 14,
   "metadata": {},
   "outputs": [
    {
     "name": "stdout",
     "output_type": "stream",
     "text": [
      "Tabla de multiplicar del:  1\n",
      "1  2  3  4  5  6  7  8  9  10  \n",
      "\n",
      "Tabla de multiplicar del:  2\n",
      "2  4  6  8  10  12  14  16  18  20  \n",
      "\n",
      "Tabla de multiplicar del:  3\n",
      "3  6  9  12  15  18  21  24  27  30  \n",
      "\n",
      "Tabla de multiplicar del:  4\n",
      "4  8  12  16  20  24  28  32  36  40  \n",
      "\n",
      "Tabla de multiplicar del:  5\n",
      "5  10  15  20  25  30  35  40  45  50  \n",
      "\n"
     ]
    }
   ],
   "source": [
    "tablas = int(input(\"ingrese el numero de la tabla que desea: \"))\n",
    "\n",
    "for i in range(1, tablas+1):\n",
    "    print('Tabla de multiplicar del: ',i)\n",
    "    contador = 1\n",
    "    while contador < 11:\n",
    "        print(i*contador, end = '  ')\n",
    "        contador +=1\n",
    "    print('\\n')\n",
    "    "
   ]
  }
 ],
 "metadata": {
  "kernelspec": {
   "display_name": "Python 3",
   "language": "python",
   "name": "python3"
  },
  "language_info": {
   "codemirror_mode": {
    "name": "ipython",
    "version": 3
   },
   "file_extension": ".py",
   "mimetype": "text/x-python",
   "name": "python",
   "nbconvert_exporter": "python",
   "pygments_lexer": "ipython3",
   "version": "3.12.0"
  }
 },
 "nbformat": 4,
 "nbformat_minor": 2
}
