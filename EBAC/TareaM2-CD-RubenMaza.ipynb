{
 "cells": [
  {
   "cell_type": "markdown",
   "metadata": {},
   "source": [
    "# Tarea 2.10 Actividad Practica"
   ]
  },
  {
   "cell_type": "markdown",
   "metadata": {},
   "source": [
    "#Contabilizador de palabras"
   ]
  },
  {
   "cell_type": "code",
   "execution_count": 1,
   "metadata": {},
   "outputs": [
    {
     "name": "stdout",
     "output_type": "stream",
     "text": [
      "\n",
      "las palabras separadas que ingreso  ['Si', 'nos', 'gusta', 'lo', 'que', 'hacemos,', 'si', 'siempre', 'hacemos', 'nuestro', 'mejor', 'esfuerzo,', 'entonces,', 'realmente,', 'estamos', 'disfrutando', 'de', 'la', 'vida.', 'Nos', 'divertimos,', 'no', 'nos', 'aburrimos,', 'no', 'tenemos', 'frustraciones.']\n",
      "\n",
      "Con un total de: 27 palabras\n"
     ]
    }
   ],
   "source": [
    "# Ingresa el texto que se quiere separar en palabras y contar cuantas veces se repite cada una\n",
    "# Se usa el metodo split para separar el texto en palabras\n",
    "\n",
    "texto = input(\"ingrese el texto que quiere separar en palabras: \")\n",
    "palabras = texto.split()\n",
    "print(\"\\nlas palabras separadas que ingreso \", palabras)\n",
    "# len cuenta cuantas palabras hay en la lista\n",
    "print(\"\\nCon un total de:\", len(palabras), \"palabras\") "
   ]
  },
  {
   "cell_type": "code",
   "execution_count": 2,
   "metadata": {},
   "outputs": [
    {
     "name": "stdout",
     "output_type": "stream",
     "text": [
      "\n",
      "De las cuales se repiten en tales ocasiones: \n",
      "La palabra ' Si ' se repite ' 1 ' veces\n",
      "La palabra ' nos ' se repite ' 2 ' veces\n",
      "La palabra ' gusta ' se repite ' 1 ' veces\n",
      "La palabra ' lo ' se repite ' 1 ' veces\n",
      "La palabra ' que ' se repite ' 1 ' veces\n",
      "La palabra ' hacemos, ' se repite ' 1 ' veces\n",
      "La palabra ' si ' se repite ' 1 ' veces\n",
      "La palabra ' siempre ' se repite ' 1 ' veces\n",
      "La palabra ' hacemos ' se repite ' 1 ' veces\n",
      "La palabra ' nuestro ' se repite ' 1 ' veces\n",
      "La palabra ' mejor ' se repite ' 1 ' veces\n",
      "La palabra ' esfuerzo, ' se repite ' 1 ' veces\n",
      "La palabra ' entonces, ' se repite ' 1 ' veces\n",
      "La palabra ' realmente, ' se repite ' 1 ' veces\n",
      "La palabra ' estamos ' se repite ' 1 ' veces\n",
      "La palabra ' disfrutando ' se repite ' 1 ' veces\n",
      "La palabra ' de ' se repite ' 1 ' veces\n",
      "La palabra ' la ' se repite ' 1 ' veces\n",
      "La palabra ' vida. ' se repite ' 1 ' veces\n",
      "La palabra ' Nos ' se repite ' 1 ' veces\n",
      "La palabra ' divertimos, ' se repite ' 1 ' veces\n",
      "La palabra ' no ' se repite ' 2 ' veces\n",
      "La palabra ' aburrimos, ' se repite ' 1 ' veces\n",
      "La palabra ' tenemos ' se repite ' 1 ' veces\n",
      "La palabra ' frustraciones. ' se repite ' 1 ' veces\n",
      "\n",
      "Se puede comprobar sumando los valores de las repeticiones:  27\n"
     ]
    }
   ],
   "source": [
    "print(\"\\nDe las cuales se repiten en tales ocasiones: \") \n",
    "\n",
    "# Se usa el metodo count para contar cuantas veces se repite cada palabra\n",
    "conteo= dict() # crea un diccionario vacio\n",
    "for palabra in palabras: # recorre cada palabra de la lista\n",
    "    conteo[palabra] = conteo.get(palabra,0) + 1\n",
    "for k,v in conteo.items(): # despliega v valor y k llave\n",
    "    print(\"La palabra '\",k ,\"' se repite '\",v ,\"' veces\" ) # imprime la palabra y cuantas veces se repite\n",
    "\n",
    "# Se puede comprobar sumando los valores de las repeticiones\n",
    "print(\"\\nSe puede comprobar sumando los valores de las repeticiones: \", sum(conteo.values()))"
   ]
  }
 ],
 "metadata": {
  "kernelspec": {
   "display_name": "Python 3",
   "language": "python",
   "name": "python3"
  },
  "language_info": {
   "codemirror_mode": {
    "name": "ipython",
    "version": 3
   },
   "file_extension": ".py",
   "mimetype": "text/x-python",
   "name": "python",
   "nbconvert_exporter": "python",
   "pygments_lexer": "ipython3",
   "version": "3.11.7"
  }
 },
 "nbformat": 4,
 "nbformat_minor": 2
}
