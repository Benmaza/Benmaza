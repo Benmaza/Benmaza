{
 "cells": [
  {
   "cell_type": "markdown",
   "metadata": {},
   "source": [
    "###### Desarrolle un programa en Python que mediante el uso de un ciclo ‘while’ \n",
    "###### determine si un número n (proporcionado por el usuario) puede ser expresado \n",
    "###### como 2K donde K es entero "
   ]
  },
  {
   "cell_type": "code",
   "execution_count": null,
   "metadata": {},
   "outputs": [],
   "source": [
    "# Se define la funcion exponente\n",
    "# donde se verifica que el numero sea entero positivo\n",
    "# se calcula el exponente k tal que 2^k = n\n",
    "# si no es posible, si es numero fraccionario se imprime un mensaje de error\n",
    "\n",
    "def exponente(n):\n",
    "    if not n.isdigit() or float(n) != int(float(n)) or int(n) < 1:\n",
    "        return \"Error de captura\"\n",
    "    else:\n",
    "        n = int(n)\n",
    "        resultado = 1\n",
    "        k = 0\n",
    "        while resultado < n:\n",
    "            resultado *= 2\n",
    "            k += 1\n",
    "        if resultado == n:\n",
    "            return k\n",
    "        else:\n",
    "            return None\n",
    "\n",
    "# Se pide al usuario que ingrese un numero entero positivo\n",
    "# se llama a la funcion exponente con el numero ingresado\n",
    "# el resultado se imprime en pantalla\n",
    "\n",
    "n = input(\"Ingresa un número entero positivo: \")\n",
    "k = exponente(n)\n",
    "if k == \"Error de captura\":\n",
    "    print(f'Error de captura para el número {n}')\n",
    "elif k is None:\n",
    "    print(f'El número {n} no puede ser expresado como una potencia de 2')\n",
    "else:\n",
    "    print(f'Si n = {n}, puede ser expresado como 2^{k} = {2**k}')\n",
    "    "
   ]
  },
  {
   "cell_type": "markdown",
   "metadata": {},
   "source": [
    "# Ingresa un valor a N entero y multiplica los valores de 1 a N\n",
    "# utilizando un ciclo while, si existe un numero negativo o fraccionario\n",
    "# desplegara un \"error de captura\""
   ]
  },
  {
   "cell_type": "code",
   "execution_count": null,
   "metadata": {},
   "outputs": [],
   "source": [
    "# se define primero la funcion llamada cal_fact\n",
    "# donde se verifica que el numero sea entero positivo\n",
    "# se calcula el factorial del numero ingresado\n",
    "\n",
    "def cal_fact(n):\n",
    "    if not n.isdigit() or float(n) != int(float(n)) or int(n) < 0:\n",
    "        return \"Error de captura\"\n",
    "    else:\n",
    "        n = int(n)\n",
    "        factorial = 1\n",
    "        i = 1\n",
    "        while i <= n:\n",
    "            factorial *= i\n",
    "            i += 1\n",
    "        return factorial\n",
    "\n",
    "# se pide al usuario que ingrese un numero entero y se invoca la funcion cal_fact\n",
    "# para calcular el factorial del numero ingresado\n",
    "# el resultado se imprime en pantalla\n",
    "\n",
    "num_int = input('Ingrese un número entero: ')\n",
    "cal_fact(num_int)\n",
    "print(f'El factorial de {num_int} es: {cal_fact(num_int)}')"
   ]
  }
 ],
 "metadata": {
  "kernelspec": {
   "display_name": "Python 3",
   "language": "python",
   "name": "python3"
  },
  "language_info": {
   "codemirror_mode": {
    "name": "ipython",
    "version": 3
   },
   "file_extension": ".py",
   "mimetype": "text/x-python",
   "name": "python",
   "nbconvert_exporter": "python",
   "pygments_lexer": "ipython3",
   "version": "3.12.0"
  }
 },
 "nbformat": 4,
 "nbformat_minor": 2
}
