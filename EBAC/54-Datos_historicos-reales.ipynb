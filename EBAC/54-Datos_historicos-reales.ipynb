{
 "cells": [
  {
   "cell_type": "code",
   "execution_count": 1,
   "id": "71842c2f",
   "metadata": {},
   "outputs": [],
   "source": [
    "import yfinance as yf\n",
    "import pandas as pd\n",
    "import warnings\n",
    "warnings.filterwarnings(\"ignore\")"
   ]
  },
  {
   "cell_type": "code",
   "execution_count": 2,
   "id": "6e579e06",
   "metadata": {},
   "outputs": [
    {
     "name": "stderr",
     "output_type": "stream",
     "text": [
      "[*********************100%***********************]  1 of 1 completed\n"
     ]
    },
    {
     "data": {
      "application/vnd.microsoft.datawrangler.viewer.v0+json": {
       "columns": [
        {
         "name": "Date",
         "rawType": "datetime64[ns]",
         "type": "datetime"
        },
        {
         "name": "('Close', 'AAPL')",
         "rawType": "float64",
         "type": "float"
        },
        {
         "name": "('High', 'AAPL')",
         "rawType": "float64",
         "type": "float"
        },
        {
         "name": "('Low', 'AAPL')",
         "rawType": "float64",
         "type": "float"
        },
        {
         "name": "('Open', 'AAPL')",
         "rawType": "float64",
         "type": "float"
        },
        {
         "name": "('Volume', 'AAPL')",
         "rawType": "int64",
         "type": "integer"
        }
       ],
       "ref": "14beb5d2-8804-4cb6-9445-8cb4f48d78e5",
       "rows": [
        [
         "2021-04-06 00:00:00",
         "123.16",
         "124.06",
         "122.62",
         "123.45",
         "80171300"
        ],
        [
         "2021-04-07 00:00:00",
         "124.81",
         "124.83",
         "122.12",
         "122.79",
         "83466700"
        ],
        [
         "2021-04-08 00:00:00",
         "127.21",
         "127.24",
         "125.42",
         "125.84",
         "88844600"
        ],
        [
         "2021-04-09 00:00:00",
         "129.79",
         "129.83",
         "126.34",
         "126.67",
         "106686700"
        ],
        [
         "2021-04-12 00:00:00",
         "128.07",
         "129.64",
         "127.48",
         "129.32",
         "91420000"
        ],
        [
         "2021-04-13 00:00:00",
         "131.18",
         "131.41",
         "128.74",
         "129.24",
         "91266500"
        ],
        [
         "2021-04-14 00:00:00",
         "128.84",
         "131.74",
         "128.48",
         "131.68",
         "87222800"
        ],
        [
         "2021-04-15 00:00:00",
         "131.25",
         "131.74",
         "130.41",
         "130.59",
         "89347100"
        ],
        [
         "2021-04-16 00:00:00",
         "130.92",
         "131.42",
         "130.06",
         "131.06",
         "84922400"
        ],
        [
         "2021-04-19 00:00:00",
         "131.58",
         "132.2",
         "130.12",
         "130.29",
         "94264200"
        ],
        [
         "2021-04-20 00:00:00",
         "129.9",
         "132.26",
         "128.63",
         "131.76",
         "94812300"
        ],
        [
         "2021-04-21 00:00:00",
         "130.28",
         "130.52",
         "128.13",
         "129.16",
         "68847100"
        ],
        [
         "2021-04-22 00:00:00",
         "128.75",
         "130.91",
         "128.24",
         "129.83",
         "84566500"
        ],
        [
         "2021-04-23 00:00:00",
         "131.08",
         "131.86",
         "128.97",
         "128.97",
         "78657500"
        ],
        [
         "2021-04-26 00:00:00",
         "131.47",
         "131.8",
         "130.33",
         "131.57",
         "66905100"
        ],
        [
         "2021-04-27 00:00:00",
         "131.14",
         "132.14",
         "130.87",
         "131.75",
         "66015800"
        ],
        [
         "2021-04-28 00:00:00",
         "130.35",
         "131.76",
         "129.87",
         "131.07",
         "107760100"
        ],
        [
         "2021-04-29 00:00:00",
         "130.26",
         "133.76",
         "129.25",
         "133.17",
         "151101000"
        ],
        [
         "2021-04-30 00:00:00",
         "128.29",
         "130.33",
         "127.9",
         "128.6",
         "109839500"
        ],
        [
         "2021-05-03 00:00:00",
         "129.34",
         "130.83",
         "128.65",
         "128.85",
         "75135100"
        ],
        [
         "2021-05-04 00:00:00",
         "124.76",
         "128.31",
         "123.64",
         "128.02",
         "137564700"
        ],
        [
         "2021-05-05 00:00:00",
         "125.01",
         "127.3",
         "124.88",
         "126.08",
         "84000900"
        ],
        [
         "2021-05-06 00:00:00",
         "126.61",
         "126.62",
         "124.06",
         "124.8",
         "78128300"
        ],
        [
         "2021-05-07 00:00:00",
         "127.28",
         "128.31",
         "126.57",
         "127.91",
         "78973300"
        ],
        [
         "2021-05-10 00:00:00",
         "124.0",
         "126.63",
         "123.96",
         "126.5",
         "88071200"
        ],
        [
         "2021-05-11 00:00:00",
         "123.08",
         "123.43",
         "120.01",
         "120.72",
         "126142800"
        ],
        [
         "2021-05-12 00:00:00",
         "120.01",
         "121.84",
         "119.5",
         "120.62",
         "112172300"
        ],
        [
         "2021-05-13 00:00:00",
         "122.16",
         "123.31",
         "121.47",
         "121.78",
         "105861300"
        ],
        [
         "2021-05-14 00:00:00",
         "124.58",
         "125.01",
         "123.02",
         "123.41",
         "81918000"
        ],
        [
         "2021-05-17 00:00:00",
         "123.43",
         "124.08",
         "122.35",
         "123.97",
         "74244600"
        ],
        [
         "2021-05-18 00:00:00",
         "122.04",
         "124.13",
         "121.97",
         "123.71",
         "63342900"
        ],
        [
         "2021-05-19 00:00:00",
         "121.89",
         "122.11",
         "120.1",
         "120.39",
         "92612000"
        ],
        [
         "2021-05-20 00:00:00",
         "124.45",
         "124.85",
         "122.29",
         "122.41",
         "76857100"
        ],
        [
         "2021-05-21 00:00:00",
         "122.61",
         "125.12",
         "122.39",
         "124.95",
         "79295400"
        ],
        [
         "2021-05-24 00:00:00",
         "124.24",
         "125.06",
         "123.11",
         "123.18",
         "63092900"
        ],
        [
         "2021-05-25 00:00:00",
         "124.05",
         "125.43",
         "123.48",
         "124.95",
         "72009500"
        ],
        [
         "2021-05-26 00:00:00",
         "124.0",
         "124.52",
         "123.58",
         "124.1",
         "56575900"
        ],
        [
         "2021-05-27 00:00:00",
         "122.46",
         "124.77",
         "122.27",
         "123.6",
         "94625600"
        ],
        [
         "2021-05-28 00:00:00",
         "121.81",
         "122.97",
         "121.75",
         "122.75",
         "71311100"
        ],
        [
         "2021-06-01 00:00:00",
         "121.48",
         "122.53",
         "121.15",
         "122.27",
         "67637100"
        ],
        [
         "2021-06-02 00:00:00",
         "122.25",
         "122.42",
         "121.26",
         "121.48",
         "59278900"
        ],
        [
         "2021-06-03 00:00:00",
         "120.76",
         "122.04",
         "120.36",
         "121.88",
         "76229200"
        ],
        [
         "2021-06-04 00:00:00",
         "123.06",
         "123.32",
         "121.06",
         "121.28",
         "75169300"
        ],
        [
         "2021-06-07 00:00:00",
         "123.07",
         "123.48",
         "122.02",
         "123.33",
         "71057600"
        ],
        [
         "2021-06-08 00:00:00",
         "123.89",
         "125.57",
         "123.37",
         "123.75",
         "74403800"
        ],
        [
         "2021-06-09 00:00:00",
         "124.27",
         "124.88",
         "123.67",
         "124.35",
         "56877900"
        ],
        [
         "2021-06-10 00:00:00",
         "123.27",
         "125.31",
         "123.11",
         "124.16",
         "71186400"
        ],
        [
         "2021-06-11 00:00:00",
         "124.49",
         "124.57",
         "123.26",
         "123.68",
         "53522400"
        ],
        [
         "2021-06-14 00:00:00",
         "127.55",
         "127.6",
         "124.21",
         "124.95",
         "96906500"
        ],
        [
         "2021-06-15 00:00:00",
         "126.72",
         "127.66",
         "126.48",
         "127.02",
         "62746300"
        ]
       ],
       "shape": {
        "columns": 5,
        "rows": 505
       }
      },
      "text/html": [
       "<div>\n",
       "<style scoped>\n",
       "    .dataframe tbody tr th:only-of-type {\n",
       "        vertical-align: middle;\n",
       "    }\n",
       "\n",
       "    .dataframe tbody tr th {\n",
       "        vertical-align: top;\n",
       "    }\n",
       "\n",
       "    .dataframe thead tr th {\n",
       "        text-align: left;\n",
       "    }\n",
       "\n",
       "    .dataframe thead tr:last-of-type th {\n",
       "        text-align: right;\n",
       "    }\n",
       "</style>\n",
       "<table border=\"1\" class=\"dataframe\">\n",
       "  <thead>\n",
       "    <tr>\n",
       "      <th>Price</th>\n",
       "      <th>Close</th>\n",
       "      <th>High</th>\n",
       "      <th>Low</th>\n",
       "      <th>Open</th>\n",
       "      <th>Volume</th>\n",
       "    </tr>\n",
       "    <tr>\n",
       "      <th>Ticker</th>\n",
       "      <th>AAPL</th>\n",
       "      <th>AAPL</th>\n",
       "      <th>AAPL</th>\n",
       "      <th>AAPL</th>\n",
       "      <th>AAPL</th>\n",
       "    </tr>\n",
       "    <tr>\n",
       "      <th>Date</th>\n",
       "      <th></th>\n",
       "      <th></th>\n",
       "      <th></th>\n",
       "      <th></th>\n",
       "      <th></th>\n",
       "    </tr>\n",
       "  </thead>\n",
       "  <tbody>\n",
       "    <tr>\n",
       "      <th>2021-04-06</th>\n",
       "      <td>123.16</td>\n",
       "      <td>124.06</td>\n",
       "      <td>122.62</td>\n",
       "      <td>123.45</td>\n",
       "      <td>80171300</td>\n",
       "    </tr>\n",
       "    <tr>\n",
       "      <th>2021-04-07</th>\n",
       "      <td>124.81</td>\n",
       "      <td>124.83</td>\n",
       "      <td>122.12</td>\n",
       "      <td>122.79</td>\n",
       "      <td>83466700</td>\n",
       "    </tr>\n",
       "    <tr>\n",
       "      <th>2021-04-08</th>\n",
       "      <td>127.21</td>\n",
       "      <td>127.24</td>\n",
       "      <td>125.42</td>\n",
       "      <td>125.84</td>\n",
       "      <td>88844600</td>\n",
       "    </tr>\n",
       "    <tr>\n",
       "      <th>2021-04-09</th>\n",
       "      <td>129.79</td>\n",
       "      <td>129.83</td>\n",
       "      <td>126.34</td>\n",
       "      <td>126.67</td>\n",
       "      <td>106686700</td>\n",
       "    </tr>\n",
       "    <tr>\n",
       "      <th>2021-04-12</th>\n",
       "      <td>128.07</td>\n",
       "      <td>129.64</td>\n",
       "      <td>127.48</td>\n",
       "      <td>129.32</td>\n",
       "      <td>91420000</td>\n",
       "    </tr>\n",
       "    <tr>\n",
       "      <th>...</th>\n",
       "      <td>...</td>\n",
       "      <td>...</td>\n",
       "      <td>...</td>\n",
       "      <td>...</td>\n",
       "      <td>...</td>\n",
       "    </tr>\n",
       "    <tr>\n",
       "      <th>2023-03-30</th>\n",
       "      <td>160.35</td>\n",
       "      <td>160.46</td>\n",
       "      <td>159.27</td>\n",
       "      <td>159.53</td>\n",
       "      <td>49501700</td>\n",
       "    </tr>\n",
       "    <tr>\n",
       "      <th>2023-03-31</th>\n",
       "      <td>162.86</td>\n",
       "      <td>162.95</td>\n",
       "      <td>159.90</td>\n",
       "      <td>160.43</td>\n",
       "      <td>68749800</td>\n",
       "    </tr>\n",
       "    <tr>\n",
       "      <th>2023-04-03</th>\n",
       "      <td>164.11</td>\n",
       "      <td>164.23</td>\n",
       "      <td>162.18</td>\n",
       "      <td>162.23</td>\n",
       "      <td>56976200</td>\n",
       "    </tr>\n",
       "    <tr>\n",
       "      <th>2023-04-04</th>\n",
       "      <td>163.58</td>\n",
       "      <td>164.77</td>\n",
       "      <td>163.06</td>\n",
       "      <td>164.53</td>\n",
       "      <td>46278300</td>\n",
       "    </tr>\n",
       "    <tr>\n",
       "      <th>2023-04-05</th>\n",
       "      <td>161.73</td>\n",
       "      <td>163.00</td>\n",
       "      <td>159.79</td>\n",
       "      <td>162.70</td>\n",
       "      <td>51511700</td>\n",
       "    </tr>\n",
       "  </tbody>\n",
       "</table>\n",
       "<p>505 rows × 5 columns</p>\n",
       "</div>"
      ],
      "text/plain": [
       "Price        Close    High     Low    Open     Volume\n",
       "Ticker        AAPL    AAPL    AAPL    AAPL       AAPL\n",
       "Date                                                 \n",
       "2021-04-06  123.16  124.06  122.62  123.45   80171300\n",
       "2021-04-07  124.81  124.83  122.12  122.79   83466700\n",
       "2021-04-08  127.21  127.24  125.42  125.84   88844600\n",
       "2021-04-09  129.79  129.83  126.34  126.67  106686700\n",
       "2021-04-12  128.07  129.64  127.48  129.32   91420000\n",
       "...            ...     ...     ...     ...        ...\n",
       "2023-03-30  160.35  160.46  159.27  159.53   49501700\n",
       "2023-03-31  162.86  162.95  159.90  160.43   68749800\n",
       "2023-04-03  164.11  164.23  162.18  162.23   56976200\n",
       "2023-04-04  163.58  164.77  163.06  164.53   46278300\n",
       "2023-04-05  161.73  163.00  159.79  162.70   51511700\n",
       "\n",
       "[505 rows x 5 columns]"
      ]
     },
     "execution_count": 2,
     "metadata": {},
     "output_type": "execute_result"
    }
   ],
   "source": [
    "# Extraer precios historicos en un rango determinado\n",
    "\n",
    "apple = yf.download(tickers=\"AAPL\", start=\"2021-04-06\", end=\"2023-04-06\", rounding=True)\n",
    "apple"
   ]
  },
  {
   "cell_type": "code",
   "execution_count": 3,
   "id": "52388d8e",
   "metadata": {},
   "outputs": [
    {
     "data": {
      "application/vnd.microsoft.datawrangler.viewer.v0+json": {
       "columns": [
        {
         "name": "Date",
         "rawType": "datetime64[ns]",
         "type": "datetime"
        },
        {
         "name": "AAPL",
         "rawType": "float64",
         "type": "float"
        }
       ],
       "ref": "0c409639-5f8a-4024-9b45-ba4a96ed2316",
       "rows": [
        [
         "2021-04-06 00:00:00",
         "123.16"
        ],
        [
         "2021-04-07 00:00:00",
         "124.81"
        ],
        [
         "2021-04-08 00:00:00",
         "127.21"
        ],
        [
         "2021-04-09 00:00:00",
         "129.79"
        ],
        [
         "2021-04-12 00:00:00",
         "128.07"
        ],
        [
         "2021-04-13 00:00:00",
         "131.18"
        ],
        [
         "2021-04-14 00:00:00",
         "128.84"
        ],
        [
         "2021-04-15 00:00:00",
         "131.25"
        ],
        [
         "2021-04-16 00:00:00",
         "130.92"
        ],
        [
         "2021-04-19 00:00:00",
         "131.58"
        ],
        [
         "2021-04-20 00:00:00",
         "129.9"
        ],
        [
         "2021-04-21 00:00:00",
         "130.28"
        ],
        [
         "2021-04-22 00:00:00",
         "128.75"
        ],
        [
         "2021-04-23 00:00:00",
         "131.08"
        ],
        [
         "2021-04-26 00:00:00",
         "131.47"
        ],
        [
         "2021-04-27 00:00:00",
         "131.14"
        ],
        [
         "2021-04-28 00:00:00",
         "130.35"
        ],
        [
         "2021-04-29 00:00:00",
         "130.26"
        ],
        [
         "2021-04-30 00:00:00",
         "128.29"
        ],
        [
         "2021-05-03 00:00:00",
         "129.34"
        ],
        [
         "2021-05-04 00:00:00",
         "124.76"
        ],
        [
         "2021-05-05 00:00:00",
         "125.01"
        ],
        [
         "2021-05-06 00:00:00",
         "126.61"
        ],
        [
         "2021-05-07 00:00:00",
         "127.28"
        ],
        [
         "2021-05-10 00:00:00",
         "124.0"
        ],
        [
         "2021-05-11 00:00:00",
         "123.08"
        ],
        [
         "2021-05-12 00:00:00",
         "120.01"
        ],
        [
         "2021-05-13 00:00:00",
         "122.16"
        ],
        [
         "2021-05-14 00:00:00",
         "124.58"
        ],
        [
         "2021-05-17 00:00:00",
         "123.43"
        ],
        [
         "2021-05-18 00:00:00",
         "122.04"
        ],
        [
         "2021-05-19 00:00:00",
         "121.89"
        ],
        [
         "2021-05-20 00:00:00",
         "124.45"
        ],
        [
         "2021-05-21 00:00:00",
         "122.61"
        ],
        [
         "2021-05-24 00:00:00",
         "124.24"
        ],
        [
         "2021-05-25 00:00:00",
         "124.05"
        ],
        [
         "2021-05-26 00:00:00",
         "124.0"
        ],
        [
         "2021-05-27 00:00:00",
         "122.46"
        ],
        [
         "2021-05-28 00:00:00",
         "121.81"
        ],
        [
         "2021-06-01 00:00:00",
         "121.48"
        ],
        [
         "2021-06-02 00:00:00",
         "122.25"
        ],
        [
         "2021-06-03 00:00:00",
         "120.76"
        ],
        [
         "2021-06-04 00:00:00",
         "123.06"
        ],
        [
         "2021-06-07 00:00:00",
         "123.07"
        ],
        [
         "2021-06-08 00:00:00",
         "123.89"
        ],
        [
         "2021-06-09 00:00:00",
         "124.27"
        ],
        [
         "2021-06-10 00:00:00",
         "123.27"
        ],
        [
         "2021-06-11 00:00:00",
         "124.49"
        ],
        [
         "2021-06-14 00:00:00",
         "127.55"
        ],
        [
         "2021-06-15 00:00:00",
         "126.72"
        ]
       ],
       "shape": {
        "columns": 1,
        "rows": 505
       }
      },
      "text/html": [
       "<div>\n",
       "<style scoped>\n",
       "    .dataframe tbody tr th:only-of-type {\n",
       "        vertical-align: middle;\n",
       "    }\n",
       "\n",
       "    .dataframe tbody tr th {\n",
       "        vertical-align: top;\n",
       "    }\n",
       "\n",
       "    .dataframe thead th {\n",
       "        text-align: right;\n",
       "    }\n",
       "</style>\n",
       "<table border=\"1\" class=\"dataframe\">\n",
       "  <thead>\n",
       "    <tr style=\"text-align: right;\">\n",
       "      <th>Ticker</th>\n",
       "      <th>AAPL</th>\n",
       "    </tr>\n",
       "    <tr>\n",
       "      <th>Date</th>\n",
       "      <th></th>\n",
       "    </tr>\n",
       "  </thead>\n",
       "  <tbody>\n",
       "    <tr>\n",
       "      <th>2021-04-06</th>\n",
       "      <td>123.16</td>\n",
       "    </tr>\n",
       "    <tr>\n",
       "      <th>2021-04-07</th>\n",
       "      <td>124.81</td>\n",
       "    </tr>\n",
       "    <tr>\n",
       "      <th>2021-04-08</th>\n",
       "      <td>127.21</td>\n",
       "    </tr>\n",
       "    <tr>\n",
       "      <th>2021-04-09</th>\n",
       "      <td>129.79</td>\n",
       "    </tr>\n",
       "    <tr>\n",
       "      <th>2021-04-12</th>\n",
       "      <td>128.07</td>\n",
       "    </tr>\n",
       "    <tr>\n",
       "      <th>...</th>\n",
       "      <td>...</td>\n",
       "    </tr>\n",
       "    <tr>\n",
       "      <th>2023-03-30</th>\n",
       "      <td>160.35</td>\n",
       "    </tr>\n",
       "    <tr>\n",
       "      <th>2023-03-31</th>\n",
       "      <td>162.86</td>\n",
       "    </tr>\n",
       "    <tr>\n",
       "      <th>2023-04-03</th>\n",
       "      <td>164.11</td>\n",
       "    </tr>\n",
       "    <tr>\n",
       "      <th>2023-04-04</th>\n",
       "      <td>163.58</td>\n",
       "    </tr>\n",
       "    <tr>\n",
       "      <th>2023-04-05</th>\n",
       "      <td>161.73</td>\n",
       "    </tr>\n",
       "  </tbody>\n",
       "</table>\n",
       "<p>505 rows × 1 columns</p>\n",
       "</div>"
      ],
      "text/plain": [
       "Ticker        AAPL\n",
       "Date              \n",
       "2021-04-06  123.16\n",
       "2021-04-07  124.81\n",
       "2021-04-08  127.21\n",
       "2021-04-09  129.79\n",
       "2021-04-12  128.07\n",
       "...            ...\n",
       "2023-03-30  160.35\n",
       "2023-03-31  162.86\n",
       "2023-04-03  164.11\n",
       "2023-04-04  163.58\n",
       "2023-04-05  161.73\n",
       "\n",
       "[505 rows x 1 columns]"
      ]
     },
     "execution_count": 3,
     "metadata": {},
     "output_type": "execute_result"
    }
   ],
   "source": [
    "apple= apple['Close']\n",
    "apple"
   ]
  },
  {
   "cell_type": "code",
   "execution_count": 4,
   "id": "4189b458",
   "metadata": {},
   "outputs": [
    {
     "data": {
      "text/plain": [
       "404"
      ]
     },
     "execution_count": 4,
     "metadata": {},
     "output_type": "execute_result"
    }
   ],
   "source": [
    "apple.index = pd.to_datetime(apple.index)\n",
    "len_train = int(len(apple) * 0.8)\n",
    "len_train"
   ]
  },
  {
   "cell_type": "code",
   "execution_count": 5,
   "id": "94ae3de9",
   "metadata": {},
   "outputs": [
    {
     "data": {
      "text/plain": [
       "101"
      ]
     },
     "execution_count": 5,
     "metadata": {},
     "output_type": "execute_result"
    }
   ],
   "source": [
    "len_test = int(len(apple) * 0.2)\n",
    "len_test"
   ]
  },
  {
   "cell_type": "code",
   "execution_count": 6,
   "id": "833c613b",
   "metadata": {},
   "outputs": [
    {
     "data": {
      "application/vnd.microsoft.datawrangler.viewer.v0+json": {
       "columns": [
        {
         "name": "Date",
         "rawType": "datetime64[ns]",
         "type": "datetime"
        },
        {
         "name": "AAPL",
         "rawType": "float64",
         "type": "float"
        }
       ],
       "ref": "44c2b967-4710-4965-930f-8d8e4abbd0d5",
       "rows": [
        [
         "2021-04-06 00:00:00",
         "123.16"
        ],
        [
         "2021-04-07 00:00:00",
         "124.81"
        ],
        [
         "2021-04-08 00:00:00",
         "127.21"
        ],
        [
         "2021-04-09 00:00:00",
         "129.79"
        ],
        [
         "2021-04-12 00:00:00",
         "128.07"
        ],
        [
         "2021-04-13 00:00:00",
         "131.18"
        ],
        [
         "2021-04-14 00:00:00",
         "128.84"
        ],
        [
         "2021-04-15 00:00:00",
         "131.25"
        ],
        [
         "2021-04-16 00:00:00",
         "130.92"
        ],
        [
         "2021-04-19 00:00:00",
         "131.58"
        ],
        [
         "2021-04-20 00:00:00",
         "129.9"
        ],
        [
         "2021-04-21 00:00:00",
         "130.28"
        ],
        [
         "2021-04-22 00:00:00",
         "128.75"
        ],
        [
         "2021-04-23 00:00:00",
         "131.08"
        ],
        [
         "2021-04-26 00:00:00",
         "131.47"
        ],
        [
         "2021-04-27 00:00:00",
         "131.14"
        ],
        [
         "2021-04-28 00:00:00",
         "130.35"
        ],
        [
         "2021-04-29 00:00:00",
         "130.26"
        ],
        [
         "2021-04-30 00:00:00",
         "128.29"
        ],
        [
         "2021-05-03 00:00:00",
         "129.34"
        ],
        [
         "2021-05-04 00:00:00",
         "124.76"
        ],
        [
         "2021-05-05 00:00:00",
         "125.01"
        ],
        [
         "2021-05-06 00:00:00",
         "126.61"
        ],
        [
         "2021-05-07 00:00:00",
         "127.28"
        ],
        [
         "2021-05-10 00:00:00",
         "124.0"
        ],
        [
         "2021-05-11 00:00:00",
         "123.08"
        ],
        [
         "2021-05-12 00:00:00",
         "120.01"
        ],
        [
         "2021-05-13 00:00:00",
         "122.16"
        ],
        [
         "2021-05-14 00:00:00",
         "124.58"
        ],
        [
         "2021-05-17 00:00:00",
         "123.43"
        ],
        [
         "2021-05-18 00:00:00",
         "122.04"
        ],
        [
         "2021-05-19 00:00:00",
         "121.89"
        ],
        [
         "2021-05-20 00:00:00",
         "124.45"
        ],
        [
         "2021-05-21 00:00:00",
         "122.61"
        ],
        [
         "2021-05-24 00:00:00",
         "124.24"
        ],
        [
         "2021-05-25 00:00:00",
         "124.05"
        ],
        [
         "2021-05-26 00:00:00",
         "124.0"
        ],
        [
         "2021-05-27 00:00:00",
         "122.46"
        ],
        [
         "2021-05-28 00:00:00",
         "121.81"
        ],
        [
         "2021-06-01 00:00:00",
         "121.48"
        ],
        [
         "2021-06-02 00:00:00",
         "122.25"
        ],
        [
         "2021-06-03 00:00:00",
         "120.76"
        ],
        [
         "2021-06-04 00:00:00",
         "123.06"
        ],
        [
         "2021-06-07 00:00:00",
         "123.07"
        ],
        [
         "2021-06-08 00:00:00",
         "123.89"
        ],
        [
         "2021-06-09 00:00:00",
         "124.27"
        ],
        [
         "2021-06-10 00:00:00",
         "123.27"
        ],
        [
         "2021-06-11 00:00:00",
         "124.49"
        ],
        [
         "2021-06-14 00:00:00",
         "127.55"
        ],
        [
         "2021-06-15 00:00:00",
         "126.72"
        ]
       ],
       "shape": {
        "columns": 1,
        "rows": 404
       }
      },
      "text/html": [
       "<div>\n",
       "<style scoped>\n",
       "    .dataframe tbody tr th:only-of-type {\n",
       "        vertical-align: middle;\n",
       "    }\n",
       "\n",
       "    .dataframe tbody tr th {\n",
       "        vertical-align: top;\n",
       "    }\n",
       "\n",
       "    .dataframe thead th {\n",
       "        text-align: right;\n",
       "    }\n",
       "</style>\n",
       "<table border=\"1\" class=\"dataframe\">\n",
       "  <thead>\n",
       "    <tr style=\"text-align: right;\">\n",
       "      <th>Ticker</th>\n",
       "      <th>AAPL</th>\n",
       "    </tr>\n",
       "    <tr>\n",
       "      <th>Date</th>\n",
       "      <th></th>\n",
       "    </tr>\n",
       "  </thead>\n",
       "  <tbody>\n",
       "    <tr>\n",
       "      <th>2021-04-06</th>\n",
       "      <td>123.16</td>\n",
       "    </tr>\n",
       "    <tr>\n",
       "      <th>2021-04-07</th>\n",
       "      <td>124.81</td>\n",
       "    </tr>\n",
       "    <tr>\n",
       "      <th>2021-04-08</th>\n",
       "      <td>127.21</td>\n",
       "    </tr>\n",
       "    <tr>\n",
       "      <th>2021-04-09</th>\n",
       "      <td>129.79</td>\n",
       "    </tr>\n",
       "    <tr>\n",
       "      <th>2021-04-12</th>\n",
       "      <td>128.07</td>\n",
       "    </tr>\n",
       "    <tr>\n",
       "      <th>...</th>\n",
       "      <td>...</td>\n",
       "    </tr>\n",
       "    <tr>\n",
       "      <th>2022-11-02</th>\n",
       "      <td>142.78</td>\n",
       "    </tr>\n",
       "    <tr>\n",
       "      <th>2022-11-03</th>\n",
       "      <td>136.72</td>\n",
       "    </tr>\n",
       "    <tr>\n",
       "      <th>2022-11-04</th>\n",
       "      <td>136.46</td>\n",
       "    </tr>\n",
       "    <tr>\n",
       "      <th>2022-11-07</th>\n",
       "      <td>136.99</td>\n",
       "    </tr>\n",
       "    <tr>\n",
       "      <th>2022-11-08</th>\n",
       "      <td>137.56</td>\n",
       "    </tr>\n",
       "  </tbody>\n",
       "</table>\n",
       "<p>404 rows × 1 columns</p>\n",
       "</div>"
      ],
      "text/plain": [
       "Ticker        AAPL\n",
       "Date              \n",
       "2021-04-06  123.16\n",
       "2021-04-07  124.81\n",
       "2021-04-08  127.21\n",
       "2021-04-09  129.79\n",
       "2021-04-12  128.07\n",
       "...            ...\n",
       "2022-11-02  142.78\n",
       "2022-11-03  136.72\n",
       "2022-11-04  136.46\n",
       "2022-11-07  136.99\n",
       "2022-11-08  137.56\n",
       "\n",
       "[404 rows x 1 columns]"
      ]
     },
     "execution_count": 6,
     "metadata": {},
     "output_type": "execute_result"
    }
   ],
   "source": [
    "# Definicion de grupos de prueba y entrenamiento\n",
    "train = apple[0:len_train]\n",
    "train"
   ]
  },
  {
   "cell_type": "code",
   "execution_count": 7,
   "id": "79653857",
   "metadata": {},
   "outputs": [
    {
     "data": {
      "application/vnd.microsoft.datawrangler.viewer.v0+json": {
       "columns": [
        {
         "name": "Date",
         "rawType": "datetime64[ns]",
         "type": "datetime"
        },
        {
         "name": "AAPL",
         "rawType": "float64",
         "type": "float"
        }
       ],
       "ref": "152bba12-020e-43b3-a8f8-5fd65e8219d1",
       "rows": [
        [
         "2022-11-09 00:00:00",
         "132.99"
        ],
        [
         "2022-11-10 00:00:00",
         "144.83"
        ],
        [
         "2022-11-11 00:00:00",
         "147.62"
        ],
        [
         "2022-11-14 00:00:00",
         "146.22"
        ],
        [
         "2022-11-15 00:00:00",
         "147.95"
        ],
        [
         "2022-11-16 00:00:00",
         "146.72"
        ],
        [
         "2022-11-17 00:00:00",
         "148.62"
        ],
        [
         "2022-11-18 00:00:00",
         "149.19"
        ],
        [
         "2022-11-21 00:00:00",
         "145.95"
        ],
        [
         "2022-11-22 00:00:00",
         "148.09"
        ],
        [
         "2022-11-23 00:00:00",
         "148.97"
        ],
        [
         "2022-11-25 00:00:00",
         "146.05"
        ],
        [
         "2022-11-28 00:00:00",
         "142.21"
        ],
        [
         "2022-11-29 00:00:00",
         "139.21"
        ],
        [
         "2022-11-30 00:00:00",
         "145.97"
        ],
        [
         "2022-12-01 00:00:00",
         "146.25"
        ],
        [
         "2022-12-02 00:00:00",
         "145.75"
        ],
        [
         "2022-12-05 00:00:00",
         "144.59"
        ],
        [
         "2022-12-06 00:00:00",
         "140.92"
        ],
        [
         "2022-12-07 00:00:00",
         "138.98"
        ],
        [
         "2022-12-08 00:00:00",
         "140.67"
        ],
        [
         "2022-12-09 00:00:00",
         "140.18"
        ],
        [
         "2022-12-12 00:00:00",
         "142.48"
        ],
        [
         "2022-12-13 00:00:00",
         "143.45"
        ],
        [
         "2022-12-14 00:00:00",
         "141.22"
        ],
        [
         "2022-12-15 00:00:00",
         "134.6"
        ],
        [
         "2022-12-16 00:00:00",
         "132.64"
        ],
        [
         "2022-12-19 00:00:00",
         "130.53"
        ],
        [
         "2022-12-20 00:00:00",
         "130.46"
        ],
        [
         "2022-12-21 00:00:00",
         "133.57"
        ],
        [
         "2022-12-22 00:00:00",
         "130.39"
        ],
        [
         "2022-12-23 00:00:00",
         "130.03"
        ],
        [
         "2022-12-27 00:00:00",
         "128.22"
        ],
        [
         "2022-12-28 00:00:00",
         "124.29"
        ],
        [
         "2022-12-29 00:00:00",
         "127.81"
        ],
        [
         "2022-12-30 00:00:00",
         "128.12"
        ],
        [
         "2023-01-03 00:00:00",
         "123.33"
        ],
        [
         "2023-01-04 00:00:00",
         "124.6"
        ],
        [
         "2023-01-05 00:00:00",
         "123.28"
        ],
        [
         "2023-01-06 00:00:00",
         "127.82"
        ],
        [
         "2023-01-09 00:00:00",
         "128.34"
        ],
        [
         "2023-01-10 00:00:00",
         "128.91"
        ],
        [
         "2023-01-11 00:00:00",
         "131.63"
        ],
        [
         "2023-01-12 00:00:00",
         "131.55"
        ],
        [
         "2023-01-13 00:00:00",
         "132.89"
        ],
        [
         "2023-01-17 00:00:00",
         "134.05"
        ],
        [
         "2023-01-18 00:00:00",
         "133.33"
        ],
        [
         "2023-01-19 00:00:00",
         "133.39"
        ],
        [
         "2023-01-20 00:00:00",
         "135.95"
        ],
        [
         "2023-01-23 00:00:00",
         "139.15"
        ]
       ],
       "shape": {
        "columns": 1,
        "rows": 101
       }
      },
      "text/html": [
       "<div>\n",
       "<style scoped>\n",
       "    .dataframe tbody tr th:only-of-type {\n",
       "        vertical-align: middle;\n",
       "    }\n",
       "\n",
       "    .dataframe tbody tr th {\n",
       "        vertical-align: top;\n",
       "    }\n",
       "\n",
       "    .dataframe thead th {\n",
       "        text-align: right;\n",
       "    }\n",
       "</style>\n",
       "<table border=\"1\" class=\"dataframe\">\n",
       "  <thead>\n",
       "    <tr style=\"text-align: right;\">\n",
       "      <th>Ticker</th>\n",
       "      <th>AAPL</th>\n",
       "    </tr>\n",
       "    <tr>\n",
       "      <th>Date</th>\n",
       "      <th></th>\n",
       "    </tr>\n",
       "  </thead>\n",
       "  <tbody>\n",
       "    <tr>\n",
       "      <th>2022-11-09</th>\n",
       "      <td>132.99</td>\n",
       "    </tr>\n",
       "    <tr>\n",
       "      <th>2022-11-10</th>\n",
       "      <td>144.83</td>\n",
       "    </tr>\n",
       "    <tr>\n",
       "      <th>2022-11-11</th>\n",
       "      <td>147.62</td>\n",
       "    </tr>\n",
       "    <tr>\n",
       "      <th>2022-11-14</th>\n",
       "      <td>146.22</td>\n",
       "    </tr>\n",
       "    <tr>\n",
       "      <th>2022-11-15</th>\n",
       "      <td>147.95</td>\n",
       "    </tr>\n",
       "    <tr>\n",
       "      <th>...</th>\n",
       "      <td>...</td>\n",
       "    </tr>\n",
       "    <tr>\n",
       "      <th>2023-03-30</th>\n",
       "      <td>160.35</td>\n",
       "    </tr>\n",
       "    <tr>\n",
       "      <th>2023-03-31</th>\n",
       "      <td>162.86</td>\n",
       "    </tr>\n",
       "    <tr>\n",
       "      <th>2023-04-03</th>\n",
       "      <td>164.11</td>\n",
       "    </tr>\n",
       "    <tr>\n",
       "      <th>2023-04-04</th>\n",
       "      <td>163.58</td>\n",
       "    </tr>\n",
       "    <tr>\n",
       "      <th>2023-04-05</th>\n",
       "      <td>161.73</td>\n",
       "    </tr>\n",
       "  </tbody>\n",
       "</table>\n",
       "<p>101 rows × 1 columns</p>\n",
       "</div>"
      ],
      "text/plain": [
       "Ticker        AAPL\n",
       "Date              \n",
       "2022-11-09  132.99\n",
       "2022-11-10  144.83\n",
       "2022-11-11  147.62\n",
       "2022-11-14  146.22\n",
       "2022-11-15  147.95\n",
       "...            ...\n",
       "2023-03-30  160.35\n",
       "2023-03-31  162.86\n",
       "2023-04-03  164.11\n",
       "2023-04-04  163.58\n",
       "2023-04-05  161.73\n",
       "\n",
       "[101 rows x 1 columns]"
      ]
     },
     "execution_count": 7,
     "metadata": {},
     "output_type": "execute_result"
    }
   ],
   "source": [
    "test = apple[len_train:]\n",
    "test"
   ]
  },
  {
   "cell_type": "code",
   "execution_count": 8,
   "id": "d6c3198a",
   "metadata": {},
   "outputs": [
    {
     "name": "stdout",
     "output_type": "stream",
     "text": [
      "[1.         0.97625375 0.95361587 0.93385774 0.91674083 0.89920409\n",
      " 0.87971627 0.85896368 0.83914474 0.82179806 0.805351   0.79065514\n",
      " 0.76990371 0.74987639 0.73088309 0.71190481 0.69503515 0.67680285\n",
      " 0.65926304 0.64036431 0.61933586 0.59842071 0.57730262 0.55919891\n",
      " 0.54063525 0.51823989 0.49572249]\n"
     ]
    },
    {
     "data": {
      "image/png": "[encoded data removed]",
      "text/plain": [
       "<Figure size 640x480 with 1 Axes>"
      ]
     },
     "metadata": {},
     "output_type": "display_data"
    }
   ],
   "source": [
    "from statsmodels.tsa.stattools import acf\n",
    "from statsmodels.graphics.tsaplots import plot_acf\n",
    "import matplotlib.pyplot as plt\n",
    "\n",
    "acf_array = acf(train)\n",
    "print(acf_array)\n",
    "\n",
    "#Grafico con un nivel del confianza del 95%\n",
    "plot_acf(train, alpha=0.05)\n",
    "plt.title(\"ACF con intervalo de confianza del 95%\")\n",
    "plt.show()"
   ]
  },
  {
   "cell_type": "code",
   "execution_count": 9,
   "id": "5dc49c51",
   "metadata": {},
   "outputs": [
    {
     "name": "stdout",
     "output_type": "stream",
     "text": [
      "                               SARIMAX Results                                \n",
      "==============================================================================\n",
      "Dep. Variable:                   AAPL   No. Observations:                  404\n",
      "Model:                 ARIMA(1, 0, 0)   Log Likelihood                -991.337\n",
      "Date:                Sat, 06 Sep 2025   AIC                           1988.674\n",
      "Time:                        20:05:12   BIC                           2000.678\n",
      "Sample:                             0   HQIC                          1993.426\n",
      "                                - 404                                         \n",
      "Covariance Type:                  opg                                         \n",
      "==============================================================================\n",
      "                 coef    std err          z      P>|z|      [0.025      0.975]\n",
      "------------------------------------------------------------------------------\n",
      "const        144.6379      6.533     22.140      0.000     131.833     157.442\n",
      "ar.L1          0.9825      0.010    103.256      0.000       0.964       1.001\n",
      "sigma2         7.8570      0.446     17.613      0.000       6.983       8.731\n",
      "===================================================================================\n",
      "Ljung-Box (L1) (Q):                   0.08   Jarque-Bera (JB):                19.66\n",
      "Prob(Q):                              0.78   Prob(JB):                         0.00\n",
      "Heteroskedasticity (H):               3.87   Skew:                            -0.03\n",
      "Prob(H) (two-sided):                  0.00   Kurtosis:                         4.08\n",
      "===================================================================================\n",
      "\n",
      "Warnings:\n",
      "[1] Covariance matrix calculated using the outer product of gradients (complex-step).\n"
     ]
    }
   ],
   "source": [
    "from statsmodels.tsa.arima.model import ARIMA\n",
    "import warnings\n",
    "warnings.filterwarnings(\"ignore\")\n",
    "\n",
    "# fit an AR(1) model to the first simulated data\n",
    "\n",
    "mod = ARIMA(train, order=(1, 0, 0))\n",
    "res= mod.fit()\n",
    "\n",
    "print(res.summary())"
   ]
  },
  {
   "cell_type": "code",
   "execution_count": 10,
   "id": "cf47957e",
   "metadata": {},
   "outputs": [
    {
     "data": {
      "application/vnd.microsoft.datawrangler.viewer.v0+json": {
       "columns": [
        {
         "name": "index",
         "rawType": "int64",
         "type": "integer"
        },
        {
         "name": "predicted_mean",
         "rawType": "float64",
         "type": "float"
        }
       ],
       "ref": "1c768891-e78c-4b0f-afa1-99b882c380b1",
       "rows": [
        [
         "404",
         "137.68394262023307"
        ],
        [
         "405",
         "137.80571484108455"
        ],
        [
         "406",
         "137.9253546691213"
        ],
        [
         "407",
         "138.04289944536475"
        ],
        [
         "408",
         "138.15838585694573"
        ],
        [
         "409",
         "138.27184994855475"
        ],
        [
         "410",
         "138.3833271336921"
        ],
        [
         "411",
         "138.49285220572074"
        ],
        [
         "412",
         "138.60045934872588"
        ],
        [
         "413",
         "138.70618214818407"
        ],
        [
         "414",
         "138.81005360144567"
        ],
        [
         "415",
         "138.9121061280338"
        ],
        [
         "416",
         "139.01237157976283"
        ],
        [
         "417",
         "139.11088125067957"
        ],
        [
         "418",
         "139.2076658868308"
        ],
        [
         "419",
         "139.30275569585913"
        ],
        [
         "420",
         "139.39618035643156"
        ],
        [
         "421",
         "139.48796902750215"
        ],
        [
         "422",
         "139.57815035741316"
        ],
        [
         "423",
         "139.66675249283645"
        ],
        [
         "424",
         "139.75380308755834"
        ],
        [
         "425",
         "139.8393293111108"
        ],
        [
         "426",
         "139.92335785725126"
        ],
        [
         "427",
         "140.00591495229415"
        ],
        [
         "428",
         "140.08702636329642"
        ],
        [
         "429",
         "140.1667174060997"
        ],
        [
         "430",
         "140.24501295323176"
        ],
        [
         "431",
         "140.32193744166946"
        ],
        [
         "432",
         "140.3975148804658"
        ],
        [
         "433",
         "140.4717688582435"
        ],
        [
         "434",
         "140.54472255055734"
        ],
        [
         "435",
         "140.6163987271273"
        ],
        [
         "436",
         "140.68681975894555"
        ],
        [
         "437",
         "140.75600762525852"
        ],
        [
         "438",
         "140.82398392042688"
        ],
        [
         "439",
         "140.89076986066559"
        ],
        [
         "440",
         "140.95638629066542"
        ],
        [
         "441",
         "141.02085369009916"
        ],
        [
         "442",
         "141.0841921800133"
        ],
        [
         "443",
         "141.14642152910827"
        ],
        [
         "444",
         "141.2075611599083"
        ],
        [
         "445",
         "141.2676301548235"
        ],
        [
         "446",
         "141.3266472621058"
        ],
        [
         "447",
         "141.38463090170035"
        ],
        [
         "448",
         "141.44159917099466"
        ],
        [
         "449",
         "141.49756985046707"
        ],
        [
         "450",
         "141.55256040923618"
        ],
        [
         "451",
         "141.60658801051318"
        ],
        [
         "452",
         "141.6596695169587"
        ],
        [
         "453",
         "141.71182149594594"
        ]
       ],
       "shape": {
        "columns": 1,
        "rows": 101
       }
      },
      "text/plain": [
       "404    137.683943\n",
       "405    137.805715\n",
       "406    137.925355\n",
       "407    138.042899\n",
       "408    138.158386\n",
       "          ...    \n",
       "500    143.362373\n",
       "501    143.384709\n",
       "502    143.406653\n",
       "503    143.428213\n",
       "504    143.449395\n",
       "Name: predicted_mean, Length: 101, dtype: float64"
      ]
     },
     "execution_count": 10,
     "metadata": {},
     "output_type": "execute_result"
    }
   ],
   "source": [
    "predicciones = res.forecast(len(test))\n",
    "predicciones"
   ]
  },
  {
   "cell_type": "code",
   "execution_count": 11,
   "id": "d79246e0",
   "metadata": {},
   "outputs": [
    {
     "data": {
      "application/vnd.microsoft.datawrangler.viewer.v0+json": {
       "columns": [
        {
         "name": "index",
         "rawType": "int64",
         "type": "integer"
        },
        {
         "name": "lower AAPL",
         "rawType": "float64",
         "type": "float"
        },
        {
         "name": "upper AAPL",
         "rawType": "float64",
         "type": "float"
        }
       ],
       "ref": "6a4db60f-c3bd-4cf8-b14b-90fd71ff63f9",
       "rows": [
        [
         "404",
         "132.1900822841156",
         "143.17780295635055"
        ],
        [
         "405",
         "130.10394965248352",
         "145.50748002968558"
        ],
        [
         "406",
         "128.57439574201254",
         "147.27631359623007"
        ],
        [
         "407",
         "127.33835125095132",
         "148.7474476397782"
        ],
        [
         "408",
         "126.29281217726884",
         "150.0239595366226"
        ],
        [
         "409",
         "125.38439052288905",
         "151.15930937422044"
        ],
        [
         "410",
         "124.58103570020464",
         "152.18561856717955"
        ],
        [
         "411",
         "123.86164449322355",
         "153.12405991821794"
        ],
        [
         "412",
         "123.2114045261146",
         "153.98951417133716"
        ],
        [
         "413",
         "122.61941858924098",
         "154.79294570712716"
        ],
        [
         "414",
         "122.07737543043334",
         "155.542731772458"
        ],
        [
         "415",
         "121.57875253990125",
         "156.24545971616635"
        ],
        [
         "416",
         "121.1183112851271",
         "156.90643187439855"
        ],
        [
         "417",
         "120.69176286787248",
         "157.52999963348665"
        ],
        [
         "418",
         "120.29553918066503",
         "158.11979259299656"
        ],
        [
         "419",
         "119.92663078727658",
         "158.6788806044417"
        ],
        [
         "420",
         "119.58246937074924",
         "159.20989134211388"
        ],
        [
         "421",
         "119.26084052604293",
         "159.71509752896137"
        ],
        [
         "422",
         "118.95981779768472",
         "160.19648291714162"
        ],
        [
         "423",
         "118.67771192868155",
         "160.65579305699134"
        ],
        [
         "424",
         "118.41303121797075",
         "161.09457495714594"
        ],
        [
         "425",
         "118.16445013399098",
         "161.5142084882306"
        ],
        [
         "426",
         "117.93078416157933",
         "161.91593155292318"
        ],
        [
         "427",
         "117.71096942204392",
         "162.30086048254438"
        ],
        [
         "428",
         "117.50404599540073",
         "162.6700067311921"
        ],
        [
         "429",
         "117.30914414771385",
         "163.02429066448556"
        ],
        [
         "430",
         "117.12547286246713",
         "163.36455304399638"
        ],
        [
         "431",
         "116.95231021717925",
         "163.69156466615968"
        ],
        [
         "432",
         "116.78899525116786",
         "164.0060345097637"
        ],
        [
         "433",
         "116.63492104836331",
         "164.3086166681237"
        ],
        [
         "434",
         "116.48952881783786",
         "164.5999162832768"
        ],
        [
         "435",
         "116.35230279947005",
         "164.88049465478454"
        ],
        [
         "436",
         "116.22276585657666",
         "165.15087366131445"
        ],
        [
         "437",
         "116.10047564405032",
         "165.4115396064667"
        ],
        [
         "438",
         "115.98502126144469",
         "165.66294657940907"
        ],
        [
         "439",
         "115.87602031693841",
         "165.90551940439275"
        ],
        [
         "440",
         "115.77311634121648",
         "166.13965624011436"
        ],
        [
         "441",
         "115.67597650080022",
         "166.36573087939811"
        ],
        [
         "442",
         "115.58428956880894",
         "166.58409479121767"
        ],
        [
         "443",
         "115.49776411799166",
         "166.79507894022487"
        ],
        [
         "444",
         "115.41612690645576",
         "166.99899541336083"
        ],
        [
         "445",
         "115.33912143110405",
         "167.19613887854297"
        ],
        [
         "446",
         "115.26650662757126",
         "167.38678789664036"
        ],
        [
         "447",
         "115.19805569858138",
         "167.5712061048193"
        ],
        [
         "448",
         "115.13355505525531",
         "167.749643286734"
        ],
        [
         "449",
         "115.07280335807782",
         "167.92233634285634"
        ],
        [
         "450",
         "115.01561064606423",
         "168.08951017240813"
        ],
        [
         "451",
         "114.96179754421145",
         "168.2513784768149"
        ],
        [
         "452",
         "114.91119454062569",
         "168.40814449329173"
        ],
        [
         "453",
         "114.86364132583037",
         "168.5600016660615"
        ]
       ],
       "shape": {
        "columns": 2,
        "rows": 101
       }
      },
      "text/html": [
       "<div>\n",
       "<style scoped>\n",
       "    .dataframe tbody tr th:only-of-type {\n",
       "        vertical-align: middle;\n",
       "    }\n",
       "\n",
       "    .dataframe tbody tr th {\n",
       "        vertical-align: top;\n",
       "    }\n",
       "\n",
       "    .dataframe thead th {\n",
       "        text-align: right;\n",
       "    }\n",
       "</style>\n",
       "<table border=\"1\" class=\"dataframe\">\n",
       "  <thead>\n",
       "    <tr style=\"text-align: right;\">\n",
       "      <th></th>\n",
       "      <th>lower AAPL</th>\n",
       "      <th>upper AAPL</th>\n",
       "    </tr>\n",
       "  </thead>\n",
       "  <tbody>\n",
       "    <tr>\n",
       "      <th>404</th>\n",
       "      <td>132.190082</td>\n",
       "      <td>143.177803</td>\n",
       "    </tr>\n",
       "    <tr>\n",
       "      <th>405</th>\n",
       "      <td>130.103950</td>\n",
       "      <td>145.507480</td>\n",
       "    </tr>\n",
       "    <tr>\n",
       "      <th>406</th>\n",
       "      <td>128.574396</td>\n",
       "      <td>147.276314</td>\n",
       "    </tr>\n",
       "    <tr>\n",
       "      <th>407</th>\n",
       "      <td>127.338351</td>\n",
       "      <td>148.747448</td>\n",
       "    </tr>\n",
       "    <tr>\n",
       "      <th>408</th>\n",
       "      <td>126.292812</td>\n",
       "      <td>150.023960</td>\n",
       "    </tr>\n",
       "    <tr>\n",
       "      <th>...</th>\n",
       "      <td>...</td>\n",
       "      <td>...</td>\n",
       "    </tr>\n",
       "    <tr>\n",
       "      <th>500</th>\n",
       "      <td>114.359306</td>\n",
       "      <td>172.365440</td>\n",
       "    </tr>\n",
       "    <tr>\n",
       "      <th>501</th>\n",
       "      <td>114.364749</td>\n",
       "      <td>172.404669</td>\n",
       "    </tr>\n",
       "    <tr>\n",
       "      <th>502</th>\n",
       "      <td>114.370396</td>\n",
       "      <td>172.442910</td>\n",
       "    </tr>\n",
       "    <tr>\n",
       "      <th>503</th>\n",
       "      <td>114.376234</td>\n",
       "      <td>172.480192</td>\n",
       "    </tr>\n",
       "    <tr>\n",
       "      <th>504</th>\n",
       "      <td>114.382247</td>\n",
       "      <td>172.516543</td>\n",
       "    </tr>\n",
       "  </tbody>\n",
       "</table>\n",
       "<p>101 rows × 2 columns</p>\n",
       "</div>"
      ],
      "text/plain": [
       "     lower AAPL  upper AAPL\n",
       "404  132.190082  143.177803\n",
       "405  130.103950  145.507480\n",
       "406  128.574396  147.276314\n",
       "407  127.338351  148.747448\n",
       "408  126.292812  150.023960\n",
       "..          ...         ...\n",
       "500  114.359306  172.365440\n",
       "501  114.364749  172.404669\n",
       "502  114.370396  172.442910\n",
       "503  114.376234  172.480192\n",
       "504  114.382247  172.516543\n",
       "\n",
       "[101 rows x 2 columns]"
      ]
     },
     "execution_count": 11,
     "metadata": {},
     "output_type": "execute_result"
    }
   ],
   "source": [
    "conf = res.get_forecast(len(test)).conf_int(alpha=0.05)\n",
    "conf"
   ]
  },
  {
   "cell_type": "code",
   "execution_count": 12,
   "id": "69672200",
   "metadata": {},
   "outputs": [
    {
     "name": "stdout",
     "output_type": "stream",
     "text": [
      "AAPL        mean    mean_se  mean_ci_lower  mean_ci_upper\n",
      "404   137.683943   2.803041     132.190082     143.177803\n",
      "405   137.805715   3.929544     130.103950     145.507480\n",
      "406   137.925355   4.770985     128.574396     147.276314\n",
      "407   138.042899   5.461605     127.338351     148.747448\n",
      "408   138.158386   6.053975     126.292812     150.023960\n",
      "..           ...        ...            ...            ...\n",
      "500   143.362373  14.797755     114.359306     172.365440\n",
      "501   143.384709  14.806374     114.364749     172.404669\n",
      "502   143.406653  14.814689     114.370396     172.442910\n",
      "503   143.428213  14.822711     114.376234     172.480192\n",
      "504   143.449395  14.830450     114.382247     172.516543\n",
      "\n",
      "[101 rows x 4 columns]\n"
     ]
    }
   ],
   "source": [
    "fcast_res = res.get_forecast(len(test))\n",
    "print(fcast_res.summary_frame(alpha=0.05))"
   ]
  },
  {
   "cell_type": "code",
   "execution_count": 13,
   "id": "e94cf964",
   "metadata": {},
   "outputs": [],
   "source": [
    "test = pd.DataFrame(test)\n",
    "predicciones = pd.DataFrame(predicciones)\n",
    "test = test.reset_index()\n",
    "predicciones = predicciones.reset_index()"
   ]
  },
  {
   "cell_type": "code",
   "execution_count": 14,
   "id": "d61bf828",
   "metadata": {},
   "outputs": [
    {
     "data": {
      "application/vnd.microsoft.datawrangler.viewer.v0+json": {
       "columns": [
        {
         "name": "index",
         "rawType": "int64",
         "type": "integer"
        },
        {
         "name": "Date",
         "rawType": "datetime64[ns]",
         "type": "datetime"
        },
        {
         "name": "AAPL",
         "rawType": "float64",
         "type": "float"
        }
       ],
       "ref": "5a08c430-c382-4b40-a768-e4fd3e685a0c",
       "rows": [
        [
         "0",
         "2022-11-09 00:00:00",
         "132.99"
        ],
        [
         "1",
         "2022-11-10 00:00:00",
         "144.83"
        ],
        [
         "2",
         "2022-11-11 00:00:00",
         "147.62"
        ],
        [
         "3",
         "2022-11-14 00:00:00",
         "146.22"
        ],
        [
         "4",
         "2022-11-15 00:00:00",
         "147.95"
        ],
        [
         "5",
         "2022-11-16 00:00:00",
         "146.72"
        ],
        [
         "6",
         "2022-11-17 00:00:00",
         "148.62"
        ],
        [
         "7",
         "2022-11-18 00:00:00",
         "149.19"
        ],
        [
         "8",
         "2022-11-21 00:00:00",
         "145.95"
        ],
        [
         "9",
         "2022-11-22 00:00:00",
         "148.09"
        ],
        [
         "10",
         "2022-11-23 00:00:00",
         "148.97"
        ],
        [
         "11",
         "2022-11-25 00:00:00",
         "146.05"
        ],
        [
         "12",
         "2022-11-28 00:00:00",
         "142.21"
        ],
        [
         "13",
         "2022-11-29 00:00:00",
         "139.21"
        ],
        [
         "14",
         "2022-11-30 00:00:00",
         "145.97"
        ],
        [
         "15",
         "2022-12-01 00:00:00",
         "146.25"
        ],
        [
         "16",
         "2022-12-02 00:00:00",
         "145.75"
        ],
        [
         "17",
         "2022-12-05 00:00:00",
         "144.59"
        ],
        [
         "18",
         "2022-12-06 00:00:00",
         "140.92"
        ],
        [
         "19",
         "2022-12-07 00:00:00",
         "138.98"
        ],
        [
         "20",
         "2022-12-08 00:00:00",
         "140.67"
        ],
        [
         "21",
         "2022-12-09 00:00:00",
         "140.18"
        ],
        [
         "22",
         "2022-12-12 00:00:00",
         "142.48"
        ],
        [
         "23",
         "2022-12-13 00:00:00",
         "143.45"
        ],
        [
         "24",
         "2022-12-14 00:00:00",
         "141.22"
        ],
        [
         "25",
         "2022-12-15 00:00:00",
         "134.6"
        ],
        [
         "26",
         "2022-12-16 00:00:00",
         "132.64"
        ],
        [
         "27",
         "2022-12-19 00:00:00",
         "130.53"
        ],
        [
         "28",
         "2022-12-20 00:00:00",
         "130.46"
        ],
        [
         "29",
         "2022-12-21 00:00:00",
         "133.57"
        ],
        [
         "30",
         "2022-12-22 00:00:00",
         "130.39"
        ],
        [
         "31",
         "2022-12-23 00:00:00",
         "130.03"
        ],
        [
         "32",
         "2022-12-27 00:00:00",
         "128.22"
        ],
        [
         "33",
         "2022-12-28 00:00:00",
         "124.29"
        ],
        [
         "34",
         "2022-12-29 00:00:00",
         "127.81"
        ],
        [
         "35",
         "2022-12-30 00:00:00",
         "128.12"
        ],
        [
         "36",
         "2023-01-03 00:00:00",
         "123.33"
        ],
        [
         "37",
         "2023-01-04 00:00:00",
         "124.6"
        ],
        [
         "38",
         "2023-01-05 00:00:00",
         "123.28"
        ],
        [
         "39",
         "2023-01-06 00:00:00",
         "127.82"
        ],
        [
         "40",
         "2023-01-09 00:00:00",
         "128.34"
        ],
        [
         "41",
         "2023-01-10 00:00:00",
         "128.91"
        ],
        [
         "42",
         "2023-01-11 00:00:00",
         "131.63"
        ],
        [
         "43",
         "2023-01-12 00:00:00",
         "131.55"
        ],
        [
         "44",
         "2023-01-13 00:00:00",
         "132.89"
        ],
        [
         "45",
         "2023-01-17 00:00:00",
         "134.05"
        ],
        [
         "46",
         "2023-01-18 00:00:00",
         "133.33"
        ],
        [
         "47",
         "2023-01-19 00:00:00",
         "133.39"
        ],
        [
         "48",
         "2023-01-20 00:00:00",
         "135.95"
        ],
        [
         "49",
         "2023-01-23 00:00:00",
         "139.15"
        ]
       ],
       "shape": {
        "columns": 2,
        "rows": 101
       }
      },
      "text/html": [
       "<div>\n",
       "<style scoped>\n",
       "    .dataframe tbody tr th:only-of-type {\n",
       "        vertical-align: middle;\n",
       "    }\n",
       "\n",
       "    .dataframe tbody tr th {\n",
       "        vertical-align: top;\n",
       "    }\n",
       "\n",
       "    .dataframe thead th {\n",
       "        text-align: right;\n",
       "    }\n",
       "</style>\n",
       "<table border=\"1\" class=\"dataframe\">\n",
       "  <thead>\n",
       "    <tr style=\"text-align: right;\">\n",
       "      <th>Ticker</th>\n",
       "      <th>Date</th>\n",
       "      <th>AAPL</th>\n",
       "    </tr>\n",
       "  </thead>\n",
       "  <tbody>\n",
       "    <tr>\n",
       "      <th>0</th>\n",
       "      <td>2022-11-09</td>\n",
       "      <td>132.99</td>\n",
       "    </tr>\n",
       "    <tr>\n",
       "      <th>1</th>\n",
       "      <td>2022-11-10</td>\n",
       "      <td>144.83</td>\n",
       "    </tr>\n",
       "    <tr>\n",
       "      <th>2</th>\n",
       "      <td>2022-11-11</td>\n",
       "      <td>147.62</td>\n",
       "    </tr>\n",
       "    <tr>\n",
       "      <th>3</th>\n",
       "      <td>2022-11-14</td>\n",
       "      <td>146.22</td>\n",
       "    </tr>\n",
       "    <tr>\n",
       "      <th>4</th>\n",
       "      <td>2022-11-15</td>\n",
       "      <td>147.95</td>\n",
       "    </tr>\n",
       "    <tr>\n",
       "      <th>...</th>\n",
       "      <td>...</td>\n",
       "      <td>...</td>\n",
       "    </tr>\n",
       "    <tr>\n",
       "      <th>96</th>\n",
       "      <td>2023-03-30</td>\n",
       "      <td>160.35</td>\n",
       "    </tr>\n",
       "    <tr>\n",
       "      <th>97</th>\n",
       "      <td>2023-03-31</td>\n",
       "      <td>162.86</td>\n",
       "    </tr>\n",
       "    <tr>\n",
       "      <th>98</th>\n",
       "      <td>2023-04-03</td>\n",
       "      <td>164.11</td>\n",
       "    </tr>\n",
       "    <tr>\n",
       "      <th>99</th>\n",
       "      <td>2023-04-04</td>\n",
       "      <td>163.58</td>\n",
       "    </tr>\n",
       "    <tr>\n",
       "      <th>100</th>\n",
       "      <td>2023-04-05</td>\n",
       "      <td>161.73</td>\n",
       "    </tr>\n",
       "  </tbody>\n",
       "</table>\n",
       "<p>101 rows × 2 columns</p>\n",
       "</div>"
      ],
      "text/plain": [
       "Ticker       Date    AAPL\n",
       "0      2022-11-09  132.99\n",
       "1      2022-11-10  144.83\n",
       "2      2022-11-11  147.62\n",
       "3      2022-11-14  146.22\n",
       "4      2022-11-15  147.95\n",
       "..            ...     ...\n",
       "96     2023-03-30  160.35\n",
       "97     2023-03-31  162.86\n",
       "98     2023-04-03  164.11\n",
       "99     2023-04-04  163.58\n",
       "100    2023-04-05  161.73\n",
       "\n",
       "[101 rows x 2 columns]"
      ]
     },
     "execution_count": 14,
     "metadata": {},
     "output_type": "execute_result"
    }
   ],
   "source": [
    "test"
   ]
  },
  {
   "cell_type": "code",
   "execution_count": 15,
   "id": "71039196",
   "metadata": {},
   "outputs": [
    {
     "data": {
      "application/vnd.microsoft.datawrangler.viewer.v0+json": {
       "columns": [
        {
         "name": "index",
         "rawType": "int64",
         "type": "integer"
        },
        {
         "name": "index",
         "rawType": "int64",
         "type": "integer"
        },
        {
         "name": "predicted_mean",
         "rawType": "float64",
         "type": "float"
        }
       ],
       "ref": "6eb937b7-b24a-4ad0-94de-c1c176060373",
       "rows": [
        [
         "0",
         "404",
         "137.68394262023307"
        ],
        [
         "1",
         "405",
         "137.80571484108455"
        ],
        [
         "2",
         "406",
         "137.9253546691213"
        ],
        [
         "3",
         "407",
         "138.04289944536475"
        ],
        [
         "4",
         "408",
         "138.15838585694573"
        ],
        [
         "5",
         "409",
         "138.27184994855475"
        ],
        [
         "6",
         "410",
         "138.3833271336921"
        ],
        [
         "7",
         "411",
         "138.49285220572074"
        ],
        [
         "8",
         "412",
         "138.60045934872588"
        ],
        [
         "9",
         "413",
         "138.70618214818407"
        ],
        [
         "10",
         "414",
         "138.81005360144567"
        ],
        [
         "11",
         "415",
         "138.9121061280338"
        ],
        [
         "12",
         "416",
         "139.01237157976283"
        ],
        [
         "13",
         "417",
         "139.11088125067957"
        ],
        [
         "14",
         "418",
         "139.2076658868308"
        ],
        [
         "15",
         "419",
         "139.30275569585913"
        ],
        [
         "16",
         "420",
         "139.39618035643156"
        ],
        [
         "17",
         "421",
         "139.48796902750215"
        ],
        [
         "18",
         "422",
         "139.57815035741316"
        ],
        [
         "19",
         "423",
         "139.66675249283645"
        ],
        [
         "20",
         "424",
         "139.75380308755834"
        ],
        [
         "21",
         "425",
         "139.8393293111108"
        ],
        [
         "22",
         "426",
         "139.92335785725126"
        ],
        [
         "23",
         "427",
         "140.00591495229415"
        ],
        [
         "24",
         "428",
         "140.08702636329642"
        ],
        [
         "25",
         "429",
         "140.1667174060997"
        ],
        [
         "26",
         "430",
         "140.24501295323176"
        ],
        [
         "27",
         "431",
         "140.32193744166946"
        ],
        [
         "28",
         "432",
         "140.3975148804658"
        ],
        [
         "29",
         "433",
         "140.4717688582435"
        ],
        [
         "30",
         "434",
         "140.54472255055734"
        ],
        [
         "31",
         "435",
         "140.6163987271273"
        ],
        [
         "32",
         "436",
         "140.68681975894555"
        ],
        [
         "33",
         "437",
         "140.75600762525852"
        ],
        [
         "34",
         "438",
         "140.82398392042688"
        ],
        [
         "35",
         "439",
         "140.89076986066559"
        ],
        [
         "36",
         "440",
         "140.95638629066542"
        ],
        [
         "37",
         "441",
         "141.02085369009916"
        ],
        [
         "38",
         "442",
         "141.0841921800133"
        ],
        [
         "39",
         "443",
         "141.14642152910827"
        ],
        [
         "40",
         "444",
         "141.2075611599083"
        ],
        [
         "41",
         "445",
         "141.2676301548235"
        ],
        [
         "42",
         "446",
         "141.3266472621058"
        ],
        [
         "43",
         "447",
         "141.38463090170035"
        ],
        [
         "44",
         "448",
         "141.44159917099466"
        ],
        [
         "45",
         "449",
         "141.49756985046707"
        ],
        [
         "46",
         "450",
         "141.55256040923618"
        ],
        [
         "47",
         "451",
         "141.60658801051318"
        ],
        [
         "48",
         "452",
         "141.6596695169587"
        ],
        [
         "49",
         "453",
         "141.71182149594594"
        ]
       ],
       "shape": {
        "columns": 2,
        "rows": 101
       }
      },
      "text/html": [
       "<div>\n",
       "<style scoped>\n",
       "    .dataframe tbody tr th:only-of-type {\n",
       "        vertical-align: middle;\n",
       "    }\n",
       "\n",
       "    .dataframe tbody tr th {\n",
       "        vertical-align: top;\n",
       "    }\n",
       "\n",
       "    .dataframe thead th {\n",
       "        text-align: right;\n",
       "    }\n",
       "</style>\n",
       "<table border=\"1\" class=\"dataframe\">\n",
       "  <thead>\n",
       "    <tr style=\"text-align: right;\">\n",
       "      <th></th>\n",
       "      <th>index</th>\n",
       "      <th>predicted_mean</th>\n",
       "    </tr>\n",
       "  </thead>\n",
       "  <tbody>\n",
       "    <tr>\n",
       "      <th>0</th>\n",
       "      <td>404</td>\n",
       "      <td>137.683943</td>\n",
       "    </tr>\n",
       "    <tr>\n",
       "      <th>1</th>\n",
       "      <td>405</td>\n",
       "      <td>137.805715</td>\n",
       "    </tr>\n",
       "    <tr>\n",
       "      <th>2</th>\n",
       "      <td>406</td>\n",
       "      <td>137.925355</td>\n",
       "    </tr>\n",
       "    <tr>\n",
       "      <th>3</th>\n",
       "      <td>407</td>\n",
       "      <td>138.042899</td>\n",
       "    </tr>\n",
       "    <tr>\n",
       "      <th>4</th>\n",
       "      <td>408</td>\n",
       "      <td>138.158386</td>\n",
       "    </tr>\n",
       "    <tr>\n",
       "      <th>...</th>\n",
       "      <td>...</td>\n",
       "      <td>...</td>\n",
       "    </tr>\n",
       "    <tr>\n",
       "      <th>96</th>\n",
       "      <td>500</td>\n",
       "      <td>143.362373</td>\n",
       "    </tr>\n",
       "    <tr>\n",
       "      <th>97</th>\n",
       "      <td>501</td>\n",
       "      <td>143.384709</td>\n",
       "    </tr>\n",
       "    <tr>\n",
       "      <th>98</th>\n",
       "      <td>502</td>\n",
       "      <td>143.406653</td>\n",
       "    </tr>\n",
       "    <tr>\n",
       "      <th>99</th>\n",
       "      <td>503</td>\n",
       "      <td>143.428213</td>\n",
       "    </tr>\n",
       "    <tr>\n",
       "      <th>100</th>\n",
       "      <td>504</td>\n",
       "      <td>143.449395</td>\n",
       "    </tr>\n",
       "  </tbody>\n",
       "</table>\n",
       "<p>101 rows × 2 columns</p>\n",
       "</div>"
      ],
      "text/plain": [
       "     index  predicted_mean\n",
       "0      404      137.683943\n",
       "1      405      137.805715\n",
       "2      406      137.925355\n",
       "3      407      138.042899\n",
       "4      408      138.158386\n",
       "..     ...             ...\n",
       "96     500      143.362373\n",
       "97     501      143.384709\n",
       "98     502      143.406653\n",
       "99     503      143.428213\n",
       "100    504      143.449395\n",
       "\n",
       "[101 rows x 2 columns]"
      ]
     },
     "execution_count": 15,
     "metadata": {},
     "output_type": "execute_result"
    }
   ],
   "source": [
    "predicciones"
   ]
  },
  {
   "cell_type": "code",
   "execution_count": 16,
   "id": "dd4b24f4",
   "metadata": {},
   "outputs": [
    {
     "name": "stdout",
     "output_type": "stream",
     "text": [
      "El RMSE es:  9.58\n",
      "El MAPE es:  5.69 %\n"
     ]
    }
   ],
   "source": [
    "# calcular nivel de error al comparar predicciones vs real\n",
    "\n",
    "import numpy as np\n",
    "\n",
    "acumulador1 = 0\n",
    "acumulador2 = 0\n",
    "\n",
    "for contador in range(0, 101):\n",
    "    acumulador1 = acumulador1 + (test.iloc[contador][1] - predicciones.iloc[contador][1])**2\n",
    "    acumulador2 = acumulador2 + np.abs(test.iloc[contador][1] - predicciones.iloc[contador][1]) / test.iloc[contador][1]\n",
    "\n",
    "mse = acumulador1 / 101\n",
    "rmse = np.round(np.sqrt(mse), 2)\n",
    "mape = np.round((acumulador2 / 101) * 100, 2)\n",
    "print(\"El RMSE es: \", rmse)\n",
    "print(\"El MAPE es: \", mape, \"%\")"
   ]
  },
  {
   "cell_type": "code",
   "execution_count": 17,
   "id": "7d148dba",
   "metadata": {},
   "outputs": [
    {
     "data": {
      "application/vnd.microsoft.datawrangler.viewer.v0+json": {
       "columns": [
        {
         "name": "index",
         "rawType": "int64",
         "type": "integer"
        },
        {
         "name": "predicted_mean",
         "rawType": "float64",
         "type": "float"
        }
       ],
       "ref": "45ad85be-8a0b-439b-8cad-95fba97a0b7c",
       "rows": [
        [
         "505",
         "143.47020691238438"
        ],
        [
         "506",
         "143.4906539844079"
        ],
        [
         "507",
         "143.51074300112816"
        ],
        [
         "508",
         "143.53048023256758"
        ],
        [
         "509",
         "143.5498718389522"
        ]
       ],
       "shape": {
        "columns": 1,
        "rows": 5
       }
      },
      "text/plain": [
       "505    143.470207\n",
       "506    143.490654\n",
       "507    143.510743\n",
       "508    143.530480\n",
       "509    143.549872\n",
       "Name: predicted_mean, dtype: float64"
      ]
     },
     "execution_count": 17,
     "metadata": {},
     "output_type": "execute_result"
    }
   ],
   "source": [
    "# Pronostico de los siguientes 5 periodos posteriores al ultimo dato historico\n",
    "predicciones = res.forecast(len(test) + 5)\n",
    "predicciones.tail(5)"
   ]
  },
  {
   "cell_type": "code",
   "execution_count": 18,
   "id": "9d3924e4",
   "metadata": {},
   "outputs": [
    {
     "data": {
      "application/vnd.microsoft.datawrangler.viewer.v0+json": {
       "columns": [
        {
         "name": "index",
         "rawType": "int64",
         "type": "integer"
        },
        {
         "name": "lower AAPL",
         "rawType": "float64",
         "type": "float"
        },
        {
         "name": "upper AAPL",
         "rawType": "float64",
         "type": "float"
        }
       ],
       "ref": "cc5b3bfb-6888-4dff-b385-0f87f8f28e52",
       "rows": [
        [
         "505",
         "114.38842441953571",
         "172.55198940523306"
        ],
        [
         "506",
         "114.39475197898952",
         "172.5865559898263"
        ],
        [
         "507",
         "114.40121815228983",
         "172.6202678499665"
        ],
        [
         "508",
         "114.40781151538414",
         "172.65314894975103"
        ],
        [
         "509",
         "114.41452118038193",
         "172.68522249752252"
        ]
       ],
       "shape": {
        "columns": 2,
        "rows": 5
       }
      },
      "text/html": [
       "<div>\n",
       "<style scoped>\n",
       "    .dataframe tbody tr th:only-of-type {\n",
       "        vertical-align: middle;\n",
       "    }\n",
       "\n",
       "    .dataframe tbody tr th {\n",
       "        vertical-align: top;\n",
       "    }\n",
       "\n",
       "    .dataframe thead th {\n",
       "        text-align: right;\n",
       "    }\n",
       "</style>\n",
       "<table border=\"1\" class=\"dataframe\">\n",
       "  <thead>\n",
       "    <tr style=\"text-align: right;\">\n",
       "      <th></th>\n",
       "      <th>lower AAPL</th>\n",
       "      <th>upper AAPL</th>\n",
       "    </tr>\n",
       "  </thead>\n",
       "  <tbody>\n",
       "    <tr>\n",
       "      <th>505</th>\n",
       "      <td>114.388424</td>\n",
       "      <td>172.551989</td>\n",
       "    </tr>\n",
       "    <tr>\n",
       "      <th>506</th>\n",
       "      <td>114.394752</td>\n",
       "      <td>172.586556</td>\n",
       "    </tr>\n",
       "    <tr>\n",
       "      <th>507</th>\n",
       "      <td>114.401218</td>\n",
       "      <td>172.620268</td>\n",
       "    </tr>\n",
       "    <tr>\n",
       "      <th>508</th>\n",
       "      <td>114.407812</td>\n",
       "      <td>172.653149</td>\n",
       "    </tr>\n",
       "    <tr>\n",
       "      <th>509</th>\n",
       "      <td>114.414521</td>\n",
       "      <td>172.685222</td>\n",
       "    </tr>\n",
       "  </tbody>\n",
       "</table>\n",
       "</div>"
      ],
      "text/plain": [
       "     lower AAPL  upper AAPL\n",
       "505  114.388424  172.551989\n",
       "506  114.394752  172.586556\n",
       "507  114.401218  172.620268\n",
       "508  114.407812  172.653149\n",
       "509  114.414521  172.685222"
      ]
     },
     "execution_count": 18,
     "metadata": {},
     "output_type": "execute_result"
    }
   ],
   "source": [
    "conf = res.get_forecast(len(test) + 5).conf_int(alpha=0.05)\n",
    "conf.tail(5)"
   ]
  },
  {
   "cell_type": "code",
   "execution_count": 19,
   "id": "a2fd7f2b",
   "metadata": {},
   "outputs": [
    {
     "data": {
      "application/vnd.microsoft.datawrangler.viewer.v0+json": {
       "columns": [
        {
         "name": "Date",
         "rawType": "datetime64[ns]",
         "type": "datetime"
        },
        {
         "name": "AAPL",
         "rawType": "float64",
         "type": "float"
        }
       ],
       "ref": "0a32c0e5-2b43-4da0-9f5c-1c3a18500524",
       "rows": [
        [
         "2022-11-09 00:00:00",
         "132.99"
        ],
        [
         "2022-11-10 00:00:00",
         "144.83"
        ],
        [
         "2022-11-11 00:00:00",
         "147.62"
        ],
        [
         "2022-11-14 00:00:00",
         "146.22"
        ],
        [
         "2022-11-15 00:00:00",
         "147.95"
        ],
        [
         "2022-11-16 00:00:00",
         "146.72"
        ],
        [
         "2022-11-17 00:00:00",
         "148.62"
        ],
        [
         "2022-11-18 00:00:00",
         "149.19"
        ],
        [
         "2022-11-21 00:00:00",
         "145.95"
        ],
        [
         "2022-11-22 00:00:00",
         "148.09"
        ],
        [
         "2022-11-23 00:00:00",
         "148.97"
        ],
        [
         "2022-11-25 00:00:00",
         "146.05"
        ],
        [
         "2022-11-28 00:00:00",
         "142.21"
        ],
        [
         "2022-11-29 00:00:00",
         "139.21"
        ],
        [
         "2022-11-30 00:00:00",
         "145.97"
        ],
        [
         "2022-12-01 00:00:00",
         "146.25"
        ],
        [
         "2022-12-02 00:00:00",
         "145.75"
        ],
        [
         "2022-12-05 00:00:00",
         "144.59"
        ],
        [
         "2022-12-06 00:00:00",
         "140.92"
        ],
        [
         "2022-12-07 00:00:00",
         "138.98"
        ],
        [
         "2022-12-08 00:00:00",
         "140.67"
        ],
        [
         "2022-12-09 00:00:00",
         "140.18"
        ],
        [
         "2022-12-12 00:00:00",
         "142.48"
        ],
        [
         "2022-12-13 00:00:00",
         "143.45"
        ],
        [
         "2022-12-14 00:00:00",
         "141.22"
        ],
        [
         "2022-12-15 00:00:00",
         "134.6"
        ],
        [
         "2022-12-16 00:00:00",
         "132.64"
        ],
        [
         "2022-12-19 00:00:00",
         "130.53"
        ],
        [
         "2022-12-20 00:00:00",
         "130.46"
        ],
        [
         "2022-12-21 00:00:00",
         "133.57"
        ],
        [
         "2022-12-22 00:00:00",
         "130.39"
        ],
        [
         "2022-12-23 00:00:00",
         "130.03"
        ],
        [
         "2022-12-27 00:00:00",
         "128.22"
        ],
        [
         "2022-12-28 00:00:00",
         "124.29"
        ],
        [
         "2022-12-29 00:00:00",
         "127.81"
        ],
        [
         "2022-12-30 00:00:00",
         "128.12"
        ],
        [
         "2023-01-03 00:00:00",
         "123.33"
        ],
        [
         "2023-01-04 00:00:00",
         "124.6"
        ],
        [
         "2023-01-05 00:00:00",
         "123.28"
        ],
        [
         "2023-01-06 00:00:00",
         "127.82"
        ],
        [
         "2023-01-09 00:00:00",
         "128.34"
        ],
        [
         "2023-01-10 00:00:00",
         "128.91"
        ],
        [
         "2023-01-11 00:00:00",
         "131.63"
        ],
        [
         "2023-01-12 00:00:00",
         "131.55"
        ],
        [
         "2023-01-13 00:00:00",
         "132.89"
        ],
        [
         "2023-01-17 00:00:00",
         "134.05"
        ],
        [
         "2023-01-18 00:00:00",
         "133.33"
        ],
        [
         "2023-01-19 00:00:00",
         "133.39"
        ],
        [
         "2023-01-20 00:00:00",
         "135.95"
        ],
        [
         "2023-01-23 00:00:00",
         "139.15"
        ]
       ],
       "shape": {
        "columns": 1,
        "rows": 101
       }
      },
      "text/html": [
       "<div>\n",
       "<style scoped>\n",
       "    .dataframe tbody tr th:only-of-type {\n",
       "        vertical-align: middle;\n",
       "    }\n",
       "\n",
       "    .dataframe tbody tr th {\n",
       "        vertical-align: top;\n",
       "    }\n",
       "\n",
       "    .dataframe thead th {\n",
       "        text-align: right;\n",
       "    }\n",
       "</style>\n",
       "<table border=\"1\" class=\"dataframe\">\n",
       "  <thead>\n",
       "    <tr style=\"text-align: right;\">\n",
       "      <th>Ticker</th>\n",
       "      <th>AAPL</th>\n",
       "    </tr>\n",
       "    <tr>\n",
       "      <th>Date</th>\n",
       "      <th></th>\n",
       "    </tr>\n",
       "  </thead>\n",
       "  <tbody>\n",
       "    <tr>\n",
       "      <th>2022-11-09</th>\n",
       "      <td>132.99</td>\n",
       "    </tr>\n",
       "    <tr>\n",
       "      <th>2022-11-10</th>\n",
       "      <td>144.83</td>\n",
       "    </tr>\n",
       "    <tr>\n",
       "      <th>2022-11-11</th>\n",
       "      <td>147.62</td>\n",
       "    </tr>\n",
       "    <tr>\n",
       "      <th>2022-11-14</th>\n",
       "      <td>146.22</td>\n",
       "    </tr>\n",
       "    <tr>\n",
       "      <th>2022-11-15</th>\n",
       "      <td>147.95</td>\n",
       "    </tr>\n",
       "    <tr>\n",
       "      <th>...</th>\n",
       "      <td>...</td>\n",
       "    </tr>\n",
       "    <tr>\n",
       "      <th>2023-03-30</th>\n",
       "      <td>160.35</td>\n",
       "    </tr>\n",
       "    <tr>\n",
       "      <th>2023-03-31</th>\n",
       "      <td>162.86</td>\n",
       "    </tr>\n",
       "    <tr>\n",
       "      <th>2023-04-03</th>\n",
       "      <td>164.11</td>\n",
       "    </tr>\n",
       "    <tr>\n",
       "      <th>2023-04-04</th>\n",
       "      <td>163.58</td>\n",
       "    </tr>\n",
       "    <tr>\n",
       "      <th>2023-04-05</th>\n",
       "      <td>161.73</td>\n",
       "    </tr>\n",
       "  </tbody>\n",
       "</table>\n",
       "<p>101 rows × 1 columns</p>\n",
       "</div>"
      ],
      "text/plain": [
       "Ticker        AAPL\n",
       "Date              \n",
       "2022-11-09  132.99\n",
       "2022-11-10  144.83\n",
       "2022-11-11  147.62\n",
       "2022-11-14  146.22\n",
       "2022-11-15  147.95\n",
       "...            ...\n",
       "2023-03-30  160.35\n",
       "2023-03-31  162.86\n",
       "2023-04-03  164.11\n",
       "2023-04-04  163.58\n",
       "2023-04-05  161.73\n",
       "\n",
       "[101 rows x 1 columns]"
      ]
     },
     "execution_count": 19,
     "metadata": {},
     "output_type": "execute_result"
    }
   ],
   "source": [
    "train = pd.DataFrame(train)\n",
    "lista = test['Date']\n",
    "lista = pd.DataFrame(lista)\n",
    "test.index = test['Date']\n",
    "test.drop(columns=['Date'], inplace=True)\n",
    "test"
   ]
  },
  {
   "cell_type": "code",
   "execution_count": 20,
   "id": "a99720c0",
   "metadata": {},
   "outputs": [
    {
     "data": {
      "application/vnd.microsoft.datawrangler.viewer.v0+json": {
       "columns": [
        {
         "name": "index",
         "rawType": "int64",
         "type": "integer"
        },
        {
         "name": "Date",
         "rawType": "datetime64[ns]",
         "type": "datetime"
        }
       ],
       "ref": "6aac8962-f687-4cf2-b50a-5f1f7515f396",
       "rows": [
        [
         "0",
         "2023-04-06 00:00:00"
        ],
        [
         "1",
         "2023-04-07 00:00:00"
        ],
        [
         "2",
         "2023-04-10 00:00:00"
        ],
        [
         "3",
         "2023-04-11 00:00:00"
        ],
        [
         "4",
         "2023-04-12 00:00:00"
        ]
       ],
       "shape": {
        "columns": 1,
        "rows": 5
       }
      },
      "text/html": [
       "<div>\n",
       "<style scoped>\n",
       "    .dataframe tbody tr th:only-of-type {\n",
       "        vertical-align: middle;\n",
       "    }\n",
       "\n",
       "    .dataframe tbody tr th {\n",
       "        vertical-align: top;\n",
       "    }\n",
       "\n",
       "    .dataframe thead th {\n",
       "        text-align: right;\n",
       "    }\n",
       "</style>\n",
       "<table border=\"1\" class=\"dataframe\">\n",
       "  <thead>\n",
       "    <tr style=\"text-align: right;\">\n",
       "      <th></th>\n",
       "      <th>Date</th>\n",
       "    </tr>\n",
       "  </thead>\n",
       "  <tbody>\n",
       "    <tr>\n",
       "      <th>0</th>\n",
       "      <td>2023-04-06</td>\n",
       "    </tr>\n",
       "    <tr>\n",
       "      <th>1</th>\n",
       "      <td>2023-04-07</td>\n",
       "    </tr>\n",
       "    <tr>\n",
       "      <th>2</th>\n",
       "      <td>2023-04-10</td>\n",
       "    </tr>\n",
       "    <tr>\n",
       "      <th>3</th>\n",
       "      <td>2023-04-11</td>\n",
       "    </tr>\n",
       "    <tr>\n",
       "      <th>4</th>\n",
       "      <td>2023-04-12</td>\n",
       "    </tr>\n",
       "  </tbody>\n",
       "</table>\n",
       "</div>"
      ],
      "text/plain": [
       "        Date\n",
       "0 2023-04-06\n",
       "1 2023-04-07\n",
       "2 2023-04-10\n",
       "3 2023-04-11\n",
       "4 2023-04-12"
      ]
     },
     "execution_count": 20,
     "metadata": {},
     "output_type": "execute_result"
    }
   ],
   "source": [
    "k = 5\n",
    "lista2 = []\n",
    "for day in range(1,6):\n",
    "        fecha = ((pd.to_datetime('2023-04-05')+pd.offsets.BDay(day)).date())\n",
    "        lista2.append(fecha)\n",
    "lista2 = pd.DataFrame(lista2, columns=['Date'])\n",
    "lista2['Date'] = pd.to_datetime(lista2['Date'])\n",
    "lista2"
   ]
  },
  {
   "cell_type": "code",
   "execution_count": 21,
   "id": "b7a3f7e7",
   "metadata": {},
   "outputs": [
    {
     "data": {
      "application/vnd.microsoft.datawrangler.viewer.v0+json": {
       "columns": [
        {
         "name": "index",
         "rawType": "int64",
         "type": "integer"
        },
        {
         "name": "index",
         "rawType": "int64",
         "type": "integer"
        },
        {
         "name": "Date",
         "rawType": "datetime64[ns]",
         "type": "datetime"
        }
       ],
       "ref": "4a35efff-e754-4513-80aa-eb65b74783bf",
       "rows": [
        [
         "0",
         "0",
         "2022-11-09 00:00:00"
        ],
        [
         "1",
         "1",
         "2022-11-10 00:00:00"
        ],
        [
         "2",
         "2",
         "2022-11-11 00:00:00"
        ],
        [
         "3",
         "3",
         "2022-11-14 00:00:00"
        ],
        [
         "4",
         "4",
         "2022-11-15 00:00:00"
        ],
        [
         "5",
         "5",
         "2022-11-16 00:00:00"
        ],
        [
         "6",
         "6",
         "2022-11-17 00:00:00"
        ],
        [
         "7",
         "7",
         "2022-11-18 00:00:00"
        ],
        [
         "8",
         "8",
         "2022-11-21 00:00:00"
        ],
        [
         "9",
         "9",
         "2022-11-22 00:00:00"
        ],
        [
         "10",
         "10",
         "2022-11-23 00:00:00"
        ],
        [
         "11",
         "11",
         "2022-11-25 00:00:00"
        ],
        [
         "12",
         "12",
         "2022-11-28 00:00:00"
        ],
        [
         "13",
         "13",
         "2022-11-29 00:00:00"
        ],
        [
         "14",
         "14",
         "2022-11-30 00:00:00"
        ],
        [
         "15",
         "15",
         "2022-12-01 00:00:00"
        ],
        [
         "16",
         "16",
         "2022-12-02 00:00:00"
        ],
        [
         "17",
         "17",
         "2022-12-05 00:00:00"
        ],
        [
         "18",
         "18",
         "2022-12-06 00:00:00"
        ],
        [
         "19",
         "19",
         "2022-12-07 00:00:00"
        ],
        [
         "20",
         "20",
         "2022-12-08 00:00:00"
        ],
        [
         "21",
         "21",
         "2022-12-09 00:00:00"
        ],
        [
         "22",
         "22",
         "2022-12-12 00:00:00"
        ],
        [
         "23",
         "23",
         "2022-12-13 00:00:00"
        ],
        [
         "24",
         "24",
         "2022-12-14 00:00:00"
        ],
        [
         "25",
         "25",
         "2022-12-15 00:00:00"
        ],
        [
         "26",
         "26",
         "2022-12-16 00:00:00"
        ],
        [
         "27",
         "27",
         "2022-12-19 00:00:00"
        ],
        [
         "28",
         "28",
         "2022-12-20 00:00:00"
        ],
        [
         "29",
         "29",
         "2022-12-21 00:00:00"
        ],
        [
         "30",
         "30",
         "2022-12-22 00:00:00"
        ],
        [
         "31",
         "31",
         "2022-12-23 00:00:00"
        ],
        [
         "32",
         "32",
         "2022-12-27 00:00:00"
        ],
        [
         "33",
         "33",
         "2022-12-28 00:00:00"
        ],
        [
         "34",
         "34",
         "2022-12-29 00:00:00"
        ],
        [
         "35",
         "35",
         "2022-12-30 00:00:00"
        ],
        [
         "36",
         "36",
         "2023-01-03 00:00:00"
        ],
        [
         "37",
         "37",
         "2023-01-04 00:00:00"
        ],
        [
         "38",
         "38",
         "2023-01-05 00:00:00"
        ],
        [
         "39",
         "39",
         "2023-01-06 00:00:00"
        ],
        [
         "40",
         "40",
         "2023-01-09 00:00:00"
        ],
        [
         "41",
         "41",
         "2023-01-10 00:00:00"
        ],
        [
         "42",
         "42",
         "2023-01-11 00:00:00"
        ],
        [
         "43",
         "43",
         "2023-01-12 00:00:00"
        ],
        [
         "44",
         "44",
         "2023-01-13 00:00:00"
        ],
        [
         "45",
         "45",
         "2023-01-17 00:00:00"
        ],
        [
         "46",
         "46",
         "2023-01-18 00:00:00"
        ],
        [
         "47",
         "47",
         "2023-01-19 00:00:00"
        ],
        [
         "48",
         "48",
         "2023-01-20 00:00:00"
        ],
        [
         "49",
         "49",
         "2023-01-23 00:00:00"
        ]
       ],
       "shape": {
        "columns": 2,
        "rows": 106
       }
      },
      "text/html": [
       "<div>\n",
       "<style scoped>\n",
       "    .dataframe tbody tr th:only-of-type {\n",
       "        vertical-align: middle;\n",
       "    }\n",
       "\n",
       "    .dataframe tbody tr th {\n",
       "        vertical-align: top;\n",
       "    }\n",
       "\n",
       "    .dataframe thead th {\n",
       "        text-align: right;\n",
       "    }\n",
       "</style>\n",
       "<table border=\"1\" class=\"dataframe\">\n",
       "  <thead>\n",
       "    <tr style=\"text-align: right;\">\n",
       "      <th></th>\n",
       "      <th>index</th>\n",
       "      <th>Date</th>\n",
       "    </tr>\n",
       "  </thead>\n",
       "  <tbody>\n",
       "    <tr>\n",
       "      <th>0</th>\n",
       "      <td>0</td>\n",
       "      <td>2022-11-09</td>\n",
       "    </tr>\n",
       "    <tr>\n",
       "      <th>1</th>\n",
       "      <td>1</td>\n",
       "      <td>2022-11-10</td>\n",
       "    </tr>\n",
       "    <tr>\n",
       "      <th>2</th>\n",
       "      <td>2</td>\n",
       "      <td>2022-11-11</td>\n",
       "    </tr>\n",
       "    <tr>\n",
       "      <th>3</th>\n",
       "      <td>3</td>\n",
       "      <td>2022-11-14</td>\n",
       "    </tr>\n",
       "    <tr>\n",
       "      <th>4</th>\n",
       "      <td>4</td>\n",
       "      <td>2022-11-15</td>\n",
       "    </tr>\n",
       "    <tr>\n",
       "      <th>...</th>\n",
       "      <td>...</td>\n",
       "      <td>...</td>\n",
       "    </tr>\n",
       "    <tr>\n",
       "      <th>101</th>\n",
       "      <td>0</td>\n",
       "      <td>2023-04-06</td>\n",
       "    </tr>\n",
       "    <tr>\n",
       "      <th>102</th>\n",
       "      <td>1</td>\n",
       "      <td>2023-04-07</td>\n",
       "    </tr>\n",
       "    <tr>\n",
       "      <th>103</th>\n",
       "      <td>2</td>\n",
       "      <td>2023-04-10</td>\n",
       "    </tr>\n",
       "    <tr>\n",
       "      <th>104</th>\n",
       "      <td>3</td>\n",
       "      <td>2023-04-11</td>\n",
       "    </tr>\n",
       "    <tr>\n",
       "      <th>105</th>\n",
       "      <td>4</td>\n",
       "      <td>2023-04-12</td>\n",
       "    </tr>\n",
       "  </tbody>\n",
       "</table>\n",
       "<p>106 rows × 2 columns</p>\n",
       "</div>"
      ],
      "text/plain": [
       "     index       Date\n",
       "0        0 2022-11-09\n",
       "1        1 2022-11-10\n",
       "2        2 2022-11-11\n",
       "3        3 2022-11-14\n",
       "4        4 2022-11-15\n",
       "..     ...        ...\n",
       "101      0 2023-04-06\n",
       "102      1 2023-04-07\n",
       "103      2 2023-04-10\n",
       "104      3 2023-04-11\n",
       "105      4 2023-04-12\n",
       "\n",
       "[106 rows x 2 columns]"
      ]
     },
     "execution_count": 21,
     "metadata": {},
     "output_type": "execute_result"
    }
   ],
   "source": [
    "fechas = pd.concat([lista, lista2])\n",
    "fechas = fechas.reset_index()\n",
    "fechas"
   ]
  },
  {
   "cell_type": "code",
   "execution_count": 22,
   "id": "3badb679",
   "metadata": {},
   "outputs": [
    {
     "data": {
      "application/vnd.microsoft.datawrangler.viewer.v0+json": {
       "columns": [
        {
         "name": "index",
         "rawType": "int64",
         "type": "integer"
        },
        {
         "name": "Date",
         "rawType": "datetime64[ns]",
         "type": "datetime"
        }
       ],
       "ref": "ef8253a0-068f-425e-a386-1d2d0e8482b2",
       "rows": [
        [
         "0",
         "2022-11-09 00:00:00"
        ],
        [
         "1",
         "2022-11-10 00:00:00"
        ],
        [
         "2",
         "2022-11-11 00:00:00"
        ],
        [
         "3",
         "2022-11-14 00:00:00"
        ],
        [
         "4",
         "2022-11-15 00:00:00"
        ],
        [
         "5",
         "2022-11-16 00:00:00"
        ],
        [
         "6",
         "2022-11-17 00:00:00"
        ],
        [
         "7",
         "2022-11-18 00:00:00"
        ],
        [
         "8",
         "2022-11-21 00:00:00"
        ],
        [
         "9",
         "2022-11-22 00:00:00"
        ],
        [
         "10",
         "2022-11-23 00:00:00"
        ],
        [
         "11",
         "2022-11-25 00:00:00"
        ],
        [
         "12",
         "2022-11-28 00:00:00"
        ],
        [
         "13",
         "2022-11-29 00:00:00"
        ],
        [
         "14",
         "2022-11-30 00:00:00"
        ],
        [
         "15",
         "2022-12-01 00:00:00"
        ],
        [
         "16",
         "2022-12-02 00:00:00"
        ],
        [
         "17",
         "2022-12-05 00:00:00"
        ],
        [
         "18",
         "2022-12-06 00:00:00"
        ],
        [
         "19",
         "2022-12-07 00:00:00"
        ],
        [
         "20",
         "2022-12-08 00:00:00"
        ],
        [
         "21",
         "2022-12-09 00:00:00"
        ],
        [
         "22",
         "2022-12-12 00:00:00"
        ],
        [
         "23",
         "2022-12-13 00:00:00"
        ],
        [
         "24",
         "2022-12-14 00:00:00"
        ],
        [
         "25",
         "2022-12-15 00:00:00"
        ],
        [
         "26",
         "2022-12-16 00:00:00"
        ],
        [
         "27",
         "2022-12-19 00:00:00"
        ],
        [
         "28",
         "2022-12-20 00:00:00"
        ],
        [
         "29",
         "2022-12-21 00:00:00"
        ],
        [
         "30",
         "2022-12-22 00:00:00"
        ],
        [
         "31",
         "2022-12-23 00:00:00"
        ],
        [
         "32",
         "2022-12-27 00:00:00"
        ],
        [
         "33",
         "2022-12-28 00:00:00"
        ],
        [
         "34",
         "2022-12-29 00:00:00"
        ],
        [
         "35",
         "2022-12-30 00:00:00"
        ],
        [
         "36",
         "2023-01-03 00:00:00"
        ],
        [
         "37",
         "2023-01-04 00:00:00"
        ],
        [
         "38",
         "2023-01-05 00:00:00"
        ],
        [
         "39",
         "2023-01-06 00:00:00"
        ],
        [
         "40",
         "2023-01-09 00:00:00"
        ],
        [
         "41",
         "2023-01-10 00:00:00"
        ],
        [
         "42",
         "2023-01-11 00:00:00"
        ],
        [
         "43",
         "2023-01-12 00:00:00"
        ],
        [
         "44",
         "2023-01-13 00:00:00"
        ],
        [
         "45",
         "2023-01-17 00:00:00"
        ],
        [
         "46",
         "2023-01-18 00:00:00"
        ],
        [
         "47",
         "2023-01-19 00:00:00"
        ],
        [
         "48",
         "2023-01-20 00:00:00"
        ],
        [
         "49",
         "2023-01-23 00:00:00"
        ]
       ],
       "shape": {
        "columns": 1,
        "rows": 106
       }
      },
      "text/html": [
       "<div>\n",
       "<style scoped>\n",
       "    .dataframe tbody tr th:only-of-type {\n",
       "        vertical-align: middle;\n",
       "    }\n",
       "\n",
       "    .dataframe tbody tr th {\n",
       "        vertical-align: top;\n",
       "    }\n",
       "\n",
       "    .dataframe thead th {\n",
       "        text-align: right;\n",
       "    }\n",
       "</style>\n",
       "<table border=\"1\" class=\"dataframe\">\n",
       "  <thead>\n",
       "    <tr style=\"text-align: right;\">\n",
       "      <th></th>\n",
       "      <th>Date</th>\n",
       "    </tr>\n",
       "  </thead>\n",
       "  <tbody>\n",
       "    <tr>\n",
       "      <th>0</th>\n",
       "      <td>2022-11-09</td>\n",
       "    </tr>\n",
       "    <tr>\n",
       "      <th>1</th>\n",
       "      <td>2022-11-10</td>\n",
       "    </tr>\n",
       "    <tr>\n",
       "      <th>2</th>\n",
       "      <td>2022-11-11</td>\n",
       "    </tr>\n",
       "    <tr>\n",
       "      <th>3</th>\n",
       "      <td>2022-11-14</td>\n",
       "    </tr>\n",
       "    <tr>\n",
       "      <th>4</th>\n",
       "      <td>2022-11-15</td>\n",
       "    </tr>\n",
       "    <tr>\n",
       "      <th>...</th>\n",
       "      <td>...</td>\n",
       "    </tr>\n",
       "    <tr>\n",
       "      <th>101</th>\n",
       "      <td>2023-04-06</td>\n",
       "    </tr>\n",
       "    <tr>\n",
       "      <th>102</th>\n",
       "      <td>2023-04-07</td>\n",
       "    </tr>\n",
       "    <tr>\n",
       "      <th>103</th>\n",
       "      <td>2023-04-10</td>\n",
       "    </tr>\n",
       "    <tr>\n",
       "      <th>104</th>\n",
       "      <td>2023-04-11</td>\n",
       "    </tr>\n",
       "    <tr>\n",
       "      <th>105</th>\n",
       "      <td>2023-04-12</td>\n",
       "    </tr>\n",
       "  </tbody>\n",
       "</table>\n",
       "<p>106 rows × 1 columns</p>\n",
       "</div>"
      ],
      "text/plain": [
       "          Date\n",
       "0   2022-11-09\n",
       "1   2022-11-10\n",
       "2   2022-11-11\n",
       "3   2022-11-14\n",
       "4   2022-11-15\n",
       "..         ...\n",
       "101 2023-04-06\n",
       "102 2023-04-07\n",
       "103 2023-04-10\n",
       "104 2023-04-11\n",
       "105 2023-04-12\n",
       "\n",
       "[106 rows x 1 columns]"
      ]
     },
     "execution_count": 22,
     "metadata": {},
     "output_type": "execute_result"
    }
   ],
   "source": [
    "fechas.drop(columns=['index'], inplace=True)\n",
    "fechas"
   ]
  },
  {
   "cell_type": "code",
   "execution_count": 23,
   "id": "8efb1532",
   "metadata": {},
   "outputs": [
    {
     "ename": "KeyError",
     "evalue": "\"['index'] not found in axis\"",
     "output_type": "error",
     "traceback": [
      "\u001b[31m---------------------------------------------------------------------------\u001b[39m",
      "\u001b[31mKeyError\u001b[39m                                  Traceback (most recent call last)",
      "\u001b[36mCell\u001b[39m\u001b[36m \u001b[39m\u001b[32mIn[23]\u001b[39m\u001b[32m, line 2\u001b[39m\n\u001b[32m      1\u001b[39m predicciones = pd.DataFrame(predicciones)\n\u001b[32m----> \u001b[39m\u001b[32m2\u001b[39m \u001b[43mpredicciones\u001b[49m\u001b[43m.\u001b[49m\u001b[43mdrop\u001b[49m\u001b[43m(\u001b[49m\u001b[43mcolumns\u001b[49m\u001b[43m=\u001b[49m\u001b[43m[\u001b[49m\u001b[33;43m'\u001b[39;49m\u001b[33;43mindex\u001b[39;49m\u001b[33;43m'\u001b[39;49m\u001b[43m]\u001b[49m\u001b[43m,\u001b[49m\u001b[43m \u001b[49m\u001b[43minplace\u001b[49m\u001b[43m=\u001b[49m\u001b[38;5;28;43;01mTrue\u001b[39;49;00m\u001b[43m)\u001b[49m\n\u001b[32m      3\u001b[39m predicciones\n",
      "\u001b[36mFile \u001b[39m\u001b[32m~\\AppData\\Local\\Packages\\PythonSoftwareFoundation.Python.3.13_qbz5n2kfra8p0\\LocalCache\\local-packages\\Python313\\site-packages\\pandas\\core\\frame.py:5588\u001b[39m, in \u001b[36mDataFrame.drop\u001b[39m\u001b[34m(self, labels, axis, index, columns, level, inplace, errors)\u001b[39m\n\u001b[32m   5440\u001b[39m \u001b[38;5;28;01mdef\u001b[39;00m \u001b[34mdrop\u001b[39m(\n\u001b[32m   5441\u001b[39m     \u001b[38;5;28mself\u001b[39m,\n\u001b[32m   5442\u001b[39m     labels: IndexLabel | \u001b[38;5;28;01mNone\u001b[39;00m = \u001b[38;5;28;01mNone\u001b[39;00m,\n\u001b[32m   (...)\u001b[39m\u001b[32m   5449\u001b[39m     errors: IgnoreRaise = \u001b[33m\"\u001b[39m\u001b[33mraise\u001b[39m\u001b[33m\"\u001b[39m,\n\u001b[32m   5450\u001b[39m ) -> DataFrame | \u001b[38;5;28;01mNone\u001b[39;00m:\n\u001b[32m   5451\u001b[39m \u001b[38;5;250m    \u001b[39m\u001b[33;03m\"\"\"\u001b[39;00m\n\u001b[32m   5452\u001b[39m \u001b[33;03m    Drop specified labels from rows or columns.\u001b[39;00m\n\u001b[32m   5453\u001b[39m \n\u001b[32m   (...)\u001b[39m\u001b[32m   5586\u001b[39m \u001b[33;03m            weight  1.0     0.8\u001b[39;00m\n\u001b[32m   5587\u001b[39m \u001b[33;03m    \"\"\"\u001b[39;00m\n\u001b[32m-> \u001b[39m\u001b[32m5588\u001b[39m     \u001b[38;5;28;01mreturn\u001b[39;00m \u001b[38;5;28;43msuper\u001b[39;49m\u001b[43m(\u001b[49m\u001b[43m)\u001b[49m\u001b[43m.\u001b[49m\u001b[43mdrop\u001b[49m\u001b[43m(\u001b[49m\n\u001b[32m   5589\u001b[39m \u001b[43m        \u001b[49m\u001b[43mlabels\u001b[49m\u001b[43m=\u001b[49m\u001b[43mlabels\u001b[49m\u001b[43m,\u001b[49m\n\u001b[32m   5590\u001b[39m \u001b[43m        \u001b[49m\u001b[43maxis\u001b[49m\u001b[43m=\u001b[49m\u001b[43maxis\u001b[49m\u001b[43m,\u001b[49m\n\u001b[32m   5591\u001b[39m \u001b[43m        \u001b[49m\u001b[43mindex\u001b[49m\u001b[43m=\u001b[49m\u001b[43mindex\u001b[49m\u001b[43m,\u001b[49m\n\u001b[32m   5592\u001b[39m \u001b[43m        \u001b[49m\u001b[43mcolumns\u001b[49m\u001b[43m=\u001b[49m\u001b[43mcolumns\u001b[49m\u001b[43m,\u001b[49m\n\u001b[32m   5593\u001b[39m \u001b[43m        \u001b[49m\u001b[43mlevel\u001b[49m\u001b[43m=\u001b[49m\u001b[43mlevel\u001b[49m\u001b[43m,\u001b[49m\n\u001b[32m   5594\u001b[39m \u001b[43m        \u001b[49m\u001b[43minplace\u001b[49m\u001b[43m=\u001b[49m\u001b[43minplace\u001b[49m\u001b[43m,\u001b[49m\n\u001b[32m   5595\u001b[39m \u001b[43m        \u001b[49m\u001b[43merrors\u001b[49m\u001b[43m=\u001b[49m\u001b[43merrors\u001b[49m\u001b[43m,\u001b[49m\n\u001b[32m   5596\u001b[39m \u001b[43m    \u001b[49m\u001b[43m)\u001b[49m\n",
      "\u001b[36mFile \u001b[39m\u001b[32m~\\AppData\\Local\\Packages\\PythonSoftwareFoundation.Python.3.13_qbz5n2kfra8p0\\LocalCache\\local-packages\\Python313\\site-packages\\pandas\\core\\generic.py:4807\u001b[39m, in \u001b[36mNDFrame.drop\u001b[39m\u001b[34m(self, labels, axis, index, columns, level, inplace, errors)\u001b[39m\n\u001b[32m   4805\u001b[39m \u001b[38;5;28;01mfor\u001b[39;00m axis, labels \u001b[38;5;129;01min\u001b[39;00m axes.items():\n\u001b[32m   4806\u001b[39m     \u001b[38;5;28;01mif\u001b[39;00m labels \u001b[38;5;129;01mis\u001b[39;00m \u001b[38;5;129;01mnot\u001b[39;00m \u001b[38;5;28;01mNone\u001b[39;00m:\n\u001b[32m-> \u001b[39m\u001b[32m4807\u001b[39m         obj = \u001b[43mobj\u001b[49m\u001b[43m.\u001b[49m\u001b[43m_drop_axis\u001b[49m\u001b[43m(\u001b[49m\u001b[43mlabels\u001b[49m\u001b[43m,\u001b[49m\u001b[43m \u001b[49m\u001b[43maxis\u001b[49m\u001b[43m,\u001b[49m\u001b[43m \u001b[49m\u001b[43mlevel\u001b[49m\u001b[43m=\u001b[49m\u001b[43mlevel\u001b[49m\u001b[43m,\u001b[49m\u001b[43m \u001b[49m\u001b[43merrors\u001b[49m\u001b[43m=\u001b[49m\u001b[43merrors\u001b[49m\u001b[43m)\u001b[49m\n\u001b[32m   4809\u001b[39m \u001b[38;5;28;01mif\u001b[39;00m inplace:\n\u001b[32m   4810\u001b[39m     \u001b[38;5;28mself\u001b[39m._update_inplace(obj)\n",
      "\u001b[36mFile \u001b[39m\u001b[32m~\\AppData\\Local\\Packages\\PythonSoftwareFoundation.Python.3.13_qbz5n2kfra8p0\\LocalCache\\local-packages\\Python313\\site-packages\\pandas\\core\\generic.py:4849\u001b[39m, in \u001b[36mNDFrame._drop_axis\u001b[39m\u001b[34m(self, labels, axis, level, errors, only_slice)\u001b[39m\n\u001b[32m   4847\u001b[39m         new_axis = axis.drop(labels, level=level, errors=errors)\n\u001b[32m   4848\u001b[39m     \u001b[38;5;28;01melse\u001b[39;00m:\n\u001b[32m-> \u001b[39m\u001b[32m4849\u001b[39m         new_axis = \u001b[43maxis\u001b[49m\u001b[43m.\u001b[49m\u001b[43mdrop\u001b[49m\u001b[43m(\u001b[49m\u001b[43mlabels\u001b[49m\u001b[43m,\u001b[49m\u001b[43m \u001b[49m\u001b[43merrors\u001b[49m\u001b[43m=\u001b[49m\u001b[43merrors\u001b[49m\u001b[43m)\u001b[49m\n\u001b[32m   4850\u001b[39m     indexer = axis.get_indexer(new_axis)\n\u001b[32m   4852\u001b[39m \u001b[38;5;66;03m# Case for non-unique axis\u001b[39;00m\n\u001b[32m   4853\u001b[39m \u001b[38;5;28;01melse\u001b[39;00m:\n",
      "\u001b[36mFile \u001b[39m\u001b[32m~\\AppData\\Local\\Packages\\PythonSoftwareFoundation.Python.3.13_qbz5n2kfra8p0\\LocalCache\\local-packages\\Python313\\site-packages\\pandas\\core\\indexes\\base.py:7136\u001b[39m, in \u001b[36mIndex.drop\u001b[39m\u001b[34m(self, labels, errors)\u001b[39m\n\u001b[32m   7134\u001b[39m \u001b[38;5;28;01mif\u001b[39;00m mask.any():\n\u001b[32m   7135\u001b[39m     \u001b[38;5;28;01mif\u001b[39;00m errors != \u001b[33m\"\u001b[39m\u001b[33mignore\u001b[39m\u001b[33m\"\u001b[39m:\n\u001b[32m-> \u001b[39m\u001b[32m7136\u001b[39m         \u001b[38;5;28;01mraise\u001b[39;00m \u001b[38;5;167;01mKeyError\u001b[39;00m(\u001b[33mf\u001b[39m\u001b[33m\"\u001b[39m\u001b[38;5;132;01m{\u001b[39;00mlabels[mask].tolist()\u001b[38;5;132;01m}\u001b[39;00m\u001b[33m not found in axis\u001b[39m\u001b[33m\"\u001b[39m)\n\u001b[32m   7137\u001b[39m     indexer = indexer[~mask]\n\u001b[32m   7138\u001b[39m \u001b[38;5;28;01mreturn\u001b[39;00m \u001b[38;5;28mself\u001b[39m.delete(indexer)\n",
      "\u001b[31mKeyError\u001b[39m: \"['index'] not found in axis\""
     ]
    }
   ],
   "source": [
    "predicciones = pd.DataFrame(predicciones)\n",
    "predicciones.drop(columns=['index'], inplace=True)\n",
    "predicciones"
   ]
  },
  {
   "cell_type": "code",
   "execution_count": null,
   "id": "888310b1",
   "metadata": {},
   "outputs": [
    {
     "data": {
      "application/vnd.microsoft.datawrangler.viewer.v0+json": {
       "columns": [
        {
         "name": "index",
         "rawType": "int64",
         "type": "integer"
        },
        {
         "name": "Date",
         "rawType": "datetime64[ns]",
         "type": "datetime"
        },
        {
         "name": "predicciones",
         "rawType": "float64",
         "type": "float"
        }
       ],
       "ref": "eb7ef817-436e-4b5f-b31f-6f1e4816bd16",
       "rows": [
        [
         "0",
         "2022-11-09 00:00:00",
         "137.68394272085456"
        ],
        [
         "1",
         "2022-11-10 00:00:00",
         "137.80571503682717"
        ],
        [
         "2",
         "2022-11-11 00:00:00",
         "137.92535495464642"
        ],
        [
         "3",
         "2022-11-14 00:00:00",
         "138.04289981549164"
        ],
        [
         "4",
         "2022-11-15 00:00:00",
         "138.1583863066475"
        ],
        [
         "5",
         "2022-11-16 00:00:00",
         "138.27185047295464"
        ],
        [
         "6",
         "2022-11-17 00:00:00",
         "138.38332772805973"
        ],
        [
         "7",
         "2022-11-18 00:00:00",
         "138.49285286546854"
        ],
        [
         "8",
         "2022-11-21 00:00:00",
         "138.60046006940547"
        ],
        [
         "9",
         "2022-11-22 00:00:00",
         "138.70618292548278"
        ],
        [
         "10",
         "2022-11-23 00:00:00",
         "138.81005443118323"
        ],
        [
         "11",
         "2022-11-25 00:00:00",
         "138.91210700615898"
        ],
        [
         "12",
         "2022-11-28 00:00:00",
         "139.01237250235016"
        ],
        [
         "13",
         "2022-11-29 00:00:00",
         "139.11088221392632"
        ],
        [
         "14",
         "2022-11-30 00:00:00",
         "139.20766688705368"
        ],
        [
         "15",
         "2022-12-01 00:00:00",
         "139.30275672949145"
        ],
        [
         "16",
         "2022-12-02 00:00:00",
         "139.39618142002016"
        ],
        [
         "17",
         "2022-12-05 00:00:00",
         "139.48797011770458"
        ],
        [
         "18",
         "2022-12-06 00:00:00",
         "139.5781514709949"
        ],
        [
         "19",
         "2022-12-07 00:00:00",
         "139.666753626668"
        ],
        [
         "20",
         "2022-12-08 00:00:00",
         "139.7538042386127"
        ],
        [
         "21",
         "2022-12-09 00:00:00",
         "139.83933047646076"
        ],
        [
         "22",
         "2022-12-12 00:00:00",
         "139.92335903406686"
        ],
        [
         "23",
         "2022-12-13 00:00:00",
         "140.00591613784016"
        ],
        [
         "24",
         "2022-12-14 00:00:00",
         "140.08702755492985"
        ],
        [
         "25",
         "2022-12-15 00:00:00",
         "140.1667186012675"
        ],
        [
         "26",
         "2022-12-16 00:00:00",
         "140.24501414946837"
        ],
        [
         "27",
         "2022-12-19 00:00:00",
         "140.3219386365946"
        ],
        [
         "28",
         "2022-12-20 00:00:00",
         "140.3975160717823"
        ],
        [
         "29",
         "2022-12-21 00:00:00",
         "140.47177004373498"
        ],
        [
         "30",
         "2022-12-22 00:00:00",
         "140.54472372808613"
        ],
        [
         "31",
         "2022-12-23 00:00:00",
         "140.61639989463242"
        ],
        [
         "32",
         "2022-12-27 00:00:00",
         "140.68682091444066"
        ],
        [
         "33",
         "2022-12-28 00:00:00",
         "140.75600876682986"
        ],
        [
         "34",
         "2022-12-29 00:00:00",
         "140.82398504623148"
        ],
        [
         "35",
         "2022-12-30 00:00:00",
         "140.8907709689292"
        ],
        [
         "36",
         "2023-01-03 00:00:00",
         "140.95638737968085"
        ],
        [
         "37",
         "2023-01-04 00:00:00",
         "141.02085475822432"
        ],
        [
         "38",
         "2023-01-05 00:00:00",
         "141.08419322566957"
        ],
        [
         "39",
         "2023-01-06 00:00:00",
         "141.14642255077868"
        ],
        [
         "40",
         "2023-01-09 00:00:00",
         "141.20756215613594"
        ],
        [
         "41",
         "2023-01-10 00:00:00",
         "141.26763112420983"
        ],
        [
         "42",
         "2023-01-11 00:00:00",
         "141.32664820330902"
        ],
        [
         "43",
         "2023-01-12 00:00:00",
         "141.3846318134339"
        ],
        [
         "44",
         "2023-01-13 00:00:00",
         "141.44160005202573"
        ],
        [
         "45",
         "2023-01-17 00:00:00",
         "141.497570699615"
        ],
        [
         "46",
         "2023-01-18 00:00:00",
         "141.5525612253711"
        ],
        [
         "47",
         "2023-01-19 00:00:00",
         "141.6065887925546"
        ],
        [
         "48",
         "2023-01-20 00:00:00",
         "141.6596702638741"
        ],
        [
         "49",
         "2023-01-23 00:00:00",
         "141.7118222067493"
        ]
       ],
       "shape": {
        "columns": 2,
        "rows": 106
       }
      },
      "text/html": [
       "<div>\n",
       "<style scoped>\n",
       "    .dataframe tbody tr th:only-of-type {\n",
       "        vertical-align: middle;\n",
       "    }\n",
       "\n",
       "    .dataframe tbody tr th {\n",
       "        vertical-align: top;\n",
       "    }\n",
       "\n",
       "    .dataframe thead th {\n",
       "        text-align: right;\n",
       "    }\n",
       "</style>\n",
       "<table border=\"1\" class=\"dataframe\">\n",
       "  <thead>\n",
       "    <tr style=\"text-align: right;\">\n",
       "      <th></th>\n",
       "      <th>Date</th>\n",
       "      <th>predicciones</th>\n",
       "    </tr>\n",
       "  </thead>\n",
       "  <tbody>\n",
       "    <tr>\n",
       "      <th>0</th>\n",
       "      <td>2022-11-09</td>\n",
       "      <td>137.683943</td>\n",
       "    </tr>\n",
       "    <tr>\n",
       "      <th>1</th>\n",
       "      <td>2022-11-10</td>\n",
       "      <td>137.805715</td>\n",
       "    </tr>\n",
       "    <tr>\n",
       "      <th>2</th>\n",
       "      <td>2022-11-11</td>\n",
       "      <td>137.925355</td>\n",
       "    </tr>\n",
       "    <tr>\n",
       "      <th>3</th>\n",
       "      <td>2022-11-14</td>\n",
       "      <td>138.042900</td>\n",
       "    </tr>\n",
       "    <tr>\n",
       "      <th>4</th>\n",
       "      <td>2022-11-15</td>\n",
       "      <td>138.158386</td>\n",
       "    </tr>\n",
       "    <tr>\n",
       "      <th>...</th>\n",
       "      <td>...</td>\n",
       "      <td>...</td>\n",
       "    </tr>\n",
       "    <tr>\n",
       "      <th>101</th>\n",
       "      <td>2023-04-06</td>\n",
       "      <td>143.470205</td>\n",
       "    </tr>\n",
       "    <tr>\n",
       "      <th>102</th>\n",
       "      <td>2023-04-07</td>\n",
       "      <td>143.490652</td>\n",
       "    </tr>\n",
       "    <tr>\n",
       "      <th>103</th>\n",
       "      <td>2023-04-10</td>\n",
       "      <td>143.510741</td>\n",
       "    </tr>\n",
       "    <tr>\n",
       "      <th>104</th>\n",
       "      <td>2023-04-11</td>\n",
       "      <td>143.530478</td>\n",
       "    </tr>\n",
       "    <tr>\n",
       "      <th>105</th>\n",
       "      <td>2023-04-12</td>\n",
       "      <td>143.549870</td>\n",
       "    </tr>\n",
       "  </tbody>\n",
       "</table>\n",
       "<p>106 rows × 2 columns</p>\n",
       "</div>"
      ],
      "text/plain": [
       "          Date  predicciones\n",
       "0   2022-11-09    137.683943\n",
       "1   2022-11-10    137.805715\n",
       "2   2022-11-11    137.925355\n",
       "3   2022-11-14    138.042900\n",
       "4   2022-11-15    138.158386\n",
       "..         ...           ...\n",
       "101 2023-04-06    143.470205\n",
       "102 2023-04-07    143.490652\n",
       "103 2023-04-10    143.510741\n",
       "104 2023-04-11    143.530478\n",
       "105 2023-04-12    143.549870\n",
       "\n",
       "[106 rows x 2 columns]"
      ]
     },
     "execution_count": 39,
     "metadata": {},
     "output_type": "execute_result"
    }
   ],
   "source": [
    "frames = [fechas, predicciones]\n",
    "resultado = pd.concat(frames, axis=1, join='inner')\n",
    "resultado.columns = ['Date','predicciones']\n",
    "resultado"
   ]
  },
  {
   "cell_type": "code",
   "execution_count": null,
   "id": "943a1225",
   "metadata": {},
   "outputs": [
    {
     "name": "stdout",
     "output_type": "stream",
     "text": [
      "Date            datetime64[ns]\n",
      "predicciones           float64\n",
      "dtype: object\n"
     ]
    }
   ],
   "source": [
    "print(resultado.dtypes)"
   ]
  },
  {
   "cell_type": "code",
   "execution_count": null,
   "id": "d0c4728a",
   "metadata": {},
   "outputs": [
    {
     "data": {
      "application/vnd.microsoft.datawrangler.viewer.v0+json": {
       "columns": [
        {
         "name": "Date",
         "rawType": "datetime64[ns]",
         "type": "datetime"
        },
        {
         "name": "predicciones",
         "rawType": "float64",
         "type": "float"
        }
       ],
       "ref": "8524160e-5fcf-4cde-a1d0-b5ee3927560e",
       "rows": [
        [
         "2022-11-09 00:00:00",
         "137.68394272085456"
        ],
        [
         "2022-11-10 00:00:00",
         "137.80571503682717"
        ],
        [
         "2022-11-11 00:00:00",
         "137.92535495464642"
        ],
        [
         "2022-11-14 00:00:00",
         "138.04289981549164"
        ],
        [
         "2022-11-15 00:00:00",
         "138.1583863066475"
        ],
        [
         "2022-11-16 00:00:00",
         "138.27185047295464"
        ],
        [
         "2022-11-17 00:00:00",
         "138.38332772805973"
        ],
        [
         "2022-11-18 00:00:00",
         "138.49285286546854"
        ],
        [
         "2022-11-21 00:00:00",
         "138.60046006940547"
        ],
        [
         "2022-11-22 00:00:00",
         "138.70618292548278"
        ],
        [
         "2022-11-23 00:00:00",
         "138.81005443118323"
        ],
        [
         "2022-11-25 00:00:00",
         "138.91210700615898"
        ],
        [
         "2022-11-28 00:00:00",
         "139.01237250235016"
        ],
        [
         "2022-11-29 00:00:00",
         "139.11088221392632"
        ],
        [
         "2022-11-30 00:00:00",
         "139.20766688705368"
        ],
        [
         "2022-12-01 00:00:00",
         "139.30275672949145"
        ],
        [
         "2022-12-02 00:00:00",
         "139.39618142002016"
        ],
        [
         "2022-12-05 00:00:00",
         "139.48797011770458"
        ],
        [
         "2022-12-06 00:00:00",
         "139.5781514709949"
        ],
        [
         "2022-12-07 00:00:00",
         "139.666753626668"
        ],
        [
         "2022-12-08 00:00:00",
         "139.7538042386127"
        ],
        [
         "2022-12-09 00:00:00",
         "139.83933047646076"
        ],
        [
         "2022-12-12 00:00:00",
         "139.92335903406686"
        ],
        [
         "2022-12-13 00:00:00",
         "140.00591613784016"
        ],
        [
         "2022-12-14 00:00:00",
         "140.08702755492985"
        ],
        [
         "2022-12-15 00:00:00",
         "140.1667186012675"
        ],
        [
         "2022-12-16 00:00:00",
         "140.24501414946837"
        ],
        [
         "2022-12-19 00:00:00",
         "140.3219386365946"
        ],
        [
         "2022-12-20 00:00:00",
         "140.3975160717823"
        ],
        [
         "2022-12-21 00:00:00",
         "140.47177004373498"
        ],
        [
         "2022-12-22 00:00:00",
         "140.54472372808613"
        ],
        [
         "2022-12-23 00:00:00",
         "140.61639989463242"
        ],
        [
         "2022-12-27 00:00:00",
         "140.68682091444066"
        ],
        [
         "2022-12-28 00:00:00",
         "140.75600876682986"
        ],
        [
         "2022-12-29 00:00:00",
         "140.82398504623148"
        ],
        [
         "2022-12-30 00:00:00",
         "140.8907709689292"
        ],
        [
         "2023-01-03 00:00:00",
         "140.95638737968085"
        ],
        [
         "2023-01-04 00:00:00",
         "141.02085475822432"
        ],
        [
         "2023-01-05 00:00:00",
         "141.08419322566957"
        ],
        [
         "2023-01-06 00:00:00",
         "141.14642255077868"
        ],
        [
         "2023-01-09 00:00:00",
         "141.20756215613594"
        ],
        [
         "2023-01-10 00:00:00",
         "141.26763112420983"
        ],
        [
         "2023-01-11 00:00:00",
         "141.32664820330902"
        ],
        [
         "2023-01-12 00:00:00",
         "141.3846318134339"
        ],
        [
         "2023-01-13 00:00:00",
         "141.44160005202573"
        ],
        [
         "2023-01-17 00:00:00",
         "141.497570699615"
        ],
        [
         "2023-01-18 00:00:00",
         "141.5525612253711"
        ],
        [
         "2023-01-19 00:00:00",
         "141.6065887925546"
        ],
        [
         "2023-01-20 00:00:00",
         "141.6596702638741"
        ],
        [
         "2023-01-23 00:00:00",
         "141.7118222067493"
        ]
       ],
       "shape": {
        "columns": 1,
        "rows": 106
       }
      },
      "text/html": [
       "<div>\n",
       "<style scoped>\n",
       "    .dataframe tbody tr th:only-of-type {\n",
       "        vertical-align: middle;\n",
       "    }\n",
       "\n",
       "    .dataframe tbody tr th {\n",
       "        vertical-align: top;\n",
       "    }\n",
       "\n",
       "    .dataframe thead th {\n",
       "        text-align: right;\n",
       "    }\n",
       "</style>\n",
       "<table border=\"1\" class=\"dataframe\">\n",
       "  <thead>\n",
       "    <tr style=\"text-align: right;\">\n",
       "      <th></th>\n",
       "      <th>predicciones</th>\n",
       "    </tr>\n",
       "    <tr>\n",
       "      <th>Date</th>\n",
       "      <th></th>\n",
       "    </tr>\n",
       "  </thead>\n",
       "  <tbody>\n",
       "    <tr>\n",
       "      <th>2022-11-09</th>\n",
       "      <td>137.683943</td>\n",
       "    </tr>\n",
       "    <tr>\n",
       "      <th>2022-11-10</th>\n",
       "      <td>137.805715</td>\n",
       "    </tr>\n",
       "    <tr>\n",
       "      <th>2022-11-11</th>\n",
       "      <td>137.925355</td>\n",
       "    </tr>\n",
       "    <tr>\n",
       "      <th>2022-11-14</th>\n",
       "      <td>138.042900</td>\n",
       "    </tr>\n",
       "    <tr>\n",
       "      <th>2022-11-15</th>\n",
       "      <td>138.158386</td>\n",
       "    </tr>\n",
       "    <tr>\n",
       "      <th>...</th>\n",
       "      <td>...</td>\n",
       "    </tr>\n",
       "    <tr>\n",
       "      <th>2023-04-06</th>\n",
       "      <td>143.470205</td>\n",
       "    </tr>\n",
       "    <tr>\n",
       "      <th>2023-04-07</th>\n",
       "      <td>143.490652</td>\n",
       "    </tr>\n",
       "    <tr>\n",
       "      <th>2023-04-10</th>\n",
       "      <td>143.510741</td>\n",
       "    </tr>\n",
       "    <tr>\n",
       "      <th>2023-04-11</th>\n",
       "      <td>143.530478</td>\n",
       "    </tr>\n",
       "    <tr>\n",
       "      <th>2023-04-12</th>\n",
       "      <td>143.549870</td>\n",
       "    </tr>\n",
       "  </tbody>\n",
       "</table>\n",
       "<p>106 rows × 1 columns</p>\n",
       "</div>"
      ],
      "text/plain": [
       "            predicciones\n",
       "Date                    \n",
       "2022-11-09    137.683943\n",
       "2022-11-10    137.805715\n",
       "2022-11-11    137.925355\n",
       "2022-11-14    138.042900\n",
       "2022-11-15    138.158386\n",
       "...                  ...\n",
       "2023-04-06    143.470205\n",
       "2023-04-07    143.490652\n",
       "2023-04-10    143.510741\n",
       "2023-04-11    143.530478\n",
       "2023-04-12    143.549870\n",
       "\n",
       "[106 rows x 1 columns]"
      ]
     },
     "execution_count": 41,
     "metadata": {},
     "output_type": "execute_result"
    }
   ],
   "source": [
    "resultado.index = resultado['Date']\n",
    "resultado.drop(columns=['Date'], inplace=True)\n",
    "resultado"
   ]
  },
  {
   "cell_type": "code",
   "execution_count": null,
   "id": "5b7e031f",
   "metadata": {},
   "outputs": [
    {
     "data": {
      "application/vnd.microsoft.datawrangler.viewer.v0+json": {
       "columns": [
        {
         "name": "index",
         "rawType": "int64",
         "type": "integer"
        },
        {
         "name": "lower AAPL",
         "rawType": "float64",
         "type": "float"
        },
        {
         "name": "upper AAPL",
         "rawType": "float64",
         "type": "float"
        }
       ],
       "ref": "7995dd22-fb76-4799-8d59-102d9b3ba0ff",
       "rows": [
        [
         "0",
         "132.1900804472042",
         "143.17780499450492"
        ],
        [
         "1",
         "130.1039472481582",
         "145.50748282549614"
        ],
        [
         "2",
         "128.5743930100221",
         "147.27631689927074"
        ],
        [
         "3",
         "127.33834832430767",
         "148.7474513066756"
        ],
        [
         "4",
         "126.29280914511826",
         "150.0239634681767"
        ],
        [
         "5",
         "125.38438745059447",
         "151.1593134953148"
        ],
        [
         "6",
         "124.58103263823365",
         "152.18562281788581"
        ],
        [
         "7",
         "123.8616414818401",
         "153.12406424909696"
        ],
        [
         "8",
         "123.21140159815246",
         "153.98951854065848"
        ],
        [
         "9",
         "122.61941577187942",
         "154.79295007908615"
        ],
        [
         "10",
         "122.0773727464036",
         "155.54273611596287"
        ],
        [
         "11",
         "121.57875000834483",
         "156.24546400397313"
        ],
        [
         "12",
         "121.11830892222918",
         "156.90643608247115"
        ],
        [
         "13",
         "120.6917606873437",
         "157.53000374050893"
        ],
        [
         "14",
         "120.29553719411697",
         "158.11979657999038"
        ],
        [
         "15",
         "119.92662900452098",
         "158.67888445446192"
        ],
        [
         "16",
         "119.58246780004015",
         "159.20989504000016"
        ],
        [
         "17",
         "119.26083917427631",
         "159.71510106113283"
        ],
        [
         "18",
         "118.95981667056482",
         "160.196486271425"
        ],
        [
         "19",
         "118.6777110308611",
         "160.6557962224749"
        ],
        [
         "20",
         "118.4130305531708",
         "161.09457792405462"
        ],
        [
         "21",
         "118.16444970510369",
         "161.51421124781783"
        ],
        [
         "22",
         "117.93078397075722",
         "161.9159340973765"
        ],
        [
         "23",
         "117.71096947077781",
         "162.3008628049025"
        ],
        [
         "24",
         "117.5040462845881",
         "162.6700088252716"
        ],
        [
         "25",
         "117.30914467771937",
         "163.0242925248156"
        ],
        [
         "26",
         "117.12547363317643",
         "163.36455466576032"
        ],
        [
         "27",
         "116.95231122804668",
         "163.69156604514254"
        ],
        [
         "28",
         "116.78899650125967",
         "164.0060356423049"
        ],
        [
         "29",
         "116.63492253639603",
         "164.30861755107392"
        ],
        [
         "30",
         "116.4895305422132",
         "164.59991691395905"
        ],
        [
         "31",
         "116.35230475830646",
         "164.88049503095837"
        ],
        [
         "32",
         "116.22276804773787",
         "165.15087378114345"
        ],
        [
         "33",
         "116.10047806517134",
         "165.41153946848837"
        ],
        [
         "34",
         "115.9850239099556",
         "165.66294618250737"
        ],
        [
         "35",
         "115.87602319008582",
         "165.90551874777256"
        ],
        [
         "36",
         "115.77311943608359",
         "166.1396553232781"
        ],
        [
         "37",
         "115.67597981432476",
         "166.36572970212387"
        ],
        [
         "38",
         "115.58429309779996",
         "166.58409335353917"
        ],
        [
         "39",
         "115.49776785914476",
         "166.79507724241262"
        ],
        [
         "40",
         "115.41613085636715",
         "166.99899345590472"
        ],
        [
         "41",
         "115.33912558628357",
         "167.19613666213607"
        ],
        [
         "42",
         "115.2665109844543",
         "167.38678542216374"
        ],
        [
         "43",
         "115.19806025353985",
         "167.571203373328"
        ],
        [
         "44",
         "115.13355980460781",
         "167.74964029944366"
        ],
        [
         "45",
         "115.07280829809905",
         "167.92233310113096"
        ],
        [
         "46",
         "115.01561577299357",
         "168.08950667774866"
        ],
        [
         "47",
         "114.96180285426101",
         "168.25137473084817"
        ],
        [
         "48",
         "114.91120002998768",
         "168.40814049776048"
        ],
        [
         "49",
         "114.86364699068378",
         "168.55999742281483"
        ]
       ],
       "shape": {
        "columns": 2,
        "rows": 106
       }
      },
      "text/html": [
       "<div>\n",
       "<style scoped>\n",
       "    .dataframe tbody tr th:only-of-type {\n",
       "        vertical-align: middle;\n",
       "    }\n",
       "\n",
       "    .dataframe tbody tr th {\n",
       "        vertical-align: top;\n",
       "    }\n",
       "\n",
       "    .dataframe thead th {\n",
       "        text-align: right;\n",
       "    }\n",
       "</style>\n",
       "<table border=\"1\" class=\"dataframe\">\n",
       "  <thead>\n",
       "    <tr style=\"text-align: right;\">\n",
       "      <th></th>\n",
       "      <th>lower AAPL</th>\n",
       "      <th>upper AAPL</th>\n",
       "    </tr>\n",
       "  </thead>\n",
       "  <tbody>\n",
       "    <tr>\n",
       "      <th>0</th>\n",
       "      <td>132.190080</td>\n",
       "      <td>143.177805</td>\n",
       "    </tr>\n",
       "    <tr>\n",
       "      <th>1</th>\n",
       "      <td>130.103947</td>\n",
       "      <td>145.507483</td>\n",
       "    </tr>\n",
       "    <tr>\n",
       "      <th>2</th>\n",
       "      <td>128.574393</td>\n",
       "      <td>147.276317</td>\n",
       "    </tr>\n",
       "    <tr>\n",
       "      <th>3</th>\n",
       "      <td>127.338348</td>\n",
       "      <td>148.747451</td>\n",
       "    </tr>\n",
       "    <tr>\n",
       "      <th>4</th>\n",
       "      <td>126.292809</td>\n",
       "      <td>150.023963</td>\n",
       "    </tr>\n",
       "    <tr>\n",
       "      <th>...</th>\n",
       "      <td>...</td>\n",
       "      <td>...</td>\n",
       "    </tr>\n",
       "    <tr>\n",
       "      <th>101</th>\n",
       "      <td>114.388435</td>\n",
       "      <td>172.551976</td>\n",
       "    </tr>\n",
       "    <tr>\n",
       "      <th>102</th>\n",
       "      <td>114.394762</td>\n",
       "      <td>172.586542</td>\n",
       "    </tr>\n",
       "    <tr>\n",
       "      <th>103</th>\n",
       "      <td>114.401228</td>\n",
       "      <td>172.620254</td>\n",
       "    </tr>\n",
       "    <tr>\n",
       "      <th>104</th>\n",
       "      <td>114.407822</td>\n",
       "      <td>172.653135</td>\n",
       "    </tr>\n",
       "    <tr>\n",
       "      <th>105</th>\n",
       "      <td>114.414532</td>\n",
       "      <td>172.685208</td>\n",
       "    </tr>\n",
       "  </tbody>\n",
       "</table>\n",
       "<p>106 rows × 2 columns</p>\n",
       "</div>"
      ],
      "text/plain": [
       "     lower AAPL  upper AAPL\n",
       "0    132.190080  143.177805\n",
       "1    130.103947  145.507483\n",
       "2    128.574393  147.276317\n",
       "3    127.338348  148.747451\n",
       "4    126.292809  150.023963\n",
       "..          ...         ...\n",
       "101  114.388435  172.551976\n",
       "102  114.394762  172.586542\n",
       "103  114.401228  172.620254\n",
       "104  114.407822  172.653135\n",
       "105  114.414532  172.685208\n",
       "\n",
       "[106 rows x 2 columns]"
      ]
     },
     "execution_count": 42,
     "metadata": {},
     "output_type": "execute_result"
    }
   ],
   "source": [
    "conf = conf.reset_index()\n",
    "conf.drop(columns=['index'], inplace=True)\n",
    "conf"
   ]
  },
  {
   "cell_type": "code",
   "execution_count": null,
   "id": "70046b89",
   "metadata": {},
   "outputs": [
    {
     "data": {
      "application/vnd.microsoft.datawrangler.viewer.v0+json": {
       "columns": [
        {
         "name": "index",
         "rawType": "int64",
         "type": "integer"
        },
        {
         "name": "Date",
         "rawType": "datetime64[ns]",
         "type": "datetime"
        },
        {
         "name": "lower AAPL",
         "rawType": "float64",
         "type": "float"
        },
        {
         "name": "upper AAPL",
         "rawType": "float64",
         "type": "float"
        }
       ],
       "ref": "47a130dc-195c-423f-ba71-d24019b260d5",
       "rows": [
        [
         "0",
         "2022-11-09 00:00:00",
         "132.1900804472042",
         "143.17780499450492"
        ],
        [
         "1",
         "2022-11-10 00:00:00",
         "130.1039472481582",
         "145.50748282549614"
        ],
        [
         "2",
         "2022-11-11 00:00:00",
         "128.5743930100221",
         "147.27631689927074"
        ],
        [
         "3",
         "2022-11-14 00:00:00",
         "127.33834832430767",
         "148.7474513066756"
        ],
        [
         "4",
         "2022-11-15 00:00:00",
         "126.29280914511826",
         "150.0239634681767"
        ],
        [
         "5",
         "2022-11-16 00:00:00",
         "125.38438745059447",
         "151.1593134953148"
        ],
        [
         "6",
         "2022-11-17 00:00:00",
         "124.58103263823365",
         "152.18562281788581"
        ],
        [
         "7",
         "2022-11-18 00:00:00",
         "123.8616414818401",
         "153.12406424909696"
        ],
        [
         "8",
         "2022-11-21 00:00:00",
         "123.21140159815246",
         "153.98951854065848"
        ],
        [
         "9",
         "2022-11-22 00:00:00",
         "122.61941577187942",
         "154.79295007908615"
        ],
        [
         "10",
         "2022-11-23 00:00:00",
         "122.0773727464036",
         "155.54273611596287"
        ],
        [
         "11",
         "2022-11-25 00:00:00",
         "121.57875000834483",
         "156.24546400397313"
        ],
        [
         "12",
         "2022-11-28 00:00:00",
         "121.11830892222918",
         "156.90643608247115"
        ],
        [
         "13",
         "2022-11-29 00:00:00",
         "120.6917606873437",
         "157.53000374050893"
        ],
        [
         "14",
         "2022-11-30 00:00:00",
         "120.29553719411697",
         "158.11979657999038"
        ],
        [
         "15",
         "2022-12-01 00:00:00",
         "119.92662900452098",
         "158.67888445446192"
        ],
        [
         "16",
         "2022-12-02 00:00:00",
         "119.58246780004015",
         "159.20989504000016"
        ],
        [
         "17",
         "2022-12-05 00:00:00",
         "119.26083917427631",
         "159.71510106113283"
        ],
        [
         "18",
         "2022-12-06 00:00:00",
         "118.95981667056482",
         "160.196486271425"
        ],
        [
         "19",
         "2022-12-07 00:00:00",
         "118.6777110308611",
         "160.6557962224749"
        ],
        [
         "20",
         "2022-12-08 00:00:00",
         "118.4130305531708",
         "161.09457792405462"
        ],
        [
         "21",
         "2022-12-09 00:00:00",
         "118.16444970510369",
         "161.51421124781783"
        ],
        [
         "22",
         "2022-12-12 00:00:00",
         "117.93078397075722",
         "161.9159340973765"
        ],
        [
         "23",
         "2022-12-13 00:00:00",
         "117.71096947077781",
         "162.3008628049025"
        ],
        [
         "24",
         "2022-12-14 00:00:00",
         "117.5040462845881",
         "162.6700088252716"
        ],
        [
         "25",
         "2022-12-15 00:00:00",
         "117.30914467771937",
         "163.0242925248156"
        ],
        [
         "26",
         "2022-12-16 00:00:00",
         "117.12547363317643",
         "163.36455466576032"
        ],
        [
         "27",
         "2022-12-19 00:00:00",
         "116.95231122804668",
         "163.69156604514254"
        ],
        [
         "28",
         "2022-12-20 00:00:00",
         "116.78899650125967",
         "164.0060356423049"
        ],
        [
         "29",
         "2022-12-21 00:00:00",
         "116.63492253639603",
         "164.30861755107392"
        ],
        [
         "30",
         "2022-12-22 00:00:00",
         "116.4895305422132",
         "164.59991691395905"
        ],
        [
         "31",
         "2022-12-23 00:00:00",
         "116.35230475830646",
         "164.88049503095837"
        ],
        [
         "32",
         "2022-12-27 00:00:00",
         "116.22276804773787",
         "165.15087378114345"
        ],
        [
         "33",
         "2022-12-28 00:00:00",
         "116.10047806517134",
         "165.41153946848837"
        ],
        [
         "34",
         "2022-12-29 00:00:00",
         "115.9850239099556",
         "165.66294618250737"
        ],
        [
         "35",
         "2022-12-30 00:00:00",
         "115.87602319008582",
         "165.90551874777256"
        ],
        [
         "36",
         "2023-01-03 00:00:00",
         "115.77311943608359",
         "166.1396553232781"
        ],
        [
         "37",
         "2023-01-04 00:00:00",
         "115.67597981432476",
         "166.36572970212387"
        ],
        [
         "38",
         "2023-01-05 00:00:00",
         "115.58429309779996",
         "166.58409335353917"
        ],
        [
         "39",
         "2023-01-06 00:00:00",
         "115.49776785914476",
         "166.79507724241262"
        ],
        [
         "40",
         "2023-01-09 00:00:00",
         "115.41613085636715",
         "166.99899345590472"
        ],
        [
         "41",
         "2023-01-10 00:00:00",
         "115.33912558628357",
         "167.19613666213607"
        ],
        [
         "42",
         "2023-01-11 00:00:00",
         "115.2665109844543",
         "167.38678542216374"
        ],
        [
         "43",
         "2023-01-12 00:00:00",
         "115.19806025353985",
         "167.571203373328"
        ],
        [
         "44",
         "2023-01-13 00:00:00",
         "115.13355980460781",
         "167.74964029944366"
        ],
        [
         "45",
         "2023-01-17 00:00:00",
         "115.07280829809905",
         "167.92233310113096"
        ],
        [
         "46",
         "2023-01-18 00:00:00",
         "115.01561577299357",
         "168.08950667774866"
        ],
        [
         "47",
         "2023-01-19 00:00:00",
         "114.96180285426101",
         "168.25137473084817"
        ],
        [
         "48",
         "2023-01-20 00:00:00",
         "114.91120002998768",
         "168.40814049776048"
        ],
        [
         "49",
         "2023-01-23 00:00:00",
         "114.86364699068378",
         "168.55999742281483"
        ]
       ],
       "shape": {
        "columns": 3,
        "rows": 106
       }
      },
      "text/html": [
       "<div>\n",
       "<style scoped>\n",
       "    .dataframe tbody tr th:only-of-type {\n",
       "        vertical-align: middle;\n",
       "    }\n",
       "\n",
       "    .dataframe tbody tr th {\n",
       "        vertical-align: top;\n",
       "    }\n",
       "\n",
       "    .dataframe thead th {\n",
       "        text-align: right;\n",
       "    }\n",
       "</style>\n",
       "<table border=\"1\" class=\"dataframe\">\n",
       "  <thead>\n",
       "    <tr style=\"text-align: right;\">\n",
       "      <th></th>\n",
       "      <th>Date</th>\n",
       "      <th>lower AAPL</th>\n",
       "      <th>upper AAPL</th>\n",
       "    </tr>\n",
       "  </thead>\n",
       "  <tbody>\n",
       "    <tr>\n",
       "      <th>0</th>\n",
       "      <td>2022-11-09</td>\n",
       "      <td>132.190080</td>\n",
       "      <td>143.177805</td>\n",
       "    </tr>\n",
       "    <tr>\n",
       "      <th>1</th>\n",
       "      <td>2022-11-10</td>\n",
       "      <td>130.103947</td>\n",
       "      <td>145.507483</td>\n",
       "    </tr>\n",
       "    <tr>\n",
       "      <th>2</th>\n",
       "      <td>2022-11-11</td>\n",
       "      <td>128.574393</td>\n",
       "      <td>147.276317</td>\n",
       "    </tr>\n",
       "    <tr>\n",
       "      <th>3</th>\n",
       "      <td>2022-11-14</td>\n",
       "      <td>127.338348</td>\n",
       "      <td>148.747451</td>\n",
       "    </tr>\n",
       "    <tr>\n",
       "      <th>4</th>\n",
       "      <td>2022-11-15</td>\n",
       "      <td>126.292809</td>\n",
       "      <td>150.023963</td>\n",
       "    </tr>\n",
       "    <tr>\n",
       "      <th>...</th>\n",
       "      <td>...</td>\n",
       "      <td>...</td>\n",
       "      <td>...</td>\n",
       "    </tr>\n",
       "    <tr>\n",
       "      <th>101</th>\n",
       "      <td>2023-04-06</td>\n",
       "      <td>114.388435</td>\n",
       "      <td>172.551976</td>\n",
       "    </tr>\n",
       "    <tr>\n",
       "      <th>102</th>\n",
       "      <td>2023-04-07</td>\n",
       "      <td>114.394762</td>\n",
       "      <td>172.586542</td>\n",
       "    </tr>\n",
       "    <tr>\n",
       "      <th>103</th>\n",
       "      <td>2023-04-10</td>\n",
       "      <td>114.401228</td>\n",
       "      <td>172.620254</td>\n",
       "    </tr>\n",
       "    <tr>\n",
       "      <th>104</th>\n",
       "      <td>2023-04-11</td>\n",
       "      <td>114.407822</td>\n",
       "      <td>172.653135</td>\n",
       "    </tr>\n",
       "    <tr>\n",
       "      <th>105</th>\n",
       "      <td>2023-04-12</td>\n",
       "      <td>114.414532</td>\n",
       "      <td>172.685208</td>\n",
       "    </tr>\n",
       "  </tbody>\n",
       "</table>\n",
       "<p>106 rows × 3 columns</p>\n",
       "</div>"
      ],
      "text/plain": [
       "          Date  lower AAPL  upper AAPL\n",
       "0   2022-11-09  132.190080  143.177805\n",
       "1   2022-11-10  130.103947  145.507483\n",
       "2   2022-11-11  128.574393  147.276317\n",
       "3   2022-11-14  127.338348  148.747451\n",
       "4   2022-11-15  126.292809  150.023963\n",
       "..         ...         ...         ...\n",
       "101 2023-04-06  114.388435  172.551976\n",
       "102 2023-04-07  114.394762  172.586542\n",
       "103 2023-04-10  114.401228  172.620254\n",
       "104 2023-04-11  114.407822  172.653135\n",
       "105 2023-04-12  114.414532  172.685208\n",
       "\n",
       "[106 rows x 3 columns]"
      ]
     },
     "execution_count": 43,
     "metadata": {},
     "output_type": "execute_result"
    }
   ],
   "source": [
    "frames = [fechas, conf]\n",
    "intervalos = pd.concat(frames, axis=1, join='inner')\n",
    "intervalos"
   ]
  },
  {
   "cell_type": "code",
   "execution_count": null,
   "id": "dc8c53f0",
   "metadata": {},
   "outputs": [
    {
     "data": {
      "application/vnd.microsoft.datawrangler.viewer.v0+json": {
       "columns": [
        {
         "name": "Date",
         "rawType": "datetime64[ns]",
         "type": "datetime"
        },
        {
         "name": "lower AAPL",
         "rawType": "float64",
         "type": "float"
        },
        {
         "name": "upper AAPL",
         "rawType": "float64",
         "type": "float"
        }
       ],
       "ref": "d82e8554-172e-43e7-9576-90d5fc03f5cf",
       "rows": [
        [
         "2022-11-09 00:00:00",
         "132.1900804472042",
         "143.17780499450492"
        ],
        [
         "2022-11-10 00:00:00",
         "130.1039472481582",
         "145.50748282549614"
        ],
        [
         "2022-11-11 00:00:00",
         "128.5743930100221",
         "147.27631689927074"
        ],
        [
         "2022-11-14 00:00:00",
         "127.33834832430767",
         "148.7474513066756"
        ],
        [
         "2022-11-15 00:00:00",
         "126.29280914511826",
         "150.0239634681767"
        ],
        [
         "2022-11-16 00:00:00",
         "125.38438745059447",
         "151.1593134953148"
        ],
        [
         "2022-11-17 00:00:00",
         "124.58103263823365",
         "152.18562281788581"
        ],
        [
         "2022-11-18 00:00:00",
         "123.8616414818401",
         "153.12406424909696"
        ],
        [
         "2022-11-21 00:00:00",
         "123.21140159815246",
         "153.98951854065848"
        ],
        [
         "2022-11-22 00:00:00",
         "122.61941577187942",
         "154.79295007908615"
        ],
        [
         "2022-11-23 00:00:00",
         "122.0773727464036",
         "155.54273611596287"
        ],
        [
         "2022-11-25 00:00:00",
         "121.57875000834483",
         "156.24546400397313"
        ],
        [
         "2022-11-28 00:00:00",
         "121.11830892222918",
         "156.90643608247115"
        ],
        [
         "2022-11-29 00:00:00",
         "120.6917606873437",
         "157.53000374050893"
        ],
        [
         "2022-11-30 00:00:00",
         "120.29553719411697",
         "158.11979657999038"
        ],
        [
         "2022-12-01 00:00:00",
         "119.92662900452098",
         "158.67888445446192"
        ],
        [
         "2022-12-02 00:00:00",
         "119.58246780004015",
         "159.20989504000016"
        ],
        [
         "2022-12-05 00:00:00",
         "119.26083917427631",
         "159.71510106113283"
        ],
        [
         "2022-12-06 00:00:00",
         "118.95981667056482",
         "160.196486271425"
        ],
        [
         "2022-12-07 00:00:00",
         "118.6777110308611",
         "160.6557962224749"
        ],
        [
         "2022-12-08 00:00:00",
         "118.4130305531708",
         "161.09457792405462"
        ],
        [
         "2022-12-09 00:00:00",
         "118.16444970510369",
         "161.51421124781783"
        ],
        [
         "2022-12-12 00:00:00",
         "117.93078397075722",
         "161.9159340973765"
        ],
        [
         "2022-12-13 00:00:00",
         "117.71096947077781",
         "162.3008628049025"
        ],
        [
         "2022-12-14 00:00:00",
         "117.5040462845881",
         "162.6700088252716"
        ],
        [
         "2022-12-15 00:00:00",
         "117.30914467771937",
         "163.0242925248156"
        ],
        [
         "2022-12-16 00:00:00",
         "117.12547363317643",
         "163.36455466576032"
        ],
        [
         "2022-12-19 00:00:00",
         "116.95231122804668",
         "163.69156604514254"
        ],
        [
         "2022-12-20 00:00:00",
         "116.78899650125967",
         "164.0060356423049"
        ],
        [
         "2022-12-21 00:00:00",
         "116.63492253639603",
         "164.30861755107392"
        ],
        [
         "2022-12-22 00:00:00",
         "116.4895305422132",
         "164.59991691395905"
        ],
        [
         "2022-12-23 00:00:00",
         "116.35230475830646",
         "164.88049503095837"
        ],
        [
         "2022-12-27 00:00:00",
         "116.22276804773787",
         "165.15087378114345"
        ],
        [
         "2022-12-28 00:00:00",
         "116.10047806517134",
         "165.41153946848837"
        ],
        [
         "2022-12-29 00:00:00",
         "115.9850239099556",
         "165.66294618250737"
        ],
        [
         "2022-12-30 00:00:00",
         "115.87602319008582",
         "165.90551874777256"
        ],
        [
         "2023-01-03 00:00:00",
         "115.77311943608359",
         "166.1396553232781"
        ],
        [
         "2023-01-04 00:00:00",
         "115.67597981432476",
         "166.36572970212387"
        ],
        [
         "2023-01-05 00:00:00",
         "115.58429309779996",
         "166.58409335353917"
        ],
        [
         "2023-01-06 00:00:00",
         "115.49776785914476",
         "166.79507724241262"
        ],
        [
         "2023-01-09 00:00:00",
         "115.41613085636715",
         "166.99899345590472"
        ],
        [
         "2023-01-10 00:00:00",
         "115.33912558628357",
         "167.19613666213607"
        ],
        [
         "2023-01-11 00:00:00",
         "115.2665109844543",
         "167.38678542216374"
        ],
        [
         "2023-01-12 00:00:00",
         "115.19806025353985",
         "167.571203373328"
        ],
        [
         "2023-01-13 00:00:00",
         "115.13355980460781",
         "167.74964029944366"
        ],
        [
         "2023-01-17 00:00:00",
         "115.07280829809905",
         "167.92233310113096"
        ],
        [
         "2023-01-18 00:00:00",
         "115.01561577299357",
         "168.08950667774866"
        ],
        [
         "2023-01-19 00:00:00",
         "114.96180285426101",
         "168.25137473084817"
        ],
        [
         "2023-01-20 00:00:00",
         "114.91120002998768",
         "168.40814049776048"
        ],
        [
         "2023-01-23 00:00:00",
         "114.86364699068378",
         "168.55999742281483"
        ]
       ],
       "shape": {
        "columns": 2,
        "rows": 106
       }
      },
      "text/html": [
       "<div>\n",
       "<style scoped>\n",
       "    .dataframe tbody tr th:only-of-type {\n",
       "        vertical-align: middle;\n",
       "    }\n",
       "\n",
       "    .dataframe tbody tr th {\n",
       "        vertical-align: top;\n",
       "    }\n",
       "\n",
       "    .dataframe thead th {\n",
       "        text-align: right;\n",
       "    }\n",
       "</style>\n",
       "<table border=\"1\" class=\"dataframe\">\n",
       "  <thead>\n",
       "    <tr style=\"text-align: right;\">\n",
       "      <th></th>\n",
       "      <th>lower AAPL</th>\n",
       "      <th>upper AAPL</th>\n",
       "    </tr>\n",
       "    <tr>\n",
       "      <th>Date</th>\n",
       "      <th></th>\n",
       "      <th></th>\n",
       "    </tr>\n",
       "  </thead>\n",
       "  <tbody>\n",
       "    <tr>\n",
       "      <th>2022-11-09</th>\n",
       "      <td>132.190080</td>\n",
       "      <td>143.177805</td>\n",
       "    </tr>\n",
       "    <tr>\n",
       "      <th>2022-11-10</th>\n",
       "      <td>130.103947</td>\n",
       "      <td>145.507483</td>\n",
       "    </tr>\n",
       "    <tr>\n",
       "      <th>2022-11-11</th>\n",
       "      <td>128.574393</td>\n",
       "      <td>147.276317</td>\n",
       "    </tr>\n",
       "    <tr>\n",
       "      <th>2022-11-14</th>\n",
       "      <td>127.338348</td>\n",
       "      <td>148.747451</td>\n",
       "    </tr>\n",
       "    <tr>\n",
       "      <th>2022-11-15</th>\n",
       "      <td>126.292809</td>\n",
       "      <td>150.023963</td>\n",
       "    </tr>\n",
       "    <tr>\n",
       "      <th>...</th>\n",
       "      <td>...</td>\n",
       "      <td>...</td>\n",
       "    </tr>\n",
       "    <tr>\n",
       "      <th>2023-04-06</th>\n",
       "      <td>114.388435</td>\n",
       "      <td>172.551976</td>\n",
       "    </tr>\n",
       "    <tr>\n",
       "      <th>2023-04-07</th>\n",
       "      <td>114.394762</td>\n",
       "      <td>172.586542</td>\n",
       "    </tr>\n",
       "    <tr>\n",
       "      <th>2023-04-10</th>\n",
       "      <td>114.401228</td>\n",
       "      <td>172.620254</td>\n",
       "    </tr>\n",
       "    <tr>\n",
       "      <th>2023-04-11</th>\n",
       "      <td>114.407822</td>\n",
       "      <td>172.653135</td>\n",
       "    </tr>\n",
       "    <tr>\n",
       "      <th>2023-04-12</th>\n",
       "      <td>114.414532</td>\n",
       "      <td>172.685208</td>\n",
       "    </tr>\n",
       "  </tbody>\n",
       "</table>\n",
       "<p>106 rows × 2 columns</p>\n",
       "</div>"
      ],
      "text/plain": [
       "            lower AAPL  upper AAPL\n",
       "Date                              \n",
       "2022-11-09  132.190080  143.177805\n",
       "2022-11-10  130.103947  145.507483\n",
       "2022-11-11  128.574393  147.276317\n",
       "2022-11-14  127.338348  148.747451\n",
       "2022-11-15  126.292809  150.023963\n",
       "...                ...         ...\n",
       "2023-04-06  114.388435  172.551976\n",
       "2023-04-07  114.394762  172.586542\n",
       "2023-04-10  114.401228  172.620254\n",
       "2023-04-11  114.407822  172.653135\n",
       "2023-04-12  114.414532  172.685208\n",
       "\n",
       "[106 rows x 2 columns]"
      ]
     },
     "execution_count": 44,
     "metadata": {},
     "output_type": "execute_result"
    }
   ],
   "source": [
    "intervalos.index = intervalos['Date']\n",
    "intervalos.drop(columns=['Date'], inplace=True)\n",
    "intervalos"
   ]
  },
  {
   "cell_type": "code",
   "execution_count": null,
   "id": "bf3f67f3",
   "metadata": {},
   "outputs": [
    {
     "data": {
      "image/png": "[encoded data removed]",
      "text/plain": [
       "<Figure size 2000x500 with 1 Axes>"
      ]
     },
     "metadata": {},
     "output_type": "display_data"
    }
   ],
   "source": [
    "plt.figure(figsize=(20,5))\n",
    "plt.grid()\n",
    "plt.plot(train, label='Train', color='blue')\n",
    "plt.plot(test, label='Test', color='orange')\n",
    "plt.plot(resultado, label='Predicciones', color='green')  # ✅ Cambio 1\n",
    "plt.plot(intervalos.index, intervalos['lower AAPL'], label='lim inf 95%', color='red')  # ✅ Cambio 2\n",
    "plt.plot(intervalos.index, intervalos['upper AAPL'], label='lim sup 95%', color='red')  # ✅ Cambio 3\n",
    "plt.legend(loc='best')\n",
    "plt.title('Predicciones mediante AR(1)')\n",
    "plt.show()"
   ]
  },
  {
   "cell_type": "code",
   "execution_count": null,
   "id": "63f64de3",
   "metadata": {},
   "outputs": [
    {
     "data": {
      "image/png": "[encoded data removed]",
      "text/plain": [
       "<Figure size 640x480 with 1 Axes>"
      ]
     },
     "metadata": {},
     "output_type": "display_data"
    }
   ],
   "source": [
    "# Determinacion del valor adecuado de p para AR(p) a partir de la funcion ACF (autocorrelacion parcial)\n",
    "from statsmodels.graphics.tsaplots import plot_pacf\n",
    "plot_pacf(train, lags=20)\n",
    "plt.show() "
   ]
  },
  {
   "cell_type": "markdown",
   "id": "be534307",
   "metadata": {},
   "source": [
    "## Conclusion: el modelo AR(1) parecer ser el mas adecuado "
   ]
  },
  {
   "cell_type": "code",
   "execution_count": null,
   "id": "48effab6",
   "metadata": {},
   "outputs": [
    {
     "name": "stderr",
     "output_type": "stream",
     "text": [
      "C:\\Users\\benma\\AppData\\Local\\Packages\\PythonSoftwareFoundation.Python.3.13_qbz5n2kfra8p0\\LocalCache\\local-packages\\Python313\\site-packages\\statsmodels\\tsa\\base\\tsa_model.py:473: ValueWarning: A date index has been provided, but it has no associated frequency information and so will be ignored when e.g. forecasting.\n",
      "  self._init_dates(dates, freq)\n",
      "C:\\Users\\benma\\AppData\\Local\\Packages\\PythonSoftwareFoundation.Python.3.13_qbz5n2kfra8p0\\LocalCache\\local-packages\\Python313\\site-packages\\statsmodels\\tsa\\base\\tsa_model.py:473: ValueWarning: A date index has been provided, but it has no associated frequency information and so will be ignored when e.g. forecasting.\n",
      "  self._init_dates(dates, freq)\n",
      "C:\\Users\\benma\\AppData\\Local\\Packages\\PythonSoftwareFoundation.Python.3.13_qbz5n2kfra8p0\\LocalCache\\local-packages\\Python313\\site-packages\\statsmodels\\tsa\\base\\tsa_model.py:473: ValueWarning: A date index has been provided, but it has no associated frequency information and so will be ignored when e.g. forecasting.\n",
      "  self._init_dates(dates, freq)\n",
      "C:\\Users\\benma\\AppData\\Local\\Packages\\PythonSoftwareFoundation.Python.3.13_qbz5n2kfra8p0\\LocalCache\\local-packages\\Python313\\site-packages\\statsmodels\\tsa\\base\\tsa_model.py:473: ValueWarning: A date index has been provided, but it has no associated frequency information and so will be ignored when e.g. forecasting.\n",
      "  self._init_dates(dates, freq)\n",
      "C:\\Users\\benma\\AppData\\Local\\Packages\\PythonSoftwareFoundation.Python.3.13_qbz5n2kfra8p0\\LocalCache\\local-packages\\Python313\\site-packages\\statsmodels\\tsa\\base\\tsa_model.py:473: ValueWarning: A date index has been provided, but it has no associated frequency information and so will be ignored when e.g. forecasting.\n",
      "  self._init_dates(dates, freq)\n",
      "C:\\Users\\benma\\AppData\\Local\\Packages\\PythonSoftwareFoundation.Python.3.13_qbz5n2kfra8p0\\LocalCache\\local-packages\\Python313\\site-packages\\statsmodels\\tsa\\base\\tsa_model.py:473: ValueWarning: A date index has been provided, but it has no associated frequency information and so will be ignored when e.g. forecasting.\n",
      "  self._init_dates(dates, freq)\n",
      "C:\\Users\\benma\\AppData\\Local\\Packages\\PythonSoftwareFoundation.Python.3.13_qbz5n2kfra8p0\\LocalCache\\local-packages\\Python313\\site-packages\\statsmodels\\tsa\\base\\tsa_model.py:473: ValueWarning: A date index has been provided, but it has no associated frequency information and so will be ignored when e.g. forecasting.\n",
      "  self._init_dates(dates, freq)\n",
      "C:\\Users\\benma\\AppData\\Local\\Packages\\PythonSoftwareFoundation.Python.3.13_qbz5n2kfra8p0\\LocalCache\\local-packages\\Python313\\site-packages\\statsmodels\\tsa\\base\\tsa_model.py:473: ValueWarning: A date index has been provided, but it has no associated frequency information and so will be ignored when e.g. forecasting.\n",
      "  self._init_dates(dates, freq)\n",
      "C:\\Users\\benma\\AppData\\Local\\Packages\\PythonSoftwareFoundation.Python.3.13_qbz5n2kfra8p0\\LocalCache\\local-packages\\Python313\\site-packages\\statsmodels\\tsa\\base\\tsa_model.py:473: ValueWarning: A date index has been provided, but it has no associated frequency information and so will be ignored when e.g. forecasting.\n",
      "  self._init_dates(dates, freq)\n",
      "C:\\Users\\benma\\AppData\\Local\\Packages\\PythonSoftwareFoundation.Python.3.13_qbz5n2kfra8p0\\LocalCache\\local-packages\\Python313\\site-packages\\statsmodels\\tsa\\base\\tsa_model.py:473: ValueWarning: A date index has been provided, but it has no associated frequency information and so will be ignored when e.g. forecasting.\n",
      "  self._init_dates(dates, freq)\n",
      "C:\\Users\\benma\\AppData\\Local\\Packages\\PythonSoftwareFoundation.Python.3.13_qbz5n2kfra8p0\\LocalCache\\local-packages\\Python313\\site-packages\\statsmodels\\tsa\\base\\tsa_model.py:473: ValueWarning: A date index has been provided, but it has no associated frequency information and so will be ignored when e.g. forecasting.\n",
      "  self._init_dates(dates, freq)\n",
      "C:\\Users\\benma\\AppData\\Local\\Packages\\PythonSoftwareFoundation.Python.3.13_qbz5n2kfra8p0\\LocalCache\\local-packages\\Python313\\site-packages\\statsmodels\\tsa\\base\\tsa_model.py:473: ValueWarning: A date index has been provided, but it has no associated frequency information and so will be ignored when e.g. forecasting.\n",
      "  self._init_dates(dates, freq)\n",
      "C:\\Users\\benma\\AppData\\Local\\Packages\\PythonSoftwareFoundation.Python.3.13_qbz5n2kfra8p0\\LocalCache\\local-packages\\Python313\\site-packages\\statsmodels\\tsa\\base\\tsa_model.py:473: ValueWarning: A date index has been provided, but it has no associated frequency information and so will be ignored when e.g. forecasting.\n",
      "  self._init_dates(dates, freq)\n",
      "C:\\Users\\benma\\AppData\\Local\\Packages\\PythonSoftwareFoundation.Python.3.13_qbz5n2kfra8p0\\LocalCache\\local-packages\\Python313\\site-packages\\statsmodels\\tsa\\base\\tsa_model.py:473: ValueWarning: A date index has been provided, but it has no associated frequency information and so will be ignored when e.g. forecasting.\n",
      "  self._init_dates(dates, freq)\n",
      "C:\\Users\\benma\\AppData\\Local\\Packages\\PythonSoftwareFoundation.Python.3.13_qbz5n2kfra8p0\\LocalCache\\local-packages\\Python313\\site-packages\\statsmodels\\tsa\\base\\tsa_model.py:473: ValueWarning: A date index has been provided, but it has no associated frequency information and so will be ignored when e.g. forecasting.\n",
      "  self._init_dates(dates, freq)\n",
      "C:\\Users\\benma\\AppData\\Local\\Packages\\PythonSoftwareFoundation.Python.3.13_qbz5n2kfra8p0\\LocalCache\\local-packages\\Python313\\site-packages\\statsmodels\\tsa\\base\\tsa_model.py:473: ValueWarning: A date index has been provided, but it has no associated frequency information and so will be ignored when e.g. forecasting.\n",
      "  self._init_dates(dates, freq)\n",
      "C:\\Users\\benma\\AppData\\Local\\Packages\\PythonSoftwareFoundation.Python.3.13_qbz5n2kfra8p0\\LocalCache\\local-packages\\Python313\\site-packages\\statsmodels\\tsa\\base\\tsa_model.py:473: ValueWarning: A date index has been provided, but it has no associated frequency information and so will be ignored when e.g. forecasting.\n",
      "  self._init_dates(dates, freq)\n",
      "C:\\Users\\benma\\AppData\\Local\\Packages\\PythonSoftwareFoundation.Python.3.13_qbz5n2kfra8p0\\LocalCache\\local-packages\\Python313\\site-packages\\statsmodels\\tsa\\base\\tsa_model.py:473: ValueWarning: A date index has been provided, but it has no associated frequency information and so will be ignored when e.g. forecasting.\n",
      "  self._init_dates(dates, freq)\n",
      "C:\\Users\\benma\\AppData\\Local\\Packages\\PythonSoftwareFoundation.Python.3.13_qbz5n2kfra8p0\\LocalCache\\local-packages\\Python313\\site-packages\\statsmodels\\tsa\\base\\tsa_model.py:473: ValueWarning: A date index has been provided, but it has no associated frequency information and so will be ignored when e.g. forecasting.\n",
      "  self._init_dates(dates, freq)\n",
      "C:\\Users\\benma\\AppData\\Local\\Packages\\PythonSoftwareFoundation.Python.3.13_qbz5n2kfra8p0\\LocalCache\\local-packages\\Python313\\site-packages\\statsmodels\\tsa\\base\\tsa_model.py:473: ValueWarning: A date index has been provided, but it has no associated frequency information and so will be ignored when e.g. forecasting.\n",
      "  self._init_dates(dates, freq)\n",
      "C:\\Users\\benma\\AppData\\Local\\Packages\\PythonSoftwareFoundation.Python.3.13_qbz5n2kfra8p0\\LocalCache\\local-packages\\Python313\\site-packages\\statsmodels\\tsa\\base\\tsa_model.py:473: ValueWarning: A date index has been provided, but it has no associated frequency information and so will be ignored when e.g. forecasting.\n",
      "  self._init_dates(dates, freq)\n"
     ]
    },
    {
     "data": {
      "image/png": "[encoded data removed]",
      "text/plain": [
       "<Figure size 640x480 with 1 Axes>"
      ]
     },
     "metadata": {},
     "output_type": "display_data"
    }
   ],
   "source": [
    "# Determinacion del valor adecuado de p para AR(p) a partir del criterio de informacion Bayesiano\n",
    "# Fit the data to an AR(p) for p = 0,....,6 and save the BIC\n",
    "\n",
    "AIC= np.zeros(7)\n",
    "for p in range(7):\n",
    "    mod = ARIMA(train, order=(p, 0, 0))\n",
    "    res= mod.fit()\n",
    "# Save BIC for AR(p)\n",
    "    AIC[p] = res.bic\n",
    "\n",
    "# plot the BIC as a function of p\n",
    "\n",
    "plt.plot(range(1,7), AIC[1:7], marker='o')\n",
    "plt.xlabel('Order or AR model')\n",
    "plt.ylabel('Bayesian Information Criterion')\n",
    "plt.show()"
   ]
  },
  {
   "cell_type": "code",
   "execution_count": null,
   "id": "9954e202",
   "metadata": {},
   "outputs": [
    {
     "name": "stderr",
     "output_type": "stream",
     "text": [
      "C:\\Users\\benma\\AppData\\Local\\Packages\\PythonSoftwareFoundation.Python.3.13_qbz5n2kfra8p0\\LocalCache\\local-packages\\Python313\\site-packages\\statsmodels\\tsa\\base\\tsa_model.py:473: ValueWarning: A date index has been provided, but it has no associated frequency information and so will be ignored when e.g. forecasting.\n",
      "  self._init_dates(dates, freq)\n",
      "C:\\Users\\benma\\AppData\\Local\\Packages\\PythonSoftwareFoundation.Python.3.13_qbz5n2kfra8p0\\LocalCache\\local-packages\\Python313\\site-packages\\statsmodels\\tsa\\base\\tsa_model.py:473: ValueWarning: A date index has been provided, but it has no associated frequency information and so will be ignored when e.g. forecasting.\n",
      "  self._init_dates(dates, freq)\n",
      "C:\\Users\\benma\\AppData\\Local\\Packages\\PythonSoftwareFoundation.Python.3.13_qbz5n2kfra8p0\\LocalCache\\local-packages\\Python313\\site-packages\\statsmodels\\tsa\\base\\tsa_model.py:473: ValueWarning: A date index has been provided, but it has no associated frequency information and so will be ignored when e.g. forecasting.\n",
      "  self._init_dates(dates, freq)\n",
      "C:\\Users\\benma\\AppData\\Local\\Packages\\PythonSoftwareFoundation.Python.3.13_qbz5n2kfra8p0\\LocalCache\\local-packages\\Python313\\site-packages\\statsmodels\\tsa\\base\\tsa_model.py:473: ValueWarning: A date index has been provided, but it has no associated frequency information and so will be ignored when e.g. forecasting.\n",
      "  self._init_dates(dates, freq)\n",
      "C:\\Users\\benma\\AppData\\Local\\Packages\\PythonSoftwareFoundation.Python.3.13_qbz5n2kfra8p0\\LocalCache\\local-packages\\Python313\\site-packages\\statsmodels\\tsa\\base\\tsa_model.py:473: ValueWarning: A date index has been provided, but it has no associated frequency information and so will be ignored when e.g. forecasting.\n",
      "  self._init_dates(dates, freq)\n",
      "C:\\Users\\benma\\AppData\\Local\\Packages\\PythonSoftwareFoundation.Python.3.13_qbz5n2kfra8p0\\LocalCache\\local-packages\\Python313\\site-packages\\statsmodels\\tsa\\base\\tsa_model.py:473: ValueWarning: A date index has been provided, but it has no associated frequency information and so will be ignored when e.g. forecasting.\n",
      "  self._init_dates(dates, freq)\n",
      "C:\\Users\\benma\\AppData\\Local\\Packages\\PythonSoftwareFoundation.Python.3.13_qbz5n2kfra8p0\\LocalCache\\local-packages\\Python313\\site-packages\\statsmodels\\tsa\\base\\tsa_model.py:473: ValueWarning: A date index has been provided, but it has no associated frequency information and so will be ignored when e.g. forecasting.\n",
      "  self._init_dates(dates, freq)\n",
      "C:\\Users\\benma\\AppData\\Local\\Packages\\PythonSoftwareFoundation.Python.3.13_qbz5n2kfra8p0\\LocalCache\\local-packages\\Python313\\site-packages\\statsmodels\\tsa\\base\\tsa_model.py:473: ValueWarning: A date index has been provided, but it has no associated frequency information and so will be ignored when e.g. forecasting.\n",
      "  self._init_dates(dates, freq)\n",
      "C:\\Users\\benma\\AppData\\Local\\Packages\\PythonSoftwareFoundation.Python.3.13_qbz5n2kfra8p0\\LocalCache\\local-packages\\Python313\\site-packages\\statsmodels\\tsa\\base\\tsa_model.py:473: ValueWarning: A date index has been provided, but it has no associated frequency information and so will be ignored when e.g. forecasting.\n",
      "  self._init_dates(dates, freq)\n",
      "C:\\Users\\benma\\AppData\\Local\\Packages\\PythonSoftwareFoundation.Python.3.13_qbz5n2kfra8p0\\LocalCache\\local-packages\\Python313\\site-packages\\statsmodels\\tsa\\base\\tsa_model.py:473: ValueWarning: A date index has been provided, but it has no associated frequency information and so will be ignored when e.g. forecasting.\n",
      "  self._init_dates(dates, freq)\n",
      "C:\\Users\\benma\\AppData\\Local\\Packages\\PythonSoftwareFoundation.Python.3.13_qbz5n2kfra8p0\\LocalCache\\local-packages\\Python313\\site-packages\\statsmodels\\tsa\\base\\tsa_model.py:473: ValueWarning: A date index has been provided, but it has no associated frequency information and so will be ignored when e.g. forecasting.\n",
      "  self._init_dates(dates, freq)\n",
      "C:\\Users\\benma\\AppData\\Local\\Packages\\PythonSoftwareFoundation.Python.3.13_qbz5n2kfra8p0\\LocalCache\\local-packages\\Python313\\site-packages\\statsmodels\\tsa\\base\\tsa_model.py:473: ValueWarning: A date index has been provided, but it has no associated frequency information and so will be ignored when e.g. forecasting.\n",
      "  self._init_dates(dates, freq)\n",
      "C:\\Users\\benma\\AppData\\Local\\Packages\\PythonSoftwareFoundation.Python.3.13_qbz5n2kfra8p0\\LocalCache\\local-packages\\Python313\\site-packages\\statsmodels\\tsa\\base\\tsa_model.py:473: ValueWarning: A date index has been provided, but it has no associated frequency information and so will be ignored when e.g. forecasting.\n",
      "  self._init_dates(dates, freq)\n",
      "C:\\Users\\benma\\AppData\\Local\\Packages\\PythonSoftwareFoundation.Python.3.13_qbz5n2kfra8p0\\LocalCache\\local-packages\\Python313\\site-packages\\statsmodels\\tsa\\base\\tsa_model.py:473: ValueWarning: A date index has been provided, but it has no associated frequency information and so will be ignored when e.g. forecasting.\n",
      "  self._init_dates(dates, freq)\n",
      "C:\\Users\\benma\\AppData\\Local\\Packages\\PythonSoftwareFoundation.Python.3.13_qbz5n2kfra8p0\\LocalCache\\local-packages\\Python313\\site-packages\\statsmodels\\tsa\\base\\tsa_model.py:473: ValueWarning: A date index has been provided, but it has no associated frequency information and so will be ignored when e.g. forecasting.\n",
      "  self._init_dates(dates, freq)\n",
      "C:\\Users\\benma\\AppData\\Local\\Packages\\PythonSoftwareFoundation.Python.3.13_qbz5n2kfra8p0\\LocalCache\\local-packages\\Python313\\site-packages\\statsmodels\\tsa\\base\\tsa_model.py:473: ValueWarning: A date index has been provided, but it has no associated frequency information and so will be ignored when e.g. forecasting.\n",
      "  self._init_dates(dates, freq)\n",
      "C:\\Users\\benma\\AppData\\Local\\Packages\\PythonSoftwareFoundation.Python.3.13_qbz5n2kfra8p0\\LocalCache\\local-packages\\Python313\\site-packages\\statsmodels\\tsa\\base\\tsa_model.py:473: ValueWarning: A date index has been provided, but it has no associated frequency information and so will be ignored when e.g. forecasting.\n",
      "  self._init_dates(dates, freq)\n",
      "C:\\Users\\benma\\AppData\\Local\\Packages\\PythonSoftwareFoundation.Python.3.13_qbz5n2kfra8p0\\LocalCache\\local-packages\\Python313\\site-packages\\statsmodels\\tsa\\base\\tsa_model.py:473: ValueWarning: A date index has been provided, but it has no associated frequency information and so will be ignored when e.g. forecasting.\n",
      "  self._init_dates(dates, freq)\n",
      "C:\\Users\\benma\\AppData\\Local\\Packages\\PythonSoftwareFoundation.Python.3.13_qbz5n2kfra8p0\\LocalCache\\local-packages\\Python313\\site-packages\\statsmodels\\tsa\\base\\tsa_model.py:473: ValueWarning: A date index has been provided, but it has no associated frequency information and so will be ignored when e.g. forecasting.\n",
      "  self._init_dates(dates, freq)\n",
      "C:\\Users\\benma\\AppData\\Local\\Packages\\PythonSoftwareFoundation.Python.3.13_qbz5n2kfra8p0\\LocalCache\\local-packages\\Python313\\site-packages\\statsmodels\\tsa\\base\\tsa_model.py:473: ValueWarning: A date index has been provided, but it has no associated frequency information and so will be ignored when e.g. forecasting.\n",
      "  self._init_dates(dates, freq)\n",
      "C:\\Users\\benma\\AppData\\Local\\Packages\\PythonSoftwareFoundation.Python.3.13_qbz5n2kfra8p0\\LocalCache\\local-packages\\Python313\\site-packages\\statsmodels\\tsa\\base\\tsa_model.py:473: ValueWarning: A date index has been provided, but it has no associated frequency information and so will be ignored when e.g. forecasting.\n",
      "  self._init_dates(dates, freq)\n"
     ]
    },
    {
     "data": {
      "image/png": "[encoded data removed]",
      "text/plain": [
       "<Figure size 640x480 with 1 Axes>"
      ]
     },
     "metadata": {},
     "output_type": "display_data"
    }
   ],
   "source": [
    "# Determinacion del valor adecuado de p para AR(p) a partir del criterio de informacion Bayesiano\n",
    "# Fit the data to an AR(p) for p = 0,....,6 and save the BIC\n",
    "\n",
    "BIC= np.zeros(7)\n",
    "for p in range(7):\n",
    "    mod = ARIMA(train, order=(p, 0, 0))\n",
    "    res= mod.fit()\n",
    "# Save BIC for AR(p)\n",
    "    BIC[p] = res.bic\n",
    "\n",
    "# plot the BIC as a function of p\n",
    "\n",
    "plt.plot(range(1,7), BIC[1:7], marker='o')\n",
    "plt.xlabel('Order or AR model')\n",
    "plt.ylabel('Bayesian Information Criterion')\n",
    "plt.show()"
   ]
  },
  {
   "cell_type": "markdown",
   "id": "df90f2a5",
   "metadata": {},
   "source": [
    "### Conclusion: en ambos indices se tiene el menor valor para p=1. se recomienda utilizar AR(1)"
   ]
  }
 ],
 "metadata": {
  "kernelspec": {
   "display_name": "Python 3",
   "language": "python",
   "name": "python3"
  },
  "language_info": {
   "codemirror_mode": {
    "name": "ipython",
    "version": 3
   },
   "file_extension": ".py",
   "mimetype": "text/x-python",
   "name": "python",
   "nbconvert_exporter": "python",
   "pygments_lexer": "ipython3",
   "version": "3.13.7"
  }
 },
 "nbformat": 4,
 "nbformat_minor": 5
}
