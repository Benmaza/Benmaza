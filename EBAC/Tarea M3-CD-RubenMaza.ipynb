{
 "cells": [
  {
   "cell_type": "markdown",
   "metadata": {},
   "source": [
    "#### Escribe un código en Python que solicite al usuario dos valores: el número de horas laboradas por un trabajador en una semana y su tarifa de pago por hora.\n",
    "\n",
    "##### El programa deberá calcular el total a pagar al trabajador de acuerdo a las siguientes reglas:\n",
    "##### a) Si el número de horas trabajadas es menor o igual a 40 el monto a pagar es el número de horas multiplicado por su tarifa de pago por hora.        \n",
    "\n",
    "##### b) Si el número de horas trabajadas es mayor a 40 pero menor o igual a 50, el monto a pagar es ###### el mismo que en el inciso a)  más la diferencia en horaspor arriba de 40 a una tasa por hora 10% \n",
    "##### más alta de la tarifa básica.\n",
    "\n",
    "##### c) Si el número de horas trabajadas es mayor a 50, el monto a pagar es el mismo que en el inciso ###### b)  más la diferencia en horas por arriba de 50 a una tasa por hora 20% más alta de la tarifa \n",
    "##### básica.        \n",
    "\n",
    "##### d) En caso de que alguno de los valores capturados inicialmente (número de horas trabajadas por ###### semana o tarifa de pago por hora) sea errónea (ya sea debido a la captura de valores negativos o \n",
    "##### de texto), deberá imprimirse un mensaje que diga “Parámetros incorrectos”. "
   ]
  },
  {
   "cell_type": "markdown",
   "metadata": {},
   "source": [
    "##### Se Ingresan los datos para el calculo de la nomina"
   ]
  },
  {
   "cell_type": "code",
   "execution_count": 6,
   "metadata": {},
   "outputs": [
    {
     "name": "stdout",
     "output_type": "stream",
     "text": [
      "Las horas laboradas por el trabajador son:  55.0\n",
      "La tarifa por hora es:  5.0\n",
      "\n",
      " El salario del trabajador es:  285.0\n"
     ]
    }
   ],
   "source": [
    "horas_trabajadas = float(input(\"Ingrese las horas trabajadas: \")) \n",
    "tarifa_hora= float(input(\"Ingrese la tarifa por hora: \"))\n",
    "\n",
    "turno = horas_trabajadas * tarifa_hora\n",
    "turno_normal = 40 * tarifa_hora\n",
    "turno_extra = turno_normal + (horas_trabajadas - 40) * (tarifa_hora * 1.1)\n",
    "turno_doble = turno_normal + (10 * tarifa_hora * 1.1) + (horas_trabajadas - 50) * (tarifa_hora * 1.2)\n",
    "\n",
    "print('Las horas laboradas por el trabajador son: ', horas_trabajadas)\n",
    "print('La tarifa por hora es: ', tarifa_hora)\n",
    "if horas_trabajadas <= 40:  #Si el trabajador labora menos de 40 horas\n",
    "    salario = turno\n",
    "    print('El salario del trabajador es: ', salario)\n",
    "elif horas_trabajadas <50:    #Si el trabajador labora mas de 40 horas y menos de 50\n",
    "    salario = turno_extra\n",
    "    print('El salario del trabajador es: ', salario)\n",
    "elif horas_trabajadas > 50: #Si el trabajador labora mas de 50 horas\n",
    "    salario = turno_doble\n",
    "    print('\\nEl salario del trabajador es: ', salario)\n",
    "else: print('Parametros incorrectos') #Si el usuario ingresa un valor erroneo"
   ]
  },
  {
   "cell_type": "markdown",
   "metadata": {},
   "source": [
    "#### Caso Ejemplo:\n",
    "#### Número de horas trabajadas: 55\n",
    "#### Tarifa por hora:5"
   ]
  },
  {
   "cell_type": "code",
   "execution_count": 2,
   "metadata": {},
   "outputs": [
    {
     "name": "stdout",
     "output_type": "stream",
     "text": [
      "Las horas laboradas por el trabajador son:  55.0\n",
      "La tarifa por hora es:  5.0\n",
      "El salario del trabajador es:  285.0\n"
     ]
    }
   ],
   "source": [
    "horas_trabajadas = float(55) \n",
    "tarifa_hora= float(5)\n",
    "\n",
    "turno = horas_trabajadas * tarifa_hora\n",
    "turno_normal = 40 * tarifa_hora\n",
    "turno_extra = turno_normal + (horas_trabajadas - 40) * (tarifa_hora * 1.1)\n",
    "turno_doble = turno_normal + (10 * tarifa_hora * 1.1) + (horas_trabajadas - 50) * (tarifa_hora * 1.2)\n",
    "\n",
    "print('Las horas laboradas por el trabajador son: ', horas_trabajadas)\n",
    "print('La tarifa por hora es: ', tarifa_hora)\n",
    "if horas_trabajadas <= 40:  #Si el trabajador labora menos de 40 horas\n",
    "    salario = turno\n",
    "    print('El salario del trabajador es: ', salario)\n",
    "elif horas_trabajadas <50:    #Si el trabajador labora mas de 40 horas y menos de 50\n",
    "    salario = turno_extra\n",
    "    print('El salario del trabajador es: ', salario)\n",
    "elif horas_trabajadas > 50: #Si el trabajador labora mas de 50 horas\n",
    "    salario = turno_doble\n",
    "    print('\\nEl salario del trabajador es: ', salario)\n",
    "else: print('Parametros incorrectos') #Si el usuario ingresa un valor erroneo"
   ]
  },
  {
   "cell_type": "markdown",
   "metadata": {},
   "source": [
    "##### Caso 1:\n",
    "##### Número de horas trabajadas:35\n",
    "##### Tarifa por hora: 10"
   ]
  },
  {
   "cell_type": "code",
   "execution_count": 4,
   "metadata": {},
   "outputs": [
    {
     "name": "stdout",
     "output_type": "stream",
     "text": [
      "Las horas laboradas por el trabajador son:  35.0\n",
      "La tarifa por hora es:  10.0\n",
      "El salario del trabajador es:  350.0\n"
     ]
    }
   ],
   "source": [
    "horas_trabajadas = float(35) \n",
    "tarifa_hora= float(10)\n",
    "\n",
    "turno = horas_trabajadas * tarifa_hora\n",
    "turno_normal = 40 * tarifa_hora\n",
    "turno_extra = turno_normal + (horas_trabajadas - 40) * (tarifa_hora * 1.1)\n",
    "turno_doble = turno_normal + (10 * tarifa_hora * 1.1) + (horas_trabajadas - 50) * (tarifa_hora * 1.2)\n",
    "\n",
    "print('Las horas laboradas por el trabajador son: ', horas_trabajadas)\n",
    "print('La tarifa por hora es: ', tarifa_hora)\n",
    "if horas_trabajadas <= 40:  #Si el trabajador labora menos de 40 horas\n",
    "    salario = turno\n",
    "    print('El salario del trabajador es: ', salario)\n",
    "elif horas_trabajadas <50:    #Si el trabajador labora mas de 40 horas y menos de 50\n",
    "    salario = turno_extra\n",
    "    print('El salario del trabajador es: ', salario)\n",
    "elif horas_trabajadas > 50: #Si el trabajador labora mas de 50 horas\n",
    "    salario = turno_doble\n",
    "    print('\\nEl salario del trabajador es: ', salario)\n",
    "else: print('Parametros incorrectos') #Si el usuario ingresa un valor erroneo"
   ]
  },
  {
   "cell_type": "markdown",
   "metadata": {},
   "source": [
    "##### Caso 2:\n",
    "##### Número de horas trabajadas:47\n",
    "##### Tarifa por hora: 8"
   ]
  },
  {
   "cell_type": "code",
   "execution_count": 5,
   "metadata": {},
   "outputs": [
    {
     "name": "stdout",
     "output_type": "stream",
     "text": [
      "Las horas laboradas por el trabajador son:  47.0\n",
      "La tarifa por hora es:  8.0\n",
      "El salario del trabajador es:  381.6\n"
     ]
    }
   ],
   "source": [
    "horas_trabajadas = float(47) \n",
    "tarifa_hora= float(8)\n",
    "\n",
    "turno = horas_trabajadas * tarifa_hora\n",
    "turno_normal = 40 * tarifa_hora\n",
    "turno_extra = turno_normal + (horas_trabajadas - 40) * (tarifa_hora * 1.1)\n",
    "turno_doble = turno_normal + (10 * tarifa_hora * 1.1) + (horas_trabajadas - 50) * (tarifa_hora * 1.2)\n",
    "\n",
    "print('Las horas laboradas por el trabajador son: ', horas_trabajadas)\n",
    "print('La tarifa por hora es: ', tarifa_hora)\n",
    "if horas_trabajadas <= 40:  #Si el trabajador labora menos de 40 horas\n",
    "    salario = turno\n",
    "    print('El salario del trabajador es: ', salario)\n",
    "elif horas_trabajadas <50:    #Si el trabajador labora mas de 40 horas y menos de 50\n",
    "    salario = turno_extra\n",
    "    print('El salario del trabajador es: ', salario)\n",
    "elif horas_trabajadas > 50: #Si el trabajador labora mas de 50 horas\n",
    "    salario = turno_doble\n",
    "    print('\\nEl salario del trabajador es: ', salario)\n",
    "else: print('Parametros incorrectos') #Si el usuario ingresa un valor erroneo"
   ]
  },
  {
   "cell_type": "markdown",
   "metadata": {},
   "source": [
    "##### Caso 3:\n",
    "##### Número de horas trabajadas:65\n",
    "##### Tarifa por hora: 15"
   ]
  },
  {
   "cell_type": "code",
   "execution_count": 1,
   "metadata": {},
   "outputs": [
    {
     "name": "stdout",
     "output_type": "stream",
     "text": [
      "Las horas laboradas por el trabajador son:  65.0\n",
      "La tarifa por hora es:  15.0\n",
      "El salario del trabajador es:  1035.0\n"
     ]
    }
   ],
   "source": [
    "horas_trabajadas = float(65) \n",
    "tarifa_hora= float(15)\n",
    "\n",
    "turno = horas_trabajadas * tarifa_hora\n",
    "turno_normal = 40 * tarifa_hora\n",
    "turno_extra = turno_normal + (horas_trabajadas - 40) * (tarifa_hora * 1.1)\n",
    "turno_doble = turno_normal + (10 * tarifa_hora * 1.1) + (horas_trabajadas - 50) * (tarifa_hora * 1.2)\n",
    "\n",
    "print('Las horas laboradas por el trabajador son: ', horas_trabajadas)\n",
    "print('La tarifa por hora es: ', tarifa_hora)\n",
    "if horas_trabajadas <= 40:  #Si el trabajador labora menos de 40 horas\n",
    "    salario = turno\n",
    "    print('El salario del trabajador es: ', salario)\n",
    "elif horas_trabajadas <50:    #Si el trabajador labora mas de 40 horas y menos de 50\n",
    "    salario = turno_extra\n",
    "    print('El salario del trabajador es: ', salario)\n",
    "elif horas_trabajadas > 50: #Si el trabajador labora mas de 50 horas\n",
    "    salario = turno_doble\n",
    "    print('\\nEl salario del trabajador es: ', salario)\n",
    "else: print('Parametros incorrectos') #Si el usuario ingresa un valor erroneo"
   ]
  }
 ],
 "metadata": {
  "kernelspec": {
   "display_name": "Python 3",
   "language": "python",
   "name": "python3"
  },
  "language_info": {
   "codemirror_mode": {
    "name": "ipython",
    "version": 3
   },
   "file_extension": ".py",
   "mimetype": "text/x-python",
   "name": "python",
   "nbconvert_exporter": "python",
   "pygments_lexer": "ipython3",
   "version": "3.11.7"
  }
 },
 "nbformat": 4,
 "nbformat_minor": 2
}
