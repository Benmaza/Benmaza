{
 "cells": [
  {
   "cell_type": "code",
   "execution_count": 2,
   "metadata": {},
   "outputs": [
    {
     "name": "stdout",
     "output_type": "stream",
     "text": [
      "Sesion experta\n"
     ]
    }
   ],
   "source": [
    "class Expertos:\n",
    "    def __init__(self):\n",
    "        self.texto = 'Sesion experta'\n",
    "    \n",
    "    def imprime_texto(self):\n",
    "        print(self.texto)\n",
    "\n",
    "elemento = Expertos()\n",
    "elemento.imprime_texto()"
   ]
  },
  {
   "cell_type": "code",
   "execution_count": 5,
   "metadata": {},
   "outputs": [],
   "source": [
    "class Adicion:\n",
    "    respuesta =0\n",
    "    \n",
    "    def __init__(self, primero, segundo):\n",
    "        self.primero = primero\n",
    "        self.segundo = segundo\n",
    "        \n",
    "    def calcula(self):\n",
    "        self.respuesta = self.primero + self.segundo\n",
    "        \n",
    "    def Mostrar(self):\n",
    "        print(\"Primer número = \"+ str(self.primero))\n",
    "        print(\"Segundo número = \"+ str(self.segundo))\n",
    "        print(\"Adicion de dos números = \"+ str(self.respuesta))"
   ]
  },
  {
   "cell_type": "code",
   "execution_count": 6,
   "metadata": {},
   "outputs": [
    {
     "name": "stdout",
     "output_type": "stream",
     "text": [
      "Primer número = 1000\n",
      "Segundo número = 2000\n",
      "Adicion de dos números = 3000\n"
     ]
    }
   ],
   "source": [
    "obj= Adicion(1000, 2000)\n",
    "obj.calcula()\n",
    "obj.Mostrar()\n"
   ]
  },
  {
   "cell_type": "markdown",
   "metadata": {},
   "source": [
    "### Herencias"
   ]
  },
  {
   "cell_type": "code",
   "execution_count": 1,
   "metadata": {},
   "outputs": [
    {
     "name": "stdout",
     "output_type": "stream",
     "text": [
      "Hola, soy Manuel Gomez y tengo 20 años de edad.\n"
     ]
    }
   ],
   "source": [
    "class Estudiante(object):         #Clase padre\n",
    "    def __init__(self, edad, nombre):\n",
    "        self.edad = edad\n",
    "        self.nombre = nombre\n",
    "        \n",
    "class Derecho( Estudiante ):       #Clase hija\n",
    "    def presentarse(self):\n",
    "        print(\"Hola, soy \" + self.nombre + \" y tengo \" + str(self.edad) + \" años de edad.\")\n",
    "\n",
    "manuel = Derecho( 20, \"Manuel Gomez\" )\n",
    "manuel.presentarse()"
   ]
  },
  {
   "cell_type": "code",
   "execution_count": 2,
   "metadata": {},
   "outputs": [
    {
     "name": "stdout",
     "output_type": "stream",
     "text": [
      "Hola, soy Manuel Gomez y tengo 20 años de edad.\n",
      "Estudio en el Instituto de Derecho\n"
     ]
    }
   ],
   "source": [
    "### Herencia multiple\n",
    "\n",
    "class Estudiante(object):         #Clase padre no.1\n",
    "    def __init__(self, edad, nombre):\n",
    "        self.edad = edad\n",
    "        self.nombre = nombre\n",
    "        \n",
    "class Instituto(object):         #Clase padre no.2\n",
    "    def Presentar_Instituto(self):\n",
    "        print(\"Estudio en el Instituto de Derecho\")\n",
    "        \n",
    "class Derecho( Estudiante, Instituto ):       #Clase hija\n",
    "    def presentarse(self):\n",
    "        print(\"Hola, soy \" + self.nombre + \" y tengo \" + str(self.edad) + \" años de edad.\")\n",
    "        \n",
    "Manuel = Derecho( 20, \"Manuel Gomez\" )\n",
    "Manuel.presentarse()\n",
    "Manuel.Presentar_Instituto()"
   ]
  },
  {
   "cell_type": "markdown",
   "metadata": {},
   "source": [
    "#### Defina una clase padre llamada \"figura\" y de ella dos clases hijas llamadas \"circulo\" y \"triangulo\"\n",
    "deben ser capaces de calcular el area de cada caso apartir de los parametros requeridos para cada figura"
   ]
  },
  {
   "cell_type": "code",
   "execution_count": 3,
   "metadata": {},
   "outputs": [],
   "source": [
    "class Figura(object):\n",
    "    def area(self):\n",
    "        pass\n",
    "    #objeto del Circulo\n",
    "class Circulo(Figura):\n",
    "    def __init__(self, radio=0):\n",
    "        self.radio = radio\n",
    "        \n",
    "    def area(self):\n",
    "        return 3.1416 * (self.radio ** 2)\n",
    "    #objeto del Triangulo\n",
    "class Triangulo(Figura):\n",
    "    def __init__(self, base=0, altura=0):\n",
    "        self.base = base\n",
    "        self.altura = altura\n",
    "        \n",
    "    def area(self):\n",
    "        return (self.base * self.altura) / 2"
   ]
  },
  {
   "cell_type": "code",
   "execution_count": 4,
   "metadata": {},
   "outputs": [
    {
     "name": "stdout",
     "output_type": "stream",
     "text": [
      "50.2656\n"
     ]
    }
   ],
   "source": [
    "c= Circulo(4)\n",
    "print(c.area())"
   ]
  },
  {
   "cell_type": "code",
   "execution_count": 5,
   "metadata": {},
   "outputs": [
    {
     "name": "stdout",
     "output_type": "stream",
     "text": [
      "7.5\n"
     ]
    }
   ],
   "source": [
    "t= Triangulo(3, 5)\n",
    "print(t.area())"
   ]
  }
 ],
 "metadata": {
  "kernelspec": {
   "display_name": "Python 3",
   "language": "python",
   "name": "python3"
  },
  "language_info": {
   "codemirror_mode": {
    "name": "ipython",
    "version": 3
   },
   "file_extension": ".py",
   "mimetype": "text/x-python",
   "name": "python",
   "nbconvert_exporter": "python",
   "pygments_lexer": "ipython3",
   "version": "3.12.0"
  }
 },
 "nbformat": 4,
 "nbformat_minor": 2
}
