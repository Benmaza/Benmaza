{
 "cells": [
  {
   "cell_type": "code",
   "execution_count": 2,
   "metadata": {},
   "outputs": [
    {
     "name": "stdout",
     "output_type": "stream",
     "text": [
      "Sesion experta\n"
     ]
    }
   ],
   "source": [
    "class Expertos:\n",
    "    def __init__(self):\n",
    "        self.texto = 'Sesion experta'\n",
    "    \n",
    "    def imprime_texto(self):\n",
    "        print(self.texto)\n",
    "\n",
    "elemento = Expertos()\n",
    "elemento.imprime_texto()"
   ]
  },
  {
   "cell_type": "code",
   "execution_count": 5,
   "metadata": {},
   "outputs": [],
   "source": [
    "class Adicion:\n",
    "    respuesta =0\n",
    "    \n",
    "    def __init__(self, primero, segundo):\n",
    "        self.primero = primero\n",
    "        self.segundo = segundo\n",
    "        \n",
    "    def calcula(self):\n",
    "        self.respuesta = self.primero + self.segundo\n",
    "        \n",
    "    def Mostrar(self):\n",
    "        print(\"Primer número = \"+ str(self.primero))\n",
    "        print(\"Segundo número = \"+ str(self.segundo))\n",
    "        print(\"Adicion de dos números = \"+ str(self.respuesta))"
   ]
  },
  {
   "cell_type": "code",
   "execution_count": 6,
   "metadata": {},
   "outputs": [
    {
     "name": "stdout",
     "output_type": "stream",
     "text": [
      "Primer número = 1000\n",
      "Segundo número = 2000\n",
      "Adicion de dos números = 3000\n"
     ]
    }
   ],
   "source": [
    "obj= Adicion(1000, 2000)\n",
    "obj.calcula()\n",
    "obj.Mostrar()\n"
   ]
  },
  {
   "cell_type": "markdown",
   "metadata": {},
   "source": [
    "### Herencias"
   ]
  },
  {
   "cell_type": "code",
   "execution_count": null,
   "metadata": {},
   "outputs": [],
   "source": []
  }
 ],
 "metadata": {
  "kernelspec": {
   "display_name": "Python 3",
   "language": "python",
   "name": "python3"
  },
  "language_info": {
   "codemirror_mode": {
    "name": "ipython",
    "version": 3
   },
   "file_extension": ".py",
   "mimetype": "text/x-python",
   "name": "python",
   "nbconvert_exporter": "python",
   "pygments_lexer": "ipython3",
   "version": "3.12.2"
  }
 },
 "nbformat": 4,
 "nbformat_minor": 2
}
