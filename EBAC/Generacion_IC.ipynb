{
 "cells": [
  {
   "cell_type": "code",
   "execution_count": 1,
   "id": "fc80d0ad",
   "metadata": {},
   "outputs": [],
   "source": [
    "import pandas as pd\n",
    "import numpy as np\n",
    "import warnings\n",
    "warnings.filterwarnings('ignore')"
   ]
  },
  {
   "cell_type": "code",
   "execution_count": 2,
   "id": "0fc9c104",
   "metadata": {},
   "outputs": [
    {
     "data": {
      "text/plain": [
       "array([[3],\n",
       "       [1],\n",
       "       [8],\n",
       "       [3],\n",
       "       [5]])"
      ]
     },
     "execution_count": 2,
     "metadata": {},
     "output_type": "execute_result"
    }
   ],
   "source": [
    "Y = np.array([[3],[1],[8],[3],[5]])\n",
    "Y"
   ]
  },
  {
   "cell_type": "code",
   "execution_count": 3,
   "id": "ed8d41b8",
   "metadata": {},
   "outputs": [
    {
     "data": {
      "text/plain": [
       "array([[1, 3],\n",
       "       [1, 1],\n",
       "       [1, 5],\n",
       "       [1, 2],\n",
       "       [1, 4]])"
      ]
     },
     "execution_count": 3,
     "metadata": {},
     "output_type": "execute_result"
    }
   ],
   "source": [
    "X = np.array([[1,3],[1,1],[1,5],[1,2],[1,4]])\n",
    "X"
   ]
  },
  {
   "cell_type": "code",
   "execution_count": 4,
   "id": "6c0ce2ec",
   "metadata": {},
   "outputs": [
    {
     "data": {
      "text/plain": [
       "array([[ 5, 15],\n",
       "       [15, 55]])"
      ]
     },
     "execution_count": 4,
     "metadata": {},
     "output_type": "execute_result"
    }
   ],
   "source": [
    "XT_X = np.matmul(np.matrix_transpose(X), X)\n",
    "XT_X"
   ]
  },
  {
   "cell_type": "code",
   "execution_count": 5,
   "id": "219f9101",
   "metadata": {},
   "outputs": [
    {
     "data": {
      "text/plain": [
       "array([[ 1.1, -0.3],\n",
       "       [-0.3,  0.1]])"
      ]
     },
     "execution_count": 5,
     "metadata": {},
     "output_type": "execute_result"
    }
   ],
   "source": [
    "XT_X_inv = np.linalg.inv(XT_X)\n",
    "XT_X_inv"
   ]
  },
  {
   "cell_type": "code",
   "execution_count": 6,
   "id": "a5b4f7fe",
   "metadata": {},
   "outputs": [
    {
     "data": {
      "text/plain": [
       "array([[20],\n",
       "       [76]])"
      ]
     },
     "execution_count": 6,
     "metadata": {},
     "output_type": "execute_result"
    }
   ],
   "source": [
    "XT_Y = np.matmul(np.matrix_transpose(X), Y)\n",
    "XT_Y"
   ]
  },
  {
   "cell_type": "code",
   "execution_count": 7,
   "id": "6dbf15f1",
   "metadata": {},
   "outputs": [
    {
     "data": {
      "text/plain": [
       "array([[-0.8],\n",
       "       [ 1.6]])"
      ]
     },
     "execution_count": 7,
     "metadata": {},
     "output_type": "execute_result"
    }
   ],
   "source": [
    "betas = np.matmul(XT_X_inv, XT_Y)\n",
    "betas"
   ]
  },
  {
   "cell_type": "code",
   "execution_count": 8,
   "id": "f62f65bb",
   "metadata": {},
   "outputs": [
    {
     "data": {
      "text/plain": [
       "array([[4. ],\n",
       "       [0.8],\n",
       "       [7.2],\n",
       "       [2.4],\n",
       "       [5.6]])"
      ]
     },
     "execution_count": 8,
     "metadata": {},
     "output_type": "execute_result"
    }
   ],
   "source": [
    "# calculo de Y pronosticadas\n",
    "y_pred = np.matmul(X, betas)\n",
    "y_pred"
   ]
  },
  {
   "cell_type": "code",
   "execution_count": 9,
   "id": "37311c3a",
   "metadata": {},
   "outputs": [
    {
     "data": {
      "text/plain": [
       "array([[-1. ],\n",
       "       [ 0.2],\n",
       "       [ 0.8],\n",
       "       [ 0.6],\n",
       "       [-0.6]])"
      ]
     },
     "execution_count": 9,
     "metadata": {},
     "output_type": "execute_result"
    }
   ],
   "source": [
    "residuales = Y - y_pred\n",
    "residuales"
   ]
  },
  {
   "cell_type": "code",
   "execution_count": 10,
   "id": "61d7ac91",
   "metadata": {},
   "outputs": [
    {
     "data": {
      "text/plain": [
       "array([[2.4]])"
      ]
     },
     "execution_count": 10,
     "metadata": {},
     "output_type": "execute_result"
    }
   ],
   "source": [
    "# Suma de residuos al cuadrado \n",
    "# calculo de la bondad de ajuste con funciones de R2\n",
    "RSS = np.matmul(np.matrix_transpose(residuales), residuales)\n",
    "RSS"
   ]
  },
  {
   "cell_type": "code",
   "execution_count": 11,
   "id": "53db8980",
   "metadata": {},
   "outputs": [
    {
     "data": {
      "text/plain": [
       "array([[28.]])"
      ]
     },
     "execution_count": 11,
     "metadata": {},
     "output_type": "execute_result"
    }
   ],
   "source": [
    "# calculo de la suma total de cuadrados\n",
    "TSS = np.matmul(np.matrix_transpose(Y - np.mean(Y)), Y - np.mean(Y))\n",
    "TSS"
   ]
  },
  {
   "cell_type": "code",
   "execution_count": 12,
   "id": "df56b85b",
   "metadata": {},
   "outputs": [
    {
     "data": {
      "text/plain": [
       "array([[28.]])"
      ]
     },
     "execution_count": 12,
     "metadata": {},
     "output_type": "execute_result"
    }
   ],
   "source": [
    "# calculo de la suma total de cuadrados de otra manera\n",
    "TSS2 = np.matmul(np.matrix_transpose(Y), Y) - len(Y) * (Y.mean() ** 2)\n",
    "TSS2"
   ]
  },
  {
   "cell_type": "code",
   "execution_count": 13,
   "id": "f302748e",
   "metadata": {},
   "outputs": [
    {
     "data": {
      "text/plain": [
       "0.9142857142857144"
      ]
     },
     "execution_count": 13,
     "metadata": {},
     "output_type": "execute_result"
    }
   ],
   "source": [
    "# calculo del coeficiente de determinacion\n",
    "R_cuad = float(1 - (RSS / TSS))\n",
    "R_cuad"
   ]
  },
  {
   "cell_type": "code",
   "execution_count": 14,
   "id": "3e01e073",
   "metadata": {},
   "outputs": [
    {
     "data": {
      "text/plain": [
       "array([[0.8]])"
      ]
     },
     "execution_count": 14,
     "metadata": {},
     "output_type": "execute_result"
    }
   ],
   "source": [
    "# calculo de la varianza de los errores\n",
    "S_cuad = RSS / (len(Y) - X.shape[1])\n",
    "S_cuad"
   ]
  },
  {
   "cell_type": "code",
   "execution_count": 15,
   "id": "387fa550",
   "metadata": {},
   "outputs": [
    {
     "data": {
      "text/plain": [
       "array([[0.89442719]])"
      ]
     },
     "execution_count": 15,
     "metadata": {},
     "output_type": "execute_result"
    }
   ],
   "source": [
    "# desviacion estandar de los errores\n",
    "S = np.sqrt(S_cuad)\n",
    "S"
   ]
  },
  {
   "cell_type": "code",
   "execution_count": 16,
   "id": "9b88a4fe",
   "metadata": {},
   "outputs": [
    {
     "data": {
      "text/plain": [
       "np.float64(3.182446305284263)"
      ]
     },
     "execution_count": 16,
     "metadata": {},
     "output_type": "execute_result"
    }
   ],
   "source": [
    "# obtencion del valor critico de la t de student\n",
    "import scipy.stats \n",
    "\n",
    "# grados de libertad : n - (k+1)\n",
    "grados_libertad = len(Y) - X.shape[1]\n",
    "confianza = 0.95\n",
    "q = 1 - (1 - confianza) / 2\n",
    "t_critico = abs(scipy.stats.t.ppf(q, grados_libertad))\n",
    "t_critico"
   ]
  },
  {
   "cell_type": "code",
   "execution_count": 17,
   "id": "f265d64b",
   "metadata": {},
   "outputs": [
    {
     "data": {
      "text/plain": [
       "array([[1],\n",
       "       [7]])"
      ]
     },
     "execution_count": 17,
     "metadata": {},
     "output_type": "execute_result"
    }
   ],
   "source": [
    "# vector de valores particulares de X\n",
    "f = np.array([[1], [7]])\n",
    "f"
   ]
  },
  {
   "cell_type": "code",
   "execution_count": 18,
   "id": "72aecf1a",
   "metadata": {},
   "outputs": [
    {
     "data": {
      "text/plain": [
       "array([[3.81893557]])"
      ]
     },
     "execution_count": 18,
     "metadata": {},
     "output_type": "execute_result"
    }
   ],
   "source": [
    "margen_error = t_critico * (S *(float(np.matmul(np.matmul(np.matrix_transpose(f),XT_X_inv), f) ** 0.5)))\n",
    "margen_error"
   ]
  },
  {
   "cell_type": "code",
   "execution_count": 19,
   "id": "daee0e1e",
   "metadata": {},
   "outputs": [
    {
     "data": {
      "text/plain": [
       "10.400000000000006"
      ]
     },
     "execution_count": 19,
     "metadata": {},
     "output_type": "execute_result"
    }
   ],
   "source": [
    "pron_puntual = float(np.matmul(np.matrix_transpose(f), betas))\n",
    "pron_puntual"
   ]
  },
  {
   "cell_type": "code",
   "execution_count": 20,
   "id": "5f93c4ba",
   "metadata": {},
   "outputs": [
    {
     "name": "stdout",
     "output_type": "stream",
     "text": [
      "El intervalo de confianza es: [[6.58106443]], [[14.21893557]]\n"
     ]
    }
   ],
   "source": [
    "# limites de intervalo de confianza\n",
    "Lim_inf = pron_puntual - margen_error\n",
    "Lim_sup = pron_puntual + margen_error\n",
    "print(f\"El intervalo de confianza es: {Lim_inf}, {Lim_sup}\")"
   ]
  },
  {
   "cell_type": "markdown",
   "id": "e0960840",
   "metadata": {},
   "source": [
    "VALIDACION DE SUPUESTOS DE LA REGRESIÓN"
   ]
  },
  {
   "cell_type": "code",
   "execution_count": 21,
   "id": "62c63017",
   "metadata": {},
   "outputs": [
    {
     "data": {
      "text/plain": [
       "array([[-1. ],\n",
       "       [ 0.2],\n",
       "       [ 0.8],\n",
       "       [ 0.6],\n",
       "       [-0.6]])"
      ]
     },
     "execution_count": 21,
     "metadata": {},
     "output_type": "execute_result"
    }
   ],
   "source": [
    "import scipy\n",
    "residuales"
   ]
  },
  {
   "cell_type": "code",
   "execution_count": 22,
   "id": "965aefc2",
   "metadata": {},
   "outputs": [
    {
     "data": {
      "text/plain": [
       "-0.2886751345948135"
      ]
     },
     "execution_count": 22,
     "metadata": {},
     "output_type": "execute_result"
    }
   ],
   "source": [
    "# calculo de la simetría de los residuos\n",
    "skev = float(scipy.stats.skew(residuales, bias = True))\n",
    "skev"
   ]
  },
  {
   "cell_type": "code",
   "execution_count": 23,
   "id": "62d0ef7f",
   "metadata": {},
   "outputs": [
    {
     "data": {
      "text/plain": [
       "1.4499999999999993"
      ]
     },
     "execution_count": 23,
     "metadata": {},
     "output_type": "execute_result"
    }
   ],
   "source": [
    "# calculo de la curtosis de los residuales\n",
    "kurtosis = float(scipy.stats.kurtosis(residuales, fisher = False))\n",
    "kurtosis"
   ]
  },
  {
   "cell_type": "code",
   "execution_count": 24,
   "id": "93d7bdec",
   "metadata": {},
   "outputs": [
    {
     "data": {
      "text/plain": [
       "0.5699652777777785"
      ]
     },
     "execution_count": 24,
     "metadata": {},
     "output_type": "execute_result"
    }
   ],
   "source": [
    "Jarque_Bera = (len(Y) / 6) * (skev ** 2 + ((kurtosis - 3) ** 2) / 4)\n",
    "Jarque_Bera"
   ]
  },
  {
   "cell_type": "code",
   "execution_count": 25,
   "id": "cf399105",
   "metadata": {},
   "outputs": [
    {
     "data": {
      "text/plain": [
       "np.float64(5.991464547107979)"
      ]
     },
     "execution_count": 25,
     "metadata": {},
     "output_type": "execute_result"
    }
   ],
   "source": [
    "import scipy.stats\n",
    "\n",
    "\n",
    "Nivel_confianza = 0.95\n",
    "scipy.stats.chi2.ppf(Nivel_confianza, df = 2)"
   ]
  },
  {
   "cell_type": "markdown",
   "id": "c30e3a20",
   "metadata": {},
   "source": [
    "Conclusión: dado que JB no es mayor al nivel critico, no podemos rechazar la hipotesis de existencia de normalidad en los residuales"
   ]
  },
  {
   "cell_type": "markdown",
   "id": "e3107e13",
   "metadata": {},
   "source": [
    "### Supuesto 2: Inexistencia de autocorrelación entre residuales"
   ]
  },
  {
   "cell_type": "code",
   "execution_count": 26,
   "id": "2720a525",
   "metadata": {},
   "outputs": [],
   "source": [
    "from statsmodels.formula.api import ols"
   ]
  },
  {
   "cell_type": "code",
   "execution_count": 27,
   "id": "00b90c37",
   "metadata": {},
   "outputs": [
    {
     "data": {
      "application/vnd.microsoft.datawrangler.viewer.v0+json": {
       "columns": [
        {
         "name": "index",
         "rawType": "int64",
         "type": "integer"
        },
        {
         "name": "0",
         "rawType": "int64",
         "type": "integer"
        }
       ],
       "ref": "af0f5aa3-b2e8-4712-bf70-25d1244cda54",
       "rows": [
        [
         "0",
         "3"
        ],
        [
         "1",
         "1"
        ],
        [
         "2",
         "5"
        ],
        [
         "3",
         "2"
        ],
        [
         "4",
         "4"
        ]
       ],
       "shape": {
        "columns": 1,
        "rows": 5
       }
      },
      "text/html": [
       "<div>\n",
       "<style scoped>\n",
       "    .dataframe tbody tr th:only-of-type {\n",
       "        vertical-align: middle;\n",
       "    }\n",
       "\n",
       "    .dataframe tbody tr th {\n",
       "        vertical-align: top;\n",
       "    }\n",
       "\n",
       "    .dataframe thead th {\n",
       "        text-align: right;\n",
       "    }\n",
       "</style>\n",
       "<table border=\"1\" class=\"dataframe\">\n",
       "  <thead>\n",
       "    <tr style=\"text-align: right;\">\n",
       "      <th></th>\n",
       "      <th>0</th>\n",
       "    </tr>\n",
       "  </thead>\n",
       "  <tbody>\n",
       "    <tr>\n",
       "      <th>0</th>\n",
       "      <td>3</td>\n",
       "    </tr>\n",
       "    <tr>\n",
       "      <th>1</th>\n",
       "      <td>1</td>\n",
       "    </tr>\n",
       "    <tr>\n",
       "      <th>2</th>\n",
       "      <td>5</td>\n",
       "    </tr>\n",
       "    <tr>\n",
       "      <th>3</th>\n",
       "      <td>2</td>\n",
       "    </tr>\n",
       "    <tr>\n",
       "      <th>4</th>\n",
       "      <td>4</td>\n",
       "    </tr>\n",
       "  </tbody>\n",
       "</table>\n",
       "</div>"
      ],
      "text/plain": [
       "   0\n",
       "0  3\n",
       "1  1\n",
       "2  5\n",
       "3  2\n",
       "4  4"
      ]
     },
     "execution_count": 27,
     "metadata": {},
     "output_type": "execute_result"
    }
   ],
   "source": [
    "y_df = pd.DataFrame(Y)\n",
    "x_df = pd.DataFrame(X[:,1:2])\n",
    "x_df"
   ]
  },
  {
   "cell_type": "code",
   "execution_count": 28,
   "id": "5a8225be",
   "metadata": {},
   "outputs": [
    {
     "data": {
      "application/vnd.microsoft.datawrangler.viewer.v0+json": {
       "columns": [
        {
         "name": "index",
         "rawType": "int64",
         "type": "integer"
        },
        {
         "name": "y",
         "rawType": "int64",
         "type": "integer"
        },
        {
         "name": "x1",
         "rawType": "int64",
         "type": "integer"
        }
       ],
       "ref": "5fdb0531-62cc-4783-bac8-7b112ac93af5",
       "rows": [
        [
         "0",
         "3",
         "3"
        ],
        [
         "1",
         "1",
         "1"
        ],
        [
         "2",
         "8",
         "5"
        ],
        [
         "3",
         "3",
         "2"
        ],
        [
         "4",
         "5",
         "4"
        ]
       ],
       "shape": {
        "columns": 2,
        "rows": 5
       }
      },
      "text/html": [
       "<div>\n",
       "<style scoped>\n",
       "    .dataframe tbody tr th:only-of-type {\n",
       "        vertical-align: middle;\n",
       "    }\n",
       "\n",
       "    .dataframe tbody tr th {\n",
       "        vertical-align: top;\n",
       "    }\n",
       "\n",
       "    .dataframe thead th {\n",
       "        text-align: right;\n",
       "    }\n",
       "</style>\n",
       "<table border=\"1\" class=\"dataframe\">\n",
       "  <thead>\n",
       "    <tr style=\"text-align: right;\">\n",
       "      <th></th>\n",
       "      <th>y</th>\n",
       "      <th>x1</th>\n",
       "    </tr>\n",
       "  </thead>\n",
       "  <tbody>\n",
       "    <tr>\n",
       "      <th>0</th>\n",
       "      <td>3</td>\n",
       "      <td>3</td>\n",
       "    </tr>\n",
       "    <tr>\n",
       "      <th>1</th>\n",
       "      <td>1</td>\n",
       "      <td>1</td>\n",
       "    </tr>\n",
       "    <tr>\n",
       "      <th>2</th>\n",
       "      <td>8</td>\n",
       "      <td>5</td>\n",
       "    </tr>\n",
       "    <tr>\n",
       "      <th>3</th>\n",
       "      <td>3</td>\n",
       "      <td>2</td>\n",
       "    </tr>\n",
       "    <tr>\n",
       "      <th>4</th>\n",
       "      <td>5</td>\n",
       "      <td>4</td>\n",
       "    </tr>\n",
       "  </tbody>\n",
       "</table>\n",
       "</div>"
      ],
      "text/plain": [
       "   y  x1\n",
       "0  3   3\n",
       "1  1   1\n",
       "2  8   5\n",
       "3  3   2\n",
       "4  5   4"
      ]
     },
     "execution_count": 28,
     "metadata": {},
     "output_type": "execute_result"
    }
   ],
   "source": [
    "df = pd.concat((y_df,x_df.reindex(y_df.index)), axis=1)\n",
    "df.columns = ['y', 'x1']\n",
    "df"
   ]
  },
  {
   "cell_type": "code",
   "execution_count": 29,
   "id": "f183d22b",
   "metadata": {},
   "outputs": [
    {
     "data": {
      "text/plain": [
       "np.float64(1.3666666666666656)"
      ]
     },
     "execution_count": 29,
     "metadata": {},
     "output_type": "execute_result"
    }
   ],
   "source": [
    "# ajuste de regresion lineal multiple\n",
    "model = ols('y ~ x1', data=df).fit()\n",
    "\n",
    "from statsmodels.stats.stattools import durbin_watson\n",
    "\n",
    "# prueba de durbin watson\n",
    "durbin_watson(model.resid)"
   ]
  },
  {
   "cell_type": "markdown",
   "id": "4bb709bb",
   "metadata": {},
   "source": [
    "Conclusion: Dado que DW no es aprox. igual a 2, podemos pensar que existe autocorrelacion entre los residuales"
   ]
  },
  {
   "cell_type": "markdown",
   "id": "2820f54a",
   "metadata": {},
   "source": [
    "## Supuesto 3: Homocedasticidad ( igual de varianzas)"
   ]
  },
  {
   "cell_type": "code",
   "execution_count": 31,
   "id": "a17d663b",
   "metadata": {},
   "outputs": [
    {
     "data": {
      "application/vnd.microsoft.datawrangler.viewer.v0+json": {
       "columns": [
        {
         "name": "index",
         "rawType": "int64",
         "type": "integer"
        },
        {
         "name": "residcuad",
         "rawType": "float64",
         "type": "float"
        }
       ],
       "ref": "7bb9198c-b80c-43b8-9800-1c68c714ad7d",
       "rows": [
        [
         "0",
         "1.000000000000007"
        ],
        [
         "1",
         "0.03999999999999874"
        ],
        [
         "2",
         "0.6399999999999926"
        ],
        [
         "3",
         "0.3599999999999958"
        ],
        [
         "4",
         "0.3600000000000049"
        ]
       ],
       "shape": {
        "columns": 1,
        "rows": 5
       }
      },
      "text/html": [
       "<div>\n",
       "<style scoped>\n",
       "    .dataframe tbody tr th:only-of-type {\n",
       "        vertical-align: middle;\n",
       "    }\n",
       "\n",
       "    .dataframe tbody tr th {\n",
       "        vertical-align: top;\n",
       "    }\n",
       "\n",
       "    .dataframe thead th {\n",
       "        text-align: right;\n",
       "    }\n",
       "</style>\n",
       "<table border=\"1\" class=\"dataframe\">\n",
       "  <thead>\n",
       "    <tr style=\"text-align: right;\">\n",
       "      <th></th>\n",
       "      <th>residcuad</th>\n",
       "    </tr>\n",
       "  </thead>\n",
       "  <tbody>\n",
       "    <tr>\n",
       "      <th>0</th>\n",
       "      <td>1.00</td>\n",
       "    </tr>\n",
       "    <tr>\n",
       "      <th>1</th>\n",
       "      <td>0.04</td>\n",
       "    </tr>\n",
       "    <tr>\n",
       "      <th>2</th>\n",
       "      <td>0.64</td>\n",
       "    </tr>\n",
       "    <tr>\n",
       "      <th>3</th>\n",
       "      <td>0.36</td>\n",
       "    </tr>\n",
       "    <tr>\n",
       "      <th>4</th>\n",
       "      <td>0.36</td>\n",
       "    </tr>\n",
       "  </tbody>\n",
       "</table>\n",
       "</div>"
      ],
      "text/plain": [
       "   residcuad\n",
       "0       1.00\n",
       "1       0.04\n",
       "2       0.64\n",
       "3       0.36\n",
       "4       0.36"
      ]
     },
     "execution_count": 31,
     "metadata": {},
     "output_type": "execute_result"
    }
   ],
   "source": [
    "residcuad = residuales ** 2\n",
    "residcuad = pd.DataFrame(residcuad, columns=['residcuad'])\n",
    "residcuad"
   ]
  },
  {
   "cell_type": "code",
   "execution_count": 40,
   "id": "bfacf50c",
   "metadata": {},
   "outputs": [],
   "source": [
    "X1 = df.iloc[:,1]\n",
    "X1_df = pd.DataFrame(X1.values, columns=['X1'])\n",
    "X1cuad = X1 ** 2\n",
    "X1cuad_df = pd.DataFrame(X1cuad.values, columns=['X1cuad'])"
   ]
  },
  {
   "cell_type": "code",
   "execution_count": 41,
   "id": "6ffb1bc9",
   "metadata": {},
   "outputs": [
    {
     "data": {
      "application/vnd.microsoft.datawrangler.viewer.v0+json": {
       "columns": [
        {
         "name": "index",
         "rawType": "int64",
         "type": "integer"
        },
        {
         "name": "residual",
         "rawType": "float64",
         "type": "float"
        },
        {
         "name": "x1",
         "rawType": "int64",
         "type": "integer"
        },
        {
         "name": "X1cuad",
         "rawType": "int64",
         "type": "integer"
        }
       ],
       "ref": "860aa928-217c-4be8-9cbc-c38a4efa941e",
       "rows": [
        [
         "0",
         "1.000000000000007",
         "3",
         "9"
        ],
        [
         "1",
         "0.03999999999999874",
         "1",
         "1"
        ],
        [
         "2",
         "0.6399999999999926",
         "5",
         "25"
        ],
        [
         "3",
         "0.3599999999999958",
         "2",
         "4"
        ],
        [
         "4",
         "0.3600000000000049",
         "4",
         "16"
        ]
       ],
       "shape": {
        "columns": 3,
        "rows": 5
       }
      },
      "text/html": [
       "<div>\n",
       "<style scoped>\n",
       "    .dataframe tbody tr th:only-of-type {\n",
       "        vertical-align: middle;\n",
       "    }\n",
       "\n",
       "    .dataframe tbody tr th {\n",
       "        vertical-align: top;\n",
       "    }\n",
       "\n",
       "    .dataframe thead th {\n",
       "        text-align: right;\n",
       "    }\n",
       "</style>\n",
       "<table border=\"1\" class=\"dataframe\">\n",
       "  <thead>\n",
       "    <tr style=\"text-align: right;\">\n",
       "      <th></th>\n",
       "      <th>residual</th>\n",
       "      <th>x1</th>\n",
       "      <th>X1cuad</th>\n",
       "    </tr>\n",
       "  </thead>\n",
       "  <tbody>\n",
       "    <tr>\n",
       "      <th>0</th>\n",
       "      <td>1.00</td>\n",
       "      <td>3</td>\n",
       "      <td>9</td>\n",
       "    </tr>\n",
       "    <tr>\n",
       "      <th>1</th>\n",
       "      <td>0.04</td>\n",
       "      <td>1</td>\n",
       "      <td>1</td>\n",
       "    </tr>\n",
       "    <tr>\n",
       "      <th>2</th>\n",
       "      <td>0.64</td>\n",
       "      <td>5</td>\n",
       "      <td>25</td>\n",
       "    </tr>\n",
       "    <tr>\n",
       "      <th>3</th>\n",
       "      <td>0.36</td>\n",
       "      <td>2</td>\n",
       "      <td>4</td>\n",
       "    </tr>\n",
       "    <tr>\n",
       "      <th>4</th>\n",
       "      <td>0.36</td>\n",
       "      <td>4</td>\n",
       "      <td>16</td>\n",
       "    </tr>\n",
       "  </tbody>\n",
       "</table>\n",
       "</div>"
      ],
      "text/plain": [
       "   residual  x1  X1cuad\n",
       "0      1.00   3       9\n",
       "1      0.04   1       1\n",
       "2      0.64   5      25\n",
       "3      0.36   2       4\n",
       "4      0.36   4      16"
      ]
     },
     "execution_count": 41,
     "metadata": {},
     "output_type": "execute_result"
    }
   ],
   "source": [
    "df_Aux = pd.concat([residcuad, X1_df, X1cuad_df], axis=1)\n",
    "df_Aux.columns = ['residual', 'x1', 'X1cuad']\n",
    "df_Aux"
   ]
  },
  {
   "cell_type": "code",
   "execution_count": 42,
   "id": "46298be6",
   "metadata": {},
   "outputs": [
    {
     "data": {
      "text/plain": [
       "np.float64(0.47619047619047594)"
      ]
     },
     "execution_count": 42,
     "metadata": {},
     "output_type": "execute_result"
    }
   ],
   "source": [
    "# Ajuste de regresion lineal multiple con cuadrado de X1\n",
    "modelAux= ols('residuales ~ X1 + X1cuad', data=df_Aux).fit()\n",
    "RSgAux = modelAux.rsquared\n",
    "RSgAux"
   ]
  },
  {
   "cell_type": "code",
   "execution_count": 43,
   "id": "b36c0330",
   "metadata": {},
   "outputs": [
    {
     "data": {
      "text/plain": [
       "np.float64(2.3809523809523796)"
      ]
     },
     "execution_count": 43,
     "metadata": {},
     "output_type": "execute_result"
    }
   ],
   "source": [
    "Estadistico = len(Y) * RSgAux\n",
    "Estadistico"
   ]
  },
  {
   "cell_type": "code",
   "execution_count": 44,
   "id": "87fdcd23",
   "metadata": {},
   "outputs": [
    {
     "data": {
      "text/plain": [
       "np.float64(5.991464547107979)"
      ]
     },
     "execution_count": 44,
     "metadata": {},
     "output_type": "execute_result"
    }
   ],
   "source": [
    "Nivel_confianza = 0.95\n",
    "scipy.stats.chi2.ppf(Nivel_confianza, df = 2)"
   ]
  },
  {
   "cell_type": "markdown",
   "id": "f1293a7f",
   "metadata": {},
   "source": [
    "Conclusion: Al no superar el valor critico nuestro estadistico de prueba, no hay evidencia de heterocedasticidad ( Desigualdad de varianzas de los residuales)"
   ]
  },
  {
   "cell_type": "code",
   "execution_count": 46,
   "id": "bce3fa63",
   "metadata": {},
   "outputs": [
    {
     "name": "stdout",
     "output_type": "stream",
     "text": [
      "White test statistic: 2.66313932980599, p-value: 0.26406244627058784\n"
     ]
    }
   ],
   "source": [
    "# Alternativa para la de prueba de White\n",
    "\n",
    "from statsmodels.stats.diagnostic import het_white\n",
    "white_test = het_white(model.resid, model.model.exog)\n",
    "print(f\"White test statistic: {white_test[0]}, p-value: {white_test[1]}\")"
   ]
  },
  {
   "cell_type": "markdown",
   "id": "bd66c816",
   "metadata": {},
   "source": [
    "Conclusion: a un nivel del Alfa=5%, como tenemos un valor p superior a Alfa, no podemos rechazar la hipotesis de Homocedasticidad ( lo cual implica que no existe evidencia de Heterocedasticidad)"
   ]
  },
  {
   "cell_type": "markdown",
   "id": "c3967358",
   "metadata": {},
   "source": [
    "# Supuesto 4: Inexistencia de Multicolinealidad"
   ]
  },
  {
   "cell_type": "markdown",
   "id": "d4e191f6",
   "metadata": {},
   "source": [
    "En este caso no aplica realizarla ya que solo tenemos una variable regresora (X), en modelos con mas variables independientes si habria que realizarla"
   ]
  }
 ],
 "metadata": {
  "kernelspec": {
   "display_name": "Benmaza",
   "language": "python",
   "name": "python3"
  },
  "language_info": {
   "codemirror_mode": {
    "name": "ipython",
    "version": 3
   },
   "file_extension": ".py",
   "mimetype": "text/x-python",
   "name": "python",
   "nbconvert_exporter": "python",
   "pygments_lexer": "ipython3",
   "version": "3.13.5"
  }
 },
 "nbformat": 4,
 "nbformat_minor": 5
}
