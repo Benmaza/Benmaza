{
 "cells": [
  {
   "cell_type": "markdown",
   "metadata": {},
   "source": [
    "## Unsupervised Learning\n",
    "#### by **Ivan Alducin**\n",
    "<p><img src=\"https://cdn.gritglobal.io/uploads/too-broad-customer-segmentation.jpg\" width=\"1000\"/></p>"
   ]
  },
  {
   "cell_type": "markdown",
   "metadata": {},
   "source": [
    "## Segmentacion de Clientes\n",
    "<p>En esté capitulo nos vamos a enfocar en entender y trabajar un caso de uso para segmentación de clientes, pero antes de eso aquí una pequeña lista de más aplicaciones que se pueden trabajar con los datos recopliados de mis clientes\n",
    "\n",
    "- Estadística Descriptiva\n",
    "- Segmentación de Clientes\n",
    "- Predicción de Abandono\n",
    "- Valor del Cliente a traves del tiempo (CTLV)\n",
    "\n",
    "La segmentación la vamos a hacer con base en una metodolgía llamada <b>RFM</b>\n",
    "\n",
    "</p>"
   ]
  },
  {
   "cell_type": "code",
   "execution_count": 1,
   "metadata": {},
   "outputs": [],
   "source": [
    "# Importa Pandas, Numpy, Seaborn y Matplotlib\n",
    "import pandas as pd\n",
    "import numpy as np\n",
    "import seaborn as sns\n",
    "import matplotlib.pyplot as plt\n",
    "\n",
    "\n",
    "# Importa el archivo \"Online Retail.csv\"\n",
    "df = pd.read_csv(\"M30 Online Retail.csv\", encoding = \"ISO-8859-1\")"
   ]
  },
  {
   "cell_type": "markdown",
   "metadata": {},
   "source": [
    "## Análisis Exploratorio"
   ]
  },
  {
   "cell_type": "code",
   "execution_count": 2,
   "metadata": {},
   "outputs": [
    {
     "name": "stdout",
     "output_type": "stream",
     "text": [
      "<class 'pandas.core.frame.DataFrame'>\n",
      "RangeIndex: 541909 entries, 0 to 541908\n",
      "Data columns (total 8 columns):\n",
      " #   Column        Non-Null Count   Dtype  \n",
      "---  ------        --------------   -----  \n",
      " 0   INVOICE_NO    541909 non-null  object \n",
      " 1   STOCK_CODE    541909 non-null  object \n",
      " 2   DESCRIPTION   540455 non-null  object \n",
      " 3   QUANTITY      541909 non-null  int64  \n",
      " 4   INVOICE_DATE  541909 non-null  object \n",
      " 5   UNIT_PRICE    541909 non-null  float64\n",
      " 6   CUSTOMER_ID   406829 non-null  float64\n",
      " 7   REGION        541909 non-null  object \n",
      "dtypes: float64(2), int64(1), object(5)\n",
      "memory usage: 33.1+ MB\n"
     ]
    }
   ],
   "source": [
    "# Busqueda de valores nulos con la funcion info()\n",
    "df.info()"
   ]
  },
  {
   "cell_type": "code",
   "execution_count": 3,
   "metadata": {},
   "outputs": [
    {
     "name": "stdout",
     "output_type": "stream",
     "text": [
      "<class 'pandas.core.frame.DataFrame'>\n",
      "Index: 406829 entries, 0 to 541908\n",
      "Data columns (total 8 columns):\n",
      " #   Column        Non-Null Count   Dtype  \n",
      "---  ------        --------------   -----  \n",
      " 0   INVOICE_NO    406829 non-null  object \n",
      " 1   STOCK_CODE    406829 non-null  object \n",
      " 2   DESCRIPTION   406829 non-null  object \n",
      " 3   QUANTITY      406829 non-null  int64  \n",
      " 4   INVOICE_DATE  406829 non-null  object \n",
      " 5   UNIT_PRICE    406829 non-null  float64\n",
      " 6   CUSTOMER_ID   406829 non-null  float64\n",
      " 7   REGION        406829 non-null  object \n",
      "dtypes: float64(2), int64(1), object(5)\n",
      "memory usage: 27.9+ MB\n"
     ]
    }
   ],
   "source": [
    "# eliminar valores nulos\n",
    "df = df.dropna()\n",
    "# Busqueda de valores nulos con la funcion info()\n",
    "df.info()"
   ]
  },
  {
   "cell_type": "code",
   "execution_count": 4,
   "metadata": {},
   "outputs": [
    {
     "data": {
      "text/html": [
       "<div>\n",
       "<style scoped>\n",
       "    .dataframe tbody tr th:only-of-type {\n",
       "        vertical-align: middle;\n",
       "    }\n",
       "\n",
       "    .dataframe tbody tr th {\n",
       "        vertical-align: top;\n",
       "    }\n",
       "\n",
       "    .dataframe thead th {\n",
       "        text-align: right;\n",
       "    }\n",
       "</style>\n",
       "<table border=\"1\" class=\"dataframe\">\n",
       "  <thead>\n",
       "    <tr style=\"text-align: right;\">\n",
       "      <th></th>\n",
       "      <th>INVOICE_NO</th>\n",
       "      <th>STOCK_CODE</th>\n",
       "      <th>DESCRIPTION</th>\n",
       "      <th>QUANTITY</th>\n",
       "      <th>INVOICE_DATE</th>\n",
       "      <th>UNIT_PRICE</th>\n",
       "      <th>CUSTOMER_ID</th>\n",
       "      <th>REGION</th>\n",
       "    </tr>\n",
       "  </thead>\n",
       "  <tbody>\n",
       "    <tr>\n",
       "      <th>0</th>\n",
       "      <td>536365</td>\n",
       "      <td>85123A</td>\n",
       "      <td>WHITE HANGING HEART T-LIGHT HOLDER</td>\n",
       "      <td>6</td>\n",
       "      <td>01/12/2019 08:26</td>\n",
       "      <td>2.55</td>\n",
       "      <td>17850.0</td>\n",
       "      <td>United Kingdom</td>\n",
       "    </tr>\n",
       "    <tr>\n",
       "      <th>1</th>\n",
       "      <td>536365</td>\n",
       "      <td>71053</td>\n",
       "      <td>WHITE METAL LANTERN</td>\n",
       "      <td>6</td>\n",
       "      <td>01/12/2019 08:26</td>\n",
       "      <td>3.39</td>\n",
       "      <td>17850.0</td>\n",
       "      <td>United Kingdom</td>\n",
       "    </tr>\n",
       "    <tr>\n",
       "      <th>2</th>\n",
       "      <td>536365</td>\n",
       "      <td>84406B</td>\n",
       "      <td>CREAM CUPID HEARTS COAT HANGER</td>\n",
       "      <td>8</td>\n",
       "      <td>01/12/2019 08:26</td>\n",
       "      <td>2.75</td>\n",
       "      <td>17850.0</td>\n",
       "      <td>United Kingdom</td>\n",
       "    </tr>\n",
       "    <tr>\n",
       "      <th>3</th>\n",
       "      <td>536365</td>\n",
       "      <td>84029G</td>\n",
       "      <td>KNITTED UNION FLAG HOT WATER BOTTLE</td>\n",
       "      <td>6</td>\n",
       "      <td>01/12/2019 08:26</td>\n",
       "      <td>3.39</td>\n",
       "      <td>17850.0</td>\n",
       "      <td>United Kingdom</td>\n",
       "    </tr>\n",
       "    <tr>\n",
       "      <th>4</th>\n",
       "      <td>536365</td>\n",
       "      <td>84029E</td>\n",
       "      <td>RED WOOLLY HOTTIE WHITE HEART.</td>\n",
       "      <td>6</td>\n",
       "      <td>01/12/2019 08:26</td>\n",
       "      <td>3.39</td>\n",
       "      <td>17850.0</td>\n",
       "      <td>United Kingdom</td>\n",
       "    </tr>\n",
       "    <tr>\n",
       "      <th>5</th>\n",
       "      <td>536365</td>\n",
       "      <td>22752</td>\n",
       "      <td>SET 7 BABUSHKA NESTING BOXES</td>\n",
       "      <td>2</td>\n",
       "      <td>01/12/2019 08:26</td>\n",
       "      <td>7.65</td>\n",
       "      <td>17850.0</td>\n",
       "      <td>United Kingdom</td>\n",
       "    </tr>\n",
       "    <tr>\n",
       "      <th>6</th>\n",
       "      <td>536365</td>\n",
       "      <td>21730</td>\n",
       "      <td>GLASS STAR FROSTED T-LIGHT HOLDER</td>\n",
       "      <td>6</td>\n",
       "      <td>01/12/2019 08:26</td>\n",
       "      <td>4.25</td>\n",
       "      <td>17850.0</td>\n",
       "      <td>United Kingdom</td>\n",
       "    </tr>\n",
       "    <tr>\n",
       "      <th>7</th>\n",
       "      <td>536366</td>\n",
       "      <td>22633</td>\n",
       "      <td>HAND WARMER UNION JACK</td>\n",
       "      <td>6</td>\n",
       "      <td>01/12/2019 08:28</td>\n",
       "      <td>1.85</td>\n",
       "      <td>17850.0</td>\n",
       "      <td>United Kingdom</td>\n",
       "    </tr>\n",
       "    <tr>\n",
       "      <th>8</th>\n",
       "      <td>536366</td>\n",
       "      <td>22632</td>\n",
       "      <td>HAND WARMER RED POLKA DOT</td>\n",
       "      <td>6</td>\n",
       "      <td>01/12/2019 08:28</td>\n",
       "      <td>1.85</td>\n",
       "      <td>17850.0</td>\n",
       "      <td>United Kingdom</td>\n",
       "    </tr>\n",
       "    <tr>\n",
       "      <th>9</th>\n",
       "      <td>536367</td>\n",
       "      <td>84879</td>\n",
       "      <td>ASSORTED COLOUR BIRD ORNAMENT</td>\n",
       "      <td>32</td>\n",
       "      <td>01/12/2019 08:34</td>\n",
       "      <td>1.69</td>\n",
       "      <td>13047.0</td>\n",
       "      <td>United Kingdom</td>\n",
       "    </tr>\n",
       "    <tr>\n",
       "      <th>10</th>\n",
       "      <td>536367</td>\n",
       "      <td>22745</td>\n",
       "      <td>POPPY'S PLAYHOUSE BEDROOM</td>\n",
       "      <td>6</td>\n",
       "      <td>01/12/2019 08:34</td>\n",
       "      <td>2.10</td>\n",
       "      <td>13047.0</td>\n",
       "      <td>United Kingdom</td>\n",
       "    </tr>\n",
       "    <tr>\n",
       "      <th>11</th>\n",
       "      <td>536367</td>\n",
       "      <td>22748</td>\n",
       "      <td>POPPY'S PLAYHOUSE KITCHEN</td>\n",
       "      <td>6</td>\n",
       "      <td>01/12/2019 08:34</td>\n",
       "      <td>2.10</td>\n",
       "      <td>13047.0</td>\n",
       "      <td>United Kingdom</td>\n",
       "    </tr>\n",
       "    <tr>\n",
       "      <th>12</th>\n",
       "      <td>536367</td>\n",
       "      <td>22749</td>\n",
       "      <td>FELTCRAFT PRINCESS CHARLOTTE DOLL</td>\n",
       "      <td>8</td>\n",
       "      <td>01/12/2019 08:34</td>\n",
       "      <td>3.75</td>\n",
       "      <td>13047.0</td>\n",
       "      <td>United Kingdom</td>\n",
       "    </tr>\n",
       "    <tr>\n",
       "      <th>13</th>\n",
       "      <td>536367</td>\n",
       "      <td>22310</td>\n",
       "      <td>IVORY KNITTED MUG COSY</td>\n",
       "      <td>6</td>\n",
       "      <td>01/12/2019 08:34</td>\n",
       "      <td>1.65</td>\n",
       "      <td>13047.0</td>\n",
       "      <td>United Kingdom</td>\n",
       "    </tr>\n",
       "    <tr>\n",
       "      <th>14</th>\n",
       "      <td>536367</td>\n",
       "      <td>84969</td>\n",
       "      <td>BOX OF 6 ASSORTED COLOUR TEASPOONS</td>\n",
       "      <td>6</td>\n",
       "      <td>01/12/2019 08:34</td>\n",
       "      <td>4.25</td>\n",
       "      <td>13047.0</td>\n",
       "      <td>United Kingdom</td>\n",
       "    </tr>\n",
       "    <tr>\n",
       "      <th>15</th>\n",
       "      <td>536367</td>\n",
       "      <td>22623</td>\n",
       "      <td>BOX OF VINTAGE JIGSAW BLOCKS</td>\n",
       "      <td>3</td>\n",
       "      <td>01/12/2019 08:34</td>\n",
       "      <td>4.95</td>\n",
       "      <td>13047.0</td>\n",
       "      <td>United Kingdom</td>\n",
       "    </tr>\n",
       "    <tr>\n",
       "      <th>16</th>\n",
       "      <td>536367</td>\n",
       "      <td>22622</td>\n",
       "      <td>BOX OF VINTAGE ALPHABET BLOCKS</td>\n",
       "      <td>2</td>\n",
       "      <td>01/12/2019 08:34</td>\n",
       "      <td>9.95</td>\n",
       "      <td>13047.0</td>\n",
       "      <td>United Kingdom</td>\n",
       "    </tr>\n",
       "    <tr>\n",
       "      <th>17</th>\n",
       "      <td>536367</td>\n",
       "      <td>21754</td>\n",
       "      <td>HOME BUILDING BLOCK WORD</td>\n",
       "      <td>3</td>\n",
       "      <td>01/12/2019 08:34</td>\n",
       "      <td>5.95</td>\n",
       "      <td>13047.0</td>\n",
       "      <td>United Kingdom</td>\n",
       "    </tr>\n",
       "    <tr>\n",
       "      <th>18</th>\n",
       "      <td>536367</td>\n",
       "      <td>21755</td>\n",
       "      <td>LOVE BUILDING BLOCK WORD</td>\n",
       "      <td>3</td>\n",
       "      <td>01/12/2019 08:34</td>\n",
       "      <td>5.95</td>\n",
       "      <td>13047.0</td>\n",
       "      <td>United Kingdom</td>\n",
       "    </tr>\n",
       "    <tr>\n",
       "      <th>19</th>\n",
       "      <td>536367</td>\n",
       "      <td>21777</td>\n",
       "      <td>RECIPE BOX WITH METAL HEART</td>\n",
       "      <td>4</td>\n",
       "      <td>01/12/2019 08:34</td>\n",
       "      <td>7.95</td>\n",
       "      <td>13047.0</td>\n",
       "      <td>United Kingdom</td>\n",
       "    </tr>\n",
       "  </tbody>\n",
       "</table>\n",
       "</div>"
      ],
      "text/plain": [
       "   INVOICE_NO STOCK_CODE                          DESCRIPTION  QUANTITY  \\\n",
       "0      536365     85123A   WHITE HANGING HEART T-LIGHT HOLDER         6   \n",
       "1      536365      71053                  WHITE METAL LANTERN         6   \n",
       "2      536365     84406B       CREAM CUPID HEARTS COAT HANGER         8   \n",
       "3      536365     84029G  KNITTED UNION FLAG HOT WATER BOTTLE         6   \n",
       "4      536365     84029E       RED WOOLLY HOTTIE WHITE HEART.         6   \n",
       "5      536365      22752         SET 7 BABUSHKA NESTING BOXES         2   \n",
       "6      536365      21730    GLASS STAR FROSTED T-LIGHT HOLDER         6   \n",
       "7      536366      22633               HAND WARMER UNION JACK         6   \n",
       "8      536366      22632            HAND WARMER RED POLKA DOT         6   \n",
       "9      536367      84879        ASSORTED COLOUR BIRD ORNAMENT        32   \n",
       "10     536367      22745           POPPY'S PLAYHOUSE BEDROOM          6   \n",
       "11     536367      22748            POPPY'S PLAYHOUSE KITCHEN         6   \n",
       "12     536367      22749    FELTCRAFT PRINCESS CHARLOTTE DOLL         8   \n",
       "13     536367      22310              IVORY KNITTED MUG COSY          6   \n",
       "14     536367      84969   BOX OF 6 ASSORTED COLOUR TEASPOONS         6   \n",
       "15     536367      22623        BOX OF VINTAGE JIGSAW BLOCKS          3   \n",
       "16     536367      22622       BOX OF VINTAGE ALPHABET BLOCKS         2   \n",
       "17     536367      21754             HOME BUILDING BLOCK WORD         3   \n",
       "18     536367      21755             LOVE BUILDING BLOCK WORD         3   \n",
       "19     536367      21777          RECIPE BOX WITH METAL HEART         4   \n",
       "\n",
       "        INVOICE_DATE  UNIT_PRICE  CUSTOMER_ID          REGION  \n",
       "0   01/12/2019 08:26        2.55      17850.0  United Kingdom  \n",
       "1   01/12/2019 08:26        3.39      17850.0  United Kingdom  \n",
       "2   01/12/2019 08:26        2.75      17850.0  United Kingdom  \n",
       "3   01/12/2019 08:26        3.39      17850.0  United Kingdom  \n",
       "4   01/12/2019 08:26        3.39      17850.0  United Kingdom  \n",
       "5   01/12/2019 08:26        7.65      17850.0  United Kingdom  \n",
       "6   01/12/2019 08:26        4.25      17850.0  United Kingdom  \n",
       "7   01/12/2019 08:28        1.85      17850.0  United Kingdom  \n",
       "8   01/12/2019 08:28        1.85      17850.0  United Kingdom  \n",
       "9   01/12/2019 08:34        1.69      13047.0  United Kingdom  \n",
       "10  01/12/2019 08:34        2.10      13047.0  United Kingdom  \n",
       "11  01/12/2019 08:34        2.10      13047.0  United Kingdom  \n",
       "12  01/12/2019 08:34        3.75      13047.0  United Kingdom  \n",
       "13  01/12/2019 08:34        1.65      13047.0  United Kingdom  \n",
       "14  01/12/2019 08:34        4.25      13047.0  United Kingdom  \n",
       "15  01/12/2019 08:34        4.95      13047.0  United Kingdom  \n",
       "16  01/12/2019 08:34        9.95      13047.0  United Kingdom  \n",
       "17  01/12/2019 08:34        5.95      13047.0  United Kingdom  \n",
       "18  01/12/2019 08:34        5.95      13047.0  United Kingdom  \n",
       "19  01/12/2019 08:34        7.95      13047.0  United Kingdom  "
      ]
     },
     "execution_count": 4,
     "metadata": {},
     "output_type": "execute_result"
    }
   ],
   "source": [
    "# visualizar los primeros 20 registros del dataframe\n",
    "df.head(20)"
   ]
  },
  {
   "cell_type": "markdown",
   "metadata": {},
   "source": [
    "## Recency\n",
    "<p>Indicador que nos dice que tan reciente es la compra de un cliente</p>"
   ]
  },
  {
   "cell_type": "code",
   "execution_count": 33,
   "metadata": {},
   "outputs": [
    {
     "data": {
      "text/html": [
       "<div>\n",
       "<style scoped>\n",
       "    .dataframe tbody tr th:only-of-type {\n",
       "        vertical-align: middle;\n",
       "    }\n",
       "\n",
       "    .dataframe tbody tr th {\n",
       "        vertical-align: top;\n",
       "    }\n",
       "\n",
       "    .dataframe thead th {\n",
       "        text-align: right;\n",
       "    }\n",
       "</style>\n",
       "<table border=\"1\" class=\"dataframe\">\n",
       "  <thead>\n",
       "    <tr style=\"text-align: right;\">\n",
       "      <th></th>\n",
       "      <th>CUSTOMER_ID</th>\n",
       "    </tr>\n",
       "  </thead>\n",
       "  <tbody>\n",
       "    <tr>\n",
       "      <th>count</th>\n",
       "      <td>4372.000000</td>\n",
       "    </tr>\n",
       "    <tr>\n",
       "      <th>mean</th>\n",
       "      <td>15299.677722</td>\n",
       "    </tr>\n",
       "    <tr>\n",
       "      <th>std</th>\n",
       "      <td>1722.390705</td>\n",
       "    </tr>\n",
       "    <tr>\n",
       "      <th>min</th>\n",
       "      <td>12346.000000</td>\n",
       "    </tr>\n",
       "    <tr>\n",
       "      <th>25%</th>\n",
       "      <td>13812.750000</td>\n",
       "    </tr>\n",
       "    <tr>\n",
       "      <th>50%</th>\n",
       "      <td>15300.500000</td>\n",
       "    </tr>\n",
       "    <tr>\n",
       "      <th>75%</th>\n",
       "      <td>16778.250000</td>\n",
       "    </tr>\n",
       "    <tr>\n",
       "      <th>max</th>\n",
       "      <td>18287.000000</td>\n",
       "    </tr>\n",
       "  </tbody>\n",
       "</table>\n",
       "</div>"
      ],
      "text/plain": [
       "        CUSTOMER_ID\n",
       "count   4372.000000\n",
       "mean   15299.677722\n",
       "std     1722.390705\n",
       "min    12346.000000\n",
       "25%    13812.750000\n",
       "50%    15300.500000\n",
       "75%    16778.250000\n",
       "max    18287.000000"
      ]
     },
     "execution_count": 33,
     "metadata": {},
     "output_type": "execute_result"
    }
   ],
   "source": [
    "# Obtener los clientes unicos\n",
    "customer = df['CUSTOMER_ID'].unique()\n",
    "# Convertir customer a un DataFrame\n",
    "customer_df = pd.DataFrame(customer, columns=['CUSTOMER_ID'])\n",
    "customer_df.describe()"
   ]
  },
  {
   "cell_type": "code",
   "execution_count": 6,
   "metadata": {},
   "outputs": [],
   "source": [
    "# Obtener la última fecha de compra por cliente\n",
    "# Convertir la columna INVOICE_DATE a formato datetime con el formato correcto y dayfirst=True\n",
    "df['INVOICE_DATE'] = pd.to_datetime(df['INVOICE_DATE'], format=\"%d/%m/%Y %H:%M\", dayfirst=True)\n",
    "max_purchase = df.groupby('CUSTOMER_ID').INVOICE_DATE.max().reset_index()"
   ]
  },
  {
   "cell_type": "code",
   "execution_count": 7,
   "metadata": {},
   "outputs": [],
   "source": [
    "# Vamos a calcular nuestra metrica de Recency, esto lo haremos restando los días de la última fecha de compra a cada observacón\n",
    "reference_date = df['INVOICE_DATE'].max()  \n",
    "max_purchase['RECENCY'] = (reference_date - max_purchase['INVOICE_DATE']).dt.days"
   ]
  },
  {
   "cell_type": "code",
   "execution_count": 8,
   "metadata": {},
   "outputs": [],
   "source": [
    "# Unir el DataFrame de clientes únicos con el que acabamos de crear de la última fecha de compra\n",
    "customer1 = pd.merge(customer_df, max_purchase[['CUSTOMER_ID', 'RECENCY']], on='CUSTOMER_ID')"
   ]
  },
  {
   "cell_type": "code",
   "execution_count": 9,
   "metadata": {},
   "outputs": [
    {
     "data": {
      "text/plain": [
       "(array([424., 202., 302.,  84., 236., 180., 151., 116., 138., 100.,  91.,\n",
       "         88.,  55., 132.,  62.,  77.,  88.,  70.,  69.,  69.,  59.,  45.,\n",
       "         49.,  31.,  33.,  33.,  25.,  13.,  50.,  23.,  24.,  27.,  24.,\n",
       "         24.,  20.,  25.,  22.,  23.,  15.,  23.,  25.,  36.,  10.,  22.,\n",
       "         19.,  34.,  15.,  25.,  16.,  26.,  27.,  15.,  25.,  13.,  23.,\n",
       "          9.,  32.,  11.,  31.,   8.,  14.,   6.,  30.,  23.,  17.,  20.,\n",
       "         13.,  25.,  12.,  23.,  21.,  29.,  12.,  19.,  16.,  20.,   4.,\n",
       "         21.,   8.,  14.,  15.,  15.,  13.,  25.,   9.,  19.,  15.,   9.,\n",
       "         12.,  13.,   8.,   0.,   0.,   1.,  12.,  16.,  16.,  27.,  16.,\n",
       "         40.]),\n",
       " array([  0.  ,   3.74,   7.48,  11.22,  14.96,  18.7 ,  22.44,  26.18,\n",
       "         29.92,  33.66,  37.4 ,  41.14,  44.88,  48.62,  52.36,  56.1 ,\n",
       "         59.84,  63.58,  67.32,  71.06,  74.8 ,  78.54,  82.28,  86.02,\n",
       "         89.76,  93.5 ,  97.24, 100.98, 104.72, 108.46, 112.2 , 115.94,\n",
       "        119.68, 123.42, 127.16, 130.9 , 134.64, 138.38, 142.12, 145.86,\n",
       "        149.6 , 153.34, 157.08, 160.82, 164.56, 168.3 , 172.04, 175.78,\n",
       "        179.52, 183.26, 187.  , 190.74, 194.48, 198.22, 201.96, 205.7 ,\n",
       "        209.44, 213.18, 216.92, 220.66, 224.4 , 228.14, 231.88, 235.62,\n",
       "        239.36, 243.1 , 246.84, 250.58, 254.32, 258.06, 261.8 , 265.54,\n",
       "        269.28, 273.02, 276.76, 280.5 , 284.24, 287.98, 291.72, 295.46,\n",
       "        299.2 , 302.94, 306.68, 310.42, 314.16, 317.9 , 321.64, 325.38,\n",
       "        329.12, 332.86, 336.6 , 340.34, 344.08, 347.82, 351.56, 355.3 ,\n",
       "        359.04, 362.78, 366.52, 370.26, 374.  ]),\n",
       " <BarContainer object of 100 artists>)"
      ]
     },
     "execution_count": 9,
     "metadata": {},
     "output_type": "execute_result"
    },
    {
     "data": {
      "image/png": "[encoded data removed]",
      "text/plain": [
       "<Figure size 640x480 with 1 Axes>"
      ]
     },
     "metadata": {},
     "output_type": "display_data"
    }
   ],
   "source": [
    "# Grafica un histograma de Recency\n",
    "plt.hist(customer1['RECENCY'], bins=100)"
   ]
  },
  {
   "cell_type": "code",
   "execution_count": 11,
   "metadata": {},
   "outputs": [
    {
     "name": "stdout",
     "output_type": "stream",
     "text": [
      "count    4372.000000\n",
      "mean       91.123056\n",
      "std       100.946554\n",
      "min         0.000000\n",
      "25%        16.000000\n",
      "50%        49.000000\n",
      "75%       142.000000\n",
      "max       374.000000\n",
      "Name: RECENCY, dtype: float64\n"
     ]
    }
   ],
   "source": [
    "# Imprime la Estadística de Resumen para Recency\n",
    "print(customer1['RECENCY'].describe())"
   ]
  },
  {
   "cell_type": "markdown",
   "metadata": {},
   "source": [
    "## Frequency\n",
    "<p>Frecuencia con la que un cliente compra uno o más productos</p>"
   ]
  },
  {
   "cell_type": "code",
   "execution_count": 38,
   "metadata": {},
   "outputs": [
    {
     "data": {
      "text/html": [
       "<div>\n",
       "<style scoped>\n",
       "    .dataframe tbody tr th:only-of-type {\n",
       "        vertical-align: middle;\n",
       "    }\n",
       "\n",
       "    .dataframe tbody tr th {\n",
       "        vertical-align: top;\n",
       "    }\n",
       "\n",
       "    .dataframe thead th {\n",
       "        text-align: right;\n",
       "    }\n",
       "</style>\n",
       "<table border=\"1\" class=\"dataframe\">\n",
       "  <thead>\n",
       "    <tr style=\"text-align: right;\">\n",
       "      <th></th>\n",
       "      <th>CUSTOMER_ID</th>\n",
       "      <th>FREQUENCY</th>\n",
       "    </tr>\n",
       "  </thead>\n",
       "  <tbody>\n",
       "    <tr>\n",
       "      <th>0</th>\n",
       "      <td>12346.0</td>\n",
       "      <td>2</td>\n",
       "    </tr>\n",
       "    <tr>\n",
       "      <th>1</th>\n",
       "      <td>12347.0</td>\n",
       "      <td>182</td>\n",
       "    </tr>\n",
       "    <tr>\n",
       "      <th>2</th>\n",
       "      <td>12348.0</td>\n",
       "      <td>31</td>\n",
       "    </tr>\n",
       "    <tr>\n",
       "      <th>3</th>\n",
       "      <td>12349.0</td>\n",
       "      <td>73</td>\n",
       "    </tr>\n",
       "    <tr>\n",
       "      <th>4</th>\n",
       "      <td>12350.0</td>\n",
       "      <td>17</td>\n",
       "    </tr>\n",
       "    <tr>\n",
       "      <th>...</th>\n",
       "      <td>...</td>\n",
       "      <td>...</td>\n",
       "    </tr>\n",
       "    <tr>\n",
       "      <th>4367</th>\n",
       "      <td>18280.0</td>\n",
       "      <td>10</td>\n",
       "    </tr>\n",
       "    <tr>\n",
       "      <th>4368</th>\n",
       "      <td>18281.0</td>\n",
       "      <td>7</td>\n",
       "    </tr>\n",
       "    <tr>\n",
       "      <th>4369</th>\n",
       "      <td>18282.0</td>\n",
       "      <td>13</td>\n",
       "    </tr>\n",
       "    <tr>\n",
       "      <th>4370</th>\n",
       "      <td>18283.0</td>\n",
       "      <td>756</td>\n",
       "    </tr>\n",
       "    <tr>\n",
       "      <th>4371</th>\n",
       "      <td>18287.0</td>\n",
       "      <td>70</td>\n",
       "    </tr>\n",
       "  </tbody>\n",
       "</table>\n",
       "<p>4372 rows × 2 columns</p>\n",
       "</div>"
      ],
      "text/plain": [
       "      CUSTOMER_ID  FREQUENCY\n",
       "0         12346.0          2\n",
       "1         12347.0        182\n",
       "2         12348.0         31\n",
       "3         12349.0         73\n",
       "4         12350.0         17\n",
       "...           ...        ...\n",
       "4367      18280.0         10\n",
       "4368      18281.0          7\n",
       "4369      18282.0         13\n",
       "4370      18283.0        756\n",
       "4371      18287.0         70\n",
       "\n",
       "[4372 rows x 2 columns]"
      ]
     },
     "execution_count": 38,
     "metadata": {},
     "output_type": "execute_result"
    }
   ],
   "source": [
    "# Obtener el número de compras por cliente\n",
    "frequency = df.groupby('CUSTOMER_ID').INVOICE_DATE.count().reset_index()\n",
    "frequency.columns = ['CUSTOMER_ID', 'FREQUENCY']\n",
    "frequency"
   ]
  },
  {
   "cell_type": "code",
   "execution_count": 39,
   "metadata": {},
   "outputs": [
    {
     "data": {
      "text/html": [
       "<div>\n",
       "<style scoped>\n",
       "    .dataframe tbody tr th:only-of-type {\n",
       "        vertical-align: middle;\n",
       "    }\n",
       "\n",
       "    .dataframe tbody tr th {\n",
       "        vertical-align: top;\n",
       "    }\n",
       "\n",
       "    .dataframe thead th {\n",
       "        text-align: right;\n",
       "    }\n",
       "</style>\n",
       "<table border=\"1\" class=\"dataframe\">\n",
       "  <thead>\n",
       "    <tr style=\"text-align: right;\">\n",
       "      <th></th>\n",
       "      <th>CUSTOMER_ID</th>\n",
       "      <th>RECENCY</th>\n",
       "      <th>FREQUENCY</th>\n",
       "    </tr>\n",
       "  </thead>\n",
       "  <tbody>\n",
       "    <tr>\n",
       "      <th>count</th>\n",
       "      <td>4372.000000</td>\n",
       "      <td>4372.000000</td>\n",
       "      <td>4372.000000</td>\n",
       "    </tr>\n",
       "    <tr>\n",
       "      <th>mean</th>\n",
       "      <td>15299.677722</td>\n",
       "      <td>91.123056</td>\n",
       "      <td>93.053294</td>\n",
       "    </tr>\n",
       "    <tr>\n",
       "      <th>std</th>\n",
       "      <td>1722.390705</td>\n",
       "      <td>100.946554</td>\n",
       "      <td>232.471608</td>\n",
       "    </tr>\n",
       "    <tr>\n",
       "      <th>min</th>\n",
       "      <td>12346.000000</td>\n",
       "      <td>0.000000</td>\n",
       "      <td>1.000000</td>\n",
       "    </tr>\n",
       "    <tr>\n",
       "      <th>25%</th>\n",
       "      <td>13812.750000</td>\n",
       "      <td>16.000000</td>\n",
       "      <td>17.000000</td>\n",
       "    </tr>\n",
       "    <tr>\n",
       "      <th>50%</th>\n",
       "      <td>15300.500000</td>\n",
       "      <td>49.000000</td>\n",
       "      <td>42.000000</td>\n",
       "    </tr>\n",
       "    <tr>\n",
       "      <th>75%</th>\n",
       "      <td>16778.250000</td>\n",
       "      <td>142.000000</td>\n",
       "      <td>102.000000</td>\n",
       "    </tr>\n",
       "    <tr>\n",
       "      <th>max</th>\n",
       "      <td>18287.000000</td>\n",
       "      <td>374.000000</td>\n",
       "      <td>7983.000000</td>\n",
       "    </tr>\n",
       "  </tbody>\n",
       "</table>\n",
       "</div>"
      ],
      "text/plain": [
       "        CUSTOMER_ID      RECENCY    FREQUENCY\n",
       "count   4372.000000  4372.000000  4372.000000\n",
       "mean   15299.677722    91.123056    93.053294\n",
       "std     1722.390705   100.946554   232.471608\n",
       "min    12346.000000     0.000000     1.000000\n",
       "25%    13812.750000    16.000000    17.000000\n",
       "50%    15300.500000    49.000000    42.000000\n",
       "75%    16778.250000   142.000000   102.000000\n",
       "max    18287.000000   374.000000  7983.000000"
      ]
     },
     "execution_count": 39,
     "metadata": {},
     "output_type": "execute_result"
    }
   ],
   "source": [
    "# Unir el DataFrame que acabamos de crear con el de los clientes unicos\n",
    "customer = pd.merge(customer1, frequency, on='CUSTOMER_ID')\n",
    "customer.describe()"
   ]
  },
  {
   "cell_type": "code",
   "execution_count": 40,
   "metadata": {},
   "outputs": [
    {
     "data": {
      "image/png": "[encoded data removed]",
      "text/plain": [
       "<Figure size 640x480 with 1 Axes>"
      ]
     },
     "metadata": {},
     "output_type": "display_data"
    }
   ],
   "source": [
    "# Graficar histograma de Frequency\n",
    "frequency_df = customer['FREQUENCY']\n",
    "plt.hist(frequency_df, bins=100)\n",
    "plt.xlabel('Número de compras')\n",
    "plt.ylabel('Frecuencia')\n",
    "plt.title('Histograma de Frequency')\n",
    "plt.show()"
   ]
  },
  {
   "cell_type": "code",
   "execution_count": 41,
   "metadata": {},
   "outputs": [
    {
     "data": {
      "text/plain": [
       "count    4372.000000\n",
       "mean       93.053294\n",
       "std       232.471608\n",
       "min         1.000000\n",
       "25%        17.000000\n",
       "50%        42.000000\n",
       "75%       102.000000\n",
       "max      7983.000000\n",
       "Name: FREQUENCY, dtype: float64"
      ]
     },
     "execution_count": 41,
     "metadata": {},
     "output_type": "execute_result"
    }
   ],
   "source": [
    "# Imprime la Estadística de Resumen para Frequency\n",
    "frequency_df.describe()"
   ]
  },
  {
   "cell_type": "markdown",
   "metadata": {},
   "source": [
    "## Monetary\n",
    "<p>Valor del monto total que ha gastado un cliente en la compra de mis productos</p>"
   ]
  },
  {
   "cell_type": "code",
   "execution_count": 42,
   "metadata": {},
   "outputs": [],
   "source": [
    "# Calcular el monto total por cada compra\n",
    "df['MONETARY'] = df['UNIT_PRICE'] * df['QUANTITY']\n",
    "\n",
    "# Obtener el valor monetario de compra por cliente\n",
    "monetary = df.groupby('CUSTOMER_ID').MONETARY.sum().reset_index()"
   ]
  },
  {
   "cell_type": "code",
   "execution_count": 43,
   "metadata": {},
   "outputs": [],
   "source": [
    "# Unir el DataFrame que acabamos de crear con el de los clientes unicos\n",
    "customer = pd.merge(customer, monetary, on='CUSTOMER_ID')"
   ]
  },
  {
   "cell_type": "code",
   "execution_count": 44,
   "metadata": {},
   "outputs": [
    {
     "data": {
      "image/png": "[encoded data removed]",
      "text/plain": [
       "<Figure size 640x480 with 1 Axes>"
      ]
     },
     "metadata": {},
     "output_type": "display_data"
    }
   ],
   "source": [
    "# Grafica un histograma de Monetary\n",
    "monetary_df = customer['MONETARY']\n",
    "plt.hist(monetary_df, bins=100)\n",
    "plt.xlabel('Monto total de compra')\n",
    "plt.ylabel('Frecuencia')\n",
    "plt.title('Histograma de Monetary')\n",
    "plt.show()"
   ]
  },
  {
   "cell_type": "code",
   "execution_count": 45,
   "metadata": {},
   "outputs": [
    {
     "data": {
      "text/plain": [
       "count      4372.000000\n",
       "mean       1898.459701\n",
       "std        8219.345141\n",
       "min       -4287.630000\n",
       "25%         293.362500\n",
       "50%         648.075000\n",
       "75%        1611.725000\n",
       "max      279489.020000\n",
       "Name: MONETARY, dtype: float64"
      ]
     },
     "execution_count": 45,
     "metadata": {},
     "output_type": "execute_result"
    }
   ],
   "source": [
    "# Imprime la Estadística de Resumen para Monetary\n",
    "monetary_df.describe()"
   ]
  },
  {
   "cell_type": "markdown",
   "metadata": {},
   "source": [
    "## Algoritmo k-Means\n",
    "<p>Ya creamos nuestros indicadores principales de la metodología RFM. es hora de hacer <i>Machine Learning</i>. Para ello utilizaremos un algoritmo no supervisado llamado <b>k-Means</b></p>\n",
    "<p><img src=\"https://miro.medium.com/max/818/1*fG8u8nV7qR91wDyFDEEV-g.png\" width=\"250\"/></p>"
   ]
  },
  {
   "cell_type": "code",
   "execution_count": null,
   "metadata": {},
   "outputs": [],
   "source": [
    "# Funcion para ordenar los clusters\n",
    "def order_cluster(cluster_field_name, target_field_name, df, ascending):\n",
    "    new_cluster_field_name = 'new_' + cluster_field_name\n",
    "    df_new = df.groupby(cluster_field_name)[target_field_name].mean().reset_index()\n",
    "    df_new = df_new.sort_values(by=target_field_name,ascending=ascending).reset_index(drop=True)\n",
    "    df_new['index'] = df_new.index\n",
    "    df_final = pd.merge(df,df_new[[cluster_field_name,'index']], on=cluster_field_name)\n",
    "    df_final = df_final.drop([cluster_field_name],axis=1)\n",
    "    df_final = df_final.rename(columns={\"index\":cluster_field_name})\n",
    "    return df_final"
   ]
  },
  {
   "cell_type": "markdown",
   "metadata": {},
   "source": [
    "## Elbow Method\n",
    "<p>¿Cual es mi número óptimo de clusters? Vamos a contruir una <i>gráfica de codo</i> para averiguarlo</p>"
   ]
  },
  {
   "cell_type": "code",
   "execution_count": null,
   "metadata": {},
   "outputs": [],
   "source": [
    "# Importa la librería de kMeans\n",
    "____"
   ]
  },
  {
   "cell_type": "code",
   "execution_count": null,
   "metadata": {},
   "outputs": [],
   "source": [
    "# Configuración inicial - Vamos a tomar como referencia el indicador de Recency\n",
    "sse={}\n",
    "recency = ____\n",
    "\n",
    "for k in range(1, 10):\n",
    "    # Instancia el algoritmo de k-means iterando sobre k\n",
    "    kmeans = ____\n",
    "    \n",
    "    # Entrena el algoritmo\n",
    "    ____\n",
    "    \n",
    "    # Adjunta las etiquetas\n",
    "    recency[\"clusters\"] = ____\n",
    "    \n",
    "    # Adunta la inercia o variación al arreglo sse\n",
    "    sse[k] = ____\n",
    "    \n",
    "# Grafico de codo (Elbow)\n",
    "plt.figure(figsize=(12,8))\n",
    "plt.plot(list(sse.keys()), list(sse.values()))\n",
    "plt.xlabel(\"Number of cluster\")\n",
    "plt.show()"
   ]
  },
  {
   "cell_type": "code",
   "execution_count": null,
   "metadata": {},
   "outputs": [],
   "source": [
    "# Instanciar el algoritmo con 4 clusters para Recency \n",
    "kmeans = ____\n",
    "\n",
    "# Entrenar el algoritmo\n",
    "____\n",
    "\n",
    "# Obtener las predicciones\n",
    "customer['RECENCY_CLUSTER'] = ____\n",
    "\n",
    "# Ordenar los clusters\n",
    "customer = order_cluster('RECENCY_CLUSTER', 'RECENCY', customer, False)\n",
    "\n",
    "# Estadística Descriptiva del cluster creado\n",
    "customer.groupby(____)[____].____()"
   ]
  },
  {
   "cell_type": "code",
   "execution_count": null,
   "metadata": {},
   "outputs": [],
   "source": [
    "# Instanciar el algoritmo con 4 clusters para Frequency \n",
    "kmeans = ____\n",
    "\n",
    "# Entrenar el algoritmo\n",
    "____\n",
    "\n",
    "# Obtener las predicciones\n",
    "customer['FREQUENCY_CLUSTER'] = ____\n",
    "\n",
    "# Ordenar los clusters\n",
    "customer = order_cluster('FREQUENCY_CLUSTER', 'FREQUENCY', customer, True)\n",
    "\n",
    "# Estadística Descriptiva de los clusters\n",
    "____"
   ]
  },
  {
   "cell_type": "code",
   "execution_count": null,
   "metadata": {},
   "outputs": [],
   "source": [
    "# Instanciar el algoritmo con 4 clusters para Monetary \n",
    "kmeans = ____\n",
    "\n",
    "# Entrenar el algoritmo\n",
    "____\n",
    "\n",
    "# Obtener las predicciones\n",
    "customer['MONETARY_CLUSTER'] = ____\n",
    "\n",
    "# Ordenar los clusters ¿Como tienes que ordenar el cluster?\n",
    "customer = ____\n",
    "\n",
    "# Estadística Descriptiva de los clusters\n",
    "____"
   ]
  },
  {
   "cell_type": "markdown",
   "metadata": {},
   "source": [
    "## Score de Segmentación\n",
    "<p>El algoritmo de k-means nos da una segmentación generalizada, pero podemos personalizarla aún más creando una métrica que asigne una calificación al valor del cluster. Esto es lo que vamos a hacer!!</p>"
   ]
  },
  {
   "cell_type": "code",
   "execution_count": null,
   "metadata": {},
   "outputs": [],
   "source": [
    "# Vamos a crear nuestro score sumando el valor de cada uno de los clusters\n",
    "customer['SCORE'] = ____ + ____ + ____\n",
    "\n",
    "# Obtener el promedio para cada una de las métricas de las calificaciones creadas (Score)\n",
    "____.mean()"
   ]
  },
  {
   "cell_type": "code",
   "execution_count": null,
   "metadata": {},
   "outputs": [],
   "source": [
    "# Crea una funcion que asigne lo siguiente: \n",
    "# Si score <= 1 entonces 'Low-Value', si score >1 y <=4 entonces 'Average', si score >4 y <=6 entonces 'Potential', por último si score >6 entonces 'High-Value'\n",
    "def segment(score):\n",
    "\n",
    "\n",
    "\n",
    "\n",
    "\n",
    "\n",
    "\n",
    "# Crear una columna aplicando esta función al campo 'SCORE'\n",
    "customer['SEGMENT'] = ____"
   ]
  },
  {
   "cell_type": "code",
   "execution_count": null,
   "metadata": {},
   "outputs": [],
   "source": [
    "# Vamos a dar un vistazo a la tabla final\n",
    "customer.head()"
   ]
  },
  {
   "cell_type": "code",
   "execution_count": null,
   "metadata": {},
   "outputs": [],
   "source": [
    "# Imprime la proporción o el total de clientes por segmento\n",
    "____"
   ]
  },
  {
   "cell_type": "code",
   "execution_count": null,
   "metadata": {},
   "outputs": [],
   "source": [
    "# Define un estilo 'bmh'\n",
    "____\n",
    "\n",
    "# Filtra los valores para RECENCY < 4000\n",
    "____\n",
    "\n",
    "# Crea un grafico de dispersion de 'MONETARY' VS 'RECENCY' por Segmento\n",
    "____\n",
    "\n",
    "\n",
    "\n",
    "\n"
   ]
  },
  {
   "cell_type": "code",
   "execution_count": null,
   "metadata": {},
   "outputs": [],
   "source": [
    "# Crea un grafico de dispersion de 'MONETARY' vs 'FREQUENCY' vs  por Segmento\n",
    "____\n",
    "\n",
    "\n",
    "\n"
   ]
  }
 ],
 "metadata": {
  "kernelspec": {
   "display_name": "Benmaza",
   "language": "python",
   "name": "python3"
  },
  "language_info": {
   "codemirror_mode": {
    "name": "ipython",
    "version": 3
   },
   "file_extension": ".py",
   "mimetype": "text/x-python",
   "name": "python",
   "nbconvert_exporter": "python",
   "pygments_lexer": "ipython3",
   "version": "3.13.2"
  }
 },
 "nbformat": 4,
 "nbformat_minor": 4
}
