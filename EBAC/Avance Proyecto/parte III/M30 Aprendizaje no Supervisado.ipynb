{
 "cells": [
  {
   "cell_type": "markdown",
   "metadata": {},
   "source": [
    "## Unsupervised Learning\n",
    "#### by **Ivan Alducin**\n",
    "<p><img src=\"https://cdn.gritglobal.io/uploads/too-broad-customer-segmentation.jpg\" width=\"1000\"/></p>"
   ]
  },
  {
   "cell_type": "markdown",
   "metadata": {},
   "source": [
    "## Segmentacion de Clientes\n",
    "<p>En esté capitulo nos vamos a enfocar en entender y trabajar un caso de uso para segmentación de clientes, pero antes de eso aquí una pequeña lista de más aplicaciones que se pueden trabajar con los datos recopliados de mis clientes\n",
    "\n",
    "- Estadística Descriptiva\n",
    "- Segmentación de Clientes\n",
    "- Predicción de Abandono\n",
    "- Valor del Cliente a traves del tiempo (CTLV)\n",
    "\n",
    "La segmentación la vamos a hacer con base en una metodolgía llamada <b>RFM</b>\n",
    "\n",
    "</p>"
   ]
  },
  {
   "cell_type": "code",
   "execution_count": 1,
   "metadata": {},
   "outputs": [],
   "source": [
    "# Importa Pandas, Numpy, Seaborn y Matplotlib\n",
    "import pandas as pd\n",
    "import numpy as np\n",
    "import seaborn as sns\n",
    "import matplotlib.pyplot as plt\n",
    "\n",
    "\n",
    "# Importa el archivo \"Online Retail.csv\"\n",
    "df = pd.read_csv(\"M30 Online Retail.csv\", encoding = \"ISO-8859-1\")"
   ]
  },
  {
   "cell_type": "markdown",
   "metadata": {},
   "source": [
    "## Análisis Exploratorio"
   ]
  },
  {
   "cell_type": "code",
   "execution_count": 2,
   "metadata": {},
   "outputs": [
    {
     "name": "stdout",
     "output_type": "stream",
     "text": [
      "<class 'pandas.core.frame.DataFrame'>\n",
      "RangeIndex: 541909 entries, 0 to 541908\n",
      "Data columns (total 8 columns):\n",
      " #   Column        Non-Null Count   Dtype  \n",
      "---  ------        --------------   -----  \n",
      " 0   INVOICE_NO    541909 non-null  object \n",
      " 1   STOCK_CODE    541909 non-null  object \n",
      " 2   DESCRIPTION   540455 non-null  object \n",
      " 3   QUANTITY      541909 non-null  int64  \n",
      " 4   INVOICE_DATE  541909 non-null  object \n",
      " 5   UNIT_PRICE    541909 non-null  float64\n",
      " 6   CUSTOMER_ID   406829 non-null  float64\n",
      " 7   REGION        541909 non-null  object \n",
      "dtypes: float64(2), int64(1), object(5)\n",
      "memory usage: 33.1+ MB\n"
     ]
    }
   ],
   "source": [
    "# Busqueda de valores nulos con la funcion info()\n",
    "df.info()"
   ]
  },
  {
   "cell_type": "code",
   "execution_count": 3,
   "metadata": {},
   "outputs": [
    {
     "name": "stdout",
     "output_type": "stream",
     "text": [
      "<class 'pandas.core.frame.DataFrame'>\n",
      "Index: 406829 entries, 0 to 541908\n",
      "Data columns (total 8 columns):\n",
      " #   Column        Non-Null Count   Dtype  \n",
      "---  ------        --------------   -----  \n",
      " 0   INVOICE_NO    406829 non-null  object \n",
      " 1   STOCK_CODE    406829 non-null  object \n",
      " 2   DESCRIPTION   406829 non-null  object \n",
      " 3   QUANTITY      406829 non-null  int64  \n",
      " 4   INVOICE_DATE  406829 non-null  object \n",
      " 5   UNIT_PRICE    406829 non-null  float64\n",
      " 6   CUSTOMER_ID   406829 non-null  float64\n",
      " 7   REGION        406829 non-null  object \n",
      "dtypes: float64(2), int64(1), object(5)\n",
      "memory usage: 27.9+ MB\n"
     ]
    }
   ],
   "source": [
    "# eliminar valores nulos\n",
    "df = df.dropna()\n",
    "# Busqueda de valores nulos con la funcion info()\n",
    "df.info()"
   ]
  },
  {
   "cell_type": "code",
   "execution_count": 4,
   "metadata": {},
   "outputs": [
    {
     "data": {
      "application/vnd.microsoft.datawrangler.viewer.v0+json": {
       "columns": [
        {
         "name": "index",
         "rawType": "int64",
         "type": "integer"
        },
        {
         "name": "INVOICE_NO",
         "rawType": "object",
         "type": "string"
        },
        {
         "name": "STOCK_CODE",
         "rawType": "object",
         "type": "string"
        },
        {
         "name": "DESCRIPTION",
         "rawType": "object",
         "type": "string"
        },
        {
         "name": "QUANTITY",
         "rawType": "int64",
         "type": "integer"
        },
        {
         "name": "INVOICE_DATE",
         "rawType": "object",
         "type": "string"
        },
        {
         "name": "UNIT_PRICE",
         "rawType": "float64",
         "type": "float"
        },
        {
         "name": "CUSTOMER_ID",
         "rawType": "float64",
         "type": "float"
        },
        {
         "name": "REGION",
         "rawType": "object",
         "type": "string"
        }
       ],
       "ref": "0c32b454-da38-42b0-8a2e-973c48521944",
       "rows": [
        [
         "0",
         "536365",
         "85123A",
         "WHITE HANGING HEART T-LIGHT HOLDER",
         "6",
         "01/12/2019 08:26",
         "2.55",
         "17850.0",
         "United Kingdom"
        ],
        [
         "1",
         "536365",
         "71053",
         "WHITE METAL LANTERN",
         "6",
         "01/12/2019 08:26",
         "3.39",
         "17850.0",
         "United Kingdom"
        ],
        [
         "2",
         "536365",
         "84406B",
         "CREAM CUPID HEARTS COAT HANGER",
         "8",
         "01/12/2019 08:26",
         "2.75",
         "17850.0",
         "United Kingdom"
        ],
        [
         "3",
         "536365",
         "84029G",
         "KNITTED UNION FLAG HOT WATER BOTTLE",
         "6",
         "01/12/2019 08:26",
         "3.39",
         "17850.0",
         "United Kingdom"
        ],
        [
         "4",
         "536365",
         "84029E",
         "RED WOOLLY HOTTIE WHITE HEART.",
         "6",
         "01/12/2019 08:26",
         "3.39",
         "17850.0",
         "United Kingdom"
        ],
        [
         "5",
         "536365",
         "22752",
         "SET 7 BABUSHKA NESTING BOXES",
         "2",
         "01/12/2019 08:26",
         "7.65",
         "17850.0",
         "United Kingdom"
        ],
        [
         "6",
         "536365",
         "21730",
         "GLASS STAR FROSTED T-LIGHT HOLDER",
         "6",
         "01/12/2019 08:26",
         "4.25",
         "17850.0",
         "United Kingdom"
        ],
        [
         "7",
         "536366",
         "22633",
         "HAND WARMER UNION JACK",
         "6",
         "01/12/2019 08:28",
         "1.85",
         "17850.0",
         "United Kingdom"
        ],
        [
         "8",
         "536366",
         "22632",
         "HAND WARMER RED POLKA DOT",
         "6",
         "01/12/2019 08:28",
         "1.85",
         "17850.0",
         "United Kingdom"
        ],
        [
         "9",
         "536367",
         "84879",
         "ASSORTED COLOUR BIRD ORNAMENT",
         "32",
         "01/12/2019 08:34",
         "1.69",
         "13047.0",
         "United Kingdom"
        ],
        [
         "10",
         "536367",
         "22745",
         "POPPY'S PLAYHOUSE BEDROOM ",
         "6",
         "01/12/2019 08:34",
         "2.1",
         "13047.0",
         "United Kingdom"
        ],
        [
         "11",
         "536367",
         "22748",
         "POPPY'S PLAYHOUSE KITCHEN",
         "6",
         "01/12/2019 08:34",
         "2.1",
         "13047.0",
         "United Kingdom"
        ],
        [
         "12",
         "536367",
         "22749",
         "FELTCRAFT PRINCESS CHARLOTTE DOLL",
         "8",
         "01/12/2019 08:34",
         "3.75",
         "13047.0",
         "United Kingdom"
        ],
        [
         "13",
         "536367",
         "22310",
         "IVORY KNITTED MUG COSY ",
         "6",
         "01/12/2019 08:34",
         "1.65",
         "13047.0",
         "United Kingdom"
        ],
        [
         "14",
         "536367",
         "84969",
         "BOX OF 6 ASSORTED COLOUR TEASPOONS",
         "6",
         "01/12/2019 08:34",
         "4.25",
         "13047.0",
         "United Kingdom"
        ],
        [
         "15",
         "536367",
         "22623",
         "BOX OF VINTAGE JIGSAW BLOCKS ",
         "3",
         "01/12/2019 08:34",
         "4.95",
         "13047.0",
         "United Kingdom"
        ],
        [
         "16",
         "536367",
         "22622",
         "BOX OF VINTAGE ALPHABET BLOCKS",
         "2",
         "01/12/2019 08:34",
         "9.95",
         "13047.0",
         "United Kingdom"
        ],
        [
         "17",
         "536367",
         "21754",
         "HOME BUILDING BLOCK WORD",
         "3",
         "01/12/2019 08:34",
         "5.95",
         "13047.0",
         "United Kingdom"
        ],
        [
         "18",
         "536367",
         "21755",
         "LOVE BUILDING BLOCK WORD",
         "3",
         "01/12/2019 08:34",
         "5.95",
         "13047.0",
         "United Kingdom"
        ],
        [
         "19",
         "536367",
         "21777",
         "RECIPE BOX WITH METAL HEART",
         "4",
         "01/12/2019 08:34",
         "7.95",
         "13047.0",
         "United Kingdom"
        ]
       ],
       "shape": {
        "columns": 8,
        "rows": 20
       }
      },
      "text/html": [
       "<div>\n",
       "<style scoped>\n",
       "    .dataframe tbody tr th:only-of-type {\n",
       "        vertical-align: middle;\n",
       "    }\n",
       "\n",
       "    .dataframe tbody tr th {\n",
       "        vertical-align: top;\n",
       "    }\n",
       "\n",
       "    .dataframe thead th {\n",
       "        text-align: right;\n",
       "    }\n",
       "</style>\n",
       "<table border=\"1\" class=\"dataframe\">\n",
       "  <thead>\n",
       "    <tr style=\"text-align: right;\">\n",
       "      <th></th>\n",
       "      <th>INVOICE_NO</th>\n",
       "      <th>STOCK_CODE</th>\n",
       "      <th>DESCRIPTION</th>\n",
       "      <th>QUANTITY</th>\n",
       "      <th>INVOICE_DATE</th>\n",
       "      <th>UNIT_PRICE</th>\n",
       "      <th>CUSTOMER_ID</th>\n",
       "      <th>REGION</th>\n",
       "    </tr>\n",
       "  </thead>\n",
       "  <tbody>\n",
       "    <tr>\n",
       "      <th>0</th>\n",
       "      <td>536365</td>\n",
       "      <td>85123A</td>\n",
       "      <td>WHITE HANGING HEART T-LIGHT HOLDER</td>\n",
       "      <td>6</td>\n",
       "      <td>01/12/2019 08:26</td>\n",
       "      <td>2.55</td>\n",
       "      <td>17850.0</td>\n",
       "      <td>United Kingdom</td>\n",
       "    </tr>\n",
       "    <tr>\n",
       "      <th>1</th>\n",
       "      <td>536365</td>\n",
       "      <td>71053</td>\n",
       "      <td>WHITE METAL LANTERN</td>\n",
       "      <td>6</td>\n",
       "      <td>01/12/2019 08:26</td>\n",
       "      <td>3.39</td>\n",
       "      <td>17850.0</td>\n",
       "      <td>United Kingdom</td>\n",
       "    </tr>\n",
       "    <tr>\n",
       "      <th>2</th>\n",
       "      <td>536365</td>\n",
       "      <td>84406B</td>\n",
       "      <td>CREAM CUPID HEARTS COAT HANGER</td>\n",
       "      <td>8</td>\n",
       "      <td>01/12/2019 08:26</td>\n",
       "      <td>2.75</td>\n",
       "      <td>17850.0</td>\n",
       "      <td>United Kingdom</td>\n",
       "    </tr>\n",
       "    <tr>\n",
       "      <th>3</th>\n",
       "      <td>536365</td>\n",
       "      <td>84029G</td>\n",
       "      <td>KNITTED UNION FLAG HOT WATER BOTTLE</td>\n",
       "      <td>6</td>\n",
       "      <td>01/12/2019 08:26</td>\n",
       "      <td>3.39</td>\n",
       "      <td>17850.0</td>\n",
       "      <td>United Kingdom</td>\n",
       "    </tr>\n",
       "    <tr>\n",
       "      <th>4</th>\n",
       "      <td>536365</td>\n",
       "      <td>84029E</td>\n",
       "      <td>RED WOOLLY HOTTIE WHITE HEART.</td>\n",
       "      <td>6</td>\n",
       "      <td>01/12/2019 08:26</td>\n",
       "      <td>3.39</td>\n",
       "      <td>17850.0</td>\n",
       "      <td>United Kingdom</td>\n",
       "    </tr>\n",
       "    <tr>\n",
       "      <th>5</th>\n",
       "      <td>536365</td>\n",
       "      <td>22752</td>\n",
       "      <td>SET 7 BABUSHKA NESTING BOXES</td>\n",
       "      <td>2</td>\n",
       "      <td>01/12/2019 08:26</td>\n",
       "      <td>7.65</td>\n",
       "      <td>17850.0</td>\n",
       "      <td>United Kingdom</td>\n",
       "    </tr>\n",
       "    <tr>\n",
       "      <th>6</th>\n",
       "      <td>536365</td>\n",
       "      <td>21730</td>\n",
       "      <td>GLASS STAR FROSTED T-LIGHT HOLDER</td>\n",
       "      <td>6</td>\n",
       "      <td>01/12/2019 08:26</td>\n",
       "      <td>4.25</td>\n",
       "      <td>17850.0</td>\n",
       "      <td>United Kingdom</td>\n",
       "    </tr>\n",
       "    <tr>\n",
       "      <th>7</th>\n",
       "      <td>536366</td>\n",
       "      <td>22633</td>\n",
       "      <td>HAND WARMER UNION JACK</td>\n",
       "      <td>6</td>\n",
       "      <td>01/12/2019 08:28</td>\n",
       "      <td>1.85</td>\n",
       "      <td>17850.0</td>\n",
       "      <td>United Kingdom</td>\n",
       "    </tr>\n",
       "    <tr>\n",
       "      <th>8</th>\n",
       "      <td>536366</td>\n",
       "      <td>22632</td>\n",
       "      <td>HAND WARMER RED POLKA DOT</td>\n",
       "      <td>6</td>\n",
       "      <td>01/12/2019 08:28</td>\n",
       "      <td>1.85</td>\n",
       "      <td>17850.0</td>\n",
       "      <td>United Kingdom</td>\n",
       "    </tr>\n",
       "    <tr>\n",
       "      <th>9</th>\n",
       "      <td>536367</td>\n",
       "      <td>84879</td>\n",
       "      <td>ASSORTED COLOUR BIRD ORNAMENT</td>\n",
       "      <td>32</td>\n",
       "      <td>01/12/2019 08:34</td>\n",
       "      <td>1.69</td>\n",
       "      <td>13047.0</td>\n",
       "      <td>United Kingdom</td>\n",
       "    </tr>\n",
       "    <tr>\n",
       "      <th>10</th>\n",
       "      <td>536367</td>\n",
       "      <td>22745</td>\n",
       "      <td>POPPY'S PLAYHOUSE BEDROOM</td>\n",
       "      <td>6</td>\n",
       "      <td>01/12/2019 08:34</td>\n",
       "      <td>2.10</td>\n",
       "      <td>13047.0</td>\n",
       "      <td>United Kingdom</td>\n",
       "    </tr>\n",
       "    <tr>\n",
       "      <th>11</th>\n",
       "      <td>536367</td>\n",
       "      <td>22748</td>\n",
       "      <td>POPPY'S PLAYHOUSE KITCHEN</td>\n",
       "      <td>6</td>\n",
       "      <td>01/12/2019 08:34</td>\n",
       "      <td>2.10</td>\n",
       "      <td>13047.0</td>\n",
       "      <td>United Kingdom</td>\n",
       "    </tr>\n",
       "    <tr>\n",
       "      <th>12</th>\n",
       "      <td>536367</td>\n",
       "      <td>22749</td>\n",
       "      <td>FELTCRAFT PRINCESS CHARLOTTE DOLL</td>\n",
       "      <td>8</td>\n",
       "      <td>01/12/2019 08:34</td>\n",
       "      <td>3.75</td>\n",
       "      <td>13047.0</td>\n",
       "      <td>United Kingdom</td>\n",
       "    </tr>\n",
       "    <tr>\n",
       "      <th>13</th>\n",
       "      <td>536367</td>\n",
       "      <td>22310</td>\n",
       "      <td>IVORY KNITTED MUG COSY</td>\n",
       "      <td>6</td>\n",
       "      <td>01/12/2019 08:34</td>\n",
       "      <td>1.65</td>\n",
       "      <td>13047.0</td>\n",
       "      <td>United Kingdom</td>\n",
       "    </tr>\n",
       "    <tr>\n",
       "      <th>14</th>\n",
       "      <td>536367</td>\n",
       "      <td>84969</td>\n",
       "      <td>BOX OF 6 ASSORTED COLOUR TEASPOONS</td>\n",
       "      <td>6</td>\n",
       "      <td>01/12/2019 08:34</td>\n",
       "      <td>4.25</td>\n",
       "      <td>13047.0</td>\n",
       "      <td>United Kingdom</td>\n",
       "    </tr>\n",
       "    <tr>\n",
       "      <th>15</th>\n",
       "      <td>536367</td>\n",
       "      <td>22623</td>\n",
       "      <td>BOX OF VINTAGE JIGSAW BLOCKS</td>\n",
       "      <td>3</td>\n",
       "      <td>01/12/2019 08:34</td>\n",
       "      <td>4.95</td>\n",
       "      <td>13047.0</td>\n",
       "      <td>United Kingdom</td>\n",
       "    </tr>\n",
       "    <tr>\n",
       "      <th>16</th>\n",
       "      <td>536367</td>\n",
       "      <td>22622</td>\n",
       "      <td>BOX OF VINTAGE ALPHABET BLOCKS</td>\n",
       "      <td>2</td>\n",
       "      <td>01/12/2019 08:34</td>\n",
       "      <td>9.95</td>\n",
       "      <td>13047.0</td>\n",
       "      <td>United Kingdom</td>\n",
       "    </tr>\n",
       "    <tr>\n",
       "      <th>17</th>\n",
       "      <td>536367</td>\n",
       "      <td>21754</td>\n",
       "      <td>HOME BUILDING BLOCK WORD</td>\n",
       "      <td>3</td>\n",
       "      <td>01/12/2019 08:34</td>\n",
       "      <td>5.95</td>\n",
       "      <td>13047.0</td>\n",
       "      <td>United Kingdom</td>\n",
       "    </tr>\n",
       "    <tr>\n",
       "      <th>18</th>\n",
       "      <td>536367</td>\n",
       "      <td>21755</td>\n",
       "      <td>LOVE BUILDING BLOCK WORD</td>\n",
       "      <td>3</td>\n",
       "      <td>01/12/2019 08:34</td>\n",
       "      <td>5.95</td>\n",
       "      <td>13047.0</td>\n",
       "      <td>United Kingdom</td>\n",
       "    </tr>\n",
       "    <tr>\n",
       "      <th>19</th>\n",
       "      <td>536367</td>\n",
       "      <td>21777</td>\n",
       "      <td>RECIPE BOX WITH METAL HEART</td>\n",
       "      <td>4</td>\n",
       "      <td>01/12/2019 08:34</td>\n",
       "      <td>7.95</td>\n",
       "      <td>13047.0</td>\n",
       "      <td>United Kingdom</td>\n",
       "    </tr>\n",
       "  </tbody>\n",
       "</table>\n",
       "</div>"
      ],
      "text/plain": [
       "   INVOICE_NO STOCK_CODE                          DESCRIPTION  QUANTITY  \\\n",
       "0      536365     85123A   WHITE HANGING HEART T-LIGHT HOLDER         6   \n",
       "1      536365      71053                  WHITE METAL LANTERN         6   \n",
       "2      536365     84406B       CREAM CUPID HEARTS COAT HANGER         8   \n",
       "3      536365     84029G  KNITTED UNION FLAG HOT WATER BOTTLE         6   \n",
       "4      536365     84029E       RED WOOLLY HOTTIE WHITE HEART.         6   \n",
       "5      536365      22752         SET 7 BABUSHKA NESTING BOXES         2   \n",
       "6      536365      21730    GLASS STAR FROSTED T-LIGHT HOLDER         6   \n",
       "7      536366      22633               HAND WARMER UNION JACK         6   \n",
       "8      536366      22632            HAND WARMER RED POLKA DOT         6   \n",
       "9      536367      84879        ASSORTED COLOUR BIRD ORNAMENT        32   \n",
       "10     536367      22745           POPPY'S PLAYHOUSE BEDROOM          6   \n",
       "11     536367      22748            POPPY'S PLAYHOUSE KITCHEN         6   \n",
       "12     536367      22749    FELTCRAFT PRINCESS CHARLOTTE DOLL         8   \n",
       "13     536367      22310              IVORY KNITTED MUG COSY          6   \n",
       "14     536367      84969   BOX OF 6 ASSORTED COLOUR TEASPOONS         6   \n",
       "15     536367      22623        BOX OF VINTAGE JIGSAW BLOCKS          3   \n",
       "16     536367      22622       BOX OF VINTAGE ALPHABET BLOCKS         2   \n",
       "17     536367      21754             HOME BUILDING BLOCK WORD         3   \n",
       "18     536367      21755             LOVE BUILDING BLOCK WORD         3   \n",
       "19     536367      21777          RECIPE BOX WITH METAL HEART         4   \n",
       "\n",
       "        INVOICE_DATE  UNIT_PRICE  CUSTOMER_ID          REGION  \n",
       "0   01/12/2019 08:26        2.55      17850.0  United Kingdom  \n",
       "1   01/12/2019 08:26        3.39      17850.0  United Kingdom  \n",
       "2   01/12/2019 08:26        2.75      17850.0  United Kingdom  \n",
       "3   01/12/2019 08:26        3.39      17850.0  United Kingdom  \n",
       "4   01/12/2019 08:26        3.39      17850.0  United Kingdom  \n",
       "5   01/12/2019 08:26        7.65      17850.0  United Kingdom  \n",
       "6   01/12/2019 08:26        4.25      17850.0  United Kingdom  \n",
       "7   01/12/2019 08:28        1.85      17850.0  United Kingdom  \n",
       "8   01/12/2019 08:28        1.85      17850.0  United Kingdom  \n",
       "9   01/12/2019 08:34        1.69      13047.0  United Kingdom  \n",
       "10  01/12/2019 08:34        2.10      13047.0  United Kingdom  \n",
       "11  01/12/2019 08:34        2.10      13047.0  United Kingdom  \n",
       "12  01/12/2019 08:34        3.75      13047.0  United Kingdom  \n",
       "13  01/12/2019 08:34        1.65      13047.0  United Kingdom  \n",
       "14  01/12/2019 08:34        4.25      13047.0  United Kingdom  \n",
       "15  01/12/2019 08:34        4.95      13047.0  United Kingdom  \n",
       "16  01/12/2019 08:34        9.95      13047.0  United Kingdom  \n",
       "17  01/12/2019 08:34        5.95      13047.0  United Kingdom  \n",
       "18  01/12/2019 08:34        5.95      13047.0  United Kingdom  \n",
       "19  01/12/2019 08:34        7.95      13047.0  United Kingdom  "
      ]
     },
     "execution_count": 4,
     "metadata": {},
     "output_type": "execute_result"
    }
   ],
   "source": [
    "# visualizar los primeros 20 registros del dataframe\n",
    "df.head(20)"
   ]
  },
  {
   "cell_type": "markdown",
   "metadata": {},
   "source": [
    "## Recency\n",
    "<p>Indicador que nos dice que tan reciente es la compra de un cliente</p>"
   ]
  },
  {
   "cell_type": "code",
   "execution_count": 5,
   "metadata": {},
   "outputs": [
    {
     "data": {
      "application/vnd.microsoft.datawrangler.viewer.v0+json": {
       "columns": [
        {
         "name": "index",
         "rawType": "object",
         "type": "string"
        },
        {
         "name": "CUSTOMER_ID",
         "rawType": "float64",
         "type": "float"
        }
       ],
       "ref": "ee68519e-60d7-423c-b15f-87ca598b5671",
       "rows": [
        [
         "count",
         "4372.0"
        ],
        [
         "mean",
         "15299.677721866423"
        ],
        [
         "std",
         "1722.390705427691"
        ],
        [
         "min",
         "12346.0"
        ],
        [
         "25%",
         "13812.75"
        ],
        [
         "50%",
         "15300.5"
        ],
        [
         "75%",
         "16778.25"
        ],
        [
         "max",
         "18287.0"
        ]
       ],
       "shape": {
        "columns": 1,
        "rows": 8
       }
      },
      "text/html": [
       "<div>\n",
       "<style scoped>\n",
       "    .dataframe tbody tr th:only-of-type {\n",
       "        vertical-align: middle;\n",
       "    }\n",
       "\n",
       "    .dataframe tbody tr th {\n",
       "        vertical-align: top;\n",
       "    }\n",
       "\n",
       "    .dataframe thead th {\n",
       "        text-align: right;\n",
       "    }\n",
       "</style>\n",
       "<table border=\"1\" class=\"dataframe\">\n",
       "  <thead>\n",
       "    <tr style=\"text-align: right;\">\n",
       "      <th></th>\n",
       "      <th>CUSTOMER_ID</th>\n",
       "    </tr>\n",
       "  </thead>\n",
       "  <tbody>\n",
       "    <tr>\n",
       "      <th>count</th>\n",
       "      <td>4372.000000</td>\n",
       "    </tr>\n",
       "    <tr>\n",
       "      <th>mean</th>\n",
       "      <td>15299.677722</td>\n",
       "    </tr>\n",
       "    <tr>\n",
       "      <th>std</th>\n",
       "      <td>1722.390705</td>\n",
       "    </tr>\n",
       "    <tr>\n",
       "      <th>min</th>\n",
       "      <td>12346.000000</td>\n",
       "    </tr>\n",
       "    <tr>\n",
       "      <th>25%</th>\n",
       "      <td>13812.750000</td>\n",
       "    </tr>\n",
       "    <tr>\n",
       "      <th>50%</th>\n",
       "      <td>15300.500000</td>\n",
       "    </tr>\n",
       "    <tr>\n",
       "      <th>75%</th>\n",
       "      <td>16778.250000</td>\n",
       "    </tr>\n",
       "    <tr>\n",
       "      <th>max</th>\n",
       "      <td>18287.000000</td>\n",
       "    </tr>\n",
       "  </tbody>\n",
       "</table>\n",
       "</div>"
      ],
      "text/plain": [
       "        CUSTOMER_ID\n",
       "count   4372.000000\n",
       "mean   15299.677722\n",
       "std     1722.390705\n",
       "min    12346.000000\n",
       "25%    13812.750000\n",
       "50%    15300.500000\n",
       "75%    16778.250000\n",
       "max    18287.000000"
      ]
     },
     "execution_count": 5,
     "metadata": {},
     "output_type": "execute_result"
    }
   ],
   "source": [
    "# Obtener los clientes unicos\n",
    "customer = df['CUSTOMER_ID'].unique()\n",
    "# Convertir customer a un DataFrame\n",
    "customer_df = pd.DataFrame(customer, columns=['CUSTOMER_ID'])\n",
    "customer_df.describe()"
   ]
  },
  {
   "cell_type": "code",
   "execution_count": 6,
   "metadata": {},
   "outputs": [],
   "source": [
    "# Obtener la última fecha de compra por cliente\n",
    "# Convertir la columna INVOICE_DATE a formato datetime con el formato correcto y dayfirst=True\n",
    "df['INVOICE_DATE'] = pd.to_datetime(df['INVOICE_DATE'], format=\"%d/%m/%Y %H:%M\", dayfirst=True)\n",
    "max_purchase = df.groupby('CUSTOMER_ID').INVOICE_DATE.max().reset_index()"
   ]
  },
  {
   "cell_type": "code",
   "execution_count": 7,
   "metadata": {},
   "outputs": [],
   "source": [
    "# Vamos a calcular nuestra metrica de Recency, esto lo haremos restando los días de la última fecha de compra a cada observacón\n",
    "reference_date = df['INVOICE_DATE'].max()  \n",
    "max_purchase['RECENCY'] = (reference_date - max_purchase['INVOICE_DATE']).dt.days"
   ]
  },
  {
   "cell_type": "code",
   "execution_count": 8,
   "metadata": {},
   "outputs": [],
   "source": [
    "# Unir el DataFrame de clientes únicos con el que acabamos de crear de la última fecha de compra\n",
    "customer1 = pd.merge(customer_df, max_purchase[['CUSTOMER_ID', 'RECENCY']], on='CUSTOMER_ID')"
   ]
  },
  {
   "cell_type": "code",
   "execution_count": 9,
   "metadata": {},
   "outputs": [
    {
     "data": {
      "text/plain": [
       "(array([424., 202., 302.,  84., 236., 180., 151., 116., 138., 100.,  91.,\n",
       "         88.,  55., 132.,  62.,  77.,  88.,  70.,  69.,  69.,  59.,  45.,\n",
       "         49.,  31.,  33.,  33.,  25.,  13.,  50.,  23.,  24.,  27.,  24.,\n",
       "         24.,  20.,  25.,  22.,  23.,  15.,  23.,  25.,  36.,  10.,  22.,\n",
       "         19.,  34.,  15.,  25.,  16.,  26.,  27.,  15.,  25.,  13.,  23.,\n",
       "          9.,  32.,  11.,  31.,   8.,  14.,   6.,  30.,  23.,  17.,  20.,\n",
       "         13.,  25.,  12.,  23.,  21.,  29.,  12.,  19.,  16.,  20.,   4.,\n",
       "         21.,   8.,  14.,  15.,  15.,  13.,  25.,   9.,  19.,  15.,   9.,\n",
       "         12.,  13.,   8.,   0.,   0.,   1.,  12.,  16.,  16.,  27.,  16.,\n",
       "         40.]),\n",
       " array([  0.  ,   3.74,   7.48,  11.22,  14.96,  18.7 ,  22.44,  26.18,\n",
       "         29.92,  33.66,  37.4 ,  41.14,  44.88,  48.62,  52.36,  56.1 ,\n",
       "         59.84,  63.58,  67.32,  71.06,  74.8 ,  78.54,  82.28,  86.02,\n",
       "         89.76,  93.5 ,  97.24, 100.98, 104.72, 108.46, 112.2 , 115.94,\n",
       "        119.68, 123.42, 127.16, 130.9 , 134.64, 138.38, 142.12, 145.86,\n",
       "        149.6 , 153.34, 157.08, 160.82, 164.56, 168.3 , 172.04, 175.78,\n",
       "        179.52, 183.26, 187.  , 190.74, 194.48, 198.22, 201.96, 205.7 ,\n",
       "        209.44, 213.18, 216.92, 220.66, 224.4 , 228.14, 231.88, 235.62,\n",
       "        239.36, 243.1 , 246.84, 250.58, 254.32, 258.06, 261.8 , 265.54,\n",
       "        269.28, 273.02, 276.76, 280.5 , 284.24, 287.98, 291.72, 295.46,\n",
       "        299.2 , 302.94, 306.68, 310.42, 314.16, 317.9 , 321.64, 325.38,\n",
       "        329.12, 332.86, 336.6 , 340.34, 344.08, 347.82, 351.56, 355.3 ,\n",
       "        359.04, 362.78, 366.52, 370.26, 374.  ]),\n",
       " <BarContainer object of 100 artists>)"
      ]
     },
     "execution_count": 9,
     "metadata": {},
     "output_type": "execute_result"
    },
    {
     "data": {
      "image/png": "[encoded data removed]",
      "text/plain": [
       "<Figure size 640x480 with 1 Axes>"
      ]
     },
     "metadata": {},
     "output_type": "display_data"
    }
   ],
   "source": [
    "# Grafica un histograma de Recency\n",
    "plt.hist(customer1['RECENCY'], bins=100)"
   ]
  },
  {
   "cell_type": "code",
   "execution_count": 10,
   "metadata": {},
   "outputs": [
    {
     "name": "stdout",
     "output_type": "stream",
     "text": [
      "count    4372.000000\n",
      "mean       91.123056\n",
      "std       100.946554\n",
      "min         0.000000\n",
      "25%        16.000000\n",
      "50%        49.000000\n",
      "75%       142.000000\n",
      "max       374.000000\n",
      "Name: RECENCY, dtype: float64\n"
     ]
    }
   ],
   "source": [
    "# Imprime la Estadística de Resumen para Recency\n",
    "print(customer1['RECENCY'].describe())"
   ]
  },
  {
   "cell_type": "markdown",
   "metadata": {},
   "source": [
    "## Frequency\n",
    "<p>Frecuencia con la que un cliente compra uno o más productos</p>"
   ]
  },
  {
   "cell_type": "code",
   "execution_count": 11,
   "metadata": {},
   "outputs": [
    {
     "data": {
      "application/vnd.microsoft.datawrangler.viewer.v0+json": {
       "columns": [
        {
         "name": "index",
         "rawType": "int64",
         "type": "integer"
        },
        {
         "name": "CUSTOMER_ID",
         "rawType": "float64",
         "type": "float"
        },
        {
         "name": "FREQUENCY",
         "rawType": "int64",
         "type": "integer"
        }
       ],
       "ref": "e126356e-8f32-4385-81ba-e91eaaea8fca",
       "rows": [
        [
         "0",
         "12346.0",
         "2"
        ],
        [
         "1",
         "12347.0",
         "182"
        ],
        [
         "2",
         "12348.0",
         "31"
        ],
        [
         "3",
         "12349.0",
         "73"
        ],
        [
         "4",
         "12350.0",
         "17"
        ],
        [
         "5",
         "12352.0",
         "95"
        ],
        [
         "6",
         "12353.0",
         "4"
        ],
        [
         "7",
         "12354.0",
         "58"
        ],
        [
         "8",
         "12355.0",
         "13"
        ],
        [
         "9",
         "12356.0",
         "59"
        ],
        [
         "10",
         "12357.0",
         "131"
        ],
        [
         "11",
         "12358.0",
         "19"
        ],
        [
         "12",
         "12359.0",
         "254"
        ],
        [
         "13",
         "12360.0",
         "129"
        ],
        [
         "14",
         "12361.0",
         "10"
        ],
        [
         "15",
         "12362.0",
         "274"
        ],
        [
         "16",
         "12363.0",
         "23"
        ],
        [
         "17",
         "12364.0",
         "85"
        ],
        [
         "18",
         "12365.0",
         "23"
        ],
        [
         "19",
         "12367.0",
         "11"
        ],
        [
         "20",
         "12370.0",
         "167"
        ],
        [
         "21",
         "12371.0",
         "63"
        ],
        [
         "22",
         "12372.0",
         "52"
        ],
        [
         "23",
         "12373.0",
         "14"
        ],
        [
         "24",
         "12374.0",
         "33"
        ],
        [
         "25",
         "12375.0",
         "18"
        ],
        [
         "26",
         "12377.0",
         "77"
        ],
        [
         "27",
         "12378.0",
         "219"
        ],
        [
         "28",
         "12379.0",
         "41"
        ],
        [
         "29",
         "12380.0",
         "105"
        ],
        [
         "30",
         "12381.0",
         "91"
        ],
        [
         "31",
         "12383.0",
         "100"
        ],
        [
         "32",
         "12384.0",
         "30"
        ],
        [
         "33",
         "12386.0",
         "10"
        ],
        [
         "34",
         "12388.0",
         "100"
        ],
        [
         "35",
         "12390.0",
         "32"
        ],
        [
         "36",
         "12391.0",
         "100"
        ],
        [
         "37",
         "12393.0",
         "64"
        ],
        [
         "38",
         "12394.0",
         "27"
        ],
        [
         "39",
         "12395.0",
         "159"
        ],
        [
         "40",
         "12397.0",
         "126"
        ],
        [
         "41",
         "12398.0",
         "85"
        ],
        [
         "42",
         "12399.0",
         "59"
        ],
        [
         "43",
         "12401.0",
         "5"
        ],
        [
         "44",
         "12402.0",
         "11"
        ],
        [
         "45",
         "12403.0",
         "6"
        ],
        [
         "46",
         "12405.0",
         "54"
        ],
        [
         "47",
         "12406.0",
         "108"
        ],
        [
         "48",
         "12407.0",
         "77"
        ],
        [
         "49",
         "12408.0",
         "113"
        ]
       ],
       "shape": {
        "columns": 2,
        "rows": 4372
       }
      },
      "text/html": [
       "<div>\n",
       "<style scoped>\n",
       "    .dataframe tbody tr th:only-of-type {\n",
       "        vertical-align: middle;\n",
       "    }\n",
       "\n",
       "    .dataframe tbody tr th {\n",
       "        vertical-align: top;\n",
       "    }\n",
       "\n",
       "    .dataframe thead th {\n",
       "        text-align: right;\n",
       "    }\n",
       "</style>\n",
       "<table border=\"1\" class=\"dataframe\">\n",
       "  <thead>\n",
       "    <tr style=\"text-align: right;\">\n",
       "      <th></th>\n",
       "      <th>CUSTOMER_ID</th>\n",
       "      <th>FREQUENCY</th>\n",
       "    </tr>\n",
       "  </thead>\n",
       "  <tbody>\n",
       "    <tr>\n",
       "      <th>0</th>\n",
       "      <td>12346.0</td>\n",
       "      <td>2</td>\n",
       "    </tr>\n",
       "    <tr>\n",
       "      <th>1</th>\n",
       "      <td>12347.0</td>\n",
       "      <td>182</td>\n",
       "    </tr>\n",
       "    <tr>\n",
       "      <th>2</th>\n",
       "      <td>12348.0</td>\n",
       "      <td>31</td>\n",
       "    </tr>\n",
       "    <tr>\n",
       "      <th>3</th>\n",
       "      <td>12349.0</td>\n",
       "      <td>73</td>\n",
       "    </tr>\n",
       "    <tr>\n",
       "      <th>4</th>\n",
       "      <td>12350.0</td>\n",
       "      <td>17</td>\n",
       "    </tr>\n",
       "    <tr>\n",
       "      <th>...</th>\n",
       "      <td>...</td>\n",
       "      <td>...</td>\n",
       "    </tr>\n",
       "    <tr>\n",
       "      <th>4367</th>\n",
       "      <td>18280.0</td>\n",
       "      <td>10</td>\n",
       "    </tr>\n",
       "    <tr>\n",
       "      <th>4368</th>\n",
       "      <td>18281.0</td>\n",
       "      <td>7</td>\n",
       "    </tr>\n",
       "    <tr>\n",
       "      <th>4369</th>\n",
       "      <td>18282.0</td>\n",
       "      <td>13</td>\n",
       "    </tr>\n",
       "    <tr>\n",
       "      <th>4370</th>\n",
       "      <td>18283.0</td>\n",
       "      <td>756</td>\n",
       "    </tr>\n",
       "    <tr>\n",
       "      <th>4371</th>\n",
       "      <td>18287.0</td>\n",
       "      <td>70</td>\n",
       "    </tr>\n",
       "  </tbody>\n",
       "</table>\n",
       "<p>4372 rows × 2 columns</p>\n",
       "</div>"
      ],
      "text/plain": [
       "      CUSTOMER_ID  FREQUENCY\n",
       "0         12346.0          2\n",
       "1         12347.0        182\n",
       "2         12348.0         31\n",
       "3         12349.0         73\n",
       "4         12350.0         17\n",
       "...           ...        ...\n",
       "4367      18280.0         10\n",
       "4368      18281.0          7\n",
       "4369      18282.0         13\n",
       "4370      18283.0        756\n",
       "4371      18287.0         70\n",
       "\n",
       "[4372 rows x 2 columns]"
      ]
     },
     "execution_count": 11,
     "metadata": {},
     "output_type": "execute_result"
    }
   ],
   "source": [
    "# Obtener el número de compras por cliente\n",
    "frequency = df.groupby('CUSTOMER_ID').INVOICE_DATE.count().reset_index()\n",
    "frequency.columns = ['CUSTOMER_ID', 'FREQUENCY']\n",
    "frequency"
   ]
  },
  {
   "cell_type": "code",
   "execution_count": 12,
   "metadata": {},
   "outputs": [
    {
     "data": {
      "application/vnd.microsoft.datawrangler.viewer.v0+json": {
       "columns": [
        {
         "name": "index",
         "rawType": "object",
         "type": "string"
        },
        {
         "name": "CUSTOMER_ID",
         "rawType": "float64",
         "type": "float"
        },
        {
         "name": "RECENCY",
         "rawType": "float64",
         "type": "float"
        },
        {
         "name": "FREQUENCY",
         "rawType": "float64",
         "type": "float"
        }
       ],
       "ref": "0e2612a9-e25f-4d6c-83c2-0fa19118a508",
       "rows": [
        [
         "count",
         "4372.0",
         "4372.0",
         "4372.0"
        ],
        [
         "mean",
         "15299.677721866423",
         "91.12305580969807",
         "93.05329368709972"
        ],
        [
         "std",
         "1722.390705427691",
         "100.94655403224401",
         "232.4716077416496"
        ],
        [
         "min",
         "12346.0",
         "0.0",
         "1.0"
        ],
        [
         "25%",
         "13812.75",
         "16.0",
         "17.0"
        ],
        [
         "50%",
         "15300.5",
         "49.0",
         "42.0"
        ],
        [
         "75%",
         "16778.25",
         "142.0",
         "102.0"
        ],
        [
         "max",
         "18287.0",
         "374.0",
         "7983.0"
        ]
       ],
       "shape": {
        "columns": 3,
        "rows": 8
       }
      },
      "text/html": [
       "<div>\n",
       "<style scoped>\n",
       "    .dataframe tbody tr th:only-of-type {\n",
       "        vertical-align: middle;\n",
       "    }\n",
       "\n",
       "    .dataframe tbody tr th {\n",
       "        vertical-align: top;\n",
       "    }\n",
       "\n",
       "    .dataframe thead th {\n",
       "        text-align: right;\n",
       "    }\n",
       "</style>\n",
       "<table border=\"1\" class=\"dataframe\">\n",
       "  <thead>\n",
       "    <tr style=\"text-align: right;\">\n",
       "      <th></th>\n",
       "      <th>CUSTOMER_ID</th>\n",
       "      <th>RECENCY</th>\n",
       "      <th>FREQUENCY</th>\n",
       "    </tr>\n",
       "  </thead>\n",
       "  <tbody>\n",
       "    <tr>\n",
       "      <th>count</th>\n",
       "      <td>4372.000000</td>\n",
       "      <td>4372.000000</td>\n",
       "      <td>4372.000000</td>\n",
       "    </tr>\n",
       "    <tr>\n",
       "      <th>mean</th>\n",
       "      <td>15299.677722</td>\n",
       "      <td>91.123056</td>\n",
       "      <td>93.053294</td>\n",
       "    </tr>\n",
       "    <tr>\n",
       "      <th>std</th>\n",
       "      <td>1722.390705</td>\n",
       "      <td>100.946554</td>\n",
       "      <td>232.471608</td>\n",
       "    </tr>\n",
       "    <tr>\n",
       "      <th>min</th>\n",
       "      <td>12346.000000</td>\n",
       "      <td>0.000000</td>\n",
       "      <td>1.000000</td>\n",
       "    </tr>\n",
       "    <tr>\n",
       "      <th>25%</th>\n",
       "      <td>13812.750000</td>\n",
       "      <td>16.000000</td>\n",
       "      <td>17.000000</td>\n",
       "    </tr>\n",
       "    <tr>\n",
       "      <th>50%</th>\n",
       "      <td>15300.500000</td>\n",
       "      <td>49.000000</td>\n",
       "      <td>42.000000</td>\n",
       "    </tr>\n",
       "    <tr>\n",
       "      <th>75%</th>\n",
       "      <td>16778.250000</td>\n",
       "      <td>142.000000</td>\n",
       "      <td>102.000000</td>\n",
       "    </tr>\n",
       "    <tr>\n",
       "      <th>max</th>\n",
       "      <td>18287.000000</td>\n",
       "      <td>374.000000</td>\n",
       "      <td>7983.000000</td>\n",
       "    </tr>\n",
       "  </tbody>\n",
       "</table>\n",
       "</div>"
      ],
      "text/plain": [
       "        CUSTOMER_ID      RECENCY    FREQUENCY\n",
       "count   4372.000000  4372.000000  4372.000000\n",
       "mean   15299.677722    91.123056    93.053294\n",
       "std     1722.390705   100.946554   232.471608\n",
       "min    12346.000000     0.000000     1.000000\n",
       "25%    13812.750000    16.000000    17.000000\n",
       "50%    15300.500000    49.000000    42.000000\n",
       "75%    16778.250000   142.000000   102.000000\n",
       "max    18287.000000   374.000000  7983.000000"
      ]
     },
     "execution_count": 12,
     "metadata": {},
     "output_type": "execute_result"
    }
   ],
   "source": [
    "# Unir el DataFrame que acabamos de crear con el de los clientes unicos\n",
    "customer = pd.merge(customer1, frequency, on='CUSTOMER_ID')\n",
    "customer.describe()"
   ]
  },
  {
   "cell_type": "code",
   "execution_count": 13,
   "metadata": {},
   "outputs": [
    {
     "data": {
      "image/png": "[encoded data removed]",
      "text/plain": [
       "<Figure size 640x480 with 1 Axes>"
      ]
     },
     "metadata": {},
     "output_type": "display_data"
    }
   ],
   "source": [
    "# Graficar histograma de Frequency\n",
    "frequency_df = customer['FREQUENCY']\n",
    "plt.hist(frequency_df, bins=100)\n",
    "plt.xlabel('Número de compras')\n",
    "plt.ylabel('Frecuencia')\n",
    "plt.title('Histograma de Frequency')\n",
    "plt.show()"
   ]
  },
  {
   "cell_type": "code",
   "execution_count": 14,
   "metadata": {},
   "outputs": [
    {
     "data": {
      "application/vnd.microsoft.datawrangler.viewer.v0+json": {
       "columns": [
        {
         "name": "index",
         "rawType": "object",
         "type": "string"
        },
        {
         "name": "FREQUENCY",
         "rawType": "float64",
         "type": "float"
        }
       ],
       "ref": "503dd455-b4d3-4a1d-b1a4-f8b143e62781",
       "rows": [
        [
         "count",
         "4372.0"
        ],
        [
         "mean",
         "93.05329368709972"
        ],
        [
         "std",
         "232.4716077416496"
        ],
        [
         "min",
         "1.0"
        ],
        [
         "25%",
         "17.0"
        ],
        [
         "50%",
         "42.0"
        ],
        [
         "75%",
         "102.0"
        ],
        [
         "max",
         "7983.0"
        ]
       ],
       "shape": {
        "columns": 1,
        "rows": 8
       }
      },
      "text/plain": [
       "count    4372.000000\n",
       "mean       93.053294\n",
       "std       232.471608\n",
       "min         1.000000\n",
       "25%        17.000000\n",
       "50%        42.000000\n",
       "75%       102.000000\n",
       "max      7983.000000\n",
       "Name: FREQUENCY, dtype: float64"
      ]
     },
     "execution_count": 14,
     "metadata": {},
     "output_type": "execute_result"
    }
   ],
   "source": [
    "# Imprime la Estadística de Resumen para Frequency\n",
    "frequency_df.describe()"
   ]
  },
  {
   "cell_type": "markdown",
   "metadata": {},
   "source": [
    "## Monetary\n",
    "<p>Valor del monto total que ha gastado un cliente en la compra de mis productos</p>"
   ]
  },
  {
   "cell_type": "code",
   "execution_count": 15,
   "metadata": {},
   "outputs": [],
   "source": [
    "# Calcular el monto total por cada compra\n",
    "df['MONETARY'] = df['UNIT_PRICE'] * df['QUANTITY']\n",
    "\n",
    "# Obtener el valor monetario de compra por cliente\n",
    "monetary = df.groupby('CUSTOMER_ID').MONETARY.sum().reset_index()"
   ]
  },
  {
   "cell_type": "code",
   "execution_count": 16,
   "metadata": {},
   "outputs": [],
   "source": [
    "# Unir el DataFrame que acabamos de crear con el de los clientes unicos\n",
    "customer = pd.merge(customer, monetary, on='CUSTOMER_ID')"
   ]
  },
  {
   "cell_type": "code",
   "execution_count": 17,
   "metadata": {},
   "outputs": [
    {
     "data": {
      "image/png": "[encoded data removed]",
      "text/plain": [
       "<Figure size 640x480 with 1 Axes>"
      ]
     },
     "metadata": {},
     "output_type": "display_data"
    }
   ],
   "source": [
    "# Grafica un histograma de Monetary\n",
    "monetary_df = customer['MONETARY']\n",
    "plt.hist(monetary_df, bins=100)\n",
    "plt.xlabel('Monto total de compra')\n",
    "plt.ylabel('Frecuencia')\n",
    "plt.title('Histograma de Monetary')\n",
    "plt.show()"
   ]
  },
  {
   "cell_type": "code",
   "execution_count": 18,
   "metadata": {},
   "outputs": [
    {
     "data": {
      "application/vnd.microsoft.datawrangler.viewer.v0+json": {
       "columns": [
        {
         "name": "index",
         "rawType": "object",
         "type": "string"
        },
        {
         "name": "MONETARY",
         "rawType": "float64",
         "type": "float"
        }
       ],
       "ref": "1812d848-2897-4167-81df-f8df2df22e76",
       "rows": [
        [
         "count",
         "4372.0"
        ],
        [
         "mean",
         "1898.459701280878"
        ],
        [
         "std",
         "8219.345141066584"
        ],
        [
         "min",
         "-4287.63"
        ],
        [
         "25%",
         "293.3625"
        ],
        [
         "50%",
         "648.075"
        ],
        [
         "75%",
         "1611.725"
        ],
        [
         "max",
         "279489.02"
        ]
       ],
       "shape": {
        "columns": 1,
        "rows": 8
       }
      },
      "text/plain": [
       "count      4372.000000\n",
       "mean       1898.459701\n",
       "std        8219.345141\n",
       "min       -4287.630000\n",
       "25%         293.362500\n",
       "50%         648.075000\n",
       "75%        1611.725000\n",
       "max      279489.020000\n",
       "Name: MONETARY, dtype: float64"
      ]
     },
     "execution_count": 18,
     "metadata": {},
     "output_type": "execute_result"
    }
   ],
   "source": [
    "# Imprime la Estadística de Resumen para Monetary\n",
    "monetary_df.describe()"
   ]
  },
  {
   "cell_type": "markdown",
   "metadata": {},
   "source": [
    "## Algoritmo k-Means\n",
    "<p>Ya creamos nuestros indicadores principales de la metodología RFM. es hora de hacer <i>Machine Learning</i>. Para ello utilizaremos un algoritmo no supervisado llamado <b>k-Means</b></p>\n",
    "<p><img src=\"https://miro.medium.com/max/818/1*fG8u8nV7qR91wDyFDEEV-g.png\" width=\"250\"/></p>"
   ]
  },
  {
   "cell_type": "code",
   "execution_count": 19,
   "metadata": {},
   "outputs": [],
   "source": [
    "# Funcion para ordenar los clusters\n",
    "def order_cluster(cluster_field_name, target_field_name, df, ascending):\n",
    "    new_cluster_field_name = 'new_' + cluster_field_name\n",
    "    df_new = df.groupby(cluster_field_name)[target_field_name].mean().reset_index()\n",
    "    df_new = df_new.sort_values(by=target_field_name,ascending=ascending).reset_index(drop=True)\n",
    "    df_new['index'] = df_new.index\n",
    "    df_final = pd.merge(df,df_new[[cluster_field_name,'index']], on=cluster_field_name)\n",
    "    df_final = df_final.drop([cluster_field_name],axis=1)\n",
    "    df_final = df_final.rename(columns={\"index\":cluster_field_name})\n",
    "    return df_final"
   ]
  },
  {
   "cell_type": "markdown",
   "metadata": {},
   "source": [
    "## Elbow Method\n",
    "<p>¿Cual es mi número óptimo de clusters? Vamos a contruir una <i>gráfica de codo</i> para averiguarlo</p>"
   ]
  },
  {
   "cell_type": "code",
   "execution_count": 20,
   "metadata": {},
   "outputs": [],
   "source": [
    "# Importa la librería de kMeans\n",
    "import sklearn\n",
    "from sklearn.cluster import KMeans"
   ]
  },
  {
   "cell_type": "code",
   "execution_count": 22,
   "metadata": {},
   "outputs": [
    {
     "name": "stderr",
     "output_type": "stream",
     "text": [
      "C:\\Users\\benma\\AppData\\Local\\Temp\\ipykernel_18388\\723009742.py:13: SettingWithCopyWarning: \n",
      "A value is trying to be set on a copy of a slice from a DataFrame.\n",
      "Try using .loc[row_indexer,col_indexer] = value instead\n",
      "\n",
      "See the caveats in the documentation: https://pandas.pydata.org/pandas-docs/stable/user_guide/indexing.html#returning-a-view-versus-a-copy\n",
      "  recency[\"clusters\"] = kmeans.labels_\n",
      "C:\\Users\\benma\\AppData\\Local\\Temp\\ipykernel_18388\\723009742.py:13: SettingWithCopyWarning: \n",
      "A value is trying to be set on a copy of a slice from a DataFrame.\n",
      "Try using .loc[row_indexer,col_indexer] = value instead\n",
      "\n",
      "See the caveats in the documentation: https://pandas.pydata.org/pandas-docs/stable/user_guide/indexing.html#returning-a-view-versus-a-copy\n",
      "  recency[\"clusters\"] = kmeans.labels_\n",
      "C:\\Users\\benma\\AppData\\Local\\Temp\\ipykernel_18388\\723009742.py:13: SettingWithCopyWarning: \n",
      "A value is trying to be set on a copy of a slice from a DataFrame.\n",
      "Try using .loc[row_indexer,col_indexer] = value instead\n",
      "\n",
      "See the caveats in the documentation: https://pandas.pydata.org/pandas-docs/stable/user_guide/indexing.html#returning-a-view-versus-a-copy\n",
      "  recency[\"clusters\"] = kmeans.labels_\n",
      "C:\\Users\\benma\\AppData\\Local\\Temp\\ipykernel_18388\\723009742.py:13: SettingWithCopyWarning: \n",
      "A value is trying to be set on a copy of a slice from a DataFrame.\n",
      "Try using .loc[row_indexer,col_indexer] = value instead\n",
      "\n",
      "See the caveats in the documentation: https://pandas.pydata.org/pandas-docs/stable/user_guide/indexing.html#returning-a-view-versus-a-copy\n",
      "  recency[\"clusters\"] = kmeans.labels_\n",
      "C:\\Users\\benma\\AppData\\Local\\Temp\\ipykernel_18388\\723009742.py:13: SettingWithCopyWarning: \n",
      "A value is trying to be set on a copy of a slice from a DataFrame.\n",
      "Try using .loc[row_indexer,col_indexer] = value instead\n",
      "\n",
      "See the caveats in the documentation: https://pandas.pydata.org/pandas-docs/stable/user_guide/indexing.html#returning-a-view-versus-a-copy\n",
      "  recency[\"clusters\"] = kmeans.labels_\n",
      "C:\\Users\\benma\\AppData\\Local\\Temp\\ipykernel_18388\\723009742.py:13: SettingWithCopyWarning: \n",
      "A value is trying to be set on a copy of a slice from a DataFrame.\n",
      "Try using .loc[row_indexer,col_indexer] = value instead\n",
      "\n",
      "See the caveats in the documentation: https://pandas.pydata.org/pandas-docs/stable/user_guide/indexing.html#returning-a-view-versus-a-copy\n",
      "  recency[\"clusters\"] = kmeans.labels_\n",
      "C:\\Users\\benma\\AppData\\Local\\Temp\\ipykernel_18388\\723009742.py:13: SettingWithCopyWarning: \n",
      "A value is trying to be set on a copy of a slice from a DataFrame.\n",
      "Try using .loc[row_indexer,col_indexer] = value instead\n",
      "\n",
      "See the caveats in the documentation: https://pandas.pydata.org/pandas-docs/stable/user_guide/indexing.html#returning-a-view-versus-a-copy\n",
      "  recency[\"clusters\"] = kmeans.labels_\n",
      "C:\\Users\\benma\\AppData\\Local\\Temp\\ipykernel_18388\\723009742.py:13: SettingWithCopyWarning: \n",
      "A value is trying to be set on a copy of a slice from a DataFrame.\n",
      "Try using .loc[row_indexer,col_indexer] = value instead\n",
      "\n",
      "See the caveats in the documentation: https://pandas.pydata.org/pandas-docs/stable/user_guide/indexing.html#returning-a-view-versus-a-copy\n",
      "  recency[\"clusters\"] = kmeans.labels_\n",
      "C:\\Users\\benma\\AppData\\Local\\Temp\\ipykernel_18388\\723009742.py:13: SettingWithCopyWarning: \n",
      "A value is trying to be set on a copy of a slice from a DataFrame.\n",
      "Try using .loc[row_indexer,col_indexer] = value instead\n",
      "\n",
      "See the caveats in the documentation: https://pandas.pydata.org/pandas-docs/stable/user_guide/indexing.html#returning-a-view-versus-a-copy\n",
      "  recency[\"clusters\"] = kmeans.labels_\n"
     ]
    },
    {
     "data": {
      "image/png": "[encoded data removed]",
      "text/plain": [
       "<Figure size 1200x800 with 1 Axes>"
      ]
     },
     "metadata": {},
     "output_type": "display_data"
    }
   ],
   "source": [
    "# Configuración inicial - Vamos a tomar como referencia el indicador de Recency\n",
    "sse={}\n",
    "recency = customer[['CUSTOMER_ID', 'RECENCY']]\n",
    "\n",
    "for k in range(1, 10):\n",
    "    # Instancia el algoritmo de k-means iterando sobre k\n",
    "    kmeans = KMeans(n_clusters=k, random_state=42)\n",
    "    \n",
    "    # Entrena el algoritmo\n",
    "    kmeans.fit(recency[['RECENCY']])\n",
    "\n",
    "    # Adjunta las etiquetas\n",
    "    recency[\"clusters\"] = kmeans.labels_\n",
    "\n",
    "    # Adunta la inercia o variación al arreglo sse\n",
    "    sse[k] = kmeans.inertia_\n",
    "    \n",
    "# Grafico de codo (Elbow)\n",
    "plt.figure(figsize=(12,8))\n",
    "plt.plot(list(sse.keys()), list(sse.values()))\n",
    "plt.xlabel(\"Number of cluster\")\n",
    "plt.show()"
   ]
  },
  {
   "cell_type": "code",
   "execution_count": 23,
   "metadata": {},
   "outputs": [
    {
     "data": {
      "application/vnd.microsoft.datawrangler.viewer.v0+json": {
       "columns": [
        {
         "name": "RECENCY_CLUSTER",
         "rawType": "int64",
         "type": "integer"
        },
        {
         "name": "count",
         "rawType": "float64",
         "type": "float"
        },
        {
         "name": "mean",
         "rawType": "float64",
         "type": "float"
        },
        {
         "name": "std",
         "rawType": "float64",
         "type": "float"
        },
        {
         "name": "min",
         "rawType": "float64",
         "type": "float"
        },
        {
         "name": "25%",
         "rawType": "float64",
         "type": "float"
        },
        {
         "name": "50%",
         "rawType": "float64",
         "type": "float"
        },
        {
         "name": "75%",
         "rawType": "float64",
         "type": "float"
        },
        {
         "name": "max",
         "rawType": "float64",
         "type": "float"
        }
       ],
       "ref": "fcb644df-bd39-4a67-869d-619a4659d0bd",
       "rows": [
        [
         "0",
         "528.0",
         "306.907196969697",
         "40.65055537246892",
         "246.0",
         "269.0",
         "303.0",
         "338.0",
         "374.0"
        ],
        [
         "1",
         "628.0",
         "185.36783439490446",
         "32.6666023073637",
         "132.0",
         "156.0",
         "184.0",
         "213.0",
         "245.0"
        ],
        [
         "2",
         "1059.0",
         "77.81491973559962",
         "22.83009745861638",
         "48.0",
         "59.0",
         "73.0",
         "93.5",
         "131.0"
        ],
        [
         "3",
         "2157.0",
         "17.397311080203988",
         "13.18880492412613",
         "0.0",
         "6.0",
         "16.0",
         "28.0",
         "47.0"
        ]
       ],
       "shape": {
        "columns": 8,
        "rows": 4
       }
      },
      "text/html": [
       "<div>\n",
       "<style scoped>\n",
       "    .dataframe tbody tr th:only-of-type {\n",
       "        vertical-align: middle;\n",
       "    }\n",
       "\n",
       "    .dataframe tbody tr th {\n",
       "        vertical-align: top;\n",
       "    }\n",
       "\n",
       "    .dataframe thead th {\n",
       "        text-align: right;\n",
       "    }\n",
       "</style>\n",
       "<table border=\"1\" class=\"dataframe\">\n",
       "  <thead>\n",
       "    <tr style=\"text-align: right;\">\n",
       "      <th></th>\n",
       "      <th>count</th>\n",
       "      <th>mean</th>\n",
       "      <th>std</th>\n",
       "      <th>min</th>\n",
       "      <th>25%</th>\n",
       "      <th>50%</th>\n",
       "      <th>75%</th>\n",
       "      <th>max</th>\n",
       "    </tr>\n",
       "    <tr>\n",
       "      <th>RECENCY_CLUSTER</th>\n",
       "      <th></th>\n",
       "      <th></th>\n",
       "      <th></th>\n",
       "      <th></th>\n",
       "      <th></th>\n",
       "      <th></th>\n",
       "      <th></th>\n",
       "      <th></th>\n",
       "    </tr>\n",
       "  </thead>\n",
       "  <tbody>\n",
       "    <tr>\n",
       "      <th>0</th>\n",
       "      <td>528.0</td>\n",
       "      <td>306.907197</td>\n",
       "      <td>40.650555</td>\n",
       "      <td>246.0</td>\n",
       "      <td>269.0</td>\n",
       "      <td>303.0</td>\n",
       "      <td>338.0</td>\n",
       "      <td>374.0</td>\n",
       "    </tr>\n",
       "    <tr>\n",
       "      <th>1</th>\n",
       "      <td>628.0</td>\n",
       "      <td>185.367834</td>\n",
       "      <td>32.666602</td>\n",
       "      <td>132.0</td>\n",
       "      <td>156.0</td>\n",
       "      <td>184.0</td>\n",
       "      <td>213.0</td>\n",
       "      <td>245.0</td>\n",
       "    </tr>\n",
       "    <tr>\n",
       "      <th>2</th>\n",
       "      <td>1059.0</td>\n",
       "      <td>77.814920</td>\n",
       "      <td>22.830097</td>\n",
       "      <td>48.0</td>\n",
       "      <td>59.0</td>\n",
       "      <td>73.0</td>\n",
       "      <td>93.5</td>\n",
       "      <td>131.0</td>\n",
       "    </tr>\n",
       "    <tr>\n",
       "      <th>3</th>\n",
       "      <td>2157.0</td>\n",
       "      <td>17.397311</td>\n",
       "      <td>13.188805</td>\n",
       "      <td>0.0</td>\n",
       "      <td>6.0</td>\n",
       "      <td>16.0</td>\n",
       "      <td>28.0</td>\n",
       "      <td>47.0</td>\n",
       "    </tr>\n",
       "  </tbody>\n",
       "</table>\n",
       "</div>"
      ],
      "text/plain": [
       "                  count        mean        std    min    25%    50%    75%  \\\n",
       "RECENCY_CLUSTER                                                              \n",
       "0                 528.0  306.907197  40.650555  246.0  269.0  303.0  338.0   \n",
       "1                 628.0  185.367834  32.666602  132.0  156.0  184.0  213.0   \n",
       "2                1059.0   77.814920  22.830097   48.0   59.0   73.0   93.5   \n",
       "3                2157.0   17.397311  13.188805    0.0    6.0   16.0   28.0   \n",
       "\n",
       "                   max  \n",
       "RECENCY_CLUSTER         \n",
       "0                374.0  \n",
       "1                245.0  \n",
       "2                131.0  \n",
       "3                 47.0  "
      ]
     },
     "execution_count": 23,
     "metadata": {},
     "output_type": "execute_result"
    }
   ],
   "source": [
    "# Instanciar el algoritmo con 4 clusters para Recency \n",
    "kmeans = KMeans(n_clusters=4, random_state=1)\n",
    "\n",
    "# Entrenar el algoritmo\n",
    "kmeans.fit(recency[['RECENCY']])\n",
    "\n",
    "# Obtener las predicciones\n",
    "customer['RECENCY_CLUSTER'] = kmeans.labels_\n",
    "\n",
    "# Ordenar los clusters\n",
    "customer = order_cluster('RECENCY_CLUSTER', 'RECENCY', customer, False)\n",
    "\n",
    "# Estadística Descriptiva del cluster creado\n",
    "customer.groupby('RECENCY_CLUSTER')['RECENCY'].describe()"
   ]
  },
  {
   "cell_type": "code",
   "execution_count": 24,
   "metadata": {},
   "outputs": [
    {
     "data": {
      "application/vnd.microsoft.datawrangler.viewer.v0+json": {
       "columns": [
        {
         "name": "FREQUENCY_CLUSTER",
         "rawType": "int64",
         "type": "integer"
        },
        {
         "name": "count",
         "rawType": "float64",
         "type": "float"
        },
        {
         "name": "mean",
         "rawType": "float64",
         "type": "float"
        },
        {
         "name": "std",
         "rawType": "float64",
         "type": "float"
        },
        {
         "name": "min",
         "rawType": "float64",
         "type": "float"
        },
        {
         "name": "25%",
         "rawType": "float64",
         "type": "float"
        },
        {
         "name": "50%",
         "rawType": "float64",
         "type": "float"
        },
        {
         "name": "75%",
         "rawType": "float64",
         "type": "float"
        },
        {
         "name": "max",
         "rawType": "float64",
         "type": "float"
        }
       ],
       "ref": "1d143d5f-2760-4c6b-bee8-d329a012c908",
       "rows": [
        [
         "0",
         "4052.0",
         "57.74136229022705",
         "56.828243496253286",
         "1.0",
         "16.0",
         "36.0",
         "83.25",
         "260.0"
        ],
        [
         "1",
         "315.0",
         "464.83492063492065",
         "283.66639269315044",
         "261.0",
         "306.0",
         "372.0",
         "501.5",
         "2491.0"
        ],
        [
         "2",
         "4.0",
         "4613.75",
         "1326.992181589628",
         "2782.0",
         "4177.0",
         "4885.0",
         "5321.75",
         "5903.0"
        ],
        [
         "3",
         "1.0",
         "7983.0",
         null,
         "7983.0",
         "7983.0",
         "7983.0",
         "7983.0",
         "7983.0"
        ]
       ],
       "shape": {
        "columns": 8,
        "rows": 4
       }
      },
      "text/html": [
       "<div>\n",
       "<style scoped>\n",
       "    .dataframe tbody tr th:only-of-type {\n",
       "        vertical-align: middle;\n",
       "    }\n",
       "\n",
       "    .dataframe tbody tr th {\n",
       "        vertical-align: top;\n",
       "    }\n",
       "\n",
       "    .dataframe thead th {\n",
       "        text-align: right;\n",
       "    }\n",
       "</style>\n",
       "<table border=\"1\" class=\"dataframe\">\n",
       "  <thead>\n",
       "    <tr style=\"text-align: right;\">\n",
       "      <th></th>\n",
       "      <th>count</th>\n",
       "      <th>mean</th>\n",
       "      <th>std</th>\n",
       "      <th>min</th>\n",
       "      <th>25%</th>\n",
       "      <th>50%</th>\n",
       "      <th>75%</th>\n",
       "      <th>max</th>\n",
       "    </tr>\n",
       "    <tr>\n",
       "      <th>FREQUENCY_CLUSTER</th>\n",
       "      <th></th>\n",
       "      <th></th>\n",
       "      <th></th>\n",
       "      <th></th>\n",
       "      <th></th>\n",
       "      <th></th>\n",
       "      <th></th>\n",
       "      <th></th>\n",
       "    </tr>\n",
       "  </thead>\n",
       "  <tbody>\n",
       "    <tr>\n",
       "      <th>0</th>\n",
       "      <td>4052.0</td>\n",
       "      <td>57.741362</td>\n",
       "      <td>56.828243</td>\n",
       "      <td>1.0</td>\n",
       "      <td>16.0</td>\n",
       "      <td>36.0</td>\n",
       "      <td>83.25</td>\n",
       "      <td>260.0</td>\n",
       "    </tr>\n",
       "    <tr>\n",
       "      <th>1</th>\n",
       "      <td>315.0</td>\n",
       "      <td>464.834921</td>\n",
       "      <td>283.666393</td>\n",
       "      <td>261.0</td>\n",
       "      <td>306.0</td>\n",
       "      <td>372.0</td>\n",
       "      <td>501.50</td>\n",
       "      <td>2491.0</td>\n",
       "    </tr>\n",
       "    <tr>\n",
       "      <th>2</th>\n",
       "      <td>4.0</td>\n",
       "      <td>4613.750000</td>\n",
       "      <td>1326.992182</td>\n",
       "      <td>2782.0</td>\n",
       "      <td>4177.0</td>\n",
       "      <td>4885.0</td>\n",
       "      <td>5321.75</td>\n",
       "      <td>5903.0</td>\n",
       "    </tr>\n",
       "    <tr>\n",
       "      <th>3</th>\n",
       "      <td>1.0</td>\n",
       "      <td>7983.000000</td>\n",
       "      <td>NaN</td>\n",
       "      <td>7983.0</td>\n",
       "      <td>7983.0</td>\n",
       "      <td>7983.0</td>\n",
       "      <td>7983.00</td>\n",
       "      <td>7983.0</td>\n",
       "    </tr>\n",
       "  </tbody>\n",
       "</table>\n",
       "</div>"
      ],
      "text/plain": [
       "                    count         mean          std     min     25%     50%  \\\n",
       "FREQUENCY_CLUSTER                                                             \n",
       "0                  4052.0    57.741362    56.828243     1.0    16.0    36.0   \n",
       "1                   315.0   464.834921   283.666393   261.0   306.0   372.0   \n",
       "2                     4.0  4613.750000  1326.992182  2782.0  4177.0  4885.0   \n",
       "3                     1.0  7983.000000          NaN  7983.0  7983.0  7983.0   \n",
       "\n",
       "                       75%     max  \n",
       "FREQUENCY_CLUSTER                   \n",
       "0                    83.25   260.0  \n",
       "1                   501.50  2491.0  \n",
       "2                  5321.75  5903.0  \n",
       "3                  7983.00  7983.0  "
      ]
     },
     "execution_count": 24,
     "metadata": {},
     "output_type": "execute_result"
    }
   ],
   "source": [
    "# Instanciar el algoritmo con 4 clusters para Frequency \n",
    "kmeans = KMeans(n_clusters=4, random_state=1)\n",
    "\n",
    "# Entrenar el algoritmo\n",
    "kmeans.fit(customer[['FREQUENCY']])\n",
    "\n",
    "# Obtener las predicciones\n",
    "customer['FREQUENCY_CLUSTER'] = kmeans.labels_\n",
    "\n",
    "# Ordenar los clusters\n",
    "customer = order_cluster('FREQUENCY_CLUSTER', 'FREQUENCY', customer, True)\n",
    "\n",
    "# Estadística Descriptiva de los clusters\n",
    "customer.groupby('FREQUENCY_CLUSTER')['FREQUENCY'].describe()"
   ]
  },
  {
   "cell_type": "code",
   "execution_count": 25,
   "metadata": {},
   "outputs": [
    {
     "data": {
      "application/vnd.microsoft.datawrangler.viewer.v0+json": {
       "columns": [
        {
         "name": "MONETARY_CLUSTER",
         "rawType": "int64",
         "type": "integer"
        },
        {
         "name": "count",
         "rawType": "float64",
         "type": "float"
        },
        {
         "name": "mean",
         "rawType": "float64",
         "type": "float"
        },
        {
         "name": "std",
         "rawType": "float64",
         "type": "float"
        },
        {
         "name": "min",
         "rawType": "float64",
         "type": "float"
        },
        {
         "name": "25%",
         "rawType": "float64",
         "type": "float"
        },
        {
         "name": "50%",
         "rawType": "float64",
         "type": "float"
        },
        {
         "name": "75%",
         "rawType": "float64",
         "type": "float"
        },
        {
         "name": "max",
         "rawType": "float64",
         "type": "float"
        }
       ],
       "ref": "7766b15a-e88e-41bf-ba79-c93bd5a47344",
       "rows": [
        [
         "0",
         "4068.0",
         "944.0857704031466",
         "961.2710598784303",
         "-4287.63",
         "271.36",
         "594.0",
         "1305.315",
         "4464.1"
        ],
        [
         "1",
         "270.0",
         "8049.00062962963",
         "3759.165616976652",
         "4478.53",
         "5354.9825",
         "6698.805",
         "9516.325",
         "21535.9"
        ],
        [
         "2",
         "28.0",
         "42614.38714285715",
         "15826.36250069528",
         "25748.350000000002",
         "28968.795",
         "35078.555",
         "53120.314999999995",
         "88125.38"
        ],
        [
         "3",
         "6.0",
         "182181.98166666666",
         "71585.16412343257",
         "113384.14",
         "125937.2425",
         "160027.39500000002",
         "239199.41",
         "279489.02"
        ]
       ],
       "shape": {
        "columns": 8,
        "rows": 4
       }
      },
      "text/html": [
       "<div>\n",
       "<style scoped>\n",
       "    .dataframe tbody tr th:only-of-type {\n",
       "        vertical-align: middle;\n",
       "    }\n",
       "\n",
       "    .dataframe tbody tr th {\n",
       "        vertical-align: top;\n",
       "    }\n",
       "\n",
       "    .dataframe thead th {\n",
       "        text-align: right;\n",
       "    }\n",
       "</style>\n",
       "<table border=\"1\" class=\"dataframe\">\n",
       "  <thead>\n",
       "    <tr style=\"text-align: right;\">\n",
       "      <th></th>\n",
       "      <th>count</th>\n",
       "      <th>mean</th>\n",
       "      <th>std</th>\n",
       "      <th>min</th>\n",
       "      <th>25%</th>\n",
       "      <th>50%</th>\n",
       "      <th>75%</th>\n",
       "      <th>max</th>\n",
       "    </tr>\n",
       "    <tr>\n",
       "      <th>MONETARY_CLUSTER</th>\n",
       "      <th></th>\n",
       "      <th></th>\n",
       "      <th></th>\n",
       "      <th></th>\n",
       "      <th></th>\n",
       "      <th></th>\n",
       "      <th></th>\n",
       "      <th></th>\n",
       "    </tr>\n",
       "  </thead>\n",
       "  <tbody>\n",
       "    <tr>\n",
       "      <th>0</th>\n",
       "      <td>4068.0</td>\n",
       "      <td>944.085770</td>\n",
       "      <td>961.271060</td>\n",
       "      <td>-4287.63</td>\n",
       "      <td>271.3600</td>\n",
       "      <td>594.000</td>\n",
       "      <td>1305.315</td>\n",
       "      <td>4464.10</td>\n",
       "    </tr>\n",
       "    <tr>\n",
       "      <th>1</th>\n",
       "      <td>270.0</td>\n",
       "      <td>8049.000630</td>\n",
       "      <td>3759.165617</td>\n",
       "      <td>4478.53</td>\n",
       "      <td>5354.9825</td>\n",
       "      <td>6698.805</td>\n",
       "      <td>9516.325</td>\n",
       "      <td>21535.90</td>\n",
       "    </tr>\n",
       "    <tr>\n",
       "      <th>2</th>\n",
       "      <td>28.0</td>\n",
       "      <td>42614.387143</td>\n",
       "      <td>15826.362501</td>\n",
       "      <td>25748.35</td>\n",
       "      <td>28968.7950</td>\n",
       "      <td>35078.555</td>\n",
       "      <td>53120.315</td>\n",
       "      <td>88125.38</td>\n",
       "    </tr>\n",
       "    <tr>\n",
       "      <th>3</th>\n",
       "      <td>6.0</td>\n",
       "      <td>182181.981667</td>\n",
       "      <td>71585.164123</td>\n",
       "      <td>113384.14</td>\n",
       "      <td>125937.2425</td>\n",
       "      <td>160027.395</td>\n",
       "      <td>239199.410</td>\n",
       "      <td>279489.02</td>\n",
       "    </tr>\n",
       "  </tbody>\n",
       "</table>\n",
       "</div>"
      ],
      "text/plain": [
       "                   count           mean           std        min          25%  \\\n",
       "MONETARY_CLUSTER                                                                \n",
       "0                 4068.0     944.085770    961.271060   -4287.63     271.3600   \n",
       "1                  270.0    8049.000630   3759.165617    4478.53    5354.9825   \n",
       "2                   28.0   42614.387143  15826.362501   25748.35   28968.7950   \n",
       "3                    6.0  182181.981667  71585.164123  113384.14  125937.2425   \n",
       "\n",
       "                         50%         75%        max  \n",
       "MONETARY_CLUSTER                                     \n",
       "0                    594.000    1305.315    4464.10  \n",
       "1                   6698.805    9516.325   21535.90  \n",
       "2                  35078.555   53120.315   88125.38  \n",
       "3                 160027.395  239199.410  279489.02  "
      ]
     },
     "execution_count": 25,
     "metadata": {},
     "output_type": "execute_result"
    }
   ],
   "source": [
    "# Instanciar el algoritmo con 4 clusters para Monetary \n",
    "kmeans = KMeans(n_clusters=4, random_state=1)\n",
    "\n",
    "# Entrenar el algoritmo\n",
    "kmeans.fit(customer[['MONETARY']])\n",
    "\n",
    "# Obtener las predicciones\n",
    "customer['MONETARY_CLUSTER'] = kmeans.labels_\n",
    "\n",
    "# Ordenar los clusters ¿Como tienes que ordenar el cluster?\n",
    "customer = order_cluster('MONETARY_CLUSTER', 'MONETARY', customer, True)\n",
    "\n",
    "customer = customer.sort_values(by='MONETARY', ascending=False)\n",
    "\n",
    "# Estadística Descriptiva de los clusters\n",
    "customer.groupby('MONETARY_CLUSTER')['MONETARY'].describe()"
   ]
  },
  {
   "cell_type": "markdown",
   "metadata": {},
   "source": [
    "## Score de Segmentación\n",
    "<p>El algoritmo de k-means nos da una segmentación generalizada, pero podemos personalizarla aún más creando una métrica que asigne una calificación al valor del cluster. Esto es lo que vamos a hacer!!</p>"
   ]
  },
  {
   "cell_type": "code",
   "execution_count": 26,
   "metadata": {},
   "outputs": [
    {
     "data": {
      "text/plain": [
       "np.float64(2.2614364135407135)"
      ]
     },
     "execution_count": 26,
     "metadata": {},
     "output_type": "execute_result"
    }
   ],
   "source": [
    "# Vamos a crear nuestro score sumando el valor de cada uno de los clusters\n",
    "customer['SCORE'] = customer['RECENCY_CLUSTER'] + customer['FREQUENCY_CLUSTER'] + customer['MONETARY_CLUSTER']\n",
    "\n",
    "# Obtener el promedio para cada una de las métricas de las calificaciones creadas (Score)\n",
    "customer['SCORE'].mean()"
   ]
  },
  {
   "cell_type": "code",
   "execution_count": 27,
   "metadata": {},
   "outputs": [],
   "source": [
    "# Crea una funcion que asigne lo siguiente: \n",
    "# Si score <= 1 entonces 'Low-Value', si score >1 y <=4 entonces 'Average', si score >4 y <=6 entonces 'Potential', por último si score >6 entonces 'High-Value'\n",
    "def segment(score):\n",
    "    if score <= 1:\n",
    "        return 'Low-Value'\n",
    "    elif score > 1 and score <= 4:\n",
    "        return 'Average'\n",
    "    elif score > 4 and score <= 6:\n",
    "        return 'Potential'\n",
    "    else:\n",
    "        return 'High-Value'\n",
    "\n",
    "# Crear una columna aplicando esta función al campo 'SCORE'\n",
    "customer['SEGMENT'] = customer['SCORE'].apply(segment)"
   ]
  },
  {
   "cell_type": "code",
   "execution_count": 28,
   "metadata": {},
   "outputs": [
    {
     "data": {
      "application/vnd.microsoft.datawrangler.viewer.v0+json": {
       "columns": [
        {
         "name": "index",
         "rawType": "int64",
         "type": "integer"
        },
        {
         "name": "CUSTOMER_ID",
         "rawType": "float64",
         "type": "float"
        },
        {
         "name": "RECENCY",
         "rawType": "int64",
         "type": "integer"
        },
        {
         "name": "FREQUENCY",
         "rawType": "int64",
         "type": "integer"
        },
        {
         "name": "MONETARY",
         "rawType": "float64",
         "type": "float"
        },
        {
         "name": "RECENCY_CLUSTER",
         "rawType": "int64",
         "type": "integer"
        },
        {
         "name": "FREQUENCY_CLUSTER",
         "rawType": "int64",
         "type": "integer"
        },
        {
         "name": "MONETARY_CLUSTER",
         "rawType": "int64",
         "type": "integer"
        },
        {
         "name": "SCORE",
         "rawType": "int64",
         "type": "integer"
        },
        {
         "name": "SEGMENT",
         "rawType": "object",
         "type": "string"
        }
       ],
       "ref": "2abb4703-5adb-4fa2-aefa-bf8d101ef7f5",
       "rows": [
        [
         "908",
         "14646.0",
         "1",
         "2085",
         "279489.02",
         "3",
         "1",
         "3",
         "7",
         "High-Value"
        ],
        [
         "450",
         "18102.0",
         "0",
         "433",
         "256438.49",
         "3",
         "1",
         "3",
         "7",
         "High-Value"
        ],
        [
         "402",
         "17450.0",
         "7",
         "351",
         "187482.17",
         "3",
         "1",
         "3",
         "7",
         "High-Value"
        ],
        [
         "67",
         "14911.0",
         "0",
         "5903",
         "132572.62",
         "3",
         "2",
         "3",
         "8",
         "High-Value"
        ],
        [
         "979",
         "12415.0",
         "23",
         "778",
         "123725.45",
         "3",
         "1",
         "3",
         "7",
         "High-Value"
        ]
       ],
       "shape": {
        "columns": 9,
        "rows": 5
       }
      },
      "text/html": [
       "<div>\n",
       "<style scoped>\n",
       "    .dataframe tbody tr th:only-of-type {\n",
       "        vertical-align: middle;\n",
       "    }\n",
       "\n",
       "    .dataframe tbody tr th {\n",
       "        vertical-align: top;\n",
       "    }\n",
       "\n",
       "    .dataframe thead th {\n",
       "        text-align: right;\n",
       "    }\n",
       "</style>\n",
       "<table border=\"1\" class=\"dataframe\">\n",
       "  <thead>\n",
       "    <tr style=\"text-align: right;\">\n",
       "      <th></th>\n",
       "      <th>CUSTOMER_ID</th>\n",
       "      <th>RECENCY</th>\n",
       "      <th>FREQUENCY</th>\n",
       "      <th>MONETARY</th>\n",
       "      <th>RECENCY_CLUSTER</th>\n",
       "      <th>FREQUENCY_CLUSTER</th>\n",
       "      <th>MONETARY_CLUSTER</th>\n",
       "      <th>SCORE</th>\n",
       "      <th>SEGMENT</th>\n",
       "    </tr>\n",
       "  </thead>\n",
       "  <tbody>\n",
       "    <tr>\n",
       "      <th>908</th>\n",
       "      <td>14646.0</td>\n",
       "      <td>1</td>\n",
       "      <td>2085</td>\n",
       "      <td>279489.02</td>\n",
       "      <td>3</td>\n",
       "      <td>1</td>\n",
       "      <td>3</td>\n",
       "      <td>7</td>\n",
       "      <td>High-Value</td>\n",
       "    </tr>\n",
       "    <tr>\n",
       "      <th>450</th>\n",
       "      <td>18102.0</td>\n",
       "      <td>0</td>\n",
       "      <td>433</td>\n",
       "      <td>256438.49</td>\n",
       "      <td>3</td>\n",
       "      <td>1</td>\n",
       "      <td>3</td>\n",
       "      <td>7</td>\n",
       "      <td>High-Value</td>\n",
       "    </tr>\n",
       "    <tr>\n",
       "      <th>402</th>\n",
       "      <td>17450.0</td>\n",
       "      <td>7</td>\n",
       "      <td>351</td>\n",
       "      <td>187482.17</td>\n",
       "      <td>3</td>\n",
       "      <td>1</td>\n",
       "      <td>3</td>\n",
       "      <td>7</td>\n",
       "      <td>High-Value</td>\n",
       "    </tr>\n",
       "    <tr>\n",
       "      <th>67</th>\n",
       "      <td>14911.0</td>\n",
       "      <td>0</td>\n",
       "      <td>5903</td>\n",
       "      <td>132572.62</td>\n",
       "      <td>3</td>\n",
       "      <td>2</td>\n",
       "      <td>3</td>\n",
       "      <td>8</td>\n",
       "      <td>High-Value</td>\n",
       "    </tr>\n",
       "    <tr>\n",
       "      <th>979</th>\n",
       "      <td>12415.0</td>\n",
       "      <td>23</td>\n",
       "      <td>778</td>\n",
       "      <td>123725.45</td>\n",
       "      <td>3</td>\n",
       "      <td>1</td>\n",
       "      <td>3</td>\n",
       "      <td>7</td>\n",
       "      <td>High-Value</td>\n",
       "    </tr>\n",
       "  </tbody>\n",
       "</table>\n",
       "</div>"
      ],
      "text/plain": [
       "     CUSTOMER_ID  RECENCY  FREQUENCY   MONETARY  RECENCY_CLUSTER  \\\n",
       "908      14646.0        1       2085  279489.02                3   \n",
       "450      18102.0        0        433  256438.49                3   \n",
       "402      17450.0        7        351  187482.17                3   \n",
       "67       14911.0        0       5903  132572.62                3   \n",
       "979      12415.0       23        778  123725.45                3   \n",
       "\n",
       "     FREQUENCY_CLUSTER  MONETARY_CLUSTER  SCORE     SEGMENT  \n",
       "908                  1                 3      7  High-Value  \n",
       "450                  1                 3      7  High-Value  \n",
       "402                  1                 3      7  High-Value  \n",
       "67                   2                 3      8  High-Value  \n",
       "979                  1                 3      7  High-Value  "
      ]
     },
     "execution_count": 28,
     "metadata": {},
     "output_type": "execute_result"
    }
   ],
   "source": [
    "# Vamos a dar un vistazo a la tabla final\n",
    "customer.head()"
   ]
  },
  {
   "cell_type": "code",
   "execution_count": 29,
   "metadata": {},
   "outputs": [
    {
     "data": {
      "application/vnd.microsoft.datawrangler.viewer.v0+json": {
       "columns": [
        {
         "name": "SEGMENT",
         "rawType": "object",
         "type": "string"
        },
        {
         "name": "count",
         "rawType": "int64",
         "type": "integer"
        }
       ],
       "ref": "8911d9ff-67da-4670-80d1-c6804c295f9f",
       "rows": [
        [
         "Average",
         "3042"
        ],
        [
         "Low-Value",
         "1148"
        ],
        [
         "Potential",
         "173"
        ],
        [
         "High-Value",
         "9"
        ]
       ],
       "shape": {
        "columns": 1,
        "rows": 4
       }
      },
      "text/plain": [
       "SEGMENT\n",
       "Average       3042\n",
       "Low-Value     1148\n",
       "Potential      173\n",
       "High-Value       9\n",
       "Name: count, dtype: int64"
      ]
     },
     "execution_count": 29,
     "metadata": {},
     "output_type": "execute_result"
    }
   ],
   "source": [
    "# Imprime la proporción o el total de clientes por segmento\n",
    "customer['SEGMENT'].value_counts()"
   ]
  },
  {
   "cell_type": "code",
   "execution_count": 36,
   "metadata": {},
   "outputs": [
    {
     "data": {
      "image/png": "[encoded data removed]",
      "text/plain": [
       "<Figure size 1300x1000 with 1 Axes>"
      ]
     },
     "metadata": {},
     "output_type": "display_data"
    }
   ],
   "source": [
    "# Define un estilo 'bmh'\n",
    "plt.style.use('bmh')\n",
    "\n",
    "# Filtra los valores para RECENCY < 4000\n",
    "filtered = customer[customer['RECENCY'] < 4000]\n",
    "\n",
    "# Crea un grafico de dispersion de 'MONETARY' VS 'RECENCY' por Segmento\n",
    "plt.figure(figsize=(13,10))\n",
    "sns.scatterplot(data=filtered, x='RECENCY', y='MONETARY', hue='SEGMENT')\n",
    "plt.title('Monetary vs Recency por Segmento')\n",
    "plt.xlabel('Recency')\n",
    "plt.ylabel('Monetary')\n",
    "plt.legend(title='Segmento')\n",
    "plt.show()\n"
   ]
  },
  {
   "cell_type": "markdown",
   "metadata": {},
   "source": [
    "En esta grafica comprobamos que hay clientes que no pasa mucho tiempo para que realizan una compra con alto valor, y nos deberiamos enfocar en ellos y los clientes de color verde son clientes inactivos o que realizan gastos muy esporadicos y con un valor bajo"
   ]
  },
  {
   "cell_type": "code",
   "execution_count": 37,
   "metadata": {},
   "outputs": [
    {
     "data": {
      "image/png": "[encoded data removed]",
      "text/plain": [
       "<Figure size 1300x1000 with 1 Axes>"
      ]
     },
     "metadata": {},
     "output_type": "display_data"
    }
   ],
   "source": [
    "# Crea un grafico de dispersion de 'MONETARY' vs 'FREQUENCY' por Segmento\n",
    "plt.figure(figsize=(13,10))\n",
    "sns.scatterplot(data=customer, x='FREQUENCY', y='MONETARY', hue='SEGMENT')\n",
    "plt.title('Monetary vs Frequency por Segmento')\n",
    "plt.xlabel('Frequency')\n",
    "plt.ylabel('Monetary')\n",
    "plt.legend(title='Segmento')\n",
    "plt.show()"
   ]
  },
  {
   "cell_type": "markdown",
   "metadata": {},
   "source": [
    "# Conclusiones del Análisis RFM\n",
    "\n",
    "Mediante la implementación de la metodología RFM (Recency, Frequency, Monetary) y el algoritmo de k-Means, se logró segmentar exitosamente la base de clientes en cuatro categorías principales:\n",
    "\n",
    "- **High-Value**: Clientes de alto valor con compras recientes y frecuentes\n",
    "- **Potential**: Clientes con potencial de crecimiento \n",
    "- **Average**: Clientes promedio con comportamiento estándar\n",
    "- **Low-Value**: Clientes inactivos o de bajo valor\n",
    "\n",
    "1. La segmentación nos permitio identificar claramente a los clientes más valiosos y aquellos que requieren estrategias de retención.\n",
    "\n",
    "2. Los gráficos de dispersión revelan que existe una correlación entre la frecuencia de compra, el valor monetario gastado y la recencia de las transacciones.\n",
    "\n",
    "3. El Método del Codo (Elbow Method) permitió determinar de manera objetiva que 4 clusters es la cantidad óptima para la segmentación.\n",
    "\n",
    "De lo cual podriamos sugerir:\n",
    "- La empresa debe concentrar sus recursos en mantener y potenciar a los clientes High-Value\n",
    "- Los clientes Potential representan una oportunidad para aumentar su valor mediante campañas targeted\n",
    "- Los clientes Low-Value requieren estrategias específicas de reactivación para evitar el abandono definitivo"
   ]
  }
 ],
 "metadata": {
  "kernelspec": {
   "display_name": "Benmaza",
   "language": "python",
   "name": "python3"
  },
  "language_info": {
   "codemirror_mode": {
    "name": "ipython",
    "version": 3
   },
   "file_extension": ".py",
   "mimetype": "text/x-python",
   "name": "python",
   "nbconvert_exporter": "python",
   "pygments_lexer": "ipython3",
   "version": "3.13.0"
  }
 },
 "nbformat": 4,
 "nbformat_minor": 4
}
