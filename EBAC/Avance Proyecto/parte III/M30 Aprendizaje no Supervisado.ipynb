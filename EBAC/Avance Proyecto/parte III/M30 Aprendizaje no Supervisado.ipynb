{
 "cells": [
  {
   "cell_type": "markdown",
   "metadata": {},
   "source": [
    "## Unsupervised Learning\n",
    "#### by **Ivan Alducin**\n",
    "<p><img src=\"https://cdn.gritglobal.io/uploads/too-broad-customer-segmentation.jpg\" width=\"1000\"/></p>"
   ]
  },
  {
   "cell_type": "markdown",
   "metadata": {},
   "source": [
    "## Segmentacion de Clientes\n",
    "<p>En esté capitulo nos vamos a enfocar en entender y trabajar un caso de uso para segmentación de clientes, pero antes de eso aquí una pequeña lista de más aplicaciones que se pueden trabajar con los datos recopliados de mis clientes\n",
    "\n",
    "- Estadística Descriptiva\n",
    "- Segmentación de Clientes\n",
    "- Predicción de Abandono\n",
    "- Valor del Cliente a traves del tiempo (CTLV)\n",
    "\n",
    "La segmentación la vamos a hacer con base en una metodolgía llamada <b>RFM</b>\n",
    "\n",
    "</p>"
   ]
  },
  {
   "cell_type": "code",
   "execution_count": null,
   "metadata": {},
   "outputs": [],
   "source": [
    "# Importa Pandas, Numpy, Seaborn y Matplotlib\n",
    "____\n",
    "\n",
    "\n",
    "# Importa el archivo \"Online Retail.csv\"\n",
    "____"
   ]
  },
  {
   "cell_type": "code",
   "execution_count": null,
   "metadata": {},
   "outputs": [],
   "source": [
    "# Análisis Exploratorio\n",
    "\n",
    "\n",
    "\n",
    "\n",
    "\n",
    "\n",
    "\n",
    "\n",
    "\n",
    "\n",
    "\n"
   ]
  },
  {
   "cell_type": "markdown",
   "metadata": {},
   "source": [
    "## Recency\n",
    "<p>Indicador que nos dice que tan reciente es la compra de un cliente</p>"
   ]
  },
  {
   "cell_type": "code",
   "execution_count": null,
   "metadata": {},
   "outputs": [],
   "source": [
    "# Obtener los clientes unicos\n",
    "customer = ____"
   ]
  },
  {
   "cell_type": "code",
   "execution_count": null,
   "metadata": {},
   "outputs": [],
   "source": [
    "# Obtener la última fecha de compra por cliente\n",
    "max_purchase = ____"
   ]
  },
  {
   "cell_type": "code",
   "execution_count": null,
   "metadata": {},
   "outputs": [],
   "source": [
    "# Vamos a calcular nuestra metrica de Recency, esto lo haremos restando los días de la última fecha de compra a cada observacón\n",
    "max_purchase['RECENCY'] = ____"
   ]
  },
  {
   "cell_type": "code",
   "execution_count": null,
   "metadata": {},
   "outputs": [],
   "source": [
    "# Unir el DataFrame de clientes únicos con el que acabamos de crear de la última fecha de compra\n",
    "customer = pd.____(____, ____, on = ____)"
   ]
  },
  {
   "cell_type": "code",
   "execution_count": null,
   "metadata": {},
   "outputs": [],
   "source": [
    "# Grafica un histograma de Recency\n",
    "____"
   ]
  },
  {
   "cell_type": "code",
   "execution_count": null,
   "metadata": {},
   "outputs": [],
   "source": [
    "# Imprime la Estadística de Resumen para Recency\n",
    "____"
   ]
  },
  {
   "cell_type": "markdown",
   "metadata": {},
   "source": [
    "## Frequency\n",
    "<p>Frecuencia con la que un cliente compra uno o más productos</p>"
   ]
  },
  {
   "cell_type": "code",
   "execution_count": null,
   "metadata": {},
   "outputs": [],
   "source": [
    "# Obtener el número de compras por cliente\n",
    "frequency = ____"
   ]
  },
  {
   "cell_type": "code",
   "execution_count": null,
   "metadata": {},
   "outputs": [],
   "source": [
    "# Unir el DataFrame que acabamos de crear con el de los clientes unicos\n",
    "customer = ____"
   ]
  },
  {
   "cell_type": "code",
   "execution_count": null,
   "metadata": {},
   "outputs": [],
   "source": [
    "# Grafica un histograma de Frequency\n",
    "____"
   ]
  },
  {
   "cell_type": "code",
   "execution_count": null,
   "metadata": {},
   "outputs": [],
   "source": [
    "# Imprime la Estadística de Resumen para Frequency\n",
    "____"
   ]
  },
  {
   "cell_type": "markdown",
   "metadata": {},
   "source": [
    "## Monetary\n",
    "<p>Valor del monto total que ha gastado un cliente en la compra de mis productos</p>"
   ]
  },
  {
   "cell_type": "code",
   "execution_count": null,
   "metadata": {},
   "outputs": [],
   "source": [
    "# Calcular el monto total por cada compra\n",
    "df['MONETARY'] = ____ * ____\n",
    "\n",
    "# Obtener el valor monetario de compra por cliente\n",
    "monetary = ____"
   ]
  },
  {
   "cell_type": "code",
   "execution_count": null,
   "metadata": {},
   "outputs": [],
   "source": [
    "# Unir el DataFrame que acabamos de crear con el de los clientes unicos\n",
    "customer = ____"
   ]
  },
  {
   "cell_type": "code",
   "execution_count": null,
   "metadata": {},
   "outputs": [],
   "source": [
    "# Grafica un histograma de Monetary\n",
    "____"
   ]
  },
  {
   "cell_type": "code",
   "execution_count": null,
   "metadata": {},
   "outputs": [],
   "source": [
    "# Imprime la Estadística de Resumen para Monetary\n",
    "____"
   ]
  },
  {
   "cell_type": "markdown",
   "metadata": {},
   "source": [
    "## Algoritmo k-Means\n",
    "<p>Ya creamos nuestros indicadores principales de la metodología RFM. es hora de hacer <i>Machine Learning</i>. Para ello utilizaremos un algoritmo no supervisado llamado <b>k-Means</b></p>\n",
    "<p><img src=\"https://miro.medium.com/max/818/1*fG8u8nV7qR91wDyFDEEV-g.png\" width=\"250\"/></p>"
   ]
  },
  {
   "cell_type": "code",
   "execution_count": null,
   "metadata": {},
   "outputs": [],
   "source": [
    "# Funcion para ordenar los clusters\n",
    "def order_cluster(cluster_field_name, target_field_name, df, ascending):\n",
    "    new_cluster_field_name = 'new_' + cluster_field_name\n",
    "    df_new = df.groupby(cluster_field_name)[target_field_name].mean().reset_index()\n",
    "    df_new = df_new.sort_values(by=target_field_name,ascending=ascending).reset_index(drop=True)\n",
    "    df_new['index'] = df_new.index\n",
    "    df_final = pd.merge(df,df_new[[cluster_field_name,'index']], on=cluster_field_name)\n",
    "    df_final = df_final.drop([cluster_field_name],axis=1)\n",
    "    df_final = df_final.rename(columns={\"index\":cluster_field_name})\n",
    "    return df_final"
   ]
  },
  {
   "cell_type": "markdown",
   "metadata": {},
   "source": [
    "## Elbow Method\n",
    "<p>¿Cual es mi número óptimo de clusters? Vamos a contruir una <i>gráfica de codo</i> para averiguarlo</p>"
   ]
  },
  {
   "cell_type": "code",
   "execution_count": null,
   "metadata": {},
   "outputs": [],
   "source": [
    "# Importa la librería de kMeans\n",
    "____"
   ]
  },
  {
   "cell_type": "code",
   "execution_count": null,
   "metadata": {},
   "outputs": [],
   "source": [
    "# Configuración inicial - Vamos a tomar como referencia el indicador de Recency\n",
    "sse={}\n",
    "recency = ____\n",
    "\n",
    "for k in range(1, 10):\n",
    "    # Instancia el algoritmo de k-means iterando sobre k\n",
    "    kmeans = ____\n",
    "    \n",
    "    # Entrena el algoritmo\n",
    "    ____\n",
    "    \n",
    "    # Adjunta las etiquetas\n",
    "    recency[\"clusters\"] = ____\n",
    "    \n",
    "    # Adunta la inercia o variación al arreglo sse\n",
    "    sse[k] = ____\n",
    "    \n",
    "# Grafico de codo (Elbow)\n",
    "plt.figure(figsize=(12,8))\n",
    "plt.plot(list(sse.keys()), list(sse.values()))\n",
    "plt.xlabel(\"Number of cluster\")\n",
    "plt.show()"
   ]
  },
  {
   "cell_type": "code",
   "execution_count": null,
   "metadata": {},
   "outputs": [],
   "source": [
    "# Instanciar el algoritmo con 4 clusters para Recency \n",
    "kmeans = ____\n",
    "\n",
    "# Entrenar el algoritmo\n",
    "____\n",
    "\n",
    "# Obtener las predicciones\n",
    "customer['RECENCY_CLUSTER'] = ____\n",
    "\n",
    "# Ordenar los clusters\n",
    "customer = order_cluster('RECENCY_CLUSTER', 'RECENCY', customer, False)\n",
    "\n",
    "# Estadística Descriptiva del cluster creado\n",
    "customer.groupby(____)[____].____()"
   ]
  },
  {
   "cell_type": "code",
   "execution_count": null,
   "metadata": {},
   "outputs": [],
   "source": [
    "# Instanciar el algoritmo con 4 clusters para Frequency \n",
    "kmeans = ____\n",
    "\n",
    "# Entrenar el algoritmo\n",
    "____\n",
    "\n",
    "# Obtener las predicciones\n",
    "customer['FREQUENCY_CLUSTER'] = ____\n",
    "\n",
    "# Ordenar los clusters\n",
    "customer = order_cluster('FREQUENCY_CLUSTER', 'FREQUENCY', customer, True)\n",
    "\n",
    "# Estadística Descriptiva de los clusters\n",
    "____"
   ]
  },
  {
   "cell_type": "code",
   "execution_count": null,
   "metadata": {},
   "outputs": [],
   "source": [
    "# Instanciar el algoritmo con 4 clusters para Monetary \n",
    "kmeans = ____\n",
    "\n",
    "# Entrenar el algoritmo\n",
    "____\n",
    "\n",
    "# Obtener las predicciones\n",
    "customer['MONETARY_CLUSTER'] = ____\n",
    "\n",
    "# Ordenar los clusters ¿Como tienes que ordenar el cluster?\n",
    "customer = ____\n",
    "\n",
    "# Estadística Descriptiva de los clusters\n",
    "____"
   ]
  },
  {
   "cell_type": "markdown",
   "metadata": {},
   "source": [
    "## Score de Segmentación\n",
    "<p>El algoritmo de k-means nos da una segmentación generalizada, pero podemos personalizarla aún más creando una métrica que asigne una calificación al valor del cluster. Esto es lo que vamos a hacer!!</p>"
   ]
  },
  {
   "cell_type": "code",
   "execution_count": null,
   "metadata": {},
   "outputs": [],
   "source": [
    "# Vamos a crear nuestro score sumando el valor de cada uno de los clusters\n",
    "customer['SCORE'] = ____ + ____ + ____\n",
    "\n",
    "# Obtener el promedio para cada una de las métricas de las calificaciones creadas (Score)\n",
    "____.mean()"
   ]
  },
  {
   "cell_type": "code",
   "execution_count": null,
   "metadata": {},
   "outputs": [],
   "source": [
    "# Crea una funcion que asigne lo siguiente: \n",
    "# Si score <= 1 entonces 'Low-Value', si score >1 y <=4 entonces 'Average', si score >4 y <=6 entonces 'Potential', por último si score >6 entonces 'High-Value'\n",
    "def segment(score):\n",
    "\n",
    "\n",
    "\n",
    "\n",
    "\n",
    "\n",
    "\n",
    "# Crear una columna aplicando esta función al campo 'SCORE'\n",
    "customer['SEGMENT'] = ____"
   ]
  },
  {
   "cell_type": "code",
   "execution_count": null,
   "metadata": {},
   "outputs": [],
   "source": [
    "# Vamos a dar un vistazo a la tabla final\n",
    "customer.head()"
   ]
  },
  {
   "cell_type": "code",
   "execution_count": null,
   "metadata": {},
   "outputs": [],
   "source": [
    "# Imprime la proporción o el total de clientes por segmento\n",
    "____"
   ]
  },
  {
   "cell_type": "code",
   "execution_count": null,
   "metadata": {},
   "outputs": [],
   "source": [
    "# Define un estilo 'bmh'\n",
    "____\n",
    "\n",
    "# Filtra los valores para RECENCY < 4000\n",
    "____\n",
    "\n",
    "# Crea un grafico de dispersion de 'MONETARY' VS 'RECENCY' por Segmento\n",
    "____\n",
    "\n",
    "\n",
    "\n",
    "\n"
   ]
  },
  {
   "cell_type": "code",
   "execution_count": null,
   "metadata": {},
   "outputs": [],
   "source": [
    "# Crea un grafico de dispersion de 'MONETARY' vs 'FREQUENCY' vs  por Segmento\n",
    "____\n",
    "\n",
    "\n",
    "\n"
   ]
  }
 ],
 "metadata": {
  "kernelspec": {
   "display_name": "Python 3 (ipykernel)",
   "language": "python",
   "name": "python3"
  },
  "language_info": {
   "codemirror_mode": {
    "name": "ipython",
    "version": 3
   },
   "file_extension": ".py",
   "mimetype": "text/x-python",
   "name": "python",
   "nbconvert_exporter": "python",
   "pygments_lexer": "ipython3",
   "version": "3.11.5"
  }
 },
 "nbformat": 4,
 "nbformat_minor": 4
}
