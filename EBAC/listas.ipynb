{
 "cells": [
  {
   "cell_type": "code",
   "execution_count": 8,
   "metadata": {},
   "outputs": [
    {
     "name": "stdout",
     "output_type": "stream",
     "text": [
      "['Juan', 'Pedro', 'Luis']\n",
      "['rojo', 'verde', 'azul']\n",
      "['Juan', 'Pedro', 'Luis', 'rojo', 'verde', 'azul']\n",
      "Juan\n",
      "Pedro\n",
      "azul\n",
      "['Jose', 'Pedro', 'Luis']\n",
      "3 amigos\n",
      "3 colores\n"
     ]
    }
   ],
   "source": [
    "# generar listas\n",
    "amigos = ['Juan', 'Pedro', 'Luis']\n",
    "print(amigos)\n",
    "\n",
    "colores = ['rojo', 'verde', 'azul']\n",
    "print(colores)\n",
    "\n",
    "amigosycolores = amigos + colores\n",
    "print(amigosycolores)\n",
    "\n",
    "#imprimir un elemento de la lista\n",
    "print(amigos[0])\n",
    "print(amigos[1])\n",
    "print(colores[2])\n",
    "\n",
    "#cambiar un elemento de la lista\n",
    "amigos[0] = 'Jose' #cambiar el primer elemento de la lista\n",
    "print(amigos)\n",
    "\n",
    "#imrpimir longitud de la lista\n",
    "print(len(amigos), 'amigos')\n",
    "print(len(colores), 'colores')"
   ]
  },
  {
   "cell_type": "code",
   "execution_count": 15,
   "metadata": {},
   "outputs": [
    {
     "name": "stdout",
     "output_type": "stream",
     "text": [
      "[]\n",
      "['Juan', 'Pedro']\n",
      "[5, 10, 15, 20]\n",
      "4\n",
      "el valor maximo es.. 20\n",
      "el valor minimo es.. 5\n"
     ]
    }
   ],
   "source": [
    "# generar un listado nuevo\n",
    "nombres = list()\n",
    "print(nombres)\n",
    "\n",
    "nombres.append('Juan')\n",
    "nombres.append('Pedro')\n",
    "print(nombres)\n",
    "\n",
    "#lista con numeros, max, min, len\n",
    "numeros = list()\n",
    "numeros.append(5)\n",
    "numeros.append(10)\n",
    "numeros.append(15)\n",
    "numeros.append(20)\n",
    "print(numeros)\n",
    "print(len(numeros))\n",
    "print('el valor maximo es..',max(numeros))\n",
    "print('el valor minimo es..',min(numeros))"
   ]
  }
 ],
 "metadata": {
  "kernelspec": {
   "display_name": "Python 3",
   "language": "python",
   "name": "python3"
  },
  "language_info": {
   "codemirror_mode": {
    "name": "ipython",
    "version": 3
   },
   "file_extension": ".py",
   "mimetype": "text/x-python",
   "name": "python",
   "nbconvert_exporter": "python",
   "pygments_lexer": "ipython3",
   "version": "3.11.7"
  }
 },
 "nbformat": 4,
 "nbformat_minor": 2
}
