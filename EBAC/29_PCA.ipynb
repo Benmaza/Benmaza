{
 "cells": [
  {
   "cell_type": "code",
   "execution_count": 1,
   "metadata": {},
   "outputs": [],
   "source": [
    "import numpy as np\n",
    "import pandas as pd\n",
    "import matplotlib.pyplot as plt\n",
    "from sklearn.decomposition import PCA\n",
    "from sklearn.preprocessing import StandardScaler\n",
    "from sklearn.pipeline import make_pipeline\n",
    "from numpy import linalg as LA"
   ]
  },
  {
   "cell_type": "code",
   "execution_count": 2,
   "metadata": {},
   "outputs": [
    {
     "data": {
      "text/html": [
       "<div>\n",
       "<style scoped>\n",
       "    .dataframe tbody tr th:only-of-type {\n",
       "        vertical-align: middle;\n",
       "    }\n",
       "\n",
       "    .dataframe tbody tr th {\n",
       "        vertical-align: top;\n",
       "    }\n",
       "\n",
       "    .dataframe thead th {\n",
       "        text-align: right;\n",
       "    }\n",
       "</style>\n",
       "<table border=\"1\" class=\"dataframe\">\n",
       "  <thead>\n",
       "    <tr style=\"text-align: right;\">\n",
       "      <th></th>\n",
       "      <th>Matematicas</th>\n",
       "      <th>Ciencias</th>\n",
       "      <th>Español</th>\n",
       "      <th>Historia</th>\n",
       "      <th>EdFisica</th>\n",
       "    </tr>\n",
       "  </thead>\n",
       "  <tbody>\n",
       "    <tr>\n",
       "      <th>Lucia</th>\n",
       "      <td>7.0</td>\n",
       "      <td>6.5</td>\n",
       "      <td>9.2</td>\n",
       "      <td>8.6</td>\n",
       "      <td>8.0</td>\n",
       "    </tr>\n",
       "    <tr>\n",
       "      <th>Pedro</th>\n",
       "      <td>7.5</td>\n",
       "      <td>9.4</td>\n",
       "      <td>7.3</td>\n",
       "      <td>7.0</td>\n",
       "      <td>7.0</td>\n",
       "    </tr>\n",
       "    <tr>\n",
       "      <th>Ines</th>\n",
       "      <td>7.6</td>\n",
       "      <td>9.2</td>\n",
       "      <td>8.0</td>\n",
       "      <td>8.0</td>\n",
       "      <td>7.5</td>\n",
       "    </tr>\n",
       "    <tr>\n",
       "      <th>Luis</th>\n",
       "      <td>5.0</td>\n",
       "      <td>6.5</td>\n",
       "      <td>6.5</td>\n",
       "      <td>7.0</td>\n",
       "      <td>9.0</td>\n",
       "    </tr>\n",
       "    <tr>\n",
       "      <th>Andres</th>\n",
       "      <td>6.0</td>\n",
       "      <td>6.0</td>\n",
       "      <td>7.8</td>\n",
       "      <td>8.9</td>\n",
       "      <td>7.3</td>\n",
       "    </tr>\n",
       "    <tr>\n",
       "      <th>Ana</th>\n",
       "      <td>7.8</td>\n",
       "      <td>9.6</td>\n",
       "      <td>7.7</td>\n",
       "      <td>8.0</td>\n",
       "      <td>6.5</td>\n",
       "    </tr>\n",
       "    <tr>\n",
       "      <th>Carlos</th>\n",
       "      <td>6.3</td>\n",
       "      <td>6.4</td>\n",
       "      <td>8.2</td>\n",
       "      <td>9.0</td>\n",
       "      <td>7.2</td>\n",
       "    </tr>\n",
       "    <tr>\n",
       "      <th>Jose</th>\n",
       "      <td>7.9</td>\n",
       "      <td>9.7</td>\n",
       "      <td>7.5</td>\n",
       "      <td>8.0</td>\n",
       "      <td>6.0</td>\n",
       "    </tr>\n",
       "    <tr>\n",
       "      <th>Sonia</th>\n",
       "      <td>6.0</td>\n",
       "      <td>6.0</td>\n",
       "      <td>6.5</td>\n",
       "      <td>5.5</td>\n",
       "      <td>8.7</td>\n",
       "    </tr>\n",
       "    <tr>\n",
       "      <th>Maria</th>\n",
       "      <td>6.8</td>\n",
       "      <td>7.2</td>\n",
       "      <td>8.7</td>\n",
       "      <td>9.0</td>\n",
       "      <td>7.0</td>\n",
       "    </tr>\n",
       "  </tbody>\n",
       "</table>\n",
       "</div>"
      ],
      "text/plain": [
       "        Matematicas  Ciencias  Español  Historia  EdFisica\n",
       "Lucia           7.0       6.5      9.2       8.6       8.0\n",
       "Pedro           7.5       9.4      7.3       7.0       7.0\n",
       "Ines            7.6       9.2      8.0       8.0       7.5\n",
       "Luis            5.0       6.5      6.5       7.0       9.0\n",
       "Andres          6.0       6.0      7.8       8.9       7.3\n",
       "Ana             7.8       9.6      7.7       8.0       6.5\n",
       "Carlos          6.3       6.4      8.2       9.0       7.2\n",
       "Jose            7.9       9.7      7.5       8.0       6.0\n",
       "Sonia           6.0       6.0      6.5       5.5       8.7\n",
       "Maria           6.8       7.2      8.7       9.0       7.0"
      ]
     },
     "execution_count": 2,
     "metadata": {},
     "output_type": "execute_result"
    }
   ],
   "source": [
    "df = pd.DataFrame(np.array([[7,6.5,9.2,8.6,8],\n",
    "                            [7.5,9.4,7.3,7,7],\n",
    "                            [7.6,9.2,8,8,7.5],\n",
    "                            [5,6.5,6.5,7,9],\n",
    "                            [6,6,7.8,8.9,7.3],\n",
    "                            [7.8,9.6,7.7,8,6.5],\n",
    "                            [6.3,6.4,8.2,9,7.2],\n",
    "                            [7.9,9.7,7.5,8,6],\n",
    "                            [6,6,6.5,5.5,8.7],\n",
    "                            [6.8,7.2,8.7,9,7]]),\n",
    "                  index=('Lucia','Pedro','Ines','Luis','Andres','Ana','Carlos','Jose','Sonia','Maria'),\n",
    "                  columns=('Matematicas','Ciencias','Español','Historia','EdFisica'))\n",
    "df"
   ]
  },
  {
   "cell_type": "code",
   "execution_count": 3,
   "metadata": {},
   "outputs": [
    {
     "data": {
      "text/plain": [
       "10"
      ]
     },
     "execution_count": 3,
     "metadata": {},
     "output_type": "execute_result"
    }
   ],
   "source": [
    "# deyerminar numero de renglones de la base de datos\n",
    "\n",
    "index = df.index\n",
    "renglones = len(index)\n",
    "renglones"
   ]
  },
  {
   "cell_type": "code",
   "execution_count": 4,
   "metadata": {},
   "outputs": [
    {
     "data": {
      "text/plain": [
       "array([[ 0.23263076, -0.7529862 ,  1.78848525,  0.65792263,  0.65858084],\n",
       "       [ 0.78651352,  1.14584856, -0.53899555, -0.84590053, -0.47690337],\n",
       "       [ 0.89729007,  1.01489444,  0.31849737,  0.09398895,  0.09083874],\n",
       "       [-1.98290027, -0.7529862 , -1.51898747, -0.84590053,  1.79406505],\n",
       "       [-0.87513476, -1.0803715 ,  0.07349939,  0.93988948, -0.13625811],\n",
       "       [ 1.11884317,  1.27680268, -0.0489996 ,  0.09398895, -1.04464547],\n",
       "       [-0.5428051 , -0.81846326,  0.56349535,  1.03387842, -0.24980653],\n",
       "       [ 1.22961972,  1.34227974, -0.29399757,  0.09398895, -1.61238758],\n",
       "       [-0.87513476, -1.0803715 , -1.51898747, -2.25573474,  1.45341979],\n",
       "       [ 0.01107766, -0.29464677,  1.1759903 ,  1.03387842, -0.47690337]])"
      ]
     },
     "execution_count": 4,
     "metadata": {},
     "output_type": "execute_result"
    }
   ],
   "source": [
    "# Estandarizacion de la variables\n",
    "\n",
    "df2 = StandardScaler().fit_transform(df)\n",
    "df2"
   ]
  },
  {
   "cell_type": "code",
   "execution_count": 5,
   "metadata": {},
   "outputs": [
    {
     "data": {
      "text/plain": [
       "array([[ 1.        ,  0.85407878,  0.38457424,  0.20719425, -0.78716269],\n",
       "       [ 0.85407878,  1.        , -0.02005218, -0.02153942, -0.68772056],\n",
       "       [ 0.38457424, -0.02005218,  1.        ,  0.82091619, -0.36554342],\n",
       "       [ 0.20719425, -0.02153942,  0.82091619,  1.        , -0.50800132],\n",
       "       [-0.78716269, -0.68772056, -0.36554342, -0.50800132,  1.        ]])"
      ]
     },
     "execution_count": 5,
     "metadata": {},
     "output_type": "execute_result"
    }
   ],
   "source": [
    "# calcular la matriz de correlacion para la matriz transformada\n",
    "\n",
    "A= (1/renglones) * np.dot(df2.T,df2)\n",
    "A"
   ]
  },
  {
   "cell_type": "code",
   "execution_count": 6,
   "metadata": {},
   "outputs": [
    {
     "name": "stdout",
     "output_type": "stream",
     "text": [
      "Eigenvalores:\n",
      "[2.89324967 1.62865042 0.34659605 0.00889139 0.12261246]\n"
     ]
    }
   ],
   "source": [
    "# Entrenamiento del modelo PCA con escalado de datos\n",
    "\n",
    "pca_pipe = make_pipeline(StandardScaler(), PCA())\n",
    "pca_pipe.fit(df)\n",
    "\n",
    "# Se extrae el modelo entrenaado del pipeline\n",
    "modelo_pca = pca_pipe.named_steps['pca']\n",
    "\n",
    "print('Eigenvalores:')\n",
    "result = LA.eig(A)\n",
    "print(result[0])\n"
   ]
  },
  {
   "cell_type": "code",
   "execution_count": 7,
   "metadata": {},
   "outputs": [
    {
     "name": "stdout",
     "output_type": "stream",
     "text": [
      "Este valor se obtiene dividiendo cada eigenvalor entre la suma de todos los eigenvalores\n",
      "\n",
      "Porcentaje de varianza explicada por cada componente:\n",
      "[0.57864993 0.32573008 0.06931921 0.02452249 0.00177828]\n"
     ]
    }
   ],
   "source": [
    "# Porcentaje de varianza explicada por cada componente\n",
    "print ('Este valor se obtiene dividiendo cada eigenvalor entre la suma de todos los eigenvalores')\n",
    "print('\\nPorcentaje de varianza explicada por cada componente:')\n",
    "print(modelo_pca.explained_variance_ratio_)"
   ]
  },
  {
   "cell_type": "code",
   "execution_count": 8,
   "metadata": {},
   "outputs": [
    {
     "name": "stdout",
     "output_type": "stream",
     "text": [
      "Eigenvectores por renglón:\n"
     ]
    },
    {
     "data": {
      "text/html": [
       "<div>\n",
       "<style scoped>\n",
       "    .dataframe tbody tr th:only-of-type {\n",
       "        vertical-align: middle;\n",
       "    }\n",
       "\n",
       "    .dataframe tbody tr th {\n",
       "        vertical-align: top;\n",
       "    }\n",
       "\n",
       "    .dataframe thead th {\n",
       "        text-align: right;\n",
       "    }\n",
       "</style>\n",
       "<table border=\"1\" class=\"dataframe\">\n",
       "  <thead>\n",
       "    <tr style=\"text-align: right;\">\n",
       "      <th></th>\n",
       "      <th>Matematicas</th>\n",
       "      <th>Ciencias</th>\n",
       "      <th>Español</th>\n",
       "      <th>Historia</th>\n",
       "      <th>EdFisica</th>\n",
       "    </tr>\n",
       "  </thead>\n",
       "  <tbody>\n",
       "    <tr>\n",
       "      <th>PC1</th>\n",
       "      <td>-0.526644</td>\n",
       "      <td>-0.424936</td>\n",
       "      <td>-0.359147</td>\n",
       "      <td>-0.352697</td>\n",
       "      <td>0.537302</td>\n",
       "    </tr>\n",
       "    <tr>\n",
       "      <th>PC2</th>\n",
       "      <td>-0.270496</td>\n",
       "      <td>-0.508072</td>\n",
       "      <td>0.562082</td>\n",
       "      <td>0.586490</td>\n",
       "      <td>0.093746</td>\n",
       "    </tr>\n",
       "    <tr>\n",
       "      <th>PC3</th>\n",
       "      <td>0.438201</td>\n",
       "      <td>0.040495</td>\n",
       "      <td>0.562276</td>\n",
       "      <td>-0.394180</td>\n",
       "      <td>0.578626</td>\n",
       "    </tr>\n",
       "    <tr>\n",
       "      <th>PC4</th>\n",
       "      <td>-0.261218</td>\n",
       "      <td>0.673627</td>\n",
       "      <td>-0.070086</td>\n",
       "      <td>0.446645</td>\n",
       "      <td>0.523056</td>\n",
       "    </tr>\n",
       "    <tr>\n",
       "      <th>PC5</th>\n",
       "      <td>0.623878</td>\n",
       "      <td>-0.325390</td>\n",
       "      <td>-0.483747</td>\n",
       "      <td>0.420433</td>\n",
       "      <td>0.306794</td>\n",
       "    </tr>\n",
       "  </tbody>\n",
       "</table>\n",
       "</div>"
      ],
      "text/plain": [
       "     Matematicas  Ciencias   Español  Historia  EdFisica\n",
       "PC1    -0.526644 -0.424936 -0.359147 -0.352697  0.537302\n",
       "PC2    -0.270496 -0.508072  0.562082  0.586490  0.093746\n",
       "PC3     0.438201  0.040495  0.562276 -0.394180  0.578626\n",
       "PC4    -0.261218  0.673627 -0.070086  0.446645  0.523056\n",
       "PC5     0.623878 -0.325390 -0.483747  0.420433  0.306794"
      ]
     },
     "execution_count": 8,
     "metadata": {},
     "output_type": "execute_result"
    }
   ],
   "source": [
    "# calculo de eigenvectores\n",
    "\n",
    "print('Eigenvectores por renglón:')\n",
    "pd.DataFrame(data = modelo_pca.components_,\n",
    "             columns = df.columns,\n",
    "             index = ['PC1','PC2','PC3','PC4','PC5'])"
   ]
  },
  {
   "cell_type": "code",
   "execution_count": 9,
   "metadata": {},
   "outputs": [
    {
     "data": {
      "text/html": [
       "<div>\n",
       "<style scoped>\n",
       "    .dataframe tbody tr th:only-of-type {\n",
       "        vertical-align: middle;\n",
       "    }\n",
       "\n",
       "    .dataframe tbody tr th {\n",
       "        vertical-align: top;\n",
       "    }\n",
       "\n",
       "    .dataframe thead th {\n",
       "        text-align: right;\n",
       "    }\n",
       "</style>\n",
       "<table border=\"1\" class=\"dataframe\">\n",
       "  <thead>\n",
       "    <tr style=\"text-align: right;\">\n",
       "      <th></th>\n",
       "      <th>PC1</th>\n",
       "      <th>PC2</th>\n",
       "      <th>PC3</th>\n",
       "      <th>PC4</th>\n",
       "      <th>PC5</th>\n",
       "    </tr>\n",
       "  </thead>\n",
       "  <tbody>\n",
       "    <tr>\n",
       "      <th>Lucia</th>\n",
       "      <td>-0.323063</td>\n",
       "      <td>1.772525</td>\n",
       "      <td>1.198801</td>\n",
       "      <td>-0.055015</td>\n",
       "      <td>0.003633</td>\n",
       "    </tr>\n",
       "    <tr>\n",
       "      <th>Pedro</th>\n",
       "      <td>-0.665441</td>\n",
       "      <td>-1.638702</td>\n",
       "      <td>0.145476</td>\n",
       "      <td>-0.023065</td>\n",
       "      <td>-0.123377</td>\n",
       "    </tr>\n",
       "    <tr>\n",
       "      <th>Ines</th>\n",
       "      <td>-1.002547</td>\n",
       "      <td>-0.515692</td>\n",
       "      <td>0.628888</td>\n",
       "      <td>0.516444</td>\n",
       "      <td>0.142876</td>\n",
       "    </tr>\n",
       "    <tr>\n",
       "      <th>Luis</th>\n",
       "      <td>3.172095</td>\n",
       "      <td>-0.262782</td>\n",
       "      <td>-0.381960</td>\n",
       "      <td>0.677777</td>\n",
       "      <td>-0.062504</td>\n",
       "    </tr>\n",
       "    <tr>\n",
       "      <th>Andres</th>\n",
       "      <td>0.488868</td>\n",
       "      <td>1.365402</td>\n",
       "      <td>-0.835236</td>\n",
       "      <td>-0.155792</td>\n",
       "      <td>0.123367</td>\n",
       "    </tr>\n",
       "    <tr>\n",
       "      <th>Ana</th>\n",
       "      <td>-1.708633</td>\n",
       "      <td>-1.021700</td>\n",
       "      <td>-0.127077</td>\n",
       "      <td>0.066833</td>\n",
       "      <td>0.025292</td>\n",
       "    </tr>\n",
       "    <tr>\n",
       "      <th>Carlos</th>\n",
       "      <td>-0.067586</td>\n",
       "      <td>1.462336</td>\n",
       "      <td>-0.506240</td>\n",
       "      <td>-0.117928</td>\n",
       "      <td>0.013124</td>\n",
       "    </tr>\n",
       "    <tr>\n",
       "      <th>Jose</th>\n",
       "      <td>-2.011855</td>\n",
       "      <td>-1.275865</td>\n",
       "      <td>-0.542150</td>\n",
       "      <td>-0.197787</td>\n",
       "      <td>0.017434</td>\n",
       "    </tr>\n",
       "    <tr>\n",
       "      <th>Sonia</th>\n",
       "      <td>3.042030</td>\n",
       "      <td>-1.254881</td>\n",
       "      <td>0.448829</td>\n",
       "      <td>-0.639999</td>\n",
       "      <td>0.037885</td>\n",
       "    </tr>\n",
       "    <tr>\n",
       "      <th>Maria</th>\n",
       "      <td>-0.923869</td>\n",
       "      <td>1.369359</td>\n",
       "      <td>-0.029330</td>\n",
       "      <td>-0.071467</td>\n",
       "      <td>-0.177730</td>\n",
       "    </tr>\n",
       "  </tbody>\n",
       "</table>\n",
       "</div>"
      ],
      "text/plain": [
       "             PC1       PC2       PC3       PC4       PC5\n",
       "Lucia  -0.323063  1.772525  1.198801 -0.055015  0.003633\n",
       "Pedro  -0.665441 -1.638702  0.145476 -0.023065 -0.123377\n",
       "Ines   -1.002547 -0.515692  0.628888  0.516444  0.142876\n",
       "Luis    3.172095 -0.262782 -0.381960  0.677777 -0.062504\n",
       "Andres  0.488868  1.365402 -0.835236 -0.155792  0.123367\n",
       "Ana    -1.708633 -1.021700 -0.127077  0.066833  0.025292\n",
       "Carlos -0.067586  1.462336 -0.506240 -0.117928  0.013124\n",
       "Jose   -2.011855 -1.275865 -0.542150 -0.197787  0.017434\n",
       "Sonia   3.042030 -1.254881  0.448829 -0.639999  0.037885\n",
       "Maria  -0.923869  1.369359 -0.029330 -0.071467 -0.177730"
      ]
     },
     "execution_count": 9,
     "metadata": {},
     "output_type": "execute_result"
    }
   ],
   "source": [
    "# Proyección de los datos en el nuevo sistema de coordenadas\n",
    "\n",
    "proyecciones = np.dot(modelo_pca.components_, df2.T)\n",
    "proyecciones = pd.DataFrame(proyecciones, index = ['PC1','PC2','PC3','PC4','PC5'])\n",
    "proyecciones=proyecciones.transpose().set_index(df.index)\n",
    "proyecciones"
   ]
  },
  {
   "cell_type": "code",
   "execution_count": 10,
   "metadata": {},
   "outputs": [
    {
     "data": {
      "image/png": "[encoded data removed]",
      "text/plain": [
       "<Figure size 640x480 with 1 Axes>"
      ]
     },
     "metadata": {},
     "output_type": "display_data"
    }
   ],
   "source": [
    "# Graficar las proyecciones en el plano\n",
    "x = proyecciones.iloc[:,0]\n",
    "y = proyecciones.iloc[:,1]\n",
    "z = df.index\n",
    "x= x.to_numpy()\n",
    "y= y.to_numpy()\n",
    "fig, ax = plt.subplots()\n",
    "ax.set_title('Mapa de observaciones')\n",
    "ax.scatter(x, y)\n",
    "\n",
    "# Etiquetar los puntos en el plano\n",
    "for i, txt in enumerate(z):\n",
    "    ax.annotate(txt, (x[i], y[i]))"
   ]
  },
  {
   "cell_type": "code",
   "execution_count": 11,
   "metadata": {},
   "outputs": [
    {
     "data": {
      "text/html": [
       "<div>\n",
       "<style scoped>\n",
       "    .dataframe tbody tr th:only-of-type {\n",
       "        vertical-align: middle;\n",
       "    }\n",
       "\n",
       "    .dataframe tbody tr th {\n",
       "        vertical-align: top;\n",
       "    }\n",
       "\n",
       "    .dataframe thead th {\n",
       "        text-align: right;\n",
       "    }\n",
       "</style>\n",
       "<table border=\"1\" class=\"dataframe\">\n",
       "  <thead>\n",
       "    <tr style=\"text-align: right;\">\n",
       "      <th></th>\n",
       "      <th>PC1</th>\n",
       "      <th>PC2</th>\n",
       "    </tr>\n",
       "  </thead>\n",
       "  <tbody>\n",
       "    <tr>\n",
       "      <th>Matematicas</th>\n",
       "      <td>-0.526644</td>\n",
       "      <td>-0.270496</td>\n",
       "    </tr>\n",
       "    <tr>\n",
       "      <th>Ciencias</th>\n",
       "      <td>-0.424936</td>\n",
       "      <td>-0.508072</td>\n",
       "    </tr>\n",
       "    <tr>\n",
       "      <th>Español</th>\n",
       "      <td>-0.359147</td>\n",
       "      <td>0.562082</td>\n",
       "    </tr>\n",
       "    <tr>\n",
       "      <th>Historia</th>\n",
       "      <td>-0.352697</td>\n",
       "      <td>0.586490</td>\n",
       "    </tr>\n",
       "    <tr>\n",
       "      <th>EdFisica</th>\n",
       "      <td>0.537302</td>\n",
       "      <td>0.093746</td>\n",
       "    </tr>\n",
       "  </tbody>\n",
       "</table>\n",
       "</div>"
      ],
      "text/plain": [
       "                  PC1       PC2\n",
       "Matematicas -0.526644 -0.270496\n",
       "Ciencias    -0.424936 -0.508072\n",
       "Español     -0.359147  0.562082\n",
       "Historia    -0.352697  0.586490\n",
       "EdFisica     0.537302  0.093746"
      ]
     },
     "execution_count": 11,
     "metadata": {},
     "output_type": "execute_result"
    }
   ],
   "source": [
    "componentes2 =pd.DataFrame( data= modelo_pca.components_,\n",
    "                           columns = df.columns, \n",
    "                           index = ['PC1','PC2','PC3','PC4','PC5'])\n",
    "\n",
    "componentes2 = componentes2.iloc[0:2,:]\n",
    "componentes2 = componentes2.T\n",
    "componentes2"
   ]
  },
  {
   "cell_type": "code",
   "execution_count": 13,
   "metadata": {},
   "outputs": [
    {
     "data": {
      "image/png": "[encoded data removed]",
      "text/plain": [
       "<Figure size 640x480 with 1 Axes>"
      ]
     },
     "metadata": {},
     "output_type": "display_data"
    }
   ],
   "source": [
    "# Graficar las proyecciones en el plano\n",
    "x = componentes2.iloc[:,0]\n",
    "y = componentes2.iloc[:,1]\n",
    "z = componentes2.index\n",
    "x= x.to_numpy()\n",
    "y= y.to_numpy()\n",
    "fig, ax = plt.subplots()\n",
    "ax.set_title('Mapa de factores')\n",
    "ax.scatter(x, y)\n",
    "\n",
    "# Etiquetar los puntos en el plano\n",
    "for i, txt in enumerate(z):\n",
    "    ax.annotate(txt, (x[i], y[i]))"
   ]
  },
  {
   "cell_type": "code",
   "execution_count": 14,
   "metadata": {},
   "outputs": [
    {
     "name": "stdout",
     "output_type": "stream",
     "text": [
      "Matriz estandarizada de los datos originales\n",
      "[[ 0.23263076 -0.7529862   1.78848525  0.65792263  0.65858084]\n",
      " [ 0.78651352  1.14584856 -0.53899555 -0.84590053 -0.47690337]\n",
      " [ 0.89729007  1.01489444  0.31849737  0.09398895  0.09083874]\n",
      " [-1.98290027 -0.7529862  -1.51898747 -0.84590053  1.79406505]\n",
      " [-0.87513476 -1.0803715   0.07349939  0.93988948 -0.13625811]\n",
      " [ 1.11884317  1.27680268 -0.0489996   0.09398895 -1.04464547]\n",
      " [-0.5428051  -0.81846326  0.56349535  1.03387842 -0.24980653]\n",
      " [ 1.22961972  1.34227974 -0.29399757  0.09398895 -1.61238758]\n",
      " [-0.87513476 -1.0803715  -1.51898747 -2.25573474  1.45341979]\n",
      " [ 0.01107766 -0.29464677  1.1759903   1.03387842 -0.47690337]]\n"
     ]
    }
   ],
   "source": [
    "# Procedimiento para obtener la matriz estandarizada de los datos originales\n",
    "# es la misma matriz de datos originales pero estandarizada\n",
    "# se obtiene multiplicando la matriz de proyecciones por la matriz de componentes\n",
    "# y sumando la media de cada variable\n",
    "\n",
    "original = np.dot(modelo_pca.components_.T, proyecciones.T)\n",
    "original = original.T\n",
    "print ('Matriz estandarizada de los datos originales')\n",
    "print(original)"
   ]
  }
 ],
 "metadata": {
  "kernelspec": {
   "display_name": "Benmaza",
   "language": "python",
   "name": "python3"
  },
  "language_info": {
   "codemirror_mode": {
    "name": "ipython",
    "version": 3
   },
   "file_extension": ".py",
   "mimetype": "text/x-python",
   "name": "python",
   "nbconvert_exporter": "python",
   "pygments_lexer": "ipython3",
   "version": "3.13.0"
  }
 },
 "nbformat": 4,
 "nbformat_minor": 2
}
