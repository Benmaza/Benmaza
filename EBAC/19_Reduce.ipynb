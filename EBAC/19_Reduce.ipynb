{
 "cells": [
  {
   "cell_type": "code",
   "execution_count": 4,
   "metadata": {},
   "outputs": [
    {
     "name": "stdout",
     "output_type": "stream",
     "text": [
      "5 +10 = 15\n"
     ]
    },
    {
     "data": {
      "text/plain": [
       "15"
      ]
     },
     "execution_count": 4,
     "metadata": {},
     "output_type": "execute_result"
    }
   ],
   "source": [
    "# ejemplo de una suma simple\n",
    "\n",
    "def my_sum (a,b):\n",
    "    result = a+b\n",
    "    print(f\"{a} +{b} = {result}\")\n",
    "    return result\n",
    "\n",
    "my_sum(5,10)"
   ]
  },
  {
   "cell_type": "code",
   "execution_count": 5,
   "metadata": {},
   "outputs": [
    {
     "name": "stdout",
     "output_type": "stream",
     "text": [
      "0 +1 = 1\n",
      "1 +2 = 3\n",
      "3 +3 = 6\n",
      "6 +4 = 10\n"
     ]
    },
    {
     "data": {
      "text/plain": [
       "10"
      ]
     },
     "execution_count": 5,
     "metadata": {},
     "output_type": "execute_result"
    }
   ],
   "source": [
    "# progresion\n",
    "\n",
    "a = my_sum(0,1)\n",
    "b = my_sum(a,2)\n",
    "c = my_sum(b,3)\n",
    "my_sum(c,4)\n"
   ]
  },
  {
   "cell_type": "code",
   "execution_count": 6,
   "metadata": {},
   "outputs": [
    {
     "name": "stdout",
     "output_type": "stream",
     "text": [
      "0 +1 = 1\n",
      "1 +2 = 3\n",
      "3 +3 = 6\n",
      "6 +4 = 10\n"
     ]
    },
    {
     "data": {
      "text/plain": [
       "10"
      ]
     },
     "execution_count": 6,
     "metadata": {},
     "output_type": "execute_result"
    }
   ],
   "source": [
    "# el mismo ejemplo pero aplicando REDUCE\n",
    "\n",
    "from functools import reduce\n",
    "\n",
    "numbers = [0,1,2,3,4]\n",
    "reduce (my_sum, numbers)\n"
   ]
  },
  {
   "cell_type": "code",
   "execution_count": 8,
   "metadata": {},
   "outputs": [
    {
     "name": "stdout",
     "output_type": "stream",
     "text": [
      "10 +0 = 10\n",
      "10 +1 = 11\n",
      "11 +2 = 13\n",
      "13 +3 = 16\n",
      "16 +4 = 20\n"
     ]
    },
    {
     "data": {
      "text/plain": [
       "20"
      ]
     },
     "execution_count": 8,
     "metadata": {},
     "output_type": "execute_result"
    }
   ],
   "source": [
    "# avanzado - REDUCE con valor iniciador\n",
    "\n",
    "numbers = [0,1,2,3,4]\n",
    "reduce (my_sum, numbers,10)"
   ]
  },
  {
   "cell_type": "code",
   "execution_count": 9,
   "metadata": {},
   "outputs": [
    {
     "data": {
      "text/plain": [
       "15"
      ]
     },
     "execution_count": 9,
     "metadata": {},
     "output_type": "execute_result"
    }
   ],
   "source": [
    "# ejemplo de suma con valores\n",
    "\n",
    "numbers = [0,1,2,3,4,5]\n",
    "total=0\n",
    "for num in numbers:\n",
    "    total += num\n",
    "total"
   ]
  },
  {
   "cell_type": "code",
   "execution_count": 10,
   "metadata": {},
   "outputs": [
    {
     "data": {
      "text/plain": [
       "55"
      ]
     },
     "execution_count": 10,
     "metadata": {},
     "output_type": "execute_result"
    }
   ],
   "source": [
    "from operator import add\n",
    "\n",
    "numbers = [1,2,3,4,5,6,7,8,9,10]\n",
    "reduce(add, numbers)"
   ]
  },
  {
   "cell_type": "code",
   "execution_count": 13,
   "metadata": {},
   "outputs": [
    {
     "name": "stdout",
     "output_type": "stream",
     "text": [
      "a= 4  b= 5\n",
      "a= 4  b= 9\n",
      "a= 4  b= -20\n",
      "a= -20  b= 15\n",
      "a= -20  b= 109\n",
      "a= -20  b= 25\n",
      "a= -20  b= -1\n",
      "Minimo = -20\n",
      "Maximo = 109\n"
     ]
    }
   ],
   "source": [
    "def minimo(a,b):\n",
    "    print ( 'a=',a ,' b=',b)\n",
    "    if (a<b):\n",
    "        return a\n",
    "    return b\n",
    "\n",
    "def maximo(a,b):\n",
    "    # se puede ahorrar lineas escribiendo lo siguiente\n",
    "    return a if a>b else b\n",
    "\n",
    "numbers = [4,5,9,-20,15,109,25,-1]\n",
    "mini=reduce(minimo, numbers)\n",
    "maxi=reduce(maximo, numbers)\n",
    "\n",
    "print(\"Minimo =\", mini)\n",
    "print(\"Maximo =\", maxi)"
   ]
  }
 ],
 "metadata": {
  "kernelspec": {
   "display_name": "Python 3",
   "language": "python",
   "name": "python3"
  },
  "language_info": {
   "codemirror_mode": {
    "name": "ipython",
    "version": 3
   },
   "file_extension": ".py",
   "mimetype": "text/x-python",
   "name": "python",
   "nbconvert_exporter": "python",
   "pygments_lexer": "ipython3",
   "version": "3.12.2"
  }
 },
 "nbformat": 4,
 "nbformat_minor": 2
}
