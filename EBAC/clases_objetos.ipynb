{
 "cells": [
  {
   "cell_type": "code",
   "execution_count": 2,
   "metadata": {},
   "outputs": [],
   "source": [
    "# creacion de una nueva clase\n",
    "class Mi_clase:\n",
    "    pass"
   ]
  },
  {
   "cell_type": "code",
   "execution_count": 4,
   "metadata": {},
   "outputs": [
    {
     "name": "stdout",
     "output_type": "stream",
     "text": [
      "5 10\n"
     ]
    }
   ],
   "source": [
    "# creacion de un nuevo objeto\n",
    "objeto = Mi_clase()\n",
    "objeto.x = 5\n",
    "objeto.y = 10\n",
    "print(objeto.x, objeto.y)"
   ]
  },
  {
   "cell_type": "code",
   "execution_count": 5,
   "metadata": {},
   "outputs": [],
   "source": [
    "# creacion de una nueva clase con un atributos iniciales\n",
    "class Mi_clase:\n",
    "    x =5\n",
    "    y = 10"
   ]
  },
  {
   "cell_type": "code",
   "execution_count": 6,
   "metadata": {},
   "outputs": [
    {
     "name": "stdout",
     "output_type": "stream",
     "text": [
      "5 10\n"
     ]
    }
   ],
   "source": [
    "objeto = Mi_clase\n",
    "print(objeto.x, objeto.y)"
   ]
  },
  {
   "cell_type": "code",
   "execution_count": 7,
   "metadata": {},
   "outputs": [],
   "source": [
    "# definicion de un metodo para una clase\n",
    "class Aviso:\n",
    "    def saludo(self):\n",
    "        print(\"Hola, buen dia!\")"
   ]
  },
  {
   "cell_type": "code",
   "execution_count": 8,
   "metadata": {},
   "outputs": [
    {
     "name": "stdout",
     "output_type": "stream",
     "text": [
      "Hola, buen dia!\n"
     ]
    }
   ],
   "source": [
    "texto= Aviso()\n",
    "texto.saludo()"
   ]
  },
  {
   "cell_type": "code",
   "execution_count": 12,
   "metadata": {},
   "outputs": [],
   "source": [
    "# definicion de una clase para almacenar datos de estudiantes\n",
    "class Estudiante:\n",
    "    def aprobado(self):\n",
    "        if self.promedio >= 60:\n",
    "            return(\"Aprobado\")\n",
    "        else:\n",
    "            return(\"Reprobado\")"
   ]
  },
  {
   "cell_type": "code",
   "execution_count": 13,
   "metadata": {},
   "outputs": [
    {
     "name": "stdout",
     "output_type": "stream",
     "text": [
      "Aprobado\n"
     ]
    }
   ],
   "source": [
    "estudiante1 = Estudiante()\n",
    "estudiante1.nombre = \"Juan\"\n",
    "estudiante1.promedio = 80\n",
    "aprueba = estudiante1.aprobado()\n",
    "print(aprueba)"
   ]
  },
  {
   "cell_type": "code",
   "execution_count": 14,
   "metadata": {},
   "outputs": [
    {
     "name": "stdout",
     "output_type": "stream",
     "text": [
      "Reprobado\n"
     ]
    }
   ],
   "source": [
    "estudiante2 = Estudiante()\n",
    "estudiante2.nombre = \"Araceli\"\n",
    "estudiante2.promedio = 50\n",
    "aprueba = estudiante2.aprobado()\n",
    "print(aprueba)"
   ]
  },
  {
   "cell_type": "markdown",
   "metadata": {},
   "source": [
    "### Armar constructores"
   ]
  },
  {
   "cell_type": "code",
   "execution_count": 15,
   "metadata": {},
   "outputs": [],
   "source": [
    "# manejo de constructores\n",
    "class Estudiante:\n",
    "    def aprobado(self):\n",
    "        if self.promedio >= 60:\n",
    "            return(\"Aprobado\")\n",
    "        else:\n",
    "            return(\"Reprobado\")\n",
    "    def __init__(self, nombre, promedio):\n",
    "        self.nombre = nombre\n",
    "        self.promedio = promedio"
   ]
  },
  {
   "cell_type": "code",
   "execution_count": 19,
   "metadata": {},
   "outputs": [
    {
     "name": "stdout",
     "output_type": "stream",
     "text": [
      "Juan\n",
      "80\n",
      "Aprobado\n"
     ]
    }
   ],
   "source": [
    "estudiante1 = Estudiante(\"Juan\", 80)\n",
    "print(estudiante1.nombre)\n",
    "print(estudiante1.promedio)\n",
    "aprueba = estudiante1.aprobado()\n",
    "print(aprueba)\n"
   ]
  },
  {
   "cell_type": "markdown",
   "metadata": {},
   "source": [
    "### Desarrolle una clase en Python que le permita al usuario calcular la suma de dos números complejos"
   ]
  },
  {
   "cell_type": "code",
   "execution_count": 22,
   "metadata": {},
   "outputs": [],
   "source": [
    "# suma de dos numeros complejos\n",
    "class complejo:\n",
    "    def __init__(self, real, imag):\n",
    "        self.real = real\n",
    "        self.imag = imag\n",
    "        \n",
    "    def suma(self, num):\n",
    "        self.real += num.real\n",
    "        self.imag += num.imag\n",
    "        resultado = complejo(self.real, self.imag)\n",
    "        return resultado\n",
    "    "
   ]
  },
  {
   "cell_type": "code",
   "execution_count": 24,
   "metadata": {},
   "outputs": [
    {
     "name": "stdout",
     "output_type": "stream",
     "text": [
      "Parte real 5\n",
      "Parte imaginaria 7\n"
     ]
    }
   ],
   "source": [
    "num1 = complejo(2, 3)\n",
    "num2 = complejo(3, 4)\n",
    "\n",
    "suma = num1.suma(num2)\n",
    "print(\"Parte real\",suma.real)\n",
    "print(\"Parte imaginaria\",suma.imag)"
   ]
  },
  {
   "cell_type": "code",
   "execution_count": 25,
   "metadata": {},
   "outputs": [
    {
     "ename": "NameError",
     "evalue": "name 'num1' is not defined",
     "output_type": "error",
     "traceback": [
      "\u001b[1;31m---------------------------------------------------------------------------\u001b[0m",
      "\u001b[1;31mNameError\u001b[0m                                 Traceback (most recent call last)",
      "Cell \u001b[1;32mIn[25], line 2\u001b[0m\n\u001b[0;32m      1\u001b[0m \u001b[38;5;28;01mdel\u001b[39;00m num1\n\u001b[1;32m----> 2\u001b[0m \u001b[43mnum1\u001b[49m\n",
      "\u001b[1;31mNameError\u001b[0m: name 'num1' is not defined"
     ]
    }
   ],
   "source": [
    "# eliminacion de un atributo\n",
    "\n",
    "del num1\n",
    "num1"
   ]
  },
  {
   "cell_type": "code",
   "execution_count": 26,
   "metadata": {},
   "outputs": [
    {
     "name": "stdout",
     "output_type": "stream",
     "text": [
      "Hola, mi nombre es Juan y tengo 36 años\n"
     ]
    }
   ],
   "source": [
    "# referencia \"self\" puede tomar cualquier otra denominacion\n",
    "class Persona:\n",
    "    def __init__(objeto, nombre, edad):\n",
    "        objeto.nombre = nombre\n",
    "        objeto.edad = edad\n",
    "        \n",
    "    def mensaje(objeto):\n",
    "        print(\"Hola, mi nombre es\", objeto.nombre, \"y tengo\", objeto.edad, \"años\")\n",
    "        \n",
    "persona1 = Persona(\"Juan\", 36)\n",
    "persona1.mensaje()"
   ]
  }
 ],
 "metadata": {
  "kernelspec": {
   "display_name": "Python 3",
   "language": "python",
   "name": "python3"
  },
  "language_info": {
   "codemirror_mode": {
    "name": "ipython",
    "version": 3
   },
   "file_extension": ".py",
   "mimetype": "text/x-python",
   "name": "python",
   "nbconvert_exporter": "python",
   "pygments_lexer": "ipython3",
   "version": "3.12.0"
  }
 },
 "nbformat": 4,
 "nbformat_minor": 2
}
