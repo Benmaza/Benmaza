{
 "cells": [
  {
   "cell_type": "markdown",
   "metadata": {},
   "source": [
    "# <span style='color:blue'> <center>Estadística Inferencial</center> </span>\n",
    "## **Capítulo 1.** Distribuciones de probabilidad\n",
    "#### by **Ivan Alducin**\n",
    "<p><img src=\"https://online.stanford.edu/sites/default/files/styles/widescreen_tiny/public/2018-08/introduction-to-probability-and-statistics-for-epidemiology_HRP259.jpg?h=66807ab2&itok=2D9b35K3\" width=\"1000\"></p>"
   ]
  },
  {
   "cell_type": "markdown",
   "metadata": {},
   "source": [
    "## Calculando probabilidades\n",
    "<p>Supongamos que estamos a cargo del equipo de ventas y es hora de realizar revisiones de desempeño. como parte de la revisión, vamos a seleccionar al azar algunas de las ofertas en las que ha trabajado durante el año pasado para poder analizarlas con más profundidad.</p>"
   ]
  },
  {
   "cell_type": "code",
   "execution_count": null,
   "metadata": {
    "tags": []
   },
   "outputs": [],
   "source": [
    "# Importar pandas, numpy y matplotlib.pyplot\n",
    "import pandas as pd\n",
    "import numpy as np\n",
    "import seaborn as sns\n",
    "import matplotlib.pyplot as plt\n",
    "import warnings\n",
    "warnings.filterwarnings('ignore')\n",
    "\n",
    "# Importa el archivo deals.csv\n",
    "df = pd.read_csv('deals.csv')\n",
    "df.head()"
   ]
  },
  {
   "cell_type": "code",
   "execution_count": null,
   "metadata": {},
   "outputs": [],
   "source": [
    "# Cuenta los acuerdos por productos\n",
    "counts = df['product'].value_counts()\n",
    "counts"
   ]
  },
  {
   "cell_type": "code",
   "execution_count": null,
   "metadata": {},
   "outputs": [],
   "source": [
    "# Calcula la probabilidad de acuerdos por producto\n",
    "prob = counts / df.shape[0]\n",
    "prob"
   ]
  },
  {
   "cell_type": "markdown",
   "metadata": {
    "tags": []
   },
   "source": [
    "## Distribución binomial\n",
    "<p>Simulemos el clásico ejemplo del lanzamiento de la moneda en Python <p><img src=\"https://carpenterstrategytoolbox.files.wordpress.com/2012/11/coinflip.jpg\" width=\"350\"></p>"
   ]
  },
  {
   "cell_type": "code",
   "execution_count": null,
   "metadata": {
    "tags": []
   },
   "outputs": [],
   "source": [
    "# Importamos de scipy.stats la distribucion binomial\n",
    "from scipy.stats import binom\n",
    "\n",
    "# Simulemos un lanzamiento de moneda\n",
    "binom.rvs(2, 0.5, size=5)"
   ]
  },
  {
   "cell_type": "code",
   "execution_count": null,
   "metadata": {
    "tags": []
   },
   "outputs": [],
   "source": [
    "# Simulemos un lanzamiento de moneda varias veces\n",
    "import numpy as np\n",
    "np.random.seed(10)\n",
    "binom.rvs(1, 0.5, size=12)"
   ]
  },
  {
   "cell_type": "code",
   "execution_count": null,
   "metadata": {
    "tags": []
   },
   "outputs": [],
   "source": [
    "# Podemos simular multiples lanzamientos \n",
    "import seaborn as sns\n",
    "flips = binom.rvs(n=20, p=0.50, size=1000)\n",
    "\n",
    "# Grafiquemos\n",
    "ax = sns.displot(flips, kde=False)\n",
    "ax.set(xlabel='Flips', ylabel='Frequency')"
   ]
  },
  {
   "cell_type": "markdown",
   "metadata": {},
   "source": [
    "#### Otras aplicaciones de la Distribución Binomial\n",
    "<p>Supongamos que nuestra empresa trabaja en 3 ofertas por semana y, en general, gana el 30% de las ofertas en las que trabaja. Cada contrato tiene un resultado binario: se pierde o se gana, por lo que puede modelar sus acuerdos de venta con una distribución binomial. En este ejercicio, vamos a simular el valor de un año de sus acuerdos para que pueda comprender mejor su desempeño.</p>"
   ]
  },
  {
   "cell_type": "code",
   "execution_count": null,
   "metadata": {},
   "outputs": [],
   "source": [
    "# Simula un contrato con el 30% de probabilidad de ganarlo\n",
    "print(binom.rvs(1, .3, size=1))"
   ]
  },
  {
   "cell_type": "code",
   "execution_count": null,
   "metadata": {},
   "outputs": [],
   "source": [
    "# Simula 1 semana de 3 contratos\n",
    "print(binom.rvs(3, .3, size=1))"
   ]
  },
  {
   "cell_type": "code",
   "execution_count": null,
   "metadata": {},
   "outputs": [],
   "source": [
    "# Simula 52 semana de 3 contratos\n",
    "deals = binom.rvs(3, 0.3, size=52)\n",
    "\n",
    "# Imprimime el promedio de contratos ganados por semana\n",
    "print(np.mean(deals))"
   ]
  }
 ],
 "metadata": {
  "kernelspec": {
   "display_name": "Python 3 (ipykernel)",
   "language": "python",
   "name": "python3"
  },
  "language_info": {
   "codemirror_mode": {
    "name": "ipython",
    "version": 3
   },
   "file_extension": ".py",
   "mimetype": "text/x-python",
   "name": "python",
   "nbconvert_exporter": "python",
   "pygments_lexer": "ipython3",
   "version": "3.11.5"
  }
 },
 "nbformat": 4,
 "nbformat_minor": 4
}
