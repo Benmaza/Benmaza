{
 "cells": [
  {
   "cell_type": "markdown",
   "metadata": {},
   "source": [
    "# <span style='color:blue'> <center>Estadística Inferencial</center> </span>\n",
    "## **Capítulo 2.** Teorema del Límite Central\n",
    "#### by **Ivan Alducin**\n",
    "<p><img src=\"https://cdn.corporatefinanceinstitute.com/assets/Central-Limit-Theorem-CLT-Diagram.png\" width=\"1000\"></p>"
   ]
  },
  {
   "cell_type": "markdown",
   "metadata": {},
   "source": [
    "## Distribución Normal\n",
    "<p>Como parte de la revisión de desempeño de ventas, vamos a estimar la probabilidad de tener diferentes montos de ventas, pero antes de poder hacer esto, deberás determinar qué tipo de distribución sigue la variable de monto de venta <code>amount</code> en la tabla de <code>deals</code>.</p>"
   ]
  },
  {
   "cell_type": "code",
   "execution_count": null,
   "metadata": {
    "tags": []
   },
   "outputs": [],
   "source": [
    "# Importar pandas, numpy y matplotlib.pyplot\n",
    "import pandas as pd\n",
    "import numpy as np\n",
    "import matplotlib.pyplot as plt\n",
    "\n",
    "# Importa el archivo deals.csv\n",
    "df = pd.read_csv('deals.csv')\n",
    "df.head()"
   ]
  },
  {
   "cell_type": "code",
   "execution_count": null,
   "metadata": {
    "tags": []
   },
   "outputs": [],
   "source": [
    "# Crea un histograma de las ventas con 10 bines\n",
    "df['amount'].hist(bins=20)"
   ]
  },
  {
   "cell_type": "code",
   "execution_count": null,
   "metadata": {
    "tags": []
   },
   "outputs": [],
   "source": [
    "# Importar la funcion norm de scipy.stats\n",
    "from scipy.stats import norm\n",
    "\n",
    "# Calcular la media de montos de venta\n",
    "mean = df['amount'].mean()\n",
    "print(mean)\n",
    "\n",
    "# Calcular la desviación estandar de los montos de venta\n",
    "std = df['amount'].std()\n",
    "print(std)"
   ]
  },
  {
   "cell_type": "markdown",
   "metadata": {},
   "source": [
    "#### Función de Densidad\n",
    "<p><img src=\"https://cdn-5a6cb102f911c811e474f1cd.closte.com/wp-content/uploads/2017/11/Normal-Distribution-Probability-Density-Function.png\" width=\"300\"></p>"
   ]
  },
  {
   "cell_type": "code",
   "execution_count": null,
   "metadata": {
    "tags": []
   },
   "outputs": [],
   "source": [
    "# Funcion de densidad de la Distribución Normal\n",
    "def normal_dist(x, mean, std):\n",
    "    density = np.divide(1, np.sqrt(2 * np.pi * np.power(std,2))) * np.exp(-(1/2) * np.power(np.divide(x - mean, std),2)) \n",
    "    return density"
   ]
  },
  {
   "cell_type": "code",
   "execution_count": null,
   "metadata": {
    "tags": []
   },
   "outputs": [],
   "source": [
    "# Visualización\n",
    "x = np.sort(df[\"amount\"])\n",
    "pdf = normal_dist(x, mean, std)\n",
    "plt.plot(x, pdf)"
   ]
  },
  {
   "cell_type": "code",
   "execution_count": null,
   "metadata": {},
   "outputs": [],
   "source": [
    "# ¿Cual es la probabilidad de cerrar ventas con un monto menor a 7500?\n",
    "prob_less_7500 = norm.cdf(7500, mean, std)\n",
    "\n",
    "print(prob_less_7500)"
   ]
  },
  {
   "cell_type": "code",
   "execution_count": null,
   "metadata": {},
   "outputs": [],
   "source": [
    "# ¿Cual es la probabilidad de cerrar ventas con un monto mayor a 8000?\n",
    "prob_over_1000 = 1 - norm.cdf(8000, mean, std)\n",
    "\n",
    "print(prob_over_1000)"
   ]
  },
  {
   "cell_type": "code",
   "execution_count": null,
   "metadata": {},
   "outputs": [],
   "source": [
    "# ¿Cual es la probabilidad de cerrar ventas con un monto entre 3000 y 7000\n",
    "prob_3000_to_7000 = norm.cdf(7000, mean, std) - norm.cdf(3000, mean, std)\n",
    "\n",
    "print(prob_3000_to_7000)"
   ]
  },
  {
   "cell_type": "code",
   "execution_count": null,
   "metadata": {},
   "outputs": [],
   "source": [
    "# ¿A qué monto será menor el 25% de las ventas?\n",
    "pct_25 = norm.ppf(0.25, mean, std)\n",
    "\n",
    "print(pct_25)"
   ]
  },
  {
   "cell_type": "markdown",
   "metadata": {},
   "source": [
    "## Simulando ventas con diferentes condiciones\n",
    "<p>El analista financiero de la compañía predice que el próximo trimestre, el valor de cada venta aumentará en un 20% y la volatilidad, o desviación estándar, del valor de cada venta aumentará en un 30%. Para ver cómo podrían verse las ventas el próximo trimestre bajo estas nuevas condiciones de mercado, simularáa nuevos montos de ventas usando la distribución normal</p>"
   ]
  },
  {
   "cell_type": "code",
   "execution_count": null,
   "metadata": {},
   "outputs": [],
   "source": [
    "# Calcula la media con el aumento del 20%\n",
    "new_mean = mean * 1.20\n",
    "\n",
    "# Calcula la desviación estandar con el aumento del 30%\n",
    "new_std = std * 1.30\n",
    "\n",
    "# Simula 40 ventas con estas condiciones\n",
    "new_sales = norm.rvs(new_mean, new_std, size=40)\n",
    "\n",
    "# grafica un histograma para visualizar la distribución de las ventas\n",
    "plt.hist(new_sales)"
   ]
  },
  {
   "cell_type": "markdown",
   "metadata": {},
   "source": [
    "## ¿Cuál escenario es mejor?\n",
    "<p>El indicador principal que utiliza la empresa para evaluar a los vendedores es el porcentaje de ventas que obtienen por encima de los <code>1000</code>, ya que el tiempo invertido en cada venta generalmente vale un poco más que eso, por lo que cuanto más alta sea esta métrica, mejor se desempeñará el vendedor. Basado solo en la métrica del porcentaje de ventas superiores a $1000, ¿La empresa se desempeña mejor en el mercado actual o en el mercado previsto?</p>\n",
    "\n",
    "<p><img src=\"https://media.tenor.com/images/6e272141c9a5887fb4ffd447aa2ffda7/tenor.png\" width=\"500\"></p>"
   ]
  },
  {
   "cell_type": "code",
   "execution_count": null,
   "metadata": {},
   "outputs": [],
   "source": [
    "print(1 - norm.cdf(1000, mean, std))\n",
    "print(1 - norm.cdf(1000, new_mean, new_std))"
   ]
  },
  {
   "cell_type": "markdown",
   "metadata": {},
   "source": [
    "## Muestreo\n",
    "<p>En el ejercicio anterior contaste los acuerdos por producto, ahora es el momento de elegir al azar cinco ofertas para que podamos comunicarnos con cada cliente y preguntarles si están satisfecho con el servicio que recibieron. Además, deseamos asegurarnos de que esto se haga al azar y que se pueda reproducir en caso de que le pregunten cómo eligió las ofertas, por lo que deberá establecer la semilla aleatoria antes de tomar muestras de las ofertas. .</p>"
   ]
  },
  {
   "cell_type": "code",
   "execution_count": null,
   "metadata": {},
   "outputs": [],
   "source": [
    "# Define una semilla aleatoria\n",
    "np.random.seed(45)\n",
    "\n",
    "# Muestrea 5 acuerdos sin reemplazo\n",
    "sample_without_replacement = df.sample(5)\n",
    "print(sample_without_replacement)"
   ]
  },
  {
   "cell_type": "code",
   "execution_count": null,
   "metadata": {},
   "outputs": [],
   "source": [
    "# Muestrea 5 acuerdos con reemplazo\n",
    "sample_with_replacement = df.sample(5, replace=True)\n",
    "print(sample_with_replacement)"
   ]
  },
  {
   "cell_type": "code",
   "execution_count": null,
   "metadata": {},
   "outputs": [],
   "source": [
    "# ¿Qué tipo de muestreo es mejor utilizar para esta situación?"
   ]
  },
  {
   "cell_type": "markdown",
   "metadata": {},
   "source": [
    "## Teorema central de límite\n",
    "<p>En este ejercicio veremos el teorema del límite central en acción. Examinaremos la columna <code>num_users</code> la cual contiene la cantidad de personas que utilizaron el producto que se vendió</p>"
   ]
  },
  {
   "cell_type": "code",
   "execution_count": null,
   "metadata": {},
   "outputs": [],
   "source": [
    "# Grafica un histograma de la variable num_users\n",
    "df['num_users'].hist()\n",
    "plt.show()"
   ]
  },
  {
   "cell_type": "code",
   "execution_count": null,
   "metadata": {},
   "outputs": [],
   "source": [
    "# Define una semilla aleatoria\n",
    "np.random.seed(104)\n",
    "\n",
    "# Muestrea 20 usuarios con reemplazo\n",
    "samp_20 = df['num_users'].sample(20, replace=True)\n",
    "\n",
    "# calcula la media de la muestra\n",
    "print(np.mean(samp_20))"
   ]
  },
  {
   "cell_type": "code",
   "execution_count": null,
   "metadata": {},
   "outputs": [],
   "source": [
    "# Repite el muestreo pero esta vez 1000 veces\n",
    "\n",
    "sample_means = []\n",
    "\n",
    "for i in range(1000):\n",
    "    samp_20 = df['num_users'].sample(20, replace=True)\n",
    "    # Calcula la media del muestreo de los 20 usuarios\n",
    "    samp_20_mean = np.mean(samp_20)\n",
    "    # Concatena los muestreos\n",
    "    sample_means.append(samp_20_mean)\n",
    "\n",
    "print(sample_means)"
   ]
  },
  {
   "cell_type": "code",
   "execution_count": null,
   "metadata": {},
   "outputs": [],
   "source": [
    "# Grafica un histograma del muestreo anterior (Convierte la lista a una serie)\n",
    "sample_means_series = pd.Series(sample_means)\n",
    "sample_means_series.hist()\n",
    "plt.show()"
   ]
  },
  {
   "cell_type": "markdown",
   "metadata": {},
   "source": [
    "## Otro caso de uso del TCL\n",
    "<p>Supongamos que queremos saber el promedio de usuarios por venta a nivel global. El problema es que no tenemos la información de todas las ventas, por lo que vamos a estimar la media tomando varias muestras aleatorias de ventas, ya que esto es mucho más fácil que recopilar todos los datos de todos en la empresa.</p>"
   ]
  },
  {
   "cell_type": "code",
   "execution_count": null,
   "metadata": {},
   "outputs": [],
   "source": [
    "# Define una semilla aleatoria\n",
    "np.random.seed(32)\n",
    "\n",
    "sample_mean = []\n",
    "# Ciclo de iteración de 30 veces\n",
    "for i in range(30):\n",
    "  # Toma una muestra de tamaño 20 del numero de usuarios con reemplazo\n",
    "  sample = df['num_users'].sample(20, replace=True)\n",
    "  # Calcula la media de esa muestra\n",
    "  mean = np.mean(sample)\n",
    "  # Concatena la media muestral\n",
    "  sample_mean.append(sample)\n",
    "\n",
    "# Imprime la media muestral\n",
    "print(np.mean(sample_means))\n",
    "\n",
    "# Imprime la media real del numero de usuarios\n",
    "print(np.mean(df.num_users))"
   ]
  }
 ],
 "metadata": {
  "kernelspec": {
   "display_name": "Python 3 (ipykernel)",
   "language": "python",
   "name": "python3"
  },
  "language_info": {
   "codemirror_mode": {
    "name": "ipython",
    "version": 3
   },
   "file_extension": ".py",
   "mimetype": "text/x-python",
   "name": "python",
   "nbconvert_exporter": "python",
   "pygments_lexer": "ipython3",
   "version": "3.11.5"
  }
 },
 "nbformat": 4,
 "nbformat_minor": 4
}
