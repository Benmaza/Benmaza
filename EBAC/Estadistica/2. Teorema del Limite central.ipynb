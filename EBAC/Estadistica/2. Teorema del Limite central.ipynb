{
 "cells": [
  {
   "cell_type": "markdown",
   "metadata": {},
   "source": [
    "# <span style='color:blue'> <center>Estadística Inferencial</center> </span>\n",
    "## **Capítulo 2.** Teorema del Límite Central\n",
    "#### by **Ivan Alducin**\n",
    "<p><img src=\"https://cdn.corporatefinanceinstitute.com/assets/Central-Limit-Theorem-CLT-Diagram.png\" width=\"1000\"></p>"
   ]
  },
  {
   "cell_type": "markdown",
   "metadata": {},
   "source": [
    "## Distribución Normal\n",
    "<p>Como parte de la revisión de desempeño de ventas, vamos a estimar la probabilidad de tener diferentes montos de ventas, pero antes de poder hacer esto, deberás determinar qué tipo de distribución sigue la variable de monto de venta <code>amount</code> en la tabla de <code>deals</code>.</p>"
   ]
  },
  {
   "cell_type": "code",
   "execution_count": 1,
   "metadata": {
    "tags": []
   },
   "outputs": [
    {
     "data": {
      "text/html": [
       "<div>\n",
       "<style scoped>\n",
       "    .dataframe tbody tr th:only-of-type {\n",
       "        vertical-align: middle;\n",
       "    }\n",
       "\n",
       "    .dataframe tbody tr th {\n",
       "        vertical-align: top;\n",
       "    }\n",
       "\n",
       "    .dataframe thead th {\n",
       "        text-align: right;\n",
       "    }\n",
       "</style>\n",
       "<table border=\"1\" class=\"dataframe\">\n",
       "  <thead>\n",
       "    <tr style=\"text-align: right;\">\n",
       "      <th></th>\n",
       "      <th>product</th>\n",
       "      <th>client</th>\n",
       "      <th>status</th>\n",
       "      <th>amount</th>\n",
       "      <th>num_users</th>\n",
       "    </tr>\n",
       "  </thead>\n",
       "  <tbody>\n",
       "    <tr>\n",
       "      <th>0</th>\n",
       "      <td>Product F</td>\n",
       "      <td>Current</td>\n",
       "      <td>Won</td>\n",
       "      <td>7389.52</td>\n",
       "      <td>19</td>\n",
       "    </tr>\n",
       "    <tr>\n",
       "      <th>1</th>\n",
       "      <td>Product C</td>\n",
       "      <td>New</td>\n",
       "      <td>Won</td>\n",
       "      <td>4493.01</td>\n",
       "      <td>43</td>\n",
       "    </tr>\n",
       "    <tr>\n",
       "      <th>2</th>\n",
       "      <td>Product B</td>\n",
       "      <td>New</td>\n",
       "      <td>Won</td>\n",
       "      <td>5738.09</td>\n",
       "      <td>87</td>\n",
       "    </tr>\n",
       "    <tr>\n",
       "      <th>3</th>\n",
       "      <td>Product I</td>\n",
       "      <td>Current</td>\n",
       "      <td>Won</td>\n",
       "      <td>2591.24</td>\n",
       "      <td>83</td>\n",
       "    </tr>\n",
       "    <tr>\n",
       "      <th>4</th>\n",
       "      <td>Product E</td>\n",
       "      <td>Current</td>\n",
       "      <td>Won</td>\n",
       "      <td>6622.97</td>\n",
       "      <td>17</td>\n",
       "    </tr>\n",
       "  </tbody>\n",
       "</table>\n",
       "</div>"
      ],
      "text/plain": [
       "     product   client status   amount  num_users\n",
       "0  Product F  Current    Won  7389.52         19\n",
       "1  Product C      New    Won  4493.01         43\n",
       "2  Product B      New    Won  5738.09         87\n",
       "3  Product I  Current    Won  2591.24         83\n",
       "4  Product E  Current    Won  6622.97         17"
      ]
     },
     "execution_count": 1,
     "metadata": {},
     "output_type": "execute_result"
    }
   ],
   "source": [
    "# Importar pandas, numpy y matplotlib.pyplot\n",
    "import pandas as pd\n",
    "import numpy as np\n",
    "import matplotlib.pyplot as plt\n",
    "\n",
    "# Importa el archivo deals.csv\n",
    "df = pd.read_csv('deals.csv')\n",
    "df.head()"
   ]
  },
  {
   "cell_type": "code",
   "execution_count": 7,
   "metadata": {
    "tags": []
   },
   "outputs": [
    {
     "data": {
      "image/png": "[encoded data removed]",
      "text/plain": [
       "<Figure size 640x480 with 1 Axes>"
      ]
     },
     "metadata": {},
     "output_type": "display_data"
    }
   ],
   "source": [
    "# Crea un histograma de las ventas con 10 bines\n",
    "df['amount'].hist(bins=20)\n",
    "plt.show()\n"
   ]
  },
  {
   "cell_type": "code",
   "execution_count": 9,
   "metadata": {
    "tags": []
   },
   "outputs": [
    {
     "name": "stdout",
     "output_type": "stream",
     "text": [
      "EL promedio es 4812.000337078652\n",
      "La desviación estandar es 2058.1732253555597\n"
     ]
    }
   ],
   "source": [
    "# Importar la funcion norm de scipy.stats\n",
    "from scipy.stats import norm\n",
    "\n",
    "# Calcular la media de montos de venta\n",
    "mean = df['amount'].mean()\n",
    "print('EL promedio es' ,mean)\n",
    "\n",
    "# Calcular la desviación estandar de los montos de venta\n",
    "std = df['amount'].std()\n",
    "print('La desviación estandar es', std)"
   ]
  },
  {
   "cell_type": "markdown",
   "metadata": {},
   "source": [
    "#### Función de Densidad\n",
    "<p><img src=\"https://cdn-5a6cb102f911c811e474f1cd.closte.com/wp-content/uploads/2017/11/Normal-Distribution-Probability-Density-Function.png\" width=\"300\"></p>"
   ]
  },
  {
   "cell_type": "code",
   "execution_count": 10,
   "metadata": {
    "tags": []
   },
   "outputs": [],
   "source": [
    "# Funcion de densidad de la Distribución Normal\n",
    "def normal_dist(x, mean, std):\n",
    "    density = np.divide(1, np.sqrt(2 * np.pi * np.power(std,2))) * np.exp(-(1/2) * np.power(np.divide(x - mean, std),2)) \n",
    "    return density"
   ]
  },
  {
   "cell_type": "code",
   "execution_count": 11,
   "metadata": {
    "tags": []
   },
   "outputs": [
    {
     "data": {
      "text/plain": [
       "[<matplotlib.lines.Line2D at 0x240354316d0>]"
      ]
     },
     "execution_count": 11,
     "metadata": {},
     "output_type": "execute_result"
    },
    {
     "data": {
      "image/png": "[encoded data removed]",
      "text/plain": [
       "<Figure size 640x480 with 1 Axes>"
      ]
     },
     "metadata": {},
     "output_type": "display_data"
    }
   ],
   "source": [
    "# Visualización\n",
    "x = np.sort(df[\"amount\"])\n",
    "pdf = normal_dist(x, mean, std)\n",
    "plt.plot(x, pdf)"
   ]
  },
  {
   "cell_type": "code",
   "execution_count": 12,
   "metadata": {},
   "outputs": [
    {
     "name": "stdout",
     "output_type": "stream",
     "text": [
      "0.9042258221229889\n"
     ]
    }
   ],
   "source": [
    "# ¿Cual es la probabilidad de cerrar ventas con un monto menor a 7500?\n",
    "prob_less_7500 = norm.cdf(7500, mean, std)\n",
    "\n",
    "print(prob_less_7500)"
   ]
  },
  {
   "cell_type": "code",
   "execution_count": 13,
   "metadata": {},
   "outputs": [
    {
     "name": "stdout",
     "output_type": "stream",
     "text": [
      "0.06069732291589003\n"
     ]
    }
   ],
   "source": [
    "# ¿Cual es la probabilidad de cerrar ventas con un monto mayor a 8000?\n",
    "prob_over_1000 = 1 - norm.cdf(8000, mean, std)\n",
    "\n",
    "print(prob_over_1000)"
   ]
  },
  {
   "cell_type": "code",
   "execution_count": 14,
   "metadata": {},
   "outputs": [
    {
     "name": "stdout",
     "output_type": "stream",
     "text": [
      "0.6668034681540913\n"
     ]
    }
   ],
   "source": [
    "# ¿Cual es la probabilidad de cerrar ventas con un monto entre 3000 y 7000\n",
    "prob_3000_to_7000 = norm.cdf(7000, mean, std) - norm.cdf(3000, mean, std)\n",
    "\n",
    "print(prob_3000_to_7000)"
   ]
  },
  {
   "cell_type": "code",
   "execution_count": 15,
   "metadata": {},
   "outputs": [
    {
     "name": "stdout",
     "output_type": "stream",
     "text": [
      "3423.7835924483165\n"
     ]
    }
   ],
   "source": [
    "# ¿A qué monto será menor el 25% de las ventas?\n",
    "pct_25 = norm.ppf(0.25, mean, std)\n",
    "\n",
    "print(pct_25)"
   ]
  },
  {
   "cell_type": "markdown",
   "metadata": {},
   "source": [
    "## Simulando ventas con diferentes condiciones\n",
    "<p>El analista financiero de la compañía predice que el próximo trimestre, el valor de cada venta aumentará en un 20% y la volatilidad, o desviación estándar, del valor de cada venta aumentará en un 30%. Para ver cómo podrían verse las ventas el próximo trimestre bajo estas nuevas condiciones de mercado, simularáa nuevos montos de ventas usando la distribución normal</p>"
   ]
  },
  {
   "cell_type": "code",
   "execution_count": 16,
   "metadata": {},
   "outputs": [
    {
     "data": {
      "text/plain": [
       "(array([2., 1., 2., 4., 7., 6., 9., 3., 4., 2.]),\n",
       " array([  531.7605962 ,  1627.898884  ,  2724.0371718 ,  3820.1754596 ,\n",
       "         4916.3137474 ,  6012.45203521,  7108.59032301,  8204.72861081,\n",
       "         9300.86689861, 10397.00518641, 11493.14347421]),\n",
       " <BarContainer object of 10 artists>)"
      ]
     },
     "execution_count": 16,
     "metadata": {},
     "output_type": "execute_result"
    },
    {
     "data": {
      "image/png": "[encoded data removed]",
      "text/plain": [
       "<Figure size 640x480 with 1 Axes>"
      ]
     },
     "metadata": {},
     "output_type": "display_data"
    }
   ],
   "source": [
    "# Calcula la media con el aumento del 20%\n",
    "new_mean = mean * 1.20\n",
    "\n",
    "# Calcula la desviación estandar con el aumento del 30%\n",
    "new_std = std * 1.30\n",
    "\n",
    "# Simula 40 ventas con estas condiciones\n",
    "new_sales = norm.rvs(new_mean, new_std, size=40)\n",
    "\n",
    "# grafica un histograma para visualizar la distribución de las ventas\n",
    "plt.hist(new_sales)"
   ]
  },
  {
   "cell_type": "markdown",
   "metadata": {},
   "source": [
    "## ¿Cuál escenario es mejor?\n",
    "<p>El indicador principal que utiliza la empresa para evaluar a los vendedores es el porcentaje de ventas que obtienen por encima de los <code>1000</code>, ya que el tiempo invertido en cada venta generalmente vale un poco más que eso, por lo que cuanto más alta sea esta métrica, mejor se desempeñará el vendedor. Basado solo en la métrica del porcentaje de ventas superiores a $1000, ¿La empresa se desempeña mejor en el mercado actual o en el mercado previsto?</p>\n",
    "\n",
    "<p><img src=\"https://media.tenor.com/images/6e272141c9a5887fb4ffd447aa2ffda7/tenor.png\" width=\"500\"></p>"
   ]
  },
  {
   "cell_type": "code",
   "execution_count": 17,
   "metadata": {},
   "outputs": [
    {
     "name": "stdout",
     "output_type": "stream",
     "text": [
      "0.9679962803797578\n",
      "0.962821103853854\n"
     ]
    }
   ],
   "source": [
    "print(1 - norm.cdf(1000, mean, std))\n",
    "print(1 - norm.cdf(1000, new_mean, new_std))"
   ]
  },
  {
   "cell_type": "markdown",
   "metadata": {},
   "source": [
    "## Muestreo\n",
    "<p>En el ejercicio anterior contaste los acuerdos por producto, ahora es el momento de elegir al azar cinco ofertas para que podamos comunicarnos con cada cliente y preguntarles si están satisfecho con el servicio que recibieron. Además, deseamos asegurarnos de que esto se haga al azar y que se pueda reproducir en caso de que le pregunten cómo eligió las ofertas, por lo que deberá establecer la semilla aleatoria antes de tomar muestras de las ofertas. .</p>"
   ]
  },
  {
   "cell_type": "code",
   "execution_count": 20,
   "metadata": {},
   "outputs": [
    {
     "name": "stdout",
     "output_type": "stream",
     "text": [
      "       product   client status   amount  num_users\n",
      "153  Product D  Current   Lost  5436.98         54\n",
      "161  Product D  Current    Won  4837.09         31\n",
      "0    Product F  Current    Won  7389.52         19\n",
      "64   Product B  Current    Won  1640.06         59\n",
      "62   Product F  Current    Won  5137.67          3\n"
     ]
    }
   ],
   "source": [
    "# Define una semilla aleatoria\n",
    "np.random.seed(45)\n",
    "\n",
    "# Muestrea 5 acuerdos sin reemplazo\n",
    "sample_without_replacement = df.sample(5)\n",
    "print(sample_without_replacement)"
   ]
  },
  {
   "cell_type": "code",
   "execution_count": 25,
   "metadata": {},
   "outputs": [
    {
     "name": "stdout",
     "output_type": "stream",
     "text": [
      "       product   client status   amount  num_users\n",
      "164  Product F      New    Won  7576.35         29\n",
      "95   Product J      New   Lost  4269.87         18\n",
      "35   Product B  Current    Won  8588.35         52\n",
      "26   Product B  Current   Lost  5701.70         53\n",
      "151  Product D  Current    Won  6221.36          2\n"
     ]
    }
   ],
   "source": [
    "# Muestrea 5 acuerdos con reemplazo\n",
    "sample_with_replacement = df.sample(5, replace=True)\n",
    "print(sample_with_replacement)"
   ]
  },
  {
   "cell_type": "code",
   "execution_count": null,
   "metadata": {},
   "outputs": [],
   "source": [
    "# ¿Qué tipo de muestreo es mejor utilizar para esta situación?"
   ]
  },
  {
   "cell_type": "markdown",
   "metadata": {},
   "source": [
    "## Teorema central de límite\n",
    "<p>En este ejercicio veremos el teorema del límite central en acción. Examinaremos la columna <code>num_users</code> la cual contiene la cantidad de personas que utilizaron el producto que se vendió</p>"
   ]
  },
  {
   "cell_type": "code",
   "execution_count": 26,
   "metadata": {},
   "outputs": [
    {
     "data": {
      "image/png": "[encoded data removed]",
      "text/plain": [
       "<Figure size 640x480 with 1 Axes>"
      ]
     },
     "metadata": {},
     "output_type": "display_data"
    }
   ],
   "source": [
    "# Grafica un histograma de la variable num_users\n",
    "df['num_users'].hist()\n",
    "plt.show()"
   ]
  },
  {
   "cell_type": "code",
   "execution_count": 27,
   "metadata": {},
   "outputs": [
    {
     "name": "stdout",
     "output_type": "stream",
     "text": [
      "32.0\n"
     ]
    }
   ],
   "source": [
    "# Define una semilla aleatoria\n",
    "np.random.seed(104)\n",
    "\n",
    "# Muestrea 20 usuarios con reemplazo\n",
    "samp_20 = df['num_users'].sample(20, replace=True)\n",
    "\n",
    "# calcula la media de la muestra\n",
    "print(np.mean(samp_20))"
   ]
  },
  {
   "cell_type": "code",
   "execution_count": 28,
   "metadata": {},
   "outputs": [
    {
     "name": "stdout",
     "output_type": "stream",
     "text": [
      "[np.float64(31.35), np.float64(45.05), np.float64(33.55), np.float64(38.15), np.float64(50.85), np.float64(31.85), np.float64(34.65), np.float64(36.25), np.float64(38.9), np.float64(44.05), np.float64(35.45), np.float64(37.6), np.float64(37.95), np.float64(28.85), np.float64(33.3), np.float64(31.65), np.float64(45.5), np.float64(43.2), np.float64(24.4), np.float64(41.05), np.float64(37.2), np.float64(39.3), np.float64(29.45), np.float64(33.55), np.float64(45.3), np.float64(45.1), np.float64(30.95), np.float64(36.25), np.float64(37.65), np.float64(42.55), np.float64(34.55), np.float64(41.1), np.float64(36.9), np.float64(42.45), np.float64(38.45), np.float64(45.9), np.float64(42.7), np.float64(38.4), np.float64(32.55), np.float64(30.25), np.float64(38.0), np.float64(38.75), np.float64(49.3), np.float64(39.55), np.float64(49.05), np.float64(42.05), np.float64(41.0), np.float64(40.6), np.float64(58.25), np.float64(34.55), np.float64(51.2), np.float64(34.15), np.float64(36.95), np.float64(42.45), np.float64(41.85), np.float64(33.2), np.float64(36.15), np.float64(37.55), np.float64(34.2), np.float64(29.75), np.float64(42.35), np.float64(43.75), np.float64(29.0), np.float64(32.05), np.float64(31.65), np.float64(44.6), np.float64(30.85), np.float64(29.6), np.float64(37.7), np.float64(33.1), np.float64(36.35), np.float64(40.65), np.float64(45.7), np.float64(33.8), np.float64(40.1), np.float64(39.9), np.float64(33.5), np.float64(32.65), np.float64(32.85), np.float64(42.85), np.float64(35.4), np.float64(31.7), np.float64(32.0), np.float64(33.85), np.float64(36.6), np.float64(44.35), np.float64(39.9), np.float64(37.0), np.float64(37.3), np.float64(42.5), np.float64(38.35), np.float64(42.8), np.float64(44.55), np.float64(30.3), np.float64(50.45), np.float64(42.35), np.float64(40.65), np.float64(29.85), np.float64(39.3), np.float64(33.1), np.float64(38.6), np.float64(37.75), np.float64(41.6), np.float64(39.65), np.float64(38.65), np.float64(38.45), np.float64(31.15), np.float64(24.95), np.float64(37.15), np.float64(38.55), np.float64(34.55), np.float64(36.1), np.float64(46.35), np.float64(45.75), np.float64(40.5), np.float64(29.65), np.float64(54.4), np.float64(32.95), np.float64(40.45), np.float64(43.5), np.float64(30.25), np.float64(32.05), np.float64(41.6), np.float64(44.35), np.float64(39.6), np.float64(39.9), np.float64(40.1), np.float64(35.75), np.float64(27.3), np.float64(29.0), np.float64(37.75), np.float64(41.65), np.float64(39.25), np.float64(32.1), np.float64(42.65), np.float64(33.3), np.float64(30.95), np.float64(32.55), np.float64(30.95), np.float64(35.65), np.float64(38.45), np.float64(39.7), np.float64(34.35), np.float64(33.7), np.float64(36.25), np.float64(40.3), np.float64(35.65), np.float64(32.8), np.float64(53.6), np.float64(40.05), np.float64(36.6), np.float64(53.0), np.float64(38.7), np.float64(53.1), np.float64(43.55), np.float64(32.55), np.float64(45.3), np.float64(36.85), np.float64(36.15), np.float64(37.4), np.float64(38.25), np.float64(33.1), np.float64(32.15), np.float64(38.75), np.float64(32.0), np.float64(40.2), np.float64(27.45), np.float64(31.4), np.float64(43.5), np.float64(28.45), np.float64(46.15), np.float64(29.8), np.float64(41.65), np.float64(42.2), np.float64(32.1), np.float64(46.75), np.float64(19.85), np.float64(28.3), np.float64(33.2), np.float64(33.9), np.float64(30.9), np.float64(36.0), np.float64(33.8), np.float64(30.0), np.float64(41.25), np.float64(38.4), np.float64(28.15), np.float64(36.6), np.float64(31.5), np.float64(34.15), np.float64(42.5), np.float64(48.4), np.float64(31.4), np.float64(30.3), np.float64(34.05), np.float64(40.55), np.float64(36.55), np.float64(41.7), np.float64(27.25), np.float64(40.55), np.float64(38.0), np.float64(31.2), np.float64(32.8), np.float64(38.1), np.float64(36.9), np.float64(36.05), np.float64(37.4), np.float64(39.3), np.float64(38.7), np.float64(47.5), np.float64(41.7), np.float64(28.8), np.float64(40.05), np.float64(29.3), np.float64(44.35), np.float64(34.85), np.float64(33.2), np.float64(20.2), np.float64(29.5), np.float64(33.7), np.float64(44.85), np.float64(50.4), np.float64(33.7), np.float64(40.1), np.float64(50.05), np.float64(32.2), np.float64(37.0), np.float64(42.8), np.float64(32.2), np.float64(40.95), np.float64(39.85), np.float64(29.7), np.float64(33.9), np.float64(38.25), np.float64(35.75), np.float64(27.85), np.float64(37.7), np.float64(41.05), np.float64(40.45), np.float64(43.6), np.float64(36.05), np.float64(39.6), np.float64(33.6), np.float64(42.35), np.float64(34.65), np.float64(49.8), np.float64(37.5), np.float64(45.65), np.float64(41.9), np.float64(49.15), np.float64(41.35), np.float64(31.5), np.float64(37.1), np.float64(43.95), np.float64(38.5), np.float64(40.7), np.float64(29.55), np.float64(36.6), np.float64(42.55), np.float64(27.15), np.float64(40.1), np.float64(27.6), np.float64(37.9), np.float64(32.95), np.float64(47.95), np.float64(33.45), np.float64(36.5), np.float64(28.05), np.float64(29.35), np.float64(31.65), np.float64(39.7), np.float64(39.85), np.float64(31.85), np.float64(43.75), np.float64(38.8), np.float64(42.1), np.float64(36.0), np.float64(36.6), np.float64(44.3), np.float64(22.35), np.float64(33.45), np.float64(38.95), np.float64(29.6), np.float64(34.75), np.float64(36.05), np.float64(33.2), np.float64(37.85), np.float64(28.4), np.float64(29.9), np.float64(25.8), np.float64(31.0), np.float64(43.55), np.float64(33.05), np.float64(38.65), np.float64(45.75), np.float64(31.5), np.float64(34.25), np.float64(49.6), np.float64(40.1), np.float64(43.15), np.float64(44.75), np.float64(47.7), np.float64(44.7), np.float64(34.95), np.float64(36.7), np.float64(33.55), np.float64(34.2), np.float64(34.35), np.float64(34.6), np.float64(39.75), np.float64(27.65), np.float64(36.4), np.float64(29.2), np.float64(39.35), np.float64(44.4), np.float64(49.15), np.float64(46.1), np.float64(39.45), np.float64(27.75), np.float64(28.55), np.float64(28.75), np.float64(43.45), np.float64(37.9), np.float64(50.25), np.float64(36.2), np.float64(28.25), np.float64(42.45), np.float64(44.9), np.float64(41.7), np.float64(44.0), np.float64(30.0), np.float64(32.95), np.float64(34.1), np.float64(36.85), np.float64(42.45), np.float64(38.25), np.float64(39.45), np.float64(32.55), np.float64(40.65), np.float64(34.85), np.float64(31.55), np.float64(40.45), np.float64(41.5), np.float64(32.15), np.float64(48.4), np.float64(38.05), np.float64(36.3), np.float64(30.6), np.float64(35.6), np.float64(38.45), np.float64(40.15), np.float64(35.3), np.float64(38.9), np.float64(35.25), np.float64(38.1), np.float64(42.45), np.float64(50.4), np.float64(41.65), np.float64(58.25), np.float64(37.9), np.float64(45.65), np.float64(26.85), np.float64(40.75), np.float64(28.8), np.float64(43.8), np.float64(44.35), np.float64(31.65), np.float64(32.5), np.float64(41.3), np.float64(34.95), np.float64(40.65), np.float64(43.5), np.float64(36.0), np.float64(26.4), np.float64(43.85), np.float64(28.6), np.float64(32.0), np.float64(41.6), np.float64(39.65), np.float64(36.45), np.float64(40.05), np.float64(49.2), np.float64(45.55), np.float64(39.25), np.float64(33.75), np.float64(35.85), np.float64(30.55), np.float64(34.45), np.float64(39.1), np.float64(37.15), np.float64(37.7), np.float64(26.8), np.float64(30.15), np.float64(47.2), np.float64(37.95), np.float64(38.0), np.float64(32.3), np.float64(41.55), np.float64(40.1), np.float64(38.05), np.float64(38.75), np.float64(28.3), np.float64(42.3), np.float64(40.6), np.float64(37.15), np.float64(40.5), np.float64(45.75), np.float64(41.4), np.float64(35.4), np.float64(41.55), np.float64(32.9), np.float64(59.0), np.float64(43.9), np.float64(37.95), np.float64(38.1), np.float64(25.95), np.float64(37.15), np.float64(37.25), np.float64(33.75), np.float64(28.0), np.float64(43.0), np.float64(36.9), np.float64(38.9), np.float64(35.7), np.float64(46.1), np.float64(30.1), np.float64(29.45), np.float64(33.8), np.float64(30.65), np.float64(32.05), np.float64(37.95), np.float64(47.25), np.float64(37.5), np.float64(32.9), np.float64(38.45), np.float64(46.0), np.float64(39.15), np.float64(47.4), np.float64(39.1), np.float64(33.3), np.float64(33.65), np.float64(40.4), np.float64(32.45), np.float64(31.95), np.float64(32.15), np.float64(38.1), np.float64(28.05), np.float64(44.8), np.float64(40.35), np.float64(46.7), np.float64(34.8), np.float64(38.95), np.float64(28.0), np.float64(36.15), np.float64(27.35), np.float64(39.8), np.float64(35.7), np.float64(44.1), np.float64(38.0), np.float64(39.75), np.float64(32.5), np.float64(39.3), np.float64(41.35), np.float64(31.25), np.float64(39.5), np.float64(46.65), np.float64(35.6), np.float64(34.75), np.float64(44.0), np.float64(36.05), np.float64(38.85), np.float64(38.45), np.float64(40.0), np.float64(43.25), np.float64(34.25), np.float64(35.0), np.float64(27.25), np.float64(43.05), np.float64(43.85), np.float64(33.55), np.float64(43.95), np.float64(31.5), np.float64(38.4), np.float64(40.45), np.float64(32.7), np.float64(36.65), np.float64(34.25), np.float64(31.1), np.float64(36.0), np.float64(27.15), np.float64(40.85), np.float64(40.9), np.float64(44.65), np.float64(35.45), np.float64(30.0), np.float64(36.85), np.float64(40.8), np.float64(40.8), np.float64(16.6), np.float64(30.5), np.float64(32.4), np.float64(43.1), np.float64(42.75), np.float64(41.15), np.float64(41.9), np.float64(30.1), np.float64(38.4), np.float64(40.3), np.float64(42.25), np.float64(41.05), np.float64(37.55), np.float64(27.7), np.float64(30.9), np.float64(39.3), np.float64(33.25), np.float64(35.65), np.float64(32.7), np.float64(32.2), np.float64(36.2), np.float64(36.4), np.float64(38.7), np.float64(28.5), np.float64(47.1), np.float64(29.65), np.float64(39.85), np.float64(33.65), np.float64(41.2), np.float64(47.8), np.float64(33.65), np.float64(42.15), np.float64(28.05), np.float64(43.5), np.float64(36.85), np.float64(44.6), np.float64(37.4), np.float64(33.8), np.float64(34.8), np.float64(40.95), np.float64(32.2), np.float64(35.5), np.float64(26.9), np.float64(34.5), np.float64(48.7), np.float64(36.6), np.float64(44.55), np.float64(44.25), np.float64(33.05), np.float64(32.8), np.float64(16.6), np.float64(40.5), np.float64(29.25), np.float64(28.95), np.float64(43.85), np.float64(40.3), np.float64(40.1), np.float64(50.3), np.float64(36.5), np.float64(36.8), np.float64(33.4), np.float64(51.9), np.float64(46.65), np.float64(43.5), np.float64(38.6), np.float64(41.2), np.float64(33.65), np.float64(40.25), np.float64(38.35), np.float64(43.95), np.float64(27.95), np.float64(42.35), np.float64(34.05), np.float64(39.2), np.float64(44.4), np.float64(42.85), np.float64(35.8), np.float64(45.3), np.float64(39.0), np.float64(35.1), np.float64(33.15), np.float64(43.0), np.float64(35.5), np.float64(34.1), np.float64(47.5), np.float64(38.65), np.float64(39.6), np.float64(51.45), np.float64(46.7), np.float64(49.9), np.float64(40.1), np.float64(33.85), np.float64(31.75), np.float64(42.05), np.float64(38.55), np.float64(34.85), np.float64(40.15), np.float64(41.9), np.float64(46.15), np.float64(40.05), np.float64(44.75), np.float64(32.05), np.float64(40.65), np.float64(36.8), np.float64(41.6), np.float64(32.6), np.float64(26.65), np.float64(36.6), np.float64(30.9), np.float64(32.6), np.float64(37.2), np.float64(37.05), np.float64(34.85), np.float64(43.3), np.float64(30.0), np.float64(35.3), np.float64(35.9), np.float64(49.1), np.float64(33.2), np.float64(42.05), np.float64(31.0), np.float64(36.2), np.float64(42.9), np.float64(28.75), np.float64(31.7), np.float64(32.35), np.float64(45.4), np.float64(42.8), np.float64(37.35), np.float64(48.9), np.float64(33.55), np.float64(50.05), np.float64(32.35), np.float64(28.75), np.float64(45.35), np.float64(39.7), np.float64(41.6), np.float64(41.3), np.float64(35.4), np.float64(44.45), np.float64(43.0), np.float64(32.65), np.float64(31.05), np.float64(44.45), np.float64(42.1), np.float64(27.2), np.float64(39.55), np.float64(41.0), np.float64(46.65), np.float64(44.75), np.float64(45.15), np.float64(38.2), np.float64(36.35), np.float64(50.15), np.float64(41.15), np.float64(33.1), np.float64(39.2), np.float64(43.85), np.float64(37.35), np.float64(35.5), np.float64(33.1), np.float64(53.8), np.float64(41.1), np.float64(33.7), np.float64(43.55), np.float64(38.45), np.float64(41.5), np.float64(49.1), np.float64(45.9), np.float64(33.2), np.float64(28.3), np.float64(33.75), np.float64(35.05), np.float64(38.5), np.float64(40.05), np.float64(35.8), np.float64(30.45), np.float64(30.7), np.float64(34.85), np.float64(42.05), np.float64(44.8), np.float64(30.9), np.float64(26.3), np.float64(33.9), np.float64(30.05), np.float64(33.85), np.float64(39.8), np.float64(43.4), np.float64(33.4), np.float64(36.45), np.float64(31.1), np.float64(38.75), np.float64(38.65), np.float64(41.5), np.float64(36.35), np.float64(33.45), np.float64(27.1), np.float64(54.75), np.float64(45.95), np.float64(40.6), np.float64(33.0), np.float64(38.2), np.float64(41.35), np.float64(35.1), np.float64(34.65), np.float64(33.5), np.float64(48.0), np.float64(36.5), np.float64(37.0), np.float64(41.6), np.float64(34.75), np.float64(41.7), np.float64(45.55), np.float64(37.75), np.float64(43.45), np.float64(37.05), np.float64(41.5), np.float64(46.95), np.float64(41.3), np.float64(37.05), np.float64(43.6), np.float64(40.8), np.float64(47.5), np.float64(33.15), np.float64(27.45), np.float64(41.1), np.float64(34.8), np.float64(47.0), np.float64(42.15), np.float64(36.5), np.float64(34.9), np.float64(32.95), np.float64(48.95), np.float64(34.05), np.float64(27.8), np.float64(39.4), np.float64(36.1), np.float64(48.8), np.float64(32.85), np.float64(31.7), np.float64(40.85), np.float64(39.4), np.float64(42.8), np.float64(37.9), np.float64(33.8), np.float64(29.3), np.float64(39.4), np.float64(34.0), np.float64(30.65), np.float64(43.05), np.float64(27.95), np.float64(30.65), np.float64(27.1), np.float64(35.85), np.float64(50.5), np.float64(32.9), np.float64(33.45), np.float64(36.5), np.float64(29.55), np.float64(35.1), np.float64(32.15), np.float64(38.35), np.float64(39.7), np.float64(39.45), np.float64(35.0), np.float64(41.5), np.float64(49.3), np.float64(39.2), np.float64(39.9), np.float64(35.4), np.float64(42.0), np.float64(39.75), np.float64(38.05), np.float64(32.5), np.float64(36.95), np.float64(38.4), np.float64(47.65), np.float64(39.2), np.float64(36.4), np.float64(45.65), np.float64(31.0), np.float64(43.35), np.float64(46.1), np.float64(45.3), np.float64(32.25), np.float64(33.65), np.float64(34.55), np.float64(49.4), np.float64(47.65), np.float64(32.55), np.float64(44.65), np.float64(40.2), np.float64(34.55), np.float64(39.55), np.float64(30.6), np.float64(35.55), np.float64(39.75), np.float64(35.9), np.float64(41.35), np.float64(44.25), np.float64(34.2), np.float64(27.9), np.float64(43.65), np.float64(24.7), np.float64(29.95), np.float64(32.7), np.float64(34.7), np.float64(33.0), np.float64(33.85), np.float64(24.2), np.float64(24.3), np.float64(43.25), np.float64(34.8), np.float64(44.2), np.float64(42.35), np.float64(25.7), np.float64(38.4), np.float64(35.25), np.float64(31.5), np.float64(40.95), np.float64(39.15), np.float64(35.9), np.float64(38.05), np.float64(30.65), np.float64(38.15), np.float64(40.0), np.float64(52.15), np.float64(35.45), np.float64(35.1), np.float64(46.5), np.float64(33.3), np.float64(29.95), np.float64(37.65), np.float64(39.55), np.float64(30.55), np.float64(32.6), np.float64(36.55), np.float64(40.9), np.float64(42.9), np.float64(29.9), np.float64(36.6), np.float64(34.85), np.float64(39.35), np.float64(41.4), np.float64(35.75), np.float64(32.25), np.float64(35.25), np.float64(32.15), np.float64(39.9), np.float64(36.2), np.float64(40.05), np.float64(36.2), np.float64(33.3), np.float64(39.25), np.float64(39.2), np.float64(25.9), np.float64(48.15), np.float64(49.15), np.float64(41.95), np.float64(36.4), np.float64(38.1), np.float64(29.85), np.float64(39.8), np.float64(35.3), np.float64(48.65), np.float64(31.9), np.float64(50.4), np.float64(27.95), np.float64(39.9), np.float64(47.8), np.float64(37.35), np.float64(25.15), np.float64(44.1), np.float64(44.05), np.float64(35.95), np.float64(44.5), np.float64(35.7), np.float64(40.95), np.float64(32.8), np.float64(41.5), np.float64(34.6), np.float64(33.7), np.float64(33.65), np.float64(27.95), np.float64(42.05), np.float64(26.25), np.float64(22.8), np.float64(37.45), np.float64(41.2), np.float64(36.35), np.float64(31.55), np.float64(47.4), np.float64(43.35), np.float64(34.2), np.float64(32.4), np.float64(31.3), np.float64(31.85), np.float64(37.55), np.float64(42.35), np.float64(28.95), np.float64(38.3), np.float64(38.95), np.float64(26.45), np.float64(41.35), np.float64(23.65), np.float64(36.2), np.float64(37.45), np.float64(36.3), np.float64(38.55), np.float64(37.3), np.float64(52.35), np.float64(30.85), np.float64(43.85), np.float64(37.3), np.float64(38.55), np.float64(34.7), np.float64(35.85), np.float64(41.65), np.float64(34.55), np.float64(36.5), np.float64(41.95), np.float64(34.05), np.float64(42.85), np.float64(35.85), np.float64(38.55), np.float64(42.25), np.float64(35.6), np.float64(40.75), np.float64(35.1), np.float64(33.95), np.float64(34.9), np.float64(48.35), np.float64(38.5), np.float64(26.1), np.float64(32.7), np.float64(53.85), np.float64(31.9), np.float64(37.2), np.float64(38.25), np.float64(32.55), np.float64(35.4), np.float64(37.2), np.float64(45.1), np.float64(37.95), np.float64(33.45), np.float64(34.5), np.float64(32.1), np.float64(41.05), np.float64(33.8), np.float64(39.05), np.float64(34.9), np.float64(43.9), np.float64(29.35), np.float64(30.3), np.float64(28.85), np.float64(47.9), np.float64(44.05), np.float64(42.55), np.float64(48.35), np.float64(30.5), np.float64(30.05), np.float64(38.15), np.float64(37.65), np.float64(50.7), np.float64(37.55), np.float64(36.0), np.float64(33.4), np.float64(32.85), np.float64(38.95), np.float64(39.65), np.float64(35.9), np.float64(32.0), np.float64(41.4), np.float64(40.75), np.float64(24.35), np.float64(42.75), np.float64(45.6), np.float64(36.6), np.float64(37.6), np.float64(36.8), np.float64(40.45), np.float64(38.25), np.float64(40.9), np.float64(41.9), np.float64(39.55), np.float64(33.45), np.float64(33.15), np.float64(39.15), np.float64(42.75), np.float64(32.1), np.float64(31.3), np.float64(36.7), np.float64(30.45), np.float64(51.0), np.float64(46.6), np.float64(46.7), np.float64(34.0), np.float64(43.95), np.float64(37.05), np.float64(37.8), np.float64(41.65), np.float64(43.45)]\n"
     ]
    }
   ],
   "source": [
    "# Repite el muestreo pero esta vez 1000 veces\n",
    "\n",
    "sample_means = []\n",
    "\n",
    "for i in range(1000):\n",
    "    samp_20 = df['num_users'].sample(20, replace=True)\n",
    "    # Calcula la media del muestreo de los 20 usuarios\n",
    "    samp_20_mean = np.mean(samp_20)\n",
    "    # Concatena los muestreos\n",
    "    sample_means.append(samp_20_mean)\n",
    "\n",
    "print(sample_means)"
   ]
  },
  {
   "cell_type": "code",
   "execution_count": 29,
   "metadata": {},
   "outputs": [
    {
     "data": {
      "image/png": "[encoded data removed]",
      "text/plain": [
       "<Figure size 640x480 with 1 Axes>"
      ]
     },
     "metadata": {},
     "output_type": "display_data"
    }
   ],
   "source": [
    "# Grafica un histograma del muestreo anterior (Convierte la lista a una serie)\n",
    "sample_means_series = pd.Series(sample_means)\n",
    "sample_means_series.hist()\n",
    "plt.show()"
   ]
  },
  {
   "cell_type": "markdown",
   "metadata": {},
   "source": [
    "## Otro caso de uso del TCL\n",
    "<p>Supongamos que queremos saber el promedio de usuarios por venta a nivel global. El problema es que no tenemos la información de todas las ventas, por lo que vamos a estimar la media tomando varias muestras aleatorias de ventas, ya que esto es mucho más fácil que recopilar todos los datos de todos en la empresa.</p>"
   ]
  },
  {
   "cell_type": "code",
   "execution_count": 30,
   "metadata": {},
   "outputs": [
    {
     "name": "stdout",
     "output_type": "stream",
     "text": [
      "37.6139\n",
      "37.651685393258425\n"
     ]
    }
   ],
   "source": [
    "# Define una semilla aleatoria\n",
    "np.random.seed(32)\n",
    "\n",
    "sample_mean = []\n",
    "# Ciclo de iteración de 30 veces\n",
    "for i in range(30):\n",
    "  # Toma una muestra de tamaño 20 del numero de usuarios con reemplazo\n",
    "  sample = df['num_users'].sample(20, replace=True)\n",
    "  # Calcula la media de esa muestra\n",
    "  mean = np.mean(sample)\n",
    "  # Concatena la media muestral\n",
    "  sample_mean.append(sample)\n",
    "\n",
    "# Imprime la media muestral\n",
    "print(np.mean(sample_means))\n",
    "\n",
    "# Imprime la media real del numero de usuarios\n",
    "print(np.mean(df.num_users))"
   ]
  }
 ],
 "metadata": {
  "kernelspec": {
   "display_name": "Benmaza",
   "language": "python",
   "name": "python3"
  },
  "language_info": {
   "codemirror_mode": {
    "name": "ipython",
    "version": 3
   },
   "file_extension": ".py",
   "mimetype": "text/x-python",
   "name": "python",
   "nbconvert_exporter": "python",
   "pygments_lexer": "ipython3",
   "version": "3.13.1"
  }
 },
 "nbformat": 4,
 "nbformat_minor": 4
}
