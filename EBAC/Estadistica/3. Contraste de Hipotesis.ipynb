{
 "cells": [
  {
   "cell_type": "markdown",
   "metadata": {},
   "source": [
    "# <span style='color:blue'> <center>Estadística Inferencial</center> </span>\n",
    "## **Capítulo 3.** Contraste de Hipótesis\n",
    "#### by **Ivan Alducin**\n",
    "<p><img src=\"https://miro.medium.com/v2/resize:fit:1200/1*2hGMrCjLtVKtOKD_QnyuWA.png\" width=\"1000\"></p>"
   ]
  },
  {
   "cell_type": "markdown",
   "metadata": {},
   "source": [
    "## Análisis de Personalidad del Cliente\n",
    "<p>El análisis de la personalidad del cliente es un análisis detallado de los clientes ideales de una empresa. Ayuda a una empresa a comprender mejor a sus clientes y les facilita modificar los productos de acuerdo con las necesidades, comportamientos e inquietudes específicas de los diferentes tipos de clientes. También ayuda a una empresa a modificar su producto en función de sus clientes objetivo de diferentes tipos de segmentos de clientes. Por ejemplo, en lugar de gastar dinero para comercializar un nuevo producto para cada cliente de la base de datos de la empresa, una empresa puede analizar qué segmento de clientes tiene más probabilidades de comprar el producto y luego comercializarlo sólo en ese segmento en particular.</p>"
   ]
  },
  {
   "cell_type": "code",
   "execution_count": null,
   "metadata": {
    "tags": []
   },
   "outputs": [],
   "source": [
    "# Importar pandas, numpy y matplotlib.pyplot\n",
    "import pandas as pd\n",
    "import numpy as np\n",
    "import seaborn as sns\n",
    "import matplotlib.pyplot as plt\n",
    "\n",
    "# Importa el marketing_campaign.csv\n",
    "df = pd.read_table('marketing_campaign.csv',sep=',|\\t', engine='python')\n",
    "df.head()"
   ]
  },
  {
   "cell_type": "code",
   "execution_count": null,
   "metadata": {},
   "outputs": [],
   "source": [
    "df.hist('NumWebVisitsMonth')"
   ]
  },
  {
   "cell_type": "markdown",
   "metadata": {},
   "source": [
    "## Prueba de Hipótesis\n",
    "Recordemos que para poder realizar una prueba de hipótesis necesitamos 4 pasos:\n",
    "- 1. Definición de Hipótesis Nula y Alternativa\n",
    "- 2. Definición de la prueba estadística\n",
    "- 3. Estimación del p-value\n",
    "- 4. Determinar significancia de acuerdo a los niveles de confianza\n",
    "\n",
    "Por ejemplo, si quisiera probar si la <i>\"Recencia\"</i> (el número de días desde la última compra del cliente) contribuye a la predicción de la <i>\"Respuesta\"</i> (si el cliente aceptó la oferta en la última campaña). Entonces podemos definir las siguientes hipótesis:\n",
    "- <b>Hipótesis Nula</b>: No hay diferencia en la Recencia entre los clientes que aceptan la oferta en la última campaña y los que no aceptan la oferta\n",
    "- <b>Hipótesis Alternativa</b>: Los clientes que aceptan la oferta tienen una Recencia más baja en comparación con los clientes que no aceptan la oferta."
   ]
  },
  {
   "cell_type": "code",
   "execution_count": null,
   "metadata": {
    "tags": []
   },
   "outputs": [],
   "source": [
    "# Grafiquemos un comparativo entre la Recencia y la Respuesta\n",
    "sns.histplot(data=df, x='Recency', hue='Response', bins=30)"
   ]
  },
  {
   "cell_type": "markdown",
   "metadata": {},
   "source": [
    "## t-Test\n",
    "<p>Se utiliza cuando queremos probar la relación entre una variable numérica y una variable categórica. Hay tres tipos principales de prueba T.</p>\n",
    "\n",
    "- <u><i>t-Test de una muestra</i></u>: prueba la media de un grupo frente a un valor constante\n",
    "- <u><i>t-Test de dos muestras</i></u>: prueba la diferencia de medias entre dos grupos\n",
    "- <u><i>t-Test de muestras pareadas</i></u>: prueba la diferencia de medias entre dos mediciones del mismo sujeto\n",
    "\n",
    "De acuerdo al problema que tenemos podemos definir una prueba T de dos muestras."
   ]
  },
  {
   "cell_type": "code",
   "execution_count": null,
   "metadata": {
    "tags": []
   },
   "outputs": [],
   "source": [
    "# Estas pruebas son sensibles a grandes volúmenes de datos, por eso tomemos una muestra\n",
    "sampled_df = df.sample(n=100, random_state=100)\n",
    "\n",
    "# Ahora dividamos a los clientes entre los que aceptaron la oferta y los que la rechazaron\n",
    "recency_P = sampled_df[sampled_df['Response']==1]['Recency']\n",
    "recency_N = sampled_df[sampled_df['Response']==0]['Recency']"
   ]
  },
  {
   "cell_type": "code",
   "execution_count": null,
   "metadata": {
    "tags": []
   },
   "outputs": [],
   "source": [
    "from scipy.stats import ttest_ind\n",
    "\n",
    "t_stat, p_value = ttest_ind(recency_P, recency_N, alternative='less')\n",
    "print('t-statistics:', t_stat, '\\np-value', p_value)\n",
    "\n",
    "if p_value < 0.05:\n",
    "    print('Reject Null Hypothesis')\n",
    "elif p_value >= 0.05:\n",
    "    print('Fail to reject Null Hypothesis')"
   ]
  },
  {
   "cell_type": "markdown",
   "metadata": {},
   "source": [
    "## p-value y Significancia\n",
    "- el <b>valor p</b> (conocido también como p, p-valor, valor de p consignado, o directamente en inglés p-value) se define como la probabilidad de que un valor estadístico calculado sea posible dada una hipótesis nula cierta. En términos simples, el valor p ayuda a diferenciar resultados que son producto del azar del muestreo, de resultados que son estadísticamente significativos.\n",
    "\n",
    "- El <b>nivel de significancia</b> comúnmente utilizado es 0.05. Dado que p-value aquí (0.012) es menor que 0.05, podemos decir que es <i>estadísticamente significativo</i> según la muestra recopilada. Es probable que una menor \"Recencia\" del cliente que aceptó la oferta no se produzca por casualidad. Esto indica además que la característica \"Respuesta\" puede ser un fuerte predictor de la variable \"Recencia\" Y si procedemos a entrenar un modelo de aprendizaje automático (Machine Learning) para predicir ésta variable, es probable que la carácteristica \"Respuesta\" tenga una gran importancia.\n",
    "\n",
    "<p><img src=\"https://miro.medium.com/v2/resize:fit:720/format:webp/1*jb6Ri7urwqLiVvxd-0j-JA.png\" width=\"500\"></p>"
   ]
  },
  {
   "cell_type": "markdown",
   "metadata": {},
   "source": [
    "## ANOVA\n",
    "Ahora utilizaremos una prueba ANOVA para estimar si existe una diferencia entre el número de compras en línea con el número de hijos que se tengan. Empezemos por hacer una análisis visual de la información"
   ]
  },
  {
   "cell_type": "code",
   "execution_count": null,
   "metadata": {
    "tags": []
   },
   "outputs": [],
   "source": [
    "# Garfiquemos un boxplot con las variables de Kidhome y NumWebPurchases\n",
    "sns.boxplot(y = df['NumWebPurchases'], x =df['Kidhome'])"
   ]
  },
  {
   "cell_type": "markdown",
   "metadata": {},
   "source": [
    "Ahora tenemos que definir nuestras hipótesis:\n",
    "\n",
    "- <b>Hipótesis Nula</b>: No hay diferencia entre los grupos\n",
    "- <b>Hipótesis Alternativa</b>: Hay diferencia en al menos dos grupos\n",
    "\n",
    "Como ya mencionamos las pruebas ANOVA se utilizan para examinar las relaciones de valores numéricos frente a un valor categórico con más de dos grupos. Las estadísticas de prueba de hipótesis nulas en la prueba ANOVA también siguen una distribución definida por grados de libertad, que es la distribución f. Los grados de libertad se calculan por el número de muestras totales (n) y el número de grupos (k)."
   ]
  },
  {
   "cell_type": "code",
   "execution_count": null,
   "metadata": {
    "tags": []
   },
   "outputs": [],
   "source": [
    "# Grupos de acuerdo al número de hijos\n",
    "kidhome_0 = sampled_df[sampled_df['Kidhome']==0]['NumWebPurchases']\n",
    "kidhome_1 = sampled_df[sampled_df['Kidhome']==1]['NumWebPurchases']\n",
    "kidhome_2 = sampled_df[sampled_df['Kidhome']==2]['NumWebPurchases']"
   ]
  },
  {
   "cell_type": "code",
   "execution_count": null,
   "metadata": {
    "tags": []
   },
   "outputs": [],
   "source": [
    "# Prueba estadística\n",
    "from scipy.stats import f_oneway\n",
    "\n",
    "f_stat, p_value = f_oneway(kidhome_0, kidhome_1, kidhome_2)\n",
    "print('t-statistics:', t_stat, '\\np-value', p_value)\n",
    "\n",
    "if p_value < 0.05:\n",
    "    print('Reject Null Hypothesis')\n",
    "elif p_value >= 0.05:\n",
    "    print('Fail to reject Null Hypothesis')"
   ]
  }
 ],
 "metadata": {
  "kernelspec": {
   "display_name": "Python 3 (ipykernel)",
   "language": "python",
   "name": "python3"
  },
  "language_info": {
   "codemirror_mode": {
    "name": "ipython",
    "version": 3
   },
   "file_extension": ".py",
   "mimetype": "text/x-python",
   "name": "python",
   "nbconvert_exporter": "python",
   "pygments_lexer": "ipython3",
   "version": "3.11.5"
  }
 },
 "nbformat": 4,
 "nbformat_minor": 4
}
