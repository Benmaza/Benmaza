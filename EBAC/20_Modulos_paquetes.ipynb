{
 "cells": [
  {
   "cell_type": "code",
   "execution_count": 1,
   "metadata": {},
   "outputs": [
    {
     "data": {
      "text/plain": [
       "256.0"
      ]
     },
     "execution_count": 1,
     "metadata": {},
     "output_type": "execute_result"
    }
   ],
   "source": [
    "import math\n",
    "from math import pow\n",
    "pow(2, 8)"
   ]
  },
  {
   "cell_type": "code",
   "execution_count": 2,
   "metadata": {},
   "outputs": [
    {
     "data": {
      "text/plain": [
       "datetime.date(2024, 5, 1)"
      ]
     },
     "execution_count": 2,
     "metadata": {},
     "output_type": "execute_result"
    }
   ],
   "source": [
    "from datetime import date\n",
    "date.today()"
   ]
  },
  {
   "cell_type": "code",
   "execution_count": 3,
   "metadata": {},
   "outputs": [
    {
     "name": "stdout",
     "output_type": "stream",
     "text": [
      "Actual directory is: e:\\Github\\Benmaza-1\\EBAC\n"
     ]
    }
   ],
   "source": [
    "import csv\n",
    "import os\n",
    "\n",
    "cvd = os.getcwd()\n",
    "print(\"Actual directory is: \" + cvd)"
   ]
  },
  {
   "cell_type": "code",
   "execution_count": 4,
   "metadata": {},
   "outputs": [],
   "source": [
    "# abre el archivo en modo lectura\n",
    "file = open('netflix_titles.csv', 'r')\n",
    "\n",
    "# lee el archivo\n",
    "reader = csv.reader(file) "
   ]
  },
  {
   "cell_type": "code",
   "execution_count": 5,
   "metadata": {},
   "outputs": [
    {
     "data": {
      "text/plain": [
       "['show_id',\n",
       " 'type',\n",
       " 'title',\n",
       " 'director',\n",
       " 'cast',\n",
       " 'country',\n",
       " 'date_added',\n",
       " 'release_year',\n",
       " 'rating',\n",
       " 'duration',\n",
       " 'listed_in',\n",
       " 'description']"
      ]
     },
     "execution_count": 5,
     "metadata": {},
     "output_type": "execute_result"
    }
   ],
   "source": [
    "header = []\n",
    "header = next(reader)\n",
    "header"
   ]
  },
  {
   "cell_type": "code",
   "execution_count": 6,
   "metadata": {},
   "outputs": [
    {
     "name": "stdout",
     "output_type": "stream",
     "text": [
      "[['s1', 'Movie', 'Dick Johnson Is Dead', 'Kirsten Johnson', '', 'United States', 'September 25, 2021', '2020', 'PG-13', '90 min', 'Documentaries', 'As her father nears the end of his life, filmmaker Kirsten Johnson stages his death in inventive and comical ways to help them both face the inevitable.'], ['s2', 'TV Show', 'Blood & Water', '', 'Ama Qamata, Khosi Ngema, Gail Mabalane, Thabang Molaba, Dillon Windvogel, Natasha Thahane, Arno Greeff, Xolile Tshabalala, Getmore Sithole, Cindy Mahlangu, Ryle De Morny, Greteli Fincham, Sello Maake Ka-Ncube, Odwa Gwanya, Mekaila Mathys, Sandi Schultz, Duane Williams, Shamilla Miller, Patrick Mofokeng', 'South Africa', 'September 24, 2021', '2021', 'TV-MA', '2 Seasons', 'International TV Shows, TV Dramas, TV Mysteries', 'After crossing paths at a party, a Cape Town teen sets out to prove whether a private-school swimming star is her sister who was abducted at birth.']]\n"
     ]
    }
   ],
   "source": [
    "rows = []\n",
    "for row in reader:\n",
    "    rows.append(row)\n",
    "    \n",
    "print(rows[:2])"
   ]
  },
  {
   "cell_type": "code",
   "execution_count": 7,
   "metadata": {},
   "outputs": [
    {
     "data": {
      "text/plain": [
       "[['s1',\n",
       "  'Movie',\n",
       "  'Dick Johnson Is Dead',\n",
       "  'Kirsten Johnson',\n",
       "  '',\n",
       "  'United States',\n",
       "  'September 25, 2021',\n",
       "  '2020',\n",
       "  'PG-13',\n",
       "  '90 min',\n",
       "  'Documentaries',\n",
       "  'As her father nears the end of his life, filmmaker Kirsten Johnson stages his death in inventive and comical ways to help them both face the inevitable.'],\n",
       " ['s2',\n",
       "  'TV Show',\n",
       "  'Blood & Water',\n",
       "  '',\n",
       "  'Ama Qamata, Khosi Ngema, Gail Mabalane, Thabang Molaba, Dillon Windvogel, Natasha Thahane, Arno Greeff, Xolile Tshabalala, Getmore Sithole, Cindy Mahlangu, Ryle De Morny, Greteli Fincham, Sello Maake Ka-Ncube, Odwa Gwanya, Mekaila Mathys, Sandi Schultz, Duane Williams, Shamilla Miller, Patrick Mofokeng',\n",
       "  'South Africa',\n",
       "  'September 24, 2021',\n",
       "  '2021',\n",
       "  'TV-MA',\n",
       "  '2 Seasons',\n",
       "  'International TV Shows, TV Dramas, TV Mysteries',\n",
       "  'After crossing paths at a party, a Cape Town teen sets out to prove whether a private-school swimming star is her sister who was abducted at birth.'],\n",
       " ['s3',\n",
       "  'TV Show',\n",
       "  'Ganglands',\n",
       "  'Julien Leclercq',\n",
       "  'Sami Bouajila, Tracy Gotoas, Samuel Jouy, Nabiha Akkari, Sofia Lesaffre, Salim Kechiouche, Noureddine Farihi, Geert Van Rampelberg, Bakary Diombera',\n",
       "  '',\n",
       "  'September 24, 2021',\n",
       "  '2021',\n",
       "  'TV-MA',\n",
       "  '1 Season',\n",
       "  'Crime TV Shows, International TV Shows, TV Action & Adventure',\n",
       "  'To protect his family from a powerful drug lord, skilled thief Mehdi and his expert team of robbers are pulled into a violent and deadly turf war.']]"
      ]
     },
     "execution_count": 7,
     "metadata": {},
     "output_type": "execute_result"
    }
   ],
   "source": [
    "rows[0:3]"
   ]
  },
  {
   "cell_type": "markdown",
   "metadata": {},
   "source": [
    "### Funciones estadisticas"
   ]
  },
  {
   "cell_type": "code",
   "execution_count": 8,
   "metadata": {},
   "outputs": [],
   "source": [
    "from statistics import mean, median, mode, stdev"
   ]
  },
  {
   "cell_type": "code",
   "execution_count": 9,
   "metadata": {},
   "outputs": [
    {
     "data": {
      "text/plain": [
       "77.1"
      ]
     },
     "execution_count": 9,
     "metadata": {},
     "output_type": "execute_result"
    }
   ],
   "source": [
    "test_scores = [55, 78, 67, 92, 88, 99, 45, 67, 88, 92]\n",
    "mean(test_scores)"
   ]
  },
  {
   "cell_type": "code",
   "execution_count": 10,
   "metadata": {},
   "outputs": [
    {
     "name": "stdout",
     "output_type": "stream",
     "text": [
      "la media es = 77.1\n"
     ]
    }
   ],
   "source": [
    "print (\"la media es = {0}\".format(mean(test_scores)))"
   ]
  },
  {
   "cell_type": "code",
   "execution_count": 11,
   "metadata": {},
   "outputs": [],
   "source": [
    "import numpy as np"
   ]
  },
  {
   "cell_type": "code",
   "execution_count": 12,
   "metadata": {},
   "outputs": [],
   "source": [
    "movies = np.array(rows)"
   ]
  },
  {
   "cell_type": "code",
   "execution_count": 13,
   "metadata": {},
   "outputs": [
    {
     "data": {
      "text/plain": [
       "array(['s1', 'Movie', 'Dick Johnson Is Dead', 'Kirsten Johnson', '',\n",
       "       'United States', 'September 25, 2021', '2020', 'PG-13', '90 min',\n",
       "       'Documentaries',\n",
       "       'As her father nears the end of his life, filmmaker Kirsten Johnson stages his death in inventive and comical ways to help them both face the inevitable.'],\n",
       "      dtype='<U771')"
      ]
     },
     "execution_count": 13,
     "metadata": {},
     "output_type": "execute_result"
    }
   ],
   "source": [
    "movies [0]"
   ]
  },
  {
   "cell_type": "code",
   "execution_count": 14,
   "metadata": {},
   "outputs": [
    {
     "data": {
      "text/plain": [
       "array(['2020', '2021', '2021', '2021', '2021', '2021', '2021', '1993',\n",
       "       '2021', '2021', '2021', '2021', '2021', '2021', '2021', '2021',\n",
       "       '2020', '2020', '2021', '2021', '2021', '2018', '1996', '2021',\n",
       "       '1998', '2021', '1997', '2010', '2013', '2013', '2021', '2021',\n",
       "       '2020', '2021', '2020', '2021', '2021', '2018', '2017', '2021',\n",
       "       '2021', '1975', '1978', '1983', '1987', '2021', '2012', '2020',\n",
       "       '2001'], dtype='<U771')"
      ]
     },
     "execution_count": 14,
     "metadata": {},
     "output_type": "execute_result"
    }
   ],
   "source": [
    "movies [0:49,7]"
   ]
  },
  {
   "cell_type": "code",
   "execution_count": 15,
   "metadata": {},
   "outputs": [
    {
     "data": {
      "text/plain": [
       "numpy.str_"
      ]
     },
     "execution_count": 15,
     "metadata": {},
     "output_type": "execute_result"
    }
   ],
   "source": [
    "type (movies[0,7])"
   ]
  },
  {
   "cell_type": "code",
   "execution_count": 16,
   "metadata": {},
   "outputs": [
    {
     "data": {
      "text/plain": [
       "array(['2020', '2021', '2021', ..., '2009', '2006', '2015'], dtype='<U771')"
      ]
     },
     "execution_count": 16,
     "metadata": {},
     "output_type": "execute_result"
    }
   ],
   "source": [
    "release_year = movies[:,7]\n",
    "release_year"
   ]
  },
  {
   "cell_type": "code",
   "execution_count": 17,
   "metadata": {},
   "outputs": [
    {
     "data": {
      "text/plain": [
       "[2020, 2021, 2021, 2021, 2021, 2021, 2021, 1993, 2021, 2021]"
      ]
     },
     "execution_count": 17,
     "metadata": {},
     "output_type": "execute_result"
    }
   ],
   "source": [
    "# transformacion del array en numeros\n",
    "release_year_int = [int(numeric_string) for numeric_string in release_year]\n",
    "release_year_int [0:10]"
   ]
  },
  {
   "cell_type": "code",
   "execution_count": 18,
   "metadata": {},
   "outputs": [
    {
     "data": {
      "text/plain": [
       "<module 'matplotlib.pyplot' from 'c:\\\\Users\\\\benma\\\\AppData\\\\Local\\\\Programs\\\\Python\\\\Python312\\\\Lib\\\\site-packages\\\\matplotlib\\\\pyplot.py'>"
      ]
     },
     "execution_count": 18,
     "metadata": {},
     "output_type": "execute_result"
    }
   ],
   "source": [
    "import matplotlib.pyplot as plt\n",
    "plt"
   ]
  },
  {
   "cell_type": "code",
   "execution_count": 19,
   "metadata": {},
   "outputs": [
    {
     "data": {
      "image/png": "[encoded data removed]",
      "text/plain": [
       "<Figure size 640x480 with 1 Axes>"
      ]
     },
     "metadata": {},
     "output_type": "display_data"
    }
   ],
   "source": [
    "plt.hist(release_year_int)\n",
    "plt.show()"
   ]
  },
  {
   "cell_type": "code",
   "execution_count": 21,
   "metadata": {},
   "outputs": [
    {
     "data": {
      "image/png": "[encoded data removed]",
      "text/plain": [
       "<Figure size 640x480 with 1 Axes>"
      ]
     },
     "metadata": {},
     "output_type": "display_data"
    }
   ],
   "source": [
    "plt.hist(release_year_int, bins=range(2000, 2023, 1))\n",
    "plt.title('Distribución de películas por año')\n",
    "plt.show()"
   ]
  },
  {
   "cell_type": "markdown",
   "metadata": {},
   "source": [
    "### Manejo de Datos Básicos"
   ]
  },
  {
   "cell_type": "code",
   "execution_count": 22,
   "metadata": {},
   "outputs": [
    {
     "data": {
      "text/plain": [
       "[2021, 2018, 1996, 2021, 1998, 2021, 1997, 2010, 2013, 2013]"
      ]
     },
     "execution_count": 22,
     "metadata": {},
     "output_type": "execute_result"
    }
   ],
   "source": [
    "release_year_int[20:30]"
   ]
  },
  {
   "cell_type": "code",
   "execution_count": 23,
   "metadata": {},
   "outputs": [
    {
     "name": "stdout",
     "output_type": "stream",
     "text": [
      "la media es = 2014.1801975701146\n",
      "la desviación estándar es = 8.819312130833968\n",
      "el mínimo es = 1925\n",
      "el máximo es = 2021\n"
     ]
    }
   ],
   "source": [
    "mean_year = mean(release_year_int)\n",
    "stdev_year = stdev(release_year_int)\n",
    "min_year = min(release_year_int)\n",
    "max_year = max(release_year_int)\n",
    "\n",
    "print (\"la media es = {0}\".format(mean_year))\n",
    "print (\"la desviación estándar es = {0}\".format(stdev_year))\n",
    "print (\"el mínimo es = {0}\".format(min_year))\n",
    "print (\"el máximo es = {0}\".format(max_year))\n",
    "\n"
   ]
  },
  {
   "cell_type": "code",
   "execution_count": 24,
   "metadata": {},
   "outputs": [
    {
     "data": {
      "text/plain": [
       "array(['90 min', '2 Seasons', '1 Season', '1 Season', '2 Seasons',\n",
       "       '1 Season', '91 min', '125 min', '9 Seasons', '104 min'],\n",
       "      dtype='<U771')"
      ]
     },
     "execution_count": 24,
     "metadata": {},
     "output_type": "execute_result"
    }
   ],
   "source": [
    "duration = movies[:,9]\n",
    "duration [0:10]"
   ]
  },
  {
   "cell_type": "code",
   "execution_count": 26,
   "metadata": {},
   "outputs": [
    {
     "data": {
      "text/plain": [
       "array(['90 min', '91 min', '125 min', '104 min', '127 min', '91 min',\n",
       "       '67 min', '94 min', '161 min'], dtype='<U771')"
      ]
     },
     "execution_count": 26,
     "metadata": {},
     "output_type": "execute_result"
    }
   ],
   "source": [
    "movies[np.char.endswith(movies, 'min')] [0:9]"
   ]
  },
  {
   "cell_type": "code",
   "execution_count": 28,
   "metadata": {},
   "outputs": [
    {
     "data": {
      "text/plain": [
       "array(['90 min', '91 min', '125 min', ..., '88 min', '88 min', '111 min'],\n",
       "      dtype='<U771')"
      ]
     },
     "execution_count": 28,
     "metadata": {},
     "output_type": "execute_result"
    }
   ],
   "source": [
    "duration_min=(duration[np.char.endswith(duration, 'min')])\n",
    "duration_min"
   ]
  },
  {
   "cell_type": "code",
   "execution_count": 29,
   "metadata": {},
   "outputs": [],
   "source": [
    "duration_min_end = np.char.strip(duration_min, 'min')\n",
    "duration_min_int = [int(numeric_string) for numeric_string in duration_min_end]"
   ]
  },
  {
   "cell_type": "code",
   "execution_count": 30,
   "metadata": {},
   "outputs": [
    {
     "data": {
      "text/plain": [
       "[90, 91, 125, 104, 127, 91, 67, 94, 161]"
      ]
     },
     "execution_count": 30,
     "metadata": {},
     "output_type": "execute_result"
    }
   ],
   "source": [
    "duration_min_int [0:9]"
   ]
  },
  {
   "cell_type": "code",
   "execution_count": 31,
   "metadata": {},
   "outputs": [
    {
     "name": "stdout",
     "output_type": "stream",
     "text": [
      "la media es = 99.57718668407311\n",
      "la desviación estándar es = 28.290593447417397\n",
      "el mínimo es = 3\n",
      "el máximo es = 312\n"
     ]
    }
   ],
   "source": [
    "mean_movie = mean(duration_min_int)\n",
    "stdev_movie = stdev(duration_min_int)\n",
    "min_movie = min(duration_min_int)\n",
    "max_movie = max(duration_min_int)\n",
    "\n",
    "print (\"la media es = {0}\".format(mean_movie))\n",
    "print (\"la desviación estándar es = {0}\".format(stdev_movie))\n",
    "print (\"el mínimo es = {0}\".format(min_movie))\n",
    "print (\"el máximo es = {0}\".format(max_movie))\n"
   ]
  },
  {
   "cell_type": "code",
   "execution_count": 32,
   "metadata": {},
   "outputs": [
    {
     "data": {
      "image/png": "[encoded data removed]",
      "text/plain": [
       "<Figure size 640x480 with 1 Axes>"
      ]
     },
     "metadata": {},
     "output_type": "display_data"
    }
   ],
   "source": [
    "plt.hist(duration_min_int, bins=50)\n",
    "plt.title('Distribución de duración de películas')\n",
    "plt.show()"
   ]
  },
  {
   "cell_type": "code",
   "execution_count": 34,
   "metadata": {},
   "outputs": [
    {
     "name": "stdout",
     "output_type": "stream",
     "text": [
      "[False False False ... False False False]\n",
      "[['s3778' 'Movie' 'Silent' 'Limbert Fabian, Brandon Oldenburg' ''\n",
      "  'United States' 'June 4, 2019' '2014' 'TV-Y' '3 min'\n",
      "  'Children & Family Movies, Sci-Fi & Fantasy'\n",
      "  '\"Silent\" is an animated short film created by Academy Award® winning Moonbot Studios. It celebrates how storytellers, inventors, and technology work together to create cinema magic.']]\n",
      "[False False False ... False False False]\n",
      "[['s4254' 'Movie' 'Black Mirror: Bandersnatch' ''\n",
      "  'Fionn Whitehead, Will Poulter, Craig Parkinson, Alice Lowe, Asim Chaudhry'\n",
      "  'United States' 'December 28, 2018' '2018' 'TV-MA' '312 min'\n",
      "  'Dramas, International Movies, Sci-Fi & Fantasy'\n",
      "  'In 1984, a young programmer begins to question reality as he adapts a dark fantasy novel into a video game. A mind-bending tale with multiple endings.']]\n"
     ]
    }
   ],
   "source": [
    "filter_arr = (duration == '3 min')\n",
    "print(filter_arr)\n",
    "\n",
    "dur_array3min = movies[filter_arr]\n",
    "print(dur_array3min)\n",
    "\n",
    "filter_arr = (duration == '312 min')\n",
    "print(filter_arr)\n",
    "\n",
    "dur_array312min = movies[filter_arr]\n",
    "print(dur_array312min)\n"
   ]
  },
  {
   "cell_type": "code",
   "execution_count": 35,
   "metadata": {},
   "outputs": [
    {
     "name": "stdout",
     "output_type": "stream",
     "text": [
      "Silent\n",
      "Black Mirror: Bandersnatch\n"
     ]
    }
   ],
   "source": [
    "print (movies[3777][2])\n",
    "print (movies[4253][2])"
   ]
  }
 ],
 "metadata": {
  "kernelspec": {
   "display_name": "Python 3",
   "language": "python",
   "name": "python3"
  },
  "language_info": {
   "codemirror_mode": {
    "name": "ipython",
    "version": 3
   },
   "file_extension": ".py",
   "mimetype": "text/x-python",
   "name": "python",
   "nbconvert_exporter": "python",
   "pygments_lexer": "ipython3",
   "version": "3.12.2"
  }
 },
 "nbformat": 4,
 "nbformat_minor": 2
}
