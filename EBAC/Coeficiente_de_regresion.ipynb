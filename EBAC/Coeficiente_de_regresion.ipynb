{
 "cells": [
  {
   "cell_type": "code",
   "execution_count": 1,
   "id": "faa82ddf",
   "metadata": {},
   "outputs": [],
   "source": [
    "import pandas as pd\n",
    "import numpy as np\n",
    "import warnings\n",
    "warnings.filterwarnings(\"ignore\")"
   ]
  },
  {
   "cell_type": "markdown",
   "id": "23c97d25",
   "metadata": {},
   "source": [
    "## Formulas para los coeficientes de regresion"
   ]
  },
  {
   "cell_type": "code",
   "execution_count": null,
   "id": "8eacf964",
   "metadata": {},
   "outputs": [],
   "source": [
    "X = X_train\n",
    "Y = Y_train"
   ]
  },
  {
   "cell_type": "code",
   "execution_count": null,
   "id": "75bb3491",
   "metadata": {},
   "outputs": [],
   "source": [
    "# calcular las transpuestas, la inversa de la matriz y la Beta\n",
    "XT_X = np.matmul(np.matrix.transpose(X), X)\n",
    "XT_Y = np.matmul(np.matrix.transpose(X), Y)\n",
    "XT_X_inv = np.linalg.inv(XT_X)\n",
    "betas = np.matmul(XT_X_inv, XT_Y)"
   ]
  },
  {
   "cell_type": "code",
   "execution_count": null,
   "id": "1fe7401a",
   "metadata": {},
   "outputs": [],
   "source": [
    "# calculo de la suma de cuadrados total (TSS)\n",
    "TSS = np.matmul(np.matrix.transpose(Y), Y) - len(Y) * (Y.mean() **2)\n",
    "TSS\n",
    "\n",
    "# calcular la suma de cuadrados explicada (ESS)\n",
    "ESS = np.matmul(np.matrix.transpose(Y - np.matmul(X, betas)), (Y - np.matmul(X, betas)))\n",
    "ESS\n",
    "\n",
    "# Calculo de la Residual Sum of Squares (RSS)\n",
    "RSS= TSS - ESS\n",
    "RSS \n",
    "\n",
    "# calculo de R2\n",
    "R2 = 1 - (RSS / TSS)\n",
    "R2\n",
    "\n",
    "# Calculo de R2 ajustado\n",
    "R2_AJ = 1 - (RSS / (len(Y) - X.shape[1])) / (TSS / (X.shape[0] - 1))\n",
    "R2_AJ"
   ]
  },
  {
   "cell_type": "markdown",
   "id": "f1653c20",
   "metadata": {},
   "source": [
    "## Formulas para la hipotesis de coeficientes de regresion"
   ]
  },
  {
   "cell_type": "code",
   "execution_count": null,
   "id": "813bda62",
   "metadata": {},
   "outputs": [],
   "source": [
    "# calculo de la varianza del error de la regresion\n",
    "var_error = RSS / (len(Y) - X.shape[1])\n",
    "var_error\n",
    "\n",
    "#valor del i-iesimo columna de la matriz X\n",
    "i = 1\n",
    "\n",
    "# calcular el error estandar del i-iesimo coeficiente\n",
    "error_estandar = np.sqrt(var_error * XT_X_inv[i, i])\n",
    "error_estandar\n"
   ]
  },
  {
   "cell_type": "code",
   "execution_count": null,
   "id": "53059fad",
   "metadata": {},
   "outputs": [],
   "source": [
    "# COMPARACIÓN DIRECTA: SIN NORMALIZAR vs NORMALIZADO\n",
    "print(\"=\"*70)\n",
    "print(\"             COMPARACIÓN DE RESULTADOS\")\n",
    "print(\"=\"*70)\n",
    "print(f\"{'Métrica':<25} {'Sin Normalizar':<20} {'Normalizado':<15} {'Correcto':<10}\")\n",
    "print(\"-\"*70)\n",
    "print(f\"{'R²':<25} {-34.56:<20.6f} {R_squared_norm:<15.6f} {'✅' if R_squared_norm > 0 else '❌'}\")\n",
    "print(f\"{'R² Ajustado':<25} {'N/A':<20} {R_squared_adj_norm:<15.6f} {'✅'}\")\n",
    "print(f\"{'RSS':<25} {RSS:<20.2e} {RSS_norm:<15.6f} {'✅'}\")\n",
    "print(f\"{'TSS':<25} {TSS:<20.2e} {TSS_norm:<15.6f} {'✅'}\")\n",
    "print(f\"{'Predicciones válidas':<25} {'NO (negativas)':<20} {'SÍ':<15} {'✅'}\")\n",
    "print(\"=\"*70)\n",
    "\n",
    "print(\"\\n🎯 CONCLUSIÓN:\")\n",
    "print(\"La normalización fue ESENCIAL para obtener resultados válidos.\")\n",
    "print(\"Sin normalización: Modelo completamente inválido\")\n",
    "print(\"Con normalización: R² = 64.7% (muy bueno para este tipo de datos)\")"
   ]
  },
  {
   "cell_type": "code",
   "execution_count": null,
   "id": "54df72de",
   "metadata": {},
   "outputs": [],
   "source": [
    "print(\"=\"*55)\n",
    "print(\"                    TABLA RESUMEN DE SIGNIFICANCIA\")\n",
    "print(\"=\"*55)\n",
    "\n",
    "# Evaluar cada criterio\n",
    "resultados = []\n",
    "for i in range(X_final.shape[1]):\n",
    "    # Criterio 1: Comparación con valor crítico de t\n",
    "    criterio1 = \"SÍ\" if abs(valores_t[i]) > t_critico else \"NO\"\n",
    "    # Criterio 2: Comparación con valor p\n",
    "    criterio2 = \"SÍ\" if valores_p[i] < 0.05 else \"NO\"\n",
    "    # Criterio 3: Intervalo de confianza no contiene 0\n",
    "    inf = IC_inferior[i]\n",
    "    sup = IC_superior[i]\n",
    "    criterio3 = \"SÍ\" if inf * sup > 0 else \"NO\"\n",
    "    \n",
    "    # Consenso: SÍ si al menos 2 de 3 criterios dicen SÍ\n",
    "    consenso_count = [criterio1, criterio2, criterio3].count(\"SÍ\")\n",
    "    consenso = \"SÍ\" if consenso_count >= 2 else \"NO\"\n",
    "    \n",
    "    resultados.append({\n",
    "        'Beta': f\"β{i}\",\n",
    "        'Criterio 1 (|t|>t_crit)': criterio1,\n",
    "        'Criterio 2 (p<0.05)': criterio2,\n",
    "        'Criterio 3 (IC no⊃0)': criterio3,\n",
    "        'Significativo': consenso\n",
    "    })\n",
    "\n",
    "# Crear DataFrame\n",
    "df_significancia = pd.DataFrame(resultados)\n",
    "\n",
    "# Mostrar la tabla\n",
    "print(f\"{'Beta':<4} {'Crit1':<6} {'Crit2':<6} {'Crit3':<6} {'Significativo':<10}\")\n",
    "print(\"-\" * 55)\n",
    "\n",
    "for _, row in df_significancia.iterrows():\n",
    "    print(f\"{row['Beta']:<4} {row['Criterio 1 (|t|>t_crit)']:<6} {row['Criterio 2 (p<0.05)']:<6} {row['Criterio 3 (IC no⊃0)']:<6} {row['Significativo']:<8}\")\n",
    "\n",
    "print(\"=\"*55)"
   ]
  }
 ],
 "metadata": {
  "kernelspec": {
   "display_name": "Benmaza",
   "language": "python",
   "name": "python3"
  },
  "language_info": {
   "codemirror_mode": {
    "name": "ipython",
    "version": 3
   },
   "file_extension": ".py",
   "mimetype": "text/x-python",
   "name": "python",
   "nbconvert_exporter": "python",
   "pygments_lexer": "ipython3",
   "version": "3.13.5"
  }
 },
 "nbformat": 4,
 "nbformat_minor": 5
}
