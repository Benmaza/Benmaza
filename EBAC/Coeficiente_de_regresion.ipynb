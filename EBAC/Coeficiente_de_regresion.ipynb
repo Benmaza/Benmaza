{
 "cells": [
  {
   "cell_type": "code",
   "execution_count": 1,
   "id": "faa82ddf",
   "metadata": {},
   "outputs": [],
   "source": [
    "import pandas as pd\n",
    "import numpy as np\n",
    "import warnings\n",
    "warnings.filterwarnings(\"ignore\")"
   ]
  },
  {
   "cell_type": "markdown",
   "id": "23c97d25",
   "metadata": {},
   "source": [
    "## Formulas para los coeficientes de regresion"
   ]
  },
  {
   "cell_type": "code",
   "execution_count": null,
   "id": "8eacf964",
   "metadata": {},
   "outputs": [],
   "source": [
    "X = X_train\n",
    "Y = Y_train"
   ]
  },
  {
   "cell_type": "code",
   "execution_count": null,
   "id": "75bb3491",
   "metadata": {},
   "outputs": [],
   "source": [
    "# calcular las transpuestas, la inversa de la matriz y la Beta\n",
    "XT_X = np.matmul(np.matrix.transpose(X), X)\n",
    "XT_Y = np.matmul(np.matrix.transpose(X), Y)\n",
    "XT_X_inv = np.linalg.inv(XT_X)\n",
    "betas = np.matmul(XT_X_inv, XT_Y)"
   ]
  },
  {
   "cell_type": "code",
   "execution_count": null,
   "id": "1fe7401a",
   "metadata": {},
   "outputs": [],
   "source": [
    "# calculo de la suma de cuadrados total (TSS)\n",
    "TSS = np.matmul(np.matrix.transpose(Y), Y) - len(Y) * (Y.mean() **2)\n",
    "TSS\n",
    "\n",
    "# calcular la suma de cuadrados explicada (ESS)\n",
    "ESS = np.matmul(np.matrix.transpose(Y - np.matmul(X, betas)), (Y - np.matmul(X, betas)))\n",
    "ESS\n",
    "\n",
    "# Calculo de la Residual Sum of Squares (RSS)\n",
    "RSS= TSS - ESS\n",
    "RSS \n",
    "\n",
    "# calculo de R2\n",
    "R2 = 1 - (RSS / TSS)\n",
    "R2\n",
    "\n",
    "# Calculo de R2 ajustado\n",
    "R2_AJ = 1 - (RSS / (len(Y) - X.shape[1])) / (TSS / (X.shape[0] - 1))\n",
    "R2_AJ"
   ]
  },
  {
   "cell_type": "markdown",
   "id": "f1653c20",
   "metadata": {},
   "source": [
    "## Formulas para la hipotesis de coeficientes de regresion"
   ]
  },
  {
   "cell_type": "code",
   "execution_count": null,
   "id": "813bda62",
   "metadata": {},
   "outputs": [],
   "source": [
    "# calculo de la varianza del error de la regresion\n",
    "var_error = RSS / (len(Y) - X.shape[1])\n",
    "var_error\n",
    "\n",
    "#valor del i-iesimo columna de la matriz X\n",
    "i = 1\n",
    "\n",
    "# calcular el error estandar del i-iesimo coeficiente\n",
    "error_estandar = np.sqrt(var_error * XT_X_inv[i, i])\n",
    "error_estandar\n"
   ]
  }
 ],
 "metadata": {
  "kernelspec": {
   "display_name": "Benmaza",
   "language": "python",
   "name": "python3"
  },
  "language_info": {
   "codemirror_mode": {
    "name": "ipython",
    "version": 3
   },
   "file_extension": ".py",
   "mimetype": "text/x-python",
   "name": "python",
   "nbconvert_exporter": "python",
   "pygments_lexer": "ipython3",
   "version": "3.13.5"
  }
 },
 "nbformat": 4,
 "nbformat_minor": 5
}
