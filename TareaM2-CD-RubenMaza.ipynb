{
 "cells": [
  {
   "cell_type": "markdown",
   "metadata": {},
   "source": [
    "# Tarea 2.10 Actividad Practica"
   ]
  },
  {
   "cell_type": "code",
   "execution_count": 10,
   "metadata": {},
   "outputs": [
    {
     "name": "stdout",
     "output_type": "stream",
     "text": [
      "\n",
      "las palabras separadas que ingreso  ['El', 'amor', 'es', 'una', 'locura', 'que', 'ni', 'el', 'cura', 'lo', 'cura,', 'porque', 'si', 'el', 'cura', 'lo', 'cura', 'seria', 'una', 'locura', 'del', 'cura.']\n",
      "\n",
      "Con un total de: 22 palabras\n",
      "\n",
      "De las cuales se repiten en tales ocasiones: \n"
     ]
    }
   ],
   "source": [
    "# Ingresa el texto que se quiere separar en palabras y contar cuantas veces se repite cada una\n",
    "# Se usa el metodo split para separar el texto en palabras\n",
    "\n",
    "texto = input(\"ingrese el texto que quiere separar en palabras: \")\n",
    "palabras = texto.split()\n",
    "print(\"\\nlas palabras separadas que ingreso \", palabras)\n",
    "# len cuenta cuantas palabras hay en la lista\n",
    "print(\"\\nCon un total de:\", len(palabras), \"palabras\") "
   ]
  },
  {
   "cell_type": "code",
   "execution_count": 11,
   "metadata": {},
   "outputs": [
    {
     "name": "stdout",
     "output_type": "stream",
     "text": [
      "\n",
      "De las cuales se repiten en tales ocasiones: \n",
      "La palabra ' El ' se repite ' 1 ' veces\n",
      "La palabra ' amor ' se repite ' 1 ' veces\n",
      "La palabra ' es ' se repite ' 1 ' veces\n",
      "La palabra ' una ' se repite ' 2 ' veces\n",
      "La palabra ' locura ' se repite ' 2 ' veces\n",
      "La palabra ' que ' se repite ' 1 ' veces\n",
      "La palabra ' ni ' se repite ' 1 ' veces\n",
      "La palabra ' el ' se repite ' 2 ' veces\n",
      "La palabra ' cura ' se repite ' 3 ' veces\n",
      "La palabra ' lo ' se repite ' 2 ' veces\n",
      "La palabra ' cura, ' se repite ' 1 ' veces\n",
      "La palabra ' porque ' se repite ' 1 ' veces\n",
      "La palabra ' si ' se repite ' 1 ' veces\n",
      "La palabra ' seria ' se repite ' 1 ' veces\n",
      "La palabra ' del ' se repite ' 1 ' veces\n",
      "La palabra ' cura. ' se repite ' 1 ' veces\n",
      "\n",
      "Se puede comprobar sumando los valores de las repeticiones:  22\n"
     ]
    }
   ],
   "source": [
    "print(\"\\nDe las cuales se repiten en tales ocasiones: \") \n",
    "\n",
    "# Se usa el metodo count para contar cuantas veces se repite cada palabra\n",
    "conteo= dict() # crea un diccionario vacio\n",
    "for palabra in palabras: # recorre cada palabra de la lista\n",
    "    conteo[palabra] = conteo.get(palabra,0) + 1\n",
    "for k,v in conteo.items(): # despliega v valor y k llave\n",
    "    print(\"La palabra '\",k ,\"' se repite '\",v ,\"' veces\" ) # imprime la palabra y cuantas veces se repite\n",
    "\n",
    "# Se puede comprobar sumando los valores de las repeticiones\n",
    "print(\"\\nSe puede comprobar sumando los valores de las repeticiones: \", sum(conteo.values()))"
   ]
  }
 ],
 "metadata": {
  "kernelspec": {
   "display_name": "Python 3",
   "language": "python",
   "name": "python3"
  },
  "language_info": {
   "codemirror_mode": {
    "name": "ipython",
    "version": 3
   },
   "file_extension": ".py",
   "mimetype": "text/x-python",
   "name": "python",
   "nbconvert_exporter": "python",
   "pygments_lexer": "ipython3",
   "version": "3.11.7"
  }
 },
 "nbformat": 4,
 "nbformat_minor": 2
}
