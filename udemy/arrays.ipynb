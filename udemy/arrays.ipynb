{
 "cells": [
  {
   "cell_type": "code",
   "execution_count": 1,
   "metadata": {},
   "outputs": [],
   "source": [
    "import numpy as np\n"
   ]
  },
  {
   "cell_type": "code",
   "execution_count": 3,
   "metadata": {},
   "outputs": [
    {
     "name": "stdout",
     "output_type": "stream",
     "text": [
      "Addition of two arrays:  [5 5 5]\n",
      "Subtraction of two arrays:  [-1 -1 -1]\n",
      "Multiplication of two arrays:  [6 6 6]\n"
     ]
    }
   ],
   "source": [
    "myarray1 = np.array([2,2,2])\n",
    "myarray2 = np.array([3,3,3])\n",
    "\n",
    "print(\"Addition of two arrays: \", myarray1 + myarray2)\n",
    "print(\"Subtraction of two arrays: \", myarray1 - myarray2)\n",
    "print(\"Multiplication of two arrays: \", myarray1 * myarray2)"
   ]
  }
 ],
 "metadata": {
  "kernelspec": {
   "display_name": "Python 3",
   "language": "python",
   "name": "python3"
  },
  "language_info": {
   "codemirror_mode": {
    "name": "ipython",
    "version": 3
   },
   "file_extension": ".py",
   "mimetype": "text/x-python",
   "name": "python",
   "nbconvert_exporter": "python",
   "pygments_lexer": "ipython3",
   "version": "3.12.5"
  }
 },
 "nbformat": 4,
 "nbformat_minor": 2
}
