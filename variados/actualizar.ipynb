{
 "cells": [
  {
   "cell_type": "code",
   "execution_count": null,
   "metadata": {},
   "outputs": [],
   "source": [
    "!python -m pip install --upgrade pip"
   ]
  },
  {
   "cell_type": "code",
   "execution_count": null,
   "metadata": {},
   "outputs": [],
   "source": [
    "# actualizar setuptools\n",
    "\n",
    "!pip install --upgrade setuptools"
   ]
  },
  {
   "cell_type": "code",
   "execution_count": null,
   "metadata": {},
   "outputs": [],
   "source": [
    "#actualizar python en anaconda prompt\n",
    "\n",
    "!conda update python\n",
    "\n",
    "\n",
    "!pip install python==3.12.7"
   ]
  },
  {
   "cell_type": "code",
   "execution_count": null,
   "metadata": {},
   "outputs": [],
   "source": [
    "!python -m pip install --upgrade matplotlib\n",
    "!python -m pip install --upgrade pandas\n",
    "!python -m pip install --upgrade ggplot\n",
    "!python -m pip install --upgrade seaborn\n",
    "!python -m pip install --upgrade numpy\n",
    "!python -m pip install --upgrade scipy\n",
    "!python -m pip install --upgrade statsmodels\n",
    "!python -m pip install --upgrade plotly\n",
    "!python -m pip install --upgrade bokeh\n",
    "!python -m pip install --upgrade scikit-learn\n",
    "!python -m pip install --upgrade tensorflow\n",
    "!python -m pip install --upgrade regex\n",
    "!python -m pip install --upgrade python-Levenshtein\n",
    "!python -m pip install --upgrade wheel"
   ]
  },
  {
   "cell_type": "code",
   "execution_count": null,
   "metadata": {},
   "outputs": [],
   "source": [
    "# instalar dataprep\n",
    "\n",
    "!python -m pip install --upgrade dataprep"
   ]
  }
 ],
 "metadata": {
  "kernelspec": {
   "display_name": "Benmaza",
   "language": "python",
   "name": "python3"
  },
  "language_info": {
   "codemirror_mode": {
    "name": "ipython",
    "version": 3
   },
   "file_extension": ".py",
   "mimetype": "text/x-python",
   "name": "python",
   "nbconvert_exporter": "python",
   "pygments_lexer": "ipython3",
   "version": "3.13.0"
  }
 },
 "nbformat": 4,
 "nbformat_minor": 2
}
